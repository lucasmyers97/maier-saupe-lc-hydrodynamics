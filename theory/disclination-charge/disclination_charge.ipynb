{
 "cells": [
  {
   "cell_type": "code",
   "execution_count": 1,
   "id": "81020625-7e39-4227-9ac6-c416cd87e95b",
   "metadata": {},
   "outputs": [],
   "source": [
    "from sympy import *"
   ]
  },
  {
   "cell_type": "code",
   "execution_count": 4,
   "id": "8fe5ea8f-ca61-41dc-b696-456cfaf6df4e",
   "metadata": {},
   "outputs": [
    {
     "data": {
      "text/latex": [
       "$\\displaystyle \\left[\\begin{matrix}Q_{0}{\\left(x,y,z \\right)}\\\\Q_{1}{\\left(x,y,z \\right)}\\\\Q_{2}{\\left(x,y,z \\right)}\\\\Q_{3}{\\left(x,y,z \\right)}\\\\Q_{4}{\\left(x,y,z \\right)}\\end{matrix}\\right]$"
      ],
      "text/plain": [
       "Matrix([\n",
       "[Q_0(x, y, z)],\n",
       "[Q_1(x, y, z)],\n",
       "[Q_2(x, y, z)],\n",
       "[Q_3(x, y, z)],\n",
       "[Q_4(x, y, z)]])"
      ]
     },
     "metadata": {},
     "output_type": "display_data"
    }
   ],
   "source": [
    "x, y, z = symbols('x y z', real=True)\n",
    "r = Matrix([x, y, z])\n",
    "Q_vec = Matrix([Function('Q_{}'.format(i), real=True)(x, y, z) for i in range(5)])\n",
    "\n",
    "display(Q_vec)"
   ]
  },
  {
   "cell_type": "code",
   "execution_count": 5,
   "id": "3531641c-f219-437f-9b74-69b9a9424827",
   "metadata": {},
   "outputs": [
    {
     "data": {
      "text/latex": [
       "$\\displaystyle \\left[\\begin{matrix}Q_{0}{\\left(x,y,z \\right)} & Q_{1}{\\left(x,y,z \\right)} & Q_{2}{\\left(x,y,z \\right)}\\\\Q_{1}{\\left(x,y,z \\right)} & Q_{3}{\\left(x,y,z \\right)} & Q_{4}{\\left(x,y,z \\right)}\\\\Q_{2}{\\left(x,y,z \\right)} & Q_{4}{\\left(x,y,z \\right)} & - Q_{0}{\\left(x,y,z \\right)} - Q_{3}{\\left(x,y,z \\right)}\\end{matrix}\\right]$"
      ],
      "text/plain": [
       "Matrix([\n",
       "[Q_0(x, y, z), Q_1(x, y, z),                 Q_2(x, y, z)],\n",
       "[Q_1(x, y, z), Q_3(x, y, z),                 Q_4(x, y, z)],\n",
       "[Q_2(x, y, z), Q_4(x, y, z), -Q_0(x, y, z) - Q_3(x, y, z)]])"
      ]
     },
     "metadata": {},
     "output_type": "display_data"
    }
   ],
   "source": [
    "Q_mat = Matrix([[Q_vec[0], Q_vec[1], Q_vec[2]],\n",
    "                [Q_vec[1], Q_vec[3], Q_vec[4]],\n",
    "                [Q_vec[2], Q_vec[4], -(Q_vec[0] + Q_vec[3])]])\n",
    "\n",
    "display(Q_mat)"
   ]
  },
  {
   "cell_type": "code",
   "execution_count": 10,
   "id": "76981eab-ab8a-48a6-b1e1-c33409e2b0eb",
   "metadata": {},
   "outputs": [
    {
     "data": {
      "text/latex": [
       "$\\displaystyle \\left[\\begin{matrix}2 \\frac{\\partial}{\\partial y} Q_{0}{\\left(x,y,z \\right)} \\frac{\\partial}{\\partial z} Q_{4}{\\left(x,y,z \\right)} - 2 \\frac{\\partial}{\\partial z} Q_{0}{\\left(x,y,z \\right)} \\frac{\\partial}{\\partial y} Q_{4}{\\left(x,y,z \\right)} + 2 \\frac{\\partial}{\\partial y} Q_{1}{\\left(x,y,z \\right)} \\frac{\\partial}{\\partial z} Q_{2}{\\left(x,y,z \\right)} - 2 \\frac{\\partial}{\\partial z} Q_{1}{\\left(x,y,z \\right)} \\frac{\\partial}{\\partial y} Q_{2}{\\left(x,y,z \\right)} + 4 \\frac{\\partial}{\\partial y} Q_{3}{\\left(x,y,z \\right)} \\frac{\\partial}{\\partial z} Q_{4}{\\left(x,y,z \\right)} - 4 \\frac{\\partial}{\\partial z} Q_{3}{\\left(x,y,z \\right)} \\frac{\\partial}{\\partial y} Q_{4}{\\left(x,y,z \\right)} & - 2 \\frac{\\partial}{\\partial x} Q_{0}{\\left(x,y,z \\right)} \\frac{\\partial}{\\partial z} Q_{4}{\\left(x,y,z \\right)} + 2 \\frac{\\partial}{\\partial z} Q_{0}{\\left(x,y,z \\right)} \\frac{\\partial}{\\partial x} Q_{4}{\\left(x,y,z \\right)} - 2 \\frac{\\partial}{\\partial x} Q_{1}{\\left(x,y,z \\right)} \\frac{\\partial}{\\partial z} Q_{2}{\\left(x,y,z \\right)} + 2 \\frac{\\partial}{\\partial z} Q_{1}{\\left(x,y,z \\right)} \\frac{\\partial}{\\partial x} Q_{2}{\\left(x,y,z \\right)} - 4 \\frac{\\partial}{\\partial x} Q_{3}{\\left(x,y,z \\right)} \\frac{\\partial}{\\partial z} Q_{4}{\\left(x,y,z \\right)} + 4 \\frac{\\partial}{\\partial z} Q_{3}{\\left(x,y,z \\right)} \\frac{\\partial}{\\partial x} Q_{4}{\\left(x,y,z \\right)} & 2 \\frac{\\partial}{\\partial x} Q_{0}{\\left(x,y,z \\right)} \\frac{\\partial}{\\partial y} Q_{4}{\\left(x,y,z \\right)} - 2 \\frac{\\partial}{\\partial y} Q_{0}{\\left(x,y,z \\right)} \\frac{\\partial}{\\partial x} Q_{4}{\\left(x,y,z \\right)} + 2 \\frac{\\partial}{\\partial x} Q_{1}{\\left(x,y,z \\right)} \\frac{\\partial}{\\partial y} Q_{2}{\\left(x,y,z \\right)} - 2 \\frac{\\partial}{\\partial y} Q_{1}{\\left(x,y,z \\right)} \\frac{\\partial}{\\partial x} Q_{2}{\\left(x,y,z \\right)} + 4 \\frac{\\partial}{\\partial x} Q_{3}{\\left(x,y,z \\right)} \\frac{\\partial}{\\partial y} Q_{4}{\\left(x,y,z \\right)} - 4 \\frac{\\partial}{\\partial y} Q_{3}{\\left(x,y,z \\right)} \\frac{\\partial}{\\partial x} Q_{4}{\\left(x,y,z \\right)}\\\\- 4 \\frac{\\partial}{\\partial y} Q_{0}{\\left(x,y,z \\right)} \\frac{\\partial}{\\partial z} Q_{2}{\\left(x,y,z \\right)} + 4 \\frac{\\partial}{\\partial z} Q_{0}{\\left(x,y,z \\right)} \\frac{\\partial}{\\partial y} Q_{2}{\\left(x,y,z \\right)} - 2 \\frac{\\partial}{\\partial y} Q_{1}{\\left(x,y,z \\right)} \\frac{\\partial}{\\partial z} Q_{4}{\\left(x,y,z \\right)} + 2 \\frac{\\partial}{\\partial z} Q_{1}{\\left(x,y,z \\right)} \\frac{\\partial}{\\partial y} Q_{4}{\\left(x,y,z \\right)} + 2 \\frac{\\partial}{\\partial y} Q_{2}{\\left(x,y,z \\right)} \\frac{\\partial}{\\partial z} Q_{3}{\\left(x,y,z \\right)} - 2 \\frac{\\partial}{\\partial z} Q_{2}{\\left(x,y,z \\right)} \\frac{\\partial}{\\partial y} Q_{3}{\\left(x,y,z \\right)} & 4 \\frac{\\partial}{\\partial x} Q_{0}{\\left(x,y,z \\right)} \\frac{\\partial}{\\partial z} Q_{2}{\\left(x,y,z \\right)} - 4 \\frac{\\partial}{\\partial z} Q_{0}{\\left(x,y,z \\right)} \\frac{\\partial}{\\partial x} Q_{2}{\\left(x,y,z \\right)} + 2 \\frac{\\partial}{\\partial x} Q_{1}{\\left(x,y,z \\right)} \\frac{\\partial}{\\partial z} Q_{4}{\\left(x,y,z \\right)} - 2 \\frac{\\partial}{\\partial z} Q_{1}{\\left(x,y,z \\right)} \\frac{\\partial}{\\partial x} Q_{4}{\\left(x,y,z \\right)} - 2 \\frac{\\partial}{\\partial x} Q_{2}{\\left(x,y,z \\right)} \\frac{\\partial}{\\partial z} Q_{3}{\\left(x,y,z \\right)} + 2 \\frac{\\partial}{\\partial z} Q_{2}{\\left(x,y,z \\right)} \\frac{\\partial}{\\partial x} Q_{3}{\\left(x,y,z \\right)} & - 4 \\frac{\\partial}{\\partial x} Q_{0}{\\left(x,y,z \\right)} \\frac{\\partial}{\\partial y} Q_{2}{\\left(x,y,z \\right)} + 4 \\frac{\\partial}{\\partial y} Q_{0}{\\left(x,y,z \\right)} \\frac{\\partial}{\\partial x} Q_{2}{\\left(x,y,z \\right)} - 2 \\frac{\\partial}{\\partial x} Q_{1}{\\left(x,y,z \\right)} \\frac{\\partial}{\\partial y} Q_{4}{\\left(x,y,z \\right)} + 2 \\frac{\\partial}{\\partial y} Q_{1}{\\left(x,y,z \\right)} \\frac{\\partial}{\\partial x} Q_{4}{\\left(x,y,z \\right)} + 2 \\frac{\\partial}{\\partial x} Q_{2}{\\left(x,y,z \\right)} \\frac{\\partial}{\\partial y} Q_{3}{\\left(x,y,z \\right)} - 2 \\frac{\\partial}{\\partial y} Q_{2}{\\left(x,y,z \\right)} \\frac{\\partial}{\\partial x} Q_{3}{\\left(x,y,z \\right)}\\\\2 \\frac{\\partial}{\\partial y} Q_{0}{\\left(x,y,z \\right)} \\frac{\\partial}{\\partial z} Q_{1}{\\left(x,y,z \\right)} - 2 \\frac{\\partial}{\\partial z} Q_{0}{\\left(x,y,z \\right)} \\frac{\\partial}{\\partial y} Q_{1}{\\left(x,y,z \\right)} + 2 \\frac{\\partial}{\\partial y} Q_{1}{\\left(x,y,z \\right)} \\frac{\\partial}{\\partial z} Q_{3}{\\left(x,y,z \\right)} - 2 \\frac{\\partial}{\\partial z} Q_{1}{\\left(x,y,z \\right)} \\frac{\\partial}{\\partial y} Q_{3}{\\left(x,y,z \\right)} + 2 \\frac{\\partial}{\\partial y} Q_{2}{\\left(x,y,z \\right)} \\frac{\\partial}{\\partial z} Q_{4}{\\left(x,y,z \\right)} - 2 \\frac{\\partial}{\\partial z} Q_{2}{\\left(x,y,z \\right)} \\frac{\\partial}{\\partial y} Q_{4}{\\left(x,y,z \\right)} & - 2 \\frac{\\partial}{\\partial x} Q_{0}{\\left(x,y,z \\right)} \\frac{\\partial}{\\partial z} Q_{1}{\\left(x,y,z \\right)} + 2 \\frac{\\partial}{\\partial z} Q_{0}{\\left(x,y,z \\right)} \\frac{\\partial}{\\partial x} Q_{1}{\\left(x,y,z \\right)} - 2 \\frac{\\partial}{\\partial x} Q_{1}{\\left(x,y,z \\right)} \\frac{\\partial}{\\partial z} Q_{3}{\\left(x,y,z \\right)} + 2 \\frac{\\partial}{\\partial z} Q_{1}{\\left(x,y,z \\right)} \\frac{\\partial}{\\partial x} Q_{3}{\\left(x,y,z \\right)} - 2 \\frac{\\partial}{\\partial x} Q_{2}{\\left(x,y,z \\right)} \\frac{\\partial}{\\partial z} Q_{4}{\\left(x,y,z \\right)} + 2 \\frac{\\partial}{\\partial z} Q_{2}{\\left(x,y,z \\right)} \\frac{\\partial}{\\partial x} Q_{4}{\\left(x,y,z \\right)} & 2 \\frac{\\partial}{\\partial x} Q_{0}{\\left(x,y,z \\right)} \\frac{\\partial}{\\partial y} Q_{1}{\\left(x,y,z \\right)} - 2 \\frac{\\partial}{\\partial y} Q_{0}{\\left(x,y,z \\right)} \\frac{\\partial}{\\partial x} Q_{1}{\\left(x,y,z \\right)} + 2 \\frac{\\partial}{\\partial x} Q_{1}{\\left(x,y,z \\right)} \\frac{\\partial}{\\partial y} Q_{3}{\\left(x,y,z \\right)} - 2 \\frac{\\partial}{\\partial y} Q_{1}{\\left(x,y,z \\right)} \\frac{\\partial}{\\partial x} Q_{3}{\\left(x,y,z \\right)} + 2 \\frac{\\partial}{\\partial x} Q_{2}{\\left(x,y,z \\right)} \\frac{\\partial}{\\partial y} Q_{4}{\\left(x,y,z \\right)} - 2 \\frac{\\partial}{\\partial y} Q_{2}{\\left(x,y,z \\right)} \\frac{\\partial}{\\partial x} Q_{4}{\\left(x,y,z \\right)}\\end{matrix}\\right]$"
      ],
      "text/plain": [
       "Matrix([\n",
       "[ 2*Derivative(Q_0(x, y, z), y)*Derivative(Q_4(x, y, z), z) - 2*Derivative(Q_0(x, y, z), z)*Derivative(Q_4(x, y, z), y) + 2*Derivative(Q_1(x, y, z), y)*Derivative(Q_2(x, y, z), z) - 2*Derivative(Q_1(x, y, z), z)*Derivative(Q_2(x, y, z), y) + 4*Derivative(Q_3(x, y, z), y)*Derivative(Q_4(x, y, z), z) - 4*Derivative(Q_3(x, y, z), z)*Derivative(Q_4(x, y, z), y), -2*Derivative(Q_0(x, y, z), x)*Derivative(Q_4(x, y, z), z) + 2*Derivative(Q_0(x, y, z), z)*Derivative(Q_4(x, y, z), x) - 2*Derivative(Q_1(x, y, z), x)*Derivative(Q_2(x, y, z), z) + 2*Derivative(Q_1(x, y, z), z)*Derivative(Q_2(x, y, z), x) - 4*Derivative(Q_3(x, y, z), x)*Derivative(Q_4(x, y, z), z) + 4*Derivative(Q_3(x, y, z), z)*Derivative(Q_4(x, y, z), x),  2*Derivative(Q_0(x, y, z), x)*Derivative(Q_4(x, y, z), y) - 2*Derivative(Q_0(x, y, z), y)*Derivative(Q_4(x, y, z), x) + 2*Derivative(Q_1(x, y, z), x)*Derivative(Q_2(x, y, z), y) - 2*Derivative(Q_1(x, y, z), y)*Derivative(Q_2(x, y, z), x) + 4*Derivative(Q_3(x, y, z), x)*Derivative(Q_4(x, y, z), y) - 4*Derivative(Q_3(x, y, z), y)*Derivative(Q_4(x, y, z), x)],\n",
       "[-4*Derivative(Q_0(x, y, z), y)*Derivative(Q_2(x, y, z), z) + 4*Derivative(Q_0(x, y, z), z)*Derivative(Q_2(x, y, z), y) - 2*Derivative(Q_1(x, y, z), y)*Derivative(Q_4(x, y, z), z) + 2*Derivative(Q_1(x, y, z), z)*Derivative(Q_4(x, y, z), y) + 2*Derivative(Q_2(x, y, z), y)*Derivative(Q_3(x, y, z), z) - 2*Derivative(Q_2(x, y, z), z)*Derivative(Q_3(x, y, z), y),  4*Derivative(Q_0(x, y, z), x)*Derivative(Q_2(x, y, z), z) - 4*Derivative(Q_0(x, y, z), z)*Derivative(Q_2(x, y, z), x) + 2*Derivative(Q_1(x, y, z), x)*Derivative(Q_4(x, y, z), z) - 2*Derivative(Q_1(x, y, z), z)*Derivative(Q_4(x, y, z), x) - 2*Derivative(Q_2(x, y, z), x)*Derivative(Q_3(x, y, z), z) + 2*Derivative(Q_2(x, y, z), z)*Derivative(Q_3(x, y, z), x), -4*Derivative(Q_0(x, y, z), x)*Derivative(Q_2(x, y, z), y) + 4*Derivative(Q_0(x, y, z), y)*Derivative(Q_2(x, y, z), x) - 2*Derivative(Q_1(x, y, z), x)*Derivative(Q_4(x, y, z), y) + 2*Derivative(Q_1(x, y, z), y)*Derivative(Q_4(x, y, z), x) + 2*Derivative(Q_2(x, y, z), x)*Derivative(Q_3(x, y, z), y) - 2*Derivative(Q_2(x, y, z), y)*Derivative(Q_3(x, y, z), x)],\n",
       "[ 2*Derivative(Q_0(x, y, z), y)*Derivative(Q_1(x, y, z), z) - 2*Derivative(Q_0(x, y, z), z)*Derivative(Q_1(x, y, z), y) + 2*Derivative(Q_1(x, y, z), y)*Derivative(Q_3(x, y, z), z) - 2*Derivative(Q_1(x, y, z), z)*Derivative(Q_3(x, y, z), y) + 2*Derivative(Q_2(x, y, z), y)*Derivative(Q_4(x, y, z), z) - 2*Derivative(Q_2(x, y, z), z)*Derivative(Q_4(x, y, z), y), -2*Derivative(Q_0(x, y, z), x)*Derivative(Q_1(x, y, z), z) + 2*Derivative(Q_0(x, y, z), z)*Derivative(Q_1(x, y, z), x) - 2*Derivative(Q_1(x, y, z), x)*Derivative(Q_3(x, y, z), z) + 2*Derivative(Q_1(x, y, z), z)*Derivative(Q_3(x, y, z), x) - 2*Derivative(Q_2(x, y, z), x)*Derivative(Q_4(x, y, z), z) + 2*Derivative(Q_2(x, y, z), z)*Derivative(Q_4(x, y, z), x),  2*Derivative(Q_0(x, y, z), x)*Derivative(Q_1(x, y, z), y) - 2*Derivative(Q_0(x, y, z), y)*Derivative(Q_1(x, y, z), x) + 2*Derivative(Q_1(x, y, z), x)*Derivative(Q_3(x, y, z), y) - 2*Derivative(Q_1(x, y, z), y)*Derivative(Q_3(x, y, z), x) + 2*Derivative(Q_2(x, y, z), x)*Derivative(Q_4(x, y, z), y) - 2*Derivative(Q_2(x, y, z), y)*Derivative(Q_4(x, y, z), x)]])"
      ]
     },
     "metadata": {},
     "output_type": "display_data"
    }
   ],
   "source": [
    "D = zeros(3)\n",
    "\n",
    "for gamma in range(3):\n",
    "    for i in range(3):\n",
    "        D[gamma, i] = sum( Eijk(gamma, mu, nu) * Eijk(i, k, l) * Q_mat[mu, alpha].diff(r[k]) * Q_mat[nu, alpha].diff(r[l])\n",
    "                           for mu in range(3)\n",
    "                           for nu in range(3)\n",
    "                           for k in range(3)\n",
    "                           for l in range(3)\n",
    "                           for alpha in range(3)\n",
    "                         )\n",
    "\n",
    "D = simplify(D)\n",
    "display(D)"
   ]
  }
 ],
 "metadata": {
  "kernelspec": {
   "display_name": "Python 3 (ipykernel)",
   "language": "python",
   "name": "python3"
  },
  "language_info": {
   "codemirror_mode": {
    "name": "ipython",
    "version": 3
   },
   "file_extension": ".py",
   "mimetype": "text/x-python",
   "name": "python",
   "nbconvert_exporter": "python",
   "pygments_lexer": "ipython3",
   "version": "3.9.18"
  }
 },
 "nbformat": 4,
 "nbformat_minor": 5
}
