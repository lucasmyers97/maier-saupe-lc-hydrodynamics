{
 "cells": [
  {
   "cell_type": "code",
   "execution_count": 1,
   "id": "2b19803e-3cc5-458e-bf1c-a36a37267282",
   "metadata": {},
   "outputs": [],
   "source": [
    "from sympy import *"
   ]
  },
  {
   "cell_type": "code",
   "execution_count": 2,
   "id": "6030988e-944c-4e3c-82a8-86a2f4035fbd",
   "metadata": {},
   "outputs": [],
   "source": [
    "r, R = symbols('r R', nonnegative=True)\n",
    "phi, z = symbols('varphi z', real=True)"
   ]
  },
  {
   "cell_type": "code",
   "execution_count": 3,
   "id": "05773d0d-d46f-413b-a188-4b43037e3408",
   "metadata": {},
   "outputs": [],
   "source": [
    "alpha = 0\n",
    "beta = 2*atan(r / R)"
   ]
  },
  {
   "cell_type": "code",
   "execution_count": 4,
   "id": "1049d22f-2d2f-4fea-bf1f-7394b0836c23",
   "metadata": {},
   "outputs": [
    {
     "data": {
      "text/latex": [
       "$\\displaystyle \\left[\\begin{matrix}\\sin{\\left(2 \\operatorname{atan}{\\left(\\frac{r}{R} \\right)} \\right)}\\\\0\\\\\\cos{\\left(2 \\operatorname{atan}{\\left(\\frac{r}{R} \\right)} \\right)}\\end{matrix}\\right]$"
      ],
      "text/plain": [
       "Matrix([\n",
       "[sin(2*atan(r/R))],\n",
       "[               0],\n",
       "[cos(2*atan(r/R))]])"
      ]
     },
     "execution_count": 4,
     "metadata": {},
     "output_type": "execute_result"
    }
   ],
   "source": [
    "n = Matrix([cos(alpha)*sin(beta), sin(alpha)*sin(beta), cos(beta)])\n",
    "\n",
    "n"
   ]
  },
  {
   "cell_type": "code",
   "execution_count": 5,
   "id": "da45a26d-038f-4e7e-a18c-29b3e9d40e1c",
   "metadata": {},
   "outputs": [],
   "source": [
    "def div(n):\n",
    "    return 1/r * (r * n[0]).diff(r) + 1/r * n[1].diff(phi) + n[2].diff(z)\n",
    "\n",
    "def curl(n):\n",
    "    return Matrix([1/r * n[2].diff(phi) - n[1].diff(z),\n",
    "                   n[0].diff(z) - n[2].diff(r),\n",
    "                   1/r * ((r*n[1]).diff(r) - n[0].diff(phi))])\n",
    "\n",
    "def cross(m, n):\n",
    "    return Matrix([m[1]*n[2] - m[2]*n[1],\n",
    "                   m[2]*n[0] - m[0]*n[2],\n",
    "                   m[0]*n[1] - m[1]*n[0]])\n",
    "\n",
    "def dot(m, n):\n",
    "    return m[0]*n[0] + m[1]*n[1] + m[2]*n[2]\n",
    "\n",
    "def square(n):\n",
    "    return dot(n, n)"
   ]
  },
  {
   "cell_type": "code",
   "execution_count": 6,
   "id": "12d2c6c5-4a8a-4534-ba4e-30b11e420f6d",
   "metadata": {},
   "outputs": [],
   "source": [
    "splay = div(n)**2\n",
    "bend = square(cross(n, curl(n)))\n",
    "twist = dot(n, curl(n))**2\n",
    "\n",
    "splay = simplify(splay)\n",
    "bend = simplify(bend)\n",
    "twist = simplify(twist)"
   ]
  },
  {
   "cell_type": "code",
   "execution_count": 7,
   "id": "28d42489-ba40-4d71-8fa0-b2667fd695ec",
   "metadata": {},
   "outputs": [
    {
     "data": {
      "text/latex": [
       "$\\displaystyle \\frac{4 R^{2} \\left(\\frac{R^{2} - r^{2}}{R^{2} + r^{2}} + 1\\right)^{2}}{\\left(R^{2} + r^{2}\\right)^{2}}$"
      ],
      "text/plain": [
       "4*R**2*((R**2 - r**2)/(R**2 + r**2) + 1)**2/(R**2 + r**2)**2"
      ]
     },
     "execution_count": 7,
     "metadata": {},
     "output_type": "execute_result"
    }
   ],
   "source": [
    "splay"
   ]
  },
  {
   "cell_type": "code",
   "execution_count": 8,
   "id": "55ec44f1-8a89-44f9-9c3e-772c7d332716",
   "metadata": {},
   "outputs": [
    {
     "name": "stdout",
     "output_type": "stream",
     "text": [
      "\\frac{4 R^{2} \\left(\\frac{R^{2} - r^{2}}{R^{2} + r^{2}} + 1\\right)^{2}}{\\left(R^{2} + r^{2}\\right)^{2}}\n"
     ]
    }
   ],
   "source": [
    "print(latex(splay))"
   ]
  },
  {
   "cell_type": "code",
   "execution_count": 9,
   "id": "e5cf155c-60bd-4df2-ae72-6519b08a09aa",
   "metadata": {},
   "outputs": [
    {
     "data": {
      "text/latex": [
       "$\\displaystyle \\frac{16 R^{4} r^{2}}{R^{8} + 4 R^{6} r^{2} + 6 R^{4} r^{4} + 4 R^{2} r^{6} + r^{8}}$"
      ],
      "text/plain": [
       "16*R**4*r**2/(R**8 + 4*R**6*r**2 + 6*R**4*r**4 + 4*R**2*r**6 + r**8)"
      ]
     },
     "execution_count": 9,
     "metadata": {},
     "output_type": "execute_result"
    }
   ],
   "source": [
    "bend"
   ]
  },
  {
   "cell_type": "code",
   "execution_count": 10,
   "id": "9930e6d7-ce92-46e2-962c-9a6b2c44bee3",
   "metadata": {},
   "outputs": [
    {
     "name": "stdout",
     "output_type": "stream",
     "text": [
      "\\frac{16 R^{4} r^{2}}{R^{8} + 4 R^{6} r^{2} + 6 R^{4} r^{4} + 4 R^{2} r^{6} + r^{8}}\n"
     ]
    }
   ],
   "source": [
    "print(latex(bend))"
   ]
  },
  {
   "cell_type": "code",
   "execution_count": 11,
   "id": "e166db2f-6080-4ddb-ad12-957df63c9c56",
   "metadata": {},
   "outputs": [
    {
     "data": {
      "text/latex": [
       "$\\displaystyle 0$"
      ],
      "text/plain": [
       "0"
      ]
     },
     "execution_count": 11,
     "metadata": {},
     "output_type": "execute_result"
    }
   ],
   "source": [
    "twist"
   ]
  },
  {
   "cell_type": "code",
   "execution_count": 12,
   "id": "7b7feb2c-90ed-410c-af19-d349d604c794",
   "metadata": {},
   "outputs": [
    {
     "data": {
      "image/png": "[encoded data removed]",
      "text/plain": [
       "<Figure size 640x480 with 1 Axes>"
      ]
     },
     "metadata": {},
     "output_type": "display_data"
    },
    {
     "data": {
      "text/plain": [
       "<sympy.plotting.plot.Plot at 0x7e9f5c83ec50>"
      ]
     },
     "execution_count": 12,
     "metadata": {},
     "output_type": "execute_result"
    }
   ],
   "source": [
    "plotting.plot(splay.subs(R, 1), bend.subs(R, 1), (r, 0, 1))"
   ]
  },
  {
   "cell_type": "code",
   "execution_count": 13,
   "id": "c4af41f6-7c4a-46c9-bc2b-23bf1fb7d9d8",
   "metadata": {},
   "outputs": [
    {
     "data": {
      "text/latex": [
       "$\\displaystyle \\frac{16}{\\left(r^{2} + 1\\right)^{4}}$"
      ],
      "text/plain": [
       "16/(r**2 + 1)**4"
      ]
     },
     "metadata": {},
     "output_type": "display_data"
    },
    {
     "data": {
      "text/latex": [
       "$\\displaystyle \\frac{16 r^{2}}{r^{8} + 4 r^{6} + 6 r^{4} + 4 r^{2} + 1}$"
      ],
      "text/plain": [
       "16*r**2/(r**8 + 4*r**6 + 6*r**4 + 4*r**2 + 1)"
      ]
     },
     "metadata": {},
     "output_type": "display_data"
    }
   ],
   "source": [
    "display(simplify(splay.subs(R, 1)), simplify(bend.subs(R, 1)))"
   ]
  },
  {
   "cell_type": "markdown",
   "id": "6d9d436f-8565-4b64-b7de-06927340de38",
   "metadata": {},
   "source": [
    "## Twisted disclination calculation"
   ]
  },
  {
   "cell_type": "code",
   "execution_count": 14,
   "id": "80759d68-9efd-4d31-a388-4212c6b6f2ac",
   "metadata": {},
   "outputs": [
    {
     "data": {
      "text/latex": [
       "$\\displaystyle \\left[\\begin{matrix}1\\\\\\frac{\\varphi}{2}\\\\0\\end{matrix}\\right]$"
      ],
      "text/plain": [
       "Matrix([\n",
       "[       1],\n",
       "[varphi/2],\n",
       "[       0]])"
      ]
     },
     "execution_count": 14,
     "metadata": {},
     "output_type": "execute_result"
    }
   ],
   "source": [
    "n = Matrix([1, phi / 2, 0])\n",
    "n"
   ]
  },
  {
   "cell_type": "code",
   "execution_count": 15,
   "id": "f365962d-e3a2-4036-9816-e21e7fe240a0",
   "metadata": {},
   "outputs": [
    {
     "data": {
      "text/latex": [
       "$\\displaystyle \\frac{9}{4 r^{2}}$"
      ],
      "text/plain": [
       "9/(4*r**2)"
      ]
     },
     "metadata": {},
     "output_type": "display_data"
    },
    {
     "data": {
      "text/latex": [
       "$\\displaystyle \\frac{\\varphi^{2} \\left(\\varphi^{2} + 4\\right)}{16 r^{2}}$"
      ],
      "text/plain": [
       "varphi**2*(varphi**2 + 4)/(16*r**2)"
      ]
     },
     "metadata": {},
     "output_type": "display_data"
    },
    {
     "data": {
      "text/latex": [
       "$\\displaystyle 0$"
      ],
      "text/plain": [
       "0"
      ]
     },
     "metadata": {},
     "output_type": "display_data"
    },
    {
     "data": {
      "text/latex": [
       "$\\displaystyle \\frac{\\varphi^{2} \\left(\\varphi^{2} + 4\\right) + 36}{16 r^{2}}$"
      ],
      "text/plain": [
       "(varphi**2*(varphi**2 + 4) + 36)/(16*r**2)"
      ]
     },
     "metadata": {},
     "output_type": "display_data"
    }
   ],
   "source": [
    "splay = div(n)**2\n",
    "bend = square(cross(n, curl(n)))\n",
    "twist = dot(n, curl(n))**2\n",
    "\n",
    "splay = simplify(splay)\n",
    "bend = simplify(bend)\n",
    "twist = simplify(twist)\n",
    "\n",
    "display(splay)\n",
    "display(bend)\n",
    "display(twist)\n",
    "\n",
    "display(simplify(splay + twist + bend))"
   ]
  },
  {
   "cell_type": "code",
   "execution_count": 16,
   "id": "6a9e80f3-0dad-46c6-a2f6-23ff3da47806",
   "metadata": {},
   "outputs": [
    {
     "data": {
      "text/latex": [
       "$\\displaystyle \\left[\\begin{matrix}0\\\\0\\\\\\frac{\\varphi}{2 r}\\end{matrix}\\right]$"
      ],
      "text/plain": [
       "Matrix([\n",
       "[           0],\n",
       "[           0],\n",
       "[varphi/(2*r)]])"
      ]
     },
     "execution_count": 16,
     "metadata": {},
     "output_type": "execute_result"
    }
   ],
   "source": [
    "curl(n)"
   ]
  },
  {
   "cell_type": "code",
   "execution_count": 25,
   "id": "12f795ad-7fba-41a8-8b84-a1113143db05",
   "metadata": {},
   "outputs": [
    {
     "data": {
      "text/latex": [
       "$\\displaystyle \\frac{\\cos^{2}{\\left(\\frac{\\varphi}{2} \\right)}}{r^{2}}$"
      ],
      "text/plain": [
       "cos(varphi/2)**2/r**2"
      ]
     },
     "metadata": {},
     "output_type": "display_data"
    },
    {
     "data": {
      "text/latex": [
       "$\\displaystyle 0$"
      ],
      "text/plain": [
       "0"
      ]
     },
     "metadata": {},
     "output_type": "display_data"
    },
    {
     "data": {
      "text/latex": [
       "$\\displaystyle \\frac{1}{4 r^{2}}$"
      ],
      "text/plain": [
       "1/(4*r**2)"
      ]
     },
     "metadata": {},
     "output_type": "display_data"
    },
    {
     "data": {
      "text/latex": [
       "$\\displaystyle \\frac{2 \\cos{\\left(\\varphi \\right)} + 3}{4 r^{2}}$"
      ],
      "text/plain": [
       "(2*cos(varphi) + 3)/(4*r**2)"
      ]
     },
     "metadata": {},
     "output_type": "display_data"
    }
   ],
   "source": [
    "n_prime = R(pi / 2)*n\n",
    "\n",
    "splay = div(n_prime)**2\n",
    "bend = square(cross(n_prime, curl(n_prime)))\n",
    "twist = dot(n_prime, curl(n_prime))**2\n",
    "\n",
    "splay = simplify(splay)\n",
    "bend = simplify(bend)\n",
    "twist = simplify(twist)\n",
    "\n",
    "display(splay)\n",
    "display(bend)\n",
    "display(twist)\n",
    "\n",
    "display(simplify(splay + twist + bend))"
   ]
  },
  {
   "cell_type": "markdown",
   "id": "6ce9096b-2311-49a5-a326-4b4decbbcfac",
   "metadata": {},
   "source": [
    "# Anisotropic twist calculation"
   ]
  },
  {
   "cell_type": "code",
   "execution_count": 32,
   "id": "d472aa06-d9c3-4c98-be55-aea5af30c7db",
   "metadata": {},
   "outputs": [],
   "source": [
    "beta = Function('beta')(r)\n",
    "zeta = symbols('zeta')"
   ]
  },
  {
   "cell_type": "code",
   "execution_count": 33,
   "id": "e88748b7-8c3f-4afd-9bf9-e4498fad330b",
   "metadata": {},
   "outputs": [
    {
     "data": {
      "text/latex": [
       "$\\displaystyle \\left[\\begin{matrix}\\sin{\\left(\\beta{\\left(r \\right)} \\right)} \\cos{\\left(\\varphi \\right)}\\\\\\sin{\\left(\\varphi \\right)} \\sin{\\left(\\beta{\\left(r \\right)} \\right)}\\\\\\cos{\\left(\\beta{\\left(r \\right)} \\right)}\\end{matrix}\\right]$"
      ],
      "text/plain": [
       "Matrix([\n",
       "[sin(beta(r))*cos(varphi)],\n",
       "[sin(varphi)*sin(beta(r))],\n",
       "[            cos(beta(r))]])"
      ]
     },
     "execution_count": 33,
     "metadata": {},
     "output_type": "execute_result"
    }
   ],
   "source": [
    "n = Matrix([cos(phi)*sin(beta), sin(phi)*sin(beta), cos(beta)])\n",
    "\n",
    "n"
   ]
  },
  {
   "cell_type": "code",
   "execution_count": 34,
   "id": "10f12701-f26e-40c8-bf35-c2b8e3a629ce",
   "metadata": {},
   "outputs": [],
   "source": [
    "splay = div(n)**2\n",
    "bend = square(cross(n, curl(n)))\n",
    "twist = dot(n, curl(n))**2\n",
    "\n",
    "splay = simplify(splay)\n",
    "bend = simplify(bend)\n",
    "twist = simplify(twist)"
   ]
  },
  {
   "cell_type": "code",
   "execution_count": 35,
   "id": "81642f73-a024-402e-b863-09f05d579f48",
   "metadata": {},
   "outputs": [
    {
     "data": {
      "text/latex": [
       "$\\displaystyle \\frac{\\left(r \\cos{\\left(\\beta{\\left(r \\right)} \\right)} \\frac{d}{d r} \\beta{\\left(r \\right)} + 2 \\sin{\\left(\\beta{\\left(r \\right)} \\right)}\\right)^{2} \\cos^{2}{\\left(\\varphi \\right)}}{r^{2}}$"
      ],
      "text/plain": [
       "(r*cos(beta(r))*Derivative(beta(r), r) + 2*sin(beta(r)))**2*cos(varphi)**2/r**2"
      ]
     },
     "execution_count": 35,
     "metadata": {},
     "output_type": "execute_result"
    }
   ],
   "source": [
    "splay"
   ]
  },
  {
   "cell_type": "code",
   "execution_count": 36,
   "id": "73878484-0a2f-4ba7-ad64-b5d97cdc35ac",
   "metadata": {},
   "outputs": [
    {
     "data": {
      "text/latex": [
       "$\\displaystyle \\frac{\\left(- r^{2} \\sin^{2}{\\left(\\varphi \\right)} \\left(\\frac{d}{d r} \\beta{\\left(r \\right)}\\right)^{2} + r^{2} \\left(\\frac{d}{d r} \\beta{\\left(r \\right)}\\right)^{2} + 4 \\sin^{2}{\\left(\\varphi \\right)} \\sin^{2}{\\left(\\beta{\\left(r \\right)} \\right)}\\right) \\sin^{2}{\\left(\\beta{\\left(r \\right)} \\right)}}{r^{2}}$"
      ],
      "text/plain": [
       "(-r**2*sin(varphi)**2*Derivative(beta(r), r)**2 + r**2*Derivative(beta(r), r)**2 + 4*sin(varphi)**2*sin(beta(r))**2)*sin(beta(r))**2/r**2"
      ]
     },
     "execution_count": 36,
     "metadata": {},
     "output_type": "execute_result"
    }
   ],
   "source": [
    "bend"
   ]
  },
  {
   "cell_type": "code",
   "execution_count": 37,
   "id": "df8dadaa-126c-49d2-a158-64fab5fe3846",
   "metadata": {},
   "outputs": [
    {
     "data": {
      "text/latex": [
       "$\\displaystyle \\frac{\\left(r \\frac{d}{d r} \\beta{\\left(r \\right)} + \\sin{\\left(2 \\beta{\\left(r \\right)} \\right)}\\right)^{2} \\sin^{2}{\\left(\\varphi \\right)}}{r^{2}}$"
      ],
      "text/plain": [
       "(r*Derivative(beta(r), r) + sin(2*beta(r)))**2*sin(varphi)**2/r**2"
      ]
     },
     "execution_count": 37,
     "metadata": {},
     "output_type": "execute_result"
    }
   ],
   "source": [
    "twist"
   ]
  },
  {
   "cell_type": "code",
   "execution_count": 38,
   "id": "c18ef3b5-44fd-47f4-aec2-57d42482326e",
   "metadata": {},
   "outputs": [],
   "source": [
    "F = (1 - zeta) * splay + (1 + zeta) * twist + (1 - zeta) * bend\n",
    "\n",
    "F = simplify(F)"
   ]
  },
  {
   "cell_type": "code",
   "execution_count": 39,
   "id": "800c192b-1233-4b8c-b201-ef4848943f29",
   "metadata": {},
   "outputs": [
    {
     "data": {
      "text/latex": [
       "$\\displaystyle \\frac{\\left(1 - \\zeta\\right) \\left(r \\cos{\\left(\\beta{\\left(r \\right)} \\right)} \\frac{d}{d r} \\beta{\\left(r \\right)} + 2 \\sin{\\left(\\beta{\\left(r \\right)} \\right)}\\right)^{2} \\cos^{2}{\\left(\\varphi \\right)} + \\left(1 - \\zeta\\right) \\left(- r^{2} \\sin^{2}{\\left(\\varphi \\right)} \\left(\\frac{d}{d r} \\beta{\\left(r \\right)}\\right)^{2} + r^{2} \\left(\\frac{d}{d r} \\beta{\\left(r \\right)}\\right)^{2} + 4 \\sin^{2}{\\left(\\varphi \\right)} \\sin^{2}{\\left(\\beta{\\left(r \\right)} \\right)}\\right) \\sin^{2}{\\left(\\beta{\\left(r \\right)} \\right)} + \\left(\\zeta + 1\\right) \\left(r \\frac{d}{d r} \\beta{\\left(r \\right)} + \\sin{\\left(2 \\beta{\\left(r \\right)} \\right)}\\right)^{2} \\sin^{2}{\\left(\\varphi \\right)}}{r^{2}}$"
      ],
      "text/plain": [
       "((1 - zeta)*(r*cos(beta(r))*Derivative(beta(r), r) + 2*sin(beta(r)))**2*cos(varphi)**2 + (1 - zeta)*(-r**2*sin(varphi)**2*Derivative(beta(r), r)**2 + r**2*Derivative(beta(r), r)**2 + 4*sin(varphi)**2*sin(beta(r))**2)*sin(beta(r))**2 + (zeta + 1)*(r*Derivative(beta(r), r) + sin(2*beta(r)))**2*sin(varphi)**2)/r**2"
      ]
     },
     "execution_count": 39,
     "metadata": {},
     "output_type": "execute_result"
    }
   ],
   "source": [
    "F"
   ]
  },
  {
   "cell_type": "code",
   "execution_count": 41,
   "id": "1aea2032-71ce-4f1b-b814-7f3e60ab4d7c",
   "metadata": {},
   "outputs": [],
   "source": [
    "F_line = simplify( F.subs(phi, 0) )"
   ]
  },
  {
   "cell_type": "code",
   "execution_count": 42,
   "id": "97a07e6a-7cbe-463f-b277-8f11a9b40a97",
   "metadata": {},
   "outputs": [
    {
     "data": {
      "text/latex": [
       "$\\displaystyle \\frac{\\left(1 - \\zeta\\right) \\left(r^{2} \\left(\\frac{d}{d r} \\beta{\\left(r \\right)}\\right)^{2} + 2 r \\sin{\\left(2 \\beta{\\left(r \\right)} \\right)} \\frac{d}{d r} \\beta{\\left(r \\right)} - 2 \\cos{\\left(2 \\beta{\\left(r \\right)} \\right)} + 2\\right)}{r^{2}}$"
      ],
      "text/plain": [
       "(1 - zeta)*(r**2*Derivative(beta(r), r)**2 + 2*r*sin(2*beta(r))*Derivative(beta(r), r) - 2*cos(2*beta(r)) + 2)/r**2"
      ]
     },
     "execution_count": 42,
     "metadata": {},
     "output_type": "execute_result"
    }
   ],
   "source": [
    "F_line"
   ]
  },
  {
   "cell_type": "code",
   "execution_count": 45,
   "id": "6032c779-66e2-4a24-9ac1-399a4d5b4e39",
   "metadata": {},
   "outputs": [],
   "source": [
    "eom = simplify( F_line.diff(beta) - ( F_line.diff(beta.diff(r)) ).diff(r) )"
   ]
  },
  {
   "cell_type": "code",
   "execution_count": 46,
   "id": "73cfa5ec-e71c-4fb1-b436-0da5ddcf79ee",
   "metadata": {},
   "outputs": [
    {
     "data": {
      "text/latex": [
       "$\\displaystyle \\frac{2 \\left(\\zeta - 1\\right) \\left(r^{2} \\frac{d^{2}}{d r^{2}} \\beta{\\left(r \\right)} - 3 \\sin{\\left(2 \\beta{\\left(r \\right)} \\right)}\\right)}{r^{2}}$"
      ],
      "text/plain": [
       "2*(zeta - 1)*(r**2*Derivative(beta(r), (r, 2)) - 3*sin(2*beta(r)))/r**2"
      ]
     },
     "execution_count": 46,
     "metadata": {},
     "output_type": "execute_result"
    }
   ],
   "source": [
    "eom"
   ]
  },
  {
   "cell_type": "code",
   "execution_count": 49,
   "id": "e21f037e-022e-456f-bf55-fac15c52d9ca",
   "metadata": {},
   "outputs": [
    {
     "data": {
      "text/latex": [
       "$\\displaystyle \\frac{2 \\left(\\zeta - 1\\right) \\left(- \\frac{12 R \\left(R^{2} - r^{2}\\right)}{\\left(R^{2} + r^{2}\\right)^{2}} - \\frac{4 r^{2}}{R^{3} \\left(1 + \\frac{r^{2}}{R^{2}}\\right)^{2}}\\right)}{r}$"
      ],
      "text/plain": [
       "2*(zeta - 1)*(-12*R*(R**2 - r**2)/(R**2 + r**2)**2 - 4*r**2/(R**3*(1 + r**2/R**2)**2))/r"
      ]
     },
     "execution_count": 49,
     "metadata": {},
     "output_type": "execute_result"
    }
   ],
   "source": [
    "simplify( eom.subs(beta, 2*atan(r/R)) )"
   ]
  },
  {
   "cell_type": "code",
   "execution_count": null,
   "id": "e826b4bd-c4c4-42f6-8fd4-b38b463992cd",
   "metadata": {},
   "outputs": [],
   "source": []
  }
 ],
 "metadata": {
  "kernelspec": {
   "display_name": "Python 3 (ipykernel)",
   "language": "python",
   "name": "python3"
  },
  "language_info": {
   "codemirror_mode": {
    "name": "ipython",
    "version": 3
   },
   "file_extension": ".py",
   "mimetype": "text/x-python",
   "name": "python",
   "nbconvert_exporter": "python",
   "pygments_lexer": "ipython3",
   "version": "3.11.9"
  }
 },
 "nbformat": 4,
 "nbformat_minor": 5
}
