{
 "cells": [
  {
   "cell_type": "code",
   "execution_count": 46,
   "id": "282a1693-1f03-4a75-8c84-47a920f6b2e4",
   "metadata": {},
   "outputs": [],
   "source": [
    "from sympy import *"
   ]
  },
  {
   "cell_type": "code",
   "execution_count": 47,
   "id": "89b95c23-3bb2-4df2-a118-fbf91b5a83ea",
   "metadata": {},
   "outputs": [],
   "source": [
    "mu, theta_c, epsilon, p, m, phi = symbols('mu theta_c epsilon p m varphi', real=True)"
   ]
  },
  {
   "cell_type": "code",
   "execution_count": 49,
   "id": "843b1bf8-6d69-4861-a567-f1cb0703d26e",
   "metadata": {},
   "outputs": [
    {
     "data": {
      "text/latex": [
       "$\\displaystyle \\frac{\\sqrt{\\frac{\\epsilon p^{2} \\cos{\\left(2 \\mu \\right)} + 1}{\\epsilon \\cos{\\left(2 \\mu \\right)} + 1}}}{p}$"
      ],
      "text/plain": [
       "sqrt((epsilon*p**2*cos(2*mu) + 1)/(epsilon*cos(2*mu) + 1))/p"
      ]
     },
     "metadata": {},
     "output_type": "display_data"
    }
   ],
   "source": [
    "du_dphi = 1 / p * sqrt((1 + p**2 * epsilon * cos(2*mu)) / (1 + epsilon * cos(2*mu)))\n",
    "\n",
    "display(du_dphi)"
   ]
  },
  {
   "cell_type": "code",
   "execution_count": 58,
   "id": "2b97d83c-9be6-4671-9b36-c9e212ac24c8",
   "metadata": {},
   "outputs": [
    {
     "data": {
      "text/latex": [
       "$\\displaystyle \\frac{\\sqrt{\\frac{\\epsilon p^{2} \\cos{\\left(2 \\epsilon \\theta_{c}{\\left(\\varphi \\right)} + 2 m \\varphi \\right)} + 1}{\\epsilon \\cos{\\left(2 \\epsilon \\theta_{c}{\\left(\\varphi \\right)} + 2 m \\varphi \\right)} + 1}}}{p}$"
      ],
      "text/plain": [
       "sqrt((epsilon*p**2*cos(2*epsilon*theta_c(varphi) + 2*m*varphi) + 1)/(epsilon*cos(2*epsilon*theta_c(varphi) + 2*m*varphi) + 1))/p"
      ]
     },
     "metadata": {},
     "output_type": "display_data"
    }
   ],
   "source": [
    "perturbation_expansion = du_dphi.subs(mu, m * phi + epsilon * theta_c)\n",
    "\n",
    "display(perturbation_expansion)"
   ]
  },
  {
   "cell_type": "code",
   "execution_count": 59,
   "id": "6c72706e-bc24-4b4c-9e5f-4686e18f4a84",
   "metadata": {},
   "outputs": [
    {
     "data": {
      "text/latex": [
       "$\\displaystyle \\frac{1}{p} + \\frac{\\epsilon \\left(\\frac{p^{2} \\cos{\\left(2 m \\varphi \\right)}}{2} - \\frac{\\cos{\\left(2 m \\varphi \\right)}}{2}\\right)}{p} + O\\left(\\epsilon^{2}\\right)$"
      ],
      "text/plain": [
       "1/p + epsilon*(p**2*cos(2*m*varphi)/2 - cos(2*m*varphi)/2)/p + O(epsilon**2)"
      ]
     },
     "metadata": {},
     "output_type": "display_data"
    }
   ],
   "source": [
    "series_expansion = series(perturbation_expansion, epsilon, 0, 2)\n",
    "display(series_expansion)"
   ]
  },
  {
   "cell_type": "code",
   "execution_count": 52,
   "id": "0923b1e4-4b0c-4109-85da-a9a862f5d8e8",
   "metadata": {},
   "outputs": [
    {
     "data": {
      "text/latex": [
       "$\\displaystyle \\frac{\\epsilon \\left(\\frac{p^{2} \\cos{\\left(2 m \\varphi \\right)}}{2} - \\frac{\\cos{\\left(2 m \\varphi \\right)}}{2}\\right)}{p} + \\frac{1}{p}$"
      ],
      "text/plain": [
       "epsilon*(p**2*cos(2*m*varphi)/2 - cos(2*m*varphi)/2)/p + 1/p"
      ]
     },
     "metadata": {},
     "output_type": "display_data"
    }
   ],
   "source": [
    "series_expansion = series_expansion.removeO()\n",
    "display(series_expansion)"
   ]
  },
  {
   "cell_type": "code",
   "execution_count": 56,
   "id": "b54a399d-a89e-4d0c-93ad-d47f208a7172",
   "metadata": {},
   "outputs": [],
   "source": [
    "theta_c = Function('theta_c')(phi)"
   ]
  },
  {
   "cell_type": "code",
   "execution_count": 57,
   "id": "c71067a9-4edd-4d75-86ff-d2b67b2bc3a9",
   "metadata": {},
   "outputs": [
    {
     "data": {
      "text/latex": [
       "$\\displaystyle 0$"
      ],
      "text/plain": [
       "0"
      ]
     },
     "execution_count": 57,
     "metadata": {},
     "output_type": "execute_result"
    }
   ],
   "source": [
    "mu.diff(phi).subs(mu, m*phi + epsilon * theta_c).doit()"
   ]
  },
  {
   "cell_type": "code",
   "execution_count": 33,
   "id": "74714333-4c0f-4aa3-9987-c1cb66d70adf",
   "metadata": {},
   "outputs": [
    {
     "data": {
      "text/latex": [
       "$\\displaystyle \\begin{cases} \\frac{\\sin{\\left(2 m \\varphi \\right)}}{2 m} & \\text{for}\\: m \\neq 0 \\\\\\varphi & \\text{otherwise} \\end{cases}$"
      ],
      "text/plain": [
       "Piecewise((sin(2*m*varphi)/(2*m), Ne(m, 0)), (varphi, True))"
      ]
     },
     "execution_count": 33,
     "metadata": {},
     "output_type": "execute_result"
    }
   ],
   "source": [
    "integrate(cos(2*m*phi), phi)"
   ]
  },
  {
   "cell_type": "code",
   "execution_count": 64,
   "id": "1931f1f9-c472-424d-aa26-91844f70747b",
   "metadata": {},
   "outputs": [],
   "source": [
    "expr = (p**2 - 1) / (4 * m * p)"
   ]
  },
  {
   "cell_type": "code",
   "execution_count": 65,
   "id": "41e6410b-bdd5-4ee9-ad6d-5281e8560719",
   "metadata": {},
   "outputs": [],
   "source": [
    "q = symbols('q', real=True)"
   ]
  },
  {
   "cell_type": "code",
   "execution_count": 66,
   "id": "ebb75818-42ed-4af0-b776-c3786ddfbae5",
   "metadata": {},
   "outputs": [
    {
     "data": {
      "text/latex": [
       "$\\displaystyle \\frac{q \\left(2 - q\\right)}{4 \\left(q^{2} - 2 q + 1\\right)}$"
      ],
      "text/plain": [
       "q*(2 - q)/(4*(q**2 - 2*q + 1))"
      ]
     },
     "execution_count": 66,
     "metadata": {},
     "output_type": "execute_result"
    }
   ],
   "source": [
    "simplify(expand(expr.subs(p, 1 / m).subs(m, 1 - q)))"
   ]
  },
  {
   "cell_type": "code",
   "execution_count": null,
   "id": "0ee185b7-b242-4ed8-b54e-fcec63b8568d",
   "metadata": {},
   "outputs": [],
   "source": []
  }
 ],
 "metadata": {
  "kernelspec": {
   "display_name": "Python 3 (ipykernel)",
   "language": "python",
   "name": "python3"
  },
  "language_info": {
   "codemirror_mode": {
    "name": "ipython",
    "version": 3
   },
   "file_extension": ".py",
   "mimetype": "text/x-python",
   "name": "python",
   "nbconvert_exporter": "python",
   "pygments_lexer": "ipython3",
   "version": "3.9.18"
  }
 },
 "nbformat": 4,
 "nbformat_minor": 5
}
