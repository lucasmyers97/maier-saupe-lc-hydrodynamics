{
 "cells": [
  {
   "cell_type": "code",
   "execution_count": 5,
   "id": "73233179",
   "metadata": {},
   "outputs": [],
   "source": [
    "from sympy import *\n",
    "from sympy.simplify.fu import sincos_to_sum"
   ]
  },
  {
   "cell_type": "code",
   "execution_count": 6,
   "id": "42e00a5e",
   "metadata": {},
   "outputs": [],
   "source": [
    "x, y, z, eps, k, S = symbols('x y z varepsilon k S')\n",
    "xi = Matrix([x, y, z])"
   ]
  },
  {
   "cell_type": "markdown",
   "id": "d93585a5",
   "metadata": {},
   "source": [
    "## Generate $Q$-tensor"
   ]
  },
  {
   "cell_type": "code",
   "execution_count": 7,
   "id": "337c0975",
   "metadata": {},
   "outputs": [
    {
     "data": {
      "text/latex": [
       "$\\displaystyle \\left[\\begin{matrix}\\frac{2 S}{3} & S \\varepsilon \\sin{\\left(k x \\right)} & 0\\\\S \\varepsilon \\sin{\\left(k x \\right)} & - \\frac{S}{3} & 0\\\\0 & 0 & - \\frac{S}{3}\\end{matrix}\\right]$"
      ],
      "text/plain": [
       "Matrix([\n",
       "[                2*S/3, S*varepsilon*sin(k*x),    0],\n",
       "[S*varepsilon*sin(k*x),                  -S/3,    0],\n",
       "[                    0,                     0, -S/3]])"
      ]
     },
     "execution_count": 7,
     "metadata": {},
     "output_type": "execute_result"
    }
   ],
   "source": [
    "Q_mat = S * Matrix([[Rational(2, 3), eps*sin(k*x), 0],\n",
    "                    [eps*sin(k*x), -Rational(1, 3), 0],\n",
    "                    [0, 0, -Rational(1, 3)]])\n",
    "\n",
    "Q_mat"
   ]
  },
  {
   "cell_type": "markdown",
   "id": "b5e00363",
   "metadata": {},
   "source": [
    "## Generate elastic stress tensor and corresponding force"
   ]
  },
  {
   "cell_type": "code",
   "execution_count": 8,
   "id": "eb0b18ca",
   "metadata": {},
   "outputs": [],
   "source": [
    "sigma_e = zeros(3)\n",
    "for i in range(3):\n",
    "    for j in range(3):\n",
    "        sigma_e[i, j] = -sum([Q_mat[k, l].diff(xi[i]) * Q_mat[k, l].diff(xi[j])\n",
    "                              for k in range(3)\n",
    "                              for l in range(3)])"
   ]
  },
  {
   "cell_type": "code",
   "execution_count": 9,
   "id": "6a07998d",
   "metadata": {},
   "outputs": [
    {
     "data": {
      "text/latex": [
       "$\\displaystyle \\left[\\begin{matrix}- 2 S^{2} k^{2} \\varepsilon^{2} \\cos^{2}{\\left(k x \\right)} & 0 & 0\\\\0 & 0 & 0\\\\0 & 0 & 0\\end{matrix}\\right]$"
      ],
      "text/plain": [
       "Matrix([\n",
       "[-2*S**2*k**2*varepsilon**2*cos(k*x)**2, 0, 0],\n",
       "[                                     0, 0, 0],\n",
       "[                                     0, 0, 0]])"
      ]
     },
     "execution_count": 9,
     "metadata": {},
     "output_type": "execute_result"
    }
   ],
   "source": [
    "sigma_e"
   ]
  },
  {
   "cell_type": "code",
   "execution_count": 10,
   "id": "486b3a18",
   "metadata": {},
   "outputs": [
    {
     "data": {
      "text/latex": [
       "$\\displaystyle \\left[\\begin{matrix}2 S^{2} k^{3} \\varepsilon^{2} \\sin{\\left(2 k x \\right)}\\\\0\\\\0\\end{matrix}\\right]$"
      ],
      "text/plain": [
       "Matrix([\n",
       "[2*S**2*k**3*varepsilon**2*sin(2*k*x)],\n",
       "[                                   0],\n",
       "[                                   0]])"
      ]
     },
     "execution_count": 10,
     "metadata": {},
     "output_type": "execute_result"
    }
   ],
   "source": [
    "f_e = zeros(3, 1)\n",
    "for i in range(3):\n",
    "    f_e[i, 0] = sum([sigma_e[k, i].diff(xi[k])\n",
    "                     for k in range(3)])\n",
    "f_e = trigsimp(f_e)\n",
    "f_e"
   ]
  },
  {
   "cell_type": "markdown",
   "id": "4ef254d5",
   "metadata": {},
   "source": [
    "## Generate $\\mu_2$ viscous stress tensor and corresponding force"
   ]
  },
  {
   "cell_type": "code",
   "execution_count": 11,
   "id": "107b9e7c",
   "metadata": {},
   "outputs": [
    {
     "data": {
      "text/latex": [
       "$\\displaystyle \\left[\\begin{matrix}\\Lambda_{1}{\\left(x \\right)} & \\Lambda_{2}{\\left(x \\right)} & 0\\\\\\Lambda_{2}{\\left(x \\right)} & \\Lambda_{4}{\\left(x \\right)} & 0\\\\0 & 0 & - \\Lambda_{1}{\\left(x \\right)} - \\Lambda_{4}{\\left(x \\right)}\\end{matrix}\\right]$"
      ],
      "text/plain": [
       "Matrix([\n",
       "[\\Lambda_1(x), \\Lambda_2(x),                            0],\n",
       "[\\Lambda_2(x), \\Lambda_4(x),                            0],\n",
       "[           0,            0, -\\Lambda_1(x) - \\Lambda_4(x)]])"
      ]
     },
     "execution_count": 11,
     "metadata": {},
     "output_type": "execute_result"
    }
   ],
   "source": [
    "Lambda1 = Function(\"\\Lambda_1\")(x)\n",
    "Lambda2 = Function(\"\\Lambda_2\")(x)\n",
    "Lambda4 = Function(\"\\Lambda_4\")(x)\n",
    "Lambda_mat = Matrix([[Lambda1, Lambda2, 0],\n",
    "                     [Lambda2, Lambda4, 0],\n",
    "                     [0, 0, -(Lambda1 + Lambda4)]])\n",
    "Lambda_mat"
   ]
  },
  {
   "cell_type": "code",
   "execution_count": 12,
   "id": "e3e6c1c5",
   "metadata": {},
   "outputs": [],
   "source": [
    "alpha = symbols('alpha')"
   ]
  },
  {
   "cell_type": "code",
   "execution_count": 13,
   "id": "65cdecda",
   "metadata": {},
   "outputs": [
    {
     "data": {
      "text/latex": [
       "$\\displaystyle \\left[\\begin{matrix}\\frac{2 S \\alpha}{3} - \\Lambda_{1}{\\left(x \\right)} & S \\alpha \\varepsilon \\sin{\\left(k x \\right)} - S k^{2} \\varepsilon \\sin{\\left(k x \\right)} - \\Lambda_{2}{\\left(x \\right)} & 0\\\\S \\alpha \\varepsilon \\sin{\\left(k x \\right)} - S k^{2} \\varepsilon \\sin{\\left(k x \\right)} - \\Lambda_{2}{\\left(x \\right)} & - \\frac{S \\alpha}{3} - \\Lambda_{4}{\\left(x \\right)} & 0\\\\0 & 0 & - \\frac{S \\alpha}{3} + \\Lambda_{1}{\\left(x \\right)} + \\Lambda_{4}{\\left(x \\right)}\\end{matrix}\\right]$"
      ],
      "text/plain": [
       "Matrix([\n",
       "[                                             2*S*alpha/3 - \\Lambda_1(x), S*alpha*varepsilon*sin(k*x) - S*k**2*varepsilon*sin(k*x) - \\Lambda_2(x),                                        0],\n",
       "[S*alpha*varepsilon*sin(k*x) - S*k**2*varepsilon*sin(k*x) - \\Lambda_2(x),                                               -S*alpha/3 - \\Lambda_4(x),                                        0],\n",
       "[                                                                      0,                                                                       0, -S*alpha/3 + \\Lambda_1(x) + \\Lambda_4(x)]])"
      ]
     },
     "execution_count": 13,
     "metadata": {},
     "output_type": "execute_result"
    }
   ],
   "source": [
    "lap_Q_mat = zeros(3)\n",
    "for i in range(3):\n",
    "    for j in range(3):\n",
    "        lap_Q_mat[i, j] = sum([Q_mat[i, j].diff(xi[k]).diff(xi[k])\n",
    "                              for k in range(3)])\n",
    "        \n",
    "h = alpha*Q_mat - Lambda_mat + lap_Q_mat\n",
    "h"
   ]
  },
  {
   "cell_type": "code",
   "execution_count": 14,
   "id": "1a9773b1",
   "metadata": {},
   "outputs": [
    {
     "data": {
      "text/latex": [
       "$\\displaystyle \\left[\\begin{matrix}- \\frac{d}{d x} \\Lambda_{1}{\\left(x \\right)}\\\\S \\alpha k \\varepsilon \\cos{\\left(k x \\right)} - S k^{3} \\varepsilon \\cos{\\left(k x \\right)} - \\frac{d}{d x} \\Lambda_{2}{\\left(x \\right)}\\\\0\\end{matrix}\\right]$"
      ],
      "text/plain": [
       "Matrix([\n",
       "[                                                            -Derivative(\\Lambda_1(x), x)],\n",
       "[S*alpha*k*varepsilon*cos(k*x) - S*k**3*varepsilon*cos(k*x) - Derivative(\\Lambda_2(x), x)],\n",
       "[                                                                                       0]])"
      ]
     },
     "execution_count": 14,
     "metadata": {},
     "output_type": "execute_result"
    }
   ],
   "source": [
    "f_h = zeros(3, 1)\n",
    "for i in range(3):\n",
    "    f_h[i, 0] = sum([h[k, i].diff(xi[k])\n",
    "                     for k in range(3)])\n",
    "\n",
    "f_h"
   ]
  },
  {
   "cell_type": "code",
   "execution_count": 15,
   "id": "03431d19",
   "metadata": {},
   "outputs": [
    {
     "data": {
      "text/latex": [
       "$\\displaystyle \\left[\\begin{matrix}\\frac{2 S}{3}\\\\S \\varepsilon \\sin{\\left(k x \\right)}\\\\0\\\\- \\frac{S}{3}\\\\0\\end{matrix}\\right]$"
      ],
      "text/plain": [
       "Matrix([\n",
       "[                2*S/3],\n",
       "[S*varepsilon*sin(k*x)],\n",
       "[                    0],\n",
       "[                 -S/3],\n",
       "[                    0]])"
      ]
     },
     "execution_count": 15,
     "metadata": {},
     "output_type": "execute_result"
    }
   ],
   "source": [
    "Q_vec = zeros(5, 1)\n",
    "Q_vec[0, 0] = Q_mat[0, 0]\n",
    "Q_vec[1, 0] = Q_mat[0, 1]\n",
    "Q_vec[2, 0] = Q_mat[0, 2]\n",
    "Q_vec[3, 0] = Q_mat[1, 1]\n",
    "Q_vec[4, 0] = Q_mat[1, 2]\n",
    "\n",
    "Q_vec"
   ]
  },
  {
   "cell_type": "code",
   "execution_count": 16,
   "id": "28e0dd4b",
   "metadata": {
    "scrolled": true
   },
   "outputs": [
    {
     "data": {
      "text/latex": [
       "$\\displaystyle \\left[\\begin{matrix}0\\\\S k \\varepsilon \\cos{\\left(k x \\right)}\\\\0\\\\0\\\\0\\end{matrix}\\right]$"
      ],
      "text/plain": [
       "Matrix([\n",
       "[                      0],\n",
       "[S*k*varepsilon*cos(k*x)],\n",
       "[                      0],\n",
       "[                      0],\n",
       "[                      0]])"
      ]
     },
     "execution_count": 16,
     "metadata": {},
     "output_type": "execute_result"
    }
   ],
   "source": [
    "Q_vec.diff(x)"
   ]
  },
  {
   "cell_type": "code",
   "execution_count": 17,
   "id": "2e9500b8",
   "metadata": {},
   "outputs": [],
   "source": [
    "dLambda1_dQ2 = symbols('\\\\frac{\\partial\\Lambda_1}{\\partial\\ Q_2}')\n",
    "dLambda2_dQ2 = symbols('\\\\frac{\\partial\\Lambda_2}{\\partial\\ Q_2}')"
   ]
  },
  {
   "cell_type": "code",
   "execution_count": 18,
   "id": "41c694f1",
   "metadata": {},
   "outputs": [
    {
     "data": {
      "text/latex": [
       "$\\displaystyle \\left[\\begin{matrix}- S \\frac{\\partial\\Lambda_1}{\\partial Q_2} k \\varepsilon \\cos{\\left(k x \\right)}\\\\S k \\varepsilon \\left(- \\frac{\\partial\\Lambda_2}{\\partial Q_2} + \\alpha - k^{2}\\right) \\cos{\\left(k x \\right)}\\\\0\\end{matrix}\\right]$"
      ],
      "text/plain": [
       "Matrix([\n",
       "[                 -S*\\frac{\\partial\\Lambda_1}{\\partial Q_2}*k*varepsilon*cos(k*x)],\n",
       "[S*k*varepsilon*(-\\frac{\\partial\\Lambda_2}{\\partial Q_2} + alpha - k**2)*cos(k*x)],\n",
       "[                                                                               0]])"
      ]
     },
     "execution_count": 18,
     "metadata": {},
     "output_type": "execute_result"
    }
   ],
   "source": [
    "f_h = f_h.subs(Lambda1.diff(x), \n",
    "               Q_vec[1].diff(x) * dLambda1_dQ2)\n",
    "f_h = f_h.subs(Lambda2.diff(x), \n",
    "               Q_vec[1].diff(x) * dLambda2_dQ2)\n",
    "f_h = trigsimp(f_h)\n",
    "f_h"
   ]
  },
  {
   "cell_type": "code",
   "execution_count": 19,
   "id": "04fffbcc",
   "metadata": {},
   "outputs": [],
   "source": [
    "A1, B0, B1 = symbols('A1 B0 B1')"
   ]
  },
  {
   "cell_type": "code",
   "execution_count": 20,
   "id": "aacb22c8",
   "metadata": {},
   "outputs": [
    {
     "data": {
      "text/latex": [
       "$\\displaystyle \\left[\\begin{matrix}- \\frac{A_{1} S k \\varepsilon \\sin{\\left(2 k x \\right)}}{2}\\\\\\frac{S k \\varepsilon \\left(- 2 B_{0} \\cos{\\left(k x \\right)} - B_{1} \\left(\\cos{\\left(k x \\right)} + \\cos{\\left(3 k x \\right)}\\right) + 2 \\alpha \\cos{\\left(k x \\right)} - 2 k^{2} \\cos{\\left(k x \\right)}\\right)}{2}\\\\0\\end{matrix}\\right]$"
      ],
      "text/plain": [
       "Matrix([\n",
       "[                                                                    -A1*S*k*varepsilon*sin(2*k*x)/2],\n",
       "[S*k*varepsilon*(-2*B0*cos(k*x) - B1*(cos(k*x) + cos(3*k*x)) + 2*alpha*cos(k*x) - 2*k**2*cos(k*x))/2],\n",
       "[                                                                                                  0]])"
      ]
     },
     "execution_count": 20,
     "metadata": {},
     "output_type": "execute_result"
    }
   ],
   "source": [
    "f_h = f_h.subs(dLambda1_dQ2, A1 * sin(k*x))\n",
    "f_h = f_h.subs(dLambda2_dQ2, B0 + B1 * cos(2*k*x))\n",
    "f_h = trigsimp(expand(f_h))\n",
    "f_h = simplify(sincos_to_sum(f_h))\n",
    "f_h"
   ]
  },
  {
   "cell_type": "code",
   "execution_count": 84,
   "id": "749bdb79",
   "metadata": {},
   "outputs": [],
   "source": [
    "f_h_1 = collect(expand(f_h[0]), sin(k*x))\n",
    "f_h_2 = collect(expand(f_h[1]), (cos(k*x), cos(3*k*x)))"
   ]
  },
  {
   "cell_type": "code",
   "execution_count": 98,
   "id": "08744c85",
   "metadata": {},
   "outputs": [],
   "source": [
    "f_hx_2 = -Rational(1, 2) * A1 * S * k * eps"
   ]
  },
  {
   "cell_type": "code",
   "execution_count": 93,
   "id": "6e8e95fa",
   "metadata": {},
   "outputs": [],
   "source": [
    "f_hy_1 = f_h_2.args[0].args[0]\n",
    "f_hy_3 = -Rational(1, 2) * B1 * S * k * eps"
   ]
  },
  {
   "cell_type": "code",
   "execution_count": 103,
   "id": "111f8f74",
   "metadata": {},
   "outputs": [
    {
     "data": {
      "text/latex": [
       "$\\displaystyle -0.0004200781902125$"
      ],
      "text/plain": [
       "-0.000420078190212500"
      ]
     },
     "execution_count": 103,
     "metadata": {},
     "output_type": "execute_result"
    }
   ],
   "source": [
    "(zeta_2 * f_hx_2 / (-2*k)).subs(subs_dict)"
   ]
  },
  {
   "cell_type": "code",
   "execution_count": 104,
   "id": "62fa1cf4",
   "metadata": {},
   "outputs": [
    {
     "data": {
      "text/latex": [
       "$\\displaystyle 0.00132053995240282$"
      ],
      "text/plain": [
       "0.00132053995240282"
      ]
     },
     "execution_count": 104,
     "metadata": {},
     "output_type": "execute_result"
    }
   ],
   "source": [
    "(zeta_2 * f_hy_1 / k**2).subs(subs_dict)"
   ]
  },
  {
   "cell_type": "code",
   "execution_count": 105,
   "id": "c16c9cc0",
   "metadata": {},
   "outputs": [
    {
     "data": {
      "text/latex": [
       "$\\displaystyle -3.52400278419067 \\cdot 10^{-5}$"
      ],
      "text/plain": [
       "-3.52400278419067e-5"
      ]
     },
     "execution_count": 105,
     "metadata": {},
     "output_type": "execute_result"
    }
   ],
   "source": [
    "(zeta_2 * f_hy_3 / (9 * k**2)).subs(subs_dict)"
   ]
  },
  {
   "cell_type": "markdown",
   "id": "688493d7",
   "metadata": {},
   "source": [
    "## Generate $\\mu_1$ stress tensor and corresponding force"
   ]
  },
  {
   "cell_type": "code",
   "execution_count": 21,
   "id": "b3edd1a9",
   "metadata": {},
   "outputs": [
    {
     "data": {
      "text/latex": [
       "$\\displaystyle \\left[\\begin{matrix}0 & S \\left(S k^{2} \\varepsilon \\sin{\\left(k x \\right)} - \\varepsilon \\Lambda_{1}{\\left(x \\right)} \\sin{\\left(k x \\right)} + \\varepsilon \\Lambda_{4}{\\left(x \\right)} \\sin{\\left(k x \\right)} + \\Lambda_{2}{\\left(x \\right)}\\right) & 0\\\\S \\left(- S k^{2} \\varepsilon \\sin{\\left(k x \\right)} + \\varepsilon \\Lambda_{1}{\\left(x \\right)} \\sin{\\left(k x \\right)} - \\varepsilon \\Lambda_{4}{\\left(x \\right)} \\sin{\\left(k x \\right)} - \\Lambda_{2}{\\left(x \\right)}\\right) & 0 & 0\\\\0 & 0 & 0\\end{matrix}\\right]$"
      ],
      "text/plain": [
       "Matrix([\n",
       "[                                                                                                                   0, S*(S*k**2*varepsilon*sin(k*x) - varepsilon*\\Lambda_1(x)*sin(k*x) + varepsilon*\\Lambda_4(x)*sin(k*x) + \\Lambda_2(x)), 0],\n",
       "[S*(-S*k**2*varepsilon*sin(k*x) + varepsilon*\\Lambda_1(x)*sin(k*x) - varepsilon*\\Lambda_4(x)*sin(k*x) - \\Lambda_2(x)),                                                                                                                   0, 0],\n",
       "[                                                                                                                   0,                                                                                                                   0, 0]])"
      ]
     },
     "execution_count": 21,
     "metadata": {},
     "output_type": "execute_result"
    }
   ],
   "source": [
    "sigma_mu1 = simplify(h * Q_mat - Q_mat * h)\n",
    "sigma_mu1"
   ]
  },
  {
   "cell_type": "code",
   "execution_count": 22,
   "id": "24e27a3a",
   "metadata": {},
   "outputs": [
    {
     "data": {
      "text/latex": [
       "$\\displaystyle \\left[\\begin{matrix}0\\\\S \\left(S k^{3} \\varepsilon \\cos{\\left(k x \\right)} - k \\varepsilon \\Lambda_{1}{\\left(x \\right)} \\cos{\\left(k x \\right)} + k \\varepsilon \\Lambda_{4}{\\left(x \\right)} \\cos{\\left(k x \\right)} - \\varepsilon \\sin{\\left(k x \\right)} \\frac{d}{d x} \\Lambda_{1}{\\left(x \\right)} + \\varepsilon \\sin{\\left(k x \\right)} \\frac{d}{d x} \\Lambda_{4}{\\left(x \\right)} + \\frac{d}{d x} \\Lambda_{2}{\\left(x \\right)}\\right)\\\\0\\end{matrix}\\right]$"
      ],
      "text/plain": [
       "Matrix([\n",
       "[                                                                                                                                                                                                                                         0],\n",
       "[S*(S*k**3*varepsilon*cos(k*x) - k*varepsilon*\\Lambda_1(x)*cos(k*x) + k*varepsilon*\\Lambda_4(x)*cos(k*x) - varepsilon*sin(k*x)*Derivative(\\Lambda_1(x), x) + varepsilon*sin(k*x)*Derivative(\\Lambda_4(x), x) + Derivative(\\Lambda_2(x), x))],\n",
       "[                                                                                                                                                                                                                                         0]])"
      ]
     },
     "execution_count": 22,
     "metadata": {},
     "output_type": "execute_result"
    }
   ],
   "source": [
    "f_mu1 = zeros(3, 1)\n",
    "for i in range(3):\n",
    "    f_mu1[i, 0] = sum([sigma_mu1[k, i].diff(xi[k])\n",
    "                     for k in range(3)])\n",
    "\n",
    "f_mu1 = simplify(f_mu1)\n",
    "f_mu1"
   ]
  },
  {
   "cell_type": "code",
   "execution_count": 23,
   "id": "5a3ea727",
   "metadata": {},
   "outputs": [],
   "source": [
    "dLambda4_dQ2 = symbols('\\\\frac{\\partial\\Lambda_4}{\\partial\\ Q_2}')"
   ]
  },
  {
   "cell_type": "code",
   "execution_count": 24,
   "id": "7b76f948",
   "metadata": {},
   "outputs": [
    {
     "data": {
      "text/latex": [
       "$\\displaystyle \\left[\\begin{matrix}0\\\\S k \\varepsilon \\left(- S \\frac{\\partial\\Lambda_1}{\\partial Q_2} \\varepsilon \\sin{\\left(k x \\right)} + S \\frac{\\partial\\Lambda_2}{\\partial Q_2} + S \\frac{\\partial\\Lambda_4}{\\partial Q_2} \\varepsilon \\sin{\\left(k x \\right)} + S k^{2} - \\Lambda_{1}{\\left(x \\right)} + \\Lambda_{4}{\\left(x \\right)}\\right) \\cos{\\left(k x \\right)}\\\\0\\end{matrix}\\right]$"
      ],
      "text/plain": [
       "Matrix([\n",
       "[                                                                                                                                                                                                                                       0],\n",
       "[S*k*varepsilon*(-S*\\frac{\\partial\\Lambda_1}{\\partial Q_2}*varepsilon*sin(k*x) + S*\\frac{\\partial\\Lambda_2}{\\partial Q_2} + S*\\frac{\\partial\\Lambda_4}{\\partial Q_2}*varepsilon*sin(k*x) + S*k**2 - \\Lambda_1(x) + \\Lambda_4(x))*cos(k*x)],\n",
       "[                                                                                                                                                                                                                                       0]])"
      ]
     },
     "execution_count": 24,
     "metadata": {},
     "output_type": "execute_result"
    }
   ],
   "source": [
    "f_mu1 = f_mu1.subs(Lambda1.diff(x), \n",
    "                   Q_vec[1].diff(x) * dLambda1_dQ2)\n",
    "f_mu1 = f_mu1.subs(Lambda2.diff(x), \n",
    "                   Q_vec[1].diff(x) * dLambda2_dQ2)\n",
    "f_mu1 = f_mu1.subs(Lambda4.diff(x), \n",
    "                   Q_vec[1].diff(x) * dLambda4_dQ2)\n",
    "f_mu1 = trigsimp(f_mu1)\n",
    "f_mu1"
   ]
  },
  {
   "cell_type": "code",
   "execution_count": 25,
   "id": "40b201d2",
   "metadata": {},
   "outputs": [],
   "source": [
    "C1, D0, D1, E0, E1 = symbols('C1 D0 D1 E0 E1')"
   ]
  },
  {
   "cell_type": "code",
   "execution_count": 26,
   "id": "2a9ae890",
   "metadata": {},
   "outputs": [
    {
     "data": {
      "text/latex": [
       "$\\displaystyle \\left[\\begin{matrix}0\\\\\\frac{S k \\varepsilon \\left(- A_{1} S \\varepsilon \\cos{\\left(k x \\right)} + A_{1} S \\varepsilon \\cos{\\left(3 k x \\right)} + 4 B_{0} S \\cos{\\left(k x \\right)} + 2 B_{1} S \\cos{\\left(k x \\right)} + 2 B_{1} S \\cos{\\left(3 k x \\right)} + C_{1} S \\varepsilon \\cos{\\left(k x \\right)} - C_{1} S \\varepsilon \\cos{\\left(3 k x \\right)} - 4 D_{0} \\cos{\\left(k x \\right)} - 2 D_{1} \\cos{\\left(k x \\right)} - 2 D_{1} \\cos{\\left(3 k x \\right)} + 4 E_{0} \\cos{\\left(k x \\right)} + 2 E_{1} \\cos{\\left(k x \\right)} + 2 E_{1} \\cos{\\left(3 k x \\right)} + 4 S k^{2} \\cos{\\left(k x \\right)}\\right)}{4}\\\\0\\end{matrix}\\right]$"
      ],
      "text/plain": [
       "Matrix([\n",
       "[                                                                                                                                                                                                                                                                                                                0],\n",
       "[S*k*varepsilon*(-A1*S*varepsilon*cos(k*x) + A1*S*varepsilon*cos(3*k*x) + 4*B0*S*cos(k*x) + 2*B1*S*cos(k*x) + 2*B1*S*cos(3*k*x) + C1*S*varepsilon*cos(k*x) - C1*S*varepsilon*cos(3*k*x) - 4*D0*cos(k*x) - 2*D1*cos(k*x) - 2*D1*cos(3*k*x) + 4*E0*cos(k*x) + 2*E1*cos(k*x) + 2*E1*cos(3*k*x) + 4*S*k**2*cos(k*x))/4],\n",
       "[                                                                                                                                                                                                                                                                                                                0]])"
      ]
     },
     "execution_count": 26,
     "metadata": {},
     "output_type": "execute_result"
    }
   ],
   "source": [
    "f_mu1 = f_mu1.subs(dLambda1_dQ2, A1*sin(k*x))\n",
    "f_mu1 = f_mu1.subs(dLambda2_dQ2, B0 + B1*cos(2*k*x))\n",
    "f_mu1 = f_mu1.subs(dLambda4_dQ2, C1*sin(k*x))\n",
    "f_mu1 = f_mu1.subs(Lambda1, D0 + D1*cos(2*k*x))\n",
    "f_mu1 = f_mu1.subs(Lambda4, E0 + E1*cos(2*k*x))\n",
    "f_mu1 = simplify(sincos_to_sum(f_mu1))\n",
    "f_mu1"
   ]
  },
  {
   "cell_type": "code",
   "execution_count": 39,
   "id": "f2168e75",
   "metadata": {},
   "outputs": [
    {
     "data": {
      "text/latex": [
       "$\\displaystyle \\frac{S k \\varepsilon \\left(\\left(A_{1} S \\varepsilon + 2 B_{1} S - C_{1} S \\varepsilon - 2 D_{1} + 2 E_{1}\\right) \\cos{\\left(3 k x \\right)} + \\left(- A_{1} S \\varepsilon + 4 B_{0} S + 2 B_{1} S + C_{1} S \\varepsilon - 4 D_{0} - 2 D_{1} + 4 E_{0} + 2 E_{1} + 4 S k^{2}\\right) \\cos{\\left(k x \\right)}\\right)}{4}$"
      ],
      "text/plain": [
       "S*k*varepsilon*((A1*S*varepsilon + 2*B1*S - C1*S*varepsilon - 2*D1 + 2*E1)*cos(3*k*x) + (-A1*S*varepsilon + 4*B0*S + 2*B1*S + C1*S*varepsilon - 4*D0 - 2*D1 + 4*E0 + 2*E1 + 4*S*k**2)*cos(k*x))/4"
      ]
     },
     "execution_count": 39,
     "metadata": {},
     "output_type": "execute_result"
    }
   ],
   "source": [
    "f_mu1_expr = collect(f_mu1[1], (cos(k*x), cos(3*k*x)))\n",
    "f_mu1_expr"
   ]
  },
  {
   "cell_type": "code",
   "execution_count": 51,
   "id": "8b2a942e",
   "metadata": {},
   "outputs": [
    {
     "data": {
      "text/latex": [
       "$\\displaystyle S k \\varepsilon \\left(- A_{1} S \\varepsilon + 4 B_{0} S + 2 B_{1} S + C_{1} S \\varepsilon - 4 D_{0} - 2 D_{1} + 4 E_{0} + 2 E_{1} + 4 S k^{2}\\right)$"
      ],
      "text/plain": [
       "S*k*varepsilon*(-A1*S*varepsilon + 4*B0*S + 2*B1*S + C1*S*varepsilon - 4*D0 - 2*D1 + 4*E0 + 2*E1 + 4*S*k**2)"
      ]
     },
     "execution_count": 51,
     "metadata": {},
     "output_type": "execute_result"
    }
   ],
   "source": [
    "c_mu1_1 = f_mu1_expr.args[4].args[1].args[0] * S*k*eps\n",
    "c_mu1_1"
   ]
  },
  {
   "cell_type": "code",
   "execution_count": 52,
   "id": "5447aa16",
   "metadata": {},
   "outputs": [
    {
     "data": {
      "text/latex": [
       "$\\displaystyle S k \\varepsilon \\left(A_{1} S \\varepsilon + 2 B_{1} S - C_{1} S \\varepsilon - 2 D_{1} + 2 E_{1}\\right)$"
      ],
      "text/plain": [
       "S*k*varepsilon*(A1*S*varepsilon + 2*B1*S - C1*S*varepsilon - 2*D1 + 2*E1)"
      ]
     },
     "execution_count": 52,
     "metadata": {},
     "output_type": "execute_result"
    }
   ],
   "source": [
    "c_mu1_3 = f_mu1_expr.args[4].args[0].args[0] * S*k*eps\n",
    "c_mu1_3"
   ]
  },
  {
   "cell_type": "code",
   "execution_count": 53,
   "id": "c144e33e",
   "metadata": {},
   "outputs": [
    {
     "name": "stdout",
     "output_type": "stream",
     "text": [
      "S k \\varepsilon \\left(- A_{1} S \\varepsilon + 4 B_{0} S + 2 B_{1} S + C_{1} S \\varepsilon - 4 D_{0} - 2 D_{1} + 4 E_{0} + 2 E_{1} + 4 S k^{2}\\right)\n"
     ]
    }
   ],
   "source": [
    "print(latex(c_mu1_1))"
   ]
  },
  {
   "cell_type": "code",
   "execution_count": 54,
   "id": "0740d545",
   "metadata": {
    "scrolled": true
   },
   "outputs": [
    {
     "name": "stdout",
     "output_type": "stream",
     "text": [
      "S k \\varepsilon \\left(A_{1} S \\varepsilon + 2 B_{1} S - C_{1} S \\varepsilon - 2 D_{1} + 2 E_{1}\\right)\n"
     ]
    }
   ],
   "source": [
    "print(latex(c_mu1_3))"
   ]
  },
  {
   "cell_type": "code",
   "execution_count": 58,
   "id": "35ac421d",
   "metadata": {},
   "outputs": [
    {
     "data": {
      "text/latex": [
       "$\\displaystyle \\zeta_{1}$"
      ],
      "text/plain": [
       "\\zeta_1"
      ]
     },
     "execution_count": 58,
     "metadata": {},
     "output_type": "execute_result"
    }
   ],
   "source": [
    "zeta_1 = symbols('\\zeta_1')\n",
    "zeta_1"
   ]
  },
  {
   "cell_type": "code",
   "execution_count": 101,
   "id": "f361eb9e",
   "metadata": {},
   "outputs": [
    {
     "data": {
      "text/latex": [
       "$\\displaystyle \\zeta_{2}$"
      ],
      "text/plain": [
       "\\zeta_2"
      ]
     },
     "execution_count": 101,
     "metadata": {},
     "output_type": "execute_result"
    }
   ],
   "source": [
    "zeta_2 = symbols('\\zeta_2')\n",
    "zeta_2"
   ]
  },
  {
   "cell_type": "code",
   "execution_count": 102,
   "id": "e6e84653",
   "metadata": {},
   "outputs": [],
   "source": [
    "subs_dict = {S : 0.6751, k : 0.0810, eps : 0.01,\n",
    "             A1 : 0.1385, B0 : 8.004373, B1 : -0.004235,\n",
    "             C1 : -0.4263, D0 : 3.6008289, D1 : -0.0002337,\n",
    "             E0 : -1.8010167, E1 : 0.0007191, zeta_1 : 1.0050,\n",
    "             alpha : 8.0, zeta_2 : -1.7971}"
   ]
  },
  {
   "cell_type": "code",
   "execution_count": 106,
   "id": "19c38852",
   "metadata": {},
   "outputs": [
    {
     "data": {
      "text/latex": [
       "$\\displaystyle 0.00148412845156261$"
      ],
      "text/plain": [
       "0.00148412845156261"
      ]
     },
     "execution_count": 106,
     "metadata": {},
     "output_type": "execute_result"
    }
   ],
   "source": [
    "(c_mu1_1 * zeta_1 / k**2).subs(subs_dict)"
   ]
  },
  {
   "cell_type": "code",
   "execution_count": 107,
   "id": "dfbd17ca",
   "metadata": {},
   "outputs": [
    {
     "data": {
      "text/latex": [
       "$\\displaystyle 4.35378379835324 \\cdot 10^{-9}$"
      ],
      "text/plain": [
       "4.35378379835324e-9"
      ]
     },
     "execution_count": 107,
     "metadata": {},
     "output_type": "execute_result"
    }
   ],
   "source": [
    "(c_mu1_3 * zeta_1 / (9 * k**2)).subs(subs_dict)"
   ]
  }
 ],
 "metadata": {
  "kernelspec": {
   "display_name": "Python 3 (ipykernel)",
   "language": "python",
   "name": "python3"
  },
  "language_info": {
   "codemirror_mode": {
    "name": "ipython",
    "version": 3
   },
   "file_extension": ".py",
   "mimetype": "text/x-python",
   "name": "python",
   "nbconvert_exporter": "python",
   "pygments_lexer": "ipython3",
   "version": "3.9.7"
  }
 },
 "nbformat": 4,
 "nbformat_minor": 5
}
