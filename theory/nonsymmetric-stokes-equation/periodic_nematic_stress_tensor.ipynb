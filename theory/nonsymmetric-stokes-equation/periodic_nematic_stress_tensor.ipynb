{
 "cells": [
  {
   "cell_type": "code",
   "execution_count": 1,
   "id": "73233179",
   "metadata": {},
   "outputs": [],
   "source": [
    "from sympy import *\n",
    "from sympy.simplify.fu import sincos_to_sum"
   ]
  },
  {
   "cell_type": "code",
   "execution_count": 2,
   "id": "42e00a5e",
   "metadata": {},
   "outputs": [],
   "source": [
    "x, y, z, eps, k, S = symbols('x y z varepsilon k S')\n",
    "xi = Matrix([x, y, z])"
   ]
  },
  {
   "cell_type": "code",
   "execution_count": 3,
   "id": "953940b2",
   "metadata": {},
   "outputs": [],
   "source": [
    "zeta_d, zeta_1, zeta_2 = symbols('zeta_d zeta_1 zeta_2')\n",
    "alpha = symbols('alpha')"
   ]
  },
  {
   "cell_type": "code",
   "execution_count": 4,
   "id": "2a2821a9",
   "metadata": {},
   "outputs": [],
   "source": [
    "a0, a1, b0, b1, c0, c1 = symbols('a_0 a_1 b_0 b_1 c_0 c_1')\n",
    "A0, A1, B0, B1, C0, C1 = symbols('A_0 A_1 B_0 B_1 C_0 C_1')"
   ]
  },
  {
   "cell_type": "code",
   "execution_count": 5,
   "id": "f1070b90",
   "metadata": {},
   "outputs": [],
   "source": [
    "subs_dict = {S : 0.6751, k : 0.0810, eps : 0.01,\n",
    "             zeta_d : 1.0050, zeta_1 : 1.0050, zeta_2 : -1.7971,\n",
    "             alpha : 8.0,\n",
    "             a0 : 3.6008289, a1 : -2.337e-4,\n",
    "             b0 : 0.0, b1 : 5.403e-2,\n",
    "             c0 : -1.8010167, c1 : 7.191e-4,\n",
    "             A0 : 0.0, A1 : 0.1385,\n",
    "             B0 : 8.004373, B1 : -4.235e-3,\n",
    "             C0 : 0.0, C1 : -0.4263}"
   ]
  },
  {
   "cell_type": "markdown",
   "id": "c4991fe3",
   "metadata": {},
   "source": [
    "## Generate $Q$-tensor"
   ]
  },
  {
   "cell_type": "code",
   "execution_count": 6,
   "id": "337c0975",
   "metadata": {},
   "outputs": [
    {
     "data": {
      "text/latex": [
       "$\\displaystyle \\left[\\begin{matrix}\\frac{2 S}{3} & S \\varepsilon \\sin{\\left(k x \\right)} & 0\\\\S \\varepsilon \\sin{\\left(k x \\right)} & - \\frac{S}{3} & 0\\\\0 & 0 & - \\frac{S}{3}\\end{matrix}\\right]$"
      ],
      "text/plain": [
       "Matrix([\n",
       "[                2*S/3, S*varepsilon*sin(k*x),    0],\n",
       "[S*varepsilon*sin(k*x),                  -S/3,    0],\n",
       "[                    0,                     0, -S/3]])"
      ]
     },
     "execution_count": 6,
     "metadata": {},
     "output_type": "execute_result"
    }
   ],
   "source": [
    "Q_mat = S * Matrix([[Rational(2, 3), eps*sin(k*x), 0],\n",
    "                    [eps*sin(k*x), -Rational(1, 3), 0],\n",
    "                    [0, 0, -Rational(1, 3)]])\n",
    "\n",
    "Q_mat"
   ]
  },
  {
   "cell_type": "markdown",
   "id": "6f3d42ac",
   "metadata": {},
   "source": [
    "## Generate elastic stress tensor and corresponding force"
   ]
  },
  {
   "cell_type": "code",
   "execution_count": 7,
   "id": "eb0b18ca",
   "metadata": {},
   "outputs": [],
   "source": [
    "sigma_e = zeros(3)\n",
    "for i in range(3):\n",
    "    for j in range(3):\n",
    "        sigma_e[i, j] = -sum([Q_mat[k, l].diff(xi[i]) * Q_mat[k, l].diff(xi[j])\n",
    "                              for k in range(3)\n",
    "                              for l in range(3)])"
   ]
  },
  {
   "cell_type": "code",
   "execution_count": 8,
   "id": "6a07998d",
   "metadata": {},
   "outputs": [
    {
     "data": {
      "text/latex": [
       "$\\displaystyle \\left[\\begin{matrix}- 2 S^{2} k^{2} \\varepsilon^{2} \\cos^{2}{\\left(k x \\right)} & 0 & 0\\\\0 & 0 & 0\\\\0 & 0 & 0\\end{matrix}\\right]$"
      ],
      "text/plain": [
       "Matrix([\n",
       "[-2*S**2*k**2*varepsilon**2*cos(k*x)**2, 0, 0],\n",
       "[                                     0, 0, 0],\n",
       "[                                     0, 0, 0]])"
      ]
     },
     "execution_count": 8,
     "metadata": {},
     "output_type": "execute_result"
    }
   ],
   "source": [
    "sigma_e"
   ]
  },
  {
   "cell_type": "code",
   "execution_count": 9,
   "id": "486b3a18",
   "metadata": {},
   "outputs": [
    {
     "data": {
      "text/latex": [
       "$\\displaystyle \\left[\\begin{matrix}2 S^{2} k^{3} \\varepsilon^{2} \\sin{\\left(2 k x \\right)}\\\\0\\\\0\\end{matrix}\\right]$"
      ],
      "text/plain": [
       "Matrix([\n",
       "[2*S**2*k**3*varepsilon**2*sin(2*k*x)],\n",
       "[                                   0],\n",
       "[                                   0]])"
      ]
     },
     "execution_count": 9,
     "metadata": {},
     "output_type": "execute_result"
    }
   ],
   "source": [
    "f_e = zeros(3, 1)\n",
    "for i in range(3):\n",
    "    f_e[i, 0] = sum([sigma_e[k, i].diff(xi[k])\n",
    "                     for k in range(3)])\n",
    "f_e = trigsimp(f_e)\n",
    "f_e"
   ]
  },
  {
   "cell_type": "code",
   "execution_count": 10,
   "id": "13ce0753",
   "metadata": {},
   "outputs": [
    {
     "data": {
      "text/latex": [
       "$\\displaystyle 2 S^{2} k^{3} \\varepsilon^{2}$"
      ],
      "text/plain": [
       "2*S**2*k**3*varepsilon**2"
      ]
     },
     "execution_count": 10,
     "metadata": {},
     "output_type": "execute_result"
    }
   ],
   "source": [
    "f_ex = f_e[0]\n",
    "f_ex_1 = f_ex.coeff(sin(2*k*x))\n",
    "f_ex_1"
   ]
  },
  {
   "cell_type": "code",
   "execution_count": 11,
   "id": "f1b818b1",
   "metadata": {},
   "outputs": [
    {
     "name": "stdout",
     "output_type": "stream",
     "text": [
      "p_2 is given by: -2.99024142561000e-7\n"
     ]
    }
   ],
   "source": [
    "print(\"p_2 is given by:\", (f_ex_1 / (-2*k)).subs(subs_dict))"
   ]
  },
  {
   "cell_type": "markdown",
   "id": "1a2d47e3",
   "metadata": {},
   "source": [
    "### Check stress tensor amplitudes"
   ]
  },
  {
   "cell_type": "code",
   "execution_count": 12,
   "id": "f14faa63",
   "metadata": {},
   "outputs": [
    {
     "data": {
      "text/latex": [
       "$\\displaystyle - S^{2} k^{2} \\varepsilon^{2} \\cos{\\left(2 k x \\right)} - S^{2} k^{2} \\varepsilon^{2}$"
      ],
      "text/plain": [
       "-S**2*k**2*varepsilon**2*cos(2*k*x) - S**2*k**2*varepsilon**2"
      ]
     },
     "execution_count": 12,
     "metadata": {},
     "output_type": "execute_result"
    }
   ],
   "source": [
    "sigma_e_1 = expand(sincos_to_sum(sigma_e)[0, 0])\n",
    "sigma_e_1 = collect(sigma_e_1, cos(2*k*x))\n",
    "sigma_e_1"
   ]
  },
  {
   "cell_type": "code",
   "execution_count": 13,
   "id": "a45b2880",
   "metadata": {},
   "outputs": [
    {
     "data": {
      "text/latex": [
       "$\\displaystyle - S^{2} k^{2} \\varepsilon^{2}$"
      ],
      "text/plain": [
       "-S**2*k**2*varepsilon**2"
      ]
     },
     "execution_count": 13,
     "metadata": {},
     "output_type": "execute_result"
    }
   ],
   "source": [
    "sigma_e_amplitude = sigma_e_1.coeff(cos(2*k*x))\n",
    "sigma_e_amplitude"
   ]
  },
  {
   "cell_type": "code",
   "execution_count": 14,
   "id": "8cdcd6a8",
   "metadata": {},
   "outputs": [
    {
     "data": {
      "text/latex": [
       "$\\displaystyle - S^{2} k^{2} \\varepsilon^{2}$"
      ],
      "text/plain": [
       "-S**2*k**2*varepsilon**2"
      ]
     },
     "execution_count": 14,
     "metadata": {},
     "output_type": "execute_result"
    }
   ],
   "source": [
    "sigma_e_offset = sigma_e_1.args[0]\n",
    "sigma_e_offset"
   ]
  },
  {
   "cell_type": "code",
   "execution_count": 15,
   "id": "992d7c81",
   "metadata": {},
   "outputs": [
    {
     "name": "stdout",
     "output_type": "stream",
     "text": [
      "Elastic stress tensor amplitude is: -2.99024142561000e-7\n",
      "Elastic stress tensor offset is: -2.99024142561000e-7\n"
     ]
    }
   ],
   "source": [
    "print(\"Elastic stress tensor amplitude is:\", sigma_e_amplitude.subs(subs_dict))\n",
    "print(\"Elastic stress tensor offset is:\", sigma_e_offset.subs(subs_dict))"
   ]
  },
  {
   "cell_type": "markdown",
   "id": "847882b6",
   "metadata": {},
   "source": [
    "## Generate $\\mu_2$ viscous stress tensor and corresponding force"
   ]
  },
  {
   "cell_type": "code",
   "execution_count": 16,
   "id": "cdffe668",
   "metadata": {},
   "outputs": [
    {
     "data": {
      "text/latex": [
       "$\\displaystyle \\left[\\begin{matrix}\\Lambda_{1}{\\left(x \\right)} & \\Lambda_{2}{\\left(x \\right)} & 0\\\\\\Lambda_{2}{\\left(x \\right)} & \\Lambda_{4}{\\left(x \\right)} & 0\\\\0 & 0 & - \\Lambda_{1}{\\left(x \\right)} - \\Lambda_{4}{\\left(x \\right)}\\end{matrix}\\right]$"
      ],
      "text/plain": [
       "Matrix([\n",
       "[\\Lambda_1(x), \\Lambda_2(x),                            0],\n",
       "[\\Lambda_2(x), \\Lambda_4(x),                            0],\n",
       "[           0,            0, -\\Lambda_1(x) - \\Lambda_4(x)]])"
      ]
     },
     "execution_count": 16,
     "metadata": {},
     "output_type": "execute_result"
    }
   ],
   "source": [
    "Lambda1 = Function(\"\\Lambda_1\")(x)\n",
    "Lambda2 = Function(\"\\Lambda_2\")(x)\n",
    "Lambda4 = Function(\"\\Lambda_4\")(x)\n",
    "Lambda_mat = Matrix([[Lambda1, Lambda2, 0],\n",
    "                     [Lambda2, Lambda4, 0],\n",
    "                     [0, 0, -(Lambda1 + Lambda4)]])\n",
    "Lambda_mat"
   ]
  },
  {
   "cell_type": "code",
   "execution_count": 17,
   "id": "8aec93a3",
   "metadata": {},
   "outputs": [],
   "source": [
    "dLambda1_dQ2 = symbols('\\\\frac{\\partial\\Lambda_1}{\\partial\\ Q_2}')\n",
    "dLambda2_dQ2 = symbols('\\\\frac{\\partial\\Lambda_2}{\\partial\\ Q_2}')\n",
    "dLambda4_dQ2 = symbols('\\\\frac{\\partial\\Lambda_4}{\\partial\\ Q_2}')"
   ]
  },
  {
   "cell_type": "code",
   "execution_count": 18,
   "id": "ec9f68d5",
   "metadata": {},
   "outputs": [],
   "source": [
    "lambda_subs_dict = {Lambda1 : a0 + a1 * cos(2*k*x),\n",
    "                    Lambda2 : b0 + b1 * sin(k*x),\n",
    "                    Lambda4 : c0 + c1 * cos(2*k*x),\n",
    "                    dLambda1_dQ2 : A0 + A1 * sin(k*x),\n",
    "                    dLambda2_dQ2 : B0 + B1 * cos(2*k*x),\n",
    "                    dLambda4_dQ2 : C0 + C1 * sin(k*x)}"
   ]
  },
  {
   "cell_type": "code",
   "execution_count": 19,
   "id": "fb1baabf",
   "metadata": {},
   "outputs": [
    {
     "data": {
      "text/latex": [
       "$\\displaystyle \\left[\\begin{matrix}\\frac{2 S \\alpha}{3} - \\Lambda_{1}{\\left(x \\right)} & S \\alpha \\varepsilon \\sin{\\left(k x \\right)} - S k^{2} \\varepsilon \\sin{\\left(k x \\right)} - \\Lambda_{2}{\\left(x \\right)} & 0\\\\S \\alpha \\varepsilon \\sin{\\left(k x \\right)} - S k^{2} \\varepsilon \\sin{\\left(k x \\right)} - \\Lambda_{2}{\\left(x \\right)} & - \\frac{S \\alpha}{3} - \\Lambda_{4}{\\left(x \\right)} & 0\\\\0 & 0 & - \\frac{S \\alpha}{3} + \\Lambda_{1}{\\left(x \\right)} + \\Lambda_{4}{\\left(x \\right)}\\end{matrix}\\right]$"
      ],
      "text/plain": [
       "Matrix([\n",
       "[                                             2*S*alpha/3 - \\Lambda_1(x), S*alpha*varepsilon*sin(k*x) - S*k**2*varepsilon*sin(k*x) - \\Lambda_2(x),                                        0],\n",
       "[S*alpha*varepsilon*sin(k*x) - S*k**2*varepsilon*sin(k*x) - \\Lambda_2(x),                                               -S*alpha/3 - \\Lambda_4(x),                                        0],\n",
       "[                                                                      0,                                                                       0, -S*alpha/3 + \\Lambda_1(x) + \\Lambda_4(x)]])"
      ]
     },
     "execution_count": 19,
     "metadata": {},
     "output_type": "execute_result"
    }
   ],
   "source": [
    "lap_Q_mat = zeros(3)\n",
    "for i in range(3):\n",
    "    for j in range(3):\n",
    "        lap_Q_mat[i, j] = sum([Q_mat[i, j].diff(xi[k]).diff(xi[k])\n",
    "                              for k in range(3)])\n",
    "        \n",
    "h = alpha*Q_mat - Lambda_mat + lap_Q_mat\n",
    "h"
   ]
  },
  {
   "cell_type": "code",
   "execution_count": 20,
   "id": "67efec99",
   "metadata": {},
   "outputs": [
    {
     "data": {
      "text/latex": [
       "$\\displaystyle \\left[\\begin{matrix}- \\frac{d}{d x} \\Lambda_{1}{\\left(x \\right)}\\\\S \\alpha k \\varepsilon \\cos{\\left(k x \\right)} - S k^{3} \\varepsilon \\cos{\\left(k x \\right)} - \\frac{d}{d x} \\Lambda_{2}{\\left(x \\right)}\\\\0\\end{matrix}\\right]$"
      ],
      "text/plain": [
       "Matrix([\n",
       "[                                                            -Derivative(\\Lambda_1(x), x)],\n",
       "[S*alpha*k*varepsilon*cos(k*x) - S*k**3*varepsilon*cos(k*x) - Derivative(\\Lambda_2(x), x)],\n",
       "[                                                                                       0]])"
      ]
     },
     "execution_count": 20,
     "metadata": {},
     "output_type": "execute_result"
    }
   ],
   "source": [
    "f_h = zeros(3, 1)\n",
    "for i in range(3):\n",
    "    f_h[i, 0] = sum([h[k, i].diff(xi[k])\n",
    "                     for k in range(3)])\n",
    "\n",
    "f_h"
   ]
  },
  {
   "cell_type": "code",
   "execution_count": 21,
   "id": "14a2497b",
   "metadata": {},
   "outputs": [
    {
     "data": {
      "text/latex": [
       "$\\displaystyle \\left[\\begin{matrix}\\frac{2 S}{3}\\\\S \\varepsilon \\sin{\\left(k x \\right)}\\\\0\\\\- \\frac{S}{3}\\\\0\\end{matrix}\\right]$"
      ],
      "text/plain": [
       "Matrix([\n",
       "[                2*S/3],\n",
       "[S*varepsilon*sin(k*x)],\n",
       "[                    0],\n",
       "[                 -S/3],\n",
       "[                    0]])"
      ]
     },
     "execution_count": 21,
     "metadata": {},
     "output_type": "execute_result"
    }
   ],
   "source": [
    "Q_vec = zeros(5, 1)\n",
    "Q_vec[0, 0] = Q_mat[0, 0]\n",
    "Q_vec[1, 0] = Q_mat[0, 1]\n",
    "Q_vec[2, 0] = Q_mat[0, 2]\n",
    "Q_vec[3, 0] = Q_mat[1, 1]\n",
    "Q_vec[4, 0] = Q_mat[1, 2]\n",
    "\n",
    "Q_vec"
   ]
  },
  {
   "cell_type": "code",
   "execution_count": 22,
   "id": "060f96c3",
   "metadata": {
    "scrolled": true
   },
   "outputs": [
    {
     "data": {
      "text/latex": [
       "$\\displaystyle \\left[\\begin{matrix}0\\\\S k \\varepsilon \\cos{\\left(k x \\right)}\\\\0\\\\0\\\\0\\end{matrix}\\right]$"
      ],
      "text/plain": [
       "Matrix([\n",
       "[                      0],\n",
       "[S*k*varepsilon*cos(k*x)],\n",
       "[                      0],\n",
       "[                      0],\n",
       "[                      0]])"
      ]
     },
     "execution_count": 22,
     "metadata": {},
     "output_type": "execute_result"
    }
   ],
   "source": [
    "Q_vec.diff(x)"
   ]
  },
  {
   "cell_type": "code",
   "execution_count": 23,
   "id": "45b3b4af",
   "metadata": {},
   "outputs": [],
   "source": [
    "d_lambda_subs_dict = {Lambda1.diff(x) : Q_vec[1].diff(x) * dLambda1_dQ2,\n",
    "                      Lambda2.diff(x) : Q_vec[1].diff(x) * dLambda2_dQ2,\n",
    "                      Lambda4.diff(x) : Q_vec[1].diff(x) * dLambda4_dQ2}"
   ]
  },
  {
   "cell_type": "code",
   "execution_count": 24,
   "id": "d32cc7ec",
   "metadata": {},
   "outputs": [
    {
     "data": {
      "text/latex": [
       "$\\displaystyle \\left[\\begin{matrix}- S \\frac{\\partial\\Lambda_1}{\\partial Q_2} k \\varepsilon \\cos{\\left(k x \\right)}\\\\S k \\varepsilon \\left(- \\frac{\\partial\\Lambda_2}{\\partial Q_2} + \\alpha - k^{2}\\right) \\cos{\\left(k x \\right)}\\\\0\\end{matrix}\\right]$"
      ],
      "text/plain": [
       "Matrix([\n",
       "[                 -S*\\frac{\\partial\\Lambda_1}{\\partial Q_2}*k*varepsilon*cos(k*x)],\n",
       "[S*k*varepsilon*(-\\frac{\\partial\\Lambda_2}{\\partial Q_2} + alpha - k**2)*cos(k*x)],\n",
       "[                                                                               0]])"
      ]
     },
     "execution_count": 24,
     "metadata": {},
     "output_type": "execute_result"
    }
   ],
   "source": [
    "f_h = f_h.subs(d_lambda_subs_dict)\n",
    "f_h = trigsimp(f_h)\n",
    "f_h"
   ]
  },
  {
   "cell_type": "code",
   "execution_count": 25,
   "id": "cf81b2f7",
   "metadata": {},
   "outputs": [
    {
     "data": {
      "text/latex": [
       "$\\displaystyle \\left[\\begin{matrix}- A_{0} S k \\varepsilon \\cos{\\left(k x \\right)} - \\frac{A_{1} S k \\varepsilon \\sin{\\left(2 k x \\right)}}{2}\\\\- B_{0} S k \\varepsilon \\cos{\\left(k x \\right)} + \\frac{B_{1} S k \\varepsilon \\left(- \\cos{\\left(k x \\right)} - \\cos{\\left(3 k x \\right)}\\right)}{2} + S \\alpha k \\varepsilon \\cos{\\left(k x \\right)} - S k^{3} \\varepsilon \\cos{\\left(k x \\right)}\\\\0\\end{matrix}\\right]$"
      ],
      "text/plain": [
       "Matrix([\n",
       "[                                                                           -A_0*S*k*varepsilon*cos(k*x) - A_1*S*k*varepsilon*sin(2*k*x)/2],\n",
       "[-B_0*S*k*varepsilon*cos(k*x) + B_1*S*k*varepsilon*(-cos(k*x) - cos(3*k*x))/2 + S*alpha*k*varepsilon*cos(k*x) - S*k**3*varepsilon*cos(k*x)],\n",
       "[                                                                                                                                        0]])"
      ]
     },
     "execution_count": 25,
     "metadata": {},
     "output_type": "execute_result"
    }
   ],
   "source": [
    "f_h = f_h.subs(lambda_subs_dict)\n",
    "f_h = sincos_to_sum(expand(f_h))\n",
    "f_h"
   ]
  },
  {
   "cell_type": "code",
   "execution_count": 26,
   "id": "0d5ac1a2",
   "metadata": {},
   "outputs": [],
   "source": [
    "f_hx = collect(expand(f_h[0]), sin(k*x))\n",
    "f_hy = collect(expand(f_h[1]), (cos(k*x), cos(3*k*x)))"
   ]
  },
  {
   "cell_type": "code",
   "execution_count": 27,
   "id": "2dd8d7a9",
   "metadata": {},
   "outputs": [
    {
     "data": {
      "text/latex": [
       "$\\displaystyle - A_{0} S k \\varepsilon \\cos{\\left(k x \\right)} - \\frac{A_{1} S k \\varepsilon \\sin{\\left(2 k x \\right)}}{2}$"
      ],
      "text/plain": [
       "-A_0*S*k*varepsilon*cos(k*x) - A_1*S*k*varepsilon*sin(2*k*x)/2"
      ]
     },
     "execution_count": 27,
     "metadata": {},
     "output_type": "execute_result"
    }
   ],
   "source": [
    "f_hx"
   ]
  },
  {
   "cell_type": "code",
   "execution_count": 28,
   "id": "eaf485a4",
   "metadata": {},
   "outputs": [
    {
     "data": {
      "text/latex": [
       "$\\displaystyle - \\frac{B_{1} S k \\varepsilon \\cos{\\left(3 k x \\right)}}{2} + \\left(- B_{0} S k \\varepsilon - \\frac{B_{1} S k \\varepsilon}{2} + S \\alpha k \\varepsilon - S k^{3} \\varepsilon\\right) \\cos{\\left(k x \\right)}$"
      ],
      "text/plain": [
       "-B_1*S*k*varepsilon*cos(3*k*x)/2 + (-B_0*S*k*varepsilon - B_1*S*k*varepsilon/2 + S*alpha*k*varepsilon - S*k**3*varepsilon)*cos(k*x)"
      ]
     },
     "execution_count": 28,
     "metadata": {},
     "output_type": "execute_result"
    }
   ],
   "source": [
    "f_hy"
   ]
  },
  {
   "cell_type": "code",
   "execution_count": 29,
   "id": "744f5372",
   "metadata": {},
   "outputs": [],
   "source": [
    "f_hx_1 = f_hx.coeff(cos(k*x))\n",
    "f_hx_2 = f_hx.coeff(sin(2*k*x))\n",
    "\n",
    "f_hy_1 = f_hy.coeff(cos(k*x))\n",
    "f_hy_3 = f_hy.coeff(cos(3*k*x))"
   ]
  },
  {
   "cell_type": "code",
   "execution_count": 30,
   "id": "67654fa9",
   "metadata": {},
   "outputs": [
    {
     "data": {
      "text/latex": [
       "$\\displaystyle - A_{0} S k \\varepsilon$"
      ],
      "text/plain": [
       "-A_0*S*k*varepsilon"
      ]
     },
     "execution_count": 30,
     "metadata": {},
     "output_type": "execute_result"
    }
   ],
   "source": [
    "f_hx_1"
   ]
  },
  {
   "cell_type": "code",
   "execution_count": 31,
   "id": "d89a0cb7",
   "metadata": {},
   "outputs": [
    {
     "data": {
      "text/latex": [
       "$\\displaystyle - \\frac{A_{1} S k \\varepsilon}{2}$"
      ],
      "text/plain": [
       "-A_1*S*k*varepsilon/2"
      ]
     },
     "execution_count": 31,
     "metadata": {},
     "output_type": "execute_result"
    }
   ],
   "source": [
    "f_hx_2"
   ]
  },
  {
   "cell_type": "code",
   "execution_count": 32,
   "id": "3d3f05bf",
   "metadata": {},
   "outputs": [
    {
     "data": {
      "text/latex": [
       "$\\displaystyle - B_{0} S k \\varepsilon - \\frac{B_{1} S k \\varepsilon}{2} + S \\alpha k \\varepsilon - S k^{3} \\varepsilon$"
      ],
      "text/plain": [
       "-B_0*S*k*varepsilon - B_1*S*k*varepsilon/2 + S*alpha*k*varepsilon - S*k**3*varepsilon"
      ]
     },
     "execution_count": 32,
     "metadata": {},
     "output_type": "execute_result"
    }
   ],
   "source": [
    "f_hy_1"
   ]
  },
  {
   "cell_type": "code",
   "execution_count": 33,
   "id": "736398b2",
   "metadata": {},
   "outputs": [
    {
     "data": {
      "text/latex": [
       "$\\displaystyle - \\frac{B_{1} S k \\varepsilon}{2}$"
      ],
      "text/plain": [
       "-B_1*S*k*varepsilon/2"
      ]
     },
     "execution_count": 33,
     "metadata": {},
     "output_type": "execute_result"
    }
   ],
   "source": [
    "f_hy_3"
   ]
  },
  {
   "cell_type": "code",
   "execution_count": 34,
   "id": "e2d9123f",
   "metadata": {},
   "outputs": [
    {
     "name": "stdout",
     "output_type": "stream",
     "text": [
      "p_2 is given by: -0.000420078190212500\n",
      "v_1 is given by: 0.00132053995240282\n",
      "v_3 is given by: -3.52400278419067e-5\n"
     ]
    }
   ],
   "source": [
    "print(\"p_2 is given by:\", (zeta_2 * f_hx_2 / (-2*k)).subs(subs_dict))\n",
    "print(\"v_1 is given by:\", (zeta_2 * f_hy_1 / k**2).subs(subs_dict))\n",
    "print(\"v_3 is given by:\", (zeta_2 * f_hy_3 / (9 * k**2)).subs(subs_dict))"
   ]
  },
  {
   "cell_type": "markdown",
   "id": "12869e75",
   "metadata": {},
   "source": [
    "### Check stress tensor amplitudes"
   ]
  },
  {
   "cell_type": "code",
   "execution_count": 35,
   "id": "3298a23e",
   "metadata": {},
   "outputs": [
    {
     "data": {
      "text/latex": [
       "$\\displaystyle \\left[\\begin{matrix}\\frac{2 S \\alpha}{3} - a_{0} - a_{1} \\cos{\\left(2 k x \\right)} & - b_{0} + \\left(S \\alpha \\varepsilon - S k^{2} \\varepsilon - b_{1}\\right) \\sin{\\left(k x \\right)} & 0\\\\- b_{0} + \\left(S \\alpha \\varepsilon - S k^{2} \\varepsilon - b_{1}\\right) \\sin{\\left(k x \\right)} & - \\frac{S \\alpha}{3} - c_{0} - c_{1} \\cos{\\left(2 k x \\right)} & 0\\\\0 & 0 & - \\frac{S \\alpha}{3} + a_{0} + c_{0} + \\left(a_{1} + c_{1}\\right) \\cos{\\left(2 k x \\right)}\\end{matrix}\\right]$"
      ],
      "text/plain": [
       "Matrix([\n",
       "[                            2*S*alpha/3 - a_0 - a_1*cos(2*k*x), -b_0 + (S*alpha*varepsilon - S*k**2*varepsilon - b_1)*sin(k*x),                                               0],\n",
       "[-b_0 + (S*alpha*varepsilon - S*k**2*varepsilon - b_1)*sin(k*x),                              -S*alpha/3 - c_0 - c_1*cos(2*k*x),                                               0],\n",
       "[                                                             0,                                                              0, -S*alpha/3 + a_0 + c_0 + (a_1 + c_1)*cos(2*k*x)]])"
      ]
     },
     "execution_count": 35,
     "metadata": {},
     "output_type": "execute_result"
    }
   ],
   "source": [
    "h_exp = h.subs(lambda_subs_dict)\n",
    "for i in range(3):\n",
    "    for j in range(3):\n",
    "        h_exp[i, j] = collect(h_exp[i, j], (sin(k*x), cos(2*k*x), 1))\n",
    "h_exp"
   ]
  },
  {
   "cell_type": "code",
   "execution_count": 36,
   "id": "45261a77",
   "metadata": {},
   "outputs": [
    {
     "name": "stdout",
     "output_type": "stream",
     "text": [
      "\\left[\\begin{matrix}\\frac{2 S \\alpha}{3} - a_{0} - a_{1} \\cos{\\left(2 k x \\right)} & - b_{0} + \\left(S \\alpha \\varepsilon - S k^{2} \\varepsilon - b_{1}\\right) \\sin{\\left(k x \\right)} & 0\\\\- b_{0} + \\left(S \\alpha \\varepsilon - S k^{2} \\varepsilon - b_{1}\\right) \\sin{\\left(k x \\right)} & - \\frac{S \\alpha}{3} - c_{0} - c_{1} \\cos{\\left(2 k x \\right)} & 0\\\\0 & 0 & - \\frac{S \\alpha}{3} + a_{0} + c_{0} + \\left(a_{1} + c_{1}\\right) \\cos{\\left(2 k x \\right)}\\end{matrix}\\right]\n"
     ]
    }
   ],
   "source": [
    "print(latex(h_exp))"
   ]
  },
  {
   "cell_type": "code",
   "execution_count": 37,
   "id": "5324eba1",
   "metadata": {},
   "outputs": [
    {
     "data": {
      "text/latex": [
       "$\\displaystyle \\left[\\begin{matrix}0.0002337 \\cos{\\left(0.162 x \\right)} - 0.000295566666666858 & - 6.62933109999986 \\cdot 10^{-5} \\sin{\\left(0.081 x \\right)} & 0\\\\- 6.62933109999986 \\cdot 10^{-5} \\sin{\\left(0.081 x \\right)} & 0.000750033333333233 - 0.0007191 \\cos{\\left(0.162 x \\right)} & 0\\\\0 & 0 & 0.0004854 \\cos{\\left(0.162 x \\right)} - 0.000454466666666375\\end{matrix}\\right]$"
      ],
      "text/plain": [
       "Matrix([\n",
       "[0.0002337*cos(0.162*x) - 0.000295566666666858,             -6.62933109999986e-5*sin(0.081*x),                                             0],\n",
       "[            -6.62933109999986e-5*sin(0.081*x), 0.000750033333333233 - 0.0007191*cos(0.162*x),                                             0],\n",
       "[                                            0,                                             0, 0.0004854*cos(0.162*x) - 0.000454466666666375]])"
      ]
     },
     "execution_count": 37,
     "metadata": {},
     "output_type": "execute_result"
    }
   ],
   "source": [
    "h_exp.subs(subs_dict)"
   ]
  },
  {
   "cell_type": "markdown",
   "id": "153a930a",
   "metadata": {},
   "source": [
    "## Generate $\\mu_1$ stress tensor and corresponding force"
   ]
  },
  {
   "cell_type": "code",
   "execution_count": 38,
   "id": "e549ae4a",
   "metadata": {},
   "outputs": [
    {
     "data": {
      "text/latex": [
       "$\\displaystyle \\left[\\begin{matrix}0 & S \\left(S k^{2} \\varepsilon \\sin{\\left(k x \\right)} - \\varepsilon \\Lambda_{1}{\\left(x \\right)} \\sin{\\left(k x \\right)} + \\varepsilon \\Lambda_{4}{\\left(x \\right)} \\sin{\\left(k x \\right)} + \\Lambda_{2}{\\left(x \\right)}\\right) & 0\\\\S \\left(- S k^{2} \\varepsilon \\sin{\\left(k x \\right)} + \\varepsilon \\Lambda_{1}{\\left(x \\right)} \\sin{\\left(k x \\right)} - \\varepsilon \\Lambda_{4}{\\left(x \\right)} \\sin{\\left(k x \\right)} - \\Lambda_{2}{\\left(x \\right)}\\right) & 0 & 0\\\\0 & 0 & 0\\end{matrix}\\right]$"
      ],
      "text/plain": [
       "Matrix([\n",
       "[                                                                                                                   0, S*(S*k**2*varepsilon*sin(k*x) - varepsilon*\\Lambda_1(x)*sin(k*x) + varepsilon*\\Lambda_4(x)*sin(k*x) + \\Lambda_2(x)), 0],\n",
       "[S*(-S*k**2*varepsilon*sin(k*x) + varepsilon*\\Lambda_1(x)*sin(k*x) - varepsilon*\\Lambda_4(x)*sin(k*x) - \\Lambda_2(x)),                                                                                                                   0, 0],\n",
       "[                                                                                                                   0,                                                                                                                   0, 0]])"
      ]
     },
     "execution_count": 38,
     "metadata": {},
     "output_type": "execute_result"
    }
   ],
   "source": [
    "sigma_mu1 = h * Q_mat - Q_mat * h\n",
    "for i in range(3):\n",
    "    for j in range(3):\n",
    "        sigma_mu1[i, j] = simplify(sigma_mu1[i, j])\n",
    "sigma_mu1"
   ]
  },
  {
   "cell_type": "code",
   "execution_count": 39,
   "id": "c5127488",
   "metadata": {},
   "outputs": [
    {
     "data": {
      "text/latex": [
       "$\\displaystyle \\left[\\begin{matrix}0\\\\S \\left(S k^{3} \\varepsilon \\cos{\\left(k x \\right)} - k \\varepsilon \\Lambda_{1}{\\left(x \\right)} \\cos{\\left(k x \\right)} + k \\varepsilon \\Lambda_{4}{\\left(x \\right)} \\cos{\\left(k x \\right)} - \\varepsilon \\sin{\\left(k x \\right)} \\frac{d}{d x} \\Lambda_{1}{\\left(x \\right)} + \\varepsilon \\sin{\\left(k x \\right)} \\frac{d}{d x} \\Lambda_{4}{\\left(x \\right)} + \\frac{d}{d x} \\Lambda_{2}{\\left(x \\right)}\\right)\\\\0\\end{matrix}\\right]$"
      ],
      "text/plain": [
       "Matrix([\n",
       "[                                                                                                                                                                                                                                         0],\n",
       "[S*(S*k**3*varepsilon*cos(k*x) - k*varepsilon*\\Lambda_1(x)*cos(k*x) + k*varepsilon*\\Lambda_4(x)*cos(k*x) - varepsilon*sin(k*x)*Derivative(\\Lambda_1(x), x) + varepsilon*sin(k*x)*Derivative(\\Lambda_4(x), x) + Derivative(\\Lambda_2(x), x))],\n",
       "[                                                                                                                                                                                                                                         0]])"
      ]
     },
     "execution_count": 39,
     "metadata": {},
     "output_type": "execute_result"
    }
   ],
   "source": [
    "f_mu1 = zeros(3, 1)\n",
    "for i in range(3):\n",
    "    f_mu1[i, 0] = sum([sigma_mu1[k, i].diff(xi[k])\n",
    "                       for k in range(3)])\n",
    "\n",
    "f_mu1 = simplify(f_mu1)\n",
    "f_mu1"
   ]
  },
  {
   "cell_type": "code",
   "execution_count": 40,
   "id": "945828d1",
   "metadata": {},
   "outputs": [
    {
     "data": {
      "text/latex": [
       "$\\displaystyle \\left[\\begin{matrix}0\\\\- \\frac{S^{2} \\frac{\\partial\\Lambda_1}{\\partial Q_2} k \\varepsilon^{2} \\sin{\\left(2 k x \\right)}}{2} + S^{2} \\frac{\\partial\\Lambda_2}{\\partial Q_2} k \\varepsilon \\cos{\\left(k x \\right)} + \\frac{S^{2} \\frac{\\partial\\Lambda_4}{\\partial Q_2} k \\varepsilon^{2} \\sin{\\left(2 k x \\right)}}{2} + S^{2} k^{3} \\varepsilon \\cos{\\left(k x \\right)} - S k \\varepsilon \\Lambda_{1}{\\left(x \\right)} \\cos{\\left(k x \\right)} + S k \\varepsilon \\Lambda_{4}{\\left(x \\right)} \\cos{\\left(k x \\right)}\\\\0\\end{matrix}\\right]$"
      ],
      "text/plain": [
       "Matrix([\n",
       "[                                                                                                                                                                                                                                                                                                                                     0],\n",
       "[-S**2*\\frac{\\partial\\Lambda_1}{\\partial Q_2}*k*varepsilon**2*sin(2*k*x)/2 + S**2*\\frac{\\partial\\Lambda_2}{\\partial Q_2}*k*varepsilon*cos(k*x) + S**2*\\frac{\\partial\\Lambda_4}{\\partial Q_2}*k*varepsilon**2*sin(2*k*x)/2 + S**2*k**3*varepsilon*cos(k*x) - S*k*varepsilon*\\Lambda_1(x)*cos(k*x) + S*k*varepsilon*\\Lambda_4(x)*cos(k*x)],\n",
       "[                                                                                                                                                                                                                                                                                                                                     0]])"
      ]
     },
     "execution_count": 40,
     "metadata": {},
     "output_type": "execute_result"
    }
   ],
   "source": [
    "f_mu1 = f_mu1.subs(d_lambda_subs_dict)\n",
    "f_mu1 = sincos_to_sum(f_mu1)\n",
    "f_mu1"
   ]
  },
  {
   "cell_type": "code",
   "execution_count": 41,
   "id": "fe8b8a52",
   "metadata": {},
   "outputs": [
    {
     "data": {
      "text/latex": [
       "$\\displaystyle \\left[\\begin{matrix}0\\\\- \\frac{A_{0} S^{2} k \\varepsilon^{2} \\sin{\\left(2 k x \\right)}}{2} - \\frac{A_{1} S^{2} k \\varepsilon^{2} \\cos{\\left(k x \\right)}}{4} + \\frac{A_{1} S^{2} k \\varepsilon^{2} \\cos{\\left(3 k x \\right)}}{4} + B_{0} S^{2} k \\varepsilon \\cos{\\left(k x \\right)} + \\frac{B_{1} S^{2} k \\varepsilon \\cos{\\left(k x \\right)}}{2} + \\frac{B_{1} S^{2} k \\varepsilon \\cos{\\left(3 k x \\right)}}{2} + \\frac{C_{0} S^{2} k \\varepsilon^{2} \\sin{\\left(2 k x \\right)}}{2} + \\frac{C_{1} S^{2} k \\varepsilon^{2} \\cos{\\left(k x \\right)}}{4} - \\frac{C_{1} S^{2} k \\varepsilon^{2} \\cos{\\left(3 k x \\right)}}{4} + S^{2} k^{3} \\varepsilon \\cos{\\left(k x \\right)} - S a_{0} k \\varepsilon \\cos{\\left(k x \\right)} - \\frac{S a_{1} k \\varepsilon \\cos{\\left(k x \\right)}}{2} - \\frac{S a_{1} k \\varepsilon \\cos{\\left(3 k x \\right)}}{2} + S c_{0} k \\varepsilon \\cos{\\left(k x \\right)} + \\frac{S c_{1} k \\varepsilon \\cos{\\left(k x \\right)}}{2} + \\frac{S c_{1} k \\varepsilon \\cos{\\left(3 k x \\right)}}{2}\\\\0\\end{matrix}\\right]$"
      ],
      "text/plain": [
       "Matrix([\n",
       "[                                                                                                                                                                                                                                                                                                                                                                                                                                                                                                                                                                                  0],\n",
       "[-A_0*S**2*k*varepsilon**2*sin(2*k*x)/2 - A_1*S**2*k*varepsilon**2*cos(k*x)/4 + A_1*S**2*k*varepsilon**2*cos(3*k*x)/4 + B_0*S**2*k*varepsilon*cos(k*x) + B_1*S**2*k*varepsilon*cos(k*x)/2 + B_1*S**2*k*varepsilon*cos(3*k*x)/2 + C_0*S**2*k*varepsilon**2*sin(2*k*x)/2 + C_1*S**2*k*varepsilon**2*cos(k*x)/4 - C_1*S**2*k*varepsilon**2*cos(3*k*x)/4 + S**2*k**3*varepsilon*cos(k*x) - S*a_0*k*varepsilon*cos(k*x) - S*a_1*k*varepsilon*cos(k*x)/2 - S*a_1*k*varepsilon*cos(3*k*x)/2 + S*c_0*k*varepsilon*cos(k*x) + S*c_1*k*varepsilon*cos(k*x)/2 + S*c_1*k*varepsilon*cos(3*k*x)/2],\n",
       "[                                                                                                                                                                                                                                                                                                                                                                                                                                                                                                                                                                                  0]])"
      ]
     },
     "execution_count": 41,
     "metadata": {},
     "output_type": "execute_result"
    }
   ],
   "source": [
    "f_mu1 = f_mu1.subs(lambda_subs_dict)\n",
    "f_mu1 = expand(simplify(sincos_to_sum(f_mu1)))\n",
    "f_mu1"
   ]
  },
  {
   "cell_type": "code",
   "execution_count": 42,
   "id": "6375c9ec",
   "metadata": {},
   "outputs": [
    {
     "data": {
      "text/latex": [
       "$\\displaystyle \\left(- \\frac{A_{0} S^{2} k \\varepsilon^{2}}{2} + \\frac{C_{0} S^{2} k \\varepsilon^{2}}{2}\\right) \\sin{\\left(2 k x \\right)} + \\left(\\frac{A_{1} S^{2} k \\varepsilon^{2}}{4} + \\frac{B_{1} S^{2} k \\varepsilon}{2} - \\frac{C_{1} S^{2} k \\varepsilon^{2}}{4} - \\frac{S a_{1} k \\varepsilon}{2} + \\frac{S c_{1} k \\varepsilon}{2}\\right) \\cos{\\left(3 k x \\right)} + \\left(- \\frac{A_{1} S^{2} k \\varepsilon^{2}}{4} + B_{0} S^{2} k \\varepsilon + \\frac{B_{1} S^{2} k \\varepsilon}{2} + \\frac{C_{1} S^{2} k \\varepsilon^{2}}{4} + S^{2} k^{3} \\varepsilon - S a_{0} k \\varepsilon - \\frac{S a_{1} k \\varepsilon}{2} + S c_{0} k \\varepsilon + \\frac{S c_{1} k \\varepsilon}{2}\\right) \\cos{\\left(k x \\right)}$"
      ],
      "text/plain": [
       "(-A_0*S**2*k*varepsilon**2/2 + C_0*S**2*k*varepsilon**2/2)*sin(2*k*x) + (A_1*S**2*k*varepsilon**2/4 + B_1*S**2*k*varepsilon/2 - C_1*S**2*k*varepsilon**2/4 - S*a_1*k*varepsilon/2 + S*c_1*k*varepsilon/2)*cos(3*k*x) + (-A_1*S**2*k*varepsilon**2/4 + B_0*S**2*k*varepsilon + B_1*S**2*k*varepsilon/2 + C_1*S**2*k*varepsilon**2/4 + S**2*k**3*varepsilon - S*a_0*k*varepsilon - S*a_1*k*varepsilon/2 + S*c_0*k*varepsilon + S*c_1*k*varepsilon/2)*cos(k*x)"
      ]
     },
     "execution_count": 42,
     "metadata": {},
     "output_type": "execute_result"
    }
   ],
   "source": [
    "f_mu1_expr = collect(f_mu1[1], (cos(k*x), sin(2*k*x), cos(3*k*x)))\n",
    "f_mu1_expr"
   ]
  },
  {
   "cell_type": "code",
   "execution_count": 43,
   "id": "868472b6",
   "metadata": {},
   "outputs": [
    {
     "data": {
      "text/latex": [
       "$\\displaystyle \\frac{S k \\varepsilon \\left(- A_{1} S \\varepsilon + 4 B_{0} S + 2 B_{1} S + C_{1} S \\varepsilon + 4 S k^{2} - 4 a_{0} - 2 a_{1} + 4 c_{0} + 2 c_{1}\\right)}{4}$"
      ],
      "text/plain": [
       "S*k*varepsilon*(-A_1*S*varepsilon + 4*B_0*S + 2*B_1*S + C_1*S*varepsilon + 4*S*k**2 - 4*a_0 - 2*a_1 + 4*c_0 + 2*c_1)/4"
      ]
     },
     "execution_count": 43,
     "metadata": {},
     "output_type": "execute_result"
    }
   ],
   "source": [
    "c_mu1_1 = simplify(f_mu1_expr.coeff(cos(k*x)))\n",
    "c_mu1_1"
   ]
  },
  {
   "cell_type": "code",
   "execution_count": 44,
   "id": "10f6eae2",
   "metadata": {},
   "outputs": [
    {
     "name": "stdout",
     "output_type": "stream",
     "text": [
      "\\frac{S k \\varepsilon \\left(- A_{1} S \\varepsilon + 4 B_{0} S + 2 B_{1} S + C_{1} S \\varepsilon + 4 S k^{2} - 4 a_{0} - 2 a_{1} + 4 c_{0} + 2 c_{1}\\right)}{4}\n"
     ]
    }
   ],
   "source": [
    "print(latex(c_mu1_1))"
   ]
  },
  {
   "cell_type": "code",
   "execution_count": 45,
   "id": "423e20bc",
   "metadata": {},
   "outputs": [
    {
     "data": {
      "text/latex": [
       "$\\displaystyle \\frac{S^{2} k \\varepsilon^{2} \\left(- A_{0} + C_{0}\\right)}{2}$"
      ],
      "text/plain": [
       "S**2*k*varepsilon**2*(-A_0 + C_0)/2"
      ]
     },
     "execution_count": 45,
     "metadata": {},
     "output_type": "execute_result"
    }
   ],
   "source": [
    "c_mu1_2 = simplify(f_mu1_expr.coeff(sin(2*k*x)))\n",
    "c_mu1_2"
   ]
  },
  {
   "cell_type": "code",
   "execution_count": 46,
   "id": "9db85316",
   "metadata": {},
   "outputs": [
    {
     "data": {
      "text/latex": [
       "$\\displaystyle \\frac{S k \\varepsilon \\left(A_{1} S \\varepsilon + 2 B_{1} S - C_{1} S \\varepsilon - 2 a_{1} + 2 c_{1}\\right)}{4}$"
      ],
      "text/plain": [
       "S*k*varepsilon*(A_1*S*varepsilon + 2*B_1*S - C_1*S*varepsilon - 2*a_1 + 2*c_1)/4"
      ]
     },
     "execution_count": 46,
     "metadata": {},
     "output_type": "execute_result"
    }
   ],
   "source": [
    "c_mu1_3 = simplify(f_mu1_expr.coeff(cos(3*k*x)))\n",
    "c_mu1_3"
   ]
  },
  {
   "cell_type": "code",
   "execution_count": 47,
   "id": "bab57237",
   "metadata": {},
   "outputs": [
    {
     "name": "stdout",
     "output_type": "stream",
     "text": [
      "\\frac{S k \\varepsilon \\left(A_{1} S \\varepsilon + 2 B_{1} S - C_{1} S \\varepsilon - 2 a_{1} + 2 c_{1}\\right)}{4}\n"
     ]
    }
   ],
   "source": [
    "print(latex(c_mu1_3))"
   ]
  },
  {
   "cell_type": "code",
   "execution_count": 48,
   "id": "91845d7e",
   "metadata": {},
   "outputs": [
    {
     "name": "stdout",
     "output_type": "stream",
     "text": [
      "v_1 is given by: 0.000371032112890673\n",
      "v_3 is given by: 1.08844594958730e-9\n",
      "c_mu1_2 is given by: 0\n"
     ]
    }
   ],
   "source": [
    "print(\"v_1 is given by:\", (c_mu1_1 * zeta_1 / k**2).subs(subs_dict))\n",
    "print(\"v_3 is given by:\", (c_mu1_3 * zeta_1 / (9 * k**2)).subs(subs_dict))\n",
    "print(\"c_mu1_2 is given by:\", c_mu1_2.subs(subs_dict))"
   ]
  },
  {
   "cell_type": "markdown",
   "id": "cba80cce",
   "metadata": {},
   "source": [
    "### Check $\\mu_1$ stress tensor values"
   ]
  },
  {
   "cell_type": "code",
   "execution_count": 49,
   "id": "a47a8c89",
   "metadata": {},
   "outputs": [
    {
     "data": {
      "text/latex": [
       "$\\displaystyle \\left[\\begin{matrix}0 & S b_{0} + \\left(- \\frac{S a_{1} \\varepsilon}{2} + \\frac{S c_{1} \\varepsilon}{2}\\right) \\sin{\\left(3 k x \\right)} + \\left(S^{2} k^{2} \\varepsilon - S a_{0} \\varepsilon + \\frac{S a_{1} \\varepsilon}{2} + S b_{1} + S c_{0} \\varepsilon - \\frac{S c_{1} \\varepsilon}{2}\\right) \\sin{\\left(k x \\right)} & 0\\\\- S b_{0} + \\left(\\frac{S a_{1} \\varepsilon}{2} - \\frac{S c_{1} \\varepsilon}{2}\\right) \\sin{\\left(3 k x \\right)} + \\left(- S^{2} k^{2} \\varepsilon + S a_{0} \\varepsilon - \\frac{S a_{1} \\varepsilon}{2} - S b_{1} - S c_{0} \\varepsilon + \\frac{S c_{1} \\varepsilon}{2}\\right) \\sin{\\left(k x \\right)} & 0 & 0\\\\0 & 0 & 0\\end{matrix}\\right]$"
      ],
      "text/plain": [
       "Matrix([\n",
       "[                                                                                                                                                                                       0, S*b_0 + (-S*a_1*varepsilon/2 + S*c_1*varepsilon/2)*sin(3*k*x) + (S**2*k**2*varepsilon - S*a_0*varepsilon + S*a_1*varepsilon/2 + S*b_1 + S*c_0*varepsilon - S*c_1*varepsilon/2)*sin(k*x), 0],\n",
       "[-S*b_0 + (S*a_1*varepsilon/2 - S*c_1*varepsilon/2)*sin(3*k*x) + (-S**2*k**2*varepsilon + S*a_0*varepsilon - S*a_1*varepsilon/2 - S*b_1 - S*c_0*varepsilon + S*c_1*varepsilon/2)*sin(k*x),                                                                                                                                                                                       0, 0],\n",
       "[                                                                                                                                                                                       0,                                                                                                                                                                                       0, 0]])"
      ]
     },
     "execution_count": 49,
     "metadata": {},
     "output_type": "execute_result"
    }
   ],
   "source": [
    "sigma_mu1_expr = sigma_mu1.subs(lambda_subs_dict)\n",
    "for i in range(3):\n",
    "    for j in range(3):\n",
    "        sigma_mu1_expr[i, j] = sincos_to_sum(sigma_mu1_expr[i, j])\n",
    "        sigma_mu1_expr[i, j] = collect(expand(sigma_mu1_expr[i, j]), (sin(k*x), sin(3*k*x)))\n",
    "sigma_mu1_expr"
   ]
  },
  {
   "cell_type": "code",
   "execution_count": 50,
   "id": "0167a762",
   "metadata": {},
   "outputs": [
    {
     "name": "stdout",
     "output_type": "stream",
     "text": [
      "S b_{0} + \\left(- \\frac{S a_{1} \\varepsilon}{2} + \\frac{S c_{1} \\varepsilon}{2}\\right) \\sin{\\left(3 k x \\right)} + \\left(S^{2} k^{2} \\varepsilon - S a_{0} \\varepsilon + \\frac{S a_{1} \\varepsilon}{2} + S b_{1} + S c_{0} \\varepsilon - \\frac{S c_{1} \\varepsilon}{2}\\right) \\sin{\\left(k x \\right)}\n"
     ]
    }
   ],
   "source": [
    "print(latex(sigma_mu1_expr[0, 1]))"
   ]
  },
  {
   "cell_type": "code",
   "execution_count": 51,
   "id": "9e98596f",
   "metadata": {},
   "outputs": [],
   "source": [
    "sigma_mu1_0 = sigma_mu1_expr[0, 1].args[0]\n",
    "sigma_mu1_1 = sigma_mu1_expr[0, 1].coeff(sin(k*x))\n",
    "sigma_mu1_3 = sigma_mu1_expr[0, 1].coeff(sin(3*k*x))"
   ]
  },
  {
   "cell_type": "code",
   "execution_count": 52,
   "id": "20c91dc9",
   "metadata": {},
   "outputs": [
    {
     "name": "stdout",
     "output_type": "stream",
     "text": [
      "Constant is: 0\n",
      "sin(kx) is: 3.44795922561092e-5\n",
      "sin(3kx) is: 3.21617640000000e-6\n"
     ]
    }
   ],
   "source": [
    "print(\"Constant is:\", sigma_mu1_0.subs(subs_dict))\n",
    "print(\"sin(kx) is:\", sigma_mu1_1.subs(subs_dict))\n",
    "print(\"sin(3kx) is:\", sigma_mu1_3.subs(subs_dict))"
   ]
  },
  {
   "cell_type": "code",
   "execution_count": 53,
   "id": "c1f306a2",
   "metadata": {},
   "outputs": [
    {
     "data": {
      "text/latex": [
       "$\\displaystyle - \\frac{S a_{1} \\varepsilon}{2} + \\frac{S c_{1} \\varepsilon}{2}$"
      ],
      "text/plain": [
       "-S*a_1*varepsilon/2 + S*c_1*varepsilon/2"
      ]
     },
     "execution_count": 53,
     "metadata": {},
     "output_type": "execute_result"
    }
   ],
   "source": [
    "sigma_mu1_3"
   ]
  },
  {
   "cell_type": "code",
   "execution_count": 54,
   "id": "cf158848",
   "metadata": {},
   "outputs": [
    {
     "data": {
      "text/latex": [
       "$\\displaystyle S^{2} k^{2} \\varepsilon - S a_{0} \\varepsilon + \\frac{S a_{1} \\varepsilon}{2} + S b_{1} + S c_{0} \\varepsilon - \\frac{S c_{1} \\varepsilon}{2}$"
      ],
      "text/plain": [
       "S**2*k**2*varepsilon - S*a_0*varepsilon + S*a_1*varepsilon/2 + S*b_1 + S*c_0*varepsilon - S*c_1*varepsilon/2"
      ]
     },
     "execution_count": 54,
     "metadata": {},
     "output_type": "execute_result"
    }
   ],
   "source": [
    "sigma_mu1_1"
   ]
  }
 ],
 "metadata": {
  "kernelspec": {
   "display_name": "Python 3 (ipykernel)",
   "language": "python",
   "name": "python3"
  },
  "language_info": {
   "codemirror_mode": {
    "name": "ipython",
    "version": 3
   },
   "file_extension": ".py",
   "mimetype": "text/x-python",
   "name": "python",
   "nbconvert_exporter": "python",
   "pygments_lexer": "ipython3",
   "version": "3.9.7"
  }
 },
 "nbformat": 4,
 "nbformat_minor": 5
}
