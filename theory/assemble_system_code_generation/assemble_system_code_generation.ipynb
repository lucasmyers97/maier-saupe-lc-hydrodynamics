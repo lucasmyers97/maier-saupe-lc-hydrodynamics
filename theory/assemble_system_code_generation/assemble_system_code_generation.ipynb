{
 "cells": [
  {
   "cell_type": "markdown",
   "id": "5848c01a",
   "metadata": {},
   "source": [
    "This notebook uses Sympy to expand the equation of motion of the $Q$-tensor in terms of its degrees of freedom.\n",
    "Given this, residuals corresponding to different time-discretization techniques may be calculated.\n",
    "With the residual in hand, Jacobians may also be easily calculated by using the Gateaux derivative.\n",
    "Finally, we may generate the corresponding deal.II assembly code with the code generation module and some custom formatting."
   ]
  },
  {
   "cell_type": "code",
   "execution_count": 1,
   "id": "1437f9a6",
   "metadata": {},
   "outputs": [],
   "source": [
    "from sympy import *"
   ]
  },
  {
   "cell_type": "markdown",
   "id": "8c5b8ea6",
   "metadata": {},
   "source": [
    "## Generate necessary symbols"
   ]
  },
  {
   "cell_type": "code",
   "execution_count": 21,
   "id": "7c721790",
   "metadata": {},
   "outputs": [],
   "source": [
    "def gen_functions(formattable_string, n, *coords):\n",
    "    \n",
    "    return [Function(formattable_string.format(i), real=True)(*coords) for i in range(n)]  "
   ]
  },
  {
   "cell_type": "code",
   "execution_count": 71,
   "id": "06605fd6",
   "metadata": {},
   "outputs": [],
   "source": [
    "vec_dim = 5\n",
    "mat_dim = 3\n",
    "\n",
    "x, y, z = symbols('x y z', real=True)\n",
    "xi = Matrix([x, y, z])\n",
    "\n",
    "Q_vec = Matrix(gen_functions('Q_{}', vec_dim, x, y))\n",
    "Lambda_vec = Matrix(gen_functions(r'\\Lambda_{}', vec_dim, Q_vec[0], Q_vec[1], Q_vec[2], Q_vec[3], Q_vec[4]))\n",
    "phi_i = Function('\\phi_i', real=True)(x, y)\n",
    "phi_j = Function('\\phi_j', real=True)(x, y)\n",
    "\n",
    "alpha, L2, L3 = symbols('alpha L_2 L_3', real=True)"
   ]
  },
  {
   "cell_type": "code",
   "execution_count": 72,
   "id": "b5546050",
   "metadata": {},
   "outputs": [],
   "source": [
    "Q_mat = Matrix([[Q_vec[0], Q_vec[1], Q_vec[2]],\n",
    "                [Q_vec[1], Q_vec[3], Q_vec[4]],\n",
    "                [Q_vec[2], Q_vec[4], -(Q_vec[0] + Q_vec[3])]])\n",
    "\n",
    "Lambda_mat = Matrix([[Lambda_vec[0], Lambda_vec[1], Lambda_vec[2]],\n",
    "                     [Lambda_vec[1], Lambda_vec[3], Lambda_vec[4]],\n",
    "                     [Lambda_vec[2], Lambda_vec[4], -(Lambda_vec[0] + Lambda_vec[3])]])"
   ]
  },
  {
   "cell_type": "code",
   "execution_count": 73,
   "id": "6865664f",
   "metadata": {},
   "outputs": [],
   "source": [
    "basis = []\n",
    "basis.append(Matrix([[1, 0, 0],\n",
    "                     [0, 0, 0],\n",
    "                     [0, 0, -1]]))\n",
    "basis.append(Matrix([[0, 1, 0],\n",
    "                     [1, 0, 0],\n",
    "                     [0, 0, 0]]))\n",
    "basis.append(Matrix([[0, 0, 1],\n",
    "                     [0, 0, 0],\n",
    "                     [1, 0, 0]]))\n",
    "basis.append(Matrix([[0, 0, 0],\n",
    "                     [0, 1, 0],\n",
    "                     [0, 0, -1]]))\n",
    "basis.append(Matrix([[0, 0, 0],\n",
    "                     [0, 0, 1],\n",
    "                     [0, 1, 0]]))"
   ]
  },
  {
   "cell_type": "code",
   "execution_count": 74,
   "id": "1b36d21c",
   "metadata": {},
   "outputs": [],
   "source": [
    "Phi_i = []\n",
    "for basis_vec in basis:\n",
    "    Phi_i.append(phi_i * basis_vec)\n",
    "    \n",
    "Phi_j = []\n",
    "for basis_vec in basis:\n",
    "    Phi_j.append(phi_j * basis_vec)"
   ]
  },
  {
   "cell_type": "markdown",
   "id": "e5b9b247",
   "metadata": {},
   "source": [
    "## Write weak form"
   ]
  },
  {
   "cell_type": "code",
   "execution_count": 75,
   "id": "65e51115",
   "metadata": {},
   "outputs": [],
   "source": [
    "T = []\n",
    "\n",
    "for m in range(vec_dim):\n",
    "    T.append(\n",
    "        [alpha * sum(Phi_i[m][i, j] * Q_mat[i, j] \n",
    "                     for i in range(3) for j in range(3)),\n",
    "         - sum(Phi_i[m][i, j] * Lambda_mat[i, j] \n",
    "               for i in range(3) for j in range(3)),\n",
    "         - L3 / 2 * sum(Phi_i[m][i, j] * Q_mat[k, l].diff(xi[i]) * Q_mat[k, l].diff(xi[j])\n",
    "                        for i in range(3) for j in range(3) for k in range(3) for l in range(3)),\n",
    "         - sum(Phi_i[m][i, j].diff(xi[k]) * Q_mat[i, j].diff(xi[k])\n",
    "               for i in range(3) for j in range(3) for k in range(3)),\n",
    "         - L2 * sum(Phi_i[m][i, j].diff(xi[k]) * Q_mat[k, i].diff(xi[j])\n",
    "                    for i in range(3) for j in range(3) for k in range(3)),\n",
    "         - L3 * sum(Phi_i[m][i, j].diff(xi[k]) * Q_mat[k, l] * Q_mat[i, j].diff(xi[l])\n",
    "                    for i in range(3) for j in range(3) for k in range(3) for l in range(3))]\n",
    "    )"
   ]
  },
  {
   "cell_type": "code",
   "execution_count": 76,
   "id": "65b84d5c",
   "metadata": {},
   "outputs": [
    {
     "data": {
      "text/latex": [
       "$\\displaystyle \\alpha \\left(2 Q_{0}{\\left(x,y \\right)} + Q_{3}{\\left(x,y \\right)}\\right) \\phi_{i}{\\left(x,y \\right)}$"
      ],
      "text/plain": [
       "alpha*(2*Q_0(x, y) + Q_3(x, y))*\\phi_i(x, y)"
      ]
     },
     "metadata": {},
     "output_type": "display_data"
    },
    {
     "data": {
      "text/latex": [
       "$\\displaystyle \\left(- 2 \\Lambda_{0}{\\left(Q_{0}{\\left(x,y \\right)},Q_{1}{\\left(x,y \\right)},Q_{2}{\\left(x,y \\right)},Q_{3}{\\left(x,y \\right)},Q_{4}{\\left(x,y \\right)} \\right)} - \\Lambda_{3}{\\left(Q_{0}{\\left(x,y \\right)},Q_{1}{\\left(x,y \\right)},Q_{2}{\\left(x,y \\right)},Q_{3}{\\left(x,y \\right)},Q_{4}{\\left(x,y \\right)} \\right)}\\right) \\phi_{i}{\\left(x,y \\right)}$"
      ],
      "text/plain": [
       "(-2*\\Lambda_0(Q_0(x, y), Q_1(x, y), Q_2(x, y), Q_3(x, y), Q_4(x, y)) - \\Lambda_3(Q_0(x, y), Q_1(x, y), Q_2(x, y), Q_3(x, y), Q_4(x, y)))*\\phi_i(x, y)"
      ]
     },
     "metadata": {},
     "output_type": "display_data"
    },
    {
     "data": {
      "text/latex": [
       "$\\displaystyle L_{3} \\left(- \\left(\\frac{\\partial}{\\partial x} Q_{0}{\\left(x,y \\right)}\\right)^{2} - \\frac{\\partial}{\\partial x} Q_{0}{\\left(x,y \\right)} \\frac{\\partial}{\\partial x} Q_{3}{\\left(x,y \\right)} - \\left(\\frac{\\partial}{\\partial x} Q_{1}{\\left(x,y \\right)}\\right)^{2} - \\left(\\frac{\\partial}{\\partial x} Q_{2}{\\left(x,y \\right)}\\right)^{2} - \\left(\\frac{\\partial}{\\partial x} Q_{3}{\\left(x,y \\right)}\\right)^{2} - \\left(\\frac{\\partial}{\\partial x} Q_{4}{\\left(x,y \\right)}\\right)^{2}\\right) \\phi_{i}{\\left(x,y \\right)}$"
      ],
      "text/plain": [
       "L_3*(-Derivative(Q_0(x, y), x)**2 - Derivative(Q_0(x, y), x)*Derivative(Q_3(x, y), x) - Derivative(Q_1(x, y), x)**2 - Derivative(Q_2(x, y), x)**2 - Derivative(Q_3(x, y), x)**2 - Derivative(Q_4(x, y), x)**2)*\\phi_i(x, y)"
      ]
     },
     "metadata": {},
     "output_type": "display_data"
    },
    {
     "data": {
      "text/latex": [
       "$\\displaystyle - 2 \\frac{\\partial}{\\partial x} Q_{0}{\\left(x,y \\right)} \\frac{\\partial}{\\partial x} \\phi_{i}{\\left(x,y \\right)} - 2 \\frac{\\partial}{\\partial y} Q_{0}{\\left(x,y \\right)} \\frac{\\partial}{\\partial y} \\phi_{i}{\\left(x,y \\right)} - \\frac{\\partial}{\\partial x} Q_{3}{\\left(x,y \\right)} \\frac{\\partial}{\\partial x} \\phi_{i}{\\left(x,y \\right)} - \\frac{\\partial}{\\partial y} Q_{3}{\\left(x,y \\right)} \\frac{\\partial}{\\partial y} \\phi_{i}{\\left(x,y \\right)}$"
      ],
      "text/plain": [
       "-2*Derivative(Q_0(x, y), x)*Derivative(\\phi_i(x, y), x) - 2*Derivative(Q_0(x, y), y)*Derivative(\\phi_i(x, y), y) - Derivative(Q_3(x, y), x)*Derivative(\\phi_i(x, y), x) - Derivative(Q_3(x, y), y)*Derivative(\\phi_i(x, y), y)"
      ]
     },
     "metadata": {},
     "output_type": "display_data"
    },
    {
     "data": {
      "text/latex": [
       "$\\displaystyle - L_{2} \\left(\\frac{\\partial}{\\partial x} Q_{0}{\\left(x,y \\right)} \\frac{\\partial}{\\partial x} \\phi_{i}{\\left(x,y \\right)} + \\frac{\\partial}{\\partial x} Q_{1}{\\left(x,y \\right)} \\frac{\\partial}{\\partial y} \\phi_{i}{\\left(x,y \\right)}\\right)$"
      ],
      "text/plain": [
       "-L_2*(Derivative(Q_0(x, y), x)*Derivative(\\phi_i(x, y), x) + Derivative(Q_1(x, y), x)*Derivative(\\phi_i(x, y), y))"
      ]
     },
     "metadata": {},
     "output_type": "display_data"
    },
    {
     "data": {
      "text/latex": [
       "$\\displaystyle L_{3} \\left(- 2 Q_{0}{\\left(x,y \\right)} \\frac{\\partial}{\\partial x} Q_{0}{\\left(x,y \\right)} \\frac{\\partial}{\\partial x} \\phi_{i}{\\left(x,y \\right)} - Q_{0}{\\left(x,y \\right)} \\frac{\\partial}{\\partial x} Q_{3}{\\left(x,y \\right)} \\frac{\\partial}{\\partial x} \\phi_{i}{\\left(x,y \\right)} - 2 Q_{1}{\\left(x,y \\right)} \\frac{\\partial}{\\partial x} Q_{0}{\\left(x,y \\right)} \\frac{\\partial}{\\partial y} \\phi_{i}{\\left(x,y \\right)} - 2 Q_{1}{\\left(x,y \\right)} \\frac{\\partial}{\\partial y} Q_{0}{\\left(x,y \\right)} \\frac{\\partial}{\\partial x} \\phi_{i}{\\left(x,y \\right)} - Q_{1}{\\left(x,y \\right)} \\frac{\\partial}{\\partial x} Q_{3}{\\left(x,y \\right)} \\frac{\\partial}{\\partial y} \\phi_{i}{\\left(x,y \\right)} - Q_{1}{\\left(x,y \\right)} \\frac{\\partial}{\\partial y} Q_{3}{\\left(x,y \\right)} \\frac{\\partial}{\\partial x} \\phi_{i}{\\left(x,y \\right)} - 2 Q_{3}{\\left(x,y \\right)} \\frac{\\partial}{\\partial y} Q_{0}{\\left(x,y \\right)} \\frac{\\partial}{\\partial y} \\phi_{i}{\\left(x,y \\right)} - Q_{3}{\\left(x,y \\right)} \\frac{\\partial}{\\partial y} Q_{3}{\\left(x,y \\right)} \\frac{\\partial}{\\partial y} \\phi_{i}{\\left(x,y \\right)}\\right)$"
      ],
      "text/plain": [
       "L_3*(-2*Q_0(x, y)*Derivative(Q_0(x, y), x)*Derivative(\\phi_i(x, y), x) - Q_0(x, y)*Derivative(Q_3(x, y), x)*Derivative(\\phi_i(x, y), x) - 2*Q_1(x, y)*Derivative(Q_0(x, y), x)*Derivative(\\phi_i(x, y), y) - 2*Q_1(x, y)*Derivative(Q_0(x, y), y)*Derivative(\\phi_i(x, y), x) - Q_1(x, y)*Derivative(Q_3(x, y), x)*Derivative(\\phi_i(x, y), y) - Q_1(x, y)*Derivative(Q_3(x, y), y)*Derivative(\\phi_i(x, y), x) - 2*Q_3(x, y)*Derivative(Q_0(x, y), y)*Derivative(\\phi_i(x, y), y) - Q_3(x, y)*Derivative(Q_3(x, y), y)*Derivative(\\phi_i(x, y), y))"
      ]
     },
     "metadata": {},
     "output_type": "display_data"
    },
    {
     "data": {
      "text/latex": [
       "$\\displaystyle 2 \\alpha Q_{1}{\\left(x,y \\right)} \\phi_{i}{\\left(x,y \\right)}$"
      ],
      "text/plain": [
       "2*alpha*Q_1(x, y)*\\phi_i(x, y)"
      ]
     },
     "metadata": {},
     "output_type": "display_data"
    },
    {
     "data": {
      "text/latex": [
       "$\\displaystyle - 2 \\Lambda_{1}{\\left(Q_{0}{\\left(x,y \\right)},Q_{1}{\\left(x,y \\right)},Q_{2}{\\left(x,y \\right)},Q_{3}{\\left(x,y \\right)},Q_{4}{\\left(x,y \\right)} \\right)} \\phi_{i}{\\left(x,y \\right)}$"
      ],
      "text/plain": [
       "-2*\\Lambda_1(Q_0(x, y), Q_1(x, y), Q_2(x, y), Q_3(x, y), Q_4(x, y))*\\phi_i(x, y)"
      ]
     },
     "metadata": {},
     "output_type": "display_data"
    },
    {
     "data": {
      "text/latex": [
       "$\\displaystyle - L_{3} \\left(\\left(\\frac{\\partial}{\\partial x} Q_{0}{\\left(x,y \\right)} + \\frac{\\partial}{\\partial x} Q_{3}{\\left(x,y \\right)}\\right) \\left(\\frac{\\partial}{\\partial y} Q_{0}{\\left(x,y \\right)} + \\frac{\\partial}{\\partial y} Q_{3}{\\left(x,y \\right)}\\right) + \\frac{\\partial}{\\partial x} Q_{0}{\\left(x,y \\right)} \\frac{\\partial}{\\partial y} Q_{0}{\\left(x,y \\right)} + 2 \\frac{\\partial}{\\partial x} Q_{1}{\\left(x,y \\right)} \\frac{\\partial}{\\partial y} Q_{1}{\\left(x,y \\right)} + 2 \\frac{\\partial}{\\partial x} Q_{2}{\\left(x,y \\right)} \\frac{\\partial}{\\partial y} Q_{2}{\\left(x,y \\right)} + \\frac{\\partial}{\\partial x} Q_{3}{\\left(x,y \\right)} \\frac{\\partial}{\\partial y} Q_{3}{\\left(x,y \\right)} + 2 \\frac{\\partial}{\\partial x} Q_{4}{\\left(x,y \\right)} \\frac{\\partial}{\\partial y} Q_{4}{\\left(x,y \\right)}\\right) \\phi_{i}{\\left(x,y \\right)}$"
      ],
      "text/plain": [
       "-L_3*((Derivative(Q_0(x, y), x) + Derivative(Q_3(x, y), x))*(Derivative(Q_0(x, y), y) + Derivative(Q_3(x, y), y)) + Derivative(Q_0(x, y), x)*Derivative(Q_0(x, y), y) + 2*Derivative(Q_1(x, y), x)*Derivative(Q_1(x, y), y) + 2*Derivative(Q_2(x, y), x)*Derivative(Q_2(x, y), y) + Derivative(Q_3(x, y), x)*Derivative(Q_3(x, y), y) + 2*Derivative(Q_4(x, y), x)*Derivative(Q_4(x, y), y))*\\phi_i(x, y)"
      ]
     },
     "metadata": {},
     "output_type": "display_data"
    },
    {
     "data": {
      "text/latex": [
       "$\\displaystyle - 2 \\frac{\\partial}{\\partial x} Q_{1}{\\left(x,y \\right)} \\frac{\\partial}{\\partial x} \\phi_{i}{\\left(x,y \\right)} - 2 \\frac{\\partial}{\\partial y} Q_{1}{\\left(x,y \\right)} \\frac{\\partial}{\\partial y} \\phi_{i}{\\left(x,y \\right)}$"
      ],
      "text/plain": [
       "-2*Derivative(Q_1(x, y), x)*Derivative(\\phi_i(x, y), x) - 2*Derivative(Q_1(x, y), y)*Derivative(\\phi_i(x, y), y)"
      ]
     },
     "metadata": {},
     "output_type": "display_data"
    },
    {
     "data": {
      "text/latex": [
       "$\\displaystyle - L_{2} \\left(\\frac{\\partial}{\\partial y} Q_{0}{\\left(x,y \\right)} \\frac{\\partial}{\\partial x} \\phi_{i}{\\left(x,y \\right)} + \\frac{\\partial}{\\partial x} Q_{1}{\\left(x,y \\right)} \\frac{\\partial}{\\partial x} \\phi_{i}{\\left(x,y \\right)} + \\frac{\\partial}{\\partial y} Q_{1}{\\left(x,y \\right)} \\frac{\\partial}{\\partial y} \\phi_{i}{\\left(x,y \\right)} + \\frac{\\partial}{\\partial x} Q_{3}{\\left(x,y \\right)} \\frac{\\partial}{\\partial y} \\phi_{i}{\\left(x,y \\right)}\\right)$"
      ],
      "text/plain": [
       "-L_2*(Derivative(Q_0(x, y), y)*Derivative(\\phi_i(x, y), x) + Derivative(Q_1(x, y), x)*Derivative(\\phi_i(x, y), x) + Derivative(Q_1(x, y), y)*Derivative(\\phi_i(x, y), y) + Derivative(Q_3(x, y), x)*Derivative(\\phi_i(x, y), y))"
      ]
     },
     "metadata": {},
     "output_type": "display_data"
    },
    {
     "data": {
      "text/latex": [
       "$\\displaystyle - 2 L_{3} \\left(Q_{0}{\\left(x,y \\right)} \\frac{\\partial}{\\partial x} Q_{1}{\\left(x,y \\right)} \\frac{\\partial}{\\partial x} \\phi_{i}{\\left(x,y \\right)} + Q_{1}{\\left(x,y \\right)} \\frac{\\partial}{\\partial x} Q_{1}{\\left(x,y \\right)} \\frac{\\partial}{\\partial y} \\phi_{i}{\\left(x,y \\right)} + Q_{1}{\\left(x,y \\right)} \\frac{\\partial}{\\partial y} Q_{1}{\\left(x,y \\right)} \\frac{\\partial}{\\partial x} \\phi_{i}{\\left(x,y \\right)} + Q_{3}{\\left(x,y \\right)} \\frac{\\partial}{\\partial y} Q_{1}{\\left(x,y \\right)} \\frac{\\partial}{\\partial y} \\phi_{i}{\\left(x,y \\right)}\\right)$"
      ],
      "text/plain": [
       "-2*L_3*(Q_0(x, y)*Derivative(Q_1(x, y), x)*Derivative(\\phi_i(x, y), x) + Q_1(x, y)*Derivative(Q_1(x, y), x)*Derivative(\\phi_i(x, y), y) + Q_1(x, y)*Derivative(Q_1(x, y), y)*Derivative(\\phi_i(x, y), x) + Q_3(x, y)*Derivative(Q_1(x, y), y)*Derivative(\\phi_i(x, y), y))"
      ]
     },
     "metadata": {},
     "output_type": "display_data"
    },
    {
     "data": {
      "text/latex": [
       "$\\displaystyle 2 \\alpha Q_{2}{\\left(x,y \\right)} \\phi_{i}{\\left(x,y \\right)}$"
      ],
      "text/plain": [
       "2*alpha*Q_2(x, y)*\\phi_i(x, y)"
      ]
     },
     "metadata": {},
     "output_type": "display_data"
    },
    {
     "data": {
      "text/latex": [
       "$\\displaystyle - 2 \\Lambda_{2}{\\left(Q_{0}{\\left(x,y \\right)},Q_{1}{\\left(x,y \\right)},Q_{2}{\\left(x,y \\right)},Q_{3}{\\left(x,y \\right)},Q_{4}{\\left(x,y \\right)} \\right)} \\phi_{i}{\\left(x,y \\right)}$"
      ],
      "text/plain": [
       "-2*\\Lambda_2(Q_0(x, y), Q_1(x, y), Q_2(x, y), Q_3(x, y), Q_4(x, y))*\\phi_i(x, y)"
      ]
     },
     "metadata": {},
     "output_type": "display_data"
    },
    {
     "data": {
      "text/latex": [
       "$\\displaystyle 0$"
      ],
      "text/plain": [
       "0"
      ]
     },
     "metadata": {},
     "output_type": "display_data"
    },
    {
     "data": {
      "text/latex": [
       "$\\displaystyle - 2 \\frac{\\partial}{\\partial x} Q_{2}{\\left(x,y \\right)} \\frac{\\partial}{\\partial x} \\phi_{i}{\\left(x,y \\right)} - 2 \\frac{\\partial}{\\partial y} Q_{2}{\\left(x,y \\right)} \\frac{\\partial}{\\partial y} \\phi_{i}{\\left(x,y \\right)}$"
      ],
      "text/plain": [
       "-2*Derivative(Q_2(x, y), x)*Derivative(\\phi_i(x, y), x) - 2*Derivative(Q_2(x, y), y)*Derivative(\\phi_i(x, y), y)"
      ]
     },
     "metadata": {},
     "output_type": "display_data"
    },
    {
     "data": {
      "text/latex": [
       "$\\displaystyle - L_{2} \\left(\\frac{\\partial}{\\partial x} Q_{2}{\\left(x,y \\right)} \\frac{\\partial}{\\partial x} \\phi_{i}{\\left(x,y \\right)} + \\frac{\\partial}{\\partial x} Q_{4}{\\left(x,y \\right)} \\frac{\\partial}{\\partial y} \\phi_{i}{\\left(x,y \\right)}\\right)$"
      ],
      "text/plain": [
       "-L_2*(Derivative(Q_2(x, y), x)*Derivative(\\phi_i(x, y), x) + Derivative(Q_4(x, y), x)*Derivative(\\phi_i(x, y), y))"
      ]
     },
     "metadata": {},
     "output_type": "display_data"
    },
    {
     "data": {
      "text/latex": [
       "$\\displaystyle - 2 L_{3} \\left(Q_{0}{\\left(x,y \\right)} \\frac{\\partial}{\\partial x} Q_{2}{\\left(x,y \\right)} \\frac{\\partial}{\\partial x} \\phi_{i}{\\left(x,y \\right)} + Q_{1}{\\left(x,y \\right)} \\frac{\\partial}{\\partial x} Q_{2}{\\left(x,y \\right)} \\frac{\\partial}{\\partial y} \\phi_{i}{\\left(x,y \\right)} + Q_{1}{\\left(x,y \\right)} \\frac{\\partial}{\\partial y} Q_{2}{\\left(x,y \\right)} \\frac{\\partial}{\\partial x} \\phi_{i}{\\left(x,y \\right)} + Q_{3}{\\left(x,y \\right)} \\frac{\\partial}{\\partial y} Q_{2}{\\left(x,y \\right)} \\frac{\\partial}{\\partial y} \\phi_{i}{\\left(x,y \\right)}\\right)$"
      ],
      "text/plain": [
       "-2*L_3*(Q_0(x, y)*Derivative(Q_2(x, y), x)*Derivative(\\phi_i(x, y), x) + Q_1(x, y)*Derivative(Q_2(x, y), x)*Derivative(\\phi_i(x, y), y) + Q_1(x, y)*Derivative(Q_2(x, y), y)*Derivative(\\phi_i(x, y), x) + Q_3(x, y)*Derivative(Q_2(x, y), y)*Derivative(\\phi_i(x, y), y))"
      ]
     },
     "metadata": {},
     "output_type": "display_data"
    },
    {
     "data": {
      "text/latex": [
       "$\\displaystyle \\alpha \\left(Q_{0}{\\left(x,y \\right)} + 2 Q_{3}{\\left(x,y \\right)}\\right) \\phi_{i}{\\left(x,y \\right)}$"
      ],
      "text/plain": [
       "alpha*(Q_0(x, y) + 2*Q_3(x, y))*\\phi_i(x, y)"
      ]
     },
     "metadata": {},
     "output_type": "display_data"
    },
    {
     "data": {
      "text/latex": [
       "$\\displaystyle \\left(- \\Lambda_{0}{\\left(Q_{0}{\\left(x,y \\right)},Q_{1}{\\left(x,y \\right)},Q_{2}{\\left(x,y \\right)},Q_{3}{\\left(x,y \\right)},Q_{4}{\\left(x,y \\right)} \\right)} - 2 \\Lambda_{3}{\\left(Q_{0}{\\left(x,y \\right)},Q_{1}{\\left(x,y \\right)},Q_{2}{\\left(x,y \\right)},Q_{3}{\\left(x,y \\right)},Q_{4}{\\left(x,y \\right)} \\right)}\\right) \\phi_{i}{\\left(x,y \\right)}$"
      ],
      "text/plain": [
       "(-\\Lambda_0(Q_0(x, y), Q_1(x, y), Q_2(x, y), Q_3(x, y), Q_4(x, y)) - 2*\\Lambda_3(Q_0(x, y), Q_1(x, y), Q_2(x, y), Q_3(x, y), Q_4(x, y)))*\\phi_i(x, y)"
      ]
     },
     "metadata": {},
     "output_type": "display_data"
    },
    {
     "data": {
      "text/latex": [
       "$\\displaystyle L_{3} \\left(- \\left(\\frac{\\partial}{\\partial y} Q_{0}{\\left(x,y \\right)}\\right)^{2} - \\frac{\\partial}{\\partial y} Q_{0}{\\left(x,y \\right)} \\frac{\\partial}{\\partial y} Q_{3}{\\left(x,y \\right)} - \\left(\\frac{\\partial}{\\partial y} Q_{1}{\\left(x,y \\right)}\\right)^{2} - \\left(\\frac{\\partial}{\\partial y} Q_{2}{\\left(x,y \\right)}\\right)^{2} - \\left(\\frac{\\partial}{\\partial y} Q_{3}{\\left(x,y \\right)}\\right)^{2} - \\left(\\frac{\\partial}{\\partial y} Q_{4}{\\left(x,y \\right)}\\right)^{2}\\right) \\phi_{i}{\\left(x,y \\right)}$"
      ],
      "text/plain": [
       "L_3*(-Derivative(Q_0(x, y), y)**2 - Derivative(Q_0(x, y), y)*Derivative(Q_3(x, y), y) - Derivative(Q_1(x, y), y)**2 - Derivative(Q_2(x, y), y)**2 - Derivative(Q_3(x, y), y)**2 - Derivative(Q_4(x, y), y)**2)*\\phi_i(x, y)"
      ]
     },
     "metadata": {},
     "output_type": "display_data"
    },
    {
     "data": {
      "text/latex": [
       "$\\displaystyle - \\frac{\\partial}{\\partial x} Q_{0}{\\left(x,y \\right)} \\frac{\\partial}{\\partial x} \\phi_{i}{\\left(x,y \\right)} - \\frac{\\partial}{\\partial y} Q_{0}{\\left(x,y \\right)} \\frac{\\partial}{\\partial y} \\phi_{i}{\\left(x,y \\right)} - 2 \\frac{\\partial}{\\partial x} Q_{3}{\\left(x,y \\right)} \\frac{\\partial}{\\partial x} \\phi_{i}{\\left(x,y \\right)} - 2 \\frac{\\partial}{\\partial y} Q_{3}{\\left(x,y \\right)} \\frac{\\partial}{\\partial y} \\phi_{i}{\\left(x,y \\right)}$"
      ],
      "text/plain": [
       "-Derivative(Q_0(x, y), x)*Derivative(\\phi_i(x, y), x) - Derivative(Q_0(x, y), y)*Derivative(\\phi_i(x, y), y) - 2*Derivative(Q_3(x, y), x)*Derivative(\\phi_i(x, y), x) - 2*Derivative(Q_3(x, y), y)*Derivative(\\phi_i(x, y), y)"
      ]
     },
     "metadata": {},
     "output_type": "display_data"
    },
    {
     "data": {
      "text/latex": [
       "$\\displaystyle - L_{2} \\left(\\frac{\\partial}{\\partial y} Q_{1}{\\left(x,y \\right)} \\frac{\\partial}{\\partial x} \\phi_{i}{\\left(x,y \\right)} + \\frac{\\partial}{\\partial y} Q_{3}{\\left(x,y \\right)} \\frac{\\partial}{\\partial y} \\phi_{i}{\\left(x,y \\right)}\\right)$"
      ],
      "text/plain": [
       "-L_2*(Derivative(Q_1(x, y), y)*Derivative(\\phi_i(x, y), x) + Derivative(Q_3(x, y), y)*Derivative(\\phi_i(x, y), y))"
      ]
     },
     "metadata": {},
     "output_type": "display_data"
    },
    {
     "data": {
      "text/latex": [
       "$\\displaystyle L_{3} \\left(- Q_{0}{\\left(x,y \\right)} \\frac{\\partial}{\\partial x} Q_{0}{\\left(x,y \\right)} \\frac{\\partial}{\\partial x} \\phi_{i}{\\left(x,y \\right)} - 2 Q_{0}{\\left(x,y \\right)} \\frac{\\partial}{\\partial x} Q_{3}{\\left(x,y \\right)} \\frac{\\partial}{\\partial x} \\phi_{i}{\\left(x,y \\right)} - Q_{1}{\\left(x,y \\right)} \\frac{\\partial}{\\partial x} Q_{0}{\\left(x,y \\right)} \\frac{\\partial}{\\partial y} \\phi_{i}{\\left(x,y \\right)} - Q_{1}{\\left(x,y \\right)} \\frac{\\partial}{\\partial y} Q_{0}{\\left(x,y \\right)} \\frac{\\partial}{\\partial x} \\phi_{i}{\\left(x,y \\right)} - 2 Q_{1}{\\left(x,y \\right)} \\frac{\\partial}{\\partial x} Q_{3}{\\left(x,y \\right)} \\frac{\\partial}{\\partial y} \\phi_{i}{\\left(x,y \\right)} - 2 Q_{1}{\\left(x,y \\right)} \\frac{\\partial}{\\partial y} Q_{3}{\\left(x,y \\right)} \\frac{\\partial}{\\partial x} \\phi_{i}{\\left(x,y \\right)} - Q_{3}{\\left(x,y \\right)} \\frac{\\partial}{\\partial y} Q_{0}{\\left(x,y \\right)} \\frac{\\partial}{\\partial y} \\phi_{i}{\\left(x,y \\right)} - 2 Q_{3}{\\left(x,y \\right)} \\frac{\\partial}{\\partial y} Q_{3}{\\left(x,y \\right)} \\frac{\\partial}{\\partial y} \\phi_{i}{\\left(x,y \\right)}\\right)$"
      ],
      "text/plain": [
       "L_3*(-Q_0(x, y)*Derivative(Q_0(x, y), x)*Derivative(\\phi_i(x, y), x) - 2*Q_0(x, y)*Derivative(Q_3(x, y), x)*Derivative(\\phi_i(x, y), x) - Q_1(x, y)*Derivative(Q_0(x, y), x)*Derivative(\\phi_i(x, y), y) - Q_1(x, y)*Derivative(Q_0(x, y), y)*Derivative(\\phi_i(x, y), x) - 2*Q_1(x, y)*Derivative(Q_3(x, y), x)*Derivative(\\phi_i(x, y), y) - 2*Q_1(x, y)*Derivative(Q_3(x, y), y)*Derivative(\\phi_i(x, y), x) - Q_3(x, y)*Derivative(Q_0(x, y), y)*Derivative(\\phi_i(x, y), y) - 2*Q_3(x, y)*Derivative(Q_3(x, y), y)*Derivative(\\phi_i(x, y), y))"
      ]
     },
     "metadata": {},
     "output_type": "display_data"
    },
    {
     "data": {
      "text/latex": [
       "$\\displaystyle 2 \\alpha Q_{4}{\\left(x,y \\right)} \\phi_{i}{\\left(x,y \\right)}$"
      ],
      "text/plain": [
       "2*alpha*Q_4(x, y)*\\phi_i(x, y)"
      ]
     },
     "metadata": {},
     "output_type": "display_data"
    },
    {
     "data": {
      "text/latex": [
       "$\\displaystyle - 2 \\Lambda_{4}{\\left(Q_{0}{\\left(x,y \\right)},Q_{1}{\\left(x,y \\right)},Q_{2}{\\left(x,y \\right)},Q_{3}{\\left(x,y \\right)},Q_{4}{\\left(x,y \\right)} \\right)} \\phi_{i}{\\left(x,y \\right)}$"
      ],
      "text/plain": [
       "-2*\\Lambda_4(Q_0(x, y), Q_1(x, y), Q_2(x, y), Q_3(x, y), Q_4(x, y))*\\phi_i(x, y)"
      ]
     },
     "metadata": {},
     "output_type": "display_data"
    },
    {
     "data": {
      "text/latex": [
       "$\\displaystyle 0$"
      ],
      "text/plain": [
       "0"
      ]
     },
     "metadata": {},
     "output_type": "display_data"
    },
    {
     "data": {
      "text/latex": [
       "$\\displaystyle - 2 \\frac{\\partial}{\\partial x} Q_{4}{\\left(x,y \\right)} \\frac{\\partial}{\\partial x} \\phi_{i}{\\left(x,y \\right)} - 2 \\frac{\\partial}{\\partial y} Q_{4}{\\left(x,y \\right)} \\frac{\\partial}{\\partial y} \\phi_{i}{\\left(x,y \\right)}$"
      ],
      "text/plain": [
       "-2*Derivative(Q_4(x, y), x)*Derivative(\\phi_i(x, y), x) - 2*Derivative(Q_4(x, y), y)*Derivative(\\phi_i(x, y), y)"
      ]
     },
     "metadata": {},
     "output_type": "display_data"
    },
    {
     "data": {
      "text/latex": [
       "$\\displaystyle - L_{2} \\left(\\frac{\\partial}{\\partial y} Q_{2}{\\left(x,y \\right)} \\frac{\\partial}{\\partial x} \\phi_{i}{\\left(x,y \\right)} + \\frac{\\partial}{\\partial y} Q_{4}{\\left(x,y \\right)} \\frac{\\partial}{\\partial y} \\phi_{i}{\\left(x,y \\right)}\\right)$"
      ],
      "text/plain": [
       "-L_2*(Derivative(Q_2(x, y), y)*Derivative(\\phi_i(x, y), x) + Derivative(Q_4(x, y), y)*Derivative(\\phi_i(x, y), y))"
      ]
     },
     "metadata": {},
     "output_type": "display_data"
    },
    {
     "data": {
      "text/latex": [
       "$\\displaystyle - 2 L_{3} \\left(Q_{0}{\\left(x,y \\right)} \\frac{\\partial}{\\partial x} Q_{4}{\\left(x,y \\right)} \\frac{\\partial}{\\partial x} \\phi_{i}{\\left(x,y \\right)} + Q_{1}{\\left(x,y \\right)} \\frac{\\partial}{\\partial x} Q_{4}{\\left(x,y \\right)} \\frac{\\partial}{\\partial y} \\phi_{i}{\\left(x,y \\right)} + Q_{1}{\\left(x,y \\right)} \\frac{\\partial}{\\partial y} Q_{4}{\\left(x,y \\right)} \\frac{\\partial}{\\partial x} \\phi_{i}{\\left(x,y \\right)} + Q_{3}{\\left(x,y \\right)} \\frac{\\partial}{\\partial y} Q_{4}{\\left(x,y \\right)} \\frac{\\partial}{\\partial y} \\phi_{i}{\\left(x,y \\right)}\\right)$"
      ],
      "text/plain": [
       "-2*L_3*(Q_0(x, y)*Derivative(Q_4(x, y), x)*Derivative(\\phi_i(x, y), x) + Q_1(x, y)*Derivative(Q_4(x, y), x)*Derivative(\\phi_i(x, y), y) + Q_1(x, y)*Derivative(Q_4(x, y), y)*Derivative(\\phi_i(x, y), x) + Q_3(x, y)*Derivative(Q_4(x, y), y)*Derivative(\\phi_i(x, y), y))"
      ]
     },
     "metadata": {},
     "output_type": "display_data"
    }
   ],
   "source": [
    "# i is test function basis vector, j is which term in the weak form\n",
    "for i in range(vec_dim):\n",
    "    for j in range(6):\n",
    "        T[i][j] = simplify(T[i][j])\n",
    "        display(T[i][j])"
   ]
  },
  {
   "cell_type": "markdown",
   "id": "59d45257",
   "metadata": {},
   "source": [
    "# Write weak form Jacobian"
   ]
  },
  {
   "cell_type": "code",
   "execution_count": 83,
   "id": "f9318c5d",
   "metadata": {},
   "outputs": [],
   "source": [
    "dQ_vec = Matrix(gen_functions(r'\\delta\\ Q_{}', vec_dim, x, y))\n",
    "tau = symbols('tau', real=True)"
   ]
  },
  {
   "cell_type": "code",
   "execution_count": 84,
   "id": "92a0a96c",
   "metadata": {},
   "outputs": [],
   "source": [
    "Q_subs = {Q_vec[i]: Q_vec[i] + tau * dQ_vec[i] for i in range(vec_dim)}"
   ]
  },
  {
   "cell_type": "code",
   "execution_count": 92,
   "id": "ae4d95f9",
   "metadata": {},
   "outputs": [
    {
     "data": {
      "text/latex": [
       "$\\displaystyle - 2 \\frac{\\partial}{\\partial x} \\delta\\ Q_{1}{\\left(x,y \\right)} \\frac{\\partial}{\\partial x} \\phi_{i}{\\left(x,y \\right)} - 2 \\frac{\\partial}{\\partial y} \\delta\\ Q_{1}{\\left(x,y \\right)} \\frac{\\partial}{\\partial y} \\phi_{i}{\\left(x,y \\right)}$"
      ],
      "text/plain": [
       "-2*Derivative(\\delta\\ Q_1(x, y), x)*Derivative(\\phi_i(x, y), x) - 2*Derivative(\\delta\\ Q_1(x, y), y)*Derivative(\\phi_i(x, y), y)"
      ]
     },
     "execution_count": 92,
     "metadata": {},
     "output_type": "execute_result"
    }
   ],
   "source": [
    "T[1][3].subs(Q_subs).diff(tau).subs(tau, 0)"
   ]
  },
  {
   "cell_type": "code",
   "execution_count": null,
   "id": "4190cde7",
   "metadata": {},
   "outputs": [],
   "source": []
  }
 ],
 "metadata": {
  "kernelspec": {
   "display_name": "Python 3 (ipykernel)",
   "language": "python",
   "name": "python3"
  },
  "language_info": {
   "codemirror_mode": {
    "name": "ipython",
    "version": 3
   },
   "file_extension": ".py",
   "mimetype": "text/x-python",
   "name": "python",
   "nbconvert_exporter": "python",
   "pygments_lexer": "ipython3",
   "version": "3.9.7"
  }
 },
 "nbformat": 4,
 "nbformat_minor": 5
}
