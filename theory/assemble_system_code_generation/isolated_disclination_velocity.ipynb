{
 "cells": [
  {
   "cell_type": "markdown",
   "id": "f0d128a0",
   "metadata": {},
   "source": [
    "This notebook takes the standard initial condition that I've been using and calculates the equation of motion (except for the singular potential which must be calculated numerically).\n",
    "The standard configuration is:\n",
    "\\begin{align}\n",
    "    S &= S_0 \\left( \\frac{2}{1 + e^{-r}} -1 \\right) \\\\\n",
    "    \\theta = \n",
    "\\end{align}"
   ]
  },
  {
   "cell_type": "code",
   "execution_count": 1,
   "id": "4e43f2f3",
   "metadata": {},
   "outputs": [],
   "source": [
    "from sympy import *"
   ]
  },
  {
   "cell_type": "code",
   "execution_count": null,
   "id": "9abc403f",
   "metadata": {},
   "outputs": [],
   "source": []
  }
 ],
 "metadata": {
  "kernelspec": {
   "display_name": "Python 3 (ipykernel)",
   "language": "python",
   "name": "python3"
  },
  "language_info": {
   "codemirror_mode": {
    "name": "ipython",
    "version": 3
   },
   "file_extension": ".py",
   "mimetype": "text/x-python",
   "name": "python",
   "nbconvert_exporter": "python",
   "pygments_lexer": "ipython3",
   "version": "3.9.7"
  }
 },
 "nbformat": 4,
 "nbformat_minor": 5
}
