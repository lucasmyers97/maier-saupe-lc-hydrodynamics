{
 "cells": [
  {
   "cell_type": "code",
   "execution_count": 11,
   "id": "13b38d57-1b8d-44a2-8a59-2ca8ba00b4c7",
   "metadata": {},
   "outputs": [],
   "source": [
    "from sympy import *\n",
    "from sympy.simplify.fu import *"
   ]
  },
  {
   "cell_type": "code",
   "execution_count": 87,
   "id": "9cbbb595-1f0f-467a-b8d3-8e401e0a9a7b",
   "metadata": {},
   "outputs": [],
   "source": [
    "r, phi = symbols('r phi', nonnegative=True)\n",
    "x, y, z = symbols('x y z', real=True)"
   ]
  },
  {
   "cell_type": "code",
   "execution_count": 40,
   "id": "431016f9-a7a6-4bf9-8309-b32680f8a83f",
   "metadata": {},
   "outputs": [
    {
     "data": {
      "text/latex": [
       "$\\displaystyle \\left[\\begin{matrix}\\cos{\\left(\\frac{\\phi}{2} \\right)}\\\\\\sin{\\left(\\frac{\\phi}{2} \\right)}\\\\0\\end{matrix}\\right]$"
      ],
      "text/plain": [
       "Matrix([\n",
       "[cos(phi/2)],\n",
       "[sin(phi/2)],\n",
       "[         0]])"
      ]
     },
     "execution_count": 40,
     "metadata": {},
     "output_type": "execute_result"
    }
   ],
   "source": [
    "n = Matrix([cos(phi/2), sin(phi/2), 0])\n",
    "n"
   ]
  },
  {
   "cell_type": "code",
   "execution_count": 45,
   "id": "bb349eee-42a4-4e35-96d2-34a39e3d3ff1",
   "metadata": {},
   "outputs": [],
   "source": [
    "half_angle = {sin(phi/2): sqrt((1 - cos(phi))/2),\n",
    "              cos(phi/2): sqrt((1 + cos(phi))/2)}\n",
    "double_angle = {sqrt(1 - cos(phi)): sqrt(2) * sin(phi/2),\n",
    "                sqrt(1 + cos(phi)): sqrt(2) * cos(phi/2)}\n",
    "cartesian_conversion = {cos(phi): x/sqrt(x**2 + y**2), sin(phi): y/sqrt(x**2 + y**2)}\n",
    "polar_conversion = {x: r*cos(phi), y:r*sin(phi)}"
   ]
  },
  {
   "cell_type": "code",
   "execution_count": 42,
   "id": "f6a216ba-4224-41fb-9e4a-8f21ff28d156",
   "metadata": {},
   "outputs": [
    {
     "data": {
      "text/latex": [
       "$\\displaystyle \\left[\\begin{matrix}\\frac{\\sqrt{\\frac{2 x}{\\sqrt{x^{2} + y^{2}}} + 2}}{2}\\\\\\frac{\\sqrt{- \\frac{2 x}{\\sqrt{x^{2} + y^{2}}} + 2}}{2}\\\\0\\end{matrix}\\right]$"
      ],
      "text/plain": [
       "Matrix([\n",
       "[ sqrt(2*x/sqrt(x**2 + y**2) + 2)/2],\n",
       "[sqrt(-2*x/sqrt(x**2 + y**2) + 2)/2],\n",
       "[                                 0]])"
      ]
     },
     "execution_count": 42,
     "metadata": {},
     "output_type": "execute_result"
    }
   ],
   "source": [
    "n_cart = simplify(n.subs(half_angle).subs(cartesian_conversion))\n",
    "n_cart"
   ]
  },
  {
   "cell_type": "code",
   "execution_count": 56,
   "id": "db04a561-7793-4560-bfb4-c5e9867aa0db",
   "metadata": {},
   "outputs": [],
   "source": [
    "def div(n):\n",
    "    return n[0].diff(x) + n[1].diff(y) + n[2].diff(z)\n",
    "\n",
    "def curl(n):\n",
    "    return Matrix([n[2].diff(y) - n[1].diff(z),\n",
    "                   n[0].diff(z) - n[2].diff(x),\n",
    "                   n[1].diff(x) - n[0].diff(y)])\n",
    "\n",
    "def cross(n, m):\n",
    "    return Matrix([n[1]*m[2] - n[2]*m[1],\n",
    "                   n[2]*m[0] - n[0]*m[2],\n",
    "                   n[0]*m[1] - n[1]*m[0]])\n",
    "\n",
    "def dot(n, m):\n",
    "    return n[0]*m[0] + n[1]*m[1] + n[2]*m[2]\n",
    "\n",
    "def square(n):\n",
    "    return dot(n, n)"
   ]
  },
  {
   "cell_type": "markdown",
   "id": "e174ed51-40fd-438e-9ee4-b0ff81d10cd6",
   "metadata": {},
   "source": [
    "# Calculate for unrotated director"
   ]
  },
  {
   "cell_type": "code",
   "execution_count": 57,
   "id": "340d544c-c1b7-44e0-95a7-dd3fe7e8d6b7",
   "metadata": {},
   "outputs": [
    {
     "data": {
      "text/latex": [
       "$\\displaystyle \\frac{\\left(x \\sqrt{\\frac{x}{\\sqrt{x^{2} + y^{2}}} + 1} + y \\sqrt{- \\frac{x}{\\sqrt{x^{2} + y^{2}}} + 1}\\right)^{2}}{8 \\left(x^{2} + y^{2}\\right)^{2}}$"
      ],
      "text/plain": [
       "(x*sqrt(x/sqrt(x**2 + y**2) + 1) + y*sqrt(-x/sqrt(x**2 + y**2) + 1))**2/(8*(x**2 + y**2)**2)"
      ]
     },
     "metadata": {},
     "output_type": "display_data"
    },
    {
     "data": {
      "text/latex": [
       "$\\displaystyle 0$"
      ],
      "text/plain": [
       "0"
      ]
     },
     "metadata": {},
     "output_type": "display_data"
    },
    {
     "data": {
      "text/latex": [
       "$\\displaystyle \\frac{\\left(x \\sqrt{- \\frac{x}{\\sqrt{x^{2} + y^{2}}} + 1} - y \\sqrt{\\frac{x}{\\sqrt{x^{2} + y^{2}}} + 1}\\right)^{2}}{8 \\left(x^{2} + y^{2}\\right)^{2}}$"
      ],
      "text/plain": [
       "(x*sqrt(-x/sqrt(x**2 + y**2) + 1) - y*sqrt(x/sqrt(x**2 + y**2) + 1))**2/(8*(x**2 + y**2)**2)"
      ]
     },
     "metadata": {},
     "output_type": "display_data"
    }
   ],
   "source": [
    "splay = div(n_cart)**2\n",
    "bend = square(cross(n_cart, curl(n_cart)))\n",
    "twist = dot(n_cart, curl(n_cart))**2\n",
    "\n",
    "splay = simplify(splay)\n",
    "bend = simplify(bend)\n",
    "twist = simplify(twist)\n",
    "display(splay, twist, bend)"
   ]
  },
  {
   "cell_type": "code",
   "execution_count": 58,
   "id": "3b02a810-2f52-441e-904a-b11333bf8863",
   "metadata": {},
   "outputs": [
    {
     "data": {
      "text/latex": [
       "$\\displaystyle \\frac{1}{4 \\left(x^{2} + y^{2}\\right)}$"
      ],
      "text/plain": [
       "1/(4*(x**2 + y**2))"
      ]
     },
     "execution_count": 58,
     "metadata": {},
     "output_type": "execute_result"
    }
   ],
   "source": [
    "simplify(splay + twist + bend)"
   ]
  },
  {
   "cell_type": "markdown",
   "id": "412a4d71-ba49-4bf3-ae79-8bf5c7667909",
   "metadata": {},
   "source": [
    "# Calculate for globally rotated director"
   ]
  },
  {
   "cell_type": "code",
   "execution_count": 59,
   "id": "9c9d7577-d0e9-4f51-8bd6-09a2cdc3611f",
   "metadata": {},
   "outputs": [],
   "source": [
    "def Rx(theta):\n",
    "    return Matrix([[1, 0, 0],\n",
    "                   [0, cos(theta), -sin(theta)],\n",
    "                   [0, sin(theta), cos(theta)]])"
   ]
  },
  {
   "cell_type": "code",
   "execution_count": 93,
   "id": "1887c6ff-45c7-4e1d-888a-aad862668023",
   "metadata": {},
   "outputs": [
    {
     "data": {
      "text/latex": [
       "$\\displaystyle \\left[\\begin{matrix}\\frac{\\sqrt{\\frac{2 x}{\\sqrt{x^{2} + y^{2}}} + 2}}{2}\\\\0\\\\\\frac{\\sqrt{- \\frac{2 x}{\\sqrt{x^{2} + y^{2}}} + 2}}{2}\\end{matrix}\\right]$"
      ],
      "text/plain": [
       "Matrix([\n",
       "[ sqrt(2*x/sqrt(x**2 + y**2) + 2)/2],\n",
       "[                                 0],\n",
       "[sqrt(-2*x/sqrt(x**2 + y**2) + 2)/2]])"
      ]
     },
     "execution_count": 93,
     "metadata": {},
     "output_type": "execute_result"
    }
   ],
   "source": [
    "n_rot = Rx(pi/2)*n_cart\n",
    "n_rot"
   ]
  },
  {
   "cell_type": "code",
   "execution_count": 94,
   "id": "59448b23-043e-45ca-8c29-f5a77bf72ccd",
   "metadata": {},
   "outputs": [
    {
     "data": {
      "text/latex": [
       "$\\displaystyle \\frac{y^{4}}{8 \\left(x + \\sqrt{x^{2} + y^{2}}\\right) \\left(x^{2} + y^{2}\\right)^{\\frac{5}{2}}}$"
      ],
      "text/plain": [
       "y**4/(8*(x + sqrt(x**2 + y**2))*(x**2 + y**2)**(5/2))"
      ]
     },
     "metadata": {},
     "output_type": "display_data"
    },
    {
     "data": {
      "text/latex": [
       "$\\displaystyle \\frac{x^{2}}{4 \\left(x^{4} + 2 x^{2} y^{2} + y^{4}\\right)}$"
      ],
      "text/plain": [
       "x**2/(4*(x**4 + 2*x**2*y**2 + y**4))"
      ]
     },
     "metadata": {},
     "output_type": "display_data"
    },
    {
     "data": {
      "text/latex": [
       "$\\displaystyle - \\frac{y^{4}}{8 \\left(x - \\sqrt{x^{2} + y^{2}}\\right) \\left(x^{2} + y^{2}\\right)^{\\frac{5}{2}}}$"
      ],
      "text/plain": [
       "-y**4/(8*(x - sqrt(x**2 + y**2))*(x**2 + y**2)**(5/2))"
      ]
     },
     "metadata": {},
     "output_type": "display_data"
    }
   ],
   "source": [
    "splay_g = div(n_rot)**2\n",
    "bend_g = square(cross(n_rot, curl(n_rot)))\n",
    "twist_g = dot(n_rot, curl(n_rot))**2\n",
    "\n",
    "splay_g = simplify(splay_g)\n",
    "bend_g = simplify(bend_g)\n",
    "twist_g = simplify(twist_g)\n",
    "display(splay_g, twist_g, bend_g)"
   ]
  },
  {
   "cell_type": "code",
   "execution_count": 63,
   "id": "a26ae9ed-f200-4d81-9020-e050e54c69e1",
   "metadata": {},
   "outputs": [
    {
     "data": {
      "text/latex": [
       "$\\displaystyle \\frac{1}{4 \\left(x^{2} + y^{2}\\right)}$"
      ],
      "text/plain": [
       "1/(4*(x**2 + y**2))"
      ]
     },
     "execution_count": 63,
     "metadata": {},
     "output_type": "execute_result"
    }
   ],
   "source": [
    "simplify(splay + twist + bend)"
   ]
  },
  {
   "cell_type": "markdown",
   "id": "72d633e0-8dc8-4f43-a84b-a027a7071c7c",
   "metadata": {},
   "source": [
    "# Add twist only at the center"
   ]
  },
  {
   "cell_type": "code",
   "execution_count": 107,
   "id": "70380c53-a131-4319-8ae5-40f1f8d31c71",
   "metadata": {},
   "outputs": [
    {
     "data": {
      "text/latex": [
       "$\\displaystyle \\left[\\begin{matrix}1 & 0 & 0\\\\0 & \\cos{\\left(\\frac{\\pi e^{- x^{2} - y^{2}}}{2} \\right)} & - \\sin{\\left(\\frac{\\pi e^{- x^{2} - y^{2}}}{2} \\right)}\\\\0 & \\sin{\\left(\\frac{\\pi e^{- x^{2} - y^{2}}}{2} \\right)} & \\cos{\\left(\\frac{\\pi e^{- x^{2} - y^{2}}}{2} \\right)}\\end{matrix}\\right]$"
      ],
      "text/plain": [
       "Matrix([\n",
       "[1,                           0,                            0],\n",
       "[0, cos(pi*exp(-x**2 - y**2)/2), -sin(pi*exp(-x**2 - y**2)/2)],\n",
       "[0, sin(pi*exp(-x**2 - y**2)/2),  cos(pi*exp(-x**2 - y**2)/2)]])"
      ]
     },
     "execution_count": 107,
     "metadata": {},
     "output_type": "execute_result"
    }
   ],
   "source": [
    "Rot = Rx(pi / 2 * exp(-x**2 - y**2))\n",
    "Rot"
   ]
  },
  {
   "cell_type": "code",
   "execution_count": 108,
   "id": "32a5ccb4-4c52-4a1a-add8-f16b192ab89c",
   "metadata": {},
   "outputs": [
    {
     "data": {
      "text/latex": [
       "$\\displaystyle \\left[\\begin{matrix}\\frac{\\sqrt{\\frac{2 x}{\\sqrt{x^{2} + y^{2}}} + 2}}{2}\\\\\\frac{\\sqrt{- \\frac{2 x}{\\sqrt{x^{2} + y^{2}}} + 2} \\cos{\\left(\\frac{\\pi e^{- x^{2} - y^{2}}}{2} \\right)}}{2}\\\\\\frac{\\sqrt{- \\frac{2 x}{\\sqrt{x^{2} + y^{2}}} + 2} \\sin{\\left(\\frac{\\pi e^{- x^{2} - y^{2}}}{2} \\right)}}{2}\\end{matrix}\\right]$"
      ],
      "text/plain": [
       "Matrix([\n",
       "[                             sqrt(2*x/sqrt(x**2 + y**2) + 2)/2],\n",
       "[sqrt(-2*x/sqrt(x**2 + y**2) + 2)*cos(pi*exp(-x**2 - y**2)/2)/2],\n",
       "[sqrt(-2*x/sqrt(x**2 + y**2) + 2)*sin(pi*exp(-x**2 - y**2)/2)/2]])"
      ]
     },
     "execution_count": 108,
     "metadata": {},
     "output_type": "execute_result"
    }
   ],
   "source": [
    "n_rot = Rot * n_cart\n",
    "n_rot"
   ]
  },
  {
   "cell_type": "code",
   "execution_count": 113,
   "id": "7943696b-000c-4a57-a41c-ae679de509d2",
   "metadata": {},
   "outputs": [
    {
     "data": {
      "text/latex": [
       "$\\displaystyle \\frac{y^{2} \\left(2 \\pi \\sqrt{\\frac{x + \\sqrt{x^{2} + y^{2}}}{\\sqrt{x^{2} + y^{2}}}} \\left(- x + \\sqrt{x^{2} + y^{2}}\\right) \\left(x^{2} + y^{2}\\right) \\sin{\\left(\\frac{\\pi e^{- x^{2} - y^{2}}}{2} \\right)} + \\left(x \\sqrt{\\frac{x}{\\sqrt{x^{2} + y^{2}}} + 1} \\cos{\\left(\\frac{\\pi e^{- x^{2} - y^{2}}}{2} \\right)} + y \\sqrt{- \\frac{x}{\\sqrt{x^{2} + y^{2}}} + 1}\\right) e^{x^{2} + y^{2}}\\right)^{2} e^{- 2 x^{2} - 2 y^{2}}}{8 \\left(- x + \\sqrt{x^{2} + y^{2}}\\right) \\left(x + \\sqrt{x^{2} + y^{2}}\\right) \\left(x^{2} + y^{2}\\right)^{2}}$"
      ],
      "text/plain": [
       "y**2*(2*pi*sqrt((x + sqrt(x**2 + y**2))/sqrt(x**2 + y**2))*(-x + sqrt(x**2 + y**2))*(x**2 + y**2)*sin(pi*exp(-x**2 - y**2)/2) + (x*sqrt(x/sqrt(x**2 + y**2) + 1)*cos(pi*exp(-x**2 - y**2)/2) + y*sqrt(-x/sqrt(x**2 + y**2) + 1))*exp(x**2 + y**2))**2*exp(-2*x**2 - 2*y**2)/(8*(-x + sqrt(x**2 + y**2))*(x + sqrt(x**2 + y**2))*(x**2 + y**2)**2)"
      ]
     },
     "metadata": {},
     "output_type": "display_data"
    },
    {
     "data": {
      "text/latex": [
       "$\\displaystyle \\frac{\\left(x \\sqrt{\\frac{- x + \\sqrt{x^{2} + y^{2}}}{\\sqrt{x^{2} + y^{2}}}} \\left(x^{2} + y^{2}\\right)^{\\frac{15}{2}} \\left(- 2 \\pi x^{3} \\sqrt{\\frac{x}{\\sqrt{x^{2} + y^{2}}} + 1} + 2 \\pi x^{2} \\sqrt{x^{2} + y^{2}} \\sqrt{\\frac{x}{\\sqrt{x^{2} + y^{2}}} + 1} - 2 \\pi x y^{2} \\sqrt{\\frac{x}{\\sqrt{x^{2} + y^{2}}} + 1} + 2 \\pi y^{2} \\sqrt{x^{2} + y^{2}} \\sqrt{\\frac{x}{\\sqrt{x^{2} + y^{2}}} + 1} + y \\sqrt{- \\frac{x}{\\sqrt{x^{2} + y^{2}}} + 1} e^{x^{2} + y^{2}} \\sin{\\left(\\frac{\\pi e^{- x^{2} - y^{2}}}{2} \\right)}\\right) + y \\left(x + \\sqrt{x^{2} + y^{2}}\\right) \\left(x^{2} + y^{2}\\right)^{7} \\left(x e^{x^{2} + y^{2}} \\sin{\\left(\\frac{\\pi e^{- x^{2} - y^{2}}}{2} \\right)} - 2 \\pi \\left(- x + \\sqrt{x^{2} + y^{2}}\\right) \\left(x^{2} + y^{2}\\right) \\cos{\\left(\\frac{\\pi e^{- x^{2} - y^{2}}}{2} \\right)}\\right)\\right)^{2} e^{- 2 x^{2} - 2 y^{2}}}{16 \\left(- x + \\sqrt{x^{2} + y^{2}}\\right) \\left(x + \\sqrt{x^{2} + y^{2}}\\right) \\left(x^{2} + y^{2}\\right)^{17}}$"
      ],
      "text/plain": [
       "(x*sqrt((-x + sqrt(x**2 + y**2))/sqrt(x**2 + y**2))*(x**2 + y**2)**(15/2)*(-2*pi*x**3*sqrt(x/sqrt(x**2 + y**2) + 1) + 2*pi*x**2*sqrt(x**2 + y**2)*sqrt(x/sqrt(x**2 + y**2) + 1) - 2*pi*x*y**2*sqrt(x/sqrt(x**2 + y**2) + 1) + 2*pi*y**2*sqrt(x**2 + y**2)*sqrt(x/sqrt(x**2 + y**2) + 1) + y*sqrt(-x/sqrt(x**2 + y**2) + 1)*exp(x**2 + y**2)*sin(pi*exp(-x**2 - y**2)/2)) + y*(x + sqrt(x**2 + y**2))*(x**2 + y**2)**7*(x*exp(x**2 + y**2)*sin(pi*exp(-x**2 - y**2)/2) - 2*pi*(-x + sqrt(x**2 + y**2))*(x**2 + y**2)*cos(pi*exp(-x**2 - y**2)/2)))**2*exp(-2*x**2 - 2*y**2)/(16*(-x + sqrt(x**2 + y**2))*(x + sqrt(x**2 + y**2))*(x**2 + y**2)**17)"
      ]
     },
     "metadata": {},
     "output_type": "display_data"
    },
    {
     "data": {
      "text/latex": [
       "$\\displaystyle \\frac{\\left(y^{2} \\left(- x + \\sqrt{x^{2} + y^{2}}\\right) \\left(- x \\sqrt{- \\frac{x}{\\sqrt{x^{2} + y^{2}}} + 1} \\cos{\\left(\\frac{\\pi e^{- x^{2} - y^{2}}}{2} \\right)} + y \\sqrt{\\frac{x}{\\sqrt{x^{2} + y^{2}}} + 1}\\right)^{2} e^{2 x^{2} + 2 y^{2}} + \\left(x + \\sqrt{x^{2} + y^{2}}\\right) \\left(y \\sqrt{\\frac{- x + \\sqrt{x^{2} + y^{2}}}{\\sqrt{x^{2} + y^{2}}}} \\left(x e^{x^{2} + y^{2}} \\sin{\\left(\\frac{\\pi e^{- x^{2} - y^{2}}}{2} \\right)} - 2 \\pi \\left(- x + \\sqrt{x^{2} + y^{2}}\\right) \\left(x^{2} + y^{2}\\right) \\cos{\\left(\\frac{\\pi e^{- x^{2} - y^{2}}}{2} \\right)}\\right) \\cos{\\left(\\frac{\\pi e^{- x^{2} - y^{2}}}{2} \\right)} - \\sqrt{\\frac{x + \\sqrt{x^{2} + y^{2}}}{\\sqrt{x^{2} + y^{2}}}} \\cdot \\left(2 \\pi x \\left(- x + \\sqrt{x^{2} + y^{2}}\\right) \\left(x^{2} + y^{2}\\right) \\cos{\\left(\\frac{\\pi e^{- x^{2} - y^{2}}}{2} \\right)} + y^{2} e^{x^{2} + y^{2}} \\sin{\\left(\\frac{\\pi e^{- x^{2} - y^{2}}}{2} \\right)}\\right)\\right)^{2} + \\left(x + \\sqrt{x^{2} + y^{2}}\\right) \\left(- 2 \\pi x \\sqrt{\\frac{x + \\sqrt{x^{2} + y^{2}}}{\\sqrt{x^{2} + y^{2}}}} \\left(- x + \\sqrt{x^{2} + y^{2}}\\right) \\left(x^{2} + y^{2}\\right) \\sin{\\left(\\frac{\\pi e^{- x^{2} - y^{2}}}{2} \\right)} + y \\sqrt{\\frac{- x + \\sqrt{x^{2} + y^{2}}}{\\sqrt{x^{2} + y^{2}}}} \\left(x e^{x^{2} + y^{2}} \\sin{\\left(\\frac{\\pi e^{- x^{2} - y^{2}}}{2} \\right)} - 2 \\pi \\left(- x + \\sqrt{x^{2} + y^{2}}\\right) \\left(x^{2} + y^{2}\\right) \\cos{\\left(\\frac{\\pi e^{- x^{2} - y^{2}}}{2} \\right)}\\right) \\sin{\\left(\\frac{\\pi e^{- x^{2} - y^{2}}}{2} \\right)} - y \\left(x \\sqrt{- \\frac{x}{\\sqrt{x^{2} + y^{2}}} + 1} - y \\sqrt{\\frac{x}{\\sqrt{x^{2} + y^{2}}} + 1} \\cos{\\left(\\frac{\\pi e^{- x^{2} - y^{2}}}{2} \\right)}\\right) e^{x^{2} + y^{2}}\\right)^{2}\\right) e^{- 2 x^{2} - 2 y^{2}}}{16 \\left(- x + \\sqrt{x^{2} + y^{2}}\\right) \\left(x + \\sqrt{x^{2} + y^{2}}\\right) \\left(x^{2} + y^{2}\\right)^{\\frac{5}{2}}}$"
      ],
      "text/plain": [
       "(y**2*(-x + sqrt(x**2 + y**2))*(-x*sqrt(-x/sqrt(x**2 + y**2) + 1)*cos(pi*exp(-x**2 - y**2)/2) + y*sqrt(x/sqrt(x**2 + y**2) + 1))**2*exp(2*x**2 + 2*y**2) + (x + sqrt(x**2 + y**2))*(y*sqrt((-x + sqrt(x**2 + y**2))/sqrt(x**2 + y**2))*(x*exp(x**2 + y**2)*sin(pi*exp(-x**2 - y**2)/2) - 2*pi*(-x + sqrt(x**2 + y**2))*(x**2 + y**2)*cos(pi*exp(-x**2 - y**2)/2))*cos(pi*exp(-x**2 - y**2)/2) - sqrt((x + sqrt(x**2 + y**2))/sqrt(x**2 + y**2))*(2*pi*x*(-x + sqrt(x**2 + y**2))*(x**2 + y**2)*cos(pi*exp(-x**2 - y**2)/2) + y**2*exp(x**2 + y**2)*sin(pi*exp(-x**2 - y**2)/2)))**2 + (x + sqrt(x**2 + y**2))*(-2*pi*x*sqrt((x + sqrt(x**2 + y**2))/sqrt(x**2 + y**2))*(-x + sqrt(x**2 + y**2))*(x**2 + y**2)*sin(pi*exp(-x**2 - y**2)/2) + y*sqrt((-x + sqrt(x**2 + y**2))/sqrt(x**2 + y**2))*(x*exp(x**2 + y**2)*sin(pi*exp(-x**2 - y**2)/2) - 2*pi*(-x + sqrt(x**2 + y**2))*(x**2 + y**2)*cos(pi*exp(-x**2 - y**2)/2))*sin(pi*exp(-x**2 - y**2)/2) - y*(x*sqrt(-x/sqrt(x**2 + y**2) + 1) - y*sqrt(x/sqrt(x**2 + y**2) + 1)*cos(pi*exp(-x**2 - y**2)/2))*exp(x**2 + y**2))**2)*exp(-2*x**2 - 2*y**2)/(16*(-x + sqrt(x**2 + y**2))*(x + sqrt(x**2 + y**2))*(x**2 + y**2)**(5/2))"
      ]
     },
     "metadata": {},
     "output_type": "display_data"
    }
   ],
   "source": [
    "splay = div(n_rot)**2\n",
    "bend = square(cross(n_rot, curl(n_rot)))\n",
    "twist = dot(n_rot, curl(n_rot))**2\n",
    "\n",
    "splay = simplify(splay)\n",
    "bend = simplify(bend)\n",
    "twist = simplify(twist)\n",
    "display(splay, twist, bend)"
   ]
  },
  {
   "cell_type": "code",
   "execution_count": 70,
   "id": "059e7149-a7e0-4834-a558-7704d508e0aa",
   "metadata": {},
   "outputs": [
    {
     "data": {
      "text/latex": [
       "$\\displaystyle \\frac{y \\left(- 2 \\pi^{2} x^{4} y \\left(x^{2} + y^{2}\\right)^{\\frac{41}{2}} + 2 \\pi^{2} x^{3} y \\left(x^{2} + y^{2}\\right)^{21} + 2 \\pi x^{3} \\left(x^{2} + y^{2}\\right)^{\\frac{41}{2}} \\sqrt{- \\frac{x}{\\sqrt{x^{2} + y^{2}}} + 1} \\sqrt{\\frac{x}{\\sqrt{x^{2} + y^{2}}} + 1} e^{x^{2} + y^{2}} \\sin{\\left(\\frac{\\pi e^{- x^{2} - y^{2}}}{2} \\right)} - 4 \\pi^{2} x^{2} y^{3} \\left(x^{2} + y^{2}\\right)^{\\frac{41}{2}} - 2 \\pi x^{2} \\left(x^{2} + y^{2}\\right)^{21} \\sqrt{- \\frac{x}{\\sqrt{x^{2} + y^{2}}} + 1} \\sqrt{\\frac{x}{\\sqrt{x^{2} + y^{2}}} + 1} e^{x^{2} + y^{2}} \\sin{\\left(\\frac{\\pi e^{- x^{2} - y^{2}}}{2} \\right)} + 2 \\pi^{2} x y^{3} \\left(x^{2} + y^{2}\\right)^{21} + 2 \\pi x y^{2} \\left(x^{2} + y^{2}\\right)^{\\frac{41}{2}} \\sqrt{- \\frac{x}{\\sqrt{x^{2} + y^{2}}} + 1} \\sqrt{\\frac{x}{\\sqrt{x^{2} + y^{2}}} + 1} e^{x^{2} + y^{2}} \\sin{\\left(\\frac{\\pi e^{- x^{2} - y^{2}}}{2} \\right)} - 2 \\pi^{2} y^{5} \\left(x^{2} + y^{2}\\right)^{\\frac{41}{2}} - 2 \\pi y^{2} \\left(x^{2} + y^{2}\\right)^{21} \\sqrt{- \\frac{x}{\\sqrt{x^{2} + y^{2}}} + 1} \\sqrt{\\frac{x}{\\sqrt{x^{2} + y^{2}}} + 1} e^{x^{2} + y^{2}} \\sin{\\left(\\frac{\\pi e^{- x^{2} - y^{2}}}{2} \\right)} - y \\left(x^{2} + y^{2}\\right)^{\\frac{41}{2}} e^{2 x^{2} + 2 y^{2}}\\right) e^{- 2 x^{2} - 2 y^{2}}}{4 \\left(x - \\sqrt{x^{2} + y^{2}}\\right) \\left(x + \\sqrt{x^{2} + y^{2}}\\right) \\left(x^{2} + y^{2}\\right)^{\\frac{43}{2}}}$"
      ],
      "text/plain": [
       "y*(-2*pi**2*x**4*y*(x**2 + y**2)**(41/2) + 2*pi**2*x**3*y*(x**2 + y**2)**21 + 2*pi*x**3*(x**2 + y**2)**(41/2)*sqrt(-x/sqrt(x**2 + y**2) + 1)*sqrt(x/sqrt(x**2 + y**2) + 1)*exp(x**2 + y**2)*sin(pi*exp(-x**2 - y**2)/2) - 4*pi**2*x**2*y**3*(x**2 + y**2)**(41/2) - 2*pi*x**2*(x**2 + y**2)**21*sqrt(-x/sqrt(x**2 + y**2) + 1)*sqrt(x/sqrt(x**2 + y**2) + 1)*exp(x**2 + y**2)*sin(pi*exp(-x**2 - y**2)/2) + 2*pi**2*x*y**3*(x**2 + y**2)**21 + 2*pi*x*y**2*(x**2 + y**2)**(41/2)*sqrt(-x/sqrt(x**2 + y**2) + 1)*sqrt(x/sqrt(x**2 + y**2) + 1)*exp(x**2 + y**2)*sin(pi*exp(-x**2 - y**2)/2) - 2*pi**2*y**5*(x**2 + y**2)**(41/2) - 2*pi*y**2*(x**2 + y**2)**21*sqrt(-x/sqrt(x**2 + y**2) + 1)*sqrt(x/sqrt(x**2 + y**2) + 1)*exp(x**2 + y**2)*sin(pi*exp(-x**2 - y**2)/2) - y*(x**2 + y**2)**(41/2)*exp(2*x**2 + 2*y**2))*exp(-2*x**2 - 2*y**2)/(4*(x - sqrt(x**2 + y**2))*(x + sqrt(x**2 + y**2))*(x**2 + y**2)**(43/2))"
      ]
     },
     "execution_count": 70,
     "metadata": {},
     "output_type": "execute_result"
    }
   ],
   "source": [
    "simplify(splay + twist + bend)"
   ]
  },
  {
   "cell_type": "code",
   "execution_count": 71,
   "id": "9e371ed7-c618-4147-b67e-97fc45500c28",
   "metadata": {},
   "outputs": [],
   "source": [
    "total_energy = simplify(splay + twist + bend)"
   ]
  },
  {
   "cell_type": "code",
   "execution_count": 72,
   "id": "9f4ae26e-94e2-4afb-a68b-65fe3da35111",
   "metadata": {},
   "outputs": [
    {
     "data": {
      "text/latex": [
       "$\\displaystyle \\frac{y \\left(- 2 \\pi^{2} x^{4} y \\left(x^{2} + y^{2}\\right)^{\\frac{41}{2}} + 2 \\pi^{2} x^{3} y \\left(x^{2} + y^{2}\\right)^{21} + 2 \\pi x^{3} \\left(x^{2} + y^{2}\\right)^{\\frac{41}{2}} \\sqrt{- \\frac{x}{\\sqrt{x^{2} + y^{2}}} + 1} \\sqrt{\\frac{x}{\\sqrt{x^{2} + y^{2}}} + 1} e^{x^{2} + y^{2}} \\sin{\\left(\\frac{\\pi e^{- x^{2} - y^{2}}}{2} \\right)} - 4 \\pi^{2} x^{2} y^{3} \\left(x^{2} + y^{2}\\right)^{\\frac{41}{2}} - 2 \\pi x^{2} \\left(x^{2} + y^{2}\\right)^{21} \\sqrt{- \\frac{x}{\\sqrt{x^{2} + y^{2}}} + 1} \\sqrt{\\frac{x}{\\sqrt{x^{2} + y^{2}}} + 1} e^{x^{2} + y^{2}} \\sin{\\left(\\frac{\\pi e^{- x^{2} - y^{2}}}{2} \\right)} + 2 \\pi^{2} x y^{3} \\left(x^{2} + y^{2}\\right)^{21} + 2 \\pi x y^{2} \\left(x^{2} + y^{2}\\right)^{\\frac{41}{2}} \\sqrt{- \\frac{x}{\\sqrt{x^{2} + y^{2}}} + 1} \\sqrt{\\frac{x}{\\sqrt{x^{2} + y^{2}}} + 1} e^{x^{2} + y^{2}} \\sin{\\left(\\frac{\\pi e^{- x^{2} - y^{2}}}{2} \\right)} - 2 \\pi^{2} y^{5} \\left(x^{2} + y^{2}\\right)^{\\frac{41}{2}} - 2 \\pi y^{2} \\left(x^{2} + y^{2}\\right)^{21} \\sqrt{- \\frac{x}{\\sqrt{x^{2} + y^{2}}} + 1} \\sqrt{\\frac{x}{\\sqrt{x^{2} + y^{2}}} + 1} e^{x^{2} + y^{2}} \\sin{\\left(\\frac{\\pi e^{- x^{2} - y^{2}}}{2} \\right)} - y \\left(x^{2} + y^{2}\\right)^{\\frac{41}{2}} e^{2 x^{2} + 2 y^{2}}\\right) e^{- 2 x^{2} - 2 y^{2}}}{4 \\left(x - \\sqrt{x^{2} + y^{2}}\\right) \\left(x + \\sqrt{x^{2} + y^{2}}\\right) \\left(x^{2} + y^{2}\\right)^{\\frac{43}{2}}}$"
      ],
      "text/plain": [
       "y*(-2*pi**2*x**4*y*(x**2 + y**2)**(41/2) + 2*pi**2*x**3*y*(x**2 + y**2)**21 + 2*pi*x**3*(x**2 + y**2)**(41/2)*sqrt(-x/sqrt(x**2 + y**2) + 1)*sqrt(x/sqrt(x**2 + y**2) + 1)*exp(x**2 + y**2)*sin(pi*exp(-x**2 - y**2)/2) - 4*pi**2*x**2*y**3*(x**2 + y**2)**(41/2) - 2*pi*x**2*(x**2 + y**2)**21*sqrt(-x/sqrt(x**2 + y**2) + 1)*sqrt(x/sqrt(x**2 + y**2) + 1)*exp(x**2 + y**2)*sin(pi*exp(-x**2 - y**2)/2) + 2*pi**2*x*y**3*(x**2 + y**2)**21 + 2*pi*x*y**2*(x**2 + y**2)**(41/2)*sqrt(-x/sqrt(x**2 + y**2) + 1)*sqrt(x/sqrt(x**2 + y**2) + 1)*exp(x**2 + y**2)*sin(pi*exp(-x**2 - y**2)/2) - 2*pi**2*y**5*(x**2 + y**2)**(41/2) - 2*pi*y**2*(x**2 + y**2)**21*sqrt(-x/sqrt(x**2 + y**2) + 1)*sqrt(x/sqrt(x**2 + y**2) + 1)*exp(x**2 + y**2)*sin(pi*exp(-x**2 - y**2)/2) - y*(x**2 + y**2)**(41/2)*exp(2*x**2 + 2*y**2))*exp(-2*x**2 - 2*y**2)/(4*(x - sqrt(x**2 + y**2))*(x + sqrt(x**2 + y**2))*(x**2 + y**2)**(43/2))"
      ]
     },
     "execution_count": 72,
     "metadata": {},
     "output_type": "execute_result"
    }
   ],
   "source": [
    "total_energy"
   ]
  },
  {
   "cell_type": "markdown",
   "id": "5fadfdb7-a8a7-4bfe-b6ae-f302aba63d0a",
   "metadata": {},
   "source": [
    "# Do numerical calculation"
   ]
  },
  {
   "cell_type": "code",
   "execution_count": 88,
   "id": "8c0f486e-9ec5-42e8-82ae-126aa0356855",
   "metadata": {},
   "outputs": [],
   "source": [
    "partial_twisted_energy = lambdify((x, y), total_energy)\n",
    "twisted_energy = lambda x, y: 1 / (4*(x**2 + y**2))"
   ]
  },
  {
   "cell_type": "code",
   "execution_count": 89,
   "id": "f9fd9c04-3be5-4c88-9504-ea240255c926",
   "metadata": {},
   "outputs": [],
   "source": [
    "import numpy as np\n",
    "import matplotlib.pyplot as plt"
   ]
  },
  {
   "cell_type": "code",
   "execution_count": 90,
   "id": "d0dda14d-abbb-4dda-ac30-a150bb156193",
   "metadata": {},
   "outputs": [],
   "source": [
    "xd = np.linspace(-5, 5, num=1000)\n",
    "yd = np.linspace(-5, 5, num=1000)\n",
    "\n",
    "X, Y = np.meshgrid(xd, yd)"
   ]
  },
  {
   "cell_type": "code",
   "execution_count": 92,
   "id": "399e29b0-9823-475f-8d79-6ae7e34a53d6",
   "metadata": {},
   "outputs": [
    {
     "data": {
      "image/png": "[encoded data removed]",
      "text/plain": [
       "<Figure size 640x480 with 2 Axes>"
      ]
     },
     "metadata": {},
     "output_type": "display_data"
    }
   ],
   "source": [
    "psm = plt.pcolormesh(X, Y, partial_twisted_energy(X, Y) - twisted_energy(X, Y))\n",
    "plt.colorbar(psm)\n",
    "plt.show()"
   ]
  },
  {
   "cell_type": "code",
   "execution_count": 95,
   "id": "ca198c96-15fa-4fef-b4b9-e66eb70ff9e1",
   "metadata": {},
   "outputs": [],
   "source": [
    "splay_n = lambdify((x, y), splay)\n",
    "twist_n = lambdify((x, y), twist)\n",
    "bend_n = lambdify((x, y), bend)\n",
    "\n",
    "splay_gn = lambdify((x, y), splay_g)\n",
    "twist_gn = lambdify((x, y), twist_g)\n",
    "bend_gn = lambdify((x, y), bend_g)"
   ]
  },
  {
   "cell_type": "code",
   "execution_count": 96,
   "id": "86c3eb7b-c2bd-47da-89b8-9c964a276c65",
   "metadata": {},
   "outputs": [
    {
     "data": {
      "image/png": "[encoded data removed]",
      "text/plain": [
       "<Figure size 640x480 with 2 Axes>"
      ]
     },
     "metadata": {},
     "output_type": "display_data"
    }
   ],
   "source": [
    "psm = plt.pcolormesh(X, Y, splay_n(X, Y) - splay_gn(X, Y))\n",
    "plt.colorbar(psm)\n",
    "plt.show()"
   ]
  },
  {
   "cell_type": "code",
   "execution_count": 97,
   "id": "eb65bffd-89a9-4113-86d9-0036e1a52b10",
   "metadata": {},
   "outputs": [
    {
     "data": {
      "image/png": "[encoded data removed]",
      "text/plain": [
       "<Figure size 640x480 with 2 Axes>"
      ]
     },
     "metadata": {},
     "output_type": "display_data"
    }
   ],
   "source": [
    "psm = plt.pcolormesh(X, Y, twist_n(X, Y) - twist_gn(X, Y))\n",
    "plt.colorbar(psm)\n",
    "plt.show()"
   ]
  },
  {
   "cell_type": "code",
   "execution_count": 98,
   "id": "a68eb95d-7e43-41a0-bf0d-706a43dcfaac",
   "metadata": {},
   "outputs": [
    {
     "data": {
      "image/png": "[encoded data removed]",
      "text/plain": [
       "<Figure size 640x480 with 2 Axes>"
      ]
     },
     "metadata": {},
     "output_type": "display_data"
    }
   ],
   "source": [
    "psm = plt.pcolormesh(X, Y, bend_n(X, Y) - bend_gn(X, Y))\n",
    "plt.colorbar(psm)\n",
    "plt.show()"
   ]
  }
 ],
 "metadata": {
  "kernelspec": {
   "display_name": "Python 3 (ipykernel)",
   "language": "python",
   "name": "python3"
  },
  "language_info": {
   "codemirror_mode": {
    "name": "ipython",
    "version": 3
   },
   "file_extension": ".py",
   "mimetype": "text/x-python",
   "name": "python",
   "nbconvert_exporter": "python",
   "pygments_lexer": "ipython3",
   "version": "3.11.9"
  }
 },
 "nbformat": 4,
 "nbformat_minor": 5
}
