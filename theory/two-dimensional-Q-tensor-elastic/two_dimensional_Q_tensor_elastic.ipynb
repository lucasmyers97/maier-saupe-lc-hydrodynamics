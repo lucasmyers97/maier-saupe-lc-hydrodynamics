{
 "cells": [
  {
   "cell_type": "markdown",
   "id": "986152fd-8ae1-4753-a14f-13158c614ee7",
   "metadata": {},
   "source": [
    "Notebook explanation: \n",
    "* We explicitly write out the $Q$-tensor free energy in $2D$, and substitute the complex phase. This allows us to write the free energy in a fairly simple way.\n",
    "* Then, we do the same for the equation of motion (which has already been written out in $Q$-tensor form."
   ]
  },
  {
   "cell_type": "code",
   "execution_count": 1,
   "id": "3c59ea36-c243-4124-aae5-02fe034f745e",
   "metadata": {},
   "outputs": [],
   "source": [
    "from sympy import *"
   ]
  },
  {
   "cell_type": "code",
   "execution_count": 2,
   "id": "271829c2-24d4-44bc-9292-cb156f118b34",
   "metadata": {},
   "outputs": [
    {
     "data": {
      "text/latex": [
       "$\\displaystyle \\left[\\begin{matrix}Q_{11}{\\left(x,y \\right)} & Q_{12}{\\left(x,y \\right)}\\\\Q_{12}{\\left(x,y \\right)} & - Q_{11}{\\left(x,y \\right)}\\end{matrix}\\right]$"
      ],
      "text/plain": [
       "Matrix([\n",
       "[Q_{11}(x, y),  Q_{12}(x, y)],\n",
       "[Q_{12}(x, y), -Q_{11}(x, y)]])"
      ]
     },
     "metadata": {},
     "output_type": "display_data"
    },
    {
     "data": {
      "text/latex": [
       "$\\displaystyle \\left[\\begin{matrix}x\\\\y\\end{matrix}\\right]$"
      ],
      "text/plain": [
       "Matrix([\n",
       "[x],\n",
       "[y]])"
      ]
     },
     "metadata": {},
     "output_type": "display_data"
    }
   ],
   "source": [
    "x, y = symbols('x y', real=True)\n",
    "Q11 = Function('Q_{11}', real=True)(x, y)\n",
    "Q12 = Function('Q_{12}', real=True)(x, y)\n",
    "\n",
    "Qm = Matrix([[Q11, Q12],\n",
    "             [Q12, -Q11]])\n",
    "r = Matrix([x, y])\n",
    "\n",
    "display(Qm)\n",
    "display(r)"
   ]
  },
  {
   "cell_type": "markdown",
   "id": "a15fc396-e8b8-4c8e-b982-8b51ce2a5c04",
   "metadata": {},
   "source": [
    "# $2D$ $Q$-tensor free energy"
   ]
  },
  {
   "cell_type": "markdown",
   "id": "5db427a0-12c8-4e40-82ad-64f14ff4373c",
   "metadata": {},
   "source": [
    "#### $L_1$ term: $\\left( \\partial_k Q_{ij} \\right)^2$"
   ]
  },
  {
   "cell_type": "code",
   "execution_count": 3,
   "id": "d009e41d-11d0-478a-90d8-ed30ef2f200e",
   "metadata": {},
   "outputs": [
    {
     "data": {
      "text/latex": [
       "$\\displaystyle 2 \\left(\\frac{\\partial}{\\partial x} Q_{11}{\\left(x,y \\right)}\\right)^{2} + 2 \\left(\\frac{\\partial}{\\partial y} Q_{11}{\\left(x,y \\right)}\\right)^{2} + 2 \\left(\\frac{\\partial}{\\partial x} Q_{12}{\\left(x,y \\right)}\\right)^{2} + 2 \\left(\\frac{\\partial}{\\partial y} Q_{12}{\\left(x,y \\right)}\\right)^{2}$"
      ],
      "text/plain": [
       "2*Derivative(Q_{11}(x, y), x)**2 + 2*Derivative(Q_{11}(x, y), y)**2 + 2*Derivative(Q_{12}(x, y), x)**2 + 2*Derivative(Q_{12}(x, y), y)**2"
      ]
     },
     "metadata": {},
     "output_type": "display_data"
    }
   ],
   "source": [
    "L1_term = sum(Qm[i, j].diff(r[k]) * Qm[i, j].diff(r[k])\n",
    "              for i in range(2)\n",
    "              for j in range(2)\n",
    "              for k in range(2))\n",
    "\n",
    "L1_term = simplify(L1_term)\n",
    "\n",
    "display(L1_term)"
   ]
  },
  {
   "cell_type": "markdown",
   "id": "eb7e79ce-c3d5-4548-b1e8-251dfcce0b06",
   "metadata": {},
   "source": [
    "#### $L_2$ term: $\\left( \\partial_j Q_{ij} \\right)^2$"
   ]
  },
  {
   "cell_type": "code",
   "execution_count": 4,
   "id": "10278e46-62e1-4fa5-ad73-d4dda565613b",
   "metadata": {},
   "outputs": [
    {
     "data": {
      "text/latex": [
       "$\\displaystyle \\left(\\frac{\\partial}{\\partial x} Q_{11}{\\left(x,y \\right)}\\right)^{2} + 2 \\frac{\\partial}{\\partial x} Q_{11}{\\left(x,y \\right)} \\frac{\\partial}{\\partial y} Q_{12}{\\left(x,y \\right)} + \\left(\\frac{\\partial}{\\partial y} Q_{11}{\\left(x,y \\right)}\\right)^{2} - 2 \\frac{\\partial}{\\partial y} Q_{11}{\\left(x,y \\right)} \\frac{\\partial}{\\partial x} Q_{12}{\\left(x,y \\right)} + \\left(\\frac{\\partial}{\\partial x} Q_{12}{\\left(x,y \\right)}\\right)^{2} + \\left(\\frac{\\partial}{\\partial y} Q_{12}{\\left(x,y \\right)}\\right)^{2}$"
      ],
      "text/plain": [
       "Derivative(Q_{11}(x, y), x)**2 + 2*Derivative(Q_{11}(x, y), x)*Derivative(Q_{12}(x, y), y) + Derivative(Q_{11}(x, y), y)**2 - 2*Derivative(Q_{11}(x, y), y)*Derivative(Q_{12}(x, y), x) + Derivative(Q_{12}(x, y), x)**2 + Derivative(Q_{12}(x, y), y)**2"
      ]
     },
     "metadata": {},
     "output_type": "display_data"
    }
   ],
   "source": [
    "L2_term = sum(Qm[i, j].diff(r[j]) * Qm[i, k].diff(r[k])\n",
    "              for i in range(2)\n",
    "              for j in range(2)\n",
    "              for k in range(2))\n",
    "\n",
    "L2_term = simplify(L2_term)\n",
    "\n",
    "display(L2_term)"
   ]
  },
  {
   "cell_type": "markdown",
   "id": "99dc2c87-d591-42cb-b387-26e336ed9ae8",
   "metadata": {},
   "source": [
    "Compare with Luiza's term"
   ]
  },
  {
   "cell_type": "code",
   "execution_count": 5,
   "id": "78e8828f-269a-4d09-8643-e0feafaa435b",
   "metadata": {},
   "outputs": [
    {
     "data": {
      "text/latex": [
       "$\\displaystyle 0$"
      ],
      "text/plain": [
       "0"
      ]
     },
     "metadata": {},
     "output_type": "display_data"
    }
   ],
   "source": [
    "compact_L2_term = expand( (Q11.diff(x) + Q12.diff(y))**2 + (Q12.diff(x) - Q11.diff(y))**2 )\n",
    "\n",
    "display(L2_term - compact_L2_term)"
   ]
  },
  {
   "cell_type": "markdown",
   "id": "c4cec441-1aa1-424f-adeb-285ee9ce8686",
   "metadata": {},
   "source": [
    "#### $L_3$ term: $Q_{lk} \\left( \\partial_{l} Q_{ij} \\right) \\left( \\partial_k Q_{ij} \\right)$"
   ]
  },
  {
   "cell_type": "code",
   "execution_count": 6,
   "id": "edf7625a-79cb-4899-83e0-d57a7e8c3251",
   "metadata": {},
   "outputs": [
    {
     "data": {
      "text/latex": [
       "$\\displaystyle 2 Q_{11}{\\left(x,y \\right)} \\left(\\frac{\\partial}{\\partial x} Q_{11}{\\left(x,y \\right)}\\right)^{2} - 2 Q_{11}{\\left(x,y \\right)} \\left(\\frac{\\partial}{\\partial y} Q_{11}{\\left(x,y \\right)}\\right)^{2} + 2 Q_{11}{\\left(x,y \\right)} \\left(\\frac{\\partial}{\\partial x} Q_{12}{\\left(x,y \\right)}\\right)^{2} - 2 Q_{11}{\\left(x,y \\right)} \\left(\\frac{\\partial}{\\partial y} Q_{12}{\\left(x,y \\right)}\\right)^{2} + 4 Q_{12}{\\left(x,y \\right)} \\frac{\\partial}{\\partial x} Q_{11}{\\left(x,y \\right)} \\frac{\\partial}{\\partial y} Q_{11}{\\left(x,y \\right)} + 4 Q_{12}{\\left(x,y \\right)} \\frac{\\partial}{\\partial x} Q_{12}{\\left(x,y \\right)} \\frac{\\partial}{\\partial y} Q_{12}{\\left(x,y \\right)}$"
      ],
      "text/plain": [
       "2*Q_{11}(x, y)*Derivative(Q_{11}(x, y), x)**2 - 2*Q_{11}(x, y)*Derivative(Q_{11}(x, y), y)**2 + 2*Q_{11}(x, y)*Derivative(Q_{12}(x, y), x)**2 - 2*Q_{11}(x, y)*Derivative(Q_{12}(x, y), y)**2 + 4*Q_{12}(x, y)*Derivative(Q_{11}(x, y), x)*Derivative(Q_{11}(x, y), y) + 4*Q_{12}(x, y)*Derivative(Q_{12}(x, y), x)*Derivative(Q_{12}(x, y), y)"
      ]
     },
     "metadata": {},
     "output_type": "display_data"
    }
   ],
   "source": [
    "L3_term = sum(Qm[k, l] * Qm[i, j].diff(r[k]) * Qm[i, j].diff(r[l])\n",
    "              for i in range(2)\n",
    "              for j in range(2)\n",
    "              for k in range(2)\n",
    "              for l in range(2))\n",
    "\n",
    "L3_term = simplify(L3_term)\n",
    "\n",
    "display(L3_term)"
   ]
  },
  {
   "cell_type": "markdown",
   "id": "3d33d55c-146a-465f-b1bd-8d433b45da8e",
   "metadata": {},
   "source": [
    "## Complex notation"
   ]
  },
  {
   "cell_type": "code",
   "execution_count": 7,
   "id": "cdf9de86-3ac0-4cd5-8d35-2822deb4cebe",
   "metadata": {},
   "outputs": [
    {
     "data": {
      "text/latex": [
       "$\\displaystyle \\psi{\\left(x,y \\right)}$"
      ],
      "text/plain": [
       "psi(x, y)"
      ]
     },
     "metadata": {},
     "output_type": "display_data"
    },
    {
     "data": {
      "text/latex": [
       "$\\displaystyle \\overline{\\psi}{\\left(x,y \\right)}$"
      ],
      "text/plain": [
       "\\overline{\\psi}(x, y)"
      ]
     },
     "metadata": {},
     "output_type": "display_data"
    }
   ],
   "source": [
    "psi = Function('psi', complex=True)(x, y)\n",
    "psi_c = Function(r'\\overline{\\psi}', complex=True)(x, y)\n",
    "\n",
    "display(psi)\n",
    "display(psi_c)"
   ]
  },
  {
   "cell_type": "code",
   "execution_count": 8,
   "id": "c159b272-b35c-4eb0-b007-e916589ec219",
   "metadata": {},
   "outputs": [],
   "source": [
    "def dz(f):\n",
    "    return Rational(1, 2) * (f.diff(x) - I * f.diff(y))\n",
    "\n",
    "def dz_c(f):\n",
    "    return Rational(1, 2) * (f.diff(x) + I * f.diff(y))"
   ]
  },
  {
   "cell_type": "code",
   "execution_count": 9,
   "id": "cbf6d7da-71dc-4277-87fb-363fe79b277b",
   "metadata": {},
   "outputs": [],
   "source": [
    "complex_subs = {Q11: Rational(1, 2) * (psi + psi_c),\n",
    "                Q12: -Rational(1, 2) * I * (psi - psi_c)}"
   ]
  },
  {
   "cell_type": "code",
   "execution_count": 10,
   "id": "c13245ce-4604-46af-b693-1fd991ec0271",
   "metadata": {},
   "outputs": [
    {
     "data": {
      "text/latex": [
       "$\\displaystyle 2 \\frac{\\partial}{\\partial x} \\overline{\\psi}{\\left(x,y \\right)} \\frac{\\partial}{\\partial x} \\psi{\\left(x,y \\right)} + 2 \\frac{\\partial}{\\partial y} \\overline{\\psi}{\\left(x,y \\right)} \\frac{\\partial}{\\partial y} \\psi{\\left(x,y \\right)}$"
      ],
      "text/plain": [
       "2*Derivative(\\overline{\\psi}(x, y), x)*Derivative(psi(x, y), x) + 2*Derivative(\\overline{\\psi}(x, y), y)*Derivative(psi(x, y), y)"
      ]
     },
     "metadata": {},
     "output_type": "display_data"
    }
   ],
   "source": [
    "complex_L1 = expand( simplify(L1_term.subs(complex_subs)) )\n",
    "display(complex_L1)"
   ]
  },
  {
   "cell_type": "markdown",
   "id": "9a79a27b-a166-453f-afdd-e4191f26d2f4",
   "metadata": {},
   "source": [
    "We'll call $\\left| \\nabla \\psi \\right|^2 = \\partial_x \\psi \\partial_x \\overline{\\psi} + \\partial_y \\psi \\partial_y \\overline{\\psi}$ so that this term gives:\n",
    "\\begin{equation}\n",
    "    2 \\left| \\nabla \\psi \\right|^2\n",
    "\\end{equation}"
   ]
  },
  {
   "cell_type": "code",
   "execution_count": 11,
   "id": "0268e5c3-7567-4237-b7a3-6245cdafc0fa",
   "metadata": {},
   "outputs": [
    {
     "data": {
      "text/latex": [
       "$\\displaystyle \\frac{\\partial}{\\partial x} \\overline{\\psi}{\\left(x,y \\right)} \\frac{\\partial}{\\partial x} \\psi{\\left(x,y \\right)} - i \\frac{\\partial}{\\partial x} \\overline{\\psi}{\\left(x,y \\right)} \\frac{\\partial}{\\partial y} \\psi{\\left(x,y \\right)} + i \\frac{\\partial}{\\partial y} \\overline{\\psi}{\\left(x,y \\right)} \\frac{\\partial}{\\partial x} \\psi{\\left(x,y \\right)} + \\frac{\\partial}{\\partial y} \\overline{\\psi}{\\left(x,y \\right)} \\frac{\\partial}{\\partial y} \\psi{\\left(x,y \\right)}$"
      ],
      "text/plain": [
       "Derivative(\\overline{\\psi}(x, y), x)*Derivative(psi(x, y), x) - I*Derivative(\\overline{\\psi}(x, y), x)*Derivative(psi(x, y), y) + I*Derivative(\\overline{\\psi}(x, y), y)*Derivative(psi(x, y), x) + Derivative(\\overline{\\psi}(x, y), y)*Derivative(psi(x, y), y)"
      ]
     },
     "metadata": {},
     "output_type": "display_data"
    }
   ],
   "source": [
    "complex_L2 = expand( simplify(L2_term.subs(complex_subs)) )\n",
    "display(complex_L2)"
   ]
  },
  {
   "cell_type": "markdown",
   "id": "8011ee91-6370-4948-a883-4d7b4bff6098",
   "metadata": {},
   "source": [
    "Note that this is equivalent to $4 \\left| \\partial_z \\psi \\right|^2$"
   ]
  },
  {
   "cell_type": "code",
   "execution_count": 12,
   "id": "2b915f9e-7ea9-4dd9-a523-a2af5d13f721",
   "metadata": {},
   "outputs": [
    {
     "data": {
      "text/latex": [
       "$\\displaystyle 0$"
      ],
      "text/plain": [
       "0"
      ]
     },
     "execution_count": 12,
     "metadata": {},
     "output_type": "execute_result"
    }
   ],
   "source": [
    "expand(complex_L2 - 4 * dz(psi) * dz_c(psi_c))"
   ]
  },
  {
   "cell_type": "markdown",
   "id": "50b209cb-f959-4c82-9385-274c982010f1",
   "metadata": {},
   "source": [
    "Compare also with Luiza's term"
   ]
  },
  {
   "cell_type": "code",
   "execution_count": 13,
   "id": "716bcb1f-7c33-4a50-9a8b-0634f74e41dc",
   "metadata": {},
   "outputs": [
    {
     "data": {
      "text/latex": [
       "$\\displaystyle 0$"
      ],
      "text/plain": [
       "0"
      ]
     },
     "metadata": {},
     "output_type": "display_data"
    }
   ],
   "source": [
    "compact_L2 = (dz(psi) + dz_c(psi_c))**2 - (dz(psi) - dz_c(psi_c))**2\n",
    "compact_L2 = expand(compact_L2)\n",
    "\n",
    "display(compact_L2 - complex_L2)"
   ]
  },
  {
   "cell_type": "code",
   "execution_count": 14,
   "id": "71d2b2cf-7bc8-48fe-8392-b5d72d48cbf1",
   "metadata": {},
   "outputs": [
    {
     "data": {
      "text/latex": [
       "$\\displaystyle \\overline{\\psi}{\\left(x,y \\right)} \\frac{\\partial}{\\partial x} \\overline{\\psi}{\\left(x,y \\right)} \\frac{\\partial}{\\partial x} \\psi{\\left(x,y \\right)} + i \\overline{\\psi}{\\left(x,y \\right)} \\frac{\\partial}{\\partial x} \\overline{\\psi}{\\left(x,y \\right)} \\frac{\\partial}{\\partial y} \\psi{\\left(x,y \\right)} + i \\overline{\\psi}{\\left(x,y \\right)} \\frac{\\partial}{\\partial y} \\overline{\\psi}{\\left(x,y \\right)} \\frac{\\partial}{\\partial x} \\psi{\\left(x,y \\right)} - \\overline{\\psi}{\\left(x,y \\right)} \\frac{\\partial}{\\partial y} \\overline{\\psi}{\\left(x,y \\right)} \\frac{\\partial}{\\partial y} \\psi{\\left(x,y \\right)} + \\psi{\\left(x,y \\right)} \\frac{\\partial}{\\partial x} \\overline{\\psi}{\\left(x,y \\right)} \\frac{\\partial}{\\partial x} \\psi{\\left(x,y \\right)} - i \\psi{\\left(x,y \\right)} \\frac{\\partial}{\\partial x} \\overline{\\psi}{\\left(x,y \\right)} \\frac{\\partial}{\\partial y} \\psi{\\left(x,y \\right)} - i \\psi{\\left(x,y \\right)} \\frac{\\partial}{\\partial y} \\overline{\\psi}{\\left(x,y \\right)} \\frac{\\partial}{\\partial x} \\psi{\\left(x,y \\right)} - \\psi{\\left(x,y \\right)} \\frac{\\partial}{\\partial y} \\overline{\\psi}{\\left(x,y \\right)} \\frac{\\partial}{\\partial y} \\psi{\\left(x,y \\right)}$"
      ],
      "text/plain": [
       "\\overline{\\psi}(x, y)*Derivative(\\overline{\\psi}(x, y), x)*Derivative(psi(x, y), x) + I*\\overline{\\psi}(x, y)*Derivative(\\overline{\\psi}(x, y), x)*Derivative(psi(x, y), y) + I*\\overline{\\psi}(x, y)*Derivative(\\overline{\\psi}(x, y), y)*Derivative(psi(x, y), x) - \\overline{\\psi}(x, y)*Derivative(\\overline{\\psi}(x, y), y)*Derivative(psi(x, y), y) + psi(x, y)*Derivative(\\overline{\\psi}(x, y), x)*Derivative(psi(x, y), x) - I*psi(x, y)*Derivative(\\overline{\\psi}(x, y), x)*Derivative(psi(x, y), y) - I*psi(x, y)*Derivative(\\overline{\\psi}(x, y), y)*Derivative(psi(x, y), x) - psi(x, y)*Derivative(\\overline{\\psi}(x, y), y)*Derivative(psi(x, y), y)"
      ]
     },
     "metadata": {},
     "output_type": "display_data"
    }
   ],
   "source": [
    "complex_L3 = simplify( expand(L3_term.subs(complex_subs).doit()) )\n",
    "\n",
    "display(complex_L3)"
   ]
  },
  {
   "cell_type": "markdown",
   "id": "5589bd6c-ef85-4844-80b1-1671f9c235c0",
   "metadata": {},
   "source": [
    "*Note*: Below I've just substituted symbols so that it displays better. I have to do the math explicitly below."
   ]
  },
  {
   "cell_type": "code",
   "execution_count": 15,
   "id": "4d74b930-16c4-4906-8afc-987693980c38",
   "metadata": {},
   "outputs": [
    {
     "data": {
      "text/latex": [
       "$\\displaystyle \\overline{\\psi} \\partial_{x} \\overline{\\psi} \\partial_{x} \\psi + i \\overline{\\psi} \\partial_{x} \\overline{\\psi} \\partial_{y} \\psi + i \\overline{\\psi} \\partial_{x} \\psi \\partial_{y} \\overline{\\psi} - \\overline{\\psi} \\partial_{y} \\overline{\\psi} \\partial_{y} \\psi + \\partial_{x} \\overline{\\psi} \\partial_{x} \\psi \\psi - i \\partial_{x} \\overline{\\psi} \\partial_{y} \\psi \\psi - i \\partial_{x} \\psi \\partial_{y} \\overline{\\psi} \\psi - \\partial_{y} \\overline{\\psi} \\partial_{y} \\psi \\psi$"
      ],
      "text/plain": [
       "\\overline{\\psi}*\\partial_{x} \\overline{\\psi}*\\partial_{x} \\psi + I*\\overline{\\psi}*\\partial_{x} \\overline{\\psi}*\\partial_{y} \\psi + I*\\overline{\\psi}*\\partial_{x} \\psi*\\partial_{y} \\overline{\\psi} - \\overline{\\psi}*\\partial_{y} \\overline{\\psi}*\\partial_{y} \\psi + \\partial_{x} \\overline{\\psi}*\\partial_{x} \\psi*psi - I*\\partial_{x} \\overline{\\psi}*\\partial_{y} \\psi*psi - I*\\partial_{x} \\psi*\\partial_{y} \\overline{\\psi}*psi - \\partial_{y} \\overline{\\psi}*\\partial_{y} \\psi*psi"
      ]
     },
     "metadata": {},
     "output_type": "display_data"
    }
   ],
   "source": [
    "display_subs = {psi: symbols('psi'), psi_c: symbols(r'\\overline{\\psi}'),\n",
    "                psi.diff(x): symbols(r'\\partial_{x}\\ \\psi'),\n",
    "                psi.diff(y): symbols(r'\\partial_{y}\\ \\psi'),\n",
    "                psi_c.diff(x): symbols(r'\\partial_{x}\\ \\overline{\\psi}'),\n",
    "                psi_c.diff(y): symbols(r'\\partial_{y}\\ \\overline{\\psi}'),}\n",
    "\n",
    "simple_complex_L3 = complex_L3.subs(display_subs)\n",
    "display(simple_complex_L3)"
   ]
  },
  {
   "cell_type": "markdown",
   "id": "597c9488-465a-435e-870a-5f310b4d8365",
   "metadata": {},
   "source": [
    "This may be rewritten as:\n",
    "\\begin{equation}\n",
    "    \\overline{\\psi} \\left(\n",
    "        \\partial_x \\overline{\\psi} \\partial_x \\psi \n",
    "        + i \\partial_x \\overline{\\psi} \\partial_y \\psi\n",
    "        + i \\partial_x \\psi \\partial_y \\overline{\\psi}\n",
    "        - \\partial_y \\psi \\partial_y \\overline{\\psi}\n",
    "    \\right)\n",
    "    +\n",
    "    \\psi \\left(\n",
    "        \\partial_x \\psi \\partial_x \\overline{\\psi}\n",
    "        - i \\partial_x \\overline{\\psi} \\partial_y \\psi\n",
    "        - i \\partial_x \\psi \\partial_y \\overline{\\psi}\n",
    "        - \\partial_y \\psi \\partial_y \\psi\n",
    "    \\right)\n",
    "\\end{equation}\n",
    "Note that the factors in parentheses are complex conjugates of one another. We may calculate:\n",
    "\\begin{equation}\n",
    "\\begin{split}\n",
    "    (\\partial_z \\psi)(\\partial_z \\overline{\\psi})\n",
    "    &=\n",
    "    \\frac14 (\\partial_x \\psi - i \\partial_y \\psi) (\\partial_x \\overline{\\psi} - i \\partial_y \\overline{\\psi}) \\\\\n",
    "    &=\n",
    "    \\frac14 \\left( \n",
    "        \\partial_x \\psi \\partial_x \\overline{\\psi}\n",
    "        - i \\partial_x \\overline{\\psi} \\partial_y \\psi\n",
    "        - i \\partial_x \\psi \\partial_y \\overline{\\psi}\n",
    "        - \\partial_y \\psi \\partial_y \\psi\n",
    "    \\right)\n",
    "\\end{split}\n",
    "\\end{equation}\n",
    "But this is exactly the second factor in parentheses. Then, the entire term is just given by:\n",
    "\\begin{equation}\n",
    "    Q_{kl} (\\partial_k Q_{ij})(\\partial_l Q_{ij})\n",
    "    =\n",
    "    4 \\left[\n",
    "        \\psi (\\partial_z \\psi) (\\partial_z \\overline{\\psi})\n",
    "        + \\overline{\\psi} (\\partial_{\\overline{z}} \\overline{\\psi}) (\\partial_{\\overline{z}} \\psi)\n",
    "    \\right]\n",
    "    =\n",
    "    8 \\text{Re} \\left( \\psi (\\partial_z \\psi) (\\partial_z \\overline{\\psi}) \\right)\n",
    "\\end{equation}"
   ]
  },
  {
   "cell_type": "markdown",
   "id": "d5d5438f-29ab-4152-a6f0-375e51b98de2",
   "metadata": {},
   "source": [
    "Compare to simplified term calculated above"
   ]
  },
  {
   "cell_type": "code",
   "execution_count": 16,
   "id": "9cd47cf1-82de-4c1c-99dc-175460addd0d",
   "metadata": {},
   "outputs": [
    {
     "data": {
      "text/latex": [
       "$\\displaystyle 0$"
      ],
      "text/plain": [
       "0"
      ]
     },
     "metadata": {},
     "output_type": "display_data"
    }
   ],
   "source": [
    "compact_L3 = expand( 4 * (psi_c * dz_c(psi) * dz_c(psi_c) + psi * dz(psi) * dz(psi_c)) )\n",
    "\n",
    "display(compact_L3 - complex_L3)"
   ]
  },
  {
   "cell_type": "markdown",
   "id": "9bfd2022-0644-48ea-82e7-e1b35082e04f",
   "metadata": {},
   "source": [
    "# $2D$ $Q$-tensor equation of motion"
   ]
  },
  {
   "cell_type": "code",
   "execution_count": 17,
   "id": "4b5fa2f7-b529-4221-89f6-e9a19878fa2c",
   "metadata": {},
   "outputs": [],
   "source": [
    "def dz2(f):\n",
    "    return dz(dz(f))\n",
    "\n",
    "def dz_c2(f):\n",
    "    return dz_c(dz_c(f))"
   ]
  },
  {
   "cell_type": "markdown",
   "id": "37a82fd9-d62f-4d7b-9abd-d15885fdb999",
   "metadata": {},
   "source": [
    "#### $L_1$ term: $\\partial_k^2 Q_{ij}$"
   ]
  },
  {
   "cell_type": "code",
   "execution_count": 18,
   "id": "28c35b8c-dfe9-4926-b738-d920e27b2188",
   "metadata": {},
   "outputs": [
    {
     "data": {
      "text/latex": [
       "$\\displaystyle \\left[\\begin{matrix}\\frac{\\partial^{2}}{\\partial x^{2}} Q_{11}{\\left(x,y \\right)} + \\frac{\\partial^{2}}{\\partial y^{2}} Q_{11}{\\left(x,y \\right)} & \\frac{\\partial^{2}}{\\partial x^{2}} Q_{12}{\\left(x,y \\right)} + \\frac{\\partial^{2}}{\\partial y^{2}} Q_{12}{\\left(x,y \\right)}\\\\\\frac{\\partial^{2}}{\\partial x^{2}} Q_{12}{\\left(x,y \\right)} + \\frac{\\partial^{2}}{\\partial y^{2}} Q_{12}{\\left(x,y \\right)} & - \\frac{\\partial^{2}}{\\partial x^{2}} Q_{11}{\\left(x,y \\right)} - \\frac{\\partial^{2}}{\\partial y^{2}} Q_{11}{\\left(x,y \\right)}\\end{matrix}\\right]$"
      ],
      "text/plain": [
       "Matrix([\n",
       "[Derivative(Q_{11}(x, y), (x, 2)) + Derivative(Q_{11}(x, y), (y, 2)),  Derivative(Q_{12}(x, y), (x, 2)) + Derivative(Q_{12}(x, y), (y, 2))],\n",
       "[Derivative(Q_{12}(x, y), (x, 2)) + Derivative(Q_{12}(x, y), (y, 2)), -Derivative(Q_{11}(x, y), (x, 2)) - Derivative(Q_{11}(x, y), (y, 2))]])"
      ]
     },
     "metadata": {},
     "output_type": "display_data"
    }
   ],
   "source": [
    "L1_eom = zeros(2)\n",
    "\n",
    "for i in range(2):\n",
    "    for j in range(2):\n",
    "        L1_eom[i, j] = sum(Qm[i, j].diff(r[k]).diff(r[k]) for k in range(2))\n",
    "\n",
    "display(L1_eom)"
   ]
  },
  {
   "cell_type": "markdown",
   "id": "d327e334-d45e-4e14-b4ca-e490de3bf366",
   "metadata": {},
   "source": [
    "#### $L_2$ term: $\\frac12 \\left( \\partial_j \\partial_k Q_{ki} + \\partial_i \\partial_k Q_{kj} - \\partial_k \\partial_l Q_{kl} \\delta_{ij} \\right)$"
   ]
  },
  {
   "cell_type": "code",
   "execution_count": 19,
   "id": "a7935e8a-45fa-4ae7-8f78-befb6e89f386",
   "metadata": {},
   "outputs": [
    {
     "data": {
      "text/latex": [
       "$\\displaystyle \\left[\\begin{matrix}\\frac{\\frac{\\partial^{2}}{\\partial x^{2}} Q_{11}{\\left(x,y \\right)}}{2} + \\frac{\\frac{\\partial^{2}}{\\partial y^{2}} Q_{11}{\\left(x,y \\right)}}{2} & \\frac{\\frac{\\partial^{2}}{\\partial x^{2}} Q_{12}{\\left(x,y \\right)}}{2} + \\frac{\\frac{\\partial^{2}}{\\partial y^{2}} Q_{12}{\\left(x,y \\right)}}{2}\\\\\\frac{\\frac{\\partial^{2}}{\\partial x^{2}} Q_{12}{\\left(x,y \\right)}}{2} + \\frac{\\frac{\\partial^{2}}{\\partial y^{2}} Q_{12}{\\left(x,y \\right)}}{2} & - \\frac{\\frac{\\partial^{2}}{\\partial x^{2}} Q_{11}{\\left(x,y \\right)}}{2} - \\frac{\\frac{\\partial^{2}}{\\partial y^{2}} Q_{11}{\\left(x,y \\right)}}{2}\\end{matrix}\\right]$"
      ],
      "text/plain": [
       "Matrix([\n",
       "[Derivative(Q_{11}(x, y), (x, 2))/2 + Derivative(Q_{11}(x, y), (y, 2))/2,  Derivative(Q_{12}(x, y), (x, 2))/2 + Derivative(Q_{12}(x, y), (y, 2))/2],\n",
       "[Derivative(Q_{12}(x, y), (x, 2))/2 + Derivative(Q_{12}(x, y), (y, 2))/2, -Derivative(Q_{11}(x, y), (x, 2))/2 - Derivative(Q_{11}(x, y), (y, 2))/2]])"
      ]
     },
     "metadata": {},
     "output_type": "display_data"
    }
   ],
   "source": [
    "L2_eom = zeros(2)\n",
    "delta = eye(2)\n",
    "\n",
    "for i in range(2):\n",
    "    for j in range(2):\n",
    "        L2_eom[i, j] = (sum(Qm[k, i].diff(r[j]).diff(r[k]) + Qm[k, j].diff(r[i]).diff(r[k])\n",
    "                            for k in range(2))\n",
    "                        - sum(Qm[k, l].diff(r[k]).diff(r[l])\n",
    "                              for k in range(2)\n",
    "                              for l in range(2)) * delta[i, j]) * Rational(1, 2)\n",
    "\n",
    "display(L2_eom)"
   ]
  },
  {
   "cell_type": "markdown",
   "id": "0f7d0f6f-e2d4-4e15-8cd8-55a735bf7283",
   "metadata": {},
   "source": [
    "$$\n",
    "\\frac12 \\left(\n",
    "        2 \\nabla \\cdot \\left( \\mathbf{Q} \\cdot \\nabla \\mathbf{Q} \\right)\n",
    "        - \\left( \\nabla \\mathbf{Q} \\right) : \\left( \\nabla \\mathbf{Q} \\right)^T\n",
    "        + \\tfrac12 \\left| \\nabla \\mathbf{Q} \\right|^2 \\mathbf{I} \\right)\n",
    "$$"
   ]
  },
  {
   "cell_type": "markdown",
   "id": "562facb8-18c1-4198-a005-7ee095b0d37d",
   "metadata": {},
   "source": [
    "#### $L_3$ term: $\\frac12 \\left( 2 \\partial_k \\left(Q_{kl} \\partial_l Q_{ij} \\right) - \\left(\\partial_i Q_{kl} \\right) \\left( \\partial_j Q_{kl} \\right) + \\tfrac12 \\left(\\partial_k Q_{lm} \\right) \\left( \\partial_k Q_{lm} \\right) \\delta_{ij} \\right)$"
   ]
  },
  {
   "cell_type": "code",
   "execution_count": 20,
   "id": "6e625852-ff27-42f6-97cc-e9a13f41fb29",
   "metadata": {},
   "outputs": [
    {
     "data": {
      "text/latex": [
       "$\\displaystyle \\left[\\begin{matrix}Q_{11}{\\left(x,y \\right)} \\frac{\\partial^{2}}{\\partial x^{2}} Q_{11}{\\left(x,y \\right)} - Q_{11}{\\left(x,y \\right)} \\frac{\\partial^{2}}{\\partial y^{2}} Q_{11}{\\left(x,y \\right)} + 2 Q_{12}{\\left(x,y \\right)} \\frac{\\partial^{2}}{\\partial y\\partial x} Q_{11}{\\left(x,y \\right)} + \\frac{\\left(\\frac{\\partial}{\\partial x} Q_{11}{\\left(x,y \\right)}\\right)^{2}}{2} + \\frac{\\partial}{\\partial x} Q_{11}{\\left(x,y \\right)} \\frac{\\partial}{\\partial y} Q_{12}{\\left(x,y \\right)} - \\frac{\\left(\\frac{\\partial}{\\partial y} Q_{11}{\\left(x,y \\right)}\\right)^{2}}{2} + \\frac{\\partial}{\\partial y} Q_{11}{\\left(x,y \\right)} \\frac{\\partial}{\\partial x} Q_{12}{\\left(x,y \\right)} - \\frac{\\left(\\frac{\\partial}{\\partial x} Q_{12}{\\left(x,y \\right)}\\right)^{2}}{2} + \\frac{\\left(\\frac{\\partial}{\\partial y} Q_{12}{\\left(x,y \\right)}\\right)^{2}}{2} & Q_{11}{\\left(x,y \\right)} \\frac{\\partial^{2}}{\\partial x^{2}} Q_{12}{\\left(x,y \\right)} - Q_{11}{\\left(x,y \\right)} \\frac{\\partial^{2}}{\\partial y^{2}} Q_{12}{\\left(x,y \\right)} + 2 Q_{12}{\\left(x,y \\right)} \\frac{\\partial^{2}}{\\partial y\\partial x} Q_{12}{\\left(x,y \\right)} - \\frac{\\partial}{\\partial x} Q_{11}{\\left(x,y \\right)} \\frac{\\partial}{\\partial y} Q_{11}{\\left(x,y \\right)} + \\frac{\\partial}{\\partial x} Q_{11}{\\left(x,y \\right)} \\frac{\\partial}{\\partial x} Q_{12}{\\left(x,y \\right)} - \\frac{\\partial}{\\partial y} Q_{11}{\\left(x,y \\right)} \\frac{\\partial}{\\partial y} Q_{12}{\\left(x,y \\right)} + \\frac{\\partial}{\\partial x} Q_{12}{\\left(x,y \\right)} \\frac{\\partial}{\\partial y} Q_{12}{\\left(x,y \\right)}\\\\Q_{11}{\\left(x,y \\right)} \\frac{\\partial^{2}}{\\partial x^{2}} Q_{12}{\\left(x,y \\right)} - Q_{11}{\\left(x,y \\right)} \\frac{\\partial^{2}}{\\partial y^{2}} Q_{12}{\\left(x,y \\right)} + 2 Q_{12}{\\left(x,y \\right)} \\frac{\\partial^{2}}{\\partial y\\partial x} Q_{12}{\\left(x,y \\right)} - \\frac{\\partial}{\\partial x} Q_{11}{\\left(x,y \\right)} \\frac{\\partial}{\\partial y} Q_{11}{\\left(x,y \\right)} + \\frac{\\partial}{\\partial x} Q_{11}{\\left(x,y \\right)} \\frac{\\partial}{\\partial x} Q_{12}{\\left(x,y \\right)} - \\frac{\\partial}{\\partial y} Q_{11}{\\left(x,y \\right)} \\frac{\\partial}{\\partial y} Q_{12}{\\left(x,y \\right)} + \\frac{\\partial}{\\partial x} Q_{12}{\\left(x,y \\right)} \\frac{\\partial}{\\partial y} Q_{12}{\\left(x,y \\right)} & - Q_{11}{\\left(x,y \\right)} \\frac{\\partial^{2}}{\\partial x^{2}} Q_{11}{\\left(x,y \\right)} + Q_{11}{\\left(x,y \\right)} \\frac{\\partial^{2}}{\\partial y^{2}} Q_{11}{\\left(x,y \\right)} - 2 Q_{12}{\\left(x,y \\right)} \\frac{\\partial^{2}}{\\partial y\\partial x} Q_{11}{\\left(x,y \\right)} - \\frac{\\left(\\frac{\\partial}{\\partial x} Q_{11}{\\left(x,y \\right)}\\right)^{2}}{2} - \\frac{\\partial}{\\partial x} Q_{11}{\\left(x,y \\right)} \\frac{\\partial}{\\partial y} Q_{12}{\\left(x,y \\right)} + \\frac{\\left(\\frac{\\partial}{\\partial y} Q_{11}{\\left(x,y \\right)}\\right)^{2}}{2} - \\frac{\\partial}{\\partial y} Q_{11}{\\left(x,y \\right)} \\frac{\\partial}{\\partial x} Q_{12}{\\left(x,y \\right)} + \\frac{\\left(\\frac{\\partial}{\\partial x} Q_{12}{\\left(x,y \\right)}\\right)^{2}}{2} - \\frac{\\left(\\frac{\\partial}{\\partial y} Q_{12}{\\left(x,y \\right)}\\right)^{2}}{2}\\end{matrix}\\right]$"
      ],
      "text/plain": [
       "Matrix([\n",
       "[Q_{11}(x, y)*Derivative(Q_{11}(x, y), (x, 2)) - Q_{11}(x, y)*Derivative(Q_{11}(x, y), (y, 2)) + 2*Q_{12}(x, y)*Derivative(Q_{11}(x, y), x, y) + Derivative(Q_{11}(x, y), x)**2/2 + Derivative(Q_{11}(x, y), x)*Derivative(Q_{12}(x, y), y) - Derivative(Q_{11}(x, y), y)**2/2 + Derivative(Q_{11}(x, y), y)*Derivative(Q_{12}(x, y), x) - Derivative(Q_{12}(x, y), x)**2/2 + Derivative(Q_{12}(x, y), y)**2/2,                          Q_{11}(x, y)*Derivative(Q_{12}(x, y), (x, 2)) - Q_{11}(x, y)*Derivative(Q_{12}(x, y), (y, 2)) + 2*Q_{12}(x, y)*Derivative(Q_{12}(x, y), x, y) - Derivative(Q_{11}(x, y), x)*Derivative(Q_{11}(x, y), y) + Derivative(Q_{11}(x, y), x)*Derivative(Q_{12}(x, y), x) - Derivative(Q_{11}(x, y), y)*Derivative(Q_{12}(x, y), y) + Derivative(Q_{12}(x, y), x)*Derivative(Q_{12}(x, y), y)],\n",
       "[                        Q_{11}(x, y)*Derivative(Q_{12}(x, y), (x, 2)) - Q_{11}(x, y)*Derivative(Q_{12}(x, y), (y, 2)) + 2*Q_{12}(x, y)*Derivative(Q_{12}(x, y), x, y) - Derivative(Q_{11}(x, y), x)*Derivative(Q_{11}(x, y), y) + Derivative(Q_{11}(x, y), x)*Derivative(Q_{12}(x, y), x) - Derivative(Q_{11}(x, y), y)*Derivative(Q_{12}(x, y), y) + Derivative(Q_{12}(x, y), x)*Derivative(Q_{12}(x, y), y), -Q_{11}(x, y)*Derivative(Q_{11}(x, y), (x, 2)) + Q_{11}(x, y)*Derivative(Q_{11}(x, y), (y, 2)) - 2*Q_{12}(x, y)*Derivative(Q_{11}(x, y), x, y) - Derivative(Q_{11}(x, y), x)**2/2 - Derivative(Q_{11}(x, y), x)*Derivative(Q_{12}(x, y), y) + Derivative(Q_{11}(x, y), y)**2/2 - Derivative(Q_{11}(x, y), y)*Derivative(Q_{12}(x, y), x) + Derivative(Q_{12}(x, y), x)**2/2 - Derivative(Q_{12}(x, y), y)**2/2]])"
      ]
     },
     "metadata": {},
     "output_type": "display_data"
    }
   ],
   "source": [
    "L3_eom = zeros(2)\n",
    "delta = eye(2)\n",
    "\n",
    "for i in range(2):\n",
    "    for j in range(2):\n",
    "        L3_eom[i, j] = (sum(2 * (Qm[k, l] * Qm[i, j].diff(r[l])).diff(r[k])\n",
    "                            - Qm[k, l].diff(r[i]) * Qm[k, l].diff(r[j])\n",
    "                            for k in range(2)\n",
    "                            for l in range(2))\n",
    "                        + Rational(1, 2) * sum(Qm[l, m].diff(r[k]) * Qm[l, m].diff(r[k])\n",
    "                                               for k in range(2)\n",
    "                                               for l in range(2)\n",
    "                                               for m in range(2)) * delta[i, j]) * Rational(1, 2)\n",
    "\n",
    "L3_eom = simplify(L3_eom)\n",
    "display(L3_eom)"
   ]
  },
  {
   "cell_type": "markdown",
   "id": "b70c063d-4567-49bf-a700-e62364726b9d",
   "metadata": {},
   "source": [
    "## Complex phase"
   ]
  },
  {
   "cell_type": "code",
   "execution_count": 21,
   "id": "fecfe0b4-d65c-446f-bfda-85110ed0cc06",
   "metadata": {},
   "outputs": [
    {
     "data": {
      "text/latex": [
       "$\\displaystyle \\frac{\\partial^{2}}{\\partial x^{2}} \\psi{\\left(x,y \\right)} + \\frac{\\partial^{2}}{\\partial y^{2}} \\psi{\\left(x,y \\right)}$"
      ],
      "text/plain": [
       "Derivative(psi(x, y), (x, 2)) + Derivative(psi(x, y), (y, 2))"
      ]
     },
     "metadata": {},
     "output_type": "display_data"
    }
   ],
   "source": [
    "L1_eom_phase = L1_eom.subs(complex_subs).doit()\n",
    "psi_L1_eom = simplify(L1_eom_phase[0, 0] + I * L1_eom_phase[0, 1])\n",
    "\n",
    "display(psi_L1_eom)"
   ]
  },
  {
   "cell_type": "markdown",
   "id": "ccb6d308-e406-46b1-ae98-6becf5132e36",
   "metadata": {},
   "source": [
    "$L_1$ term: $\\nabla^2 \\psi$"
   ]
  },
  {
   "cell_type": "code",
   "execution_count": 22,
   "id": "a0bc935e-694e-41dd-89e0-621737c8072f",
   "metadata": {},
   "outputs": [
    {
     "data": {
      "text/latex": [
       "$\\displaystyle 0$"
      ],
      "text/plain": [
       "0"
      ]
     },
     "metadata": {},
     "output_type": "display_data"
    }
   ],
   "source": [
    "L1_variational = psi.diff(x, 2) + psi.diff(y, 2)\n",
    "\n",
    "display(L1_variational - psi_L1_eom)"
   ]
  },
  {
   "cell_type": "markdown",
   "id": "af0e13db-411e-48cd-93a3-3e6bc0d69578",
   "metadata": {},
   "source": [
    "$L_2$ term: $\\frac12 \\nabla^2 \\psi$"
   ]
  },
  {
   "cell_type": "code",
   "execution_count": 23,
   "id": "449763a7-6774-4998-88a4-eb2ec3501ec4",
   "metadata": {},
   "outputs": [
    {
     "data": {
      "text/latex": [
       "$\\displaystyle \\frac{\\frac{\\partial^{2}}{\\partial x^{2}} \\psi{\\left(x,y \\right)}}{2} + \\frac{\\frac{\\partial^{2}}{\\partial y^{2}} \\psi{\\left(x,y \\right)}}{2}$"
      ],
      "text/plain": [
       "Derivative(psi(x, y), (x, 2))/2 + Derivative(psi(x, y), (y, 2))/2"
      ]
     },
     "metadata": {},
     "output_type": "display_data"
    }
   ],
   "source": [
    "L2_eom_phase = L2_eom.subs(complex_subs).doit()\n",
    "psi_L2_eom = simplify(L2_eom_phase[0, 0] + I * L2_eom_phase[0, 1])\n",
    "\n",
    "display(psi_L2_eom)"
   ]
  },
  {
   "cell_type": "code",
   "execution_count": 24,
   "id": "a533294a-13ab-47b1-add7-68a37e83836e",
   "metadata": {},
   "outputs": [
    {
     "data": {
      "text/latex": [
       "$\\displaystyle 0$"
      ],
      "text/plain": [
       "0"
      ]
     },
     "metadata": {},
     "output_type": "display_data"
    }
   ],
   "source": [
    "L2_variational = Rational(1, 2) * (psi.diff(x, 2) + psi.diff(y, 2))\n",
    "\n",
    "display(L2_variational - psi_L2_eom)"
   ]
  },
  {
   "cell_type": "code",
   "execution_count": 25,
   "id": "88fc56c2-b00e-45b1-a6d2-62e071f1d745",
   "metadata": {},
   "outputs": [
    {
     "data": {
      "text/latex": [
       "$\\displaystyle \\frac{\\overline{\\psi}{\\left(x,y \\right)} \\frac{\\partial^{2}}{\\partial x^{2}} \\psi{\\left(x,y \\right)}}{2} - \\frac{\\overline{\\psi}{\\left(x,y \\right)} \\frac{\\partial^{2}}{\\partial y^{2}} \\psi{\\left(x,y \\right)}}{2} + i \\overline{\\psi}{\\left(x,y \\right)} \\frac{\\partial^{2}}{\\partial y\\partial x} \\psi{\\left(x,y \\right)} + \\frac{\\psi{\\left(x,y \\right)} \\frac{\\partial^{2}}{\\partial x^{2}} \\psi{\\left(x,y \\right)}}{2} - \\frac{\\psi{\\left(x,y \\right)} \\frac{\\partial^{2}}{\\partial y^{2}} \\psi{\\left(x,y \\right)}}{2} - i \\psi{\\left(x,y \\right)} \\frac{\\partial^{2}}{\\partial y\\partial x} \\psi{\\left(x,y \\right)} + \\frac{\\left(\\frac{\\partial}{\\partial x} \\psi{\\left(x,y \\right)}\\right)^{2}}{2} - i \\frac{\\partial}{\\partial x} \\psi{\\left(x,y \\right)} \\frac{\\partial}{\\partial y} \\psi{\\left(x,y \\right)} - \\frac{\\left(\\frac{\\partial}{\\partial y} \\psi{\\left(x,y \\right)}\\right)^{2}}{2}$"
      ],
      "text/plain": [
       "\\overline{\\psi}(x, y)*Derivative(psi(x, y), (x, 2))/2 - \\overline{\\psi}(x, y)*Derivative(psi(x, y), (y, 2))/2 + I*\\overline{\\psi}(x, y)*Derivative(psi(x, y), x, y) + psi(x, y)*Derivative(psi(x, y), (x, 2))/2 - psi(x, y)*Derivative(psi(x, y), (y, 2))/2 - I*psi(x, y)*Derivative(psi(x, y), x, y) + Derivative(psi(x, y), x)**2/2 - I*Derivative(psi(x, y), x)*Derivative(psi(x, y), y) - Derivative(psi(x, y), y)**2/2"
      ]
     },
     "metadata": {},
     "output_type": "display_data"
    }
   ],
   "source": [
    "L3_eom_phase = L3_eom.subs(complex_subs).doit()\n",
    "psi_L3_eom = simplify(L3_eom_phase[0, 0] + I * L3_eom_phase[0, 1])\n",
    "\n",
    "display(psi_L3_eom)"
   ]
  },
  {
   "cell_type": "markdown",
   "id": "98937363-05f5-4378-b7c8-586b5ad83713",
   "metadata": {},
   "source": [
    "$L_3$ term: $2 \\left[ \\overline{\\psi} \\left( \\partial_{\\overline{z}}^2 \\psi \\right) + \\psi \\left( \\partial_z^2 \\psi \\right) + \\left( \\partial_z \\psi \\right)^2 \\right]$"
   ]
  },
  {
   "cell_type": "code",
   "execution_count": 26,
   "id": "246f5f4d-a95f-43a2-af4f-827dbbf4d32b",
   "metadata": {},
   "outputs": [
    {
     "data": {
      "text/latex": [
       "$\\displaystyle 0$"
      ],
      "text/plain": [
       "0"
      ]
     },
     "metadata": {},
     "output_type": "display_data"
    }
   ],
   "source": [
    "psi_variational = 2 * (psi_c * dz_c2(psi)\n",
    "                       + psi * dz2(psi)\n",
    "                       + dz(psi)**2)\n",
    "\n",
    "psi_variational = expand(psi_variational)\n",
    "display(psi_variational - psi_L3_eom)"
   ]
  },
  {
   "cell_type": "markdown",
   "id": "a890e6f4-41d8-40a1-87bf-5db6048d51e3",
   "metadata": {},
   "source": [
    "# Current"
   ]
  },
  {
   "cell_type": "code",
   "execution_count": 27,
   "id": "b1e8f136-8a74-41a1-8359-9ea6bf5874b1",
   "metadata": {},
   "outputs": [],
   "source": [
    "z, zc = symbols(r'z \\overline{z}')\n",
    "psi = Function('psi')(z, zc)\n",
    "psic = Function(r'\\overline{\\psi}')(z, zc)\n",
    "\n",
    "theta = Function('theta')(z, zc)\n",
    "\n",
    "L2, L3 = symbols('L_2 L_3', real=True)"
   ]
  },
  {
   "cell_type": "code",
   "execution_count": 28,
   "id": "339b2796-d042-4510-b8d0-49deb79d1ad8",
   "metadata": {},
   "outputs": [],
   "source": [
    "conjugate_subs = {z: zc, zc: z, psi: psic, psic: psi, I: -I}\n",
    "\n",
    "def c(expr):\n",
    "    return expr.subs(conjugate_subs)"
   ]
  },
  {
   "cell_type": "code",
   "execution_count": 29,
   "id": "f9c35b31-bfdc-4922-bcf4-c7a2b9d24059",
   "metadata": {},
   "outputs": [
    {
     "data": {
      "text/latex": [
       "$\\displaystyle 2 L_{3} \\left(\\overline{\\psi}{\\left(z,\\overline{z} \\right)} \\frac{\\partial^{2}}{\\partial \\overline{z}^{2}} \\psi{\\left(z,\\overline{z} \\right)} + \\psi{\\left(z,\\overline{z} \\right)} \\frac{\\partial^{2}}{\\partial z^{2}} \\psi{\\left(z,\\overline{z} \\right)} + \\left(\\frac{\\partial}{\\partial z} \\psi{\\left(z,\\overline{z} \\right)}\\right)^{2}\\right) + \\left(2 L_{2} + 4\\right) \\frac{\\partial^{2}}{\\partial z\\partial \\overline{z}} \\psi{\\left(z,\\overline{z} \\right)}$"
      ],
      "text/plain": [
       "2*L_3*(\\overline{\\psi}(z, \\overline{z})*Derivative(psi(z, \\overline{z}), (\\overline{z}, 2)) + psi(z, \\overline{z})*Derivative(psi(z, \\overline{z}), (z, 2)) + Derivative(psi(z, \\overline{z}), z)**2) + (2*L_2 + 4)*Derivative(psi(z, \\overline{z}), \\overline{z}, z)"
      ]
     },
     "metadata": {},
     "output_type": "display_data"
    },
    {
     "data": {
      "text/latex": [
       "$\\displaystyle 2 L_{3} \\left(\\overline{\\psi}{\\left(z,\\overline{z} \\right)} \\frac{\\partial^{2}}{\\partial \\overline{z}^{2}} \\overline{\\psi}{\\left(z,\\overline{z} \\right)} + \\psi{\\left(z,\\overline{z} \\right)} \\frac{\\partial^{2}}{\\partial z^{2}} \\overline{\\psi}{\\left(z,\\overline{z} \\right)} + \\left(\\frac{\\partial}{\\partial \\overline{z}} \\overline{\\psi}{\\left(z,\\overline{z} \\right)}\\right)^{2}\\right) + \\left(2 L_{2} + 4\\right) \\frac{\\partial^{2}}{\\partial z\\partial \\overline{z}} \\overline{\\psi}{\\left(z,\\overline{z} \\right)}$"
      ],
      "text/plain": [
       "2*L_3*(\\overline{\\psi}(z, \\overline{z})*Derivative(\\overline{\\psi}(z, \\overline{z}), (\\overline{z}, 2)) + psi(z, \\overline{z})*Derivative(\\overline{\\psi}(z, \\overline{z}), (z, 2)) + Derivative(\\overline{\\psi}(z, \\overline{z}), \\overline{z})**2) + (2*L_2 + 4)*Derivative(\\overline{\\psi}(z, \\overline{z}), \\overline{z}, z)"
      ]
     },
     "metadata": {},
     "output_type": "display_data"
    }
   ],
   "source": [
    "dt_psi = ( (4 + 2 * L2) * psi.diff(z).diff(zc)\n",
    "           + 2 * L3 * (psic * psi.diff(zc, 2) + psi * psi.diff(z, 2) + (psi.diff(z))**2) )\n",
    "\n",
    "dt_psic = ( (4 + 2 * L2) * psic.diff(z).diff(zc)\n",
    "            + 2 * L3 * (psi * psic.diff(z, 2) + psic * psic.diff(zc, 2) + (psic.diff(zc))**2) )\n",
    "\n",
    "display(dt_psi)\n",
    "display(dt_psic)"
   ]
  },
  {
   "cell_type": "code",
   "execution_count": 30,
   "id": "a3a333e7-fc0f-4d83-8591-8a0f6c1881e2",
   "metadata": {},
   "outputs": [
    {
     "data": {
      "text/latex": [
       "$\\displaystyle 2 \\left(L_{3} \\left(\\overline{\\psi}{\\left(z,\\overline{z} \\right)} \\frac{\\partial^{2}}{\\partial \\overline{z}^{2}} \\overline{\\psi}{\\left(z,\\overline{z} \\right)} + \\psi{\\left(z,\\overline{z} \\right)} \\frac{\\partial^{2}}{\\partial z^{2}} \\overline{\\psi}{\\left(z,\\overline{z} \\right)} + \\left(\\frac{\\partial}{\\partial \\overline{z}} \\overline{\\psi}{\\left(z,\\overline{z} \\right)}\\right)^{2}\\right) + \\left(L_{2} + 2\\right) \\frac{\\partial^{2}}{\\partial z\\partial \\overline{z}} \\overline{\\psi}{\\left(z,\\overline{z} \\right)}\\right) \\frac{\\partial}{\\partial \\overline{z}} \\psi{\\left(z,\\overline{z} \\right)} - 2 \\left(L_{3} \\left(\\overline{\\psi}{\\left(z,\\overline{z} \\right)} \\frac{\\partial^{2}}{\\partial \\overline{z}^{2}} \\psi{\\left(z,\\overline{z} \\right)} + \\psi{\\left(z,\\overline{z} \\right)} \\frac{\\partial^{2}}{\\partial z^{2}} \\psi{\\left(z,\\overline{z} \\right)} + \\left(\\frac{\\partial}{\\partial z} \\psi{\\left(z,\\overline{z} \\right)}\\right)^{2}\\right) + \\left(L_{2} + 2\\right) \\frac{\\partial^{2}}{\\partial z\\partial \\overline{z}} \\psi{\\left(z,\\overline{z} \\right)}\\right) \\frac{\\partial}{\\partial \\overline{z}} \\overline{\\psi}{\\left(z,\\overline{z} \\right)}$"
      ],
      "text/plain": [
       "2*(L_3*(\\overline{\\psi}(z, \\overline{z})*Derivative(\\overline{\\psi}(z, \\overline{z}), (\\overline{z}, 2)) + psi(z, \\overline{z})*Derivative(\\overline{\\psi}(z, \\overline{z}), (z, 2)) + Derivative(\\overline{\\psi}(z, \\overline{z}), \\overline{z})**2) + (L_2 + 2)*Derivative(\\overline{\\psi}(z, \\overline{z}), \\overline{z}, z))*Derivative(psi(z, \\overline{z}), \\overline{z}) - 2*(L_3*(\\overline{\\psi}(z, \\overline{z})*Derivative(psi(z, \\overline{z}), (\\overline{z}, 2)) + psi(z, \\overline{z})*Derivative(psi(z, \\overline{z}), (z, 2)) + Derivative(psi(z, \\overline{z}), z)**2) + (L_2 + 2)*Derivative(psi(z, \\overline{z}), \\overline{z}, z))*Derivative(\\overline{\\psi}(z, \\overline{z}), \\overline{z})"
      ]
     },
     "metadata": {},
     "output_type": "display_data"
    }
   ],
   "source": [
    "J = simplify( dt_psic * psi.diff(zc) - dt_psi * psic.diff(zc) )\n",
    "\n",
    "display(J)"
   ]
  },
  {
   "cell_type": "markdown",
   "id": "94dd1e83-3f35-4dce-911e-f80719a844e5",
   "metadata": {},
   "source": [
    "## $q = +1/2$"
   ]
  },
  {
   "cell_type": "code",
   "execution_count": 31,
   "id": "d6a53813-dca4-4cd2-a0a4-b44579f969e1",
   "metadata": {},
   "outputs": [],
   "source": [
    "plus_half_subs = {psi: z * exp(2 * I * theta), psic: zc * exp(-2 * I * theta)}"
   ]
  },
  {
   "cell_type": "code",
   "execution_count": 32,
   "id": "0ce20d23-23c7-4344-92b0-8e50aed6aacb",
   "metadata": {},
   "outputs": [
    {
     "data": {
      "text/latex": [
       "$\\displaystyle - 2 L_{3} e^{2 i \\theta{\\left(0,0 \\right)}} - 4 i \\left(L_{2} + 2\\right) \\left. \\frac{d}{d \\overline{z}} \\theta{\\left(0,\\overline{z} \\right)} \\right|_{\\substack{ \\overline{z}=0 }}$"
      ],
      "text/plain": [
       "-2*L_3*exp(2*I*theta(0, 0)) - 4*I*(L_2 + 2)*Subs(Derivative(theta(0, \\overline{z}), \\overline{z}), \\overline{z}, 0)"
      ]
     },
     "metadata": {},
     "output_type": "display_data"
    }
   ],
   "source": [
    "plus_half_J = simplify( J.subs(plus_half_subs).doit().subs({z: 0, zc: 0}) )\n",
    "\n",
    "display(plus_half_J)"
   ]
  },
  {
   "cell_type": "markdown",
   "id": "ad29bb2a-6256-487f-bb7f-5bd06914b5f2",
   "metadata": {},
   "source": [
    "## $q = -1/2$"
   ]
  },
  {
   "cell_type": "code",
   "execution_count": 33,
   "id": "e57fcef2-ec2e-41c2-958a-2fe08ffad01b",
   "metadata": {},
   "outputs": [],
   "source": [
    "minus_half_subs = {psi: zc * exp(2 * I * theta), psic: z * exp(-2 * I * theta)}"
   ]
  },
  {
   "cell_type": "code",
   "execution_count": 34,
   "id": "d1960518-c5aa-48ab-8722-0398cfda4359",
   "metadata": {},
   "outputs": [
    {
     "data": {
      "text/latex": [
       "$\\displaystyle - 4 i \\left(L_{2} + 2\\right) \\left. \\frac{d}{d \\overline{z}} \\theta{\\left(0,\\overline{z} \\right)} \\right|_{\\substack{ \\overline{z}=0 }}$"
      ],
      "text/plain": [
       "-4*I*(L_2 + 2)*Subs(Derivative(theta(0, \\overline{z}), \\overline{z}), \\overline{z}, 0)"
      ]
     },
     "metadata": {},
     "output_type": "display_data"
    }
   ],
   "source": [
    "minus_half_J = simplify( J.subs(minus_half_subs).doit().subs({z: 0, zc: 0}) )\n",
    "\n",
    "display(minus_half_J)"
   ]
  },
  {
   "cell_type": "markdown",
   "id": "50e91723-21be-4054-9735-463913204ee4",
   "metadata": {},
   "source": [
    "## Charge density"
   ]
  },
  {
   "cell_type": "markdown",
   "id": "7cf3cc32-f5b9-421a-82b0-5c0f898941ff",
   "metadata": {},
   "source": [
    "### $q = +1/2$"
   ]
  },
  {
   "cell_type": "code",
   "execution_count": 42,
   "id": "055c3d01-074a-4025-bb64-d9ebc21756b8",
   "metadata": {},
   "outputs": [
    {
     "data": {
      "text/latex": [
       "$\\displaystyle \\frac{\\partial}{\\partial \\overline{z}} \\overline{\\psi}{\\left(z,\\overline{z} \\right)} \\frac{\\partial}{\\partial z} \\psi{\\left(z,\\overline{z} \\right)} - \\frac{\\partial}{\\partial z} \\overline{\\psi}{\\left(z,\\overline{z} \\right)} \\frac{\\partial}{\\partial \\overline{z}} \\psi{\\left(z,\\overline{z} \\right)}$"
      ],
      "text/plain": [
       "Derivative(\\overline{\\psi}(z, \\overline{z}), \\overline{z})*Derivative(psi(z, \\overline{z}), z) - Derivative(\\overline{\\psi}(z, \\overline{z}), z)*Derivative(psi(z, \\overline{z}), \\overline{z})"
      ]
     },
     "metadata": {},
     "output_type": "display_data"
    }
   ],
   "source": [
    "D = psi.diff(z) * psic.diff(zc) - psic.diff(z) * psi.diff(zc)\n",
    "display(D)"
   ]
  },
  {
   "cell_type": "code",
   "execution_count": 49,
   "id": "52aa6b10-098b-437a-b10e-da7c4143e134",
   "metadata": {},
   "outputs": [
    {
     "data": {
      "text/latex": [
       "$\\displaystyle 1$"
      ],
      "text/plain": [
       "1"
      ]
     },
     "metadata": {},
     "output_type": "display_data"
    }
   ],
   "source": [
    "D_plus_half = expand( D.subs(plus_half_subs).doit() )\n",
    "display(D_plus_half.subs({z: 0, zc: 0}))"
   ]
  },
  {
   "cell_type": "markdown",
   "id": "d670562f-8be0-46f6-89fb-e667a8e856bd",
   "metadata": {},
   "source": [
    "### $q = -1/2$"
   ]
  },
  {
   "cell_type": "code",
   "execution_count": 50,
   "id": "b6dd52b4-b4c6-486f-a1e9-03220702e933",
   "metadata": {},
   "outputs": [
    {
     "data": {
      "text/latex": [
       "$\\displaystyle -1$"
      ],
      "text/plain": [
       "-1"
      ]
     },
     "metadata": {},
     "output_type": "display_data"
    }
   ],
   "source": [
    "D_minus_half = expand( D.subs(minus_half_subs).doit() )\n",
    "display(D_minus_half.subs({z: 0, zc: 0}))"
   ]
  },
  {
   "cell_type": "markdown",
   "id": "86e8ba49-7b3b-4536-b51f-17100d66b446",
   "metadata": {},
   "source": [
    "# Calculating perpendicular gradient"
   ]
  },
  {
   "cell_type": "code",
   "execution_count": 35,
   "id": "f30fe31a-504b-4bd0-8d3f-345914f61807",
   "metadata": {},
   "outputs": [],
   "source": [
    "r, phi, x, y = symbols('r varphi x y', real=True)"
   ]
  },
  {
   "cell_type": "code",
   "execution_count": 36,
   "id": "f9f2cbfd-34eb-42e5-baa4-8525c67557a3",
   "metadata": {},
   "outputs": [
    {
     "data": {
      "text/latex": [
       "$\\displaystyle \\frac{\\frac{\\partial}{\\partial \\varphi} \\hat{e}_r}{r} - \\frac{\\partial}{\\partial r} \\hat{e}_\\varphi$"
      ],
      "text/plain": [
       "\\frac{\\partial}{\\partial \\varphi}*\\hat{e}_r/r - \\frac{\\partial}{\\partial r}*\\hat{e}_\\varphi"
      ]
     },
     "metadata": {},
     "output_type": "display_data"
    }
   ],
   "source": [
    "er, ephi = symbols(r'\\hat{e}_r \\hat{e}_\\varphi')\n",
    "d_dr, d_dphi = symbols(r'\\frac{\\partial}{\\partial\\ r} \\frac{\\partial}{\\partial\\ \\varphi}')\n",
    "\n",
    "ex = cos(phi) * er - sin(phi) * ephi\n",
    "ey = sin(phi) * er + cos(phi) * ephi\n",
    "d_dx = cos(phi) * d_dr - (1/r) * sin(phi) * d_dphi\n",
    "d_dy = sin(phi) * d_dr + (1/r) * cos(phi) * d_dphi\n",
    "\n",
    "perp_grad = simplify( ex * d_dy - ey * d_dx )\n",
    "\n",
    "display(perp_grad)"
   ]
  },
  {
   "cell_type": "markdown",
   "id": "cc40146c-b8af-4068-87e9-443f64a5bb1a",
   "metadata": {},
   "source": [
    "# Evaluating for dipole"
   ]
  },
  {
   "cell_type": "code",
   "execution_count": 37,
   "id": "805e63cd-d82c-4b3c-a583-ce68ffb00d3c",
   "metadata": {},
   "outputs": [
    {
     "ename": "NameError",
     "evalue": "name 'n' is not defined",
     "output_type": "error",
     "traceback": [
      "\u001b[0;31m---------------------------------------------------------------------------\u001b[0m",
      "\u001b[0;31mNameError\u001b[0m                                 Traceback (most recent call last)",
      "Cell \u001b[0;32mIn[37], line 1\u001b[0m\n\u001b[0;32m----> 1\u001b[0m f \u001b[38;5;241m=\u001b[39m (\u001b[38;5;241m1\u001b[39m \u001b[38;5;241m/\u001b[39m r) \u001b[38;5;241m*\u001b[39m sin(\u001b[43mn\u001b[49m\u001b[38;5;241m*\u001b[39mphi)\n",
      "\u001b[0;31mNameError\u001b[0m: name 'n' is not defined"
     ]
    }
   ],
   "source": [
    "f = (1 / r) * sin(n*phi)"
   ]
  },
  {
   "cell_type": "code",
   "execution_count": null,
   "id": "918930dd-14e3-40a3-a6c1-d76adf14e427",
   "metadata": {},
   "outputs": [],
   "source": [
    "display( (1/r) * f.diff(phi) * er - f.diff(r) * ephi )"
   ]
  },
  {
   "cell_type": "code",
   "execution_count": null,
   "id": "b5f92d6a-a294-4859-a72b-7d66ebcbdbd9",
   "metadata": {},
   "outputs": [],
   "source": []
  }
 ],
 "metadata": {
  "kernelspec": {
   "display_name": "Python 3 (ipykernel)",
   "language": "python",
   "name": "python3"
  },
  "language_info": {
   "codemirror_mode": {
    "name": "ipython",
    "version": 3
   },
   "file_extension": ".py",
   "mimetype": "text/x-python",
   "name": "python",
   "nbconvert_exporter": "python",
   "pygments_lexer": "ipython3",
   "version": "3.9.18"
  }
 },
 "nbformat": 4,
 "nbformat_minor": 5
}
