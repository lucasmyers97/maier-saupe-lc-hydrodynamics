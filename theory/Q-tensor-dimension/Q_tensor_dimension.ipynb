{
 "cells": [
  {
   "cell_type": "code",
   "execution_count": 1,
   "id": "f52fd397-8a6f-4b5f-b28d-1b25f9f5a143",
   "metadata": {},
   "outputs": [],
   "source": [
    "from sympy import *"
   ]
  },
  {
   "cell_type": "code",
   "execution_count": 2,
   "id": "eb265914-0350-4ff8-9934-9c3c7749c28f",
   "metadata": {},
   "outputs": [],
   "source": [
    "x, y, z = symbols('x y z', real=True)\n",
    "xi = Matrix([x, y, z])"
   ]
  },
  {
   "cell_type": "code",
   "execution_count": 4,
   "id": "c78d6b0d-9296-429d-9d6a-233e73ee2eb9",
   "metadata": {},
   "outputs": [
    {
     "data": {
      "text/latex": [
       "$\\displaystyle \\left[\\begin{matrix}Q_{0}{\\left(x,y \\right)}\\\\Q_{1}{\\left(x,y \\right)}\\\\Q_{2}{\\left(x,y \\right)}\\\\Q_{3}{\\left(x,y \\right)}\\\\Q_{4}{\\left(x,y \\right)}\\end{matrix}\\right]$"
      ],
      "text/plain": [
       "Matrix([\n",
       "[Q_0(x, y)],\n",
       "[Q_1(x, y)],\n",
       "[Q_2(x, y)],\n",
       "[Q_3(x, y)],\n",
       "[Q_4(x, y)]])"
      ]
     },
     "execution_count": 4,
     "metadata": {},
     "output_type": "execute_result"
    }
   ],
   "source": [
    "Q_vec = Matrix([Function('Q_{}'.format(i), real=True)(x, y) for i in range(5)])\n",
    "Q_vec"
   ]
  },
  {
   "cell_type": "code",
   "execution_count": 5,
   "id": "2a8e5458-f241-4487-a0e4-6857dc5e5d18",
   "metadata": {},
   "outputs": [
    {
     "data": {
      "text/latex": [
       "$\\displaystyle \\left[\\begin{matrix}Q_{0}{\\left(x,y \\right)} & Q_{1}{\\left(x,y \\right)} & 0\\\\Q_{1}{\\left(x,y \\right)} & Q_{3}{\\left(x,y \\right)} & 0\\\\0 & 0 & - Q_{0}{\\left(x,y \\right)} - Q_{1}{\\left(x,y \\right)}\\end{matrix}\\right]$"
      ],
      "text/plain": [
       "Matrix([\n",
       "[Q_0(x, y), Q_1(x, y),                      0],\n",
       "[Q_1(x, y), Q_3(x, y),                      0],\n",
       "[        0,         0, -Q_0(x, y) - Q_1(x, y)]])"
      ]
     },
     "execution_count": 5,
     "metadata": {},
     "output_type": "execute_result"
    }
   ],
   "source": [
    "Q_mat = Matrix([[Q_vec[0], Q_vec[1], 0],\n",
    "                [Q_vec[1], Q_vec[3], 0],\n",
    "                [0, 0, -(Q_vec[0] + Q_vec[1])]])\n",
    "Q_mat"
   ]
  },
  {
   "cell_type": "code",
   "execution_count": 6,
   "id": "099ea1a9-ba3a-4b51-b9ee-a9b9f29946d2",
   "metadata": {},
   "outputs": [],
   "source": [
    "I = eye(3)"
   ]
  },
  {
   "cell_type": "code",
   "execution_count": 20,
   "id": "7711e621-e4ae-402a-8f3f-83d927edf4fa",
   "metadata": {},
   "outputs": [],
   "source": [
    "L3_term = zeros(3)\n",
    "\n",
    "for i in range(3):\n",
    "    for j in range(3):\n",
    "        L3_term[i, j] = (\n",
    "                         2 * sum((Q_mat[i, j].diff(xi[n]) * Q_mat[k, n]).diff(xi[k]) for k in range(3) for n in range(3))\n",
    "                         - sum(Q_mat[n, m].diff(xi[i]) * Q_mat[n, m].diff(xi[j]) for n in range(3) for m in range(3))\n",
    "                         + Rational(1, 3) * sum(Q_mat[n, m].diff(xi[k]) * Q_mat[n, m].diff(xi[k]) for n in range(3) for m in range(3) for k in range(3)) * I[i, j]\n",
    "        )"
   ]
  },
  {
   "cell_type": "code",
   "execution_count": 21,
   "id": "5a7caa90-714e-4201-b35d-fd12888d9f29",
   "metadata": {},
   "outputs": [
    {
     "data": {
      "text/latex": [
       "$\\displaystyle \\left[\\begin{matrix}- \\frac{2 \\left(- \\frac{\\partial}{\\partial x} Q_{0}{\\left(x,y \\right)} - \\frac{\\partial}{\\partial x} Q_{1}{\\left(x,y \\right)}\\right)^{2}}{3} + \\frac{\\left(- \\frac{\\partial}{\\partial y} Q_{0}{\\left(x,y \\right)} - \\frac{\\partial}{\\partial y} Q_{1}{\\left(x,y \\right)}\\right)^{2}}{3} + 2 Q_{0}{\\left(x,y \\right)} \\frac{\\partial^{2}}{\\partial x^{2}} Q_{0}{\\left(x,y \\right)} + 4 Q_{1}{\\left(x,y \\right)} \\frac{\\partial^{2}}{\\partial y\\partial x} Q_{0}{\\left(x,y \\right)} + 2 Q_{3}{\\left(x,y \\right)} \\frac{\\partial^{2}}{\\partial y^{2}} Q_{0}{\\left(x,y \\right)} + \\frac{4 \\left(\\frac{\\partial}{\\partial x} Q_{0}{\\left(x,y \\right)}\\right)^{2}}{3} + 2 \\frac{\\partial}{\\partial x} Q_{0}{\\left(x,y \\right)} \\frac{\\partial}{\\partial y} Q_{1}{\\left(x,y \\right)} + \\frac{\\left(\\frac{\\partial}{\\partial y} Q_{0}{\\left(x,y \\right)}\\right)^{2}}{3} + 2 \\frac{\\partial}{\\partial y} Q_{0}{\\left(x,y \\right)} \\frac{\\partial}{\\partial x} Q_{1}{\\left(x,y \\right)} + 2 \\frac{\\partial}{\\partial y} Q_{0}{\\left(x,y \\right)} \\frac{\\partial}{\\partial y} Q_{3}{\\left(x,y \\right)} - \\frac{4 \\left(\\frac{\\partial}{\\partial x} Q_{1}{\\left(x,y \\right)}\\right)^{2}}{3} + \\frac{2 \\left(\\frac{\\partial}{\\partial y} Q_{1}{\\left(x,y \\right)}\\right)^{2}}{3} - \\frac{2 \\left(\\frac{\\partial}{\\partial x} Q_{3}{\\left(x,y \\right)}\\right)^{2}}{3} + \\frac{\\left(\\frac{\\partial}{\\partial y} Q_{3}{\\left(x,y \\right)}\\right)^{2}}{3} & - \\left(- \\frac{\\partial}{\\partial x} Q_{0}{\\left(x,y \\right)} - \\frac{\\partial}{\\partial x} Q_{1}{\\left(x,y \\right)}\\right) \\left(- \\frac{\\partial}{\\partial y} Q_{0}{\\left(x,y \\right)} - \\frac{\\partial}{\\partial y} Q_{1}{\\left(x,y \\right)}\\right) + 2 Q_{0}{\\left(x,y \\right)} \\frac{\\partial^{2}}{\\partial x^{2}} Q_{1}{\\left(x,y \\right)} + 4 Q_{1}{\\left(x,y \\right)} \\frac{\\partial^{2}}{\\partial y\\partial x} Q_{1}{\\left(x,y \\right)} + 2 Q_{3}{\\left(x,y \\right)} \\frac{\\partial^{2}}{\\partial y^{2}} Q_{1}{\\left(x,y \\right)} - \\frac{\\partial}{\\partial x} Q_{0}{\\left(x,y \\right)} \\frac{\\partial}{\\partial y} Q_{0}{\\left(x,y \\right)} + 2 \\frac{\\partial}{\\partial x} Q_{0}{\\left(x,y \\right)} \\frac{\\partial}{\\partial x} Q_{1}{\\left(x,y \\right)} + 2 \\frac{\\partial}{\\partial x} Q_{1}{\\left(x,y \\right)} \\frac{\\partial}{\\partial y} Q_{1}{\\left(x,y \\right)} + 2 \\frac{\\partial}{\\partial y} Q_{1}{\\left(x,y \\right)} \\frac{\\partial}{\\partial y} Q_{3}{\\left(x,y \\right)} - \\frac{\\partial}{\\partial x} Q_{3}{\\left(x,y \\right)} \\frac{\\partial}{\\partial y} Q_{3}{\\left(x,y \\right)} & 0\\\\- \\left(- \\frac{\\partial}{\\partial x} Q_{0}{\\left(x,y \\right)} - \\frac{\\partial}{\\partial x} Q_{1}{\\left(x,y \\right)}\\right) \\left(- \\frac{\\partial}{\\partial y} Q_{0}{\\left(x,y \\right)} - \\frac{\\partial}{\\partial y} Q_{1}{\\left(x,y \\right)}\\right) + 2 Q_{0}{\\left(x,y \\right)} \\frac{\\partial^{2}}{\\partial x^{2}} Q_{1}{\\left(x,y \\right)} + 4 Q_{1}{\\left(x,y \\right)} \\frac{\\partial^{2}}{\\partial y\\partial x} Q_{1}{\\left(x,y \\right)} + 2 Q_{3}{\\left(x,y \\right)} \\frac{\\partial^{2}}{\\partial y^{2}} Q_{1}{\\left(x,y \\right)} - \\frac{\\partial}{\\partial x} Q_{0}{\\left(x,y \\right)} \\frac{\\partial}{\\partial y} Q_{0}{\\left(x,y \\right)} + 2 \\frac{\\partial}{\\partial x} Q_{0}{\\left(x,y \\right)} \\frac{\\partial}{\\partial x} Q_{1}{\\left(x,y \\right)} + 2 \\frac{\\partial}{\\partial x} Q_{1}{\\left(x,y \\right)} \\frac{\\partial}{\\partial y} Q_{1}{\\left(x,y \\right)} + 2 \\frac{\\partial}{\\partial y} Q_{1}{\\left(x,y \\right)} \\frac{\\partial}{\\partial y} Q_{3}{\\left(x,y \\right)} - \\frac{\\partial}{\\partial x} Q_{3}{\\left(x,y \\right)} \\frac{\\partial}{\\partial y} Q_{3}{\\left(x,y \\right)} & \\frac{\\left(- \\frac{\\partial}{\\partial x} Q_{0}{\\left(x,y \\right)} - \\frac{\\partial}{\\partial x} Q_{1}{\\left(x,y \\right)}\\right)^{2}}{3} - \\frac{2 \\left(- \\frac{\\partial}{\\partial y} Q_{0}{\\left(x,y \\right)} - \\frac{\\partial}{\\partial y} Q_{1}{\\left(x,y \\right)}\\right)^{2}}{3} + 2 Q_{0}{\\left(x,y \\right)} \\frac{\\partial^{2}}{\\partial x^{2}} Q_{3}{\\left(x,y \\right)} + 4 Q_{1}{\\left(x,y \\right)} \\frac{\\partial^{2}}{\\partial y\\partial x} Q_{3}{\\left(x,y \\right)} + 2 Q_{3}{\\left(x,y \\right)} \\frac{\\partial^{2}}{\\partial y^{2}} Q_{3}{\\left(x,y \\right)} + \\frac{\\left(\\frac{\\partial}{\\partial x} Q_{0}{\\left(x,y \\right)}\\right)^{2}}{3} + 2 \\frac{\\partial}{\\partial x} Q_{0}{\\left(x,y \\right)} \\frac{\\partial}{\\partial x} Q_{3}{\\left(x,y \\right)} - \\frac{2 \\left(\\frac{\\partial}{\\partial y} Q_{0}{\\left(x,y \\right)}\\right)^{2}}{3} + \\frac{2 \\left(\\frac{\\partial}{\\partial x} Q_{1}{\\left(x,y \\right)}\\right)^{2}}{3} + 2 \\frac{\\partial}{\\partial x} Q_{1}{\\left(x,y \\right)} \\frac{\\partial}{\\partial y} Q_{3}{\\left(x,y \\right)} - \\frac{4 \\left(\\frac{\\partial}{\\partial y} Q_{1}{\\left(x,y \\right)}\\right)^{2}}{3} + 2 \\frac{\\partial}{\\partial y} Q_{1}{\\left(x,y \\right)} \\frac{\\partial}{\\partial x} Q_{3}{\\left(x,y \\right)} + \\frac{\\left(\\frac{\\partial}{\\partial x} Q_{3}{\\left(x,y \\right)}\\right)^{2}}{3} + \\frac{4 \\left(\\frac{\\partial}{\\partial y} Q_{3}{\\left(x,y \\right)}\\right)^{2}}{3} & 0\\\\0 & 0 & \\frac{\\left(- \\frac{\\partial}{\\partial x} Q_{0}{\\left(x,y \\right)} - \\frac{\\partial}{\\partial x} Q_{1}{\\left(x,y \\right)}\\right)^{2}}{3} + 2 \\left(- \\frac{\\partial}{\\partial x} Q_{0}{\\left(x,y \\right)} - \\frac{\\partial}{\\partial x} Q_{1}{\\left(x,y \\right)}\\right) \\frac{\\partial}{\\partial x} Q_{0}{\\left(x,y \\right)} + 2 \\left(- \\frac{\\partial}{\\partial x} Q_{0}{\\left(x,y \\right)} - \\frac{\\partial}{\\partial x} Q_{1}{\\left(x,y \\right)}\\right) \\frac{\\partial}{\\partial y} Q_{1}{\\left(x,y \\right)} + 2 \\left(- \\frac{\\partial^{2}}{\\partial x^{2}} Q_{0}{\\left(x,y \\right)} - \\frac{\\partial^{2}}{\\partial x^{2}} Q_{1}{\\left(x,y \\right)}\\right) Q_{0}{\\left(x,y \\right)} + \\frac{\\left(- \\frac{\\partial}{\\partial y} Q_{0}{\\left(x,y \\right)} - \\frac{\\partial}{\\partial y} Q_{1}{\\left(x,y \\right)}\\right)^{2}}{3} + 2 \\left(- \\frac{\\partial}{\\partial y} Q_{0}{\\left(x,y \\right)} - \\frac{\\partial}{\\partial y} Q_{1}{\\left(x,y \\right)}\\right) \\frac{\\partial}{\\partial x} Q_{1}{\\left(x,y \\right)} + 2 \\left(- \\frac{\\partial}{\\partial y} Q_{0}{\\left(x,y \\right)} - \\frac{\\partial}{\\partial y} Q_{1}{\\left(x,y \\right)}\\right) \\frac{\\partial}{\\partial y} Q_{3}{\\left(x,y \\right)} + 2 \\left(- \\frac{\\partial^{2}}{\\partial y^{2}} Q_{0}{\\left(x,y \\right)} - \\frac{\\partial^{2}}{\\partial y^{2}} Q_{1}{\\left(x,y \\right)}\\right) Q_{3}{\\left(x,y \\right)} + 4 \\left(- \\frac{\\partial^{2}}{\\partial y\\partial x} Q_{0}{\\left(x,y \\right)} - \\frac{\\partial^{2}}{\\partial y\\partial x} Q_{1}{\\left(x,y \\right)}\\right) Q_{1}{\\left(x,y \\right)} + \\frac{\\left(\\frac{\\partial}{\\partial x} Q_{0}{\\left(x,y \\right)}\\right)^{2}}{3} + \\frac{\\left(\\frac{\\partial}{\\partial y} Q_{0}{\\left(x,y \\right)}\\right)^{2}}{3} + \\frac{2 \\left(\\frac{\\partial}{\\partial x} Q_{1}{\\left(x,y \\right)}\\right)^{2}}{3} + \\frac{2 \\left(\\frac{\\partial}{\\partial y} Q_{1}{\\left(x,y \\right)}\\right)^{2}}{3} + \\frac{\\left(\\frac{\\partial}{\\partial x} Q_{3}{\\left(x,y \\right)}\\right)^{2}}{3} + \\frac{\\left(\\frac{\\partial}{\\partial y} Q_{3}{\\left(x,y \\right)}\\right)^{2}}{3}\\end{matrix}\\right]$"
      ],
      "text/plain": [
       "Matrix([\n",
       "[-2*(-Derivative(Q_0(x, y), x) - Derivative(Q_1(x, y), x))**2/3 + (-Derivative(Q_0(x, y), y) - Derivative(Q_1(x, y), y))**2/3 + 2*Q_0(x, y)*Derivative(Q_0(x, y), (x, 2)) + 4*Q_1(x, y)*Derivative(Q_0(x, y), x, y) + 2*Q_3(x, y)*Derivative(Q_0(x, y), (y, 2)) + 4*Derivative(Q_0(x, y), x)**2/3 + 2*Derivative(Q_0(x, y), x)*Derivative(Q_1(x, y), y) + Derivative(Q_0(x, y), y)**2/3 + 2*Derivative(Q_0(x, y), y)*Derivative(Q_1(x, y), x) + 2*Derivative(Q_0(x, y), y)*Derivative(Q_3(x, y), y) - 4*Derivative(Q_1(x, y), x)**2/3 + 2*Derivative(Q_1(x, y), y)**2/3 - 2*Derivative(Q_3(x, y), x)**2/3 + Derivative(Q_3(x, y), y)**2/3,                                                                                                              -(-Derivative(Q_0(x, y), x) - Derivative(Q_1(x, y), x))*(-Derivative(Q_0(x, y), y) - Derivative(Q_1(x, y), y)) + 2*Q_0(x, y)*Derivative(Q_1(x, y), (x, 2)) + 4*Q_1(x, y)*Derivative(Q_1(x, y), x, y) + 2*Q_3(x, y)*Derivative(Q_1(x, y), (y, 2)) - Derivative(Q_0(x, y), x)*Derivative(Q_0(x, y), y) + 2*Derivative(Q_0(x, y), x)*Derivative(Q_1(x, y), x) + 2*Derivative(Q_1(x, y), x)*Derivative(Q_1(x, y), y) + 2*Derivative(Q_1(x, y), y)*Derivative(Q_3(x, y), y) - Derivative(Q_3(x, y), x)*Derivative(Q_3(x, y), y),                                                                                                                                                                                                                                                                                                                                                                                                                                                                                                                                                                                                                                                                                                                                                                                                                                                                                                                      0],\n",
       "[                                                                                                              -(-Derivative(Q_0(x, y), x) - Derivative(Q_1(x, y), x))*(-Derivative(Q_0(x, y), y) - Derivative(Q_1(x, y), y)) + 2*Q_0(x, y)*Derivative(Q_1(x, y), (x, 2)) + 4*Q_1(x, y)*Derivative(Q_1(x, y), x, y) + 2*Q_3(x, y)*Derivative(Q_1(x, y), (y, 2)) - Derivative(Q_0(x, y), x)*Derivative(Q_0(x, y), y) + 2*Derivative(Q_0(x, y), x)*Derivative(Q_1(x, y), x) + 2*Derivative(Q_1(x, y), x)*Derivative(Q_1(x, y), y) + 2*Derivative(Q_1(x, y), y)*Derivative(Q_3(x, y), y) - Derivative(Q_3(x, y), x)*Derivative(Q_3(x, y), y), (-Derivative(Q_0(x, y), x) - Derivative(Q_1(x, y), x))**2/3 - 2*(-Derivative(Q_0(x, y), y) - Derivative(Q_1(x, y), y))**2/3 + 2*Q_0(x, y)*Derivative(Q_3(x, y), (x, 2)) + 4*Q_1(x, y)*Derivative(Q_3(x, y), x, y) + 2*Q_3(x, y)*Derivative(Q_3(x, y), (y, 2)) + Derivative(Q_0(x, y), x)**2/3 + 2*Derivative(Q_0(x, y), x)*Derivative(Q_3(x, y), x) - 2*Derivative(Q_0(x, y), y)**2/3 + 2*Derivative(Q_1(x, y), x)**2/3 + 2*Derivative(Q_1(x, y), x)*Derivative(Q_3(x, y), y) - 4*Derivative(Q_1(x, y), y)**2/3 + 2*Derivative(Q_1(x, y), y)*Derivative(Q_3(x, y), x) + Derivative(Q_3(x, y), x)**2/3 + 4*Derivative(Q_3(x, y), y)**2/3,                                                                                                                                                                                                                                                                                                                                                                                                                                                                                                                                                                                                                                                                                                                                                                                                                                                                                                                      0],\n",
       "[                                                                                                                                                                                                                                                                                                                                                                                                                                                                                                                                                                                                                                       0,                                                                                                                                                                                                                                                                                                                                                                                                                                                                                                                                                                                                                                       0, (-Derivative(Q_0(x, y), x) - Derivative(Q_1(x, y), x))**2/3 + 2*(-Derivative(Q_0(x, y), x) - Derivative(Q_1(x, y), x))*Derivative(Q_0(x, y), x) + 2*(-Derivative(Q_0(x, y), x) - Derivative(Q_1(x, y), x))*Derivative(Q_1(x, y), y) + 2*(-Derivative(Q_0(x, y), (x, 2)) - Derivative(Q_1(x, y), (x, 2)))*Q_0(x, y) + (-Derivative(Q_0(x, y), y) - Derivative(Q_1(x, y), y))**2/3 + 2*(-Derivative(Q_0(x, y), y) - Derivative(Q_1(x, y), y))*Derivative(Q_1(x, y), x) + 2*(-Derivative(Q_0(x, y), y) - Derivative(Q_1(x, y), y))*Derivative(Q_3(x, y), y) + 2*(-Derivative(Q_0(x, y), (y, 2)) - Derivative(Q_1(x, y), (y, 2)))*Q_3(x, y) + 4*(-Derivative(Q_0(x, y), x, y) - Derivative(Q_1(x, y), x, y))*Q_1(x, y) + Derivative(Q_0(x, y), x)**2/3 + Derivative(Q_0(x, y), y)**2/3 + 2*Derivative(Q_1(x, y), x)**2/3 + 2*Derivative(Q_1(x, y), y)**2/3 + Derivative(Q_3(x, y), x)**2/3 + Derivative(Q_3(x, y), y)**2/3]])"
      ]
     },
     "execution_count": 21,
     "metadata": {},
     "output_type": "execute_result"
    }
   ],
   "source": [
    "L3_term"
   ]
  },
  {
   "cell_type": "code",
   "execution_count": 22,
   "id": "f790eacc-f90f-440c-8f92-77d8a7f8fef4",
   "metadata": {},
   "outputs": [],
   "source": [
    "L2_term = zeros(3)\n",
    "\n",
    "for i in range(3):\n",
    "    for j in range(3):\n",
    "        L2_term[i, j] = (\n",
    "                         sum(Q_mat[i, m].diff(xi[m]).diff(xi[j]) for m in range(3))\n",
    "                         + sum(Q_mat[j, m].diff(xi[m]).diff(xi[i]) for m in range(3))\n",
    "                         - Rational(2, 3) * sum(Q_mat[k, m].diff(xi[k]).diff(xi[m]) for k in range(3) for m in range(3)) * I[i, j]\n",
    "        )"
   ]
  },
  {
   "cell_type": "code",
   "execution_count": 23,
   "id": "75c754e3-339d-4901-94e3-148721002759",
   "metadata": {},
   "outputs": [
    {
     "data": {
      "text/latex": [
       "$\\displaystyle \\left[\\begin{matrix}\\frac{4 \\frac{\\partial^{2}}{\\partial x^{2}} Q_{0}{\\left(x,y \\right)}}{3} - \\frac{2 \\frac{\\partial^{2}}{\\partial y^{2}} Q_{3}{\\left(x,y \\right)}}{3} + \\frac{2 \\frac{\\partial^{2}}{\\partial y\\partial x} Q_{1}{\\left(x,y \\right)}}{3} & \\frac{\\partial^{2}}{\\partial x^{2}} Q_{1}{\\left(x,y \\right)} + \\frac{\\partial^{2}}{\\partial y^{2}} Q_{1}{\\left(x,y \\right)} + \\frac{\\partial^{2}}{\\partial y\\partial x} Q_{0}{\\left(x,y \\right)} + \\frac{\\partial^{2}}{\\partial y\\partial x} Q_{3}{\\left(x,y \\right)} & 0\\\\\\frac{\\partial^{2}}{\\partial x^{2}} Q_{1}{\\left(x,y \\right)} + \\frac{\\partial^{2}}{\\partial y^{2}} Q_{1}{\\left(x,y \\right)} + \\frac{\\partial^{2}}{\\partial y\\partial x} Q_{0}{\\left(x,y \\right)} + \\frac{\\partial^{2}}{\\partial y\\partial x} Q_{3}{\\left(x,y \\right)} & - \\frac{2 \\frac{\\partial^{2}}{\\partial x^{2}} Q_{0}{\\left(x,y \\right)}}{3} + \\frac{4 \\frac{\\partial^{2}}{\\partial y^{2}} Q_{3}{\\left(x,y \\right)}}{3} + \\frac{2 \\frac{\\partial^{2}}{\\partial y\\partial x} Q_{1}{\\left(x,y \\right)}}{3} & 0\\\\0 & 0 & - \\frac{2 \\frac{\\partial^{2}}{\\partial x^{2}} Q_{0}{\\left(x,y \\right)}}{3} - \\frac{2 \\frac{\\partial^{2}}{\\partial y^{2}} Q_{3}{\\left(x,y \\right)}}{3} - \\frac{4 \\frac{\\partial^{2}}{\\partial y\\partial x} Q_{1}{\\left(x,y \\right)}}{3}\\end{matrix}\\right]$"
      ],
      "text/plain": [
       "Matrix([\n",
       "[                  4*Derivative(Q_0(x, y), (x, 2))/3 - 2*Derivative(Q_3(x, y), (y, 2))/3 + 2*Derivative(Q_1(x, y), x, y)/3, Derivative(Q_1(x, y), (x, 2)) + Derivative(Q_1(x, y), (y, 2)) + Derivative(Q_0(x, y), x, y) + Derivative(Q_3(x, y), x, y),                                                                                                        0],\n",
       "[Derivative(Q_1(x, y), (x, 2)) + Derivative(Q_1(x, y), (y, 2)) + Derivative(Q_0(x, y), x, y) + Derivative(Q_3(x, y), x, y),                  -2*Derivative(Q_0(x, y), (x, 2))/3 + 4*Derivative(Q_3(x, y), (y, 2))/3 + 2*Derivative(Q_1(x, y), x, y)/3,                                                                                                        0],\n",
       "[                                                                                                                        0,                                                                                                                         0, -2*Derivative(Q_0(x, y), (x, 2))/3 - 2*Derivative(Q_3(x, y), (y, 2))/3 - 4*Derivative(Q_1(x, y), x, y)/3]])"
      ]
     },
     "execution_count": 23,
     "metadata": {},
     "output_type": "execute_result"
    }
   ],
   "source": [
    "L2_term"
   ]
  }
 ],
 "metadata": {
  "kernelspec": {
   "display_name": "Python 3 (ipykernel)",
   "language": "python",
   "name": "python3"
  },
  "language_info": {
   "codemirror_mode": {
    "name": "ipython",
    "version": 3
   },
   "file_extension": ".py",
   "mimetype": "text/x-python",
   "name": "python",
   "nbconvert_exporter": "python",
   "pygments_lexer": "ipython3",
   "version": "3.9.18"
  }
 },
 "nbformat": 4,
 "nbformat_minor": 5
}
