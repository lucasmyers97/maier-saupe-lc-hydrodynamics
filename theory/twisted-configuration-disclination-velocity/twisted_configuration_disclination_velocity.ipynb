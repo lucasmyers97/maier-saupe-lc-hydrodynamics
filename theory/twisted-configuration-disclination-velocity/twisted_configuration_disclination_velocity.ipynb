{
 "cells": [
  {
   "cell_type": "code",
   "execution_count": 1,
   "id": "635600a4-00db-47a4-90d4-e26915c61fe9",
   "metadata": {},
   "outputs": [],
   "source": [
    "from sympy import *"
   ]
  },
  {
   "cell_type": "markdown",
   "id": "73953bf8-ab86-408f-b9e9-29e98fe043f4",
   "metadata": {},
   "source": [
    "## Define relevant symbols"
   ]
  },
  {
   "cell_type": "code",
   "execution_count": 26,
   "id": "4ad47066-7805-49b0-91d4-45cf8b762f58",
   "metadata": {},
   "outputs": [
    {
     "data": {
      "text/latex": [
       "$\\displaystyle \\left[\\begin{matrix}i\\\\j\\\\k\\\\l\\\\m\\\\\\alpha\\\\\\beta\\\\\\gamma\\end{matrix}\\right]$"
      ],
      "text/plain": [
       "Matrix([\n",
       "[     i],\n",
       "[     j],\n",
       "[     k],\n",
       "[     l],\n",
       "[     m],\n",
       "[\\alpha],\n",
       "[ \\beta],\n",
       "[\\gamma]])"
      ]
     },
     "metadata": {},
     "output_type": "display_data"
    }
   ],
   "source": [
    "n_idx = 7\n",
    "\n",
    "idx_letters = ['i', 'j', 'k', 'l', 'm', r'\\alpha', r'\\beta', r'\\gamma']\n",
    "i = 0\n",
    "j = 1\n",
    "k = 2\n",
    "l = 3\n",
    "m = 4\n",
    "alpha = 5\n",
    "beta = 6\n",
    "gamma = 7\n",
    "\n",
    "idx = Matrix([symbols(i, real=True) for i in idx_letters])\n",
    "\n",
    "display(idx)"
   ]
  },
  {
   "cell_type": "code",
   "execution_count": 90,
   "id": "7567d3a8-871b-4edf-a7d7-0c5ce2d2d71a",
   "metadata": {},
   "outputs": [
    {
     "data": {
      "text/latex": [
       "$\\displaystyle \\left[\\begin{matrix}\\partial_i \\tilde{\\varphi}\\\\\\partial_j \\tilde{\\varphi}\\\\\\partial_k \\tilde{\\varphi}\\\\\\partial_l \\tilde{\\varphi}\\\\\\partial_m \\tilde{\\varphi}\\\\\\partial_\\alpha \\tilde{\\varphi}\\\\\\partial_\\beta \\tilde{\\varphi}\\\\\\partial_\\gamma \\tilde{\\varphi}\\end{matrix}\\right]$"
      ],
      "text/plain": [
       "Matrix([\n",
       "[     \\partial_i \\tilde{\\varphi}],\n",
       "[     \\partial_j \\tilde{\\varphi}],\n",
       "[     \\partial_k \\tilde{\\varphi}],\n",
       "[     \\partial_l \\tilde{\\varphi}],\n",
       "[     \\partial_m \\tilde{\\varphi}],\n",
       "[\\partial_\\alpha \\tilde{\\varphi}],\n",
       "[ \\partial_\\beta \\tilde{\\varphi}],\n",
       "[\\partial_\\gamma \\tilde{\\varphi}]])"
      ]
     },
     "metadata": {},
     "output_type": "display_data"
    },
    {
     "data": {
      "text/latex": [
       "$\\displaystyle \\left[\\begin{matrix}p_{0i}\\\\p_{0j}\\\\p_{0k}\\\\p_{0l}\\\\p_{0m}\\\\p_{0\\alpha}\\\\p_{0\\beta}\\\\p_{0\\gamma}\\end{matrix}\\right]$"
      ],
      "text/plain": [
       "Matrix([\n",
       "[     p_{0i}],\n",
       "[     p_{0j}],\n",
       "[     p_{0k}],\n",
       "[     p_{0l}],\n",
       "[     p_{0m}],\n",
       "[p_{0\\alpha}],\n",
       "[ p_{0\\beta}],\n",
       "[p_{0\\gamma}]])"
      ]
     },
     "metadata": {},
     "output_type": "display_data"
    },
    {
     "data": {
      "text/latex": [
       "$\\displaystyle \\left[\\begin{matrix}p_{1i}\\\\p_{1j}\\\\p_{1k}\\\\p_{1l}\\\\p_{1m}\\\\p_{1\\alpha}\\\\p_{1\\beta}\\\\p_{1\\gamma}\\end{matrix}\\right]$"
      ],
      "text/plain": [
       "Matrix([\n",
       "[     p_{1i}],\n",
       "[     p_{1j}],\n",
       "[     p_{1k}],\n",
       "[     p_{1l}],\n",
       "[     p_{1m}],\n",
       "[p_{1\\alpha}],\n",
       "[ p_{1\\beta}],\n",
       "[p_{1\\gamma}]])"
      ]
     },
     "metadata": {},
     "output_type": "display_data"
    },
    {
     "data": {
      "text/latex": [
       "$\\displaystyle \\left[\\begin{matrix}n_{0i}\\\\n_{0j}\\\\n_{0k}\\\\n_{0l}\\\\n_{0m}\\\\n_{0\\alpha}\\\\n_{0\\beta}\\\\n_{0\\gamma}\\end{matrix}\\right]$"
      ],
      "text/plain": [
       "Matrix([\n",
       "[     n_{0i}],\n",
       "[     n_{0j}],\n",
       "[     n_{0k}],\n",
       "[     n_{0l}],\n",
       "[     n_{0m}],\n",
       "[n_{0\\alpha}],\n",
       "[ n_{0\\beta}],\n",
       "[n_{0\\gamma}]])"
      ]
     },
     "metadata": {},
     "output_type": "display_data"
    },
    {
     "data": {
      "text/latex": [
       "$\\displaystyle \\left[\\begin{matrix}\\delta_{i x}\\\\\\delta_{j x}\\\\\\delta_{k x}\\\\\\delta_{l x}\\\\\\delta_{m x}\\\\\\delta_{\\alpha x}\\\\\\delta_{\\beta x}\\\\\\delta_{\\gamma x}\\end{matrix}\\right]$"
      ],
      "text/plain": [
       "Matrix([\n",
       "[     \\delta_{i x}],\n",
       "[     \\delta_{j x}],\n",
       "[     \\delta_{k x}],\n",
       "[     \\delta_{l x}],\n",
       "[     \\delta_{m x}],\n",
       "[\\delta_{\\alpha x}],\n",
       "[ \\delta_{\\beta x}],\n",
       "[\\delta_{\\gamma x}]])"
      ]
     },
     "metadata": {},
     "output_type": "display_data"
    },
    {
     "data": {
      "text/latex": [
       "$\\displaystyle \\left[\\begin{matrix}\\delta_{i y}\\\\\\delta_{j y}\\\\\\delta_{k y}\\\\\\delta_{l y}\\\\\\delta_{m y}\\\\\\delta_{\\alpha y}\\\\\\delta_{\\beta y}\\\\\\delta_{\\gamma y}\\end{matrix}\\right]$"
      ],
      "text/plain": [
       "Matrix([\n",
       "[     \\delta_{i y}],\n",
       "[     \\delta_{j y}],\n",
       "[     \\delta_{k y}],\n",
       "[     \\delta_{l y}],\n",
       "[     \\delta_{m y}],\n",
       "[\\delta_{\\alpha y}],\n",
       "[ \\delta_{\\beta y}],\n",
       "[\\delta_{\\gamma y}]])"
      ]
     },
     "metadata": {},
     "output_type": "display_data"
    }
   ],
   "source": [
    "dphi = Matrix([symbols(r'\\partial_{}\\ \\tilde{{\\varphi}}'.format(i), real=True) for i in idx_letters])\n",
    "dxphi = symbols(r'\\partial_x\\ \\tilde{\\varphi}')\n",
    "dyphi = symbols(r'\\partial_y\\ \\tilde{\\varphi}')\n",
    "dzphi = symbols(r'\\partial_z\\ \\tilde{\\varphi}')\n",
    "\n",
    "p0 = Matrix([symbols('p_{{0{}}}'.format(i), real=True) for i in idx_letters])\n",
    "p0x = symbols('p_{0x}', real=True)\n",
    "p0y = symbols('p_{0y}', real=True)\n",
    "p0z = symbols('p_{0z}', real=True)\n",
    "p1 = Matrix([symbols('p_{{1{}}}'.format(i), real=True) for i in idx_letters])\n",
    "p1x = symbols('p_{1x}', real=True)\n",
    "p1y = symbols('p_{1y}', real=True)\n",
    "p1z = symbols('p_{1z}', real=True)\n",
    "\n",
    "n0 = Matrix([symbols(r'n_{{0{}}}'.format(i), real=True) for i in idx_letters])\n",
    "n0x = symbols('n_{0x}', real=True)\n",
    "n0y = symbols('n_{0y}', real=True)\n",
    "n0z = symbols('n_{0z}', real=True)\n",
    "n1 = Matrix([symbols(r'n_{{1{}}}'.format(i), real=True) for i in idx_letters])\n",
    "n1x = symbols('n_{1x}', real=True)\n",
    "n1y = symbols('n_{1y}', real=True)\n",
    "n1z = symbols('n_{1z}', real=True)\n",
    "\n",
    "dx = Matrix([symbols(r'\\delta_{{{}\\ x}}'.format(i), real=True) for i in idx_letters])\n",
    "dy = Matrix([symbols(r'\\delta_{{{}\\ y}}'.format(i), real=True) for i in idx_letters])\n",
    "dz = Matrix([symbols(r'\\delta_{{{}\\ z}}'.format(i), real=True) for i in idx_letters])\n",
    "\n",
    "q = Matrix([symbols('q_{{{}}}'.format(i), real=True) for i in idx_letters])\n",
    "Om = Matrix([symbols(r'\\Omega_{{{}}}'.format(i), real=True) for i in idx_letters])\n",
    "Omx = symbols(r'\\Omega_{x}', real=True)\n",
    "Omy = symbols(r'\\Omega_{y}', real=True)\n",
    "Omz = symbols(r'\\Omega_{z}', real=True)\n",
    "\n",
    "display(dphi, p0, p1, n0, dx, dy)"
   ]
  },
  {
   "cell_type": "markdown",
   "id": "247f84e5-dec6-4f86-9703-197a6544899f",
   "metadata": {},
   "source": [
    "## Try to calculate Cody's results"
   ]
  },
  {
   "cell_type": "code",
   "execution_count": 91,
   "id": "bcbac71a-e5db-4b97-929b-4d7b71a8f6e0",
   "metadata": {},
   "outputs": [
    {
     "data": {
      "text/latex": [
       "$\\displaystyle \\left(\\delta_{l x} \\left(n_{0j} n_{0m} - n_{1j} n_{1m}\\right) + \\delta_{l y} \\left(n_{0j} n_{1m} + n_{0m} n_{1j}\\right)\\right) \\left(\\partial_x \\tilde{\\varphi} \\left(n_{0i} p_{0j} + n_{0j} p_{0i} - n_{1i} p_{1j} - n_{1j} p_{1i}\\right) + \\partial_y \\tilde{\\varphi} \\left(n_{0i} p_{1j} + n_{0j} p_{1i} + n_{1i} p_{0j} + n_{1j} p_{0i}\\right)\\right)$"
      ],
      "text/plain": [
       "(\\delta_{l x}*(n_{0j}*n_{0m} - n_{1j}*n_{1m}) + \\delta_{l y}*(n_{0j}*n_{1m} + n_{0m}*n_{1j}))*(\\partial_x \\tilde{\\varphi}*(n_{0i}*p_{0j} + n_{0j}*p_{0i} - n_{1i}*p_{1j} - n_{1j}*p_{1i}) + \\partial_y \\tilde{\\varphi}*(n_{0i}*p_{1j} + n_{0j}*p_{1i} + n_{1i}*p_{0j} + n_{1j}*p_{0i}))"
      ]
     },
     "metadata": {},
     "output_type": "display_data"
    }
   ],
   "source": [
    "expr = ( dxphi * (p0[i]*n0[j] + n0[i]*p0[j] - p1[i]*n1[j] - n1[i]*p1[j])\n",
    "         + dyphi * (p0[i]*n1[j] + n0[i]*p1[j] + p1[i]*n0[j] + n1[i]*p0[j]) \n",
    "       ) * (dx[l] * (n0[m]*n0[j] - n1[m]*n1[j]) + dy[l] * (n0[m]*n1[j] + n1[m]*n0[j]))\n",
    "\n",
    "display(expr)"
   ]
  },
  {
   "cell_type": "code",
   "execution_count": 92,
   "id": "2ee33dc2-e934-4370-8e50-a362a7ed3495",
   "metadata": {},
   "outputs": [
    {
     "data": {
      "text/latex": [
       "$\\displaystyle \\delta_{l x} \\partial_x \\tilde{\\varphi} n_{0i} n_{0j} n_{0m} p_{0j} - \\delta_{l x} \\partial_x \\tilde{\\varphi} n_{0i} n_{1j} n_{1m} p_{0j} + \\delta_{l x} \\partial_x \\tilde{\\varphi} n_{0j}^{2} n_{0m} p_{0i} - \\delta_{l x} \\partial_x \\tilde{\\varphi} n_{0j} n_{0m} n_{1i} p_{1j} - \\delta_{l x} \\partial_x \\tilde{\\varphi} n_{0j} n_{0m} n_{1j} p_{1i} - \\delta_{l x} \\partial_x \\tilde{\\varphi} n_{0j} n_{1j} n_{1m} p_{0i} + \\delta_{l x} \\partial_x \\tilde{\\varphi} n_{1i} n_{1j} n_{1m} p_{1j} + \\delta_{l x} \\partial_x \\tilde{\\varphi} n_{1j}^{2} n_{1m} p_{1i} + \\delta_{l x} \\partial_y \\tilde{\\varphi} n_{0i} n_{0j} n_{0m} p_{1j} - \\delta_{l x} \\partial_y \\tilde{\\varphi} n_{0i} n_{1j} n_{1m} p_{1j} + \\delta_{l x} \\partial_y \\tilde{\\varphi} n_{0j}^{2} n_{0m} p_{1i} + \\delta_{l x} \\partial_y \\tilde{\\varphi} n_{0j} n_{0m} n_{1i} p_{0j} + \\delta_{l x} \\partial_y \\tilde{\\varphi} n_{0j} n_{0m} n_{1j} p_{0i} - \\delta_{l x} \\partial_y \\tilde{\\varphi} n_{0j} n_{1j} n_{1m} p_{1i} - \\delta_{l x} \\partial_y \\tilde{\\varphi} n_{1i} n_{1j} n_{1m} p_{0j} - \\delta_{l x} \\partial_y \\tilde{\\varphi} n_{1j}^{2} n_{1m} p_{0i} + \\delta_{l y} \\partial_x \\tilde{\\varphi} n_{0i} n_{0j} n_{1m} p_{0j} + \\delta_{l y} \\partial_x \\tilde{\\varphi} n_{0i} n_{0m} n_{1j} p_{0j} + \\delta_{l y} \\partial_x \\tilde{\\varphi} n_{0j}^{2} n_{1m} p_{0i} + \\delta_{l y} \\partial_x \\tilde{\\varphi} n_{0j} n_{0m} n_{1j} p_{0i} - \\delta_{l y} \\partial_x \\tilde{\\varphi} n_{0j} n_{1i} n_{1m} p_{1j} - \\delta_{l y} \\partial_x \\tilde{\\varphi} n_{0j} n_{1j} n_{1m} p_{1i} - \\delta_{l y} \\partial_x \\tilde{\\varphi} n_{0m} n_{1i} n_{1j} p_{1j} - \\delta_{l y} \\partial_x \\tilde{\\varphi} n_{0m} n_{1j}^{2} p_{1i} + \\delta_{l y} \\partial_y \\tilde{\\varphi} n_{0i} n_{0j} n_{1m} p_{1j} + \\delta_{l y} \\partial_y \\tilde{\\varphi} n_{0i} n_{0m} n_{1j} p_{1j} + \\delta_{l y} \\partial_y \\tilde{\\varphi} n_{0j}^{2} n_{1m} p_{1i} + \\delta_{l y} \\partial_y \\tilde{\\varphi} n_{0j} n_{0m} n_{1j} p_{1i} + \\delta_{l y} \\partial_y \\tilde{\\varphi} n_{0j} n_{1i} n_{1m} p_{0j} + \\delta_{l y} \\partial_y \\tilde{\\varphi} n_{0j} n_{1j} n_{1m} p_{0i} + \\delta_{l y} \\partial_y \\tilde{\\varphi} n_{0m} n_{1i} n_{1j} p_{0j} + \\delta_{l y} \\partial_y \\tilde{\\varphi} n_{0m} n_{1j}^{2} p_{0i}$"
      ],
      "text/plain": [
       "\\delta_{l x}*\\partial_x \\tilde{\\varphi}*n_{0i}*n_{0j}*n_{0m}*p_{0j} - \\delta_{l x}*\\partial_x \\tilde{\\varphi}*n_{0i}*n_{1j}*n_{1m}*p_{0j} + \\delta_{l x}*\\partial_x \\tilde{\\varphi}*n_{0j}**2*n_{0m}*p_{0i} - \\delta_{l x}*\\partial_x \\tilde{\\varphi}*n_{0j}*n_{0m}*n_{1i}*p_{1j} - \\delta_{l x}*\\partial_x \\tilde{\\varphi}*n_{0j}*n_{0m}*n_{1j}*p_{1i} - \\delta_{l x}*\\partial_x \\tilde{\\varphi}*n_{0j}*n_{1j}*n_{1m}*p_{0i} + \\delta_{l x}*\\partial_x \\tilde{\\varphi}*n_{1i}*n_{1j}*n_{1m}*p_{1j} + \\delta_{l x}*\\partial_x \\tilde{\\varphi}*n_{1j}**2*n_{1m}*p_{1i} + \\delta_{l x}*\\partial_y \\tilde{\\varphi}*n_{0i}*n_{0j}*n_{0m}*p_{1j} - \\delta_{l x}*\\partial_y \\tilde{\\varphi}*n_{0i}*n_{1j}*n_{1m}*p_{1j} + \\delta_{l x}*\\partial_y \\tilde{\\varphi}*n_{0j}**2*n_{0m}*p_{1i} + \\delta_{l x}*\\partial_y \\tilde{\\varphi}*n_{0j}*n_{0m}*n_{1i}*p_{0j} + \\delta_{l x}*\\partial_y \\tilde{\\varphi}*n_{0j}*n_{0m}*n_{1j}*p_{0i} - \\delta_{l x}*\\partial_y \\tilde{\\varphi}*n_{0j}*n_{1j}*n_{1m}*p_{1i} - \\delta_{l x}*\\partial_y \\tilde{\\varphi}*n_{1i}*n_{1j}*n_{1m}*p_{0j} - \\delta_{l x}*\\partial_y \\tilde{\\varphi}*n_{1j}**2*n_{1m}*p_{0i} + \\delta_{l y}*\\partial_x \\tilde{\\varphi}*n_{0i}*n_{0j}*n_{1m}*p_{0j} + \\delta_{l y}*\\partial_x \\tilde{\\varphi}*n_{0i}*n_{0m}*n_{1j}*p_{0j} + \\delta_{l y}*\\partial_x \\tilde{\\varphi}*n_{0j}**2*n_{1m}*p_{0i} + \\delta_{l y}*\\partial_x \\tilde{\\varphi}*n_{0j}*n_{0m}*n_{1j}*p_{0i} - \\delta_{l y}*\\partial_x \\tilde{\\varphi}*n_{0j}*n_{1i}*n_{1m}*p_{1j} - \\delta_{l y}*\\partial_x \\tilde{\\varphi}*n_{0j}*n_{1j}*n_{1m}*p_{1i} - \\delta_{l y}*\\partial_x \\tilde{\\varphi}*n_{0m}*n_{1i}*n_{1j}*p_{1j} - \\delta_{l y}*\\partial_x \\tilde{\\varphi}*n_{0m}*n_{1j}**2*p_{1i} + \\delta_{l y}*\\partial_y \\tilde{\\varphi}*n_{0i}*n_{0j}*n_{1m}*p_{1j} + \\delta_{l y}*\\partial_y \\tilde{\\varphi}*n_{0i}*n_{0m}*n_{1j}*p_{1j} + \\delta_{l y}*\\partial_y \\tilde{\\varphi}*n_{0j}**2*n_{1m}*p_{1i} + \\delta_{l y}*\\partial_y \\tilde{\\varphi}*n_{0j}*n_{0m}*n_{1j}*p_{1i} + \\delta_{l y}*\\partial_y \\tilde{\\varphi}*n_{0j}*n_{1i}*n_{1m}*p_{0j} + \\delta_{l y}*\\partial_y \\tilde{\\varphi}*n_{0j}*n_{1j}*n_{1m}*p_{0i} + \\delta_{l y}*\\partial_y \\tilde{\\varphi}*n_{0m}*n_{1i}*n_{1j}*p_{0j} + \\delta_{l y}*\\partial_y \\tilde{\\varphi}*n_{0m}*n_{1j}**2*p_{0i}"
      ]
     },
     "metadata": {},
     "output_type": "display_data"
    }
   ],
   "source": [
    "expand_expr = expand(expr)\n",
    "display(expand_expr)"
   ]
  },
  {
   "cell_type": "code",
   "execution_count": 93,
   "id": "78707d15-f86a-456b-b07b-753a02b8097e",
   "metadata": {},
   "outputs": [],
   "source": [
    "dot_subs = ( {n0[n] * n1[n]: 0 for n in range(n_idx)}\n",
    "            | {n0[n]**2: 1 for n in range(n_idx)}\n",
    "            | {n1[n]**2: 1 for n in range(n_idx)}\n",
    "            | {p0[n]*n0[n]: 0 for n in range(n_idx)}\n",
    "            | {p1[n]*n1[n]: 0 for n in range(n_idx)}\n",
    "            | {p0[n]*n1[n]: q[alpha]*Om[alpha] for n in range(n_idx)}\n",
    "            | {p1[n]*n0[n]: -q[alpha]*Om[alpha] for n in range(n_idx)} )"
   ]
  },
  {
   "cell_type": "code",
   "execution_count": 94,
   "id": "6cfbf7c7-3f3c-437a-a915-32c7e2f930d3",
   "metadata": {},
   "outputs": [
    {
     "data": {
      "text/latex": [
       "$\\displaystyle - \\Omega_{\\alpha} \\delta_{l x} \\partial_x \\tilde{\\varphi} n_{0i} n_{1m} q_{\\alpha} + \\Omega_{\\alpha} \\delta_{l x} \\partial_x \\tilde{\\varphi} n_{0m} n_{1i} q_{\\alpha} - \\Omega_{\\alpha} \\delta_{l x} \\partial_y \\tilde{\\varphi} n_{0i} n_{0m} q_{\\alpha} - \\Omega_{\\alpha} \\delta_{l x} \\partial_y \\tilde{\\varphi} n_{1i} n_{1m} q_{\\alpha} + \\Omega_{\\alpha} \\delta_{l y} \\partial_x \\tilde{\\varphi} n_{0i} n_{0m} q_{\\alpha} + \\Omega_{\\alpha} \\delta_{l y} \\partial_x \\tilde{\\varphi} n_{1i} n_{1m} q_{\\alpha} - \\Omega_{\\alpha} \\delta_{l y} \\partial_y \\tilde{\\varphi} n_{0i} n_{1m} q_{\\alpha} + \\Omega_{\\alpha} \\delta_{l y} \\partial_y \\tilde{\\varphi} n_{0m} n_{1i} q_{\\alpha} + \\delta_{l x} \\partial_x \\tilde{\\varphi} n_{0m} p_{0i} + \\delta_{l x} \\partial_x \\tilde{\\varphi} n_{1m} p_{1i} + \\delta_{l x} \\partial_y \\tilde{\\varphi} n_{0m} p_{1i} - \\delta_{l x} \\partial_y \\tilde{\\varphi} n_{1m} p_{0i} - \\delta_{l y} \\partial_x \\tilde{\\varphi} n_{0m} p_{1i} + \\delta_{l y} \\partial_x \\tilde{\\varphi} n_{1m} p_{0i} + \\delta_{l y} \\partial_y \\tilde{\\varphi} n_{0m} p_{0i} + \\delta_{l y} \\partial_y \\tilde{\\varphi} n_{1m} p_{1i}$"
      ],
      "text/plain": [
       "-\\Omega_{\\alpha}*\\delta_{l x}*\\partial_x \\tilde{\\varphi}*n_{0i}*n_{1m}*q_{\\alpha} + \\Omega_{\\alpha}*\\delta_{l x}*\\partial_x \\tilde{\\varphi}*n_{0m}*n_{1i}*q_{\\alpha} - \\Omega_{\\alpha}*\\delta_{l x}*\\partial_y \\tilde{\\varphi}*n_{0i}*n_{0m}*q_{\\alpha} - \\Omega_{\\alpha}*\\delta_{l x}*\\partial_y \\tilde{\\varphi}*n_{1i}*n_{1m}*q_{\\alpha} + \\Omega_{\\alpha}*\\delta_{l y}*\\partial_x \\tilde{\\varphi}*n_{0i}*n_{0m}*q_{\\alpha} + \\Omega_{\\alpha}*\\delta_{l y}*\\partial_x \\tilde{\\varphi}*n_{1i}*n_{1m}*q_{\\alpha} - \\Omega_{\\alpha}*\\delta_{l y}*\\partial_y \\tilde{\\varphi}*n_{0i}*n_{1m}*q_{\\alpha} + \\Omega_{\\alpha}*\\delta_{l y}*\\partial_y \\tilde{\\varphi}*n_{0m}*n_{1i}*q_{\\alpha} + \\delta_{l x}*\\partial_x \\tilde{\\varphi}*n_{0m}*p_{0i} + \\delta_{l x}*\\partial_x \\tilde{\\varphi}*n_{1m}*p_{1i} + \\delta_{l x}*\\partial_y \\tilde{\\varphi}*n_{0m}*p_{1i} - \\delta_{l x}*\\partial_y \\tilde{\\varphi}*n_{1m}*p_{0i} - \\delta_{l y}*\\partial_x \\tilde{\\varphi}*n_{0m}*p_{1i} + \\delta_{l y}*\\partial_x \\tilde{\\varphi}*n_{1m}*p_{0i} + \\delta_{l y}*\\partial_y \\tilde{\\varphi}*n_{0m}*p_{0i} + \\delta_{l y}*\\partial_y \\tilde{\\varphi}*n_{1m}*p_{1i}"
      ]
     },
     "metadata": {},
     "output_type": "display_data"
    }
   ],
   "source": [
    "dot_expr = expand_expr.subs(dot_subs)\n",
    "\n",
    "display(dot_expr)"
   ]
  },
  {
   "cell_type": "code",
   "execution_count": 95,
   "id": "8c9b049a-ab64-416d-941a-5ef40bac41a1",
   "metadata": {},
   "outputs": [],
   "source": [
    "cross_subs = {n0[i]*n0[m]: 0,\n",
    "              n1[i]*n1[m]: 0,\n",
    "              p0[i]*p0[m]: 0,\n",
    "              p1[i]*p1[m]: 0,\n",
    "              n0[i]*n1[m]: Om[gamma],\n",
    "              n1[i]*n0[m]: -Om[gamma],\n",
    "              p0[i]*n0[m]: -q[gamma] + n0[gamma]*q[beta]*n0[beta],\n",
    "              p0[m]*n0[i]: q[gamma] - n0[gamma]*q[beta]*n0[beta],\n",
    "              p1[i]*n1[m]: -q[gamma] + n1[gamma]*q[beta]*n1[beta],\n",
    "              p1[m]*n1[i]: q[gamma] - n1[gamma]*q[beta]*n1[beta],\n",
    "              p0[i]*n1[m]: n0[gamma]*q[beta]*n1[beta],\n",
    "              p0[m]*n1[i]: -n0[gamma]*q[beta]*n1[beta],\n",
    "              p1[i]*n0[m]: n1[gamma]*q[beta]*n0[beta],\n",
    "              p1[m]*n0[i]: -n1[gamma]*q[beta]*n0[beta]}"
   ]
  },
  {
   "cell_type": "code",
   "execution_count": 96,
   "id": "c2aea34f-1809-493f-826f-1fd491da1440",
   "metadata": {},
   "outputs": [
    {
     "data": {
      "text/latex": [
       "$\\displaystyle - 2 \\Omega_{\\alpha} \\Omega_{\\gamma} \\delta_{l x} \\partial_x \\tilde{\\varphi} q_{\\alpha} - 2 \\Omega_{\\alpha} \\Omega_{\\gamma} \\delta_{l y} \\partial_y \\tilde{\\varphi} q_{\\alpha} + \\delta_{l x} \\partial_x \\tilde{\\varphi} \\left(n_{0\\beta} n_{0\\gamma} q_{\\beta} - q_{\\gamma}\\right) + \\delta_{l x} \\partial_x \\tilde{\\varphi} \\left(n_{1\\beta} n_{1\\gamma} q_{\\beta} - q_{\\gamma}\\right) + \\delta_{l x} \\partial_y \\tilde{\\varphi} n_{0\\beta} n_{1\\gamma} q_{\\beta} - \\delta_{l x} \\partial_y \\tilde{\\varphi} n_{0\\gamma} n_{1\\beta} q_{\\beta} - \\delta_{l y} \\partial_x \\tilde{\\varphi} n_{0\\beta} n_{1\\gamma} q_{\\beta} + \\delta_{l y} \\partial_x \\tilde{\\varphi} n_{0\\gamma} n_{1\\beta} q_{\\beta} + \\delta_{l y} \\partial_y \\tilde{\\varphi} \\left(n_{0\\beta} n_{0\\gamma} q_{\\beta} - q_{\\gamma}\\right) + \\delta_{l y} \\partial_y \\tilde{\\varphi} \\left(n_{1\\beta} n_{1\\gamma} q_{\\beta} - q_{\\gamma}\\right)$"
      ],
      "text/plain": [
       "-2*\\Omega_{\\alpha}*\\Omega_{\\gamma}*\\delta_{l x}*\\partial_x \\tilde{\\varphi}*q_{\\alpha} - 2*\\Omega_{\\alpha}*\\Omega_{\\gamma}*\\delta_{l y}*\\partial_y \\tilde{\\varphi}*q_{\\alpha} + \\delta_{l x}*\\partial_x \\tilde{\\varphi}*(n_{0\\beta}*n_{0\\gamma}*q_{\\beta} - q_{\\gamma}) + \\delta_{l x}*\\partial_x \\tilde{\\varphi}*(n_{1\\beta}*n_{1\\gamma}*q_{\\beta} - q_{\\gamma}) + \\delta_{l x}*\\partial_y \\tilde{\\varphi}*n_{0\\beta}*n_{1\\gamma}*q_{\\beta} - \\delta_{l x}*\\partial_y \\tilde{\\varphi}*n_{0\\gamma}*n_{1\\beta}*q_{\\beta} - \\delta_{l y}*\\partial_x \\tilde{\\varphi}*n_{0\\beta}*n_{1\\gamma}*q_{\\beta} + \\delta_{l y}*\\partial_x \\tilde{\\varphi}*n_{0\\gamma}*n_{1\\beta}*q_{\\beta} + \\delta_{l y}*\\partial_y \\tilde{\\varphi}*(n_{0\\beta}*n_{0\\gamma}*q_{\\beta} - q_{\\gamma}) + \\delta_{l y}*\\partial_y \\tilde{\\varphi}*(n_{1\\beta}*n_{1\\gamma}*q_{\\beta} - q_{\\gamma})"
      ]
     },
     "metadata": {},
     "output_type": "display_data"
    }
   ],
   "source": [
    "cross_expr = dot_expr.subs(cross_subs)\n",
    "\n",
    "display(cross_expr)"
   ]
  },
  {
   "cell_type": "code",
   "execution_count": 97,
   "id": "028605d0-68f3-4f37-bd36-bdd819bba4fe",
   "metadata": {},
   "outputs": [
    {
     "data": {
      "text/latex": [
       "$\\displaystyle - 2 \\Omega_{\\alpha} \\Omega_{\\gamma}^{2} \\delta_{l x} \\partial_x \\tilde{\\varphi} q_{\\alpha} - 2 \\Omega_{\\alpha} \\Omega_{\\gamma}^{2} \\delta_{l y} \\partial_y \\tilde{\\varphi} q_{\\alpha} + \\Omega_{\\gamma} \\delta_{l x} \\partial_x \\tilde{\\varphi} n_{0\\beta} n_{0\\gamma} q_{\\beta} + \\Omega_{\\gamma} \\delta_{l x} \\partial_x \\tilde{\\varphi} n_{1\\beta} n_{1\\gamma} q_{\\beta} - 2 \\Omega_{\\gamma} \\delta_{l x} \\partial_x \\tilde{\\varphi} q_{\\gamma} + \\Omega_{\\gamma} \\delta_{l x} \\partial_y \\tilde{\\varphi} n_{0\\beta} n_{1\\gamma} q_{\\beta} - \\Omega_{\\gamma} \\delta_{l x} \\partial_y \\tilde{\\varphi} n_{0\\gamma} n_{1\\beta} q_{\\beta} - \\Omega_{\\gamma} \\delta_{l y} \\partial_x \\tilde{\\varphi} n_{0\\beta} n_{1\\gamma} q_{\\beta} + \\Omega_{\\gamma} \\delta_{l y} \\partial_x \\tilde{\\varphi} n_{0\\gamma} n_{1\\beta} q_{\\beta} + \\Omega_{\\gamma} \\delta_{l y} \\partial_y \\tilde{\\varphi} n_{0\\beta} n_{0\\gamma} q_{\\beta} + \\Omega_{\\gamma} \\delta_{l y} \\partial_y \\tilde{\\varphi} n_{1\\beta} n_{1\\gamma} q_{\\beta} - 2 \\Omega_{\\gamma} \\delta_{l y} \\partial_y \\tilde{\\varphi} q_{\\gamma}$"
      ],
      "text/plain": [
       "-2*\\Omega_{\\alpha}*\\Omega_{\\gamma}**2*\\delta_{l x}*\\partial_x \\tilde{\\varphi}*q_{\\alpha} - 2*\\Omega_{\\alpha}*\\Omega_{\\gamma}**2*\\delta_{l y}*\\partial_y \\tilde{\\varphi}*q_{\\alpha} + \\Omega_{\\gamma}*\\delta_{l x}*\\partial_x \\tilde{\\varphi}*n_{0\\beta}*n_{0\\gamma}*q_{\\beta} + \\Omega_{\\gamma}*\\delta_{l x}*\\partial_x \\tilde{\\varphi}*n_{1\\beta}*n_{1\\gamma}*q_{\\beta} - 2*\\Omega_{\\gamma}*\\delta_{l x}*\\partial_x \\tilde{\\varphi}*q_{\\gamma} + \\Omega_{\\gamma}*\\delta_{l x}*\\partial_y \\tilde{\\varphi}*n_{0\\beta}*n_{1\\gamma}*q_{\\beta} - \\Omega_{\\gamma}*\\delta_{l x}*\\partial_y \\tilde{\\varphi}*n_{0\\gamma}*n_{1\\beta}*q_{\\beta} - \\Omega_{\\gamma}*\\delta_{l y}*\\partial_x \\tilde{\\varphi}*n_{0\\beta}*n_{1\\gamma}*q_{\\beta} + \\Omega_{\\gamma}*\\delta_{l y}*\\partial_x \\tilde{\\varphi}*n_{0\\gamma}*n_{1\\beta}*q_{\\beta} + \\Omega_{\\gamma}*\\delta_{l y}*\\partial_y \\tilde{\\varphi}*n_{0\\beta}*n_{0\\gamma}*q_{\\beta} + \\Omega_{\\gamma}*\\delta_{l y}*\\partial_y \\tilde{\\varphi}*n_{1\\beta}*n_{1\\gamma}*q_{\\beta} - 2*\\Omega_{\\gamma}*\\delta_{l y}*\\partial_y \\tilde{\\varphi}*q_{\\gamma}"
      ]
     },
     "metadata": {},
     "output_type": "display_data"
    }
   ],
   "source": [
    "Om_expr = expand(Om[gamma] * cross_expr)\n",
    "\n",
    "display(Om_expr)"
   ]
  },
  {
   "cell_type": "code",
   "execution_count": 98,
   "id": "7db54191-a9aa-43a0-8246-2936f2a852e4",
   "metadata": {},
   "outputs": [],
   "source": [
    "Om_dot_subs = {Om[gamma]*n0[gamma]: 0,\n",
    "               Om[gamma]*n1[gamma]: 0,\n",
    "               Om[gamma]*Om[gamma]: 1,\n",
    "               Om[gamma]*q[gamma]: Om[alpha]*q[alpha]}"
   ]
  },
  {
   "cell_type": "code",
   "execution_count": 99,
   "id": "aca22b30-0da6-4073-be85-ec0fba54aadc",
   "metadata": {},
   "outputs": [
    {
     "data": {
      "text/latex": [
       "$\\displaystyle 4 \\Omega_{\\alpha} q_{\\alpha} \\left(- \\delta_{l x} \\partial_x \\tilde{\\varphi} - \\delta_{l y} \\partial_y \\tilde{\\varphi}\\right)$"
      ],
      "text/plain": [
       "4*\\Omega_{\\alpha}*q_{\\alpha}*(-\\delta_{l x}*\\partial_x \\tilde{\\varphi} - \\delta_{l y}*\\partial_y \\tilde{\\varphi})"
      ]
     },
     "metadata": {},
     "output_type": "display_data"
    }
   ],
   "source": [
    "final_expr = simplify( Om_expr.subs(Om_dot_subs) )\n",
    "\n",
    "display(final_expr)"
   ]
  },
  {
   "cell_type": "markdown",
   "id": "f90040e0-54a5-415e-b2a9-f2f52fcee40a",
   "metadata": {},
   "source": [
    "This is exactly what Cody gets. Need to do exactly the same operations on the other expressions."
   ]
  },
  {
   "cell_type": "markdown",
   "id": "14998534-d0e9-4cfe-b0b6-ccdc88f84f0d",
   "metadata": {},
   "source": [
    "## $L_2$ terms"
   ]
  },
  {
   "cell_type": "markdown",
   "id": "3b880601-9dbe-41a4-906e-6a448fe9785a",
   "metadata": {},
   "source": [
    "### Write out expression"
   ]
  },
  {
   "cell_type": "code",
   "execution_count": 100,
   "id": "09cc8111-bb46-4a48-afdd-8a2c729c260d",
   "metadata": {},
   "outputs": [
    {
     "data": {
      "text/latex": [
       "$\\displaystyle \\left(\\delta_{l x} \\left(n_{0j} n_{0m} - n_{1j} n_{1m}\\right) + \\delta_{l y} \\left(n_{0j} n_{1m} + n_{0m} n_{1j}\\right)\\right) \\left(\\delta_{i x} \\partial_k \\tilde{\\varphi} \\left(n_{0j} p_{0k} + n_{0k} p_{0j} - n_{1j} p_{1k} - n_{1k} p_{1j}\\right) + \\delta_{i y} \\partial_k \\tilde{\\varphi} \\left(n_{0j} p_{1k} + n_{0k} p_{1j} + n_{1j} p_{0k} + n_{1k} p_{0j}\\right) + \\partial_i \\tilde{\\varphi} \\left(n_{0j} p_{0x} + n_{0x} p_{0j} - n_{1j} p_{1x} - n_{1x} p_{1j}\\right) + \\partial_i \\tilde{\\varphi} \\left(n_{0j} p_{1y} + n_{0y} p_{1j} + n_{1j} p_{0y} + n_{1y} p_{0j}\\right)\\right)$"
      ],
      "text/plain": [
       "(\\delta_{l x}*(n_{0j}*n_{0m} - n_{1j}*n_{1m}) + \\delta_{l y}*(n_{0j}*n_{1m} + n_{0m}*n_{1j}))*(\\delta_{i x}*\\partial_k \\tilde{\\varphi}*(n_{0j}*p_{0k} + n_{0k}*p_{0j} - n_{1j}*p_{1k} - n_{1k}*p_{1j}) + \\delta_{i y}*\\partial_k \\tilde{\\varphi}*(n_{0j}*p_{1k} + n_{0k}*p_{1j} + n_{1j}*p_{0k} + n_{1k}*p_{0j}) + \\partial_i \\tilde{\\varphi}*(n_{0j}*p_{0x} + n_{0x}*p_{0j} - n_{1j}*p_{1x} - n_{1x}*p_{1j}) + \\partial_i \\tilde{\\varphi}*(n_{0j}*p_{1y} + n_{0y}*p_{1j} + n_{1j}*p_{0y} + n_{1y}*p_{0j}))"
      ]
     },
     "metadata": {},
     "output_type": "display_data"
    }
   ],
   "source": [
    "expr = ( dphi[i] * (p0x * n0[j] + n0x * p0[j] - p1x * n1[j] - n1x * p1[j])\n",
    "        + dphi[k] * (p0[k] * n0[j] + n0[k] * p0[j] - p1[k] * n1[j] - n1[k] * p1[j]) * dx[i]\n",
    "        + dphi[i] * (p0y * n1[j] + n0y * p1[j] + p1y * n0[j] + n1y * p0[j])\n",
    "        + dphi[k] * (p0[k] * n1[j] + n0[k] * p1[j] + p1[k] * n0[j] + n1[k] * p0[j]) * dy[i]\n",
    "       ) * ( (n0[m] * n0[j] - n1[m] * n1[j]) * dx[l] + (n0[m] * n1[j] + n1[m] * n0[j]) * dy[l] )\n",
    "\n",
    "display(expr)"
   ]
  },
  {
   "cell_type": "code",
   "execution_count": 101,
   "id": "62797da9-af9a-421b-a4ed-48991a72185d",
   "metadata": {},
   "outputs": [
    {
     "data": {
      "text/latex": [
       "$\\displaystyle \\delta_{i x} \\delta_{l x} \\partial_k \\tilde{\\varphi} n_{0j}^{2} n_{0m} p_{0k} + \\delta_{i x} \\delta_{l x} \\partial_k \\tilde{\\varphi} n_{0j} n_{0k} n_{0m} p_{0j} - \\delta_{i x} \\delta_{l x} \\partial_k \\tilde{\\varphi} n_{0j} n_{0m} n_{1j} p_{1k} - \\delta_{i x} \\delta_{l x} \\partial_k \\tilde{\\varphi} n_{0j} n_{0m} n_{1k} p_{1j} - \\delta_{i x} \\delta_{l x} \\partial_k \\tilde{\\varphi} n_{0j} n_{1j} n_{1m} p_{0k} - \\delta_{i x} \\delta_{l x} \\partial_k \\tilde{\\varphi} n_{0k} n_{1j} n_{1m} p_{0j} + \\delta_{i x} \\delta_{l x} \\partial_k \\tilde{\\varphi} n_{1j}^{2} n_{1m} p_{1k} + \\delta_{i x} \\delta_{l x} \\partial_k \\tilde{\\varphi} n_{1j} n_{1k} n_{1m} p_{1j} + \\delta_{i x} \\delta_{l y} \\partial_k \\tilde{\\varphi} n_{0j}^{2} n_{1m} p_{0k} + \\delta_{i x} \\delta_{l y} \\partial_k \\tilde{\\varphi} n_{0j} n_{0k} n_{1m} p_{0j} + \\delta_{i x} \\delta_{l y} \\partial_k \\tilde{\\varphi} n_{0j} n_{0m} n_{1j} p_{0k} - \\delta_{i x} \\delta_{l y} \\partial_k \\tilde{\\varphi} n_{0j} n_{1j} n_{1m} p_{1k} - \\delta_{i x} \\delta_{l y} \\partial_k \\tilde{\\varphi} n_{0j} n_{1k} n_{1m} p_{1j} + \\delta_{i x} \\delta_{l y} \\partial_k \\tilde{\\varphi} n_{0k} n_{0m} n_{1j} p_{0j} - \\delta_{i x} \\delta_{l y} \\partial_k \\tilde{\\varphi} n_{0m} n_{1j}^{2} p_{1k} - \\delta_{i x} \\delta_{l y} \\partial_k \\tilde{\\varphi} n_{0m} n_{1j} n_{1k} p_{1j} + \\delta_{i y} \\delta_{l x} \\partial_k \\tilde{\\varphi} n_{0j}^{2} n_{0m} p_{1k} + \\delta_{i y} \\delta_{l x} \\partial_k \\tilde{\\varphi} n_{0j} n_{0k} n_{0m} p_{1j} + \\delta_{i y} \\delta_{l x} \\partial_k \\tilde{\\varphi} n_{0j} n_{0m} n_{1j} p_{0k} + \\delta_{i y} \\delta_{l x} \\partial_k \\tilde{\\varphi} n_{0j} n_{0m} n_{1k} p_{0j} - \\delta_{i y} \\delta_{l x} \\partial_k \\tilde{\\varphi} n_{0j} n_{1j} n_{1m} p_{1k} - \\delta_{i y} \\delta_{l x} \\partial_k \\tilde{\\varphi} n_{0k} n_{1j} n_{1m} p_{1j} - \\delta_{i y} \\delta_{l x} \\partial_k \\tilde{\\varphi} n_{1j}^{2} n_{1m} p_{0k} - \\delta_{i y} \\delta_{l x} \\partial_k \\tilde{\\varphi} n_{1j} n_{1k} n_{1m} p_{0j} + \\delta_{i y} \\delta_{l y} \\partial_k \\tilde{\\varphi} n_{0j}^{2} n_{1m} p_{1k} + \\delta_{i y} \\delta_{l y} \\partial_k \\tilde{\\varphi} n_{0j} n_{0k} n_{1m} p_{1j} + \\delta_{i y} \\delta_{l y} \\partial_k \\tilde{\\varphi} n_{0j} n_{0m} n_{1j} p_{1k} + \\delta_{i y} \\delta_{l y} \\partial_k \\tilde{\\varphi} n_{0j} n_{1j} n_{1m} p_{0k} + \\delta_{i y} \\delta_{l y} \\partial_k \\tilde{\\varphi} n_{0j} n_{1k} n_{1m} p_{0j} + \\delta_{i y} \\delta_{l y} \\partial_k \\tilde{\\varphi} n_{0k} n_{0m} n_{1j} p_{1j} + \\delta_{i y} \\delta_{l y} \\partial_k \\tilde{\\varphi} n_{0m} n_{1j}^{2} p_{0k} + \\delta_{i y} \\delta_{l y} \\partial_k \\tilde{\\varphi} n_{0m} n_{1j} n_{1k} p_{0j} + \\delta_{l x} \\partial_i \\tilde{\\varphi} n_{0j}^{2} n_{0m} p_{0x} + \\delta_{l x} \\partial_i \\tilde{\\varphi} n_{0j}^{2} n_{0m} p_{1y} + \\delta_{l x} \\partial_i \\tilde{\\varphi} n_{0j} n_{0m} n_{0x} p_{0j} + \\delta_{l x} \\partial_i \\tilde{\\varphi} n_{0j} n_{0m} n_{0y} p_{1j} + \\delta_{l x} \\partial_i \\tilde{\\varphi} n_{0j} n_{0m} n_{1j} p_{0y} - \\delta_{l x} \\partial_i \\tilde{\\varphi} n_{0j} n_{0m} n_{1j} p_{1x} - \\delta_{l x} \\partial_i \\tilde{\\varphi} n_{0j} n_{0m} n_{1x} p_{1j} + \\delta_{l x} \\partial_i \\tilde{\\varphi} n_{0j} n_{0m} n_{1y} p_{0j} - \\delta_{l x} \\partial_i \\tilde{\\varphi} n_{0j} n_{1j} n_{1m} p_{0x} - \\delta_{l x} \\partial_i \\tilde{\\varphi} n_{0j} n_{1j} n_{1m} p_{1y} - \\delta_{l x} \\partial_i \\tilde{\\varphi} n_{0x} n_{1j} n_{1m} p_{0j} - \\delta_{l x} \\partial_i \\tilde{\\varphi} n_{0y} n_{1j} n_{1m} p_{1j} - \\delta_{l x} \\partial_i \\tilde{\\varphi} n_{1j}^{2} n_{1m} p_{0y} + \\delta_{l x} \\partial_i \\tilde{\\varphi} n_{1j}^{2} n_{1m} p_{1x} + \\delta_{l x} \\partial_i \\tilde{\\varphi} n_{1j} n_{1m} n_{1x} p_{1j} - \\delta_{l x} \\partial_i \\tilde{\\varphi} n_{1j} n_{1m} n_{1y} p_{0j} + \\delta_{l y} \\partial_i \\tilde{\\varphi} n_{0j}^{2} n_{1m} p_{0x} + \\delta_{l y} \\partial_i \\tilde{\\varphi} n_{0j}^{2} n_{1m} p_{1y} + \\delta_{l y} \\partial_i \\tilde{\\varphi} n_{0j} n_{0m} n_{1j} p_{0x} + \\delta_{l y} \\partial_i \\tilde{\\varphi} n_{0j} n_{0m} n_{1j} p_{1y} + \\delta_{l y} \\partial_i \\tilde{\\varphi} n_{0j} n_{0x} n_{1m} p_{0j} + \\delta_{l y} \\partial_i \\tilde{\\varphi} n_{0j} n_{0y} n_{1m} p_{1j} + \\delta_{l y} \\partial_i \\tilde{\\varphi} n_{0j} n_{1j} n_{1m} p_{0y} - \\delta_{l y} \\partial_i \\tilde{\\varphi} n_{0j} n_{1j} n_{1m} p_{1x} - \\delta_{l y} \\partial_i \\tilde{\\varphi} n_{0j} n_{1m} n_{1x} p_{1j} + \\delta_{l y} \\partial_i \\tilde{\\varphi} n_{0j} n_{1m} n_{1y} p_{0j} + \\delta_{l y} \\partial_i \\tilde{\\varphi} n_{0m} n_{0x} n_{1j} p_{0j} + \\delta_{l y} \\partial_i \\tilde{\\varphi} n_{0m} n_{0y} n_{1j} p_{1j} + \\delta_{l y} \\partial_i \\tilde{\\varphi} n_{0m} n_{1j}^{2} p_{0y} - \\delta_{l y} \\partial_i \\tilde{\\varphi} n_{0m} n_{1j}^{2} p_{1x} - \\delta_{l y} \\partial_i \\tilde{\\varphi} n_{0m} n_{1j} n_{1x} p_{1j} + \\delta_{l y} \\partial_i \\tilde{\\varphi} n_{0m} n_{1j} n_{1y} p_{0j}$"
      ],
      "text/plain": [
       "\\delta_{i x}*\\delta_{l x}*\\partial_k \\tilde{\\varphi}*n_{0j}**2*n_{0m}*p_{0k} + \\delta_{i x}*\\delta_{l x}*\\partial_k \\tilde{\\varphi}*n_{0j}*n_{0k}*n_{0m}*p_{0j} - \\delta_{i x}*\\delta_{l x}*\\partial_k \\tilde{\\varphi}*n_{0j}*n_{0m}*n_{1j}*p_{1k} - \\delta_{i x}*\\delta_{l x}*\\partial_k \\tilde{\\varphi}*n_{0j}*n_{0m}*n_{1k}*p_{1j} - \\delta_{i x}*\\delta_{l x}*\\partial_k \\tilde{\\varphi}*n_{0j}*n_{1j}*n_{1m}*p_{0k} - \\delta_{i x}*\\delta_{l x}*\\partial_k \\tilde{\\varphi}*n_{0k}*n_{1j}*n_{1m}*p_{0j} + \\delta_{i x}*\\delta_{l x}*\\partial_k \\tilde{\\varphi}*n_{1j}**2*n_{1m}*p_{1k} + \\delta_{i x}*\\delta_{l x}*\\partial_k \\tilde{\\varphi}*n_{1j}*n_{1k}*n_{1m}*p_{1j} + \\delta_{i x}*\\delta_{l y}*\\partial_k \\tilde{\\varphi}*n_{0j}**2*n_{1m}*p_{0k} + \\delta_{i x}*\\delta_{l y}*\\partial_k \\tilde{\\varphi}*n_{0j}*n_{0k}*n_{1m}*p_{0j} + \\delta_{i x}*\\delta_{l y}*\\partial_k \\tilde{\\varphi}*n_{0j}*n_{0m}*n_{1j}*p_{0k} - \\delta_{i x}*\\delta_{l y}*\\partial_k \\tilde{\\varphi}*n_{0j}*n_{1j}*n_{1m}*p_{1k} - \\delta_{i x}*\\delta_{l y}*\\partial_k \\tilde{\\varphi}*n_{0j}*n_{1k}*n_{1m}*p_{1j} + \\delta_{i x}*\\delta_{l y}*\\partial_k \\tilde{\\varphi}*n_{0k}*n_{0m}*n_{1j}*p_{0j} - \\delta_{i x}*\\delta_{l y}*\\partial_k \\tilde{\\varphi}*n_{0m}*n_{1j}**2*p_{1k} - \\delta_{i x}*\\delta_{l y}*\\partial_k \\tilde{\\varphi}*n_{0m}*n_{1j}*n_{1k}*p_{1j} + \\delta_{i y}*\\delta_{l x}*\\partial_k \\tilde{\\varphi}*n_{0j}**2*n_{0m}*p_{1k} + \\delta_{i y}*\\delta_{l x}*\\partial_k \\tilde{\\varphi}*n_{0j}*n_{0k}*n_{0m}*p_{1j} + \\delta_{i y}*\\delta_{l x}*\\partial_k \\tilde{\\varphi}*n_{0j}*n_{0m}*n_{1j}*p_{0k} + \\delta_{i y}*\\delta_{l x}*\\partial_k \\tilde{\\varphi}*n_{0j}*n_{0m}*n_{1k}*p_{0j} - \\delta_{i y}*\\delta_{l x}*\\partial_k \\tilde{\\varphi}*n_{0j}*n_{1j}*n_{1m}*p_{1k} - \\delta_{i y}*\\delta_{l x}*\\partial_k \\tilde{\\varphi}*n_{0k}*n_{1j}*n_{1m}*p_{1j} - \\delta_{i y}*\\delta_{l x}*\\partial_k \\tilde{\\varphi}*n_{1j}**2*n_{1m}*p_{0k} - \\delta_{i y}*\\delta_{l x}*\\partial_k \\tilde{\\varphi}*n_{1j}*n_{1k}*n_{1m}*p_{0j} + \\delta_{i y}*\\delta_{l y}*\\partial_k \\tilde{\\varphi}*n_{0j}**2*n_{1m}*p_{1k} + \\delta_{i y}*\\delta_{l y}*\\partial_k \\tilde{\\varphi}*n_{0j}*n_{0k}*n_{1m}*p_{1j} + \\delta_{i y}*\\delta_{l y}*\\partial_k \\tilde{\\varphi}*n_{0j}*n_{0m}*n_{1j}*p_{1k} + \\delta_{i y}*\\delta_{l y}*\\partial_k \\tilde{\\varphi}*n_{0j}*n_{1j}*n_{1m}*p_{0k} + \\delta_{i y}*\\delta_{l y}*\\partial_k \\tilde{\\varphi}*n_{0j}*n_{1k}*n_{1m}*p_{0j} + \\delta_{i y}*\\delta_{l y}*\\partial_k \\tilde{\\varphi}*n_{0k}*n_{0m}*n_{1j}*p_{1j} + \\delta_{i y}*\\delta_{l y}*\\partial_k \\tilde{\\varphi}*n_{0m}*n_{1j}**2*p_{0k} + \\delta_{i y}*\\delta_{l y}*\\partial_k \\tilde{\\varphi}*n_{0m}*n_{1j}*n_{1k}*p_{0j} + \\delta_{l x}*\\partial_i \\tilde{\\varphi}*n_{0j}**2*n_{0m}*p_{0x} + \\delta_{l x}*\\partial_i \\tilde{\\varphi}*n_{0j}**2*n_{0m}*p_{1y} + \\delta_{l x}*\\partial_i \\tilde{\\varphi}*n_{0j}*n_{0m}*n_{0x}*p_{0j} + \\delta_{l x}*\\partial_i \\tilde{\\varphi}*n_{0j}*n_{0m}*n_{0y}*p_{1j} + \\delta_{l x}*\\partial_i \\tilde{\\varphi}*n_{0j}*n_{0m}*n_{1j}*p_{0y} - \\delta_{l x}*\\partial_i \\tilde{\\varphi}*n_{0j}*n_{0m}*n_{1j}*p_{1x} - \\delta_{l x}*\\partial_i \\tilde{\\varphi}*n_{0j}*n_{0m}*n_{1x}*p_{1j} + \\delta_{l x}*\\partial_i \\tilde{\\varphi}*n_{0j}*n_{0m}*n_{1y}*p_{0j} - \\delta_{l x}*\\partial_i \\tilde{\\varphi}*n_{0j}*n_{1j}*n_{1m}*p_{0x} - \\delta_{l x}*\\partial_i \\tilde{\\varphi}*n_{0j}*n_{1j}*n_{1m}*p_{1y} - \\delta_{l x}*\\partial_i \\tilde{\\varphi}*n_{0x}*n_{1j}*n_{1m}*p_{0j} - \\delta_{l x}*\\partial_i \\tilde{\\varphi}*n_{0y}*n_{1j}*n_{1m}*p_{1j} - \\delta_{l x}*\\partial_i \\tilde{\\varphi}*n_{1j}**2*n_{1m}*p_{0y} + \\delta_{l x}*\\partial_i \\tilde{\\varphi}*n_{1j}**2*n_{1m}*p_{1x} + \\delta_{l x}*\\partial_i \\tilde{\\varphi}*n_{1j}*n_{1m}*n_{1x}*p_{1j} - \\delta_{l x}*\\partial_i \\tilde{\\varphi}*n_{1j}*n_{1m}*n_{1y}*p_{0j} + \\delta_{l y}*\\partial_i \\tilde{\\varphi}*n_{0j}**2*n_{1m}*p_{0x} + \\delta_{l y}*\\partial_i \\tilde{\\varphi}*n_{0j}**2*n_{1m}*p_{1y} + \\delta_{l y}*\\partial_i \\tilde{\\varphi}*n_{0j}*n_{0m}*n_{1j}*p_{0x} + \\delta_{l y}*\\partial_i \\tilde{\\varphi}*n_{0j}*n_{0m}*n_{1j}*p_{1y} + \\delta_{l y}*\\partial_i \\tilde{\\varphi}*n_{0j}*n_{0x}*n_{1m}*p_{0j} + \\delta_{l y}*\\partial_i \\tilde{\\varphi}*n_{0j}*n_{0y}*n_{1m}*p_{1j} + \\delta_{l y}*\\partial_i \\tilde{\\varphi}*n_{0j}*n_{1j}*n_{1m}*p_{0y} - \\delta_{l y}*\\partial_i \\tilde{\\varphi}*n_{0j}*n_{1j}*n_{1m}*p_{1x} - \\delta_{l y}*\\partial_i \\tilde{\\varphi}*n_{0j}*n_{1m}*n_{1x}*p_{1j} + \\delta_{l y}*\\partial_i \\tilde{\\varphi}*n_{0j}*n_{1m}*n_{1y}*p_{0j} + \\delta_{l y}*\\partial_i \\tilde{\\varphi}*n_{0m}*n_{0x}*n_{1j}*p_{0j} + \\delta_{l y}*\\partial_i \\tilde{\\varphi}*n_{0m}*n_{0y}*n_{1j}*p_{1j} + \\delta_{l y}*\\partial_i \\tilde{\\varphi}*n_{0m}*n_{1j}**2*p_{0y} - \\delta_{l y}*\\partial_i \\tilde{\\varphi}*n_{0m}*n_{1j}**2*p_{1x} - \\delta_{l y}*\\partial_i \\tilde{\\varphi}*n_{0m}*n_{1j}*n_{1x}*p_{1j} + \\delta_{l y}*\\partial_i \\tilde{\\varphi}*n_{0m}*n_{1j}*n_{1y}*p_{0j}"
      ]
     },
     "metadata": {},
     "output_type": "display_data"
    }
   ],
   "source": [
    "expr = expand(expr)\n",
    "\n",
    "display(expr)"
   ]
  },
  {
   "cell_type": "markdown",
   "id": "69b8d635-2be8-4538-afc1-58a4eb050e24",
   "metadata": {},
   "source": [
    "### Simplify"
   ]
  },
  {
   "cell_type": "code",
   "execution_count": 102,
   "id": "bfa1255b-8285-4f37-97b6-b4463a5566d2",
   "metadata": {},
   "outputs": [
    {
     "data": {
      "text/latex": [
       "$\\displaystyle - \\Omega_{\\alpha} \\delta_{i x} \\delta_{l x} \\partial_k \\tilde{\\varphi} n_{0k} n_{1m} q_{\\alpha} + \\Omega_{\\alpha} \\delta_{i x} \\delta_{l x} \\partial_k \\tilde{\\varphi} n_{0m} n_{1k} q_{\\alpha} + \\Omega_{\\alpha} \\delta_{i x} \\delta_{l y} \\partial_k \\tilde{\\varphi} n_{0k} n_{0m} q_{\\alpha} + \\Omega_{\\alpha} \\delta_{i x} \\delta_{l y} \\partial_k \\tilde{\\varphi} n_{1k} n_{1m} q_{\\alpha} - \\Omega_{\\alpha} \\delta_{i y} \\delta_{l x} \\partial_k \\tilde{\\varphi} n_{0k} n_{0m} q_{\\alpha} - \\Omega_{\\alpha} \\delta_{i y} \\delta_{l x} \\partial_k \\tilde{\\varphi} n_{1k} n_{1m} q_{\\alpha} - \\Omega_{\\alpha} \\delta_{i y} \\delta_{l y} \\partial_k \\tilde{\\varphi} n_{0k} n_{1m} q_{\\alpha} + \\Omega_{\\alpha} \\delta_{i y} \\delta_{l y} \\partial_k \\tilde{\\varphi} n_{0m} n_{1k} q_{\\alpha} - \\Omega_{\\alpha} \\delta_{l x} \\partial_i \\tilde{\\varphi} n_{0m} n_{0y} q_{\\alpha} + \\Omega_{\\alpha} \\delta_{l x} \\partial_i \\tilde{\\varphi} n_{0m} n_{1x} q_{\\alpha} - \\Omega_{\\alpha} \\delta_{l x} \\partial_i \\tilde{\\varphi} n_{0x} n_{1m} q_{\\alpha} - \\Omega_{\\alpha} \\delta_{l x} \\partial_i \\tilde{\\varphi} n_{1m} n_{1y} q_{\\alpha} + \\Omega_{\\alpha} \\delta_{l y} \\partial_i \\tilde{\\varphi} n_{0m} n_{0x} q_{\\alpha} + \\Omega_{\\alpha} \\delta_{l y} \\partial_i \\tilde{\\varphi} n_{0m} n_{1y} q_{\\alpha} - \\Omega_{\\alpha} \\delta_{l y} \\partial_i \\tilde{\\varphi} n_{0y} n_{1m} q_{\\alpha} + \\Omega_{\\alpha} \\delta_{l y} \\partial_i \\tilde{\\varphi} n_{1m} n_{1x} q_{\\alpha} + \\delta_{i x} \\delta_{l x} \\partial_k \\tilde{\\varphi} n_{0m} p_{0k} + \\delta_{i x} \\delta_{l x} \\partial_k \\tilde{\\varphi} n_{1m} p_{1k} - \\delta_{i x} \\delta_{l y} \\partial_k \\tilde{\\varphi} n_{0m} p_{1k} + \\delta_{i x} \\delta_{l y} \\partial_k \\tilde{\\varphi} n_{1m} p_{0k} + \\delta_{i y} \\delta_{l x} \\partial_k \\tilde{\\varphi} n_{0m} p_{1k} - \\delta_{i y} \\delta_{l x} \\partial_k \\tilde{\\varphi} n_{1m} p_{0k} + \\delta_{i y} \\delta_{l y} \\partial_k \\tilde{\\varphi} n_{0m} p_{0k} + \\delta_{i y} \\delta_{l y} \\partial_k \\tilde{\\varphi} n_{1m} p_{1k} + \\delta_{l x} \\partial_i \\tilde{\\varphi} n_{0m} p_{0x} + \\delta_{l x} \\partial_i \\tilde{\\varphi} n_{0m} p_{1y} - \\delta_{l x} \\partial_i \\tilde{\\varphi} n_{1m} p_{0y} + \\delta_{l x} \\partial_i \\tilde{\\varphi} n_{1m} p_{1x} + \\delta_{l y} \\partial_i \\tilde{\\varphi} n_{0m} p_{0y} - \\delta_{l y} \\partial_i \\tilde{\\varphi} n_{0m} p_{1x} + \\delta_{l y} \\partial_i \\tilde{\\varphi} n_{1m} p_{0x} + \\delta_{l y} \\partial_i \\tilde{\\varphi} n_{1m} p_{1y}$"
      ],
      "text/plain": [
       "-\\Omega_{\\alpha}*\\delta_{i x}*\\delta_{l x}*\\partial_k \\tilde{\\varphi}*n_{0k}*n_{1m}*q_{\\alpha} + \\Omega_{\\alpha}*\\delta_{i x}*\\delta_{l x}*\\partial_k \\tilde{\\varphi}*n_{0m}*n_{1k}*q_{\\alpha} + \\Omega_{\\alpha}*\\delta_{i x}*\\delta_{l y}*\\partial_k \\tilde{\\varphi}*n_{0k}*n_{0m}*q_{\\alpha} + \\Omega_{\\alpha}*\\delta_{i x}*\\delta_{l y}*\\partial_k \\tilde{\\varphi}*n_{1k}*n_{1m}*q_{\\alpha} - \\Omega_{\\alpha}*\\delta_{i y}*\\delta_{l x}*\\partial_k \\tilde{\\varphi}*n_{0k}*n_{0m}*q_{\\alpha} - \\Omega_{\\alpha}*\\delta_{i y}*\\delta_{l x}*\\partial_k \\tilde{\\varphi}*n_{1k}*n_{1m}*q_{\\alpha} - \\Omega_{\\alpha}*\\delta_{i y}*\\delta_{l y}*\\partial_k \\tilde{\\varphi}*n_{0k}*n_{1m}*q_{\\alpha} + \\Omega_{\\alpha}*\\delta_{i y}*\\delta_{l y}*\\partial_k \\tilde{\\varphi}*n_{0m}*n_{1k}*q_{\\alpha} - \\Omega_{\\alpha}*\\delta_{l x}*\\partial_i \\tilde{\\varphi}*n_{0m}*n_{0y}*q_{\\alpha} + \\Omega_{\\alpha}*\\delta_{l x}*\\partial_i \\tilde{\\varphi}*n_{0m}*n_{1x}*q_{\\alpha} - \\Omega_{\\alpha}*\\delta_{l x}*\\partial_i \\tilde{\\varphi}*n_{0x}*n_{1m}*q_{\\alpha} - \\Omega_{\\alpha}*\\delta_{l x}*\\partial_i \\tilde{\\varphi}*n_{1m}*n_{1y}*q_{\\alpha} + \\Omega_{\\alpha}*\\delta_{l y}*\\partial_i \\tilde{\\varphi}*n_{0m}*n_{0x}*q_{\\alpha} + \\Omega_{\\alpha}*\\delta_{l y}*\\partial_i \\tilde{\\varphi}*n_{0m}*n_{1y}*q_{\\alpha} - \\Omega_{\\alpha}*\\delta_{l y}*\\partial_i \\tilde{\\varphi}*n_{0y}*n_{1m}*q_{\\alpha} + \\Omega_{\\alpha}*\\delta_{l y}*\\partial_i \\tilde{\\varphi}*n_{1m}*n_{1x}*q_{\\alpha} + \\delta_{i x}*\\delta_{l x}*\\partial_k \\tilde{\\varphi}*n_{0m}*p_{0k} + \\delta_{i x}*\\delta_{l x}*\\partial_k \\tilde{\\varphi}*n_{1m}*p_{1k} - \\delta_{i x}*\\delta_{l y}*\\partial_k \\tilde{\\varphi}*n_{0m}*p_{1k} + \\delta_{i x}*\\delta_{l y}*\\partial_k \\tilde{\\varphi}*n_{1m}*p_{0k} + \\delta_{i y}*\\delta_{l x}*\\partial_k \\tilde{\\varphi}*n_{0m}*p_{1k} - \\delta_{i y}*\\delta_{l x}*\\partial_k \\tilde{\\varphi}*n_{1m}*p_{0k} + \\delta_{i y}*\\delta_{l y}*\\partial_k \\tilde{\\varphi}*n_{0m}*p_{0k} + \\delta_{i y}*\\delta_{l y}*\\partial_k \\tilde{\\varphi}*n_{1m}*p_{1k} + \\delta_{l x}*\\partial_i \\tilde{\\varphi}*n_{0m}*p_{0x} + \\delta_{l x}*\\partial_i \\tilde{\\varphi}*n_{0m}*p_{1y} - \\delta_{l x}*\\partial_i \\tilde{\\varphi}*n_{1m}*p_{0y} + \\delta_{l x}*\\partial_i \\tilde{\\varphi}*n_{1m}*p_{1x} + \\delta_{l y}*\\partial_i \\tilde{\\varphi}*n_{0m}*p_{0y} - \\delta_{l y}*\\partial_i \\tilde{\\varphi}*n_{0m}*p_{1x} + \\delta_{l y}*\\partial_i \\tilde{\\varphi}*n_{1m}*p_{0x} + \\delta_{l y}*\\partial_i \\tilde{\\varphi}*n_{1m}*p_{1y}"
      ]
     },
     "metadata": {},
     "output_type": "display_data"
    }
   ],
   "source": [
    "dot_expr = simplify( expr.subs(dot_subs) )\n",
    "\n",
    "display(dot_expr)"
   ]
  },
  {
   "cell_type": "code",
   "execution_count": 103,
   "id": "19aa2987-82cf-4809-86c5-80ce709b477b",
   "metadata": {},
   "outputs": [
    {
     "data": {
      "text/latex": [
       "$\\displaystyle - \\Omega_{\\alpha} \\delta_{i x} \\delta_{l x} \\partial_k \\tilde{\\varphi} n_{0k} n_{1m} q_{\\alpha} + \\Omega_{\\alpha} \\delta_{i x} \\delta_{l x} \\partial_k \\tilde{\\varphi} n_{0m} n_{1k} q_{\\alpha} + \\Omega_{\\alpha} \\delta_{i x} \\delta_{l y} \\partial_k \\tilde{\\varphi} n_{0k} n_{0m} q_{\\alpha} + \\Omega_{\\alpha} \\delta_{i x} \\delta_{l y} \\partial_k \\tilde{\\varphi} n_{1k} n_{1m} q_{\\alpha} - \\Omega_{\\alpha} \\delta_{i y} \\delta_{l x} \\partial_k \\tilde{\\varphi} n_{0k} n_{0m} q_{\\alpha} - \\Omega_{\\alpha} \\delta_{i y} \\delta_{l x} \\partial_k \\tilde{\\varphi} n_{1k} n_{1m} q_{\\alpha} - \\Omega_{\\alpha} \\delta_{i y} \\delta_{l y} \\partial_k \\tilde{\\varphi} n_{0k} n_{1m} q_{\\alpha} + \\Omega_{\\alpha} \\delta_{i y} \\delta_{l y} \\partial_k \\tilde{\\varphi} n_{0m} n_{1k} q_{\\alpha} - \\Omega_{\\alpha} \\delta_{l x} \\partial_i \\tilde{\\varphi} n_{0m} n_{0y} q_{\\alpha} + \\Omega_{\\alpha} \\delta_{l x} \\partial_i \\tilde{\\varphi} n_{0m} n_{1x} q_{\\alpha} - \\Omega_{\\alpha} \\delta_{l x} \\partial_i \\tilde{\\varphi} n_{0x} n_{1m} q_{\\alpha} - \\Omega_{\\alpha} \\delta_{l x} \\partial_i \\tilde{\\varphi} n_{1m} n_{1y} q_{\\alpha} + \\Omega_{\\alpha} \\delta_{l y} \\partial_i \\tilde{\\varphi} n_{0m} n_{0x} q_{\\alpha} + \\Omega_{\\alpha} \\delta_{l y} \\partial_i \\tilde{\\varphi} n_{0m} n_{1y} q_{\\alpha} - \\Omega_{\\alpha} \\delta_{l y} \\partial_i \\tilde{\\varphi} n_{0y} n_{1m} q_{\\alpha} + \\Omega_{\\alpha} \\delta_{l y} \\partial_i \\tilde{\\varphi} n_{1m} n_{1x} q_{\\alpha} + \\delta_{i x} \\delta_{l x} \\partial_k \\tilde{\\varphi} n_{0m} p_{0k} + \\delta_{i x} \\delta_{l x} \\partial_k \\tilde{\\varphi} n_{1m} p_{1k} - \\delta_{i x} \\delta_{l y} \\partial_k \\tilde{\\varphi} n_{0m} p_{1k} + \\delta_{i x} \\delta_{l y} \\partial_k \\tilde{\\varphi} n_{1m} p_{0k} + \\delta_{i y} \\delta_{l x} \\partial_k \\tilde{\\varphi} n_{0m} p_{1k} - \\delta_{i y} \\delta_{l x} \\partial_k \\tilde{\\varphi} n_{1m} p_{0k} + \\delta_{i y} \\delta_{l y} \\partial_k \\tilde{\\varphi} n_{0m} p_{0k} + \\delta_{i y} \\delta_{l y} \\partial_k \\tilde{\\varphi} n_{1m} p_{1k} + \\delta_{l x} \\partial_i \\tilde{\\varphi} n_{0m} p_{0x} + \\delta_{l x} \\partial_i \\tilde{\\varphi} n_{0m} p_{1y} - \\delta_{l x} \\partial_i \\tilde{\\varphi} n_{1m} p_{0y} + \\delta_{l x} \\partial_i \\tilde{\\varphi} n_{1m} p_{1x} + \\delta_{l y} \\partial_i \\tilde{\\varphi} n_{0m} p_{0y} - \\delta_{l y} \\partial_i \\tilde{\\varphi} n_{0m} p_{1x} + \\delta_{l y} \\partial_i \\tilde{\\varphi} n_{1m} p_{0x} + \\delta_{l y} \\partial_i \\tilde{\\varphi} n_{1m} p_{1y}$"
      ],
      "text/plain": [
       "-\\Omega_{\\alpha}*\\delta_{i x}*\\delta_{l x}*\\partial_k \\tilde{\\varphi}*n_{0k}*n_{1m}*q_{\\alpha} + \\Omega_{\\alpha}*\\delta_{i x}*\\delta_{l x}*\\partial_k \\tilde{\\varphi}*n_{0m}*n_{1k}*q_{\\alpha} + \\Omega_{\\alpha}*\\delta_{i x}*\\delta_{l y}*\\partial_k \\tilde{\\varphi}*n_{0k}*n_{0m}*q_{\\alpha} + \\Omega_{\\alpha}*\\delta_{i x}*\\delta_{l y}*\\partial_k \\tilde{\\varphi}*n_{1k}*n_{1m}*q_{\\alpha} - \\Omega_{\\alpha}*\\delta_{i y}*\\delta_{l x}*\\partial_k \\tilde{\\varphi}*n_{0k}*n_{0m}*q_{\\alpha} - \\Omega_{\\alpha}*\\delta_{i y}*\\delta_{l x}*\\partial_k \\tilde{\\varphi}*n_{1k}*n_{1m}*q_{\\alpha} - \\Omega_{\\alpha}*\\delta_{i y}*\\delta_{l y}*\\partial_k \\tilde{\\varphi}*n_{0k}*n_{1m}*q_{\\alpha} + \\Omega_{\\alpha}*\\delta_{i y}*\\delta_{l y}*\\partial_k \\tilde{\\varphi}*n_{0m}*n_{1k}*q_{\\alpha} - \\Omega_{\\alpha}*\\delta_{l x}*\\partial_i \\tilde{\\varphi}*n_{0m}*n_{0y}*q_{\\alpha} + \\Omega_{\\alpha}*\\delta_{l x}*\\partial_i \\tilde{\\varphi}*n_{0m}*n_{1x}*q_{\\alpha} - \\Omega_{\\alpha}*\\delta_{l x}*\\partial_i \\tilde{\\varphi}*n_{0x}*n_{1m}*q_{\\alpha} - \\Omega_{\\alpha}*\\delta_{l x}*\\partial_i \\tilde{\\varphi}*n_{1m}*n_{1y}*q_{\\alpha} + \\Omega_{\\alpha}*\\delta_{l y}*\\partial_i \\tilde{\\varphi}*n_{0m}*n_{0x}*q_{\\alpha} + \\Omega_{\\alpha}*\\delta_{l y}*\\partial_i \\tilde{\\varphi}*n_{0m}*n_{1y}*q_{\\alpha} - \\Omega_{\\alpha}*\\delta_{l y}*\\partial_i \\tilde{\\varphi}*n_{0y}*n_{1m}*q_{\\alpha} + \\Omega_{\\alpha}*\\delta_{l y}*\\partial_i \\tilde{\\varphi}*n_{1m}*n_{1x}*q_{\\alpha} + \\delta_{i x}*\\delta_{l x}*\\partial_k \\tilde{\\varphi}*n_{0m}*p_{0k} + \\delta_{i x}*\\delta_{l x}*\\partial_k \\tilde{\\varphi}*n_{1m}*p_{1k} - \\delta_{i x}*\\delta_{l y}*\\partial_k \\tilde{\\varphi}*n_{0m}*p_{1k} + \\delta_{i x}*\\delta_{l y}*\\partial_k \\tilde{\\varphi}*n_{1m}*p_{0k} + \\delta_{i y}*\\delta_{l x}*\\partial_k \\tilde{\\varphi}*n_{0m}*p_{1k} - \\delta_{i y}*\\delta_{l x}*\\partial_k \\tilde{\\varphi}*n_{1m}*p_{0k} + \\delta_{i y}*\\delta_{l y}*\\partial_k \\tilde{\\varphi}*n_{0m}*p_{0k} + \\delta_{i y}*\\delta_{l y}*\\partial_k \\tilde{\\varphi}*n_{1m}*p_{1k} + \\delta_{l x}*\\partial_i \\tilde{\\varphi}*n_{0m}*p_{0x} + \\delta_{l x}*\\partial_i \\tilde{\\varphi}*n_{0m}*p_{1y} - \\delta_{l x}*\\partial_i \\tilde{\\varphi}*n_{1m}*p_{0y} + \\delta_{l x}*\\partial_i \\tilde{\\varphi}*n_{1m}*p_{1x} + \\delta_{l y}*\\partial_i \\tilde{\\varphi}*n_{0m}*p_{0y} - \\delta_{l y}*\\partial_i \\tilde{\\varphi}*n_{0m}*p_{1x} + \\delta_{l y}*\\partial_i \\tilde{\\varphi}*n_{1m}*p_{0x} + \\delta_{l y}*\\partial_i \\tilde{\\varphi}*n_{1m}*p_{1y}"
      ]
     },
     "metadata": {},
     "output_type": "display_data"
    }
   ],
   "source": [
    "cross_expr = dot_expr.subs(cross_subs)\n",
    "\n",
    "display(cross_expr)"
   ]
  },
  {
   "cell_type": "code",
   "execution_count": 104,
   "id": "e7870c89-1141-4cde-9599-da174e0e22f9",
   "metadata": {},
   "outputs": [],
   "source": [
    "delta_cross_subs = {dx[i]: dz[gamma]*dy[m] - dy[gamma]*dz[m],\n",
    "                    dy[i]: dx[gamma]*dz[m] - dz[gamma]*dx[m]}"
   ]
  },
  {
   "cell_type": "code",
   "execution_count": 105,
   "id": "9a731df9-3c7e-4108-bf7c-72113b0ec512",
   "metadata": {},
   "outputs": [
    {
     "data": {
      "text/latex": [
       "$\\displaystyle - \\Omega_{\\alpha} \\delta_{\\gamma x} \\delta_{l x} \\delta_{m z} \\partial_k \\tilde{\\varphi} n_{0k} n_{0m} q_{\\alpha} - \\Omega_{\\alpha} \\delta_{\\gamma x} \\delta_{l x} \\delta_{m z} \\partial_k \\tilde{\\varphi} n_{1k} n_{1m} q_{\\alpha} - \\Omega_{\\alpha} \\delta_{\\gamma x} \\delta_{l y} \\delta_{m z} \\partial_k \\tilde{\\varphi} n_{0k} n_{1m} q_{\\alpha} + \\Omega_{\\alpha} \\delta_{\\gamma x} \\delta_{l y} \\delta_{m z} \\partial_k \\tilde{\\varphi} n_{0m} n_{1k} q_{\\alpha} + \\Omega_{\\alpha} \\delta_{\\gamma y} \\delta_{l x} \\delta_{m z} \\partial_k \\tilde{\\varphi} n_{0k} n_{1m} q_{\\alpha} - \\Omega_{\\alpha} \\delta_{\\gamma y} \\delta_{l x} \\delta_{m z} \\partial_k \\tilde{\\varphi} n_{0m} n_{1k} q_{\\alpha} - \\Omega_{\\alpha} \\delta_{\\gamma y} \\delta_{l y} \\delta_{m z} \\partial_k \\tilde{\\varphi} n_{0k} n_{0m} q_{\\alpha} - \\Omega_{\\alpha} \\delta_{\\gamma y} \\delta_{l y} \\delta_{m z} \\partial_k \\tilde{\\varphi} n_{1k} n_{1m} q_{\\alpha} + \\Omega_{\\alpha} \\delta_{\\gamma z} \\delta_{l x} \\delta_{m x} \\partial_k \\tilde{\\varphi} n_{0k} n_{0m} q_{\\alpha} + \\Omega_{\\alpha} \\delta_{\\gamma z} \\delta_{l x} \\delta_{m x} \\partial_k \\tilde{\\varphi} n_{1k} n_{1m} q_{\\alpha} - \\Omega_{\\alpha} \\delta_{\\gamma z} \\delta_{l x} \\delta_{m y} \\partial_k \\tilde{\\varphi} n_{0k} n_{1m} q_{\\alpha} + \\Omega_{\\alpha} \\delta_{\\gamma z} \\delta_{l x} \\delta_{m y} \\partial_k \\tilde{\\varphi} n_{0m} n_{1k} q_{\\alpha} + \\Omega_{\\alpha} \\delta_{\\gamma z} \\delta_{l y} \\delta_{m x} \\partial_k \\tilde{\\varphi} n_{0k} n_{1m} q_{\\alpha} - \\Omega_{\\alpha} \\delta_{\\gamma z} \\delta_{l y} \\delta_{m x} \\partial_k \\tilde{\\varphi} n_{0m} n_{1k} q_{\\alpha} + \\Omega_{\\alpha} \\delta_{\\gamma z} \\delta_{l y} \\delta_{m y} \\partial_k \\tilde{\\varphi} n_{0k} n_{0m} q_{\\alpha} + \\Omega_{\\alpha} \\delta_{\\gamma z} \\delta_{l y} \\delta_{m y} \\partial_k \\tilde{\\varphi} n_{1k} n_{1m} q_{\\alpha} - \\Omega_{\\alpha} \\delta_{l x} \\partial_i \\tilde{\\varphi} n_{0m} n_{0y} q_{\\alpha} + \\Omega_{\\alpha} \\delta_{l x} \\partial_i \\tilde{\\varphi} n_{0m} n_{1x} q_{\\alpha} - \\Omega_{\\alpha} \\delta_{l x} \\partial_i \\tilde{\\varphi} n_{0x} n_{1m} q_{\\alpha} - \\Omega_{\\alpha} \\delta_{l x} \\partial_i \\tilde{\\varphi} n_{1m} n_{1y} q_{\\alpha} + \\Omega_{\\alpha} \\delta_{l y} \\partial_i \\tilde{\\varphi} n_{0m} n_{0x} q_{\\alpha} + \\Omega_{\\alpha} \\delta_{l y} \\partial_i \\tilde{\\varphi} n_{0m} n_{1y} q_{\\alpha} - \\Omega_{\\alpha} \\delta_{l y} \\partial_i \\tilde{\\varphi} n_{0y} n_{1m} q_{\\alpha} + \\Omega_{\\alpha} \\delta_{l y} \\partial_i \\tilde{\\varphi} n_{1m} n_{1x} q_{\\alpha} + \\delta_{\\gamma x} \\delta_{l x} \\delta_{m z} \\partial_k \\tilde{\\varphi} n_{0m} p_{1k} - \\delta_{\\gamma x} \\delta_{l x} \\delta_{m z} \\partial_k \\tilde{\\varphi} n_{1m} p_{0k} + \\delta_{\\gamma x} \\delta_{l y} \\delta_{m z} \\partial_k \\tilde{\\varphi} n_{0m} p_{0k} + \\delta_{\\gamma x} \\delta_{l y} \\delta_{m z} \\partial_k \\tilde{\\varphi} n_{1m} p_{1k} - \\delta_{\\gamma y} \\delta_{l x} \\delta_{m z} \\partial_k \\tilde{\\varphi} n_{0m} p_{0k} - \\delta_{\\gamma y} \\delta_{l x} \\delta_{m z} \\partial_k \\tilde{\\varphi} n_{1m} p_{1k} + \\delta_{\\gamma y} \\delta_{l y} \\delta_{m z} \\partial_k \\tilde{\\varphi} n_{0m} p_{1k} - \\delta_{\\gamma y} \\delta_{l y} \\delta_{m z} \\partial_k \\tilde{\\varphi} n_{1m} p_{0k} - \\delta_{\\gamma z} \\delta_{l x} \\delta_{m x} \\partial_k \\tilde{\\varphi} n_{0m} p_{1k} + \\delta_{\\gamma z} \\delta_{l x} \\delta_{m x} \\partial_k \\tilde{\\varphi} n_{1m} p_{0k} + \\delta_{\\gamma z} \\delta_{l x} \\delta_{m y} \\partial_k \\tilde{\\varphi} n_{0m} p_{0k} + \\delta_{\\gamma z} \\delta_{l x} \\delta_{m y} \\partial_k \\tilde{\\varphi} n_{1m} p_{1k} - \\delta_{\\gamma z} \\delta_{l y} \\delta_{m x} \\partial_k \\tilde{\\varphi} n_{0m} p_{0k} - \\delta_{\\gamma z} \\delta_{l y} \\delta_{m x} \\partial_k \\tilde{\\varphi} n_{1m} p_{1k} - \\delta_{\\gamma z} \\delta_{l y} \\delta_{m y} \\partial_k \\tilde{\\varphi} n_{0m} p_{1k} + \\delta_{\\gamma z} \\delta_{l y} \\delta_{m y} \\partial_k \\tilde{\\varphi} n_{1m} p_{0k} + \\delta_{l x} \\partial_i \\tilde{\\varphi} n_{0m} p_{0x} + \\delta_{l x} \\partial_i \\tilde{\\varphi} n_{0m} p_{1y} - \\delta_{l x} \\partial_i \\tilde{\\varphi} n_{1m} p_{0y} + \\delta_{l x} \\partial_i \\tilde{\\varphi} n_{1m} p_{1x} + \\delta_{l y} \\partial_i \\tilde{\\varphi} n_{0m} p_{0y} - \\delta_{l y} \\partial_i \\tilde{\\varphi} n_{0m} p_{1x} + \\delta_{l y} \\partial_i \\tilde{\\varphi} n_{1m} p_{0x} + \\delta_{l y} \\partial_i \\tilde{\\varphi} n_{1m} p_{1y}$"
      ],
      "text/plain": [
       "-\\Omega_{\\alpha}*\\delta_{\\gamma x}*\\delta_{l x}*\\delta_{m z}*\\partial_k \\tilde{\\varphi}*n_{0k}*n_{0m}*q_{\\alpha} - \\Omega_{\\alpha}*\\delta_{\\gamma x}*\\delta_{l x}*\\delta_{m z}*\\partial_k \\tilde{\\varphi}*n_{1k}*n_{1m}*q_{\\alpha} - \\Omega_{\\alpha}*\\delta_{\\gamma x}*\\delta_{l y}*\\delta_{m z}*\\partial_k \\tilde{\\varphi}*n_{0k}*n_{1m}*q_{\\alpha} + \\Omega_{\\alpha}*\\delta_{\\gamma x}*\\delta_{l y}*\\delta_{m z}*\\partial_k \\tilde{\\varphi}*n_{0m}*n_{1k}*q_{\\alpha} + \\Omega_{\\alpha}*\\delta_{\\gamma y}*\\delta_{l x}*\\delta_{m z}*\\partial_k \\tilde{\\varphi}*n_{0k}*n_{1m}*q_{\\alpha} - \\Omega_{\\alpha}*\\delta_{\\gamma y}*\\delta_{l x}*\\delta_{m z}*\\partial_k \\tilde{\\varphi}*n_{0m}*n_{1k}*q_{\\alpha} - \\Omega_{\\alpha}*\\delta_{\\gamma y}*\\delta_{l y}*\\delta_{m z}*\\partial_k \\tilde{\\varphi}*n_{0k}*n_{0m}*q_{\\alpha} - \\Omega_{\\alpha}*\\delta_{\\gamma y}*\\delta_{l y}*\\delta_{m z}*\\partial_k \\tilde{\\varphi}*n_{1k}*n_{1m}*q_{\\alpha} + \\Omega_{\\alpha}*\\delta_{\\gamma z}*\\delta_{l x}*\\delta_{m x}*\\partial_k \\tilde{\\varphi}*n_{0k}*n_{0m}*q_{\\alpha} + \\Omega_{\\alpha}*\\delta_{\\gamma z}*\\delta_{l x}*\\delta_{m x}*\\partial_k \\tilde{\\varphi}*n_{1k}*n_{1m}*q_{\\alpha} - \\Omega_{\\alpha}*\\delta_{\\gamma z}*\\delta_{l x}*\\delta_{m y}*\\partial_k \\tilde{\\varphi}*n_{0k}*n_{1m}*q_{\\alpha} + \\Omega_{\\alpha}*\\delta_{\\gamma z}*\\delta_{l x}*\\delta_{m y}*\\partial_k \\tilde{\\varphi}*n_{0m}*n_{1k}*q_{\\alpha} + \\Omega_{\\alpha}*\\delta_{\\gamma z}*\\delta_{l y}*\\delta_{m x}*\\partial_k \\tilde{\\varphi}*n_{0k}*n_{1m}*q_{\\alpha} - \\Omega_{\\alpha}*\\delta_{\\gamma z}*\\delta_{l y}*\\delta_{m x}*\\partial_k \\tilde{\\varphi}*n_{0m}*n_{1k}*q_{\\alpha} + \\Omega_{\\alpha}*\\delta_{\\gamma z}*\\delta_{l y}*\\delta_{m y}*\\partial_k \\tilde{\\varphi}*n_{0k}*n_{0m}*q_{\\alpha} + \\Omega_{\\alpha}*\\delta_{\\gamma z}*\\delta_{l y}*\\delta_{m y}*\\partial_k \\tilde{\\varphi}*n_{1k}*n_{1m}*q_{\\alpha} - \\Omega_{\\alpha}*\\delta_{l x}*\\partial_i \\tilde{\\varphi}*n_{0m}*n_{0y}*q_{\\alpha} + \\Omega_{\\alpha}*\\delta_{l x}*\\partial_i \\tilde{\\varphi}*n_{0m}*n_{1x}*q_{\\alpha} - \\Omega_{\\alpha}*\\delta_{l x}*\\partial_i \\tilde{\\varphi}*n_{0x}*n_{1m}*q_{\\alpha} - \\Omega_{\\alpha}*\\delta_{l x}*\\partial_i \\tilde{\\varphi}*n_{1m}*n_{1y}*q_{\\alpha} + \\Omega_{\\alpha}*\\delta_{l y}*\\partial_i \\tilde{\\varphi}*n_{0m}*n_{0x}*q_{\\alpha} + \\Omega_{\\alpha}*\\delta_{l y}*\\partial_i \\tilde{\\varphi}*n_{0m}*n_{1y}*q_{\\alpha} - \\Omega_{\\alpha}*\\delta_{l y}*\\partial_i \\tilde{\\varphi}*n_{0y}*n_{1m}*q_{\\alpha} + \\Omega_{\\alpha}*\\delta_{l y}*\\partial_i \\tilde{\\varphi}*n_{1m}*n_{1x}*q_{\\alpha} + \\delta_{\\gamma x}*\\delta_{l x}*\\delta_{m z}*\\partial_k \\tilde{\\varphi}*n_{0m}*p_{1k} - \\delta_{\\gamma x}*\\delta_{l x}*\\delta_{m z}*\\partial_k \\tilde{\\varphi}*n_{1m}*p_{0k} + \\delta_{\\gamma x}*\\delta_{l y}*\\delta_{m z}*\\partial_k \\tilde{\\varphi}*n_{0m}*p_{0k} + \\delta_{\\gamma x}*\\delta_{l y}*\\delta_{m z}*\\partial_k \\tilde{\\varphi}*n_{1m}*p_{1k} - \\delta_{\\gamma y}*\\delta_{l x}*\\delta_{m z}*\\partial_k \\tilde{\\varphi}*n_{0m}*p_{0k} - \\delta_{\\gamma y}*\\delta_{l x}*\\delta_{m z}*\\partial_k \\tilde{\\varphi}*n_{1m}*p_{1k} + \\delta_{\\gamma y}*\\delta_{l y}*\\delta_{m z}*\\partial_k \\tilde{\\varphi}*n_{0m}*p_{1k} - \\delta_{\\gamma y}*\\delta_{l y}*\\delta_{m z}*\\partial_k \\tilde{\\varphi}*n_{1m}*p_{0k} - \\delta_{\\gamma z}*\\delta_{l x}*\\delta_{m x}*\\partial_k \\tilde{\\varphi}*n_{0m}*p_{1k} + \\delta_{\\gamma z}*\\delta_{l x}*\\delta_{m x}*\\partial_k \\tilde{\\varphi}*n_{1m}*p_{0k} + \\delta_{\\gamma z}*\\delta_{l x}*\\delta_{m y}*\\partial_k \\tilde{\\varphi}*n_{0m}*p_{0k} + \\delta_{\\gamma z}*\\delta_{l x}*\\delta_{m y}*\\partial_k \\tilde{\\varphi}*n_{1m}*p_{1k} - \\delta_{\\gamma z}*\\delta_{l y}*\\delta_{m x}*\\partial_k \\tilde{\\varphi}*n_{0m}*p_{0k} - \\delta_{\\gamma z}*\\delta_{l y}*\\delta_{m x}*\\partial_k \\tilde{\\varphi}*n_{1m}*p_{1k} - \\delta_{\\gamma z}*\\delta_{l y}*\\delta_{m y}*\\partial_k \\tilde{\\varphi}*n_{0m}*p_{1k} + \\delta_{\\gamma z}*\\delta_{l y}*\\delta_{m y}*\\partial_k \\tilde{\\varphi}*n_{1m}*p_{0k} + \\delta_{l x}*\\partial_i \\tilde{\\varphi}*n_{0m}*p_{0x} + \\delta_{l x}*\\partial_i \\tilde{\\varphi}*n_{0m}*p_{1y} - \\delta_{l x}*\\partial_i \\tilde{\\varphi}*n_{1m}*p_{0y} + \\delta_{l x}*\\partial_i \\tilde{\\varphi}*n_{1m}*p_{1x} + \\delta_{l y}*\\partial_i \\tilde{\\varphi}*n_{0m}*p_{0y} - \\delta_{l y}*\\partial_i \\tilde{\\varphi}*n_{0m}*p_{1x} + \\delta_{l y}*\\partial_i \\tilde{\\varphi}*n_{1m}*p_{0x} + \\delta_{l y}*\\partial_i \\tilde{\\varphi}*n_{1m}*p_{1y}"
      ]
     },
     "metadata": {},
     "output_type": "display_data"
    }
   ],
   "source": [
    "delta_cross_expr = expand( cross_expr.subs(delta_cross_subs) )\n",
    "\n",
    "display(delta_cross_expr)"
   ]
  },
  {
   "cell_type": "code",
   "execution_count": 115,
   "id": "7108da00-ece7-41ca-a7a6-97d79e38b275",
   "metadata": {},
   "outputs": [],
   "source": [
    "delta_contract_subs = {dx[m]*n0[m]: n0x,\n",
    "                       dy[m]*n0[m]: n0y,\n",
    "                       dz[m]*n0[m]: n0z,\n",
    "                       dx[m]*n1[m]: n1x,\n",
    "                       dy[m]*n1[m]: n1y,\n",
    "                       dz[m]*n1[m]: n1z,\n",
    "                       dx[gamma]*Om[gamma]: Omx,\n",
    "                       dy[gamma]*Om[gamma]: Omy,\n",
    "                       dz[gamma]*Om[gamma]: Omz}"
   ]
  },
  {
   "cell_type": "code",
   "execution_count": 116,
   "id": "0a1adb31-f98f-4940-adb3-11ba0eb11d5d",
   "metadata": {},
   "outputs": [],
   "source": [
    "Om_expr = expand(Om[gamma] * delta_cross_expr)"
   ]
  },
  {
   "cell_type": "code",
   "execution_count": 117,
   "id": "b7141e7c-5c99-4eda-8e65-8a766ff6c55b",
   "metadata": {},
   "outputs": [
    {
     "data": {
      "text/latex": [
       "$\\displaystyle - \\Omega_{\\alpha} \\Omega_{\\gamma} \\delta_{l x} \\partial_i \\tilde{\\varphi} n_{0m} n_{0y} q_{\\alpha} + \\Omega_{\\alpha} \\Omega_{\\gamma} \\delta_{l x} \\partial_i \\tilde{\\varphi} n_{0m} n_{1x} q_{\\alpha} - \\Omega_{\\alpha} \\Omega_{\\gamma} \\delta_{l x} \\partial_i \\tilde{\\varphi} n_{0x} n_{1m} q_{\\alpha} - \\Omega_{\\alpha} \\Omega_{\\gamma} \\delta_{l x} \\partial_i \\tilde{\\varphi} n_{1m} n_{1y} q_{\\alpha} + \\Omega_{\\alpha} \\Omega_{\\gamma} \\delta_{l y} \\partial_i \\tilde{\\varphi} n_{0m} n_{0x} q_{\\alpha} + \\Omega_{\\alpha} \\Omega_{\\gamma} \\delta_{l y} \\partial_i \\tilde{\\varphi} n_{0m} n_{1y} q_{\\alpha} - \\Omega_{\\alpha} \\Omega_{\\gamma} \\delta_{l y} \\partial_i \\tilde{\\varphi} n_{0y} n_{1m} q_{\\alpha} + \\Omega_{\\alpha} \\Omega_{\\gamma} \\delta_{l y} \\partial_i \\tilde{\\varphi} n_{1m} n_{1x} q_{\\alpha} - \\Omega_{\\alpha} \\Omega_{x} \\delta_{l x} \\partial_k \\tilde{\\varphi} n_{0k} n_{0z} q_{\\alpha} - \\Omega_{\\alpha} \\Omega_{x} \\delta_{l x} \\partial_k \\tilde{\\varphi} n_{1k} n_{1z} q_{\\alpha} - \\Omega_{\\alpha} \\Omega_{x} \\delta_{l y} \\partial_k \\tilde{\\varphi} n_{0k} n_{1z} q_{\\alpha} + \\Omega_{\\alpha} \\Omega_{x} \\delta_{l y} \\partial_k \\tilde{\\varphi} n_{0z} n_{1k} q_{\\alpha} + \\Omega_{\\alpha} \\Omega_{y} \\delta_{l x} \\partial_k \\tilde{\\varphi} n_{0k} n_{1z} q_{\\alpha} - \\Omega_{\\alpha} \\Omega_{y} \\delta_{l x} \\partial_k \\tilde{\\varphi} n_{0z} n_{1k} q_{\\alpha} - \\Omega_{\\alpha} \\Omega_{y} \\delta_{l y} \\partial_k \\tilde{\\varphi} n_{0k} n_{0z} q_{\\alpha} - \\Omega_{\\alpha} \\Omega_{y} \\delta_{l y} \\partial_k \\tilde{\\varphi} n_{1k} n_{1z} q_{\\alpha} + \\Omega_{\\alpha} \\Omega_{z} \\delta_{l x} \\partial_k \\tilde{\\varphi} n_{0k} n_{0x} q_{\\alpha} - \\Omega_{\\alpha} \\Omega_{z} \\delta_{l x} \\partial_k \\tilde{\\varphi} n_{0k} n_{1y} q_{\\alpha} + \\Omega_{\\alpha} \\Omega_{z} \\delta_{l x} \\partial_k \\tilde{\\varphi} n_{0y} n_{1k} q_{\\alpha} + \\Omega_{\\alpha} \\Omega_{z} \\delta_{l x} \\partial_k \\tilde{\\varphi} n_{1k} n_{1x} q_{\\alpha} + \\Omega_{\\alpha} \\Omega_{z} \\delta_{l y} \\partial_k \\tilde{\\varphi} n_{0k} n_{0y} q_{\\alpha} + \\Omega_{\\alpha} \\Omega_{z} \\delta_{l y} \\partial_k \\tilde{\\varphi} n_{0k} n_{1x} q_{\\alpha} - \\Omega_{\\alpha} \\Omega_{z} \\delta_{l y} \\partial_k \\tilde{\\varphi} n_{0x} n_{1k} q_{\\alpha} + \\Omega_{\\alpha} \\Omega_{z} \\delta_{l y} \\partial_k \\tilde{\\varphi} n_{1k} n_{1y} q_{\\alpha} + \\Omega_{\\gamma} \\delta_{l x} \\partial_i \\tilde{\\varphi} n_{0m} p_{0x} + \\Omega_{\\gamma} \\delta_{l x} \\partial_i \\tilde{\\varphi} n_{0m} p_{1y} - \\Omega_{\\gamma} \\delta_{l x} \\partial_i \\tilde{\\varphi} n_{1m} p_{0y} + \\Omega_{\\gamma} \\delta_{l x} \\partial_i \\tilde{\\varphi} n_{1m} p_{1x} + \\Omega_{\\gamma} \\delta_{l y} \\partial_i \\tilde{\\varphi} n_{0m} p_{0y} - \\Omega_{\\gamma} \\delta_{l y} \\partial_i \\tilde{\\varphi} n_{0m} p_{1x} + \\Omega_{\\gamma} \\delta_{l y} \\partial_i \\tilde{\\varphi} n_{1m} p_{0x} + \\Omega_{\\gamma} \\delta_{l y} \\partial_i \\tilde{\\varphi} n_{1m} p_{1y} + \\Omega_{x} \\delta_{l x} \\partial_k \\tilde{\\varphi} n_{0z} p_{1k} - \\Omega_{x} \\delta_{l x} \\partial_k \\tilde{\\varphi} n_{1z} p_{0k} + \\Omega_{x} \\delta_{l y} \\partial_k \\tilde{\\varphi} n_{0z} p_{0k} + \\Omega_{x} \\delta_{l y} \\partial_k \\tilde{\\varphi} n_{1z} p_{1k} - \\Omega_{y} \\delta_{l x} \\partial_k \\tilde{\\varphi} n_{0z} p_{0k} - \\Omega_{y} \\delta_{l x} \\partial_k \\tilde{\\varphi} n_{1z} p_{1k} + \\Omega_{y} \\delta_{l y} \\partial_k \\tilde{\\varphi} n_{0z} p_{1k} - \\Omega_{y} \\delta_{l y} \\partial_k \\tilde{\\varphi} n_{1z} p_{0k} - \\Omega_{z} \\delta_{l x} \\partial_k \\tilde{\\varphi} n_{0x} p_{1k} + \\Omega_{z} \\delta_{l x} \\partial_k \\tilde{\\varphi} n_{0y} p_{0k} + \\Omega_{z} \\delta_{l x} \\partial_k \\tilde{\\varphi} n_{1x} p_{0k} + \\Omega_{z} \\delta_{l x} \\partial_k \\tilde{\\varphi} n_{1y} p_{1k} - \\Omega_{z} \\delta_{l y} \\partial_k \\tilde{\\varphi} n_{0x} p_{0k} - \\Omega_{z} \\delta_{l y} \\partial_k \\tilde{\\varphi} n_{0y} p_{1k} - \\Omega_{z} \\delta_{l y} \\partial_k \\tilde{\\varphi} n_{1x} p_{1k} + \\Omega_{z} \\delta_{l y} \\partial_k \\tilde{\\varphi} n_{1y} p_{0k}$"
      ],
      "text/plain": [
       "-\\Omega_{\\alpha}*\\Omega_{\\gamma}*\\delta_{l x}*\\partial_i \\tilde{\\varphi}*n_{0m}*n_{0y}*q_{\\alpha} + \\Omega_{\\alpha}*\\Omega_{\\gamma}*\\delta_{l x}*\\partial_i \\tilde{\\varphi}*n_{0m}*n_{1x}*q_{\\alpha} - \\Omega_{\\alpha}*\\Omega_{\\gamma}*\\delta_{l x}*\\partial_i \\tilde{\\varphi}*n_{0x}*n_{1m}*q_{\\alpha} - \\Omega_{\\alpha}*\\Omega_{\\gamma}*\\delta_{l x}*\\partial_i \\tilde{\\varphi}*n_{1m}*n_{1y}*q_{\\alpha} + \\Omega_{\\alpha}*\\Omega_{\\gamma}*\\delta_{l y}*\\partial_i \\tilde{\\varphi}*n_{0m}*n_{0x}*q_{\\alpha} + \\Omega_{\\alpha}*\\Omega_{\\gamma}*\\delta_{l y}*\\partial_i \\tilde{\\varphi}*n_{0m}*n_{1y}*q_{\\alpha} - \\Omega_{\\alpha}*\\Omega_{\\gamma}*\\delta_{l y}*\\partial_i \\tilde{\\varphi}*n_{0y}*n_{1m}*q_{\\alpha} + \\Omega_{\\alpha}*\\Omega_{\\gamma}*\\delta_{l y}*\\partial_i \\tilde{\\varphi}*n_{1m}*n_{1x}*q_{\\alpha} - \\Omega_{\\alpha}*\\Omega_{x}*\\delta_{l x}*\\partial_k \\tilde{\\varphi}*n_{0k}*n_{0z}*q_{\\alpha} - \\Omega_{\\alpha}*\\Omega_{x}*\\delta_{l x}*\\partial_k \\tilde{\\varphi}*n_{1k}*n_{1z}*q_{\\alpha} - \\Omega_{\\alpha}*\\Omega_{x}*\\delta_{l y}*\\partial_k \\tilde{\\varphi}*n_{0k}*n_{1z}*q_{\\alpha} + \\Omega_{\\alpha}*\\Omega_{x}*\\delta_{l y}*\\partial_k \\tilde{\\varphi}*n_{0z}*n_{1k}*q_{\\alpha} + \\Omega_{\\alpha}*\\Omega_{y}*\\delta_{l x}*\\partial_k \\tilde{\\varphi}*n_{0k}*n_{1z}*q_{\\alpha} - \\Omega_{\\alpha}*\\Omega_{y}*\\delta_{l x}*\\partial_k \\tilde{\\varphi}*n_{0z}*n_{1k}*q_{\\alpha} - \\Omega_{\\alpha}*\\Omega_{y}*\\delta_{l y}*\\partial_k \\tilde{\\varphi}*n_{0k}*n_{0z}*q_{\\alpha} - \\Omega_{\\alpha}*\\Omega_{y}*\\delta_{l y}*\\partial_k \\tilde{\\varphi}*n_{1k}*n_{1z}*q_{\\alpha} + \\Omega_{\\alpha}*\\Omega_{z}*\\delta_{l x}*\\partial_k \\tilde{\\varphi}*n_{0k}*n_{0x}*q_{\\alpha} - \\Omega_{\\alpha}*\\Omega_{z}*\\delta_{l x}*\\partial_k \\tilde{\\varphi}*n_{0k}*n_{1y}*q_{\\alpha} + \\Omega_{\\alpha}*\\Omega_{z}*\\delta_{l x}*\\partial_k \\tilde{\\varphi}*n_{0y}*n_{1k}*q_{\\alpha} + \\Omega_{\\alpha}*\\Omega_{z}*\\delta_{l x}*\\partial_k \\tilde{\\varphi}*n_{1k}*n_{1x}*q_{\\alpha} + \\Omega_{\\alpha}*\\Omega_{z}*\\delta_{l y}*\\partial_k \\tilde{\\varphi}*n_{0k}*n_{0y}*q_{\\alpha} + \\Omega_{\\alpha}*\\Omega_{z}*\\delta_{l y}*\\partial_k \\tilde{\\varphi}*n_{0k}*n_{1x}*q_{\\alpha} - \\Omega_{\\alpha}*\\Omega_{z}*\\delta_{l y}*\\partial_k \\tilde{\\varphi}*n_{0x}*n_{1k}*q_{\\alpha} + \\Omega_{\\alpha}*\\Omega_{z}*\\delta_{l y}*\\partial_k \\tilde{\\varphi}*n_{1k}*n_{1y}*q_{\\alpha} + \\Omega_{\\gamma}*\\delta_{l x}*\\partial_i \\tilde{\\varphi}*n_{0m}*p_{0x} + \\Omega_{\\gamma}*\\delta_{l x}*\\partial_i \\tilde{\\varphi}*n_{0m}*p_{1y} - \\Omega_{\\gamma}*\\delta_{l x}*\\partial_i \\tilde{\\varphi}*n_{1m}*p_{0y} + \\Omega_{\\gamma}*\\delta_{l x}*\\partial_i \\tilde{\\varphi}*n_{1m}*p_{1x} + \\Omega_{\\gamma}*\\delta_{l y}*\\partial_i \\tilde{\\varphi}*n_{0m}*p_{0y} - \\Omega_{\\gamma}*\\delta_{l y}*\\partial_i \\tilde{\\varphi}*n_{0m}*p_{1x} + \\Omega_{\\gamma}*\\delta_{l y}*\\partial_i \\tilde{\\varphi}*n_{1m}*p_{0x} + \\Omega_{\\gamma}*\\delta_{l y}*\\partial_i \\tilde{\\varphi}*n_{1m}*p_{1y} + \\Omega_{x}*\\delta_{l x}*\\partial_k \\tilde{\\varphi}*n_{0z}*p_{1k} - \\Omega_{x}*\\delta_{l x}*\\partial_k \\tilde{\\varphi}*n_{1z}*p_{0k} + \\Omega_{x}*\\delta_{l y}*\\partial_k \\tilde{\\varphi}*n_{0z}*p_{0k} + \\Omega_{x}*\\delta_{l y}*\\partial_k \\tilde{\\varphi}*n_{1z}*p_{1k} - \\Omega_{y}*\\delta_{l x}*\\partial_k \\tilde{\\varphi}*n_{0z}*p_{0k} - \\Omega_{y}*\\delta_{l x}*\\partial_k \\tilde{\\varphi}*n_{1z}*p_{1k} + \\Omega_{y}*\\delta_{l y}*\\partial_k \\tilde{\\varphi}*n_{0z}*p_{1k} - \\Omega_{y}*\\delta_{l y}*\\partial_k \\tilde{\\varphi}*n_{1z}*p_{0k} - \\Omega_{z}*\\delta_{l x}*\\partial_k \\tilde{\\varphi}*n_{0x}*p_{1k} + \\Omega_{z}*\\delta_{l x}*\\partial_k \\tilde{\\varphi}*n_{0y}*p_{0k} + \\Omega_{z}*\\delta_{l x}*\\partial_k \\tilde{\\varphi}*n_{1x}*p_{0k} + \\Omega_{z}*\\delta_{l x}*\\partial_k \\tilde{\\varphi}*n_{1y}*p_{1k} - \\Omega_{z}*\\delta_{l y}*\\partial_k \\tilde{\\varphi}*n_{0x}*p_{0k} - \\Omega_{z}*\\delta_{l y}*\\partial_k \\tilde{\\varphi}*n_{0y}*p_{1k} - \\Omega_{z}*\\delta_{l y}*\\partial_k \\tilde{\\varphi}*n_{1x}*p_{1k} + \\Omega_{z}*\\delta_{l y}*\\partial_k \\tilde{\\varphi}*n_{1y}*p_{0k}"
      ]
     },
     "metadata": {},
     "output_type": "display_data"
    }
   ],
   "source": [
    "delta_contract_expr = Om_expr.subs(delta_contract_subs)\n",
    "\n",
    "display(delta_contract_expr)"
   ]
  },
  {
   "cell_type": "code",
   "execution_count": 118,
   "id": "55502932-1ba8-4299-a0f6-e68184e6f0e2",
   "metadata": {},
   "outputs": [],
   "source": [
    "grad_cross_subs = {Om[gamma]*dphi[i]*n0[m]: dphi[gamma]*n1[gamma],\n",
    "                   Om[gamma]*dphi[i]*n1[m]: -dphi[gamma]*n0[gamma]}"
   ]
  },
  {
   "cell_type": "code",
   "execution_count": 119,
   "id": "4e0c1a16-2674-41f3-85d5-a4632ee97a0d",
   "metadata": {},
   "outputs": [
    {
     "data": {
      "text/latex": [
       "$\\displaystyle - \\Omega_{\\alpha} \\Omega_{x} \\delta_{l x} \\partial_k \\tilde{\\varphi} n_{0k} n_{0z} q_{\\alpha} - \\Omega_{\\alpha} \\Omega_{x} \\delta_{l x} \\partial_k \\tilde{\\varphi} n_{1k} n_{1z} q_{\\alpha} - \\Omega_{\\alpha} \\Omega_{x} \\delta_{l y} \\partial_k \\tilde{\\varphi} n_{0k} n_{1z} q_{\\alpha} + \\Omega_{\\alpha} \\Omega_{x} \\delta_{l y} \\partial_k \\tilde{\\varphi} n_{0z} n_{1k} q_{\\alpha} + \\Omega_{\\alpha} \\Omega_{y} \\delta_{l x} \\partial_k \\tilde{\\varphi} n_{0k} n_{1z} q_{\\alpha} - \\Omega_{\\alpha} \\Omega_{y} \\delta_{l x} \\partial_k \\tilde{\\varphi} n_{0z} n_{1k} q_{\\alpha} - \\Omega_{\\alpha} \\Omega_{y} \\delta_{l y} \\partial_k \\tilde{\\varphi} n_{0k} n_{0z} q_{\\alpha} - \\Omega_{\\alpha} \\Omega_{y} \\delta_{l y} \\partial_k \\tilde{\\varphi} n_{1k} n_{1z} q_{\\alpha} + \\Omega_{\\alpha} \\Omega_{z} \\delta_{l x} \\partial_k \\tilde{\\varphi} n_{0k} n_{0x} q_{\\alpha} - \\Omega_{\\alpha} \\Omega_{z} \\delta_{l x} \\partial_k \\tilde{\\varphi} n_{0k} n_{1y} q_{\\alpha} + \\Omega_{\\alpha} \\Omega_{z} \\delta_{l x} \\partial_k \\tilde{\\varphi} n_{0y} n_{1k} q_{\\alpha} + \\Omega_{\\alpha} \\Omega_{z} \\delta_{l x} \\partial_k \\tilde{\\varphi} n_{1k} n_{1x} q_{\\alpha} + \\Omega_{\\alpha} \\Omega_{z} \\delta_{l y} \\partial_k \\tilde{\\varphi} n_{0k} n_{0y} q_{\\alpha} + \\Omega_{\\alpha} \\Omega_{z} \\delta_{l y} \\partial_k \\tilde{\\varphi} n_{0k} n_{1x} q_{\\alpha} - \\Omega_{\\alpha} \\Omega_{z} \\delta_{l y} \\partial_k \\tilde{\\varphi} n_{0x} n_{1k} q_{\\alpha} + \\Omega_{\\alpha} \\Omega_{z} \\delta_{l y} \\partial_k \\tilde{\\varphi} n_{1k} n_{1y} q_{\\alpha} + \\Omega_{\\alpha} \\delta_{l x} \\partial_\\gamma \\tilde{\\varphi} n_{0\\gamma} n_{0x} q_{\\alpha} + \\Omega_{\\alpha} \\delta_{l x} \\partial_\\gamma \\tilde{\\varphi} n_{0\\gamma} n_{1y} q_{\\alpha} - \\Omega_{\\alpha} \\delta_{l x} \\partial_\\gamma \\tilde{\\varphi} n_{0y} n_{1\\gamma} q_{\\alpha} + \\Omega_{\\alpha} \\delta_{l x} \\partial_\\gamma \\tilde{\\varphi} n_{1\\gamma} n_{1x} q_{\\alpha} + \\Omega_{\\alpha} \\delta_{l y} \\partial_\\gamma \\tilde{\\varphi} n_{0\\gamma} n_{0y} q_{\\alpha} - \\Omega_{\\alpha} \\delta_{l y} \\partial_\\gamma \\tilde{\\varphi} n_{0\\gamma} n_{1x} q_{\\alpha} + \\Omega_{\\alpha} \\delta_{l y} \\partial_\\gamma \\tilde{\\varphi} n_{0x} n_{1\\gamma} q_{\\alpha} + \\Omega_{\\alpha} \\delta_{l y} \\partial_\\gamma \\tilde{\\varphi} n_{1\\gamma} n_{1y} q_{\\alpha} + \\Omega_{x} \\delta_{l x} \\partial_k \\tilde{\\varphi} n_{0z} p_{1k} - \\Omega_{x} \\delta_{l x} \\partial_k \\tilde{\\varphi} n_{1z} p_{0k} + \\Omega_{x} \\delta_{l y} \\partial_k \\tilde{\\varphi} n_{0z} p_{0k} + \\Omega_{x} \\delta_{l y} \\partial_k \\tilde{\\varphi} n_{1z} p_{1k} - \\Omega_{y} \\delta_{l x} \\partial_k \\tilde{\\varphi} n_{0z} p_{0k} - \\Omega_{y} \\delta_{l x} \\partial_k \\tilde{\\varphi} n_{1z} p_{1k} + \\Omega_{y} \\delta_{l y} \\partial_k \\tilde{\\varphi} n_{0z} p_{1k} - \\Omega_{y} \\delta_{l y} \\partial_k \\tilde{\\varphi} n_{1z} p_{0k} - \\Omega_{z} \\delta_{l x} \\partial_k \\tilde{\\varphi} n_{0x} p_{1k} + \\Omega_{z} \\delta_{l x} \\partial_k \\tilde{\\varphi} n_{0y} p_{0k} + \\Omega_{z} \\delta_{l x} \\partial_k \\tilde{\\varphi} n_{1x} p_{0k} + \\Omega_{z} \\delta_{l x} \\partial_k \\tilde{\\varphi} n_{1y} p_{1k} - \\Omega_{z} \\delta_{l y} \\partial_k \\tilde{\\varphi} n_{0x} p_{0k} - \\Omega_{z} \\delta_{l y} \\partial_k \\tilde{\\varphi} n_{0y} p_{1k} - \\Omega_{z} \\delta_{l y} \\partial_k \\tilde{\\varphi} n_{1x} p_{1k} + \\Omega_{z} \\delta_{l y} \\partial_k \\tilde{\\varphi} n_{1y} p_{0k} + \\delta_{l x} \\partial_\\gamma \\tilde{\\varphi} n_{0\\gamma} p_{0y} - \\delta_{l x} \\partial_\\gamma \\tilde{\\varphi} n_{0\\gamma} p_{1x} + \\delta_{l x} \\partial_\\gamma \\tilde{\\varphi} n_{1\\gamma} p_{0x} + \\delta_{l x} \\partial_\\gamma \\tilde{\\varphi} n_{1\\gamma} p_{1y} - \\delta_{l y} \\partial_\\gamma \\tilde{\\varphi} n_{0\\gamma} p_{0x} - \\delta_{l y} \\partial_\\gamma \\tilde{\\varphi} n_{0\\gamma} p_{1y} + \\delta_{l y} \\partial_\\gamma \\tilde{\\varphi} n_{1\\gamma} p_{0y} - \\delta_{l y} \\partial_\\gamma \\tilde{\\varphi} n_{1\\gamma} p_{1x}$"
      ],
      "text/plain": [
       "-\\Omega_{\\alpha}*\\Omega_{x}*\\delta_{l x}*\\partial_k \\tilde{\\varphi}*n_{0k}*n_{0z}*q_{\\alpha} - \\Omega_{\\alpha}*\\Omega_{x}*\\delta_{l x}*\\partial_k \\tilde{\\varphi}*n_{1k}*n_{1z}*q_{\\alpha} - \\Omega_{\\alpha}*\\Omega_{x}*\\delta_{l y}*\\partial_k \\tilde{\\varphi}*n_{0k}*n_{1z}*q_{\\alpha} + \\Omega_{\\alpha}*\\Omega_{x}*\\delta_{l y}*\\partial_k \\tilde{\\varphi}*n_{0z}*n_{1k}*q_{\\alpha} + \\Omega_{\\alpha}*\\Omega_{y}*\\delta_{l x}*\\partial_k \\tilde{\\varphi}*n_{0k}*n_{1z}*q_{\\alpha} - \\Omega_{\\alpha}*\\Omega_{y}*\\delta_{l x}*\\partial_k \\tilde{\\varphi}*n_{0z}*n_{1k}*q_{\\alpha} - \\Omega_{\\alpha}*\\Omega_{y}*\\delta_{l y}*\\partial_k \\tilde{\\varphi}*n_{0k}*n_{0z}*q_{\\alpha} - \\Omega_{\\alpha}*\\Omega_{y}*\\delta_{l y}*\\partial_k \\tilde{\\varphi}*n_{1k}*n_{1z}*q_{\\alpha} + \\Omega_{\\alpha}*\\Omega_{z}*\\delta_{l x}*\\partial_k \\tilde{\\varphi}*n_{0k}*n_{0x}*q_{\\alpha} - \\Omega_{\\alpha}*\\Omega_{z}*\\delta_{l x}*\\partial_k \\tilde{\\varphi}*n_{0k}*n_{1y}*q_{\\alpha} + \\Omega_{\\alpha}*\\Omega_{z}*\\delta_{l x}*\\partial_k \\tilde{\\varphi}*n_{0y}*n_{1k}*q_{\\alpha} + \\Omega_{\\alpha}*\\Omega_{z}*\\delta_{l x}*\\partial_k \\tilde{\\varphi}*n_{1k}*n_{1x}*q_{\\alpha} + \\Omega_{\\alpha}*\\Omega_{z}*\\delta_{l y}*\\partial_k \\tilde{\\varphi}*n_{0k}*n_{0y}*q_{\\alpha} + \\Omega_{\\alpha}*\\Omega_{z}*\\delta_{l y}*\\partial_k \\tilde{\\varphi}*n_{0k}*n_{1x}*q_{\\alpha} - \\Omega_{\\alpha}*\\Omega_{z}*\\delta_{l y}*\\partial_k \\tilde{\\varphi}*n_{0x}*n_{1k}*q_{\\alpha} + \\Omega_{\\alpha}*\\Omega_{z}*\\delta_{l y}*\\partial_k \\tilde{\\varphi}*n_{1k}*n_{1y}*q_{\\alpha} + \\Omega_{\\alpha}*\\delta_{l x}*\\partial_\\gamma \\tilde{\\varphi}*n_{0\\gamma}*n_{0x}*q_{\\alpha} + \\Omega_{\\alpha}*\\delta_{l x}*\\partial_\\gamma \\tilde{\\varphi}*n_{0\\gamma}*n_{1y}*q_{\\alpha} - \\Omega_{\\alpha}*\\delta_{l x}*\\partial_\\gamma \\tilde{\\varphi}*n_{0y}*n_{1\\gamma}*q_{\\alpha} + \\Omega_{\\alpha}*\\delta_{l x}*\\partial_\\gamma \\tilde{\\varphi}*n_{1\\gamma}*n_{1x}*q_{\\alpha} + \\Omega_{\\alpha}*\\delta_{l y}*\\partial_\\gamma \\tilde{\\varphi}*n_{0\\gamma}*n_{0y}*q_{\\alpha} - \\Omega_{\\alpha}*\\delta_{l y}*\\partial_\\gamma \\tilde{\\varphi}*n_{0\\gamma}*n_{1x}*q_{\\alpha} + \\Omega_{\\alpha}*\\delta_{l y}*\\partial_\\gamma \\tilde{\\varphi}*n_{0x}*n_{1\\gamma}*q_{\\alpha} + \\Omega_{\\alpha}*\\delta_{l y}*\\partial_\\gamma \\tilde{\\varphi}*n_{1\\gamma}*n_{1y}*q_{\\alpha} + \\Omega_{x}*\\delta_{l x}*\\partial_k \\tilde{\\varphi}*n_{0z}*p_{1k} - \\Omega_{x}*\\delta_{l x}*\\partial_k \\tilde{\\varphi}*n_{1z}*p_{0k} + \\Omega_{x}*\\delta_{l y}*\\partial_k \\tilde{\\varphi}*n_{0z}*p_{0k} + \\Omega_{x}*\\delta_{l y}*\\partial_k \\tilde{\\varphi}*n_{1z}*p_{1k} - \\Omega_{y}*\\delta_{l x}*\\partial_k \\tilde{\\varphi}*n_{0z}*p_{0k} - \\Omega_{y}*\\delta_{l x}*\\partial_k \\tilde{\\varphi}*n_{1z}*p_{1k} + \\Omega_{y}*\\delta_{l y}*\\partial_k \\tilde{\\varphi}*n_{0z}*p_{1k} - \\Omega_{y}*\\delta_{l y}*\\partial_k \\tilde{\\varphi}*n_{1z}*p_{0k} - \\Omega_{z}*\\delta_{l x}*\\partial_k \\tilde{\\varphi}*n_{0x}*p_{1k} + \\Omega_{z}*\\delta_{l x}*\\partial_k \\tilde{\\varphi}*n_{0y}*p_{0k} + \\Omega_{z}*\\delta_{l x}*\\partial_k \\tilde{\\varphi}*n_{1x}*p_{0k} + \\Omega_{z}*\\delta_{l x}*\\partial_k \\tilde{\\varphi}*n_{1y}*p_{1k} - \\Omega_{z}*\\delta_{l y}*\\partial_k \\tilde{\\varphi}*n_{0x}*p_{0k} - \\Omega_{z}*\\delta_{l y}*\\partial_k \\tilde{\\varphi}*n_{0y}*p_{1k} - \\Omega_{z}*\\delta_{l y}*\\partial_k \\tilde{\\varphi}*n_{1x}*p_{1k} + \\Omega_{z}*\\delta_{l y}*\\partial_k \\tilde{\\varphi}*n_{1y}*p_{0k} + \\delta_{l x}*\\partial_\\gamma \\tilde{\\varphi}*n_{0\\gamma}*p_{0y} - \\delta_{l x}*\\partial_\\gamma \\tilde{\\varphi}*n_{0\\gamma}*p_{1x} + \\delta_{l x}*\\partial_\\gamma \\tilde{\\varphi}*n_{1\\gamma}*p_{0x} + \\delta_{l x}*\\partial_\\gamma \\tilde{\\varphi}*n_{1\\gamma}*p_{1y} - \\delta_{l y}*\\partial_\\gamma \\tilde{\\varphi}*n_{0\\gamma}*p_{0x} - \\delta_{l y}*\\partial_\\gamma \\tilde{\\varphi}*n_{0\\gamma}*p_{1y} + \\delta_{l y}*\\partial_\\gamma \\tilde{\\varphi}*n_{1\\gamma}*p_{0y} - \\delta_{l y}*\\partial_\\gamma \\tilde{\\varphi}*n_{1\\gamma}*p_{1x}"
      ]
     },
     "metadata": {},
     "output_type": "display_data"
    }
   ],
   "source": [
    "grad_cross_expr = delta_contract_expr.subs(grad_cross_subs)\n",
    "\n",
    "display(grad_cross_expr)"
   ]
  },
  {
   "cell_type": "code",
   "execution_count": 123,
   "id": "8b8736ca-fdcf-4823-9411-c6edf7606e9c",
   "metadata": {},
   "outputs": [
    {
     "data": {
      "text/latex": [
       "$\\displaystyle - \\delta_{l x} \\left(\\Omega_{\\alpha} \\Omega_{x} \\partial_k \\tilde{\\varphi} n_{0k} n_{0z} q_{\\alpha} + \\Omega_{\\alpha} \\Omega_{x} \\partial_k \\tilde{\\varphi} n_{1k} n_{1z} q_{\\alpha} - \\Omega_{\\alpha} \\Omega_{y} \\partial_k \\tilde{\\varphi} n_{0k} n_{1z} q_{\\alpha} + \\Omega_{\\alpha} \\Omega_{y} \\partial_k \\tilde{\\varphi} n_{0z} n_{1k} q_{\\alpha} - \\Omega_{\\alpha} \\Omega_{z} \\partial_k \\tilde{\\varphi} n_{0k} n_{0x} q_{\\alpha} + \\Omega_{\\alpha} \\Omega_{z} \\partial_k \\tilde{\\varphi} n_{0k} n_{1y} q_{\\alpha} - \\Omega_{\\alpha} \\Omega_{z} \\partial_k \\tilde{\\varphi} n_{0y} n_{1k} q_{\\alpha} - \\Omega_{\\alpha} \\Omega_{z} \\partial_k \\tilde{\\varphi} n_{1k} n_{1x} q_{\\alpha} - \\Omega_{\\alpha} \\partial_\\gamma \\tilde{\\varphi} n_{0\\gamma} n_{0x} q_{\\alpha} - \\Omega_{\\alpha} \\partial_\\gamma \\tilde{\\varphi} n_{0\\gamma} n_{1y} q_{\\alpha} + \\Omega_{\\alpha} \\partial_\\gamma \\tilde{\\varphi} n_{0y} n_{1\\gamma} q_{\\alpha} - \\Omega_{\\alpha} \\partial_\\gamma \\tilde{\\varphi} n_{1\\gamma} n_{1x} q_{\\alpha} - \\Omega_{x} \\partial_k \\tilde{\\varphi} n_{0z} p_{1k} + \\Omega_{x} \\partial_k \\tilde{\\varphi} n_{1z} p_{0k} + \\Omega_{y} \\partial_k \\tilde{\\varphi} n_{0z} p_{0k} + \\Omega_{y} \\partial_k \\tilde{\\varphi} n_{1z} p_{1k} + \\Omega_{z} \\partial_k \\tilde{\\varphi} n_{0x} p_{1k} - \\Omega_{z} \\partial_k \\tilde{\\varphi} n_{0y} p_{0k} - \\Omega_{z} \\partial_k \\tilde{\\varphi} n_{1x} p_{0k} - \\Omega_{z} \\partial_k \\tilde{\\varphi} n_{1y} p_{1k} - \\partial_\\gamma \\tilde{\\varphi} n_{0\\gamma} p_{0y} + \\partial_\\gamma \\tilde{\\varphi} n_{0\\gamma} p_{1x} - \\partial_\\gamma \\tilde{\\varphi} n_{1\\gamma} p_{0x} - \\partial_\\gamma \\tilde{\\varphi} n_{1\\gamma} p_{1y}\\right) - \\delta_{l y} \\left(\\Omega_{\\alpha} \\Omega_{x} \\partial_k \\tilde{\\varphi} n_{0k} n_{1z} q_{\\alpha} - \\Omega_{\\alpha} \\Omega_{x} \\partial_k \\tilde{\\varphi} n_{0z} n_{1k} q_{\\alpha} + \\Omega_{\\alpha} \\Omega_{y} \\partial_k \\tilde{\\varphi} n_{0k} n_{0z} q_{\\alpha} + \\Omega_{\\alpha} \\Omega_{y} \\partial_k \\tilde{\\varphi} n_{1k} n_{1z} q_{\\alpha} - \\Omega_{\\alpha} \\Omega_{z} \\partial_k \\tilde{\\varphi} n_{0k} n_{0y} q_{\\alpha} - \\Omega_{\\alpha} \\Omega_{z} \\partial_k \\tilde{\\varphi} n_{0k} n_{1x} q_{\\alpha} + \\Omega_{\\alpha} \\Omega_{z} \\partial_k \\tilde{\\varphi} n_{0x} n_{1k} q_{\\alpha} - \\Omega_{\\alpha} \\Omega_{z} \\partial_k \\tilde{\\varphi} n_{1k} n_{1y} q_{\\alpha} - \\Omega_{\\alpha} \\partial_\\gamma \\tilde{\\varphi} n_{0\\gamma} n_{0y} q_{\\alpha} + \\Omega_{\\alpha} \\partial_\\gamma \\tilde{\\varphi} n_{0\\gamma} n_{1x} q_{\\alpha} - \\Omega_{\\alpha} \\partial_\\gamma \\tilde{\\varphi} n_{0x} n_{1\\gamma} q_{\\alpha} - \\Omega_{\\alpha} \\partial_\\gamma \\tilde{\\varphi} n_{1\\gamma} n_{1y} q_{\\alpha} - \\Omega_{x} \\partial_k \\tilde{\\varphi} n_{0z} p_{0k} - \\Omega_{x} \\partial_k \\tilde{\\varphi} n_{1z} p_{1k} - \\Omega_{y} \\partial_k \\tilde{\\varphi} n_{0z} p_{1k} + \\Omega_{y} \\partial_k \\tilde{\\varphi} n_{1z} p_{0k} + \\Omega_{z} \\partial_k \\tilde{\\varphi} n_{0x} p_{0k} + \\Omega_{z} \\partial_k \\tilde{\\varphi} n_{0y} p_{1k} + \\Omega_{z} \\partial_k \\tilde{\\varphi} n_{1x} p_{1k} - \\Omega_{z} \\partial_k \\tilde{\\varphi} n_{1y} p_{0k} + \\partial_\\gamma \\tilde{\\varphi} n_{0\\gamma} p_{0x} + \\partial_\\gamma \\tilde{\\varphi} n_{0\\gamma} p_{1y} - \\partial_\\gamma \\tilde{\\varphi} n_{1\\gamma} p_{0y} + \\partial_\\gamma \\tilde{\\varphi} n_{1\\gamma} p_{1x}\\right)$"
      ],
      "text/plain": [
       "-\\delta_{l x}*(\\Omega_{\\alpha}*\\Omega_{x}*\\partial_k \\tilde{\\varphi}*n_{0k}*n_{0z}*q_{\\alpha} + \\Omega_{\\alpha}*\\Omega_{x}*\\partial_k \\tilde{\\varphi}*n_{1k}*n_{1z}*q_{\\alpha} - \\Omega_{\\alpha}*\\Omega_{y}*\\partial_k \\tilde{\\varphi}*n_{0k}*n_{1z}*q_{\\alpha} + \\Omega_{\\alpha}*\\Omega_{y}*\\partial_k \\tilde{\\varphi}*n_{0z}*n_{1k}*q_{\\alpha} - \\Omega_{\\alpha}*\\Omega_{z}*\\partial_k \\tilde{\\varphi}*n_{0k}*n_{0x}*q_{\\alpha} + \\Omega_{\\alpha}*\\Omega_{z}*\\partial_k \\tilde{\\varphi}*n_{0k}*n_{1y}*q_{\\alpha} - \\Omega_{\\alpha}*\\Omega_{z}*\\partial_k \\tilde{\\varphi}*n_{0y}*n_{1k}*q_{\\alpha} - \\Omega_{\\alpha}*\\Omega_{z}*\\partial_k \\tilde{\\varphi}*n_{1k}*n_{1x}*q_{\\alpha} - \\Omega_{\\alpha}*\\partial_\\gamma \\tilde{\\varphi}*n_{0\\gamma}*n_{0x}*q_{\\alpha} - \\Omega_{\\alpha}*\\partial_\\gamma \\tilde{\\varphi}*n_{0\\gamma}*n_{1y}*q_{\\alpha} + \\Omega_{\\alpha}*\\partial_\\gamma \\tilde{\\varphi}*n_{0y}*n_{1\\gamma}*q_{\\alpha} - \\Omega_{\\alpha}*\\partial_\\gamma \\tilde{\\varphi}*n_{1\\gamma}*n_{1x}*q_{\\alpha} - \\Omega_{x}*\\partial_k \\tilde{\\varphi}*n_{0z}*p_{1k} + \\Omega_{x}*\\partial_k \\tilde{\\varphi}*n_{1z}*p_{0k} + \\Omega_{y}*\\partial_k \\tilde{\\varphi}*n_{0z}*p_{0k} + \\Omega_{y}*\\partial_k \\tilde{\\varphi}*n_{1z}*p_{1k} + \\Omega_{z}*\\partial_k \\tilde{\\varphi}*n_{0x}*p_{1k} - \\Omega_{z}*\\partial_k \\tilde{\\varphi}*n_{0y}*p_{0k} - \\Omega_{z}*\\partial_k \\tilde{\\varphi}*n_{1x}*p_{0k} - \\Omega_{z}*\\partial_k \\tilde{\\varphi}*n_{1y}*p_{1k} - \\partial_\\gamma \\tilde{\\varphi}*n_{0\\gamma}*p_{0y} + \\partial_\\gamma \\tilde{\\varphi}*n_{0\\gamma}*p_{1x} - \\partial_\\gamma \\tilde{\\varphi}*n_{1\\gamma}*p_{0x} - \\partial_\\gamma \\tilde{\\varphi}*n_{1\\gamma}*p_{1y}) - \\delta_{l y}*(\\Omega_{\\alpha}*\\Omega_{x}*\\partial_k \\tilde{\\varphi}*n_{0k}*n_{1z}*q_{\\alpha} - \\Omega_{\\alpha}*\\Omega_{x}*\\partial_k \\tilde{\\varphi}*n_{0z}*n_{1k}*q_{\\alpha} + \\Omega_{\\alpha}*\\Omega_{y}*\\partial_k \\tilde{\\varphi}*n_{0k}*n_{0z}*q_{\\alpha} + \\Omega_{\\alpha}*\\Omega_{y}*\\partial_k \\tilde{\\varphi}*n_{1k}*n_{1z}*q_{\\alpha} - \\Omega_{\\alpha}*\\Omega_{z}*\\partial_k \\tilde{\\varphi}*n_{0k}*n_{0y}*q_{\\alpha} - \\Omega_{\\alpha}*\\Omega_{z}*\\partial_k \\tilde{\\varphi}*n_{0k}*n_{1x}*q_{\\alpha} + \\Omega_{\\alpha}*\\Omega_{z}*\\partial_k \\tilde{\\varphi}*n_{0x}*n_{1k}*q_{\\alpha} - \\Omega_{\\alpha}*\\Omega_{z}*\\partial_k \\tilde{\\varphi}*n_{1k}*n_{1y}*q_{\\alpha} - \\Omega_{\\alpha}*\\partial_\\gamma \\tilde{\\varphi}*n_{0\\gamma}*n_{0y}*q_{\\alpha} + \\Omega_{\\alpha}*\\partial_\\gamma \\tilde{\\varphi}*n_{0\\gamma}*n_{1x}*q_{\\alpha} - \\Omega_{\\alpha}*\\partial_\\gamma \\tilde{\\varphi}*n_{0x}*n_{1\\gamma}*q_{\\alpha} - \\Omega_{\\alpha}*\\partial_\\gamma \\tilde{\\varphi}*n_{1\\gamma}*n_{1y}*q_{\\alpha} - \\Omega_{x}*\\partial_k \\tilde{\\varphi}*n_{0z}*p_{0k} - \\Omega_{x}*\\partial_k \\tilde{\\varphi}*n_{1z}*p_{1k} - \\Omega_{y}*\\partial_k \\tilde{\\varphi}*n_{0z}*p_{1k} + \\Omega_{y}*\\partial_k \\tilde{\\varphi}*n_{1z}*p_{0k} + \\Omega_{z}*\\partial_k \\tilde{\\varphi}*n_{0x}*p_{0k} + \\Omega_{z}*\\partial_k \\tilde{\\varphi}*n_{0y}*p_{1k} + \\Omega_{z}*\\partial_k \\tilde{\\varphi}*n_{1x}*p_{1k} - \\Omega_{z}*\\partial_k \\tilde{\\varphi}*n_{1y}*p_{0k} + \\partial_\\gamma \\tilde{\\varphi}*n_{0\\gamma}*p_{0x} + \\partial_\\gamma \\tilde{\\varphi}*n_{0\\gamma}*p_{1y} - \\partial_\\gamma \\tilde{\\varphi}*n_{1\\gamma}*p_{0y} + \\partial_\\gamma \\tilde{\\varphi}*n_{1\\gamma}*p_{1x})"
      ]
     },
     "metadata": {},
     "output_type": "display_data"
    }
   ],
   "source": [
    "factored_expr = factor(grad_cross_expr, dx[l], dy[l])\n",
    "\n",
    "display(factored_expr)"
   ]
  },
  {
   "cell_type": "code",
   "execution_count": 128,
   "id": "f92b569e-4331-4668-8283-474e6f2c2901",
   "metadata": {},
   "outputs": [
    {
     "data": {
      "text/latex": [
       "$\\displaystyle \\Omega_{\\alpha} \\Omega_{x} \\partial_k \\tilde{\\varphi} n_{0k} n_{0z} q_{\\alpha} + \\Omega_{\\alpha} \\Omega_{x} \\partial_k \\tilde{\\varphi} n_{1k} n_{1z} q_{\\alpha} - \\Omega_{\\alpha} \\Omega_{y} \\partial_k \\tilde{\\varphi} n_{0k} n_{1z} q_{\\alpha} + \\Omega_{\\alpha} \\Omega_{y} \\partial_k \\tilde{\\varphi} n_{0z} n_{1k} q_{\\alpha} - \\Omega_{\\alpha} \\Omega_{z} \\partial_k \\tilde{\\varphi} n_{0k} n_{0x} q_{\\alpha} + \\Omega_{\\alpha} \\Omega_{z} \\partial_k \\tilde{\\varphi} n_{0k} n_{1y} q_{\\alpha} - \\Omega_{\\alpha} \\Omega_{z} \\partial_k \\tilde{\\varphi} n_{0y} n_{1k} q_{\\alpha} - \\Omega_{\\alpha} \\Omega_{z} \\partial_k \\tilde{\\varphi} n_{1k} n_{1x} q_{\\alpha} - \\Omega_{\\alpha} \\partial_\\gamma \\tilde{\\varphi} n_{0\\gamma} n_{0x} q_{\\alpha} - \\Omega_{\\alpha} \\partial_\\gamma \\tilde{\\varphi} n_{0\\gamma} n_{1y} q_{\\alpha} + \\Omega_{\\alpha} \\partial_\\gamma \\tilde{\\varphi} n_{0y} n_{1\\gamma} q_{\\alpha} - \\Omega_{\\alpha} \\partial_\\gamma \\tilde{\\varphi} n_{1\\gamma} n_{1x} q_{\\alpha} - \\Omega_{x} \\partial_k \\tilde{\\varphi} n_{0z} p_{1k} + \\Omega_{x} \\partial_k \\tilde{\\varphi} n_{1z} p_{0k} + \\Omega_{y} \\partial_k \\tilde{\\varphi} n_{0z} p_{0k} + \\Omega_{y} \\partial_k \\tilde{\\varphi} n_{1z} p_{1k} + \\Omega_{z} \\partial_k \\tilde{\\varphi} n_{0x} p_{1k} - \\Omega_{z} \\partial_k \\tilde{\\varphi} n_{0y} p_{0k} - \\Omega_{z} \\partial_k \\tilde{\\varphi} n_{1x} p_{0k} - \\Omega_{z} \\partial_k \\tilde{\\varphi} n_{1y} p_{1k} - \\partial_\\gamma \\tilde{\\varphi} n_{0\\gamma} p_{0y} + \\partial_\\gamma \\tilde{\\varphi} n_{0\\gamma} p_{1x} - \\partial_\\gamma \\tilde{\\varphi} n_{1\\gamma} p_{0x} - \\partial_\\gamma \\tilde{\\varphi} n_{1\\gamma} p_{1y}$"
      ],
      "text/plain": [
       "\\Omega_{\\alpha}*\\Omega_{x}*\\partial_k \\tilde{\\varphi}*n_{0k}*n_{0z}*q_{\\alpha} + \\Omega_{\\alpha}*\\Omega_{x}*\\partial_k \\tilde{\\varphi}*n_{1k}*n_{1z}*q_{\\alpha} - \\Omega_{\\alpha}*\\Omega_{y}*\\partial_k \\tilde{\\varphi}*n_{0k}*n_{1z}*q_{\\alpha} + \\Omega_{\\alpha}*\\Omega_{y}*\\partial_k \\tilde{\\varphi}*n_{0z}*n_{1k}*q_{\\alpha} - \\Omega_{\\alpha}*\\Omega_{z}*\\partial_k \\tilde{\\varphi}*n_{0k}*n_{0x}*q_{\\alpha} + \\Omega_{\\alpha}*\\Omega_{z}*\\partial_k \\tilde{\\varphi}*n_{0k}*n_{1y}*q_{\\alpha} - \\Omega_{\\alpha}*\\Omega_{z}*\\partial_k \\tilde{\\varphi}*n_{0y}*n_{1k}*q_{\\alpha} - \\Omega_{\\alpha}*\\Omega_{z}*\\partial_k \\tilde{\\varphi}*n_{1k}*n_{1x}*q_{\\alpha} - \\Omega_{\\alpha}*\\partial_\\gamma \\tilde{\\varphi}*n_{0\\gamma}*n_{0x}*q_{\\alpha} - \\Omega_{\\alpha}*\\partial_\\gamma \\tilde{\\varphi}*n_{0\\gamma}*n_{1y}*q_{\\alpha} + \\Omega_{\\alpha}*\\partial_\\gamma \\tilde{\\varphi}*n_{0y}*n_{1\\gamma}*q_{\\alpha} - \\Omega_{\\alpha}*\\partial_\\gamma \\tilde{\\varphi}*n_{1\\gamma}*n_{1x}*q_{\\alpha} - \\Omega_{x}*\\partial_k \\tilde{\\varphi}*n_{0z}*p_{1k} + \\Omega_{x}*\\partial_k \\tilde{\\varphi}*n_{1z}*p_{0k} + \\Omega_{y}*\\partial_k \\tilde{\\varphi}*n_{0z}*p_{0k} + \\Omega_{y}*\\partial_k \\tilde{\\varphi}*n_{1z}*p_{1k} + \\Omega_{z}*\\partial_k \\tilde{\\varphi}*n_{0x}*p_{1k} - \\Omega_{z}*\\partial_k \\tilde{\\varphi}*n_{0y}*p_{0k} - \\Omega_{z}*\\partial_k \\tilde{\\varphi}*n_{1x}*p_{0k} - \\Omega_{z}*\\partial_k \\tilde{\\varphi}*n_{1y}*p_{1k} - \\partial_\\gamma \\tilde{\\varphi}*n_{0\\gamma}*p_{0y} + \\partial_\\gamma \\tilde{\\varphi}*n_{0\\gamma}*p_{1x} - \\partial_\\gamma \\tilde{\\varphi}*n_{1\\gamma}*p_{0x} - \\partial_\\gamma \\tilde{\\varphi}*n_{1\\gamma}*p_{1y}"
      ]
     },
     "execution_count": 128,
     "metadata": {},
     "output_type": "execute_result"
    }
   ],
   "source": [
    "simplify( factored_expr.args[0].args[2] )"
   ]
  },
  {
   "cell_type": "code",
   "execution_count": null,
   "id": "6f05c980-10c2-4b4f-a97b-f25d0674b0e3",
   "metadata": {},
   "outputs": [],
   "source": []
  }
 ],
 "metadata": {
  "kernelspec": {
   "display_name": "Python 3 (ipykernel)",
   "language": "python",
   "name": "python3"
  },
  "language_info": {
   "codemirror_mode": {
    "name": "ipython",
    "version": 3
   },
   "file_extension": ".py",
   "mimetype": "text/x-python",
   "name": "python",
   "nbconvert_exporter": "python",
   "pygments_lexer": "ipython3",
   "version": "3.9.18"
  }
 },
 "nbformat": 4,
 "nbformat_minor": 5
}
