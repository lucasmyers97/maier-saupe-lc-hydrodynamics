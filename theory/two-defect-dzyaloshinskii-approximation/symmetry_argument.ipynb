{
 "cells": [
  {
   "cell_type": "code",
   "execution_count": 1,
   "id": "fae5e6dc-5780-4bd7-ba8c-5728733bd390",
   "metadata": {},
   "outputs": [],
   "source": [
    "from sympy import *"
   ]
  },
  {
   "cell_type": "markdown",
   "id": "32f3876e-1f1f-4862-886a-8d2434ac1c6c",
   "metadata": {},
   "source": [
    "# It is clear that $\\theta_\\text{iso}$ in the far-field becomes small as $d/r << 1$."
   ]
  },
  {
   "cell_type": "code",
   "execution_count": null,
   "id": "c3f0dc2c-5722-402c-8308-0794da2620a0",
   "metadata": {},
   "outputs": [],
   "source": []
  }
 ],
 "metadata": {
  "kernelspec": {
   "display_name": "Python 3 (ipykernel)",
   "language": "python",
   "name": "python3"
  },
  "language_info": {
   "codemirror_mode": {
    "name": "ipython",
    "version": 3
   },
   "file_extension": ".py",
   "mimetype": "text/x-python",
   "name": "python",
   "nbconvert_exporter": "python",
   "pygments_lexer": "ipython3",
   "version": "3.9.18"
  }
 },
 "nbformat": 4,
 "nbformat_minor": 5
}
