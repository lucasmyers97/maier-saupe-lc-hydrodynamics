{
 "cells": [
  {
   "cell_type": "code",
   "execution_count": 1,
   "id": "6a8ce296",
   "metadata": {},
   "outputs": [],
   "source": [
    "from sympy import *\n",
    "from sympy.simplify.fu import *"
   ]
  },
  {
   "cell_type": "code",
   "execution_count": 2,
   "id": "67b45734",
   "metadata": {},
   "outputs": [
    {
     "data": {
      "text/latex": [
       "$\\displaystyle \\varphi_{1}$"
      ],
      "text/plain": [
       "\\varphi_1"
      ]
     },
     "metadata": {},
     "output_type": "display_data"
    },
    {
     "data": {
      "text/latex": [
       "$\\displaystyle \\varphi_{2}$"
      ],
      "text/plain": [
       "\\varphi_2"
      ]
     },
     "metadata": {},
     "output_type": "display_data"
    },
    {
     "data": {
      "text/latex": [
       "$\\displaystyle r_{1}$"
      ],
      "text/plain": [
       "r_1"
      ]
     },
     "metadata": {},
     "output_type": "display_data"
    },
    {
     "data": {
      "text/latex": [
       "$\\displaystyle r_{2}$"
      ],
      "text/plain": [
       "r_2"
      ]
     },
     "metadata": {},
     "output_type": "display_data"
    },
    {
     "data": {
      "text/latex": [
       "$\\displaystyle q_{1}$"
      ],
      "text/plain": [
       "q_1"
      ]
     },
     "metadata": {},
     "output_type": "display_data"
    },
    {
     "data": {
      "text/latex": [
       "$\\displaystyle q_{2}$"
      ],
      "text/plain": [
       "q_2"
      ]
     },
     "metadata": {},
     "output_type": "display_data"
    },
    {
     "data": {
      "text/latex": [
       "$\\displaystyle \\varphi$"
      ],
      "text/plain": [
       "\\varphi"
      ]
     },
     "metadata": {},
     "output_type": "display_data"
    },
    {
     "data": {
      "text/latex": [
       "$\\displaystyle r$"
      ],
      "text/plain": [
       "r"
      ]
     },
     "metadata": {},
     "output_type": "display_data"
    }
   ],
   "source": [
    "phi1, phi2, r1, r2, q1, q2 = symbols(r'\\varphi_1 \\varphi_2 r_1 r_2 q_1 q_2')\n",
    "phi, r = symbols(r'\\varphi r')\n",
    "\n",
    "display(phi1, phi2, r1, r2, q1, q2)\n",
    "display(phi, r)"
   ]
  },
  {
   "cell_type": "markdown",
   "id": "a874685d",
   "metadata": {},
   "source": [
    "### Eq (2)"
   ]
  },
  {
   "cell_type": "code",
   "execution_count": 3,
   "id": "81d0126c",
   "metadata": {},
   "outputs": [
    {
     "data": {
      "text/latex": [
       "$\\displaystyle \\varphi_{1} q_{1} + \\varphi_{2} q_{2} + \\frac{\\pi}{2}$"
      ],
      "text/plain": [
       "\\varphi_1*q_1 + \\varphi_2*q_2 + pi/2"
      ]
     },
     "metadata": {},
     "output_type": "display_data"
    }
   ],
   "source": [
    "theta_iso = q1*phi1 + q2*phi2 + pi/2\n",
    "display(theta_iso)"
   ]
  },
  {
   "cell_type": "code",
   "execution_count": 4,
   "id": "6ce53006",
   "metadata": {},
   "outputs": [],
   "source": [
    "def d_dx(expr, r, phi):\n",
    "    \n",
    "    return cos(phi) * expr.diff(r) - (1/r) * sin(phi) * expr.diff(phi)\n",
    "\n",
    "def d_dy(expr, r, phi):\n",
    "    \n",
    "    return sin(phi) * expr.diff(r) + (1/r) * cos(phi) * expr.diff(phi)"
   ]
  },
  {
   "cell_type": "markdown",
   "id": "31381fb1",
   "metadata": {},
   "source": [
    "### Eq (4)"
   ]
  },
  {
   "cell_type": "code",
   "execution_count": 5,
   "id": "95d25008",
   "metadata": {},
   "outputs": [
    {
     "data": {
      "text/latex": [
       "$\\displaystyle - \\frac{\\sin{\\left(\\varphi \\right)}}{r}$"
      ],
      "text/plain": [
       "-sin(\\varphi)/r"
      ]
     },
     "metadata": {},
     "output_type": "display_data"
    },
    {
     "data": {
      "text/latex": [
       "$\\displaystyle \\frac{\\cos{\\left(\\varphi \\right)}}{r}$"
      ],
      "text/plain": [
       "cos(\\varphi)/r"
      ]
     },
     "metadata": {},
     "output_type": "display_data"
    }
   ],
   "source": [
    "dphi_dx = d_dx(phi, r, phi)\n",
    "dphi_dy = d_dy(phi, r, phi)\n",
    "\n",
    "display(dphi_dx, dphi_dy)"
   ]
  },
  {
   "cell_type": "markdown",
   "id": "7ed78365",
   "metadata": {},
   "source": [
    "### Eq (5)"
   ]
  },
  {
   "cell_type": "code",
   "execution_count": 6,
   "id": "57132479",
   "metadata": {},
   "outputs": [
    {
     "data": {
      "text/latex": [
       "$\\displaystyle \\frac{\\sin{\\left(2 \\varphi \\right)}}{r^{2}}$"
      ],
      "text/plain": [
       "sin(2*\\varphi)/r**2"
      ]
     },
     "metadata": {},
     "output_type": "display_data"
    },
    {
     "data": {
      "text/latex": [
       "$\\displaystyle - \\frac{\\sin{\\left(2 \\varphi \\right)}}{r^{2}}$"
      ],
      "text/plain": [
       "-sin(2*\\varphi)/r**2"
      ]
     },
     "metadata": {},
     "output_type": "display_data"
    },
    {
     "data": {
      "text/latex": [
       "$\\displaystyle - \\frac{\\cos{\\left(2 \\varphi \\right)}}{r^{2}}$"
      ],
      "text/plain": [
       "-cos(2*\\varphi)/r**2"
      ]
     },
     "metadata": {},
     "output_type": "display_data"
    }
   ],
   "source": [
    "d2phi_dx2 = simplify( d_dx(dphi_dx, r, phi) )\n",
    "d2phi_dy2 = simplify( d_dy(dphi_dy, r, phi) )\n",
    "d2phi_dxdy = simplify( d_dy(dphi_dx, r, phi) )\n",
    "\n",
    "display(d2phi_dx2, d2phi_dy2, d2phi_dxdy)"
   ]
  },
  {
   "cell_type": "code",
   "execution_count": 7,
   "id": "fd121df9",
   "metadata": {},
   "outputs": [
    {
     "data": {
      "text/latex": [
       "$\\displaystyle - \\frac{q_{1} \\sin{\\left(\\varphi_{1} \\right)}}{r_{1}} - \\frac{q_{2} \\sin{\\left(\\varphi_{2} \\right)}}{r_{2}}$"
      ],
      "text/plain": [
       "-q_1*sin(\\varphi_1)/r_1 - q_2*sin(\\varphi_2)/r_2"
      ]
     },
     "metadata": {},
     "output_type": "display_data"
    },
    {
     "data": {
      "text/latex": [
       "$\\displaystyle \\frac{q_{1} \\cos{\\left(\\varphi_{1} \\right)}}{r_{1}} + \\frac{q_{2} \\cos{\\left(\\varphi_{2} \\right)}}{r_{2}}$"
      ],
      "text/plain": [
       "q_1*cos(\\varphi_1)/r_1 + q_2*cos(\\varphi_2)/r_2"
      ]
     },
     "metadata": {},
     "output_type": "display_data"
    }
   ],
   "source": [
    "dtheta_dx = q1 * d_dx(phi1, r1, phi1) + q2 * d_dx(phi2, r2, phi2)\n",
    "dtheta_dy = q1 * d_dy(phi1, r1, phi1) + q2 * d_dy(phi2, r2, phi2)\n",
    "\n",
    "display(dtheta_dx, dtheta_dy)"
   ]
  },
  {
   "cell_type": "code",
   "execution_count": 8,
   "id": "56d59123",
   "metadata": {},
   "outputs": [],
   "source": [
    "d2theta_dx2 = q1 * d_dx(d_dx(phi1, r1, phi1), r1, phi1) + q2 * d_dx(d_dx(phi2, r2, phi2), r2, phi2)\n",
    "d2theta_dy2 = q1 * d_dy(d_dy(phi1, r1, phi1), r1, phi1) + q2 * d_dy(d_dy(phi2, r2, phi2), r2, phi2)"
   ]
  },
  {
   "cell_type": "code",
   "execution_count": 9,
   "id": "0da0cf47",
   "metadata": {},
   "outputs": [],
   "source": [
    "d2theta_dxdy = q1 * d_dy(d_dx(phi1, r1, phi1), r1, phi1) + q2 * d_dy(d_dx(phi2, r2, phi2), r2, phi2)"
   ]
  },
  {
   "cell_type": "markdown",
   "id": "7dd26762",
   "metadata": {},
   "source": [
    "### Eq (6)"
   ]
  },
  {
   "cell_type": "code",
   "execution_count": 10,
   "id": "cd84fafc",
   "metadata": {},
   "outputs": [
    {
     "data": {
      "text/latex": [
       "$\\displaystyle \\frac{q_{1}^{2} \\sin^{2}{\\left(\\varphi_{1} \\right)}}{r_{1}^{2}} + \\frac{2 q_{1} q_{2} \\sin{\\left(\\varphi_{1} \\right)} \\sin{\\left(\\varphi_{2} \\right)}}{r_{1} r_{2}} + \\frac{q_{2}^{2} \\sin^{2}{\\left(\\varphi_{2} \\right)}}{r_{2}^{2}}$"
      ],
      "text/plain": [
       "q_1**2*sin(\\varphi_1)**2/r_1**2 + 2*q_1*q_2*sin(\\varphi_1)*sin(\\varphi_2)/(r_1*r_2) + q_2**2*sin(\\varphi_2)**2/r_2**2"
      ]
     },
     "metadata": {},
     "output_type": "display_data"
    },
    {
     "data": {
      "text/latex": [
       "$\\displaystyle \\frac{q_{1}^{2} \\cos^{2}{\\left(\\varphi_{1} \\right)}}{r_{1}^{2}} + \\frac{2 q_{1} q_{2} \\cos{\\left(\\varphi_{1} \\right)} \\cos{\\left(\\varphi_{2} \\right)}}{r_{1} r_{2}} + \\frac{q_{2}^{2} \\cos^{2}{\\left(\\varphi_{2} \\right)}}{r_{2}^{2}}$"
      ],
      "text/plain": [
       "q_1**2*cos(\\varphi_1)**2/r_1**2 + 2*q_1*q_2*cos(\\varphi_1)*cos(\\varphi_2)/(r_1*r_2) + q_2**2*cos(\\varphi_2)**2/r_2**2"
      ]
     },
     "metadata": {},
     "output_type": "display_data"
    }
   ],
   "source": [
    "dtheta_dx2 = expand( dtheta_dx**2 )\n",
    "dtheta_dy2 = expand( dtheta_dy**2 )\n",
    "\n",
    "display(dtheta_dx2, dtheta_dy2)"
   ]
  },
  {
   "cell_type": "code",
   "execution_count": 11,
   "id": "3565e845",
   "metadata": {},
   "outputs": [
    {
     "data": {
      "text/latex": [
       "$\\displaystyle - \\frac{q_{1}^{2} \\sin{\\left(2 \\varphi_{1} \\right)}}{2 r_{1}^{2}} - \\frac{q_{1} q_{2} \\sin{\\left(\\varphi_{1} + \\varphi_{2} \\right)}}{r_{1} r_{2}} - \\frac{q_{2}^{2} \\sin{\\left(2 \\varphi_{2} \\right)}}{2 r_{2}^{2}}$"
      ],
      "text/plain": [
       "-q_1**2*sin(2*\\varphi_1)/(2*r_1**2) - q_1*q_2*sin(\\varphi_1 + \\varphi_2)/(r_1*r_2) - q_2**2*sin(2*\\varphi_2)/(2*r_2**2)"
      ]
     },
     "metadata": {},
     "output_type": "display_data"
    }
   ],
   "source": [
    "dtheta_dx_dtheta_dy = simplify( expand( dtheta_dx * dtheta_dy ) )\n",
    "display(dtheta_dx_dtheta_dy)"
   ]
  },
  {
   "cell_type": "markdown",
   "id": "0f272ce7",
   "metadata": {},
   "source": [
    "### Eq (7)"
   ]
  },
  {
   "cell_type": "code",
   "execution_count": 12,
   "id": "7236df0a",
   "metadata": {},
   "outputs": [
    {
     "data": {
      "text/latex": [
       "$\\displaystyle - \\frac{q_{1}^{2} \\cos{\\left(2 \\varphi_{1} \\right)}}{r_{1}^{2}} - \\frac{2 q_{1} q_{2} \\cos{\\left(\\varphi_{1} + \\varphi_{2} \\right)}}{r_{1} r_{2}} + \\frac{2 q_{1} \\cos{\\left(2 \\varphi_{1} \\right)}}{r_{1}^{2}} - \\frac{q_{2}^{2} \\cos{\\left(2 \\varphi_{2} \\right)}}{r_{2}^{2}} + \\frac{2 q_{2} \\cos{\\left(2 \\varphi_{2} \\right)}}{r_{2}^{2}}$"
      ],
      "text/plain": [
       "-q_1**2*cos(2*\\varphi_1)/r_1**2 - 2*q_1*q_2*cos(\\varphi_1 + \\varphi_2)/(r_1*r_2) + 2*q_1*cos(2*\\varphi_1)/r_1**2 - q_2**2*cos(2*\\varphi_2)/r_2**2 + 2*q_2*cos(2*\\varphi_2)/r_2**2"
      ]
     },
     "metadata": {},
     "output_type": "display_data"
    }
   ],
   "source": [
    "sin_coeff = expand( simplify( dtheta_dx2 - dtheta_dy2 - 2*d2theta_dxdy ) )\n",
    "\n",
    "display(sin_coeff)"
   ]
  },
  {
   "cell_type": "markdown",
   "id": "706b5261",
   "metadata": {},
   "source": [
    "### Eq (8)"
   ]
  },
  {
   "cell_type": "code",
   "execution_count": 13,
   "id": "88f6234a",
   "metadata": {},
   "outputs": [
    {
     "data": {
      "text/latex": [
       "$\\displaystyle \\frac{q_{1}^{2} \\sin{\\left(2 \\varphi_{1} \\right)}}{r_{1}^{2}} + \\frac{2 q_{1} q_{2} \\sin{\\left(\\varphi_{1} + \\varphi_{2} \\right)}}{r_{1} r_{2}} - \\frac{2 q_{1} \\sin{\\left(2 \\varphi_{1} \\right)}}{r_{1}^{2}} + \\frac{q_{2}^{2} \\sin{\\left(2 \\varphi_{2} \\right)}}{r_{2}^{2}} - \\frac{2 q_{2} \\sin{\\left(2 \\varphi_{2} \\right)}}{r_{2}^{2}}$"
      ],
      "text/plain": [
       "q_1**2*sin(2*\\varphi_1)/r_1**2 + 2*q_1*q_2*sin(\\varphi_1 + \\varphi_2)/(r_1*r_2) - 2*q_1*sin(2*\\varphi_1)/r_1**2 + q_2**2*sin(2*\\varphi_2)/r_2**2 - 2*q_2*sin(2*\\varphi_2)/r_2**2"
      ]
     },
     "metadata": {},
     "output_type": "display_data"
    }
   ],
   "source": [
    "cos_coeff = expand( simplify( d2theta_dy2 - d2theta_dx2 - 2*dtheta_dx_dtheta_dy ) )\n",
    "\n",
    "display(cos_coeff)"
   ]
  },
  {
   "cell_type": "code",
   "execution_count": 14,
   "id": "93575ea9",
   "metadata": {},
   "outputs": [
    {
     "data": {
      "text/latex": [
       "$\\displaystyle \\frac{2 q_{1} q_{2} r_{1} r_{2} \\sin{\\left(2 \\varphi_{1} q_{1} - \\varphi_{1} + 2 \\varphi_{2} q_{2} - \\varphi_{2} \\right)} + q_{1} r_{2}^{2} \\left(q_{1} - 2\\right) \\sin{\\left(2 \\varphi_{1} q_{1} - 2 \\varphi_{1} + 2 \\varphi_{2} q_{2} \\right)} + q_{2} r_{1}^{2} \\left(q_{2} - 2\\right) \\sin{\\left(2 \\varphi_{1} q_{1} + 2 \\varphi_{2} q_{2} - 2 \\varphi_{2} \\right)}}{r_{1}^{2} r_{2}^{2}}$"
      ],
      "text/plain": [
       "(2*q_1*q_2*r_1*r_2*sin(2*\\varphi_1*q_1 - \\varphi_1 + 2*\\varphi_2*q_2 - \\varphi_2) + q_1*r_2**2*(q_1 - 2)*sin(2*\\varphi_1*q_1 - 2*\\varphi_1 + 2*\\varphi_2*q_2) + q_2*r_1**2*(q_2 - 2)*sin(2*\\varphi_1*q_1 + 2*\\varphi_2*q_2 - 2*\\varphi_2))/(r_1**2*r_2**2)"
      ]
     },
     "metadata": {},
     "output_type": "display_data"
    }
   ],
   "source": [
    "rhs = simplify( expand(sin(2*theta_iso) * sin_coeff + cos(2*theta_iso) * cos_coeff) )\n",
    "\n",
    "display(rhs)"
   ]
  },
  {
   "cell_type": "markdown",
   "id": "cad23359",
   "metadata": {},
   "source": [
    "## Checking boundary condition"
   ]
  },
  {
   "cell_type": "code",
   "execution_count": 21,
   "id": "67f4171e",
   "metadata": {},
   "outputs": [],
   "source": [
    "eps = symbols('epsilon', real=True)\n",
    "x, y = symbols('x y', real=True)\n",
    "theta = Function('theta', real=True)(x, y)\n",
    "\n",
    "n = Matrix([cos(theta), sin(theta)])"
   ]
  },
  {
   "cell_type": "code",
   "execution_count": 20,
   "id": "7cabee56",
   "metadata": {},
   "outputs": [
    {
     "data": {
      "text/latex": [
       "$\\displaystyle \\theta{\\left(x,y \\right)}$"
      ],
      "text/plain": [
       "theta(x, y)"
      ]
     },
     "execution_count": 20,
     "metadata": {},
     "output_type": "execute_result"
    }
   ],
   "source": [
    "theta"
   ]
  },
  {
   "cell_type": "code",
   "execution_count": 22,
   "id": "81238d44",
   "metadata": {},
   "outputs": [],
   "source": [
    "def curl(f):\n",
    "    return f[1].diff(x) - f[0].diff(y)\n",
    "\n",
    "def div(f):\n",
    "    return f[0].diff(x) + f[1].diff(y)\n",
    "\n",
    "def cross(n, m):\n",
    "    return Matrix([n[1]*m, -n[0]*m])\n",
    "\n",
    "def square(n):\n",
    "    return n[0]*n[0] + n[1]*n[1]"
   ]
  },
  {
   "cell_type": "markdown",
   "id": "6f51d2a6",
   "metadata": {},
   "source": [
    "### Frank free energy in terms of $\\theta$"
   ]
  },
  {
   "cell_type": "code",
   "execution_count": 24,
   "id": "b17c0c83",
   "metadata": {},
   "outputs": [
    {
     "data": {
      "text/latex": [
       "$\\displaystyle 2 \\epsilon \\sin{\\left(2 \\theta{\\left(x,y \\right)} \\right)} \\frac{\\partial}{\\partial x} \\theta{\\left(x,y \\right)} \\frac{\\partial}{\\partial y} \\theta{\\left(x,y \\right)} + \\epsilon \\cos{\\left(2 \\theta{\\left(x,y \\right)} \\right)} \\left(\\frac{\\partial}{\\partial x} \\theta{\\left(x,y \\right)}\\right)^{2} - \\epsilon \\cos{\\left(2 \\theta{\\left(x,y \\right)} \\right)} \\left(\\frac{\\partial}{\\partial y} \\theta{\\left(x,y \\right)}\\right)^{2} + \\left(\\frac{\\partial}{\\partial x} \\theta{\\left(x,y \\right)}\\right)^{2} + \\left(\\frac{\\partial}{\\partial y} \\theta{\\left(x,y \\right)}\\right)^{2}$"
      ],
      "text/plain": [
       "2*epsilon*sin(2*theta(x, y))*Derivative(theta(x, y), x)*Derivative(theta(x, y), y) + epsilon*cos(2*theta(x, y))*Derivative(theta(x, y), x)**2 - epsilon*cos(2*theta(x, y))*Derivative(theta(x, y), y)**2 + Derivative(theta(x, y), x)**2 + Derivative(theta(x, y), y)**2"
      ]
     },
     "metadata": {},
     "output_type": "display_data"
    }
   ],
   "source": [
    "f = (1 - eps) * div(n)**2 + (1 + eps) * square( cross(n, curl(n)) )\n",
    "f = simplify(f)\n",
    "\n",
    "display(f)"
   ]
  },
  {
   "cell_type": "markdown",
   "id": "26806578",
   "metadata": {},
   "source": [
    "### Configurational force"
   ]
  },
  {
   "cell_type": "code",
   "execution_count": 27,
   "id": "878db207",
   "metadata": {},
   "outputs": [
    {
     "data": {
      "text/latex": [
       "$\\displaystyle \\left[\\begin{matrix}2 \\epsilon \\sin{\\left(2 \\theta{\\left(x,y \\right)} \\right)} \\frac{\\partial}{\\partial y} \\theta{\\left(x,y \\right)} + 2 \\epsilon \\cos{\\left(2 \\theta{\\left(x,y \\right)} \\right)} \\frac{\\partial}{\\partial x} \\theta{\\left(x,y \\right)} + 2 \\frac{\\partial}{\\partial x} \\theta{\\left(x,y \\right)}\\\\2 \\epsilon \\sin{\\left(2 \\theta{\\left(x,y \\right)} \\right)} \\frac{\\partial}{\\partial x} \\theta{\\left(x,y \\right)} - 2 \\epsilon \\cos{\\left(2 \\theta{\\left(x,y \\right)} \\right)} \\frac{\\partial}{\\partial y} \\theta{\\left(x,y \\right)} + 2 \\frac{\\partial}{\\partial y} \\theta{\\left(x,y \\right)}\\end{matrix}\\right]$"
      ],
      "text/plain": [
       "Matrix([\n",
       "[2*epsilon*sin(2*theta(x, y))*Derivative(theta(x, y), y) + 2*epsilon*cos(2*theta(x, y))*Derivative(theta(x, y), x) + 2*Derivative(theta(x, y), x)],\n",
       "[2*epsilon*sin(2*theta(x, y))*Derivative(theta(x, y), x) - 2*epsilon*cos(2*theta(x, y))*Derivative(theta(x, y), y) + 2*Derivative(theta(x, y), y)]])"
      ]
     },
     "metadata": {},
     "output_type": "display_data"
    }
   ],
   "source": [
    "df_ddtheta = Matrix([f.diff(theta.diff(x)), f.diff(theta.diff(y))])\n",
    "\n",
    "display(df_ddtheta)"
   ]
  },
  {
   "cell_type": "code",
   "execution_count": 37,
   "id": "3de09a28",
   "metadata": {},
   "outputs": [
    {
     "data": {
      "text/latex": [
       "$\\displaystyle q_{1} \\phi_{1}{\\left(x,y \\right)} + q_{2} \\phi_{2}{\\left(x,y \\right)}$"
      ],
      "text/plain": [
       "q_1*phi_1(x, y) + q_2*phi_2(x, y)"
      ]
     },
     "metadata": {},
     "output_type": "display_data"
    }
   ],
   "source": [
    "phi1 = Function('phi_1', real=True)(x, y)\n",
    "phi2 = Function('phi_2', real=True)(x, y)\n",
    "\n",
    "theta_iso = q1*phi1 + q2*phi2\n",
    "display(theta_iso)"
   ]
  },
  {
   "cell_type": "markdown",
   "id": "e4779c76",
   "metadata": {},
   "source": [
    "### Configurational force evaluated for isotropic configuration"
   ]
  },
  {
   "cell_type": "code",
   "execution_count": 38,
   "id": "e49b2923",
   "metadata": {},
   "outputs": [
    {
     "data": {
      "text/latex": [
       "$\\displaystyle \\left[\\begin{matrix}2 \\epsilon \\left(q_{1} \\frac{\\partial}{\\partial x} \\phi_{1}{\\left(x,y \\right)} + q_{2} \\frac{\\partial}{\\partial x} \\phi_{2}{\\left(x,y \\right)}\\right) \\cos{\\left(2 q_{1} \\phi_{1}{\\left(x,y \\right)} + 2 q_{2} \\phi_{2}{\\left(x,y \\right)} \\right)} + 2 \\epsilon \\left(q_{1} \\frac{\\partial}{\\partial y} \\phi_{1}{\\left(x,y \\right)} + q_{2} \\frac{\\partial}{\\partial y} \\phi_{2}{\\left(x,y \\right)}\\right) \\sin{\\left(2 q_{1} \\phi_{1}{\\left(x,y \\right)} + 2 q_{2} \\phi_{2}{\\left(x,y \\right)} \\right)} + 2 q_{1} \\frac{\\partial}{\\partial x} \\phi_{1}{\\left(x,y \\right)} + 2 q_{2} \\frac{\\partial}{\\partial x} \\phi_{2}{\\left(x,y \\right)}\\\\2 \\epsilon \\left(q_{1} \\frac{\\partial}{\\partial x} \\phi_{1}{\\left(x,y \\right)} + q_{2} \\frac{\\partial}{\\partial x} \\phi_{2}{\\left(x,y \\right)}\\right) \\sin{\\left(2 q_{1} \\phi_{1}{\\left(x,y \\right)} + 2 q_{2} \\phi_{2}{\\left(x,y \\right)} \\right)} - 2 \\epsilon \\left(q_{1} \\frac{\\partial}{\\partial y} \\phi_{1}{\\left(x,y \\right)} + q_{2} \\frac{\\partial}{\\partial y} \\phi_{2}{\\left(x,y \\right)}\\right) \\cos{\\left(2 q_{1} \\phi_{1}{\\left(x,y \\right)} + 2 q_{2} \\phi_{2}{\\left(x,y \\right)} \\right)} + 2 q_{1} \\frac{\\partial}{\\partial y} \\phi_{1}{\\left(x,y \\right)} + 2 q_{2} \\frac{\\partial}{\\partial y} \\phi_{2}{\\left(x,y \\right)}\\end{matrix}\\right]$"
      ],
      "text/plain": [
       "Matrix([\n",
       "[2*epsilon*(q_1*Derivative(phi_1(x, y), x) + q_2*Derivative(phi_2(x, y), x))*cos(2*q_1*phi_1(x, y) + 2*q_2*phi_2(x, y)) + 2*epsilon*(q_1*Derivative(phi_1(x, y), y) + q_2*Derivative(phi_2(x, y), y))*sin(2*q_1*phi_1(x, y) + 2*q_2*phi_2(x, y)) + 2*q_1*Derivative(phi_1(x, y), x) + 2*q_2*Derivative(phi_2(x, y), x)],\n",
       "[2*epsilon*(q_1*Derivative(phi_1(x, y), x) + q_2*Derivative(phi_2(x, y), x))*sin(2*q_1*phi_1(x, y) + 2*q_2*phi_2(x, y)) - 2*epsilon*(q_1*Derivative(phi_1(x, y), y) + q_2*Derivative(phi_2(x, y), y))*cos(2*q_1*phi_1(x, y) + 2*q_2*phi_2(x, y)) + 2*q_1*Derivative(phi_1(x, y), y) + 2*q_2*Derivative(phi_2(x, y), y)]])"
      ]
     },
     "metadata": {},
     "output_type": "display_data"
    }
   ],
   "source": [
    "df_ddtheta_iso = df_ddtheta.subs(theta, theta_iso).doit()\n",
    "display(df_ddtheta_iso)"
   ]
  },
  {
   "cell_type": "markdown",
   "id": "6adb401d",
   "metadata": {},
   "source": [
    "### Replace derivatives of polar coordinates with closed-form expressions"
   ]
  },
  {
   "cell_type": "code",
   "execution_count": 42,
   "id": "69271878",
   "metadata": {},
   "outputs": [
    {
     "data": {
      "text/latex": [
       "$\\displaystyle \\left[\\begin{matrix}\\frac{2 \\epsilon \\left(- \\left(q_{1} r_{2} \\sin{\\left(\\phi_{1}{\\left(x,y \\right)} \\right)} + q_{2} r_{1} \\sin{\\left(\\phi_{2}{\\left(x,y \\right)} \\right)}\\right) \\cos{\\left(2 q_{1} \\phi_{1}{\\left(x,y \\right)} + 2 q_{2} \\phi_{2}{\\left(x,y \\right)} \\right)} + \\left(q_{1} r_{2} \\cos{\\left(\\phi_{1}{\\left(x,y \\right)} \\right)} + q_{2} r_{1} \\cos{\\left(\\phi_{2}{\\left(x,y \\right)} \\right)}\\right) \\sin{\\left(2 q_{1} \\phi_{1}{\\left(x,y \\right)} + 2 q_{2} \\phi_{2}{\\left(x,y \\right)} \\right)}\\right) - 2 q_{1} r_{2} \\sin{\\left(\\phi_{1}{\\left(x,y \\right)} \\right)} - 2 q_{2} r_{1} \\sin{\\left(\\phi_{2}{\\left(x,y \\right)} \\right)}}{r_{1} r_{2}}\\\\\\frac{2 \\left(- \\epsilon \\left(\\left(q_{1} r_{2} \\sin{\\left(\\phi_{1}{\\left(x,y \\right)} \\right)} + q_{2} r_{1} \\sin{\\left(\\phi_{2}{\\left(x,y \\right)} \\right)}\\right) \\sin{\\left(2 q_{1} \\phi_{1}{\\left(x,y \\right)} + 2 q_{2} \\phi_{2}{\\left(x,y \\right)} \\right)} + \\left(q_{1} r_{2} \\cos{\\left(\\phi_{1}{\\left(x,y \\right)} \\right)} + q_{2} r_{1} \\cos{\\left(\\phi_{2}{\\left(x,y \\right)} \\right)}\\right) \\cos{\\left(2 q_{1} \\phi_{1}{\\left(x,y \\right)} + 2 q_{2} \\phi_{2}{\\left(x,y \\right)} \\right)}\\right) + q_{1} r_{2} \\cos{\\left(\\phi_{1}{\\left(x,y \\right)} \\right)} + q_{2} r_{1} \\cos{\\left(\\phi_{2}{\\left(x,y \\right)} \\right)}\\right)}{r_{1} r_{2}}\\end{matrix}\\right]$"
      ],
      "text/plain": [
       "Matrix([\n",
       "[(2*epsilon*(-(q_1*r_2*sin(phi_1(x, y)) + q_2*r_1*sin(phi_2(x, y)))*cos(2*q_1*phi_1(x, y) + 2*q_2*phi_2(x, y)) + (q_1*r_2*cos(phi_1(x, y)) + q_2*r_1*cos(phi_2(x, y)))*sin(2*q_1*phi_1(x, y) + 2*q_2*phi_2(x, y))) - 2*q_1*r_2*sin(phi_1(x, y)) - 2*q_2*r_1*sin(phi_2(x, y)))/(r_1*r_2)],\n",
       "[    2*(-epsilon*((q_1*r_2*sin(phi_1(x, y)) + q_2*r_1*sin(phi_2(x, y)))*sin(2*q_1*phi_1(x, y) + 2*q_2*phi_2(x, y)) + (q_1*r_2*cos(phi_1(x, y)) + q_2*r_1*cos(phi_2(x, y)))*cos(2*q_1*phi_1(x, y) + 2*q_2*phi_2(x, y))) + q_1*r_2*cos(phi_1(x, y)) + q_2*r_1*cos(phi_2(x, y)))/(r_1*r_2)]])"
      ]
     },
     "metadata": {},
     "output_type": "display_data"
    }
   ],
   "source": [
    "r1, r2 = symbols('r_1 r_2', positive=True)\n",
    "phi_subs_dict = {phi1.diff(x): -1/r1 * sin(phi1),\n",
    "                 phi1.diff(y): 1/r1 * cos(phi1),\n",
    "                 phi2.diff(x): -1/r2 * sin(phi2),\n",
    "                 phi2.diff(y): 1/r2 * cos(phi2)}\n",
    "\n",
    "df_ddtheta_iso = simplify(df_ddtheta_iso.subs(phi_subs_dict))\n",
    "display(df_ddtheta_iso)"
   ]
  },
  {
   "cell_type": "markdown",
   "id": "eb341251",
   "metadata": {},
   "source": [
    "### Replace functions with symbols since we're no longer differentiating"
   ]
  },
  {
   "cell_type": "code",
   "execution_count": 46,
   "id": "87cc9b76",
   "metadata": {},
   "outputs": [
    {
     "data": {
      "text/latex": [
       "$\\displaystyle \\left[\\begin{matrix}- \\frac{2 \\epsilon q_{1} \\sin{\\left(\\phi_{1} \\right)} \\cos{\\left(2 \\left(\\phi_{1} q_{1} + \\phi_{2} q_{2}\\right) \\right)}}{r_{1}} + \\frac{2 \\epsilon q_{1} \\sin{\\left(2 \\left(\\phi_{1} q_{1} + \\phi_{2} q_{2}\\right) \\right)} \\cos{\\left(\\phi_{1} \\right)}}{r_{1}} - \\frac{2 \\epsilon q_{2} \\sin{\\left(\\phi_{2} \\right)} \\cos{\\left(2 \\left(\\phi_{1} q_{1} + \\phi_{2} q_{2}\\right) \\right)}}{r_{2}} + \\frac{2 \\epsilon q_{2} \\sin{\\left(2 \\left(\\phi_{1} q_{1} + \\phi_{2} q_{2}\\right) \\right)} \\cos{\\left(\\phi_{2} \\right)}}{r_{2}} - \\frac{2 q_{1} \\sin{\\left(\\phi_{1} \\right)}}{r_{1}} - \\frac{2 q_{2} \\sin{\\left(\\phi_{2} \\right)}}{r_{2}}\\\\- \\frac{2 \\epsilon q_{1} \\sin{\\left(\\phi_{1} \\right)} \\sin{\\left(2 \\left(\\phi_{1} q_{1} + \\phi_{2} q_{2}\\right) \\right)}}{r_{1}} - \\frac{2 \\epsilon q_{1} \\cos{\\left(\\phi_{1} \\right)} \\cos{\\left(2 \\left(\\phi_{1} q_{1} + \\phi_{2} q_{2}\\right) \\right)}}{r_{1}} - \\frac{2 \\epsilon q_{2} \\sin{\\left(\\phi_{2} \\right)} \\sin{\\left(2 \\left(\\phi_{1} q_{1} + \\phi_{2} q_{2}\\right) \\right)}}{r_{2}} - \\frac{2 \\epsilon q_{2} \\cos{\\left(\\phi_{2} \\right)} \\cos{\\left(2 \\left(\\phi_{1} q_{1} + \\phi_{2} q_{2}\\right) \\right)}}{r_{2}} + \\frac{2 q_{1} \\cos{\\left(\\phi_{1} \\right)}}{r_{1}} + \\frac{2 q_{2} \\cos{\\left(\\phi_{2} \\right)}}{r_{2}}\\end{matrix}\\right]$"
      ],
      "text/plain": [
       "Matrix([\n",
       "[-2*epsilon*q_1*sin(phi_1)*cos(2*(phi_1*q_1 + phi_2*q_2))/r_1 + 2*epsilon*q_1*sin(2*(phi_1*q_1 + phi_2*q_2))*cos(phi_1)/r_1 - 2*epsilon*q_2*sin(phi_2)*cos(2*(phi_1*q_1 + phi_2*q_2))/r_2 + 2*epsilon*q_2*sin(2*(phi_1*q_1 + phi_2*q_2))*cos(phi_2)/r_2 - 2*q_1*sin(phi_1)/r_1 - 2*q_2*sin(phi_2)/r_2],\n",
       "[-2*epsilon*q_1*sin(phi_1)*sin(2*(phi_1*q_1 + phi_2*q_2))/r_1 - 2*epsilon*q_1*cos(phi_1)*cos(2*(phi_1*q_1 + phi_2*q_2))/r_1 - 2*epsilon*q_2*sin(phi_2)*sin(2*(phi_1*q_1 + phi_2*q_2))/r_2 - 2*epsilon*q_2*cos(phi_2)*cos(2*(phi_1*q_1 + phi_2*q_2))/r_2 + 2*q_1*cos(phi_1)/r_1 + 2*q_2*cos(phi_2)/r_2]])"
      ]
     },
     "execution_count": 46,
     "metadata": {},
     "output_type": "execute_result"
    }
   ],
   "source": [
    "phi1_symb, phi2_symb = symbols('phi_1 phi_2', real=True)\n",
    "df_ddtheta_iso = df_ddtheta_iso.subs({phi1: phi1_symb, phi2: phi2_symb})\n",
    "\n",
    "trigsimp(expand(df_ddtheta_iso))"
   ]
  },
  {
   "cell_type": "markdown",
   "id": "155de056",
   "metadata": {},
   "source": [
    "### Simplify with trigonometry"
   ]
  },
  {
   "cell_type": "code",
   "execution_count": 48,
   "id": "798fbcc0",
   "metadata": {
    "scrolled": true
   },
   "outputs": [
    {
     "data": {
      "text/latex": [
       "$\\displaystyle \\left[\\begin{matrix}\\frac{2 \\epsilon \\left(q_{1} r_{2} \\sin{\\left(2 \\phi_{1} q_{1} - \\phi_{1} + 2 \\phi_{2} q_{2} \\right)} + q_{2} r_{1} \\sin{\\left(2 \\phi_{1} q_{1} + 2 \\phi_{2} q_{2} - \\phi_{2} \\right)}\\right) - 2 q_{1} r_{2} \\sin{\\left(\\phi_{1} \\right)} - 2 q_{2} r_{1} \\sin{\\left(\\phi_{2} \\right)}}{r_{1} r_{2}}\\\\\\frac{2 \\left(- \\epsilon \\left(q_{1} r_{2} \\cos{\\left(2 \\phi_{1} q_{1} - \\phi_{1} + 2 \\phi_{2} q_{2} \\right)} + q_{2} r_{1} \\cos{\\left(2 \\phi_{1} q_{1} + 2 \\phi_{2} q_{2} - \\phi_{2} \\right)}\\right) + q_{1} r_{2} \\cos{\\left(\\phi_{1} \\right)} + q_{2} r_{1} \\cos{\\left(\\phi_{2} \\right)}\\right)}{r_{1} r_{2}}\\end{matrix}\\right]$"
      ],
      "text/plain": [
       "Matrix([\n",
       "[(2*epsilon*(q_1*r_2*sin(2*phi_1*q_1 - phi_1 + 2*phi_2*q_2) + q_2*r_1*sin(2*phi_1*q_1 + 2*phi_2*q_2 - phi_2)) - 2*q_1*r_2*sin(phi_1) - 2*q_2*r_1*sin(phi_2))/(r_1*r_2)],\n",
       "[   2*(-epsilon*(q_1*r_2*cos(2*phi_1*q_1 - phi_1 + 2*phi_2*q_2) + q_2*r_1*cos(2*phi_1*q_1 + 2*phi_2*q_2 - phi_2)) + q_1*r_2*cos(phi_1) + q_2*r_1*cos(phi_2))/(r_1*r_2)]])"
      ]
     },
     "metadata": {},
     "output_type": "display_data"
    }
   ],
   "source": [
    "df_ddtheta_iso = TR8(df_ddtheta_iso)\n",
    "\n",
    "display(df_ddtheta_iso)"
   ]
  },
  {
   "cell_type": "code",
   "execution_count": 52,
   "id": "56434268",
   "metadata": {},
   "outputs": [
    {
     "data": {
      "text/latex": [
       "$\\displaystyle \\left[\\begin{matrix}- \\frac{q_{1} \\sin{\\left(2 \\phi_{1} q_{1} - \\phi_{1} + 2 \\phi_{2} q_{2} \\right)}}{r_{1}} - \\frac{q_{2} \\sin{\\left(2 \\phi_{1} q_{1} + 2 \\phi_{2} q_{2} - \\phi_{2} \\right)}}{r_{2}} + \\frac{q_{1} \\sin{\\left(\\phi_{1} \\right)}}{\\epsilon r_{1}} + \\frac{q_{2} \\sin{\\left(\\phi_{2} \\right)}}{\\epsilon r_{2}}\\\\\\frac{q_{1} \\cos{\\left(2 \\phi_{1} q_{1} - \\phi_{1} + 2 \\phi_{2} q_{2} \\right)}}{r_{1}} + \\frac{q_{2} \\cos{\\left(2 \\phi_{1} q_{1} + 2 \\phi_{2} q_{2} - \\phi_{2} \\right)}}{r_{2}} - \\frac{q_{1} \\cos{\\left(\\phi_{1} \\right)}}{\\epsilon r_{1}} - \\frac{q_{2} \\cos{\\left(\\phi_{2} \\right)}}{\\epsilon r_{2}}\\end{matrix}\\right]$"
      ],
      "text/plain": [
       "Matrix([\n",
       "[-q_1*sin(2*phi_1*q_1 - phi_1 + 2*phi_2*q_2)/r_1 - q_2*sin(2*phi_1*q_1 + 2*phi_2*q_2 - phi_2)/r_2 + q_1*sin(phi_1)/(epsilon*r_1) + q_2*sin(phi_2)/(epsilon*r_2)],\n",
       "[ q_1*cos(2*phi_1*q_1 - phi_1 + 2*phi_2*q_2)/r_1 + q_2*cos(2*phi_1*q_1 + 2*phi_2*q_2 - phi_2)/r_2 - q_1*cos(phi_1)/(epsilon*r_1) - q_2*cos(phi_2)/(epsilon*r_2)]])"
      ]
     },
     "metadata": {},
     "output_type": "display_data"
    }
   ],
   "source": [
    "display(simplify(-1/(2 * eps) * df_ddtheta_iso))"
   ]
  },
  {
   "cell_type": "code",
   "execution_count": null,
   "id": "14be9fdc",
   "metadata": {},
   "outputs": [],
   "source": []
  }
 ],
 "metadata": {
  "kernelspec": {
   "display_name": "Python 3 (ipykernel)",
   "language": "python",
   "name": "python3"
  },
  "language_info": {
   "codemirror_mode": {
    "name": "ipython",
    "version": 3
   },
   "file_extension": ".py",
   "mimetype": "text/x-python",
   "name": "python",
   "nbconvert_exporter": "python",
   "pygments_lexer": "ipython3",
   "version": "3.9.7"
  }
 },
 "nbformat": 4,
 "nbformat_minor": 5
}
