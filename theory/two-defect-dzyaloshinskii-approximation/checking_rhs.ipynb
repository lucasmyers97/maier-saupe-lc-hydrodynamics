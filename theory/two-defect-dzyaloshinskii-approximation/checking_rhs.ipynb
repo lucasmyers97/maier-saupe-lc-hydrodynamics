{
 "cells": [
  {
   "cell_type": "code",
   "execution_count": 1,
   "id": "6a8ce296",
   "metadata": {},
   "outputs": [],
   "source": [
    "from sympy import *\n",
    "from sympy.simplify.fu import *"
   ]
  },
  {
   "cell_type": "code",
   "execution_count": 2,
   "id": "67b45734",
   "metadata": {},
   "outputs": [
    {
     "data": {
      "text/latex": [
       "$\\displaystyle \\varphi_{1}$"
      ],
      "text/plain": [
       "\\varphi_1"
      ]
     },
     "metadata": {},
     "output_type": "display_data"
    },
    {
     "data": {
      "text/latex": [
       "$\\displaystyle \\varphi_{2}$"
      ],
      "text/plain": [
       "\\varphi_2"
      ]
     },
     "metadata": {},
     "output_type": "display_data"
    },
    {
     "data": {
      "text/latex": [
       "$\\displaystyle r_{1}$"
      ],
      "text/plain": [
       "r_1"
      ]
     },
     "metadata": {},
     "output_type": "display_data"
    },
    {
     "data": {
      "text/latex": [
       "$\\displaystyle r_{2}$"
      ],
      "text/plain": [
       "r_2"
      ]
     },
     "metadata": {},
     "output_type": "display_data"
    },
    {
     "data": {
      "text/latex": [
       "$\\displaystyle q_{1}$"
      ],
      "text/plain": [
       "q_1"
      ]
     },
     "metadata": {},
     "output_type": "display_data"
    },
    {
     "data": {
      "text/latex": [
       "$\\displaystyle q_{2}$"
      ],
      "text/plain": [
       "q_2"
      ]
     },
     "metadata": {},
     "output_type": "display_data"
    },
    {
     "data": {
      "text/latex": [
       "$\\displaystyle \\varphi$"
      ],
      "text/plain": [
       "\\varphi"
      ]
     },
     "metadata": {},
     "output_type": "display_data"
    },
    {
     "data": {
      "text/latex": [
       "$\\displaystyle r$"
      ],
      "text/plain": [
       "r"
      ]
     },
     "metadata": {},
     "output_type": "display_data"
    }
   ],
   "source": [
    "phi1, phi2, r1, r2, q1, q2 = symbols(r'\\varphi_1 \\varphi_2 r_1 r_2 q_1 q_2')\n",
    "phi, r = symbols(r'\\varphi r')\n",
    "\n",
    "display(phi1, phi2, r1, r2, q1, q2)\n",
    "display(phi, r)"
   ]
  },
  {
   "cell_type": "markdown",
   "id": "a874685d",
   "metadata": {},
   "source": [
    "### Eq (2)"
   ]
  },
  {
   "cell_type": "code",
   "execution_count": 3,
   "id": "81d0126c",
   "metadata": {},
   "outputs": [
    {
     "data": {
      "text/latex": [
       "$\\displaystyle \\varphi_{1} q_{1} + \\varphi_{2} q_{2} + \\frac{\\pi}{2}$"
      ],
      "text/plain": [
       "\\varphi_1*q_1 + \\varphi_2*q_2 + pi/2"
      ]
     },
     "metadata": {},
     "output_type": "display_data"
    }
   ],
   "source": [
    "theta_iso = q1*phi1 + q2*phi2 + pi/2\n",
    "display(theta_iso)"
   ]
  },
  {
   "cell_type": "code",
   "execution_count": 4,
   "id": "6ce53006",
   "metadata": {},
   "outputs": [],
   "source": [
    "def d_dx(expr, r, phi):\n",
    "    \n",
    "    return cos(phi) * expr.diff(r) - (1/r) * sin(phi) * expr.diff(phi)\n",
    "\n",
    "def d_dy(expr, r, phi):\n",
    "    \n",
    "    return sin(phi) * expr.diff(r) + (1/r) * cos(phi) * expr.diff(phi)"
   ]
  },
  {
   "cell_type": "markdown",
   "id": "31381fb1",
   "metadata": {},
   "source": [
    "### Eq (4)"
   ]
  },
  {
   "cell_type": "code",
   "execution_count": 5,
   "id": "95d25008",
   "metadata": {},
   "outputs": [
    {
     "data": {
      "text/latex": [
       "$\\displaystyle - \\frac{\\sin{\\left(\\varphi \\right)}}{r}$"
      ],
      "text/plain": [
       "-sin(\\varphi)/r"
      ]
     },
     "metadata": {},
     "output_type": "display_data"
    },
    {
     "data": {
      "text/latex": [
       "$\\displaystyle \\frac{\\cos{\\left(\\varphi \\right)}}{r}$"
      ],
      "text/plain": [
       "cos(\\varphi)/r"
      ]
     },
     "metadata": {},
     "output_type": "display_data"
    }
   ],
   "source": [
    "dphi_dx = d_dx(phi, r, phi)\n",
    "dphi_dy = d_dy(phi, r, phi)\n",
    "\n",
    "display(dphi_dx, dphi_dy)"
   ]
  },
  {
   "cell_type": "markdown",
   "id": "7ed78365",
   "metadata": {},
   "source": [
    "### Eq (5)"
   ]
  },
  {
   "cell_type": "code",
   "execution_count": 6,
   "id": "57132479",
   "metadata": {},
   "outputs": [
    {
     "data": {
      "text/latex": [
       "$\\displaystyle \\frac{\\sin{\\left(2 \\varphi \\right)}}{r^{2}}$"
      ],
      "text/plain": [
       "sin(2*\\varphi)/r**2"
      ]
     },
     "metadata": {},
     "output_type": "display_data"
    },
    {
     "data": {
      "text/latex": [
       "$\\displaystyle - \\frac{\\sin{\\left(2 \\varphi \\right)}}{r^{2}}$"
      ],
      "text/plain": [
       "-sin(2*\\varphi)/r**2"
      ]
     },
     "metadata": {},
     "output_type": "display_data"
    },
    {
     "data": {
      "text/latex": [
       "$\\displaystyle - \\frac{\\cos{\\left(2 \\varphi \\right)}}{r^{2}}$"
      ],
      "text/plain": [
       "-cos(2*\\varphi)/r**2"
      ]
     },
     "metadata": {},
     "output_type": "display_data"
    }
   ],
   "source": [
    "d2phi_dx2 = simplify( d_dx(dphi_dx, r, phi) )\n",
    "d2phi_dy2 = simplify( d_dy(dphi_dy, r, phi) )\n",
    "d2phi_dxdy = simplify( d_dy(dphi_dx, r, phi) )\n",
    "\n",
    "display(d2phi_dx2, d2phi_dy2, d2phi_dxdy)"
   ]
  },
  {
   "cell_type": "code",
   "execution_count": 7,
   "id": "fd121df9",
   "metadata": {},
   "outputs": [
    {
     "data": {
      "text/latex": [
       "$\\displaystyle - \\frac{q_{1} \\sin{\\left(\\varphi_{1} \\right)}}{r_{1}} - \\frac{q_{2} \\sin{\\left(\\varphi_{2} \\right)}}{r_{2}}$"
      ],
      "text/plain": [
       "-q_1*sin(\\varphi_1)/r_1 - q_2*sin(\\varphi_2)/r_2"
      ]
     },
     "metadata": {},
     "output_type": "display_data"
    },
    {
     "data": {
      "text/latex": [
       "$\\displaystyle \\frac{q_{1} \\cos{\\left(\\varphi_{1} \\right)}}{r_{1}} + \\frac{q_{2} \\cos{\\left(\\varphi_{2} \\right)}}{r_{2}}$"
      ],
      "text/plain": [
       "q_1*cos(\\varphi_1)/r_1 + q_2*cos(\\varphi_2)/r_2"
      ]
     },
     "metadata": {},
     "output_type": "display_data"
    }
   ],
   "source": [
    "dtheta_dx = q1 * d_dx(phi1, r1, phi1) + q2 * d_dx(phi2, r2, phi2)\n",
    "dtheta_dy = q1 * d_dy(phi1, r1, phi1) + q2 * d_dy(phi2, r2, phi2)\n",
    "\n",
    "display(dtheta_dx, dtheta_dy)"
   ]
  },
  {
   "cell_type": "code",
   "execution_count": 8,
   "id": "56d59123",
   "metadata": {},
   "outputs": [],
   "source": [
    "d2theta_dx2 = q1 * d_dx(d_dx(phi1, r1, phi1), r1, phi1) + q2 * d_dx(d_dx(phi2, r2, phi2), r2, phi2)\n",
    "d2theta_dy2 = q1 * d_dy(d_dy(phi1, r1, phi1), r1, phi1) + q2 * d_dy(d_dy(phi2, r2, phi2), r2, phi2)"
   ]
  },
  {
   "cell_type": "code",
   "execution_count": 9,
   "id": "0da0cf47",
   "metadata": {},
   "outputs": [],
   "source": [
    "d2theta_dxdy = q1 * d_dy(d_dx(phi1, r1, phi1), r1, phi1) + q2 * d_dy(d_dx(phi2, r2, phi2), r2, phi2)"
   ]
  },
  {
   "cell_type": "markdown",
   "id": "7dd26762",
   "metadata": {},
   "source": [
    "### Eq (6)"
   ]
  },
  {
   "cell_type": "code",
   "execution_count": 10,
   "id": "cd84fafc",
   "metadata": {},
   "outputs": [
    {
     "data": {
      "text/latex": [
       "$\\displaystyle \\frac{q_{1}^{2} \\sin^{2}{\\left(\\varphi_{1} \\right)}}{r_{1}^{2}} + \\frac{2 q_{1} q_{2} \\sin{\\left(\\varphi_{1} \\right)} \\sin{\\left(\\varphi_{2} \\right)}}{r_{1} r_{2}} + \\frac{q_{2}^{2} \\sin^{2}{\\left(\\varphi_{2} \\right)}}{r_{2}^{2}}$"
      ],
      "text/plain": [
       "q_1**2*sin(\\varphi_1)**2/r_1**2 + 2*q_1*q_2*sin(\\varphi_1)*sin(\\varphi_2)/(r_1*r_2) + q_2**2*sin(\\varphi_2)**2/r_2**2"
      ]
     },
     "metadata": {},
     "output_type": "display_data"
    },
    {
     "data": {
      "text/latex": [
       "$\\displaystyle \\frac{q_{1}^{2} \\cos^{2}{\\left(\\varphi_{1} \\right)}}{r_{1}^{2}} + \\frac{2 q_{1} q_{2} \\cos{\\left(\\varphi_{1} \\right)} \\cos{\\left(\\varphi_{2} \\right)}}{r_{1} r_{2}} + \\frac{q_{2}^{2} \\cos^{2}{\\left(\\varphi_{2} \\right)}}{r_{2}^{2}}$"
      ],
      "text/plain": [
       "q_1**2*cos(\\varphi_1)**2/r_1**2 + 2*q_1*q_2*cos(\\varphi_1)*cos(\\varphi_2)/(r_1*r_2) + q_2**2*cos(\\varphi_2)**2/r_2**2"
      ]
     },
     "metadata": {},
     "output_type": "display_data"
    }
   ],
   "source": [
    "dtheta_dx2 = expand( dtheta_dx**2 )\n",
    "dtheta_dy2 = expand( dtheta_dy**2 )\n",
    "\n",
    "display(dtheta_dx2, dtheta_dy2)"
   ]
  },
  {
   "cell_type": "code",
   "execution_count": 11,
   "id": "3565e845",
   "metadata": {},
   "outputs": [
    {
     "data": {
      "text/latex": [
       "$\\displaystyle - \\frac{q_{1}^{2} \\sin{\\left(2 \\varphi_{1} \\right)}}{2 r_{1}^{2}} - \\frac{q_{1} q_{2} \\sin{\\left(\\varphi_{1} + \\varphi_{2} \\right)}}{r_{1} r_{2}} - \\frac{q_{2}^{2} \\sin{\\left(2 \\varphi_{2} \\right)}}{2 r_{2}^{2}}$"
      ],
      "text/plain": [
       "-q_1**2*sin(2*\\varphi_1)/(2*r_1**2) - q_1*q_2*sin(\\varphi_1 + \\varphi_2)/(r_1*r_2) - q_2**2*sin(2*\\varphi_2)/(2*r_2**2)"
      ]
     },
     "metadata": {},
     "output_type": "display_data"
    }
   ],
   "source": [
    "dtheta_dx_dtheta_dy = simplify( expand( dtheta_dx * dtheta_dy ) )\n",
    "display(dtheta_dx_dtheta_dy)"
   ]
  },
  {
   "cell_type": "markdown",
   "id": "0f272ce7",
   "metadata": {},
   "source": [
    "### Eq (7)"
   ]
  },
  {
   "cell_type": "code",
   "execution_count": 12,
   "id": "7236df0a",
   "metadata": {},
   "outputs": [
    {
     "data": {
      "text/latex": [
       "$\\displaystyle - \\frac{q_{1}^{2} \\cos{\\left(2 \\varphi_{1} \\right)}}{r_{1}^{2}} - \\frac{2 q_{1} q_{2} \\cos{\\left(\\varphi_{1} + \\varphi_{2} \\right)}}{r_{1} r_{2}} + \\frac{2 q_{1} \\cos{\\left(2 \\varphi_{1} \\right)}}{r_{1}^{2}} - \\frac{q_{2}^{2} \\cos{\\left(2 \\varphi_{2} \\right)}}{r_{2}^{2}} + \\frac{2 q_{2} \\cos{\\left(2 \\varphi_{2} \\right)}}{r_{2}^{2}}$"
      ],
      "text/plain": [
       "-q_1**2*cos(2*\\varphi_1)/r_1**2 - 2*q_1*q_2*cos(\\varphi_1 + \\varphi_2)/(r_1*r_2) + 2*q_1*cos(2*\\varphi_1)/r_1**2 - q_2**2*cos(2*\\varphi_2)/r_2**2 + 2*q_2*cos(2*\\varphi_2)/r_2**2"
      ]
     },
     "metadata": {},
     "output_type": "display_data"
    }
   ],
   "source": [
    "sin_coeff = expand( simplify( dtheta_dx2 - dtheta_dy2 - 2*d2theta_dxdy ) )\n",
    "\n",
    "display(sin_coeff)"
   ]
  },
  {
   "cell_type": "markdown",
   "id": "706b5261",
   "metadata": {},
   "source": [
    "### Eq (8)"
   ]
  },
  {
   "cell_type": "code",
   "execution_count": 13,
   "id": "88f6234a",
   "metadata": {},
   "outputs": [
    {
     "data": {
      "text/latex": [
       "$\\displaystyle \\frac{q_{1}^{2} \\sin{\\left(2 \\varphi_{1} \\right)}}{r_{1}^{2}} + \\frac{2 q_{1} q_{2} \\sin{\\left(\\varphi_{1} + \\varphi_{2} \\right)}}{r_{1} r_{2}} - \\frac{2 q_{1} \\sin{\\left(2 \\varphi_{1} \\right)}}{r_{1}^{2}} + \\frac{q_{2}^{2} \\sin{\\left(2 \\varphi_{2} \\right)}}{r_{2}^{2}} - \\frac{2 q_{2} \\sin{\\left(2 \\varphi_{2} \\right)}}{r_{2}^{2}}$"
      ],
      "text/plain": [
       "q_1**2*sin(2*\\varphi_1)/r_1**2 + 2*q_1*q_2*sin(\\varphi_1 + \\varphi_2)/(r_1*r_2) - 2*q_1*sin(2*\\varphi_1)/r_1**2 + q_2**2*sin(2*\\varphi_2)/r_2**2 - 2*q_2*sin(2*\\varphi_2)/r_2**2"
      ]
     },
     "metadata": {},
     "output_type": "display_data"
    }
   ],
   "source": [
    "cos_coeff = expand( simplify( d2theta_dy2 - d2theta_dx2 - 2*dtheta_dx_dtheta_dy ) )\n",
    "\n",
    "display(cos_coeff)"
   ]
  },
  {
   "cell_type": "code",
   "execution_count": 14,
   "id": "93575ea9",
   "metadata": {},
   "outputs": [
    {
     "data": {
      "text/latex": [
       "$\\displaystyle \\frac{2 q_{1} q_{2} r_{1} r_{2} \\sin{\\left(2 \\varphi_{1} q_{1} - \\varphi_{1} + 2 \\varphi_{2} q_{2} - \\varphi_{2} \\right)} + q_{1} r_{2}^{2} \\left(q_{1} - 2\\right) \\sin{\\left(2 \\varphi_{1} q_{1} - 2 \\varphi_{1} + 2 \\varphi_{2} q_{2} \\right)} + q_{2} r_{1}^{2} \\left(q_{2} - 2\\right) \\sin{\\left(2 \\varphi_{1} q_{1} + 2 \\varphi_{2} q_{2} - 2 \\varphi_{2} \\right)}}{r_{1}^{2} r_{2}^{2}}$"
      ],
      "text/plain": [
       "(2*q_1*q_2*r_1*r_2*sin(2*\\varphi_1*q_1 - \\varphi_1 + 2*\\varphi_2*q_2 - \\varphi_2) + q_1*r_2**2*(q_1 - 2)*sin(2*\\varphi_1*q_1 - 2*\\varphi_1 + 2*\\varphi_2*q_2) + q_2*r_1**2*(q_2 - 2)*sin(2*\\varphi_1*q_1 + 2*\\varphi_2*q_2 - 2*\\varphi_2))/(r_1**2*r_2**2)"
      ]
     },
     "metadata": {},
     "output_type": "display_data"
    }
   ],
   "source": [
    "rhs = simplify( expand(sin(2*theta_iso) * sin_coeff + cos(2*theta_iso) * cos_coeff) )\n",
    "\n",
    "display(rhs)"
   ]
  }
 ],
 "metadata": {
  "kernelspec": {
   "display_name": "Python 3 (ipykernel)",
   "language": "python",
   "name": "python3"
  },
  "language_info": {
   "codemirror_mode": {
    "name": "ipython",
    "version": 3
   },
   "file_extension": ".py",
   "mimetype": "text/x-python",
   "name": "python",
   "nbconvert_exporter": "python",
   "pygments_lexer": "ipython3",
   "version": "3.9.7"
  }
 },
 "nbformat": 4,
 "nbformat_minor": 5
}
