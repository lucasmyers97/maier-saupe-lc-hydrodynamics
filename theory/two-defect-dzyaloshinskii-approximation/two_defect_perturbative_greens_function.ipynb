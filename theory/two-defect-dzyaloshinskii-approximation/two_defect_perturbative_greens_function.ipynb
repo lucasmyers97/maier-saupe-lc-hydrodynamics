{
 "cells": [
  {
   "cell_type": "code",
   "execution_count": 5,
   "id": "d3eb14b1",
   "metadata": {},
   "outputs": [],
   "source": [
    "from sympy import *\n",
    "from sympy.simplify.fu import *"
   ]
  },
  {
   "cell_type": "markdown",
   "id": "8e62416a",
   "metadata": {},
   "source": [
    "### Write out Carter's linearized equation"
   ]
  },
  {
   "cell_type": "code",
   "execution_count": 2,
   "id": "33f5a99d",
   "metadata": {},
   "outputs": [],
   "source": [
    "q1, q2, eps = symbols('q_1 q_2 epsilon')\n",
    "theta1, theta2, theta = symbols('theta_1 theta_2 theta')\n",
    "r1, r2, r, d = symbols('r_1 r_2 r d', positive=True)"
   ]
  },
  {
   "cell_type": "code",
   "execution_count": 3,
   "id": "f503e21a",
   "metadata": {},
   "outputs": [
    {
     "data": {
      "text/latex": [
       "$\\displaystyle - \\frac{2 \\epsilon q_{1} q_{2} \\sin{\\left(\\theta_{1} \\cdot \\left(1 - 2 q_{1}\\right) + \\theta_{2} \\cdot \\left(1 - 2 q_{2}\\right) \\right)}}{r_{1} r_{2}} - \\frac{\\epsilon q_{1} \\cdot \\left(2 - q_{1}\\right) \\sin{\\left(2 q_{2} \\theta_{2} - \\theta_{1} \\cdot \\left(2 - 2 q_{1}\\right) \\right)}}{r_{1}^{2}} - \\frac{\\epsilon q_{2} \\cdot \\left(2 - q_{2}\\right) \\sin{\\left(2 q_{1} \\theta_{1} - \\theta_{2} \\cdot \\left(2 - 2 q_{2}\\right) \\right)}}{r_{2}^{2}}$"
      ],
      "text/plain": [
       "-2*epsilon*q_1*q_2*sin(theta_1*(1 - 2*q_1) + theta_2*(1 - 2*q_2))/(r_1*r_2) - epsilon*q_1*(2 - q_1)*sin(2*q_2*theta_2 - theta_1*(2 - 2*q_1))/r_1**2 - epsilon*q_2*(2 - q_2)*sin(2*q_1*theta_1 - theta_2*(2 - 2*q_2))/r_2**2"
      ]
     },
     "metadata": {},
     "output_type": "display_data"
    }
   ],
   "source": [
    "eq_rhs = ( (q1*(2 - q1)*eps / r1**2) * sin(2*(1 - q1)*theta1 - 2*q2*theta2)\n",
    "           + (q2*(2 - q2)*eps / r2**2) * sin(2*(1 - q2)*theta2 - 2*q1*theta1)\n",
    "           - (2*eps*q1*q2 / (r1*r2)) * sin((1 - 2*q1)*theta1 + (1 - 2*q2)*theta2) )\n",
    "display(eq_rhs)"
   ]
  },
  {
   "cell_type": "markdown",
   "id": "c2db27ea",
   "metadata": {},
   "source": [
    "### Choose $q_1 = 1/2$, $q_2 = -1/2$"
   ]
  },
  {
   "cell_type": "code",
   "execution_count": 4,
   "id": "2793d919",
   "metadata": {},
   "outputs": [
    {
     "data": {
      "text/latex": [
       "$\\displaystyle \\frac{5 \\epsilon \\sin{\\left(\\theta_{1} - 3 \\theta_{2} \\right)}}{4 r_{2}^{2}} + \\frac{\\epsilon \\sin{\\left(2 \\theta_{2} \\right)}}{2 r_{1} r_{2}} + \\frac{3 \\epsilon \\sin{\\left(\\theta_{1} + \\theta_{2} \\right)}}{4 r_{1}^{2}}$"
      ],
      "text/plain": [
       "5*epsilon*sin(theta_1 - 3*theta_2)/(4*r_2**2) + epsilon*sin(2*theta_2)/(2*r_1*r_2) + 3*epsilon*sin(theta_1 + theta_2)/(4*r_1**2)"
      ]
     },
     "metadata": {},
     "output_type": "display_data"
    }
   ],
   "source": [
    "charge_subs = {q1: Rational(1, 2), q2: -Rational(1, 2)}\n",
    "eq_rhs = eq_rhs.subs(charge_subs)\n",
    "display(eq_rhs)"
   ]
  },
  {
   "cell_type": "markdown",
   "id": "8f99fe92",
   "metadata": {},
   "source": [
    "### Separate trig functions"
   ]
  },
  {
   "cell_type": "code",
   "execution_count": 12,
   "id": "702bbedd",
   "metadata": {},
   "outputs": [
    {
     "data": {
      "text/latex": [
       "$\\displaystyle \\frac{5 \\epsilon \\left(- \\left(- 4 \\sin^{3}{\\left(\\theta_{2} \\right)} + 3 \\sin{\\left(\\theta_{2} \\right)}\\right) \\cos{\\left(\\theta_{1} \\right)} + \\left(4 \\cos^{3}{\\left(\\theta_{2} \\right)} - 3 \\cos{\\left(\\theta_{2} \\right)}\\right) \\sin{\\left(\\theta_{1} \\right)}\\right)}{4 r_{2}^{2}} + \\frac{\\epsilon \\sin{\\left(\\theta_{2} \\right)} \\cos{\\left(\\theta_{2} \\right)}}{r_{1} r_{2}} + \\frac{3 \\epsilon \\left(\\sin{\\left(\\theta_{1} \\right)} \\cos{\\left(\\theta_{2} \\right)} + \\sin{\\left(\\theta_{2} \\right)} \\cos{\\left(\\theta_{1} \\right)}\\right)}{4 r_{1}^{2}}$"
      ],
      "text/plain": [
       "5*epsilon*(-(-4*sin(theta_2)**3 + 3*sin(theta_2))*cos(theta_1) + (4*cos(theta_2)**3 - 3*cos(theta_2))*sin(theta_1))/(4*r_2**2) + epsilon*sin(theta_2)*cos(theta_2)/(r_1*r_2) + 3*epsilon*(sin(theta_1)*cos(theta_2) + sin(theta_2)*cos(theta_1))/(4*r_1**2)"
      ]
     },
     "metadata": {},
     "output_type": "display_data"
    }
   ],
   "source": [
    "triple_angle_theta1 = {sin(3*theta1): 3*sin(theta1) - 4*sin(theta1)**3,\n",
    "                       cos(3*theta1): 4*cos(theta1)**3 - 3*cos(theta1)}\n",
    "\n",
    "triple_angle_theta2 = {sin(3*theta2): 3*sin(theta2) - 4*sin(theta2)**3,\n",
    "                       cos(3*theta2): 4*cos(theta2)**3 - 3*cos(theta2)}\n",
    "\n",
    "eq_rhs = TR11(TR10(eq_rhs))\n",
    "eq_rhs = eq_rhs.subs(triple_angle_theta1)\n",
    "eq_rhs = eq_rhs.subs(triple_angle_theta2)\n",
    "\n",
    "display(eq_rhs)"
   ]
  },
  {
   "cell_type": "markdown",
   "id": "f494113a",
   "metadata": {},
   "source": [
    "### Substitute cartesian coordinates from center"
   ]
  },
  {
   "cell_type": "code",
   "execution_count": 10,
   "id": "7a88700e",
   "metadata": {},
   "outputs": [],
   "source": [
    "x, y = symbols('x y', real=True)\n",
    "d = symbols('d', positive=True)"
   ]
  },
  {
   "cell_type": "code",
   "execution_count": 13,
   "id": "f6c65001",
   "metadata": {},
   "outputs": [
    {
     "data": {
      "text/latex": [
       "$\\displaystyle \\frac{\\epsilon y \\left(- d + x\\right)}{\\left(y^{2} + \\left(- d + x\\right)^{2}\\right)^{\\frac{3}{2}} \\sqrt{y^{2} + \\left(d + x\\right)^{2}}} + \\frac{3 \\epsilon \\left(\\frac{y \\left(- d + x\\right)}{\\sqrt{y^{2} + \\left(- d + x\\right)^{2}} \\sqrt{y^{2} + \\left(d + x\\right)^{2}}} + \\frac{y \\left(d + x\\right)}{\\sqrt{y^{2} + \\left(- d + x\\right)^{2}} \\sqrt{y^{2} + \\left(d + x\\right)^{2}}}\\right)}{4 \\left(y^{2} + \\left(d + x\\right)^{2}\\right)} + \\frac{5 \\epsilon \\left(\\frac{y \\left(\\frac{4 \\left(- d + x\\right)^{3}}{\\left(y^{2} + \\left(- d + x\\right)^{2}\\right)^{\\frac{3}{2}}} - \\frac{3 \\left(- d + x\\right)}{\\sqrt{y^{2} + \\left(- d + x\\right)^{2}}}\\right)}{\\sqrt{y^{2} + \\left(d + x\\right)^{2}}} - \\frac{\\left(d + x\\right) \\left(- \\frac{4 y^{3}}{\\left(y^{2} + \\left(- d + x\\right)^{2}\\right)^{\\frac{3}{2}}} + \\frac{3 y}{\\sqrt{y^{2} + \\left(- d + x\\right)^{2}}}\\right)}{\\sqrt{y^{2} + \\left(d + x\\right)^{2}}}\\right)}{4 \\left(y^{2} + \\left(- d + x\\right)^{2}\\right)}$"
      ],
      "text/plain": [
       "epsilon*y*(-d + x)/((y**2 + (-d + x)**2)**(3/2)*sqrt(y**2 + (d + x)**2)) + 3*epsilon*(y*(-d + x)/(sqrt(y**2 + (-d + x)**2)*sqrt(y**2 + (d + x)**2)) + y*(d + x)/(sqrt(y**2 + (-d + x)**2)*sqrt(y**2 + (d + x)**2)))/(4*(y**2 + (d + x)**2)) + 5*epsilon*(y*(4*(-d + x)**3/(y**2 + (-d + x)**2)**(3/2) - 3*(-d + x)/sqrt(y**2 + (-d + x)**2))/sqrt(y**2 + (d + x)**2) - (d + x)*(-4*y**3/(y**2 + (-d + x)**2)**(3/2) + 3*y/sqrt(y**2 + (-d + x)**2))/sqrt(y**2 + (d + x)**2))/(4*(y**2 + (-d + x)**2))"
      ]
     },
     "metadata": {},
     "output_type": "display_data"
    }
   ],
   "source": [
    "angle_sub = {sin(theta1): y/r1,\n",
    "             sin(theta2): y/r2,\n",
    "             cos(theta1): (x + d)/r1,\n",
    "             cos(theta2): (x - d)/r2}\n",
    "\n",
    "coord_sub = {r1: sqrt((x + d)**2 + y**2),\n",
    "             r2: sqrt((x - d)**2 + y**2)}\n",
    "\n",
    "eq_rhs = eq_rhs.subs(angle_sub)\n",
    "eq_rhs = eq_rhs.subs(coord_sub)\n",
    "\n",
    "display(eq_rhs)"
   ]
  },
  {
   "cell_type": "code",
   "execution_count": 14,
   "id": "2dfe4938",
   "metadata": {},
   "outputs": [
    {
     "data": {
      "text/latex": [
       "$\\displaystyle \\frac{\\epsilon y \\left(6 x \\left(y^{2} + \\left(d - x\\right)^{2}\\right)^{2} - 4 \\left(d - x\\right) \\left(y^{2} + \\left(d - x\\right)^{2}\\right) \\left(y^{2} + \\left(d + x\\right)^{2}\\right) - 5 \\left(y^{2} + \\left(d + x\\right)^{2}\\right) \\left(3 \\left(- d + x\\right) \\left(y^{2} + \\left(d - x\\right)^{2}\\right) + 4 \\left(d - x\\right)^{3} - \\left(d + x\\right) \\left(y^{2} - 3 \\left(d - x\\right)^{2}\\right)\\right)\\right)}{4 \\left(y^{2} + \\left(d - x\\right)^{2}\\right)^{\\frac{5}{2}} \\left(y^{2} + \\left(d + x\\right)^{2}\\right)^{\\frac{3}{2}}}$"
      ],
      "text/plain": [
       "epsilon*y*(6*x*(y**2 + (d - x)**2)**2 - 4*(d - x)*(y**2 + (d - x)**2)*(y**2 + (d + x)**2) - 5*(y**2 + (d + x)**2)*(3*(-d + x)*(y**2 + (d - x)**2) + 4*(d - x)**3 - (d + x)*(y**2 - 3*(d - x)**2)))/(4*(y**2 + (d - x)**2)**(5/2)*(y**2 + (d + x)**2)**(3/2))"
      ]
     },
     "metadata": {},
     "output_type": "display_data"
    }
   ],
   "source": [
    "eq_rhs = simplify(eq_rhs)\n",
    "display(eq_rhs)"
   ]
  },
  {
   "cell_type": "code",
   "execution_count": 17,
   "id": "37912e02",
   "metadata": {},
   "outputs": [
    {
     "data": {
      "text/latex": [
       "$\\displaystyle \\frac{2 d \\epsilon y \\left(- 3 d^{4} + 3 d^{2} x^{2} - d^{2} y^{2} + 6 d x^{3} + 10 d x y^{2} - 6 x^{4} - 4 x^{2} y^{2} + 2 y^{4}\\right)}{\\sqrt{d^{2} - 2 d x + x^{2} + y^{2}} \\sqrt{d^{2} + 2 d x + x^{2} + y^{2}} \\left(d^{6} - 2 d^{5} x - d^{4} x^{2} + 3 d^{4} y^{2} + 4 d^{3} x^{3} - 4 d^{3} x y^{2} - d^{2} x^{4} + 2 d^{2} x^{2} y^{2} + 3 d^{2} y^{4} - 2 d x^{5} - 4 d x^{3} y^{2} - 2 d x y^{4} + x^{6} + 3 x^{4} y^{2} + 3 x^{2} y^{4} + y^{6}\\right)}$"
      ],
      "text/plain": [
       "2*d*epsilon*y*(-3*d**4 + 3*d**2*x**2 - d**2*y**2 + 6*d*x**3 + 10*d*x*y**2 - 6*x**4 - 4*x**2*y**2 + 2*y**4)/(sqrt(d**2 - 2*d*x + x**2 + y**2)*sqrt(d**2 + 2*d*x + x**2 + y**2)*(d**6 - 2*d**5*x - d**4*x**2 + 3*d**4*y**2 + 4*d**3*x**3 - 4*d**3*x*y**2 - d**2*x**4 + 2*d**2*x**2*y**2 + 3*d**2*y**4 - 2*d*x**5 - 4*d*x**3*y**2 - 2*d*x*y**4 + x**6 + 3*x**4*y**2 + 3*x**2*y**4 + y**6))"
      ]
     },
     "execution_count": 17,
     "metadata": {},
     "output_type": "execute_result"
    }
   ],
   "source": [
    "simplify(expand(eq_rhs))"
   ]
  },
  {
   "cell_type": "code",
   "execution_count": null,
   "id": "140f7ee3",
   "metadata": {},
   "outputs": [],
   "source": []
  }
 ],
 "metadata": {
  "kernelspec": {
   "display_name": "Python 3 (ipykernel)",
   "language": "python",
   "name": "python3"
  },
  "language_info": {
   "codemirror_mode": {
    "name": "ipython",
    "version": 3
   },
   "file_extension": ".py",
   "mimetype": "text/x-python",
   "name": "python",
   "nbconvert_exporter": "python",
   "pygments_lexer": "ipython3",
   "version": "3.9.7"
  }
 },
 "nbformat": 4,
 "nbformat_minor": 5
}
