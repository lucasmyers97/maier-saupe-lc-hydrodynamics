{
 "cells": [
  {
   "cell_type": "code",
   "execution_count": 447,
   "id": "3c646fe9",
   "metadata": {},
   "outputs": [],
   "source": [
    "from sympy import *\n",
    "from sympy.vector import CoordSys3D, Del\n",
    "from sympy.simplify.epathtools import EPath\n",
    "\n",
    "from sympy.simplify.fu import *"
   ]
  },
  {
   "cell_type": "code",
   "execution_count": 448,
   "id": "e7d87623",
   "metadata": {},
   "outputs": [],
   "source": [
    "R = CoordSys3D('R')\n",
    "delop = Del()\n",
    "x = R.x\n",
    "y = R.y\n",
    "\n",
    "eps, theta, r = symbols('epsilon theta r')\n",
    "nx = Function('n_x')(x, y)\n",
    "ny = Function('n_y')(x, y)"
   ]
  },
  {
   "cell_type": "code",
   "execution_count": 449,
   "id": "5dee171f",
   "metadata": {},
   "outputs": [
    {
     "data": {
      "text/latex": [
       "$\\displaystyle (\\operatorname{n_{x}}{\\left(\\mathbf{{x}_{R}},\\mathbf{{y}_{R}} \\right)})\\mathbf{\\hat{i}_{R}} + (\\operatorname{n_{y}}{\\left(\\mathbf{{x}_{R}},\\mathbf{{y}_{R}} \\right)})\\mathbf{\\hat{j}_{R}}$"
      ],
      "text/plain": [
       "(n_x(R.x, R.y))*R.i + (n_y(R.x, R.y))*R.j"
      ]
     },
     "execution_count": 449,
     "metadata": {},
     "output_type": "execute_result"
    }
   ],
   "source": [
    "n = nx * R.i + ny * R.j\n",
    "n"
   ]
  },
  {
   "cell_type": "code",
   "execution_count": 512,
   "id": "d67bc718",
   "metadata": {},
   "outputs": [],
   "source": [
    "A, B = symbols('A B')"
   ]
  },
  {
   "cell_type": "markdown",
   "id": "18b60c3a",
   "metadata": {},
   "source": [
    "### Calculate charge density"
   ]
  },
  {
   "cell_type": "code",
   "execution_count": 450,
   "id": "cbdcda0b",
   "metadata": {},
   "outputs": [
    {
     "data": {
      "text/latex": [
       "$\\displaystyle \\left(\\frac{\\partial}{\\partial \\mathbf{{x}_{R}}} \\operatorname{n_{x}}{\\left(\\mathbf{{x}_{R}},\\mathbf{{y}_{R}} \\right)} + \\frac{\\partial}{\\partial \\mathbf{{y}_{R}}} \\operatorname{n_{y}}{\\left(\\mathbf{{x}_{R}},\\mathbf{{y}_{R}} \\right)}\\right)^{2}$"
      ],
      "text/plain": [
       "(Derivative(n_x(R.x, R.y), R.x) + Derivative(n_y(R.x, R.y), R.y))**2"
      ]
     },
     "execution_count": 450,
     "metadata": {},
     "output_type": "execute_result"
    }
   ],
   "source": [
    "splay = simplify( delop.dot(n).doit()**2 )\n",
    "splay"
   ]
  },
  {
   "cell_type": "code",
   "execution_count": 451,
   "id": "7fcfde91",
   "metadata": {},
   "outputs": [
    {
     "data": {
      "text/latex": [
       "$\\displaystyle \\left(\\frac{\\partial}{\\partial \\mathbf{{y}_{R}}} \\operatorname{n_{x}}{\\left(\\mathbf{{x}_{R}},\\mathbf{{y}_{R}} \\right)} - \\frac{\\partial}{\\partial \\mathbf{{x}_{R}}} \\operatorname{n_{y}}{\\left(\\mathbf{{x}_{R}},\\mathbf{{y}_{R}} \\right)}\\right)^{2}$"
      ],
      "text/plain": [
       "(Derivative(n_x(R.x, R.y), R.y) - Derivative(n_y(R.x, R.y), R.x))**2"
      ]
     },
     "execution_count": 451,
     "metadata": {},
     "output_type": "execute_result"
    }
   ],
   "source": [
    "bend = simplify( n.cross( delop.cross(n).doit() ).magnitude()**2 )\n",
    "bend = bend.subs(nx**2 + ny**2, 1)\n",
    "bend"
   ]
  },
  {
   "cell_type": "code",
   "execution_count": 452,
   "id": "554bb2cf",
   "metadata": {},
   "outputs": [
    {
     "data": {
      "text/latex": [
       "$\\displaystyle \\left(1 - \\epsilon\\right) \\left(\\frac{\\partial}{\\partial \\mathbf{{y}_{R}}} \\operatorname{n_{x}}{\\left(\\mathbf{{x}_{R}},\\mathbf{{y}_{R}} \\right)} - \\frac{\\partial}{\\partial \\mathbf{{x}_{R}}} \\operatorname{n_{y}}{\\left(\\mathbf{{x}_{R}},\\mathbf{{y}_{R}} \\right)}\\right)^{2} + \\left(\\epsilon + 1\\right) \\left(\\frac{\\partial}{\\partial \\mathbf{{x}_{R}}} \\operatorname{n_{x}}{\\left(\\mathbf{{x}_{R}},\\mathbf{{y}_{R}} \\right)} + \\frac{\\partial}{\\partial \\mathbf{{y}_{R}}} \\operatorname{n_{y}}{\\left(\\mathbf{{x}_{R}},\\mathbf{{y}_{R}} \\right)}\\right)^{2}$"
      ],
      "text/plain": [
       "(1 - epsilon)*(Derivative(n_x(R.x, R.y), R.y) - Derivative(n_y(R.x, R.y), R.x))**2 + (epsilon + 1)*(Derivative(n_x(R.x, R.y), R.x) + Derivative(n_y(R.x, R.y), R.y))**2"
      ]
     },
     "execution_count": 452,
     "metadata": {},
     "output_type": "execute_result"
    }
   ],
   "source": [
    "g = (1 + eps) * splay + (1 - eps) * bend\n",
    "g"
   ]
  },
  {
   "cell_type": "markdown",
   "id": "41caa2c8",
   "metadata": {},
   "source": [
    "### Calculate in terms of director angle"
   ]
  },
  {
   "cell_type": "code",
   "execution_count": 453,
   "id": "eef8af42",
   "metadata": {},
   "outputs": [
    {
     "data": {
      "text/latex": [
       "$\\displaystyle \\phi{\\left(\\mathbf{{x}_{R}},\\mathbf{{y}_{R}} \\right)}$"
      ],
      "text/plain": [
       "phi(R.x, R.y)"
      ]
     },
     "execution_count": 453,
     "metadata": {},
     "output_type": "execute_result"
    }
   ],
   "source": [
    "phi = Function('phi')(x, y)\n",
    "phi"
   ]
  },
  {
   "cell_type": "code",
   "execution_count": 454,
   "id": "3141116d",
   "metadata": {},
   "outputs": [
    {
     "data": {
      "text/latex": [
       "$\\displaystyle \\left(1 - \\epsilon\\right) \\left(\\sin{\\left(\\phi{\\left(\\mathbf{{x}_{R}},\\mathbf{{y}_{R}} \\right)} \\right)} \\frac{\\partial}{\\partial \\mathbf{{y}_{R}}} \\phi{\\left(\\mathbf{{x}_{R}},\\mathbf{{y}_{R}} \\right)} + \\cos{\\left(\\phi{\\left(\\mathbf{{x}_{R}},\\mathbf{{y}_{R}} \\right)} \\right)} \\frac{\\partial}{\\partial \\mathbf{{x}_{R}}} \\phi{\\left(\\mathbf{{x}_{R}},\\mathbf{{y}_{R}} \\right)}\\right)^{2} + \\left(\\epsilon + 1\\right) \\left(- \\sin{\\left(\\phi{\\left(\\mathbf{{x}_{R}},\\mathbf{{y}_{R}} \\right)} \\right)} \\frac{\\partial}{\\partial \\mathbf{{x}_{R}}} \\phi{\\left(\\mathbf{{x}_{R}},\\mathbf{{y}_{R}} \\right)} + \\cos{\\left(\\phi{\\left(\\mathbf{{x}_{R}},\\mathbf{{y}_{R}} \\right)} \\right)} \\frac{\\partial}{\\partial \\mathbf{{y}_{R}}} \\phi{\\left(\\mathbf{{x}_{R}},\\mathbf{{y}_{R}} \\right)}\\right)^{2}$"
      ],
      "text/plain": [
       "(1 - epsilon)*(sin(phi(R.x, R.y))*Derivative(phi(R.x, R.y), R.y) + cos(phi(R.x, R.y))*Derivative(phi(R.x, R.y), R.x))**2 + (epsilon + 1)*(-sin(phi(R.x, R.y))*Derivative(phi(R.x, R.y), R.x) + cos(phi(R.x, R.y))*Derivative(phi(R.x, R.y), R.y))**2"
      ]
     },
     "execution_count": 454,
     "metadata": {},
     "output_type": "execute_result"
    }
   ],
   "source": [
    "g = simplify( g.subs({nx: cos(phi), ny: sin(phi)}) )\n",
    "g"
   ]
  },
  {
   "cell_type": "markdown",
   "id": "30711e59",
   "metadata": {},
   "source": [
    "### Change to [polar coordinates](https://www.wikiwand.com/en/Polar_coordinate_system#Differential_calculus)"
   ]
  },
  {
   "cell_type": "code",
   "execution_count": 455,
   "id": "1a348014",
   "metadata": {},
   "outputs": [],
   "source": [
    "phi_p = Function('phi')(theta)"
   ]
  },
  {
   "cell_type": "code",
   "execution_count": 456,
   "id": "72bda8d2",
   "metadata": {},
   "outputs": [],
   "source": [
    "dphi_dx = cos(theta) * phi_p.diff(r) - (1/r) * sin(theta) * phi_p.diff(theta)\n",
    "dphi_dy = sin(theta) * phi_p.diff(r) + (1/r) * cos(theta) * phi_p.diff(theta)"
   ]
  },
  {
   "cell_type": "code",
   "execution_count": 457,
   "id": "3a0a14fa",
   "metadata": {},
   "outputs": [
    {
     "data": {
      "text/latex": [
       "$\\displaystyle \\frac{\\left(\\left(1 - \\epsilon\\right) \\sin^{2}{\\left(\\theta - \\phi{\\left(\\theta \\right)} \\right)} + \\left(\\epsilon + 1\\right) \\cos^{2}{\\left(\\theta - \\phi{\\left(\\theta \\right)} \\right)}\\right) \\left(\\frac{d}{d \\theta} \\phi{\\left(\\theta \\right)}\\right)^{2}}{r^{2}}$"
      ],
      "text/plain": [
       "((1 - epsilon)*sin(theta - phi(theta))**2 + (epsilon + 1)*cos(theta - phi(theta))**2)*Derivative(phi(theta), theta)**2/r**2"
      ]
     },
     "metadata": {},
     "output_type": "display_data"
    }
   ],
   "source": [
    "g_polar = g.subs({phi.diff(x) : dphi_dx, phi.diff(y) : dphi_dy, phi : phi_p})\n",
    "g_polar = simplify(g_polar)\n",
    "display(g_polar)"
   ]
  },
  {
   "cell_type": "markdown",
   "id": "d2c7c059",
   "metadata": {},
   "source": [
    "### Plug it into [Euler-Lagrange equation](https://www.wikiwand.com/en/Euler%E2%80%93Lagrange_equation#Single_function_of_several_variables_with_single_derivative)"
   ]
  },
  {
   "cell_type": "code",
   "execution_count": 458,
   "id": "338cbee5",
   "metadata": {},
   "outputs": [
    {
     "data": {
      "text/latex": [
       "$\\displaystyle \\epsilon \\left(\\left(\\frac{d}{d \\theta} \\phi{\\left(\\theta \\right)}\\right)^{2} - 2 \\frac{d}{d \\theta} \\phi{\\left(\\theta \\right)}\\right) \\sin{\\left(2 \\theta - 2 \\phi{\\left(\\theta \\right)} \\right)} + \\epsilon \\cos{\\left(2 \\theta - 2 \\phi{\\left(\\theta \\right)} \\right)} \\frac{d^{2}}{d \\theta^{2}} \\phi{\\left(\\theta \\right)} + \\frac{d^{2}}{d \\theta^{2}} \\phi{\\left(\\theta \\right)}$"
      ],
      "text/plain": [
       "epsilon*(Derivative(phi(theta), theta)**2 - 2*Derivative(phi(theta), theta))*sin(2*theta - 2*phi(theta)) + epsilon*cos(2*theta - 2*phi(theta))*Derivative(phi(theta), (theta, 2)) + Derivative(phi(theta), (theta, 2))"
      ]
     },
     "metadata": {},
     "output_type": "display_data"
    }
   ],
   "source": [
    "euler_lagrange = simplify(g_polar.diff(phi_p) - g_polar.diff(phi_p.diff(theta)).diff(theta))\n",
    "euler_lagrange = trigsimp(factor(euler_lagrange, eps))\n",
    "euler_lagrange = simplify(euler_lagrange * -Rational(1, 2) * r**2)\n",
    "euler_lagrange = factor(euler_lagrange, eps, phi_p.diff(theta, 2), sin(2*theta - 2*phi_p))\n",
    "display(euler_lagrange)"
   ]
  },
  {
   "cell_type": "markdown",
   "id": "6ead7383",
   "metadata": {},
   "source": [
    "### Assume ansatz"
   ]
  },
  {
   "cell_type": "code",
   "execution_count": 459,
   "id": "5995da34",
   "metadata": {},
   "outputs": [],
   "source": [
    "from sympy.simplify.fu import *"
   ]
  },
  {
   "cell_type": "code",
   "execution_count": 460,
   "id": "6fdf383d",
   "metadata": {},
   "outputs": [],
   "source": [
    "q, C = symbols('q C')\n",
    "ansatz = q * theta + eps * C * sin(2 * (1 - q) * theta)"
   ]
  },
  {
   "cell_type": "code",
   "execution_count": 461,
   "id": "71bfd944",
   "metadata": {},
   "outputs": [
    {
     "data": {
      "text/latex": [
       "$\\displaystyle 4 C \\epsilon q^{2} \\sin{\\left(2 q \\theta - 2 \\theta \\right)} - 8 C \\epsilon q \\sin{\\left(2 q \\theta - 2 \\theta \\right)} + 4 C \\epsilon \\sin{\\left(2 q \\theta - 2 \\theta \\right)} + \\epsilon q^{2} \\sin{\\left(2 C \\epsilon \\sin{\\left(2 q \\theta - 2 \\theta \\right)} - 2 q \\theta + 2 \\theta \\right)} - 2 \\epsilon q \\sin{\\left(2 C \\epsilon \\sin{\\left(2 q \\theta - 2 \\theta \\right)} - 2 q \\theta + 2 \\theta \\right)}$"
      ],
      "text/plain": [
       "4*C*epsilon*q**2*sin(2*q*theta - 2*theta) - 8*C*epsilon*q*sin(2*q*theta - 2*theta) + 4*C*epsilon*sin(2*q*theta - 2*theta) + epsilon*q**2*sin(2*C*epsilon*sin(2*q*theta - 2*theta) - 2*q*theta + 2*theta) - 2*epsilon*q*sin(2*C*epsilon*sin(2*q*theta - 2*theta) - 2*q*theta + 2*theta)"
      ]
     },
     "metadata": {},
     "output_type": "display_data"
    }
   ],
   "source": [
    "ansatz_euler_lagrange = simplify(euler_lagrange.subs(phi_p, ansatz))\n",
    "ansatz_euler_lagrange = expand(ansatz_euler_lagrange).subs({eps**2: 0, eps**3: 0})\n",
    "display(ansatz_euler_lagrange)"
   ]
  },
  {
   "cell_type": "code",
   "execution_count": 462,
   "id": "605af1bb",
   "metadata": {},
   "outputs": [
    {
     "data": {
      "text/latex": [
       "$\\displaystyle 4 C \\epsilon q^{2} \\sin{\\left(2 q \\theta - 2 \\theta \\right)} - 8 C \\epsilon q \\sin{\\left(2 q \\theta - 2 \\theta \\right)} + 4 C \\epsilon \\sin{\\left(2 q \\theta - 2 \\theta \\right)} + \\epsilon q^{2} \\left(\\sin{\\left(2 C \\epsilon \\sin{\\left(2 q \\theta - 2 \\theta \\right)} \\right)} \\cos{\\left(2 q \\theta - 2 \\theta \\right)} - \\sin{\\left(2 q \\theta - 2 \\theta \\right)} \\cos{\\left(2 C \\epsilon \\sin{\\left(2 q \\theta - 2 \\theta \\right)} \\right)}\\right) - 2 \\epsilon q \\left(\\sin{\\left(2 C \\epsilon \\sin{\\left(2 q \\theta - 2 \\theta \\right)} \\right)} \\cos{\\left(2 q \\theta - 2 \\theta \\right)} - \\sin{\\left(2 q \\theta - 2 \\theta \\right)} \\cos{\\left(2 C \\epsilon \\sin{\\left(2 q \\theta - 2 \\theta \\right)} \\right)}\\right)$"
      ],
      "text/plain": [
       "4*C*epsilon*q**2*sin(2*q*theta - 2*theta) - 8*C*epsilon*q*sin(2*q*theta - 2*theta) + 4*C*epsilon*sin(2*q*theta - 2*theta) + epsilon*q**2*(sin(2*C*epsilon*sin(2*q*theta - 2*theta))*cos(2*q*theta - 2*theta) - sin(2*q*theta - 2*theta)*cos(2*C*epsilon*sin(2*q*theta - 2*theta))) - 2*epsilon*q*(sin(2*C*epsilon*sin(2*q*theta - 2*theta))*cos(2*q*theta - 2*theta) - sin(2*q*theta - 2*theta)*cos(2*C*epsilon*sin(2*q*theta - 2*theta)))"
      ]
     },
     "metadata": {},
     "output_type": "display_data"
    }
   ],
   "source": [
    "sin_subs = {sin(2*C*eps*sin(2*q*theta - 2*theta)\n",
    "                - 2*q*theta + 2*theta):\n",
    "                sin(2*C*eps*sin(2*q*theta - 2*theta))\n",
    "                * cos(2*theta - 2*q*theta)\n",
    "                +\n",
    "                sin(2*theta - 2*q*theta)\n",
    "                * cos(2*C*eps*sin(2*q*theta - 2*theta))}\n",
    "\n",
    "ansatz_euler_lagrange = ansatz_euler_lagrange.subs(sin_subs)\n",
    "display(ansatz_euler_lagrange)"
   ]
  },
  {
   "cell_type": "code",
   "execution_count": 463,
   "id": "cc9ec780",
   "metadata": {},
   "outputs": [
    {
     "data": {
      "text/latex": [
       "$\\displaystyle 4 C \\epsilon q^{2} \\sin{\\left(2 q \\theta - 2 \\theta \\right)} - 8 C \\epsilon q \\sin{\\left(2 q \\theta - 2 \\theta \\right)} + 4 C \\epsilon \\sin{\\left(2 q \\theta - 2 \\theta \\right)} - \\epsilon q^{2} \\sin{\\left(2 q \\theta - 2 \\theta \\right)} + 2 \\epsilon q \\sin{\\left(2 q \\theta - 2 \\theta \\right)}$"
      ],
      "text/plain": [
       "4*C*epsilon*q**2*sin(2*q*theta - 2*theta) - 8*C*epsilon*q*sin(2*q*theta - 2*theta) + 4*C*epsilon*sin(2*q*theta - 2*theta) - epsilon*q**2*sin(2*q*theta - 2*theta) + 2*epsilon*q*sin(2*q*theta - 2*theta)"
      ]
     },
     "metadata": {},
     "output_type": "display_data"
    }
   ],
   "source": [
    "trig_subs = {sin(2*C*eps*sin(2*q*theta - 2*theta)):\n",
    "             2*C*eps*sin(2*q*theta - 2*theta),\n",
    "             cos(2*C*eps*sin(2*q*theta - 2*theta)):\n",
    "             1}\n",
    "                 \n",
    "ansatz_euler_lagrange = expand(ansatz_euler_lagrange.subs(trig_subs))\n",
    "ansatz_euler_lagrange = ansatz_euler_lagrange.subs(eps**2, 0)\n",
    "display(ansatz_euler_lagrange)"
   ]
  },
  {
   "cell_type": "code",
   "execution_count": 464,
   "id": "95e776e4",
   "metadata": {},
   "outputs": [
    {
     "data": {
      "text/latex": [
       "$\\displaystyle \\frac{q \\left(q - 2\\right)}{4 \\left(q^{2} - 2 q + 1\\right)}$"
      ],
      "text/plain": [
       "q*(q - 2)/(4*(q**2 - 2*q + 1))"
      ]
     },
     "metadata": {},
     "output_type": "display_data"
    }
   ],
   "source": [
    "sol = solve(ansatz_euler_lagrange, C)\n",
    "display(sol[0])"
   ]
  },
  {
   "cell_type": "code",
   "execution_count": 465,
   "id": "74487081",
   "metadata": {},
   "outputs": [
    {
     "data": {
      "text/latex": [
       "$\\displaystyle \\frac{\\epsilon q \\left(q - 2\\right) \\sin{\\left(\\theta \\left(2 - 2 q\\right) \\right)}}{4 \\left(q^{2} - 2 q + 1\\right)} + q \\theta$"
      ],
      "text/plain": [
       "epsilon*q*(q - 2)*sin(theta*(2 - 2*q))/(4*(q**2 - 2*q + 1)) + q*theta"
      ]
     },
     "metadata": {},
     "output_type": "display_data"
    }
   ],
   "source": [
    "single_defect_approximation = ansatz.subs(C, sol[0])\n",
    "display(single_defect_approximation)"
   ]
  },
  {
   "cell_type": "markdown",
   "id": "eaea23f6",
   "metadata": {},
   "source": [
    "### Above is the first-order approximation to a single defect under the Dzyaloshinskii solution"
   ]
  },
  {
   "cell_type": "markdown",
   "id": "c4897a97",
   "metadata": {},
   "source": [
    "## Two-defect approximation"
   ]
  },
  {
   "cell_type": "markdown",
   "id": "9dc8efa4",
   "metadata": {},
   "source": [
    "### First, Euler Lagrange in cartesian coordinates"
   ]
  },
  {
   "cell_type": "code",
   "execution_count": 466,
   "id": "326e41bb",
   "metadata": {
    "scrolled": true
   },
   "outputs": [
    {
     "data": {
      "text/latex": [
       "$\\displaystyle \\epsilon \\left(- 2 \\frac{\\partial}{\\partial \\mathbf{{x}_{R}}} \\phi{\\left(\\mathbf{{x}_{R}},\\mathbf{{y}_{R}} \\right)} \\frac{\\partial}{\\partial \\mathbf{{y}_{R}}} \\phi{\\left(\\mathbf{{x}_{R}},\\mathbf{{y}_{R}} \\right)} - \\frac{\\partial^{2}}{\\partial \\mathbf{{x}_{R}}^{2}} \\phi{\\left(\\mathbf{{x}_{R}},\\mathbf{{y}_{R}} \\right)} + \\frac{\\partial^{2}}{\\partial \\mathbf{{y}_{R}}^{2}} \\phi{\\left(\\mathbf{{x}_{R}},\\mathbf{{y}_{R}} \\right)}\\right) \\cos{\\left(2 \\phi{\\left(\\mathbf{{x}_{R}},\\mathbf{{y}_{R}} \\right)} \\right)} + \\epsilon \\left(\\left(\\frac{\\partial}{\\partial \\mathbf{{x}_{R}}} \\phi{\\left(\\mathbf{{x}_{R}},\\mathbf{{y}_{R}} \\right)}\\right)^{2} - \\left(\\frac{\\partial}{\\partial \\mathbf{{y}_{R}}} \\phi{\\left(\\mathbf{{x}_{R}},\\mathbf{{y}_{R}} \\right)}\\right)^{2} - 2 \\frac{\\partial^{2}}{\\partial \\mathbf{{y}_{R}}\\partial \\mathbf{{x}_{R}}} \\phi{\\left(\\mathbf{{x}_{R}},\\mathbf{{y}_{R}} \\right)}\\right) \\sin{\\left(2 \\phi{\\left(\\mathbf{{x}_{R}},\\mathbf{{y}_{R}} \\right)} \\right)} + \\frac{\\partial^{2}}{\\partial \\mathbf{{x}_{R}}^{2}} \\phi{\\left(\\mathbf{{x}_{R}},\\mathbf{{y}_{R}} \\right)} + \\frac{\\partial^{2}}{\\partial \\mathbf{{y}_{R}}^{2}} \\phi{\\left(\\mathbf{{x}_{R}},\\mathbf{{y}_{R}} \\right)}$"
      ],
      "text/plain": [
       "epsilon*(-2*Derivative(phi(R.x, R.y), R.x)*Derivative(phi(R.x, R.y), R.y) - Derivative(phi(R.x, R.y), (R.x, 2)) + Derivative(phi(R.x, R.y), (R.y, 2)))*cos(2*phi(R.x, R.y)) + epsilon*(Derivative(phi(R.x, R.y), R.x)**2 - Derivative(phi(R.x, R.y), R.y)**2 - 2*Derivative(phi(R.x, R.y), R.x, R.y))*sin(2*phi(R.x, R.y)) + Derivative(phi(R.x, R.y), (R.x, 2)) + Derivative(phi(R.x, R.y), (R.y, 2))"
      ]
     },
     "metadata": {},
     "output_type": "display_data"
    }
   ],
   "source": [
    "euler_lagrange = -simplify(g.diff(phi) \n",
    "                           - (g.diff(phi.diff(x)).diff(x) \n",
    "                              + g.diff(phi.diff(y)).diff(y))) / 2\n",
    "euler_lagrange = factor(euler_lagrange, phi.diff(x, 2), phi.diff(y, 2))\n",
    "euler_lagrange = trigsimp(euler_lagrange)\n",
    "euler_lagrange = simplify(euler_lagrange)\n",
    "euler_lagrange = simplify(TR7(TR5(euler_lagrange)))\n",
    "euler_lagrange = factor(euler_lagrange, sin(2*phi), cos(2*phi), eps)\n",
    "display(euler_lagrange)"
   ]
  },
  {
   "cell_type": "markdown",
   "id": "ee761b57",
   "metadata": {},
   "source": [
    "### Now we need to substitute the Ansatz"
   ]
  },
  {
   "cell_type": "code",
   "execution_count": 467,
   "id": "b2f6c8c3",
   "metadata": {},
   "outputs": [
    {
     "data": {
      "text/latex": [
       "$\\displaystyle \\epsilon \\phi_{c}{\\left(\\mathbf{{x}_{R}},\\mathbf{{y}_{R}} \\right)} + q_{1} \\theta_{1}{\\left(\\mathbf{{x}_{R}},\\mathbf{{y}_{R}} \\right)} + q_{2} \\theta_{2}{\\left(\\mathbf{{x}_{R}},\\mathbf{{y}_{R}} \\right)}$"
      ],
      "text/plain": [
       "epsilon*phi_c(R.x, R.y) + q_1*theta_1(R.x, R.y) + q_2*theta_2(R.x, R.y)"
      ]
     },
     "metadata": {},
     "output_type": "display_data"
    }
   ],
   "source": [
    "phi_c = Function('phi_c')(x, y)\n",
    "theta_1 = Function('theta_1')(x, y)\n",
    "theta_2 = Function('theta_2')(x, y)\n",
    "r_1 = Function('r_1')(x, y)\n",
    "r_2 = Function('r_2')(x, y)\n",
    "\n",
    "q1, q2 = symbols('q_1 q_2')\n",
    "\n",
    "ansatz = q1 * theta_1 + q2 * theta_2 + eps * phi_c\n",
    "display(ansatz)"
   ]
  },
  {
   "cell_type": "code",
   "execution_count": 468,
   "id": "91571bc8",
   "metadata": {},
   "outputs": [
    {
     "data": {
      "text/latex": [
       "$\\displaystyle - \\epsilon \\left(2 \\epsilon \\frac{\\partial^{2}}{\\partial \\mathbf{{y}_{R}}\\partial \\mathbf{{x}_{R}}} \\phi_{c}{\\left(\\mathbf{{x}_{R}},\\mathbf{{y}_{R}} \\right)} + 2 q_{1} \\frac{\\partial^{2}}{\\partial \\mathbf{{y}_{R}}\\partial \\mathbf{{x}_{R}}} \\theta_{1}{\\left(\\mathbf{{x}_{R}},\\mathbf{{y}_{R}} \\right)} + 2 q_{2} \\frac{\\partial^{2}}{\\partial \\mathbf{{y}_{R}}\\partial \\mathbf{{x}_{R}}} \\theta_{2}{\\left(\\mathbf{{x}_{R}},\\mathbf{{y}_{R}} \\right)} - \\left(\\epsilon \\frac{\\partial}{\\partial \\mathbf{{x}_{R}}} \\phi_{c}{\\left(\\mathbf{{x}_{R}},\\mathbf{{y}_{R}} \\right)} + q_{1} \\frac{\\partial}{\\partial \\mathbf{{x}_{R}}} \\theta_{1}{\\left(\\mathbf{{x}_{R}},\\mathbf{{y}_{R}} \\right)} + q_{2} \\frac{\\partial}{\\partial \\mathbf{{x}_{R}}} \\theta_{2}{\\left(\\mathbf{{x}_{R}},\\mathbf{{y}_{R}} \\right)}\\right)^{2} + \\left(\\epsilon \\frac{\\partial}{\\partial \\mathbf{{y}_{R}}} \\phi_{c}{\\left(\\mathbf{{x}_{R}},\\mathbf{{y}_{R}} \\right)} + q_{1} \\frac{\\partial}{\\partial \\mathbf{{y}_{R}}} \\theta_{1}{\\left(\\mathbf{{x}_{R}},\\mathbf{{y}_{R}} \\right)} + q_{2} \\frac{\\partial}{\\partial \\mathbf{{y}_{R}}} \\theta_{2}{\\left(\\mathbf{{x}_{R}},\\mathbf{{y}_{R}} \\right)}\\right)^{2}\\right) \\sin{\\left(2 \\epsilon \\phi_{c}{\\left(\\mathbf{{x}_{R}},\\mathbf{{y}_{R}} \\right)} + 2 q_{1} \\theta_{1}{\\left(\\mathbf{{x}_{R}},\\mathbf{{y}_{R}} \\right)} + 2 q_{2} \\theta_{2}{\\left(\\mathbf{{x}_{R}},\\mathbf{{y}_{R}} \\right)} \\right)} - \\epsilon \\left(\\epsilon \\frac{\\partial^{2}}{\\partial \\mathbf{{x}_{R}}^{2}} \\phi_{c}{\\left(\\mathbf{{x}_{R}},\\mathbf{{y}_{R}} \\right)} - \\epsilon \\frac{\\partial^{2}}{\\partial \\mathbf{{y}_{R}}^{2}} \\phi_{c}{\\left(\\mathbf{{x}_{R}},\\mathbf{{y}_{R}} \\right)} + q_{1} \\frac{\\partial^{2}}{\\partial \\mathbf{{x}_{R}}^{2}} \\theta_{1}{\\left(\\mathbf{{x}_{R}},\\mathbf{{y}_{R}} \\right)} - q_{1} \\frac{\\partial^{2}}{\\partial \\mathbf{{y}_{R}}^{2}} \\theta_{1}{\\left(\\mathbf{{x}_{R}},\\mathbf{{y}_{R}} \\right)} + q_{2} \\frac{\\partial^{2}}{\\partial \\mathbf{{x}_{R}}^{2}} \\theta_{2}{\\left(\\mathbf{{x}_{R}},\\mathbf{{y}_{R}} \\right)} - q_{2} \\frac{\\partial^{2}}{\\partial \\mathbf{{y}_{R}}^{2}} \\theta_{2}{\\left(\\mathbf{{x}_{R}},\\mathbf{{y}_{R}} \\right)} + 2 \\left(\\epsilon \\frac{\\partial}{\\partial \\mathbf{{x}_{R}}} \\phi_{c}{\\left(\\mathbf{{x}_{R}},\\mathbf{{y}_{R}} \\right)} + q_{1} \\frac{\\partial}{\\partial \\mathbf{{x}_{R}}} \\theta_{1}{\\left(\\mathbf{{x}_{R}},\\mathbf{{y}_{R}} \\right)} + q_{2} \\frac{\\partial}{\\partial \\mathbf{{x}_{R}}} \\theta_{2}{\\left(\\mathbf{{x}_{R}},\\mathbf{{y}_{R}} \\right)}\\right) \\left(\\epsilon \\frac{\\partial}{\\partial \\mathbf{{y}_{R}}} \\phi_{c}{\\left(\\mathbf{{x}_{R}},\\mathbf{{y}_{R}} \\right)} + q_{1} \\frac{\\partial}{\\partial \\mathbf{{y}_{R}}} \\theta_{1}{\\left(\\mathbf{{x}_{R}},\\mathbf{{y}_{R}} \\right)} + q_{2} \\frac{\\partial}{\\partial \\mathbf{{y}_{R}}} \\theta_{2}{\\left(\\mathbf{{x}_{R}},\\mathbf{{y}_{R}} \\right)}\\right)\\right) \\cos{\\left(2 \\epsilon \\phi_{c}{\\left(\\mathbf{{x}_{R}},\\mathbf{{y}_{R}} \\right)} + 2 q_{1} \\theta_{1}{\\left(\\mathbf{{x}_{R}},\\mathbf{{y}_{R}} \\right)} + 2 q_{2} \\theta_{2}{\\left(\\mathbf{{x}_{R}},\\mathbf{{y}_{R}} \\right)} \\right)} + \\epsilon \\frac{\\partial^{2}}{\\partial \\mathbf{{x}_{R}}^{2}} \\phi_{c}{\\left(\\mathbf{{x}_{R}},\\mathbf{{y}_{R}} \\right)} + \\epsilon \\frac{\\partial^{2}}{\\partial \\mathbf{{y}_{R}}^{2}} \\phi_{c}{\\left(\\mathbf{{x}_{R}},\\mathbf{{y}_{R}} \\right)} + q_{1} \\frac{\\partial^{2}}{\\partial \\mathbf{{x}_{R}}^{2}} \\theta_{1}{\\left(\\mathbf{{x}_{R}},\\mathbf{{y}_{R}} \\right)} + q_{1} \\frac{\\partial^{2}}{\\partial \\mathbf{{y}_{R}}^{2}} \\theta_{1}{\\left(\\mathbf{{x}_{R}},\\mathbf{{y}_{R}} \\right)} + q_{2} \\frac{\\partial^{2}}{\\partial \\mathbf{{x}_{R}}^{2}} \\theta_{2}{\\left(\\mathbf{{x}_{R}},\\mathbf{{y}_{R}} \\right)} + q_{2} \\frac{\\partial^{2}}{\\partial \\mathbf{{y}_{R}}^{2}} \\theta_{2}{\\left(\\mathbf{{x}_{R}},\\mathbf{{y}_{R}} \\right)}$"
      ],
      "text/plain": [
       "-epsilon*(2*epsilon*Derivative(phi_c(R.x, R.y), R.x, R.y) + 2*q_1*Derivative(theta_1(R.x, R.y), R.x, R.y) + 2*q_2*Derivative(theta_2(R.x, R.y), R.x, R.y) - (epsilon*Derivative(phi_c(R.x, R.y), R.x) + q_1*Derivative(theta_1(R.x, R.y), R.x) + q_2*Derivative(theta_2(R.x, R.y), R.x))**2 + (epsilon*Derivative(phi_c(R.x, R.y), R.y) + q_1*Derivative(theta_1(R.x, R.y), R.y) + q_2*Derivative(theta_2(R.x, R.y), R.y))**2)*sin(2*epsilon*phi_c(R.x, R.y) + 2*q_1*theta_1(R.x, R.y) + 2*q_2*theta_2(R.x, R.y)) - epsilon*(epsilon*Derivative(phi_c(R.x, R.y), (R.x, 2)) - epsilon*Derivative(phi_c(R.x, R.y), (R.y, 2)) + q_1*Derivative(theta_1(R.x, R.y), (R.x, 2)) - q_1*Derivative(theta_1(R.x, R.y), (R.y, 2)) + q_2*Derivative(theta_2(R.x, R.y), (R.x, 2)) - q_2*Derivative(theta_2(R.x, R.y), (R.y, 2)) + 2*(epsilon*Derivative(phi_c(R.x, R.y), R.x) + q_1*Derivative(theta_1(R.x, R.y), R.x) + q_2*Derivative(theta_2(R.x, R.y), R.x))*(epsilon*Derivative(phi_c(R.x, R.y), R.y) + q_1*Derivative(theta_1(R.x, R.y), R.y) + q_2*Derivative(theta_2(R.x, R.y), R.y)))*cos(2*epsilon*phi_c(R.x, R.y) + 2*q_1*theta_1(R.x, R.y) + 2*q_2*theta_2(R.x, R.y)) + epsilon*Derivative(phi_c(R.x, R.y), (R.x, 2)) + epsilon*Derivative(phi_c(R.x, R.y), (R.y, 2)) + q_1*Derivative(theta_1(R.x, R.y), (R.x, 2)) + q_1*Derivative(theta_1(R.x, R.y), (R.y, 2)) + q_2*Derivative(theta_2(R.x, R.y), (R.x, 2)) + q_2*Derivative(theta_2(R.x, R.y), (R.y, 2))"
      ]
     },
     "metadata": {},
     "output_type": "display_data"
    }
   ],
   "source": [
    "euler_lagrange_p = euler_lagrange.subs(phi, ansatz)\n",
    "euler_lagrange_p = simplify(euler_lagrange_p)\n",
    "display(euler_lagrange_p)"
   ]
  },
  {
   "cell_type": "code",
   "execution_count": 469,
   "id": "6e131ed8",
   "metadata": {},
   "outputs": [],
   "source": [
    "euler_lagrange_p = euler_lagrange_p.subs({theta_1.diff(x): -1/r_1 * sin(theta_1),\n",
    "                                          theta_2.diff(x): -1/r_2 * sin(theta_2),\n",
    "                                          theta_1.diff(y): 1/r_1 * cos(theta_1),\n",
    "                                          theta_2.diff(y): 1/r_2 * cos(theta_2)})"
   ]
  },
  {
   "cell_type": "code",
   "execution_count": 470,
   "id": "f95e3572",
   "metadata": {},
   "outputs": [
    {
     "data": {
      "text/latex": [
       "$\\displaystyle - \\epsilon \\left(2 \\epsilon \\frac{\\partial^{2}}{\\partial \\mathbf{{y}_{R}}\\partial \\mathbf{{x}_{R}}} \\phi_{c}{\\left(\\mathbf{{x}_{R}},\\mathbf{{y}_{R}} \\right)} + 2 q_{1} \\frac{\\partial}{\\partial \\mathbf{{y}_{R}}} \\left(- \\frac{\\sin{\\left(\\theta_{1}{\\left(\\mathbf{{x}_{R}},\\mathbf{{y}_{R}} \\right)} \\right)}}{\\operatorname{r_{1}}{\\left(\\mathbf{{x}_{R}},\\mathbf{{y}_{R}} \\right)}}\\right) + 2 q_{2} \\frac{\\partial}{\\partial \\mathbf{{y}_{R}}} \\left(- \\frac{\\sin{\\left(\\theta_{2}{\\left(\\mathbf{{x}_{R}},\\mathbf{{y}_{R}} \\right)} \\right)}}{\\operatorname{r_{2}}{\\left(\\mathbf{{x}_{R}},\\mathbf{{y}_{R}} \\right)}}\\right) - \\left(\\epsilon \\frac{\\partial}{\\partial \\mathbf{{x}_{R}}} \\phi_{c}{\\left(\\mathbf{{x}_{R}},\\mathbf{{y}_{R}} \\right)} - \\frac{q_{1} \\sin{\\left(\\theta_{1}{\\left(\\mathbf{{x}_{R}},\\mathbf{{y}_{R}} \\right)} \\right)}}{\\operatorname{r_{1}}{\\left(\\mathbf{{x}_{R}},\\mathbf{{y}_{R}} \\right)}} - \\frac{q_{2} \\sin{\\left(\\theta_{2}{\\left(\\mathbf{{x}_{R}},\\mathbf{{y}_{R}} \\right)} \\right)}}{\\operatorname{r_{2}}{\\left(\\mathbf{{x}_{R}},\\mathbf{{y}_{R}} \\right)}}\\right)^{2} + \\left(\\epsilon \\frac{\\partial}{\\partial \\mathbf{{y}_{R}}} \\phi_{c}{\\left(\\mathbf{{x}_{R}},\\mathbf{{y}_{R}} \\right)} + \\frac{q_{1} \\cos{\\left(\\theta_{1}{\\left(\\mathbf{{x}_{R}},\\mathbf{{y}_{R}} \\right)} \\right)}}{\\operatorname{r_{1}}{\\left(\\mathbf{{x}_{R}},\\mathbf{{y}_{R}} \\right)}} + \\frac{q_{2} \\cos{\\left(\\theta_{2}{\\left(\\mathbf{{x}_{R}},\\mathbf{{y}_{R}} \\right)} \\right)}}{\\operatorname{r_{2}}{\\left(\\mathbf{{x}_{R}},\\mathbf{{y}_{R}} \\right)}}\\right)^{2}\\right) \\sin{\\left(2 \\epsilon \\phi_{c}{\\left(\\mathbf{{x}_{R}},\\mathbf{{y}_{R}} \\right)} + 2 q_{1} \\theta_{1}{\\left(\\mathbf{{x}_{R}},\\mathbf{{y}_{R}} \\right)} + 2 q_{2} \\theta_{2}{\\left(\\mathbf{{x}_{R}},\\mathbf{{y}_{R}} \\right)} \\right)} - \\epsilon \\left(\\epsilon \\frac{\\partial^{2}}{\\partial \\mathbf{{x}_{R}}^{2}} \\phi_{c}{\\left(\\mathbf{{x}_{R}},\\mathbf{{y}_{R}} \\right)} - \\epsilon \\frac{\\partial^{2}}{\\partial \\mathbf{{y}_{R}}^{2}} \\phi_{c}{\\left(\\mathbf{{x}_{R}},\\mathbf{{y}_{R}} \\right)} + q_{1} \\frac{\\partial}{\\partial \\mathbf{{x}_{R}}} \\left(- \\frac{\\sin{\\left(\\theta_{1}{\\left(\\mathbf{{x}_{R}},\\mathbf{{y}_{R}} \\right)} \\right)}}{\\operatorname{r_{1}}{\\left(\\mathbf{{x}_{R}},\\mathbf{{y}_{R}} \\right)}}\\right) - q_{1} \\frac{\\partial}{\\partial \\mathbf{{y}_{R}}} \\frac{\\cos{\\left(\\theta_{1}{\\left(\\mathbf{{x}_{R}},\\mathbf{{y}_{R}} \\right)} \\right)}}{\\operatorname{r_{1}}{\\left(\\mathbf{{x}_{R}},\\mathbf{{y}_{R}} \\right)}} + q_{2} \\frac{\\partial}{\\partial \\mathbf{{x}_{R}}} \\left(- \\frac{\\sin{\\left(\\theta_{2}{\\left(\\mathbf{{x}_{R}},\\mathbf{{y}_{R}} \\right)} \\right)}}{\\operatorname{r_{2}}{\\left(\\mathbf{{x}_{R}},\\mathbf{{y}_{R}} \\right)}}\\right) - q_{2} \\frac{\\partial}{\\partial \\mathbf{{y}_{R}}} \\frac{\\cos{\\left(\\theta_{2}{\\left(\\mathbf{{x}_{R}},\\mathbf{{y}_{R}} \\right)} \\right)}}{\\operatorname{r_{2}}{\\left(\\mathbf{{x}_{R}},\\mathbf{{y}_{R}} \\right)}} + 2 \\left(\\epsilon \\frac{\\partial}{\\partial \\mathbf{{x}_{R}}} \\phi_{c}{\\left(\\mathbf{{x}_{R}},\\mathbf{{y}_{R}} \\right)} - \\frac{q_{1} \\sin{\\left(\\theta_{1}{\\left(\\mathbf{{x}_{R}},\\mathbf{{y}_{R}} \\right)} \\right)}}{\\operatorname{r_{1}}{\\left(\\mathbf{{x}_{R}},\\mathbf{{y}_{R}} \\right)}} - \\frac{q_{2} \\sin{\\left(\\theta_{2}{\\left(\\mathbf{{x}_{R}},\\mathbf{{y}_{R}} \\right)} \\right)}}{\\operatorname{r_{2}}{\\left(\\mathbf{{x}_{R}},\\mathbf{{y}_{R}} \\right)}}\\right) \\left(\\epsilon \\frac{\\partial}{\\partial \\mathbf{{y}_{R}}} \\phi_{c}{\\left(\\mathbf{{x}_{R}},\\mathbf{{y}_{R}} \\right)} + \\frac{q_{1} \\cos{\\left(\\theta_{1}{\\left(\\mathbf{{x}_{R}},\\mathbf{{y}_{R}} \\right)} \\right)}}{\\operatorname{r_{1}}{\\left(\\mathbf{{x}_{R}},\\mathbf{{y}_{R}} \\right)}} + \\frac{q_{2} \\cos{\\left(\\theta_{2}{\\left(\\mathbf{{x}_{R}},\\mathbf{{y}_{R}} \\right)} \\right)}}{\\operatorname{r_{2}}{\\left(\\mathbf{{x}_{R}},\\mathbf{{y}_{R}} \\right)}}\\right)\\right) \\cos{\\left(2 \\epsilon \\phi_{c}{\\left(\\mathbf{{x}_{R}},\\mathbf{{y}_{R}} \\right)} + 2 q_{1} \\theta_{1}{\\left(\\mathbf{{x}_{R}},\\mathbf{{y}_{R}} \\right)} + 2 q_{2} \\theta_{2}{\\left(\\mathbf{{x}_{R}},\\mathbf{{y}_{R}} \\right)} \\right)} + \\epsilon \\frac{\\partial^{2}}{\\partial \\mathbf{{x}_{R}}^{2}} \\phi_{c}{\\left(\\mathbf{{x}_{R}},\\mathbf{{y}_{R}} \\right)} + \\epsilon \\frac{\\partial^{2}}{\\partial \\mathbf{{y}_{R}}^{2}} \\phi_{c}{\\left(\\mathbf{{x}_{R}},\\mathbf{{y}_{R}} \\right)} + q_{1} \\frac{\\partial}{\\partial \\mathbf{{x}_{R}}} \\left(- \\frac{\\sin{\\left(\\theta_{1}{\\left(\\mathbf{{x}_{R}},\\mathbf{{y}_{R}} \\right)} \\right)}}{\\operatorname{r_{1}}{\\left(\\mathbf{{x}_{R}},\\mathbf{{y}_{R}} \\right)}}\\right) + q_{1} \\frac{\\partial}{\\partial \\mathbf{{y}_{R}}} \\frac{\\cos{\\left(\\theta_{1}{\\left(\\mathbf{{x}_{R}},\\mathbf{{y}_{R}} \\right)} \\right)}}{\\operatorname{r_{1}}{\\left(\\mathbf{{x}_{R}},\\mathbf{{y}_{R}} \\right)}} + q_{2} \\frac{\\partial}{\\partial \\mathbf{{x}_{R}}} \\left(- \\frac{\\sin{\\left(\\theta_{2}{\\left(\\mathbf{{x}_{R}},\\mathbf{{y}_{R}} \\right)} \\right)}}{\\operatorname{r_{2}}{\\left(\\mathbf{{x}_{R}},\\mathbf{{y}_{R}} \\right)}}\\right) + q_{2} \\frac{\\partial}{\\partial \\mathbf{{y}_{R}}} \\frac{\\cos{\\left(\\theta_{2}{\\left(\\mathbf{{x}_{R}},\\mathbf{{y}_{R}} \\right)} \\right)}}{\\operatorname{r_{2}}{\\left(\\mathbf{{x}_{R}},\\mathbf{{y}_{R}} \\right)}}$"
      ],
      "text/plain": [
       "-epsilon*(2*epsilon*Derivative(phi_c(R.x, R.y), R.x, R.y) + 2*q_1*Derivative(-sin(theta_1(R.x, R.y))/r_1(R.x, R.y), R.y) + 2*q_2*Derivative(-sin(theta_2(R.x, R.y))/r_2(R.x, R.y), R.y) - (epsilon*Derivative(phi_c(R.x, R.y), R.x) - q_1*sin(theta_1(R.x, R.y))/r_1(R.x, R.y) - q_2*sin(theta_2(R.x, R.y))/r_2(R.x, R.y))**2 + (epsilon*Derivative(phi_c(R.x, R.y), R.y) + q_1*cos(theta_1(R.x, R.y))/r_1(R.x, R.y) + q_2*cos(theta_2(R.x, R.y))/r_2(R.x, R.y))**2)*sin(2*epsilon*phi_c(R.x, R.y) + 2*q_1*theta_1(R.x, R.y) + 2*q_2*theta_2(R.x, R.y)) - epsilon*(epsilon*Derivative(phi_c(R.x, R.y), (R.x, 2)) - epsilon*Derivative(phi_c(R.x, R.y), (R.y, 2)) + q_1*Derivative(-sin(theta_1(R.x, R.y))/r_1(R.x, R.y), R.x) - q_1*Derivative(cos(theta_1(R.x, R.y))/r_1(R.x, R.y), R.y) + q_2*Derivative(-sin(theta_2(R.x, R.y))/r_2(R.x, R.y), R.x) - q_2*Derivative(cos(theta_2(R.x, R.y))/r_2(R.x, R.y), R.y) + 2*(epsilon*Derivative(phi_c(R.x, R.y), R.x) - q_1*sin(theta_1(R.x, R.y))/r_1(R.x, R.y) - q_2*sin(theta_2(R.x, R.y))/r_2(R.x, R.y))*(epsilon*Derivative(phi_c(R.x, R.y), R.y) + q_1*cos(theta_1(R.x, R.y))/r_1(R.x, R.y) + q_2*cos(theta_2(R.x, R.y))/r_2(R.x, R.y)))*cos(2*epsilon*phi_c(R.x, R.y) + 2*q_1*theta_1(R.x, R.y) + 2*q_2*theta_2(R.x, R.y)) + epsilon*Derivative(phi_c(R.x, R.y), (R.x, 2)) + epsilon*Derivative(phi_c(R.x, R.y), (R.y, 2)) + q_1*Derivative(-sin(theta_1(R.x, R.y))/r_1(R.x, R.y), R.x) + q_1*Derivative(cos(theta_1(R.x, R.y))/r_1(R.x, R.y), R.y) + q_2*Derivative(-sin(theta_2(R.x, R.y))/r_2(R.x, R.y), R.x) + q_2*Derivative(cos(theta_2(R.x, R.y))/r_2(R.x, R.y), R.y)"
      ]
     },
     "metadata": {},
     "output_type": "display_data"
    }
   ],
   "source": [
    "display(euler_lagrange_p)"
   ]
  },
  {
   "cell_type": "code",
   "execution_count": 471,
   "id": "881bf19c",
   "metadata": {},
   "outputs": [
    {
     "data": {
      "text/latex": [
       "$\\displaystyle \\epsilon \\frac{\\partial^{2}}{\\partial \\mathbf{{x}_{R}}^{2}} \\phi_{c}{\\left(\\mathbf{{x}_{R}},\\mathbf{{y}_{R}} \\right)}$"
      ],
      "text/plain": [
       "epsilon*Derivative(phi_c(R.x, R.y), (R.x, 2))"
      ]
     },
     "metadata": {},
     "output_type": "display_data"
    },
    {
     "data": {
      "text/latex": [
       "$\\displaystyle \\epsilon \\frac{\\partial^{2}}{\\partial \\mathbf{{y}_{R}}^{2}} \\phi_{c}{\\left(\\mathbf{{x}_{R}},\\mathbf{{y}_{R}} \\right)}$"
      ],
      "text/plain": [
       "epsilon*Derivative(phi_c(R.x, R.y), (R.y, 2))"
      ]
     },
     "metadata": {},
     "output_type": "display_data"
    },
    {
     "data": {
      "text/latex": [
       "$\\displaystyle q_{1} \\left(\\frac{\\sin{\\left(\\theta_{1}{\\left(\\mathbf{{x}_{R}},\\mathbf{{y}_{R}} \\right)} \\right)} \\cos{\\left(\\theta_{1}{\\left(\\mathbf{{x}_{R}},\\mathbf{{y}_{R}} \\right)} \\right)}}{\\operatorname{r_{1}}^{2}{\\left(\\mathbf{{x}_{R}},\\mathbf{{y}_{R}} \\right)}} + \\frac{\\sin{\\left(\\theta_{1}{\\left(\\mathbf{{x}_{R}},\\mathbf{{y}_{R}} \\right)} \\right)} \\frac{\\partial}{\\partial \\mathbf{{x}_{R}}} \\operatorname{r_{1}}{\\left(\\mathbf{{x}_{R}},\\mathbf{{y}_{R}} \\right)}}{\\operatorname{r_{1}}^{2}{\\left(\\mathbf{{x}_{R}},\\mathbf{{y}_{R}} \\right)}}\\right)$"
      ],
      "text/plain": [
       "q_1*(sin(theta_1(R.x, R.y))*cos(theta_1(R.x, R.y))/r_1(R.x, R.y)**2 + sin(theta_1(R.x, R.y))*Derivative(r_1(R.x, R.y), R.x)/r_1(R.x, R.y)**2)"
      ]
     },
     "metadata": {},
     "output_type": "display_data"
    },
    {
     "data": {
      "text/latex": [
       "$\\displaystyle q_{1} \\left(- \\frac{\\sin{\\left(\\theta_{1}{\\left(\\mathbf{{x}_{R}},\\mathbf{{y}_{R}} \\right)} \\right)} \\cos{\\left(\\theta_{1}{\\left(\\mathbf{{x}_{R}},\\mathbf{{y}_{R}} \\right)} \\right)}}{\\operatorname{r_{1}}^{2}{\\left(\\mathbf{{x}_{R}},\\mathbf{{y}_{R}} \\right)}} - \\frac{\\cos{\\left(\\theta_{1}{\\left(\\mathbf{{x}_{R}},\\mathbf{{y}_{R}} \\right)} \\right)} \\frac{\\partial}{\\partial \\mathbf{{y}_{R}}} \\operatorname{r_{1}}{\\left(\\mathbf{{x}_{R}},\\mathbf{{y}_{R}} \\right)}}{\\operatorname{r_{1}}^{2}{\\left(\\mathbf{{x}_{R}},\\mathbf{{y}_{R}} \\right)}}\\right)$"
      ],
      "text/plain": [
       "q_1*(-sin(theta_1(R.x, R.y))*cos(theta_1(R.x, R.y))/r_1(R.x, R.y)**2 - cos(theta_1(R.x, R.y))*Derivative(r_1(R.x, R.y), R.y)/r_1(R.x, R.y)**2)"
      ]
     },
     "metadata": {},
     "output_type": "display_data"
    },
    {
     "data": {
      "text/latex": [
       "$\\displaystyle q_{2} \\left(\\frac{\\sin{\\left(\\theta_{2}{\\left(\\mathbf{{x}_{R}},\\mathbf{{y}_{R}} \\right)} \\right)} \\cos{\\left(\\theta_{2}{\\left(\\mathbf{{x}_{R}},\\mathbf{{y}_{R}} \\right)} \\right)}}{\\operatorname{r_{2}}^{2}{\\left(\\mathbf{{x}_{R}},\\mathbf{{y}_{R}} \\right)}} + \\frac{\\sin{\\left(\\theta_{2}{\\left(\\mathbf{{x}_{R}},\\mathbf{{y}_{R}} \\right)} \\right)} \\frac{\\partial}{\\partial \\mathbf{{x}_{R}}} \\operatorname{r_{2}}{\\left(\\mathbf{{x}_{R}},\\mathbf{{y}_{R}} \\right)}}{\\operatorname{r_{2}}^{2}{\\left(\\mathbf{{x}_{R}},\\mathbf{{y}_{R}} \\right)}}\\right)$"
      ],
      "text/plain": [
       "q_2*(sin(theta_2(R.x, R.y))*cos(theta_2(R.x, R.y))/r_2(R.x, R.y)**2 + sin(theta_2(R.x, R.y))*Derivative(r_2(R.x, R.y), R.x)/r_2(R.x, R.y)**2)"
      ]
     },
     "metadata": {},
     "output_type": "display_data"
    },
    {
     "data": {
      "text/latex": [
       "$\\displaystyle q_{2} \\left(- \\frac{\\sin{\\left(\\theta_{2}{\\left(\\mathbf{{x}_{R}},\\mathbf{{y}_{R}} \\right)} \\right)} \\cos{\\left(\\theta_{2}{\\left(\\mathbf{{x}_{R}},\\mathbf{{y}_{R}} \\right)} \\right)}}{\\operatorname{r_{2}}^{2}{\\left(\\mathbf{{x}_{R}},\\mathbf{{y}_{R}} \\right)}} - \\frac{\\cos{\\left(\\theta_{2}{\\left(\\mathbf{{x}_{R}},\\mathbf{{y}_{R}} \\right)} \\right)} \\frac{\\partial}{\\partial \\mathbf{{y}_{R}}} \\operatorname{r_{2}}{\\left(\\mathbf{{x}_{R}},\\mathbf{{y}_{R}} \\right)}}{\\operatorname{r_{2}}^{2}{\\left(\\mathbf{{x}_{R}},\\mathbf{{y}_{R}} \\right)}}\\right)$"
      ],
      "text/plain": [
       "q_2*(-sin(theta_2(R.x, R.y))*cos(theta_2(R.x, R.y))/r_2(R.x, R.y)**2 - cos(theta_2(R.x, R.y))*Derivative(r_2(R.x, R.y), R.y)/r_2(R.x, R.y)**2)"
      ]
     },
     "metadata": {},
     "output_type": "display_data"
    },
    {
     "data": {
      "text/latex": [
       "$\\displaystyle - \\epsilon \\left(2 \\epsilon \\frac{\\partial^{2}}{\\partial \\mathbf{{y}_{R}}\\partial \\mathbf{{x}_{R}}} \\phi_{c}{\\left(\\mathbf{{x}_{R}},\\mathbf{{y}_{R}} \\right)} + 2 q_{1} \\left(\\frac{\\sin{\\left(\\theta_{1}{\\left(\\mathbf{{x}_{R}},\\mathbf{{y}_{R}} \\right)} \\right)} \\frac{\\partial}{\\partial \\mathbf{{y}_{R}}} \\operatorname{r_{1}}{\\left(\\mathbf{{x}_{R}},\\mathbf{{y}_{R}} \\right)}}{\\operatorname{r_{1}}^{2}{\\left(\\mathbf{{x}_{R}},\\mathbf{{y}_{R}} \\right)}} - \\frac{\\cos^{2}{\\left(\\theta_{1}{\\left(\\mathbf{{x}_{R}},\\mathbf{{y}_{R}} \\right)} \\right)}}{\\operatorname{r_{1}}^{2}{\\left(\\mathbf{{x}_{R}},\\mathbf{{y}_{R}} \\right)}}\\right) + 2 q_{2} \\left(\\frac{\\sin{\\left(\\theta_{2}{\\left(\\mathbf{{x}_{R}},\\mathbf{{y}_{R}} \\right)} \\right)} \\frac{\\partial}{\\partial \\mathbf{{y}_{R}}} \\operatorname{r_{2}}{\\left(\\mathbf{{x}_{R}},\\mathbf{{y}_{R}} \\right)}}{\\operatorname{r_{2}}^{2}{\\left(\\mathbf{{x}_{R}},\\mathbf{{y}_{R}} \\right)}} - \\frac{\\cos^{2}{\\left(\\theta_{2}{\\left(\\mathbf{{x}_{R}},\\mathbf{{y}_{R}} \\right)} \\right)}}{\\operatorname{r_{2}}^{2}{\\left(\\mathbf{{x}_{R}},\\mathbf{{y}_{R}} \\right)}}\\right) - \\left(\\epsilon \\frac{\\partial}{\\partial \\mathbf{{x}_{R}}} \\phi_{c}{\\left(\\mathbf{{x}_{R}},\\mathbf{{y}_{R}} \\right)} - \\frac{q_{1} \\sin{\\left(\\theta_{1}{\\left(\\mathbf{{x}_{R}},\\mathbf{{y}_{R}} \\right)} \\right)}}{\\operatorname{r_{1}}{\\left(\\mathbf{{x}_{R}},\\mathbf{{y}_{R}} \\right)}} - \\frac{q_{2} \\sin{\\left(\\theta_{2}{\\left(\\mathbf{{x}_{R}},\\mathbf{{y}_{R}} \\right)} \\right)}}{\\operatorname{r_{2}}{\\left(\\mathbf{{x}_{R}},\\mathbf{{y}_{R}} \\right)}}\\right)^{2} + \\left(\\epsilon \\frac{\\partial}{\\partial \\mathbf{{y}_{R}}} \\phi_{c}{\\left(\\mathbf{{x}_{R}},\\mathbf{{y}_{R}} \\right)} + \\frac{q_{1} \\cos{\\left(\\theta_{1}{\\left(\\mathbf{{x}_{R}},\\mathbf{{y}_{R}} \\right)} \\right)}}{\\operatorname{r_{1}}{\\left(\\mathbf{{x}_{R}},\\mathbf{{y}_{R}} \\right)}} + \\frac{q_{2} \\cos{\\left(\\theta_{2}{\\left(\\mathbf{{x}_{R}},\\mathbf{{y}_{R}} \\right)} \\right)}}{\\operatorname{r_{2}}{\\left(\\mathbf{{x}_{R}},\\mathbf{{y}_{R}} \\right)}}\\right)^{2}\\right) \\sin{\\left(2 \\epsilon \\phi_{c}{\\left(\\mathbf{{x}_{R}},\\mathbf{{y}_{R}} \\right)} + 2 q_{1} \\theta_{1}{\\left(\\mathbf{{x}_{R}},\\mathbf{{y}_{R}} \\right)} + 2 q_{2} \\theta_{2}{\\left(\\mathbf{{x}_{R}},\\mathbf{{y}_{R}} \\right)} \\right)}$"
      ],
      "text/plain": [
       "-epsilon*(2*epsilon*Derivative(phi_c(R.x, R.y), R.x, R.y) + 2*q_1*(sin(theta_1(R.x, R.y))*Derivative(r_1(R.x, R.y), R.y)/r_1(R.x, R.y)**2 - cos(theta_1(R.x, R.y))**2/r_1(R.x, R.y)**2) + 2*q_2*(sin(theta_2(R.x, R.y))*Derivative(r_2(R.x, R.y), R.y)/r_2(R.x, R.y)**2 - cos(theta_2(R.x, R.y))**2/r_2(R.x, R.y)**2) - (epsilon*Derivative(phi_c(R.x, R.y), R.x) - q_1*sin(theta_1(R.x, R.y))/r_1(R.x, R.y) - q_2*sin(theta_2(R.x, R.y))/r_2(R.x, R.y))**2 + (epsilon*Derivative(phi_c(R.x, R.y), R.y) + q_1*cos(theta_1(R.x, R.y))/r_1(R.x, R.y) + q_2*cos(theta_2(R.x, R.y))/r_2(R.x, R.y))**2)*sin(2*epsilon*phi_c(R.x, R.y) + 2*q_1*theta_1(R.x, R.y) + 2*q_2*theta_2(R.x, R.y))"
      ]
     },
     "metadata": {},
     "output_type": "display_data"
    },
    {
     "data": {
      "text/latex": [
       "$\\displaystyle - \\epsilon \\left(\\epsilon \\frac{\\partial^{2}}{\\partial \\mathbf{{x}_{R}}^{2}} \\phi_{c}{\\left(\\mathbf{{x}_{R}},\\mathbf{{y}_{R}} \\right)} - \\epsilon \\frac{\\partial^{2}}{\\partial \\mathbf{{y}_{R}}^{2}} \\phi_{c}{\\left(\\mathbf{{x}_{R}},\\mathbf{{y}_{R}} \\right)} - q_{1} \\left(- \\frac{\\sin{\\left(\\theta_{1}{\\left(\\mathbf{{x}_{R}},\\mathbf{{y}_{R}} \\right)} \\right)} \\cos{\\left(\\theta_{1}{\\left(\\mathbf{{x}_{R}},\\mathbf{{y}_{R}} \\right)} \\right)}}{\\operatorname{r_{1}}^{2}{\\left(\\mathbf{{x}_{R}},\\mathbf{{y}_{R}} \\right)}} - \\frac{\\cos{\\left(\\theta_{1}{\\left(\\mathbf{{x}_{R}},\\mathbf{{y}_{R}} \\right)} \\right)} \\frac{\\partial}{\\partial \\mathbf{{y}_{R}}} \\operatorname{r_{1}}{\\left(\\mathbf{{x}_{R}},\\mathbf{{y}_{R}} \\right)}}{\\operatorname{r_{1}}^{2}{\\left(\\mathbf{{x}_{R}},\\mathbf{{y}_{R}} \\right)}}\\right) + q_{1} \\left(\\frac{\\sin{\\left(\\theta_{1}{\\left(\\mathbf{{x}_{R}},\\mathbf{{y}_{R}} \\right)} \\right)} \\cos{\\left(\\theta_{1}{\\left(\\mathbf{{x}_{R}},\\mathbf{{y}_{R}} \\right)} \\right)}}{\\operatorname{r_{1}}^{2}{\\left(\\mathbf{{x}_{R}},\\mathbf{{y}_{R}} \\right)}} + \\frac{\\sin{\\left(\\theta_{1}{\\left(\\mathbf{{x}_{R}},\\mathbf{{y}_{R}} \\right)} \\right)} \\frac{\\partial}{\\partial \\mathbf{{x}_{R}}} \\operatorname{r_{1}}{\\left(\\mathbf{{x}_{R}},\\mathbf{{y}_{R}} \\right)}}{\\operatorname{r_{1}}^{2}{\\left(\\mathbf{{x}_{R}},\\mathbf{{y}_{R}} \\right)}}\\right) - q_{2} \\left(- \\frac{\\sin{\\left(\\theta_{2}{\\left(\\mathbf{{x}_{R}},\\mathbf{{y}_{R}} \\right)} \\right)} \\cos{\\left(\\theta_{2}{\\left(\\mathbf{{x}_{R}},\\mathbf{{y}_{R}} \\right)} \\right)}}{\\operatorname{r_{2}}^{2}{\\left(\\mathbf{{x}_{R}},\\mathbf{{y}_{R}} \\right)}} - \\frac{\\cos{\\left(\\theta_{2}{\\left(\\mathbf{{x}_{R}},\\mathbf{{y}_{R}} \\right)} \\right)} \\frac{\\partial}{\\partial \\mathbf{{y}_{R}}} \\operatorname{r_{2}}{\\left(\\mathbf{{x}_{R}},\\mathbf{{y}_{R}} \\right)}}{\\operatorname{r_{2}}^{2}{\\left(\\mathbf{{x}_{R}},\\mathbf{{y}_{R}} \\right)}}\\right) + q_{2} \\left(\\frac{\\sin{\\left(\\theta_{2}{\\left(\\mathbf{{x}_{R}},\\mathbf{{y}_{R}} \\right)} \\right)} \\cos{\\left(\\theta_{2}{\\left(\\mathbf{{x}_{R}},\\mathbf{{y}_{R}} \\right)} \\right)}}{\\operatorname{r_{2}}^{2}{\\left(\\mathbf{{x}_{R}},\\mathbf{{y}_{R}} \\right)}} + \\frac{\\sin{\\left(\\theta_{2}{\\left(\\mathbf{{x}_{R}},\\mathbf{{y}_{R}} \\right)} \\right)} \\frac{\\partial}{\\partial \\mathbf{{x}_{R}}} \\operatorname{r_{2}}{\\left(\\mathbf{{x}_{R}},\\mathbf{{y}_{R}} \\right)}}{\\operatorname{r_{2}}^{2}{\\left(\\mathbf{{x}_{R}},\\mathbf{{y}_{R}} \\right)}}\\right) + 2 \\left(\\epsilon \\frac{\\partial}{\\partial \\mathbf{{x}_{R}}} \\phi_{c}{\\left(\\mathbf{{x}_{R}},\\mathbf{{y}_{R}} \\right)} - \\frac{q_{1} \\sin{\\left(\\theta_{1}{\\left(\\mathbf{{x}_{R}},\\mathbf{{y}_{R}} \\right)} \\right)}}{\\operatorname{r_{1}}{\\left(\\mathbf{{x}_{R}},\\mathbf{{y}_{R}} \\right)}} - \\frac{q_{2} \\sin{\\left(\\theta_{2}{\\left(\\mathbf{{x}_{R}},\\mathbf{{y}_{R}} \\right)} \\right)}}{\\operatorname{r_{2}}{\\left(\\mathbf{{x}_{R}},\\mathbf{{y}_{R}} \\right)}}\\right) \\left(\\epsilon \\frac{\\partial}{\\partial \\mathbf{{y}_{R}}} \\phi_{c}{\\left(\\mathbf{{x}_{R}},\\mathbf{{y}_{R}} \\right)} + \\frac{q_{1} \\cos{\\left(\\theta_{1}{\\left(\\mathbf{{x}_{R}},\\mathbf{{y}_{R}} \\right)} \\right)}}{\\operatorname{r_{1}}{\\left(\\mathbf{{x}_{R}},\\mathbf{{y}_{R}} \\right)}} + \\frac{q_{2} \\cos{\\left(\\theta_{2}{\\left(\\mathbf{{x}_{R}},\\mathbf{{y}_{R}} \\right)} \\right)}}{\\operatorname{r_{2}}{\\left(\\mathbf{{x}_{R}},\\mathbf{{y}_{R}} \\right)}}\\right)\\right) \\cos{\\left(2 \\epsilon \\phi_{c}{\\left(\\mathbf{{x}_{R}},\\mathbf{{y}_{R}} \\right)} + 2 q_{1} \\theta_{1}{\\left(\\mathbf{{x}_{R}},\\mathbf{{y}_{R}} \\right)} + 2 q_{2} \\theta_{2}{\\left(\\mathbf{{x}_{R}},\\mathbf{{y}_{R}} \\right)} \\right)}$"
      ],
      "text/plain": [
       "-epsilon*(epsilon*Derivative(phi_c(R.x, R.y), (R.x, 2)) - epsilon*Derivative(phi_c(R.x, R.y), (R.y, 2)) - q_1*(-sin(theta_1(R.x, R.y))*cos(theta_1(R.x, R.y))/r_1(R.x, R.y)**2 - cos(theta_1(R.x, R.y))*Derivative(r_1(R.x, R.y), R.y)/r_1(R.x, R.y)**2) + q_1*(sin(theta_1(R.x, R.y))*cos(theta_1(R.x, R.y))/r_1(R.x, R.y)**2 + sin(theta_1(R.x, R.y))*Derivative(r_1(R.x, R.y), R.x)/r_1(R.x, R.y)**2) - q_2*(-sin(theta_2(R.x, R.y))*cos(theta_2(R.x, R.y))/r_2(R.x, R.y)**2 - cos(theta_2(R.x, R.y))*Derivative(r_2(R.x, R.y), R.y)/r_2(R.x, R.y)**2) + q_2*(sin(theta_2(R.x, R.y))*cos(theta_2(R.x, R.y))/r_2(R.x, R.y)**2 + sin(theta_2(R.x, R.y))*Derivative(r_2(R.x, R.y), R.x)/r_2(R.x, R.y)**2) + 2*(epsilon*Derivative(phi_c(R.x, R.y), R.x) - q_1*sin(theta_1(R.x, R.y))/r_1(R.x, R.y) - q_2*sin(theta_2(R.x, R.y))/r_2(R.x, R.y))*(epsilon*Derivative(phi_c(R.x, R.y), R.y) + q_1*cos(theta_1(R.x, R.y))/r_1(R.x, R.y) + q_2*cos(theta_2(R.x, R.y))/r_2(R.x, R.y)))*cos(2*epsilon*phi_c(R.x, R.y) + 2*q_1*theta_1(R.x, R.y) + 2*q_2*theta_2(R.x, R.y))"
      ]
     },
     "metadata": {},
     "output_type": "display_data"
    }
   ],
   "source": [
    "euler_lagrange_p = euler_lagrange_p.doit()\n",
    "euler_lagrange_p = euler_lagrange_p.subs({theta_1.diff(x): -1/r_1 * sin(theta_1),\n",
    "                                          theta_2.diff(x): -1/r_2 * sin(theta_2),\n",
    "                                          theta_1.diff(y): 1/r_1 * cos(theta_1),\n",
    "                                          theta_2.diff(y): 1/r_2 * cos(theta_2)})\n",
    "for arg in euler_lagrange_p.args:\n",
    "    display(arg)"
   ]
  },
  {
   "cell_type": "code",
   "execution_count": 472,
   "id": "e8ac5c25",
   "metadata": {},
   "outputs": [
    {
     "data": {
      "text/latex": [
       "$\\displaystyle \\epsilon \\frac{\\partial^{2}}{\\partial \\mathbf{{x}_{R}}^{2}} \\phi_{c}{\\left(\\mathbf{{x}_{R}},\\mathbf{{y}_{R}} \\right)}$"
      ],
      "text/plain": [
       "epsilon*Derivative(phi_c(R.x, R.y), (R.x, 2))"
      ]
     },
     "metadata": {},
     "output_type": "display_data"
    },
    {
     "data": {
      "text/latex": [
       "$\\displaystyle \\epsilon \\frac{\\partial^{2}}{\\partial \\mathbf{{y}_{R}}^{2}} \\phi_{c}{\\left(\\mathbf{{x}_{R}},\\mathbf{{y}_{R}} \\right)}$"
      ],
      "text/plain": [
       "epsilon*Derivative(phi_c(R.x, R.y), (R.y, 2))"
      ]
     },
     "metadata": {},
     "output_type": "display_data"
    },
    {
     "data": {
      "text/latex": [
       "$\\displaystyle - \\epsilon \\left(2 \\epsilon \\frac{\\partial^{2}}{\\partial \\mathbf{{y}_{R}}\\partial \\mathbf{{x}_{R}}} \\phi_{c}{\\left(\\mathbf{{x}_{R}},\\mathbf{{y}_{R}} \\right)} + 2 q_{1} \\left(\\frac{\\sin^{2}{\\left(\\theta_{1}{\\left(\\mathbf{{x}_{R}},\\mathbf{{y}_{R}} \\right)} \\right)}}{\\operatorname{r_{1}}^{2}{\\left(\\mathbf{{x}_{R}},\\mathbf{{y}_{R}} \\right)}} - \\frac{\\cos^{2}{\\left(\\theta_{1}{\\left(\\mathbf{{x}_{R}},\\mathbf{{y}_{R}} \\right)} \\right)}}{\\operatorname{r_{1}}^{2}{\\left(\\mathbf{{x}_{R}},\\mathbf{{y}_{R}} \\right)}}\\right) + 2 q_{2} \\left(\\frac{\\sin^{2}{\\left(\\theta_{2}{\\left(\\mathbf{{x}_{R}},\\mathbf{{y}_{R}} \\right)} \\right)}}{\\operatorname{r_{2}}^{2}{\\left(\\mathbf{{x}_{R}},\\mathbf{{y}_{R}} \\right)}} - \\frac{\\cos^{2}{\\left(\\theta_{2}{\\left(\\mathbf{{x}_{R}},\\mathbf{{y}_{R}} \\right)} \\right)}}{\\operatorname{r_{2}}^{2}{\\left(\\mathbf{{x}_{R}},\\mathbf{{y}_{R}} \\right)}}\\right) - \\left(\\epsilon \\frac{\\partial}{\\partial \\mathbf{{x}_{R}}} \\phi_{c}{\\left(\\mathbf{{x}_{R}},\\mathbf{{y}_{R}} \\right)} - \\frac{q_{1} \\sin{\\left(\\theta_{1}{\\left(\\mathbf{{x}_{R}},\\mathbf{{y}_{R}} \\right)} \\right)}}{\\operatorname{r_{1}}{\\left(\\mathbf{{x}_{R}},\\mathbf{{y}_{R}} \\right)}} - \\frac{q_{2} \\sin{\\left(\\theta_{2}{\\left(\\mathbf{{x}_{R}},\\mathbf{{y}_{R}} \\right)} \\right)}}{\\operatorname{r_{2}}{\\left(\\mathbf{{x}_{R}},\\mathbf{{y}_{R}} \\right)}}\\right)^{2} + \\left(\\epsilon \\frac{\\partial}{\\partial \\mathbf{{y}_{R}}} \\phi_{c}{\\left(\\mathbf{{x}_{R}},\\mathbf{{y}_{R}} \\right)} + \\frac{q_{1} \\cos{\\left(\\theta_{1}{\\left(\\mathbf{{x}_{R}},\\mathbf{{y}_{R}} \\right)} \\right)}}{\\operatorname{r_{1}}{\\left(\\mathbf{{x}_{R}},\\mathbf{{y}_{R}} \\right)}} + \\frac{q_{2} \\cos{\\left(\\theta_{2}{\\left(\\mathbf{{x}_{R}},\\mathbf{{y}_{R}} \\right)} \\right)}}{\\operatorname{r_{2}}{\\left(\\mathbf{{x}_{R}},\\mathbf{{y}_{R}} \\right)}}\\right)^{2}\\right) \\sin{\\left(2 \\epsilon \\phi_{c}{\\left(\\mathbf{{x}_{R}},\\mathbf{{y}_{R}} \\right)} + 2 q_{1} \\theta_{1}{\\left(\\mathbf{{x}_{R}},\\mathbf{{y}_{R}} \\right)} + 2 q_{2} \\theta_{2}{\\left(\\mathbf{{x}_{R}},\\mathbf{{y}_{R}} \\right)} \\right)}$"
      ],
      "text/plain": [
       "-epsilon*(2*epsilon*Derivative(phi_c(R.x, R.y), R.x, R.y) + 2*q_1*(sin(theta_1(R.x, R.y))**2/r_1(R.x, R.y)**2 - cos(theta_1(R.x, R.y))**2/r_1(R.x, R.y)**2) + 2*q_2*(sin(theta_2(R.x, R.y))**2/r_2(R.x, R.y)**2 - cos(theta_2(R.x, R.y))**2/r_2(R.x, R.y)**2) - (epsilon*Derivative(phi_c(R.x, R.y), R.x) - q_1*sin(theta_1(R.x, R.y))/r_1(R.x, R.y) - q_2*sin(theta_2(R.x, R.y))/r_2(R.x, R.y))**2 + (epsilon*Derivative(phi_c(R.x, R.y), R.y) + q_1*cos(theta_1(R.x, R.y))/r_1(R.x, R.y) + q_2*cos(theta_2(R.x, R.y))/r_2(R.x, R.y))**2)*sin(2*epsilon*phi_c(R.x, R.y) + 2*q_1*theta_1(R.x, R.y) + 2*q_2*theta_2(R.x, R.y))"
      ]
     },
     "metadata": {},
     "output_type": "display_data"
    },
    {
     "data": {
      "text/latex": [
       "$\\displaystyle - \\epsilon \\left(\\epsilon \\frac{\\partial^{2}}{\\partial \\mathbf{{x}_{R}}^{2}} \\phi_{c}{\\left(\\mathbf{{x}_{R}},\\mathbf{{y}_{R}} \\right)} - \\epsilon \\frac{\\partial^{2}}{\\partial \\mathbf{{y}_{R}}^{2}} \\phi_{c}{\\left(\\mathbf{{x}_{R}},\\mathbf{{y}_{R}} \\right)} + \\frac{4 q_{1} \\sin{\\left(\\theta_{1}{\\left(\\mathbf{{x}_{R}},\\mathbf{{y}_{R}} \\right)} \\right)} \\cos{\\left(\\theta_{1}{\\left(\\mathbf{{x}_{R}},\\mathbf{{y}_{R}} \\right)} \\right)}}{\\operatorname{r_{1}}^{2}{\\left(\\mathbf{{x}_{R}},\\mathbf{{y}_{R}} \\right)}} + \\frac{4 q_{2} \\sin{\\left(\\theta_{2}{\\left(\\mathbf{{x}_{R}},\\mathbf{{y}_{R}} \\right)} \\right)} \\cos{\\left(\\theta_{2}{\\left(\\mathbf{{x}_{R}},\\mathbf{{y}_{R}} \\right)} \\right)}}{\\operatorname{r_{2}}^{2}{\\left(\\mathbf{{x}_{R}},\\mathbf{{y}_{R}} \\right)}} + 2 \\left(\\epsilon \\frac{\\partial}{\\partial \\mathbf{{x}_{R}}} \\phi_{c}{\\left(\\mathbf{{x}_{R}},\\mathbf{{y}_{R}} \\right)} - \\frac{q_{1} \\sin{\\left(\\theta_{1}{\\left(\\mathbf{{x}_{R}},\\mathbf{{y}_{R}} \\right)} \\right)}}{\\operatorname{r_{1}}{\\left(\\mathbf{{x}_{R}},\\mathbf{{y}_{R}} \\right)}} - \\frac{q_{2} \\sin{\\left(\\theta_{2}{\\left(\\mathbf{{x}_{R}},\\mathbf{{y}_{R}} \\right)} \\right)}}{\\operatorname{r_{2}}{\\left(\\mathbf{{x}_{R}},\\mathbf{{y}_{R}} \\right)}}\\right) \\left(\\epsilon \\frac{\\partial}{\\partial \\mathbf{{y}_{R}}} \\phi_{c}{\\left(\\mathbf{{x}_{R}},\\mathbf{{y}_{R}} \\right)} + \\frac{q_{1} \\cos{\\left(\\theta_{1}{\\left(\\mathbf{{x}_{R}},\\mathbf{{y}_{R}} \\right)} \\right)}}{\\operatorname{r_{1}}{\\left(\\mathbf{{x}_{R}},\\mathbf{{y}_{R}} \\right)}} + \\frac{q_{2} \\cos{\\left(\\theta_{2}{\\left(\\mathbf{{x}_{R}},\\mathbf{{y}_{R}} \\right)} \\right)}}{\\operatorname{r_{2}}{\\left(\\mathbf{{x}_{R}},\\mathbf{{y}_{R}} \\right)}}\\right)\\right) \\cos{\\left(2 \\epsilon \\phi_{c}{\\left(\\mathbf{{x}_{R}},\\mathbf{{y}_{R}} \\right)} + 2 q_{1} \\theta_{1}{\\left(\\mathbf{{x}_{R}},\\mathbf{{y}_{R}} \\right)} + 2 q_{2} \\theta_{2}{\\left(\\mathbf{{x}_{R}},\\mathbf{{y}_{R}} \\right)} \\right)}$"
      ],
      "text/plain": [
       "-epsilon*(epsilon*Derivative(phi_c(R.x, R.y), (R.x, 2)) - epsilon*Derivative(phi_c(R.x, R.y), (R.y, 2)) + 4*q_1*sin(theta_1(R.x, R.y))*cos(theta_1(R.x, R.y))/r_1(R.x, R.y)**2 + 4*q_2*sin(theta_2(R.x, R.y))*cos(theta_2(R.x, R.y))/r_2(R.x, R.y)**2 + 2*(epsilon*Derivative(phi_c(R.x, R.y), R.x) - q_1*sin(theta_1(R.x, R.y))/r_1(R.x, R.y) - q_2*sin(theta_2(R.x, R.y))/r_2(R.x, R.y))*(epsilon*Derivative(phi_c(R.x, R.y), R.y) + q_1*cos(theta_1(R.x, R.y))/r_1(R.x, R.y) + q_2*cos(theta_2(R.x, R.y))/r_2(R.x, R.y)))*cos(2*epsilon*phi_c(R.x, R.y) + 2*q_1*theta_1(R.x, R.y) + 2*q_2*theta_2(R.x, R.y))"
      ]
     },
     "metadata": {},
     "output_type": "display_data"
    }
   ],
   "source": [
    "euler_lagrange_p = euler_lagrange_p.subs({r_1.diff(x): cos(theta_1),\n",
    "                                          r_2.diff(x): cos(theta_2),\n",
    "                                          r_1.diff(y): sin(theta_1),\n",
    "                                          r_2.diff(y): sin(theta_2)})\n",
    "\n",
    "for arg in euler_lagrange_p.args:\n",
    "    display(arg)"
   ]
  },
  {
   "cell_type": "code",
   "execution_count": 473,
   "id": "befac3ba",
   "metadata": {},
   "outputs": [
    {
     "data": {
      "text/latex": [
       "$\\displaystyle \\frac{\\epsilon \\left(- q_{1}^{2} \\operatorname{r_{2}}^{2}{\\left(\\mathbf{{x}_{R}},\\mathbf{{y}_{R}} \\right)} \\sin{\\left(2 \\epsilon \\phi_{c}{\\left(\\mathbf{{x}_{R}},\\mathbf{{y}_{R}} \\right)} + 2 q_{1} \\theta_{1}{\\left(\\mathbf{{x}_{R}},\\mathbf{{y}_{R}} \\right)} + 2 q_{2} \\theta_{2}{\\left(\\mathbf{{x}_{R}},\\mathbf{{y}_{R}} \\right)} - 2 \\theta_{1}{\\left(\\mathbf{{x}_{R}},\\mathbf{{y}_{R}} \\right)} \\right)} - 2 q_{1} q_{2} \\operatorname{r_{1}}{\\left(\\mathbf{{x}_{R}},\\mathbf{{y}_{R}} \\right)} \\operatorname{r_{2}}{\\left(\\mathbf{{x}_{R}},\\mathbf{{y}_{R}} \\right)} \\sin{\\left(2 \\epsilon \\phi_{c}{\\left(\\mathbf{{x}_{R}},\\mathbf{{y}_{R}} \\right)} + 2 q_{1} \\theta_{1}{\\left(\\mathbf{{x}_{R}},\\mathbf{{y}_{R}} \\right)} + 2 q_{2} \\theta_{2}{\\left(\\mathbf{{x}_{R}},\\mathbf{{y}_{R}} \\right)} - \\theta_{1}{\\left(\\mathbf{{x}_{R}},\\mathbf{{y}_{R}} \\right)} - \\theta_{2}{\\left(\\mathbf{{x}_{R}},\\mathbf{{y}_{R}} \\right)} \\right)} + 2 q_{1} \\operatorname{r_{2}}^{2}{\\left(\\mathbf{{x}_{R}},\\mathbf{{y}_{R}} \\right)} \\sin{\\left(2 \\epsilon \\phi_{c}{\\left(\\mathbf{{x}_{R}},\\mathbf{{y}_{R}} \\right)} + 2 q_{1} \\theta_{1}{\\left(\\mathbf{{x}_{R}},\\mathbf{{y}_{R}} \\right)} + 2 q_{2} \\theta_{2}{\\left(\\mathbf{{x}_{R}},\\mathbf{{y}_{R}} \\right)} - 2 \\theta_{1}{\\left(\\mathbf{{x}_{R}},\\mathbf{{y}_{R}} \\right)} \\right)} - q_{2}^{2} \\operatorname{r_{1}}^{2}{\\left(\\mathbf{{x}_{R}},\\mathbf{{y}_{R}} \\right)} \\sin{\\left(2 \\epsilon \\phi_{c}{\\left(\\mathbf{{x}_{R}},\\mathbf{{y}_{R}} \\right)} + 2 q_{1} \\theta_{1}{\\left(\\mathbf{{x}_{R}},\\mathbf{{y}_{R}} \\right)} + 2 q_{2} \\theta_{2}{\\left(\\mathbf{{x}_{R}},\\mathbf{{y}_{R}} \\right)} - 2 \\theta_{2}{\\left(\\mathbf{{x}_{R}},\\mathbf{{y}_{R}} \\right)} \\right)} + 2 q_{2} \\operatorname{r_{1}}^{2}{\\left(\\mathbf{{x}_{R}},\\mathbf{{y}_{R}} \\right)} \\sin{\\left(2 \\epsilon \\phi_{c}{\\left(\\mathbf{{x}_{R}},\\mathbf{{y}_{R}} \\right)} + 2 q_{1} \\theta_{1}{\\left(\\mathbf{{x}_{R}},\\mathbf{{y}_{R}} \\right)} + 2 q_{2} \\theta_{2}{\\left(\\mathbf{{x}_{R}},\\mathbf{{y}_{R}} \\right)} - 2 \\theta_{2}{\\left(\\mathbf{{x}_{R}},\\mathbf{{y}_{R}} \\right)} \\right)} + \\operatorname{r_{1}}^{2}{\\left(\\mathbf{{x}_{R}},\\mathbf{{y}_{R}} \\right)} \\operatorname{r_{2}}^{2}{\\left(\\mathbf{{x}_{R}},\\mathbf{{y}_{R}} \\right)} \\frac{\\partial^{2}}{\\partial \\mathbf{{x}_{R}}^{2}} \\phi_{c}{\\left(\\mathbf{{x}_{R}},\\mathbf{{y}_{R}} \\right)} + \\operatorname{r_{1}}^{2}{\\left(\\mathbf{{x}_{R}},\\mathbf{{y}_{R}} \\right)} \\operatorname{r_{2}}^{2}{\\left(\\mathbf{{x}_{R}},\\mathbf{{y}_{R}} \\right)} \\frac{\\partial^{2}}{\\partial \\mathbf{{y}_{R}}^{2}} \\phi_{c}{\\left(\\mathbf{{x}_{R}},\\mathbf{{y}_{R}} \\right)}\\right)}{\\operatorname{r_{1}}^{2}{\\left(\\mathbf{{x}_{R}},\\mathbf{{y}_{R}} \\right)} \\operatorname{r_{2}}^{2}{\\left(\\mathbf{{x}_{R}},\\mathbf{{y}_{R}} \\right)}}$"
      ],
      "text/plain": [
       "epsilon*(-q_1**2*r_2(R.x, R.y)**2*sin(2*epsilon*phi_c(R.x, R.y) + 2*q_1*theta_1(R.x, R.y) + 2*q_2*theta_2(R.x, R.y) - 2*theta_1(R.x, R.y)) - 2*q_1*q_2*r_1(R.x, R.y)*r_2(R.x, R.y)*sin(2*epsilon*phi_c(R.x, R.y) + 2*q_1*theta_1(R.x, R.y) + 2*q_2*theta_2(R.x, R.y) - theta_1(R.x, R.y) - theta_2(R.x, R.y)) + 2*q_1*r_2(R.x, R.y)**2*sin(2*epsilon*phi_c(R.x, R.y) + 2*q_1*theta_1(R.x, R.y) + 2*q_2*theta_2(R.x, R.y) - 2*theta_1(R.x, R.y)) - q_2**2*r_1(R.x, R.y)**2*sin(2*epsilon*phi_c(R.x, R.y) + 2*q_1*theta_1(R.x, R.y) + 2*q_2*theta_2(R.x, R.y) - 2*theta_2(R.x, R.y)) + 2*q_2*r_1(R.x, R.y)**2*sin(2*epsilon*phi_c(R.x, R.y) + 2*q_1*theta_1(R.x, R.y) + 2*q_2*theta_2(R.x, R.y) - 2*theta_2(R.x, R.y)) + r_1(R.x, R.y)**2*r_2(R.x, R.y)**2*Derivative(phi_c(R.x, R.y), (R.x, 2)) + r_1(R.x, R.y)**2*r_2(R.x, R.y)**2*Derivative(phi_c(R.x, R.y), (R.y, 2)))/(r_1(R.x, R.y)**2*r_2(R.x, R.y)**2)"
      ]
     },
     "metadata": {},
     "output_type": "display_data"
    }
   ],
   "source": [
    "euler_lagrange_p = expand(euler_lagrange_p)\n",
    "euler_lagrange_p = euler_lagrange_p.subs({eps**2 : 0, eps**3 : 0})\n",
    "euler_lagrange_p = simplify(euler_lagrange_p)\n",
    "\n",
    "display(euler_lagrange_p)"
   ]
  },
  {
   "cell_type": "markdown",
   "id": "597b638d",
   "metadata": {},
   "source": [
    "## Great, now that we've got the governing equation let's solve"
   ]
  },
  {
   "cell_type": "code",
   "execution_count": 474,
   "id": "4dd805fe",
   "metadata": {},
   "outputs": [],
   "source": [
    "q1, q2, eps, r1, r2, theta1, theta2 = symbols('q_1 q_2 epsilon r_1 r_2 theta_1 theta_2')"
   ]
  },
  {
   "cell_type": "code",
   "execution_count": 475,
   "id": "8e8afe86",
   "metadata": {},
   "outputs": [
    {
     "data": {
      "text/latex": [
       "$\\displaystyle - \\frac{2 \\epsilon q_{1} q_{2} \\sin{\\left(\\theta_{1} \\cdot \\left(1 - 2 q_{1}\\right) + \\theta_{2} \\cdot \\left(1 - 2 q_{2}\\right) \\right)}}{r_{1} r_{2}} - \\frac{\\epsilon q_{1} \\cdot \\left(2 - q_{1}\\right) \\sin{\\left(2 q_{2} \\theta_{2} - \\theta_{1} \\cdot \\left(2 - 2 q_{1}\\right) \\right)}}{r_{1}^{2}} - \\frac{\\epsilon q_{2} \\cdot \\left(2 - q_{2}\\right) \\sin{\\left(2 q_{1} \\theta_{1} - \\theta_{2} \\cdot \\left(2 - 2 q_{2}\\right) \\right)}}{r_{2}^{2}}$"
      ],
      "text/plain": [
       "-2*epsilon*q_1*q_2*sin(theta_1*(1 - 2*q_1) + theta_2*(1 - 2*q_2))/(r_1*r_2) - epsilon*q_1*(2 - q_1)*sin(2*q_2*theta_2 - theta_1*(2 - 2*q_1))/r_1**2 - epsilon*q_2*(2 - q_2)*sin(2*q_1*theta_1 - theta_2*(2 - 2*q_2))/r_2**2"
      ]
     },
     "metadata": {},
     "output_type": "display_data"
    }
   ],
   "source": [
    "eq_rhs = ( (q1*(2 - q1)*eps / r1**2) * sin(2*(1 - q1)*theta1 - 2*q2*theta2)\n",
    "           + (q2*(2 - q2)*eps / r2**2) * sin(2*(1 - q2)*theta2 - 2*q1*theta1)\n",
    "           - (2*eps*q1*q2 / (r1*r2)) * sin((1 - 2*q1)*theta1 + (1 - 2*q2)*theta2) )\n",
    "display(eq_rhs)"
   ]
  },
  {
   "cell_type": "code",
   "execution_count": 476,
   "id": "dae10cdc",
   "metadata": {},
   "outputs": [
    {
     "data": {
      "text/latex": [
       "$\\displaystyle - \\frac{2 \\epsilon q_{1} q_{2} \\left(\\sin{\\left(\\theta_{1} \\cdot \\left(1 - 2 q_{1}\\right) \\right)} \\cos{\\left(\\theta_{2} \\cdot \\left(1 - 2 q_{2}\\right) \\right)} + \\sin{\\left(\\theta_{2} \\cdot \\left(1 - 2 q_{2}\\right) \\right)} \\cos{\\left(\\theta_{1} \\cdot \\left(1 - 2 q_{1}\\right) \\right)}\\right)}{r_{1} r_{2}} - \\frac{\\epsilon q_{1} \\cdot \\left(2 - q_{1}\\right) \\left(\\sin{\\left(2 q_{2} \\theta_{2} \\right)} \\cos{\\left(\\theta_{1} \\cdot \\left(2 - 2 q_{1}\\right) \\right)} - \\sin{\\left(\\theta_{1} \\cdot \\left(2 - 2 q_{1}\\right) \\right)} \\cos{\\left(2 q_{2} \\theta_{2} \\right)}\\right)}{r_{1}^{2}} - \\frac{\\epsilon q_{2} \\cdot \\left(2 - q_{2}\\right) \\left(\\sin{\\left(2 q_{1} \\theta_{1} \\right)} \\cos{\\left(\\theta_{2} \\cdot \\left(2 - 2 q_{2}\\right) \\right)} - \\sin{\\left(\\theta_{2} \\cdot \\left(2 - 2 q_{2}\\right) \\right)} \\cos{\\left(2 q_{1} \\theta_{1} \\right)}\\right)}{r_{2}^{2}}$"
      ],
      "text/plain": [
       "-2*epsilon*q_1*q_2*(sin(theta_1*(1 - 2*q_1))*cos(theta_2*(1 - 2*q_2)) + sin(theta_2*(1 - 2*q_2))*cos(theta_1*(1 - 2*q_1)))/(r_1*r_2) - epsilon*q_1*(2 - q_1)*(sin(2*q_2*theta_2)*cos(theta_1*(2 - 2*q_1)) - sin(theta_1*(2 - 2*q_1))*cos(2*q_2*theta_2))/r_1**2 - epsilon*q_2*(2 - q_2)*(sin(2*q_1*theta_1)*cos(theta_2*(2 - 2*q_2)) - sin(theta_2*(2 - 2*q_2))*cos(2*q_1*theta_1))/r_2**2"
      ]
     },
     "metadata": {},
     "output_type": "display_data"
    }
   ],
   "source": [
    "eq_rhs = TR10(eq_rhs)\n",
    "display(eq_rhs)"
   ]
  },
  {
   "cell_type": "markdown",
   "id": "d5f94903",
   "metadata": {},
   "source": [
    "### Far from both defects approximations"
   ]
  },
  {
   "cell_type": "code",
   "execution_count": 477,
   "id": "d6b8c853",
   "metadata": {},
   "outputs": [],
   "source": [
    "import matplotlib.pyplot as plt\n",
    "import matplotlib as mpl\n",
    "import numpy as np"
   ]
  },
  {
   "cell_type": "code",
   "execution_count": 478,
   "id": "54f8ecfa",
   "metadata": {},
   "outputs": [],
   "source": [
    "plt.style.use('science')\n",
    "mpl.rcParams['figure.dpi'] = 200"
   ]
  },
  {
   "cell_type": "code",
   "execution_count": 479,
   "id": "b7bb19e3",
   "metadata": {},
   "outputs": [],
   "source": [
    "# r = np.array([3, 5])\n",
    "# d = np.array([2, 0])\n",
    "# r1 = r + d/2\n",
    "# r2 = r - d/2\n",
    "\n",
    "# delta = np.array([0.2, 0.2])\n",
    "\n",
    "# plt.arrow(-d[0]/2, -d[1]/2, r1[0], r1[1])\n",
    "# plt.text(r1[0]/2 - d[0]/2 - delta[0], r1[1]/2 - d[1]/2 + delta[1], r'$r_1$')\n",
    "\n",
    "# plt.arrow(0, 0, r[0], r[1])\n",
    "# plt.text(r[0]/4 - delta[0], r[1]/4 + delta[1], r'$r$')\n",
    "\n",
    "# plt.arrow(d[0]/2, d[1]/2, r2[0], r2[1])\n",
    "# plt.text(r2[0]/2 + d[0]/2 + delta[0], r2[1] / 2 + d[1]/2 - delta[0], r'$r_2$')\n",
    "\n",
    "\n",
    "# plt.xlim([-2, 5])\n",
    "# plt.ylim([-1, 6])\n",
    "# plt.show()"
   ]
  },
  {
   "cell_type": "markdown",
   "id": "08460ed3",
   "metadata": {},
   "source": [
    "$\\mathbf{r}_2 + \\frac{\\mathbf{d}}{2} = \\mathbf{r} \\implies \\mathbf{r}_2 = \\mathbf{r} - \\frac{\\mathbf{d}}{2}$\n",
    "\n",
    "$\\mathbf{r}_1 - \\frac{\\mathbf{d}}{2} = \\mathbf{r} \\implies \\mathbf{r}_1 = \\mathbf{r} + \\frac{\\mathbf{d}}{2}$"
   ]
  },
  {
   "cell_type": "markdown",
   "id": "a3edd52d",
   "metadata": {},
   "source": [
    "$(\\mathbf{r} \\pm \\frac{\\mathbf{d}}{2})^2 = r^2 + \\frac{d^2}{4} \\pm rd \\cos\\theta$\n",
    "\n",
    "$r_2 = \\sqrt{r^2 + \\frac{d^2}{4} - rd\\cos\\theta}$\n",
    "\n",
    "$r_1 = \\sqrt{r^2 + \\frac{d^2}{4} + rd\\cos\\theta}$"
   ]
  },
  {
   "cell_type": "markdown",
   "id": "c29c598a",
   "metadata": {},
   "source": [
    "$\\mathbf{r_2} \\cdot \\mathbf{d} = r_2 d \\cos\\theta_2 = rd \\cos\\theta - \\frac{d^2}{2} \\implies \\cos\\theta_2 = \\frac{r\\cos\\theta - \\frac{d}{2}}{\\sqrt{r^2 + \\frac{d^2}{4} - rd\\cos\\theta}}$\n",
    "\n",
    "$\\mathbf{r_1} \\cdot \\mathbf{d} = r_1 d \\cos\\theta_1 = rd\\cos\\theta + \\frac{d^2}{2} \\implies \\cos\\theta_1 = \\frac{r\\cos\\theta + \\frac{d}{2}}{\\sqrt{r^2 + \\frac{d^2}{4} + rd\\cos\\theta}}$"
   ]
  },
  {
   "cell_type": "markdown",
   "id": "3a036ac9",
   "metadata": {},
   "source": [
    "$|\\mathbf{r_2}\\times \\mathbf{d}| = r_2 d \\sin\\theta_2 = rd\\sin\\theta \\implies \\sin\\theta_2 = \\frac{r\\sin\\theta}{\\sqrt{r^2 + \\frac{d^2}{4} - rd\\cos\\theta}}$\n",
    "\n",
    "$|\\mathbf{r_1}\\times \\mathbf{d}| = r_1 d \\sin\\theta_1 = rd\\sin\\theta \\implies \\sin\\theta_1 = \\frac{r\\sin\\theta}{\\sqrt{r^2 + \\frac{d^2}{4} + rd\\cos\\theta}}$"
   ]
  },
  {
   "cell_type": "markdown",
   "id": "e4432d05",
   "metadata": {},
   "source": [
    "## Choose $q_1 = +1/2$ and $q_2 = -1/2$"
   ]
  },
  {
   "cell_type": "code",
   "execution_count": 480,
   "id": "75e5c2ce",
   "metadata": {},
   "outputs": [
    {
     "data": {
      "text/latex": [
       "$\\displaystyle \\frac{5 \\epsilon \\left(\\sin{\\left(\\theta_{1} \\right)} \\cos{\\left(3 \\theta_{2} \\right)} - \\sin{\\left(3 \\theta_{2} \\right)} \\cos{\\left(\\theta_{1} \\right)}\\right)}{4 r_{2}^{2}} + \\frac{\\epsilon \\sin{\\left(2 \\theta_{2} \\right)}}{2 r_{1} r_{2}} - \\frac{3 \\epsilon \\left(- \\sin{\\left(\\theta_{1} \\right)} \\cos{\\left(\\theta_{2} \\right)} - \\sin{\\left(\\theta_{2} \\right)} \\cos{\\left(\\theta_{1} \\right)}\\right)}{4 r_{1}^{2}}$"
      ],
      "text/plain": [
       "5*epsilon*(sin(theta_1)*cos(3*theta_2) - sin(3*theta_2)*cos(theta_1))/(4*r_2**2) + epsilon*sin(2*theta_2)/(2*r_1*r_2) - 3*epsilon*(-sin(theta_1)*cos(theta_2) - sin(theta_2)*cos(theta_1))/(4*r_1**2)"
      ]
     },
     "metadata": {},
     "output_type": "display_data"
    }
   ],
   "source": [
    "eq_rhs_pos = eq_rhs.subs({q1: Rational(1, 2), q2: -Rational(1, 2)})\n",
    "display(eq_rhs_pos)"
   ]
  },
  {
   "cell_type": "code",
   "execution_count": 481,
   "id": "6a308114",
   "metadata": {},
   "outputs": [
    {
     "data": {
      "text/latex": [
       "$\\displaystyle \\frac{5 \\epsilon \\left(\\sin{\\left(\\theta_{1} \\right)} \\cos{\\left(3 \\theta_{2} \\right)} - \\sin{\\left(3 \\theta_{2} \\right)} \\cos{\\left(\\theta_{1} \\right)}\\right)}{4 r_{2}^{2}} + \\frac{\\epsilon \\sin{\\left(\\theta_{2} \\right)} \\cos{\\left(\\theta_{2} \\right)}}{r_{1} r_{2}} - \\frac{3 \\epsilon \\left(- \\sin{\\left(\\theta_{1} \\right)} \\cos{\\left(\\theta_{2} \\right)} - \\sin{\\left(\\theta_{2} \\right)} \\cos{\\left(\\theta_{1} \\right)}\\right)}{4 r_{1}^{2}}$"
      ],
      "text/plain": [
       "5*epsilon*(sin(theta_1)*cos(3*theta_2) - sin(3*theta_2)*cos(theta_1))/(4*r_2**2) + epsilon*sin(theta_2)*cos(theta_2)/(r_1*r_2) - 3*epsilon*(-sin(theta_1)*cos(theta_2) - sin(theta_2)*cos(theta_1))/(4*r_1**2)"
      ]
     },
     "metadata": {},
     "output_type": "display_data"
    }
   ],
   "source": [
    "eq_rhs_pos = TR11(eq_rhs_pos)\n",
    "display(eq_rhs_pos)"
   ]
  },
  {
   "cell_type": "code",
   "execution_count": 482,
   "id": "28c34e3b",
   "metadata": {},
   "outputs": [
    {
     "data": {
      "text/latex": [
       "$\\displaystyle \\frac{5 \\epsilon \\sin{\\left(\\theta_{1} \\right)} \\cos^{3}{\\left(\\theta_{2} \\right)}}{r_{2}^{2}} - \\frac{15 \\epsilon \\sin{\\left(\\theta_{1} \\right)} \\cos{\\left(\\theta_{2} \\right)}}{4 r_{2}^{2}} + \\frac{5 \\epsilon \\sin^{3}{\\left(\\theta_{2} \\right)} \\cos{\\left(\\theta_{1} \\right)}}{r_{2}^{2}} - \\frac{15 \\epsilon \\sin{\\left(\\theta_{2} \\right)} \\cos{\\left(\\theta_{1} \\right)}}{4 r_{2}^{2}} + \\frac{\\epsilon \\sin{\\left(\\theta_{2} \\right)} \\cos{\\left(\\theta_{2} \\right)}}{r_{1} r_{2}} + \\frac{3 \\epsilon \\sin{\\left(\\theta_{1} \\right)} \\cos{\\left(\\theta_{2} \\right)}}{4 r_{1}^{2}} + \\frac{3 \\epsilon \\sin{\\left(\\theta_{2} \\right)} \\cos{\\left(\\theta_{1} \\right)}}{4 r_{1}^{2}}$"
      ],
      "text/plain": [
       "5*epsilon*sin(theta_1)*cos(theta_2)**3/r_2**2 - 15*epsilon*sin(theta_1)*cos(theta_2)/(4*r_2**2) + 5*epsilon*sin(theta_2)**3*cos(theta_1)/r_2**2 - 15*epsilon*sin(theta_2)*cos(theta_1)/(4*r_2**2) + epsilon*sin(theta_2)*cos(theta_2)/(r_1*r_2) + 3*epsilon*sin(theta_1)*cos(theta_2)/(4*r_1**2) + 3*epsilon*sin(theta_2)*cos(theta_1)/(4*r_1**2)"
      ]
     },
     "metadata": {},
     "output_type": "display_data"
    }
   ],
   "source": [
    "eq_rhs_pos = eq_rhs_pos.subs({sin(3*theta2): 3*sin(theta2) - 4*sin(theta2)**3,\n",
    "                              cos(3*theta2): 4*cos(theta2)**3 - 3*cos(theta2)})\n",
    "eq_rhs_pos = expand(eq_rhs_pos)\n",
    "display(eq_rhs_pos)"
   ]
  },
  {
   "cell_type": "code",
   "execution_count": 483,
   "id": "173f894d",
   "metadata": {},
   "outputs": [],
   "source": [
    "theta = symbols('theta')\n",
    "r, d = symbols('r d', positive=True)"
   ]
  },
  {
   "cell_type": "code",
   "execution_count": 484,
   "id": "df0e6ef1",
   "metadata": {
    "scrolled": true
   },
   "outputs": [
    {
     "data": {
      "text/latex": [
       "$\\displaystyle \\frac{5 \\epsilon r^{3} \\left(\\frac{d}{2} + r \\cos{\\left(\\theta \\right)}\\right) \\sin^{3}{\\left(\\theta \\right)}}{r_{1} r_{2}^{5}} - \\frac{11 \\epsilon r \\left(- \\frac{d}{2} + r \\cos{\\left(\\theta \\right)}\\right) \\sin{\\left(\\theta \\right)}}{4 r_{1} r_{2}^{3}} - \\frac{15 \\epsilon r \\left(\\frac{d}{2} + r \\cos{\\left(\\theta \\right)}\\right) \\sin{\\left(\\theta \\right)}}{4 r_{1} r_{2}^{3}} + \\frac{5 \\epsilon r \\left(- \\frac{d}{2} + r \\cos{\\left(\\theta \\right)}\\right)^{3} \\sin{\\left(\\theta \\right)}}{r_{1} r_{2}^{5}} + \\frac{3 \\epsilon r \\left(- \\frac{d}{2} + r \\cos{\\left(\\theta \\right)}\\right) \\sin{\\left(\\theta \\right)}}{4 r_{1}^{3} r_{2}} + \\frac{3 \\epsilon r \\left(\\frac{d}{2} + r \\cos{\\left(\\theta \\right)}\\right) \\sin{\\left(\\theta \\right)}}{4 r_{1}^{3} r_{2}}$"
      ],
      "text/plain": [
       "5*epsilon*r**3*(d/2 + r*cos(theta))*sin(theta)**3/(r_1*r_2**5) - 11*epsilon*r*(-d/2 + r*cos(theta))*sin(theta)/(4*r_1*r_2**3) - 15*epsilon*r*(d/2 + r*cos(theta))*sin(theta)/(4*r_1*r_2**3) + 5*epsilon*r*(-d/2 + r*cos(theta))**3*sin(theta)/(r_1*r_2**5) + 3*epsilon*r*(-d/2 + r*cos(theta))*sin(theta)/(4*r_1**3*r_2) + 3*epsilon*r*(d/2 + r*cos(theta))*sin(theta)/(4*r_1**3*r_2)"
      ]
     },
     "metadata": {},
     "output_type": "display_data"
    }
   ],
   "source": [
    "subs_dict = {sin(theta1): (r * sin(theta) / r1),\n",
    "             sin(theta2): r * sin(theta) / r2,\n",
    "             cos(theta1): (r * cos(theta) + d/2) / r1,\n",
    "             cos(theta2): (r * cos(theta) - d/2) / r2}\n",
    "eq_rhs_pos = eq_rhs_pos.subs(subs_dict)\n",
    "display(eq_rhs_pos)"
   ]
  },
  {
   "cell_type": "code",
   "execution_count": 485,
   "id": "3fac273e",
   "metadata": {},
   "outputs": [
    {
     "data": {
      "text/latex": [
       "$\\displaystyle \\frac{16 d \\epsilon r \\left(- 3 d^{4} \\sin{\\left(\\theta \\right)} + 4 d^{2} r^{2} \\sin{\\left(3 \\theta \\right)} + 32 d r^{3} \\sin{\\left(2 \\theta \\right)} - 4 d r^{3} \\sin{\\left(4 \\theta \\right)} - 32 r^{4} \\sin{\\left(3 \\theta \\right)}\\right)}{\\left(d^{2} - 4 d r \\cos{\\left(\\theta \\right)} + 4 r^{2}\\right)^{\\frac{5}{2}} \\left(d^{2} + 4 d r \\cos{\\left(\\theta \\right)} + 4 r^{2}\\right)^{\\frac{3}{2}}}$"
      ],
      "text/plain": [
       "16*d*epsilon*r*(-3*d**4*sin(theta) + 4*d**2*r**2*sin(3*theta) + 32*d*r**3*sin(2*theta) - 4*d*r**3*sin(4*theta) - 32*r**4*sin(3*theta))/((d**2 - 4*d*r*cos(theta) + 4*r**2)**(5/2)*(d**2 + 4*d*r*cos(theta) + 4*r**2)**(3/2))"
      ]
     },
     "metadata": {},
     "output_type": "display_data"
    }
   ],
   "source": [
    "subs_dict = {r1: sqrt(r**2 + d**2 / 4 + r*d*cos(theta)),\n",
    "             r2: sqrt(r**2 + d**2 / 4 - r*d*cos(theta))}\n",
    "eq_rhs_pos = eq_rhs_pos.subs(subs_dict)\n",
    "eq_rhs_pos = simplify(eq_rhs_pos)\n",
    "display(eq_rhs_pos)"
   ]
  },
  {
   "cell_type": "markdown",
   "id": "78fed196",
   "metadata": {},
   "source": [
    "## Assumption that we're making is that $r \\gg d \\implies d/r \\ll 1$\n",
    "\n",
    "## Take $x = d/r \\implies d = rx$"
   ]
  },
  {
   "cell_type": "code",
   "execution_count": 486,
   "id": "9a8f39fc",
   "metadata": {},
   "outputs": [
    {
     "data": {
      "text/latex": [
       "$\\displaystyle - \\frac{16 \\epsilon x \\left(3 x^{4} \\sin{\\left(\\theta \\right)} - 4 x^{2} \\sin{\\left(3 \\theta \\right)} - 32 x \\sin{\\left(2 \\theta \\right)} + 4 x \\sin{\\left(4 \\theta \\right)} + 32 \\sin{\\left(3 \\theta \\right)}\\right)}{r^{2} \\left(x^{2} - 4 x \\cos{\\left(\\theta \\right)} + 4\\right)^{\\frac{5}{2}} \\left(x^{2} + 4 x \\cos{\\left(\\theta \\right)} + 4\\right)^{\\frac{3}{2}}}$"
      ],
      "text/plain": [
       "-16*epsilon*x*(3*x**4*sin(theta) - 4*x**2*sin(3*theta) - 32*x*sin(2*theta) + 4*x*sin(4*theta) + 32*sin(3*theta))/(r**2*(x**2 - 4*x*cos(theta) + 4)**(5/2)*(x**2 + 4*x*cos(theta) + 4)**(3/2))"
      ]
     },
     "metadata": {},
     "output_type": "display_data"
    }
   ],
   "source": [
    "x = symbols('x')\n",
    "eq_rhs_pos = simplify(eq_rhs_pos.subs(d, x*r))\n",
    "display(eq_rhs_pos)"
   ]
  },
  {
   "cell_type": "code",
   "execution_count": 487,
   "id": "0ef939a0",
   "metadata": {},
   "outputs": [
    {
     "data": {
      "text/latex": [
       "$\\displaystyle x^{2} \\cdot \\left(\\frac{2 \\epsilon \\sin{\\left(2 \\theta \\right)}}{r^{2}} - \\frac{2 \\epsilon \\sin{\\left(3 \\theta \\right)} \\cos{\\left(\\theta \\right)}}{r^{2}} - \\frac{\\epsilon \\sin{\\left(4 \\theta \\right)}}{4 r^{2}}\\right) - \\frac{2 \\epsilon x \\sin{\\left(3 \\theta \\right)}}{r^{2}} + O\\left(x^{3}\\right)$"
      ],
      "text/plain": [
       "x**2*(2*epsilon*sin(2*theta)/r**2 - 2*epsilon*sin(3*theta)*cos(theta)/r**2 - epsilon*sin(4*theta)/(4*r**2)) - 2*epsilon*x*sin(3*theta)/r**2 + O(x**3)"
      ]
     },
     "metadata": {},
     "output_type": "display_data"
    }
   ],
   "source": [
    "eq_rhs_series = eq_rhs_pos.series(x, 0, 3)\n",
    "display(eq_rhs_series)"
   ]
  },
  {
   "cell_type": "code",
   "execution_count": 488,
   "id": "b991f7d6",
   "metadata": {},
   "outputs": [
    {
     "data": {
      "text/latex": [
       "$\\displaystyle \\frac{- 8 d \\epsilon r^{4} \\sin{\\left(3 \\theta \\right)} + d^{2} \\epsilon r^{3} \\cdot \\left(4 \\sin{\\left(2 \\theta \\right)} - 5 \\sin{\\left(4 \\theta \\right)}\\right) + O\\left(d^{3} r^{4}; \\left( d, \\  r\\right)\\rightarrow \\left( 0, \\  0\\right)\\right)}{4 r^{7}}$"
      ],
      "text/plain": [
       "(-8*d*epsilon*r**4*sin(3*theta) + d**2*epsilon*r**3*(4*sin(2*theta) - 5*sin(4*theta)) + O(d**3*r**4, d, r))/(4*r**7)"
      ]
     },
     "execution_count": 488,
     "metadata": {},
     "output_type": "execute_result"
    }
   ],
   "source": [
    "simplify(TR8(eq_rhs_series.subs(x, d/r)))"
   ]
  },
  {
   "cell_type": "code",
   "execution_count": 489,
   "id": "d9dc3d98",
   "metadata": {},
   "outputs": [],
   "source": [
    "sol = A * sin(3*theta) / r"
   ]
  },
  {
   "cell_type": "code",
   "execution_count": 490,
   "id": "09f2b4a0",
   "metadata": {},
   "outputs": [
    {
     "data": {
      "text/latex": [
       "$\\displaystyle - \\frac{8 A \\sin{\\left(3 \\theta \\right)}}{r^{3}}$"
      ],
      "text/plain": [
       "-8*A*sin(3*theta)/r**3"
      ]
     },
     "metadata": {},
     "output_type": "display_data"
    }
   ],
   "source": [
    "lap_sol = sol.diff(r, 2) + (1/r) * sol.diff(r) + (1/r**2) * sol.diff(theta, 2)\n",
    "display(lap_sol)"
   ]
  },
  {
   "cell_type": "markdown",
   "id": "c85f2ca3",
   "metadata": {},
   "source": [
    "### Hence, $A = d \\epsilon / 4$"
   ]
  },
  {
   "cell_type": "markdown",
   "id": "f432c10b",
   "metadata": {},
   "source": [
    "## Let's try $q_1 = -1/2, q_2 = 1/2$"
   ]
  },
  {
   "cell_type": "code",
   "execution_count": 491,
   "id": "c7002459",
   "metadata": {},
   "outputs": [
    {
     "data": {
      "text/latex": [
       "$\\displaystyle - \\frac{3 \\epsilon \\left(- \\sin{\\left(\\theta_{1} \\right)} \\cos{\\left(\\theta_{2} \\right)} - \\sin{\\left(\\theta_{2} \\right)} \\cos{\\left(\\theta_{1} \\right)}\\right)}{4 r_{2}^{2}} + \\frac{\\epsilon \\sin{\\left(2 \\theta_{1} \\right)}}{2 r_{1} r_{2}} + \\frac{5 \\epsilon \\left(- \\sin{\\left(3 \\theta_{1} \\right)} \\cos{\\left(\\theta_{2} \\right)} + \\sin{\\left(\\theta_{2} \\right)} \\cos{\\left(3 \\theta_{1} \\right)}\\right)}{4 r_{1}^{2}}$"
      ],
      "text/plain": [
       "-3*epsilon*(-sin(theta_1)*cos(theta_2) - sin(theta_2)*cos(theta_1))/(4*r_2**2) + epsilon*sin(2*theta_1)/(2*r_1*r_2) + 5*epsilon*(-sin(3*theta_1)*cos(theta_2) + sin(theta_2)*cos(3*theta_1))/(4*r_1**2)"
      ]
     },
     "metadata": {},
     "output_type": "display_data"
    }
   ],
   "source": [
    "eq_rhs_neg = eq_rhs.subs({q1: -Rational(1, 2), q2: Rational(1, 2)})\n",
    "display(eq_rhs_neg)"
   ]
  },
  {
   "cell_type": "code",
   "execution_count": 492,
   "id": "171a2279",
   "metadata": {},
   "outputs": [
    {
     "data": {
      "text/latex": [
       "$\\displaystyle - \\frac{3 \\epsilon \\left(- \\sin{\\left(\\theta_{1} \\right)} \\cos{\\left(\\theta_{2} \\right)} - \\sin{\\left(\\theta_{2} \\right)} \\cos{\\left(\\theta_{1} \\right)}\\right)}{4 r_{2}^{2}} + \\frac{\\epsilon \\sin{\\left(\\theta_{1} \\right)} \\cos{\\left(\\theta_{1} \\right)}}{r_{1} r_{2}} + \\frac{5 \\epsilon \\left(- \\sin{\\left(3 \\theta_{1} \\right)} \\cos{\\left(\\theta_{2} \\right)} + \\sin{\\left(\\theta_{2} \\right)} \\cos{\\left(3 \\theta_{1} \\right)}\\right)}{4 r_{1}^{2}}$"
      ],
      "text/plain": [
       "-3*epsilon*(-sin(theta_1)*cos(theta_2) - sin(theta_2)*cos(theta_1))/(4*r_2**2) + epsilon*sin(theta_1)*cos(theta_1)/(r_1*r_2) + 5*epsilon*(-sin(3*theta_1)*cos(theta_2) + sin(theta_2)*cos(3*theta_1))/(4*r_1**2)"
      ]
     },
     "metadata": {},
     "output_type": "display_data"
    }
   ],
   "source": [
    "eq_rhs_neg = TR11(eq_rhs_neg)\n",
    "display(eq_rhs_neg)"
   ]
  },
  {
   "cell_type": "code",
   "execution_count": 493,
   "id": "963c18d2",
   "metadata": {},
   "outputs": [
    {
     "data": {
      "text/latex": [
       "$\\displaystyle \\frac{3 \\epsilon \\sin{\\left(\\theta_{1} \\right)} \\cos{\\left(\\theta_{2} \\right)}}{4 r_{2}^{2}} + \\frac{3 \\epsilon \\sin{\\left(\\theta_{2} \\right)} \\cos{\\left(\\theta_{1} \\right)}}{4 r_{2}^{2}} + \\frac{\\epsilon \\sin{\\left(\\theta_{1} \\right)} \\cos{\\left(\\theta_{1} \\right)}}{r_{1} r_{2}} + \\frac{5 \\epsilon \\sin^{3}{\\left(\\theta_{1} \\right)} \\cos{\\left(\\theta_{2} \\right)}}{r_{1}^{2}} - \\frac{15 \\epsilon \\sin{\\left(\\theta_{1} \\right)} \\cos{\\left(\\theta_{2} \\right)}}{4 r_{1}^{2}} + \\frac{5 \\epsilon \\sin{\\left(\\theta_{2} \\right)} \\cos^{3}{\\left(\\theta_{1} \\right)}}{r_{1}^{2}} - \\frac{15 \\epsilon \\sin{\\left(\\theta_{2} \\right)} \\cos{\\left(\\theta_{1} \\right)}}{4 r_{1}^{2}}$"
      ],
      "text/plain": [
       "3*epsilon*sin(theta_1)*cos(theta_2)/(4*r_2**2) + 3*epsilon*sin(theta_2)*cos(theta_1)/(4*r_2**2) + epsilon*sin(theta_1)*cos(theta_1)/(r_1*r_2) + 5*epsilon*sin(theta_1)**3*cos(theta_2)/r_1**2 - 15*epsilon*sin(theta_1)*cos(theta_2)/(4*r_1**2) + 5*epsilon*sin(theta_2)*cos(theta_1)**3/r_1**2 - 15*epsilon*sin(theta_2)*cos(theta_1)/(4*r_1**2)"
      ]
     },
     "metadata": {},
     "output_type": "display_data"
    }
   ],
   "source": [
    "eq_rhs_neg = eq_rhs_neg.subs({sin(3*theta1): 3*sin(theta1) - 4*sin(theta1)**3,\n",
    "                              cos(3*theta1): 4*cos(theta1)**3 - 3*cos(theta1)})\n",
    "eq_rhs_neg = expand(eq_rhs_neg)\n",
    "display(eq_rhs_neg)"
   ]
  },
  {
   "cell_type": "code",
   "execution_count": 494,
   "id": "bbd747b9",
   "metadata": {},
   "outputs": [
    {
     "data": {
      "text/latex": [
       "$\\displaystyle \\frac{5 \\epsilon r^{3} \\left(- \\frac{d}{2} + r \\cos{\\left(\\theta \\right)}\\right) \\sin^{3}{\\left(\\theta \\right)}}{r_{1}^{5} r_{2}} + \\frac{3 \\epsilon r \\left(- \\frac{d}{2} + r \\cos{\\left(\\theta \\right)}\\right) \\sin{\\left(\\theta \\right)}}{4 r_{1} r_{2}^{3}} + \\frac{3 \\epsilon r \\left(\\frac{d}{2} + r \\cos{\\left(\\theta \\right)}\\right) \\sin{\\left(\\theta \\right)}}{4 r_{1} r_{2}^{3}} - \\frac{15 \\epsilon r \\left(- \\frac{d}{2} + r \\cos{\\left(\\theta \\right)}\\right) \\sin{\\left(\\theta \\right)}}{4 r_{1}^{3} r_{2}} - \\frac{11 \\epsilon r \\left(\\frac{d}{2} + r \\cos{\\left(\\theta \\right)}\\right) \\sin{\\left(\\theta \\right)}}{4 r_{1}^{3} r_{2}} + \\frac{5 \\epsilon r \\left(\\frac{d}{2} + r \\cos{\\left(\\theta \\right)}\\right)^{3} \\sin{\\left(\\theta \\right)}}{r_{1}^{5} r_{2}}$"
      ],
      "text/plain": [
       "5*epsilon*r**3*(-d/2 + r*cos(theta))*sin(theta)**3/(r_1**5*r_2) + 3*epsilon*r*(-d/2 + r*cos(theta))*sin(theta)/(4*r_1*r_2**3) + 3*epsilon*r*(d/2 + r*cos(theta))*sin(theta)/(4*r_1*r_2**3) - 15*epsilon*r*(-d/2 + r*cos(theta))*sin(theta)/(4*r_1**3*r_2) - 11*epsilon*r*(d/2 + r*cos(theta))*sin(theta)/(4*r_1**3*r_2) + 5*epsilon*r*(d/2 + r*cos(theta))**3*sin(theta)/(r_1**5*r_2)"
      ]
     },
     "metadata": {},
     "output_type": "display_data"
    }
   ],
   "source": [
    "subs_dict = {sin(theta1): (r * sin(theta) / r1),\n",
    "             sin(theta2): r * sin(theta) / r2,\n",
    "             cos(theta1): (r * cos(theta) + d/2) / r1,\n",
    "             cos(theta2): (r * cos(theta) - d/2) / r2}\n",
    "eq_rhs_neg = eq_rhs_neg.subs(subs_dict)\n",
    "display(eq_rhs_neg)"
   ]
  },
  {
   "cell_type": "code",
   "execution_count": 495,
   "id": "98f91e9e",
   "metadata": {},
   "outputs": [
    {
     "data": {
      "text/latex": [
       "$\\displaystyle \\frac{16 d \\epsilon r \\left(3 d^{4} \\sin{\\left(\\theta \\right)} - 4 d^{2} r^{2} \\sin{\\left(3 \\theta \\right)} + 32 d r^{3} \\sin{\\left(2 \\theta \\right)} - 4 d r^{3} \\sin{\\left(4 \\theta \\right)} + 32 r^{4} \\sin{\\left(3 \\theta \\right)}\\right)}{\\left(d^{2} - 4 d r \\cos{\\left(\\theta \\right)} + 4 r^{2}\\right)^{\\frac{3}{2}} \\left(d^{2} + 4 d r \\cos{\\left(\\theta \\right)} + 4 r^{2}\\right)^{\\frac{5}{2}}}$"
      ],
      "text/plain": [
       "16*d*epsilon*r*(3*d**4*sin(theta) - 4*d**2*r**2*sin(3*theta) + 32*d*r**3*sin(2*theta) - 4*d*r**3*sin(4*theta) + 32*r**4*sin(3*theta))/((d**2 - 4*d*r*cos(theta) + 4*r**2)**(3/2)*(d**2 + 4*d*r*cos(theta) + 4*r**2)**(5/2))"
      ]
     },
     "metadata": {},
     "output_type": "display_data"
    }
   ],
   "source": [
    "subs_dict = {r1: sqrt(r**2 + d**2 / 4 + r*d*cos(theta)),\n",
    "             r2: sqrt(r**2 + d**2 / 4 - r*d*cos(theta))}\n",
    "eq_rhs_neg = eq_rhs_neg.subs(subs_dict)\n",
    "eq_rhs_neg = simplify(eq_rhs_neg)\n",
    "display(eq_rhs_neg)"
   ]
  },
  {
   "cell_type": "code",
   "execution_count": 496,
   "id": "0125209f",
   "metadata": {},
   "outputs": [
    {
     "data": {
      "text/latex": [
       "$\\displaystyle \\frac{16 \\epsilon x \\left(3 x^{4} \\sin{\\left(\\theta \\right)} - 4 x^{2} \\sin{\\left(3 \\theta \\right)} + 32 x \\sin{\\left(2 \\theta \\right)} - 4 x \\sin{\\left(4 \\theta \\right)} + 32 \\sin{\\left(3 \\theta \\right)}\\right)}{r^{2} \\left(x^{2} - 4 x \\cos{\\left(\\theta \\right)} + 4\\right)^{\\frac{3}{2}} \\left(x^{2} + 4 x \\cos{\\left(\\theta \\right)} + 4\\right)^{\\frac{5}{2}}}$"
      ],
      "text/plain": [
       "16*epsilon*x*(3*x**4*sin(theta) - 4*x**2*sin(3*theta) + 32*x*sin(2*theta) - 4*x*sin(4*theta) + 32*sin(3*theta))/(r**2*(x**2 - 4*x*cos(theta) + 4)**(3/2)*(x**2 + 4*x*cos(theta) + 4)**(5/2))"
      ]
     },
     "metadata": {},
     "output_type": "display_data"
    }
   ],
   "source": [
    "x = symbols('x')\n",
    "eq_rhs_neg = simplify(eq_rhs_neg.subs(d, x*r))\n",
    "display(eq_rhs_neg)"
   ]
  },
  {
   "cell_type": "code",
   "execution_count": 497,
   "id": "00bbd0b8",
   "metadata": {},
   "outputs": [
    {
     "data": {
      "text/latex": [
       "$\\displaystyle \\frac{2 \\epsilon x \\sin{\\left(3 \\theta \\right)}}{r^{2}} + O\\left(x^{2}\\right)$"
      ],
      "text/plain": [
       "2*epsilon*x*sin(3*theta)/r**2 + O(x**2)"
      ]
     },
     "metadata": {},
     "output_type": "display_data"
    }
   ],
   "source": [
    "eq_rhs_series = eq_rhs_neg.series(x, 0, 2)\n",
    "display(eq_rhs_series)"
   ]
  },
  {
   "cell_type": "markdown",
   "id": "d21f1e5b",
   "metadata": {},
   "source": [
    "## Now for close to one defect, or $r_1/d \\ll 1$"
   ]
  },
  {
   "cell_type": "markdown",
   "id": "be6205ec",
   "metadata": {},
   "source": [
    "$\\mathbf{r}_1 = \\mathbf{r}_2 + \\mathbf{d}$\n",
    "\n",
    "$\\mathbf{r}_2 = \\mathbf{r}_1 - \\mathbf{d}$\n",
    "\n",
    "$\\mathbf{r}_2 \\cdot \\mathbf{d} = r_2 d \\cos \\theta_2 = r_1 d \\cos\\theta_1 - d^2$\n",
    "\n",
    "$\\mathbf{r}_2 \\times \\mathbf{d} = r_2 d \\sin\\theta_2 = \\mathbf{r}_1 \\times \\mathbf{d} = r_1 d \\sin\\theta_1$\n",
    "\n",
    "$r_2 = \\sqrt{r_1^2 + d^2 - r_1 d \\cos\\theta_1}$"
   ]
  },
  {
   "cell_type": "markdown",
   "id": "345b8e3d",
   "metadata": {},
   "source": [
    "### Solving for $q_1$"
   ]
  },
  {
   "cell_type": "code",
   "execution_count": 498,
   "id": "2b883c34",
   "metadata": {},
   "outputs": [
    {
     "data": {
      "text/latex": [
       "$\\displaystyle \\frac{5 \\epsilon \\left(\\sin{\\left(\\theta_{1} \\right)} \\cos{\\left(3 \\theta_{2} \\right)} - \\sin{\\left(3 \\theta_{2} \\right)} \\cos{\\left(\\theta_{1} \\right)}\\right)}{4 r_{2}^{2}} + \\frac{\\epsilon \\sin{\\left(\\theta_{2} \\right)} \\cos{\\left(\\theta_{2} \\right)}}{r_{1} r_{2}} - \\frac{3 \\epsilon \\left(- \\sin{\\left(\\theta_{1} \\right)} \\cos{\\left(\\theta_{2} \\right)} - \\sin{\\left(\\theta_{2} \\right)} \\cos{\\left(\\theta_{1} \\right)}\\right)}{4 r_{1}^{2}}$"
      ],
      "text/plain": [
       "5*epsilon*(sin(theta_1)*cos(3*theta_2) - sin(3*theta_2)*cos(theta_1))/(4*r_2**2) + epsilon*sin(theta_2)*cos(theta_2)/(r_1*r_2) - 3*epsilon*(-sin(theta_1)*cos(theta_2) - sin(theta_2)*cos(theta_1))/(4*r_1**2)"
      ]
     },
     "metadata": {},
     "output_type": "display_data"
    }
   ],
   "source": [
    "eq_rhs_close_pos = eq_rhs.subs({q1: Rational(1, 2), q2: -Rational(1, 2)})\n",
    "eq_rhs_close_pos = TR11(eq_rhs_close_pos)\n",
    "display(eq_rhs_close_pos)"
   ]
  },
  {
   "cell_type": "code",
   "execution_count": 499,
   "id": "946edf14",
   "metadata": {},
   "outputs": [
    {
     "data": {
      "text/latex": [
       "$\\displaystyle \\frac{5 \\epsilon \\left(- \\left(- 4 \\sin^{3}{\\left(\\theta_{2} \\right)} + 3 \\sin{\\left(\\theta_{2} \\right)}\\right) \\cos{\\left(\\theta_{1} \\right)} + \\left(4 \\cos^{3}{\\left(\\theta_{2} \\right)} - 3 \\cos{\\left(\\theta_{2} \\right)}\\right) \\sin{\\left(\\theta_{1} \\right)}\\right)}{4 r_{2}^{2}} + \\frac{\\epsilon \\sin{\\left(\\theta_{2} \\right)} \\cos{\\left(\\theta_{2} \\right)}}{r_{1} r_{2}} - \\frac{3 \\epsilon \\left(- \\sin{\\left(\\theta_{1} \\right)} \\cos{\\left(\\theta_{2} \\right)} - \\sin{\\left(\\theta_{2} \\right)} \\cos{\\left(\\theta_{1} \\right)}\\right)}{4 r_{1}^{2}}$"
      ],
      "text/plain": [
       "5*epsilon*(-(-4*sin(theta_2)**3 + 3*sin(theta_2))*cos(theta_1) + (4*cos(theta_2)**3 - 3*cos(theta_2))*sin(theta_1))/(4*r_2**2) + epsilon*sin(theta_2)*cos(theta_2)/(r_1*r_2) - 3*epsilon*(-sin(theta_1)*cos(theta_2) - sin(theta_2)*cos(theta_1))/(4*r_1**2)"
      ]
     },
     "metadata": {},
     "output_type": "display_data"
    }
   ],
   "source": [
    "eq_rhs_close_pos = eq_rhs_close_pos.subs({sin(3*theta2): 3*sin(theta2) - 4*sin(theta2)**3,\n",
    "                                          cos(3*theta2): 4*cos(theta2)**3 - 3*cos(theta2)})\n",
    "display(eq_rhs_close_pos)"
   ]
  },
  {
   "cell_type": "code",
   "execution_count": 500,
   "id": "65005bc8",
   "metadata": {},
   "outputs": [
    {
     "data": {
      "text/latex": [
       "$\\displaystyle \\frac{d \\epsilon \\left(- 3 d^{4} + 12 d^{3} r_{1} \\cos{\\left(\\theta_{1} \\right)} - 15 d^{2} r_{1}^{2} \\cos^{2}{\\left(\\theta_{1} \\right)} - 15 d^{2} r_{1}^{2} + 6 d r_{1}^{3} \\cos^{3}{\\left(\\theta_{1} \\right)} + 41 d r_{1}^{3} \\cos{\\left(\\theta_{1} \\right)} - 46 r_{1}^{4} \\cos^{2}{\\left(\\theta_{1} \\right)} + 8 r_{1}^{4}\\right) \\sin{\\left(\\theta_{1} \\right)}}{4 r_{1}^{2} \\left(d^{2} - d r_{1} \\cos{\\left(\\theta_{1} \\right)} + r_{1}^{2}\\right)^{\\frac{5}{2}}}$"
      ],
      "text/plain": [
       "d*epsilon*(-3*d**4 + 12*d**3*r_1*cos(theta_1) - 15*d**2*r_1**2*cos(theta_1)**2 - 15*d**2*r_1**2 + 6*d*r_1**3*cos(theta_1)**3 + 41*d*r_1**3*cos(theta_1) - 46*r_1**4*cos(theta_1)**2 + 8*r_1**4)*sin(theta_1)/(4*r_1**2*(d**2 - d*r_1*cos(theta_1) + r_1**2)**(5/2))"
      ]
     },
     "metadata": {},
     "output_type": "display_data"
    }
   ],
   "source": [
    "subs_dict_1 = {cos(theta2): (r1 * cos(theta1) - d) / r2,\n",
    "               sin(theta2): (r1 / r2) * sin(theta1)}\n",
    "subs_dict_2 = {r2: sqrt(r1**2 + d**2 - r1*d*cos(theta1))}\n",
    "\n",
    "eq_rhs_close_pos = eq_rhs_close_pos.subs(subs_dict_1)\n",
    "eq_rhs_close_pos = eq_rhs_close_pos.subs(subs_dict_2)\n",
    "eq_rhs_close_pos = simplify(eq_rhs_close_pos)\n",
    "display(eq_rhs_close_pos)"
   ]
  },
  {
   "cell_type": "code",
   "execution_count": 501,
   "id": "7f58529f",
   "metadata": {},
   "outputs": [
    {
     "data": {
      "text/latex": [
       "$\\displaystyle \\frac{\\epsilon \\left(- 46 d^{4} x^{4} \\cos^{2}{\\left(\\theta_{1} \\right)} + 8 d^{4} x^{4} + 6 d^{4} x^{3} \\cos^{3}{\\left(\\theta_{1} \\right)} + 41 d^{4} x^{3} \\cos{\\left(\\theta_{1} \\right)} - 15 d^{4} x^{2} \\cos^{2}{\\left(\\theta_{1} \\right)} - 15 d^{4} x^{2} + 12 d^{4} x \\cos{\\left(\\theta_{1} \\right)} - 3 d^{4}\\right) \\sin{\\left(\\theta_{1} \\right)}}{4 d x^{2} \\left(d^{2} x^{2} - d^{2} x \\cos{\\left(\\theta_{1} \\right)} + d^{2}\\right)^{\\frac{5}{2}}}$"
      ],
      "text/plain": [
       "epsilon*(-46*d**4*x**4*cos(theta_1)**2 + 8*d**4*x**4 + 6*d**4*x**3*cos(theta_1)**3 + 41*d**4*x**3*cos(theta_1) - 15*d**4*x**2*cos(theta_1)**2 - 15*d**4*x**2 + 12*d**4*x*cos(theta_1) - 3*d**4)*sin(theta_1)/(4*d*x**2*(d**2*x**2 - d**2*x*cos(theta_1) + d**2)**(5/2))"
      ]
     },
     "metadata": {},
     "output_type": "display_data"
    }
   ],
   "source": [
    "eq_rhs_close_pos = eq_rhs_close_pos.subs(r1, x * d)\n",
    "display(eq_rhs_close_pos)"
   ]
  },
  {
   "cell_type": "code",
   "execution_count": 502,
   "id": "48550222",
   "metadata": {},
   "outputs": [
    {
     "data": {
      "text/latex": [
       "$\\displaystyle \\frac{9 \\epsilon \\sin{\\left(2 \\theta_{1} \\right)}}{16 d r_{1}} - \\frac{3 \\epsilon \\sin{\\left(\\theta_{1} \\right)}}{4 r_{1}^{2}} + O\\left(1\\right)$"
      ],
      "text/plain": [
       "9*epsilon*sin(2*theta_1)/(16*d*r_1) - 3*epsilon*sin(theta_1)/(4*r_1**2) + O(1)"
      ]
     },
     "metadata": {},
     "output_type": "display_data"
    }
   ],
   "source": [
    "eq_rhs_close_pos_series = eq_rhs_close_pos.series(x, 0, 0)\n",
    "eq_rhs_close_pos_series = TR8(eq_rhs_close_pos_series).subs(x, r1/d)\n",
    "display(eq_rhs_close_pos_series)"
   ]
  },
  {
   "cell_type": "code",
   "execution_count": 521,
   "id": "a8e59723",
   "metadata": {},
   "outputs": [
    {
     "data": {
      "text/latex": [
       "$\\displaystyle \\frac{A \\sin{\\left(2 \\theta_{1} \\right)}}{r_{1}} - \\frac{4 A r_{1} \\sin{\\left(2 \\theta_{1} \\right)} + B \\sin{\\left(\\theta_{1} \\right)}}{r_{1}^{2}}$"
      ],
      "text/plain": [
       "A*sin(2*theta_1)/r_1 - (4*A*r_1*sin(2*theta_1) + B*sin(theta_1))/r_1**2"
      ]
     },
     "metadata": {},
     "output_type": "display_data"
    }
   ],
   "source": [
    "sol = A * r1 * sin(2*theta1) + B * sin(theta1)\n",
    "\n",
    "lap_sol = sol.diff(r1, 2) + (1/r1) * sol.diff(r1) + (1/r1**2) * sol.diff(theta1, 2)\n",
    "display(lap_sol)"
   ]
  },
  {
   "cell_type": "markdown",
   "id": "6794a179",
   "metadata": {},
   "source": [
    "### Hence, $A = -\\frac{3 \\epsilon}{16 d}$, and $B = \\frac{3\\epsilon}{4}$"
   ]
  },
  {
   "cell_type": "markdown",
   "id": "9ba4fdde",
   "metadata": {},
   "source": [
    "### Solving for $q_2$"
   ]
  },
  {
   "cell_type": "code",
   "execution_count": 503,
   "id": "1e62431c",
   "metadata": {},
   "outputs": [
    {
     "data": {
      "text/latex": [
       "$\\displaystyle \\frac{5 \\epsilon \\left(\\sin{\\left(\\theta_{1} \\right)} \\cos{\\left(3 \\theta_{2} \\right)} - \\sin{\\left(3 \\theta_{2} \\right)} \\cos{\\left(\\theta_{1} \\right)}\\right)}{4 r_{2}^{2}} + \\frac{\\epsilon \\sin{\\left(\\theta_{2} \\right)} \\cos{\\left(\\theta_{2} \\right)}}{r_{1} r_{2}} - \\frac{3 \\epsilon \\left(- \\sin{\\left(\\theta_{1} \\right)} \\cos{\\left(\\theta_{2} \\right)} - \\sin{\\left(\\theta_{2} \\right)} \\cos{\\left(\\theta_{1} \\right)}\\right)}{4 r_{1}^{2}}$"
      ],
      "text/plain": [
       "5*epsilon*(sin(theta_1)*cos(3*theta_2) - sin(3*theta_2)*cos(theta_1))/(4*r_2**2) + epsilon*sin(theta_2)*cos(theta_2)/(r_1*r_2) - 3*epsilon*(-sin(theta_1)*cos(theta_2) - sin(theta_2)*cos(theta_1))/(4*r_1**2)"
      ]
     },
     "metadata": {},
     "output_type": "display_data"
    }
   ],
   "source": [
    "eq_rhs_close_neg = eq_rhs.subs({q1: Rational(1, 2), q2: -Rational(1, 2)})\n",
    "eq_rhs_close_neg = TR11(eq_rhs_close_neg)\n",
    "display(eq_rhs_close_neg)"
   ]
  },
  {
   "cell_type": "code",
   "execution_count": 504,
   "id": "3cd25356",
   "metadata": {},
   "outputs": [
    {
     "data": {
      "text/latex": [
       "$\\displaystyle \\frac{5 \\epsilon \\left(- \\left(- 4 \\sin^{3}{\\left(\\theta_{2} \\right)} + 3 \\sin{\\left(\\theta_{2} \\right)}\\right) \\cos{\\left(\\theta_{1} \\right)} + \\left(4 \\cos^{3}{\\left(\\theta_{2} \\right)} - 3 \\cos{\\left(\\theta_{2} \\right)}\\right) \\sin{\\left(\\theta_{1} \\right)}\\right)}{4 r_{2}^{2}} + \\frac{\\epsilon \\sin{\\left(\\theta_{2} \\right)} \\cos{\\left(\\theta_{2} \\right)}}{r_{1} r_{2}} - \\frac{3 \\epsilon \\left(- \\sin{\\left(\\theta_{1} \\right)} \\cos{\\left(\\theta_{2} \\right)} - \\sin{\\left(\\theta_{2} \\right)} \\cos{\\left(\\theta_{1} \\right)}\\right)}{4 r_{1}^{2}}$"
      ],
      "text/plain": [
       "5*epsilon*(-(-4*sin(theta_2)**3 + 3*sin(theta_2))*cos(theta_1) + (4*cos(theta_2)**3 - 3*cos(theta_2))*sin(theta_1))/(4*r_2**2) + epsilon*sin(theta_2)*cos(theta_2)/(r_1*r_2) - 3*epsilon*(-sin(theta_1)*cos(theta_2) - sin(theta_2)*cos(theta_1))/(4*r_1**2)"
      ]
     },
     "metadata": {},
     "output_type": "display_data"
    }
   ],
   "source": [
    "eq_rhs_close_neg = eq_rhs_close_neg.subs({sin(3*theta2): 3*sin(theta2) - 4*sin(theta2)**3,\n",
    "                                          cos(3*theta2): 4*cos(theta2)**3 - 3*cos(theta2)})\n",
    "display(eq_rhs_close_neg)"
   ]
  },
  {
   "cell_type": "markdown",
   "id": "b796728c",
   "metadata": {},
   "source": [
    "$\\cos\\theta_1 = \\frac{r_2 \\cos\\theta_2 + d}{r_1}$\n",
    "\n",
    "$\\sin\\theta_1 = \\frac{r_2 \\sin\\theta_2}{r_1}$\n",
    "\n",
    "$r_1 = \\sqrt{r_2^2 + d^2 + r_2 d \\cos\\theta_2}$"
   ]
  },
  {
   "cell_type": "code",
   "execution_count": 505,
   "id": "e3d8b14f",
   "metadata": {},
   "outputs": [
    {
     "data": {
      "text/latex": [
       "$\\displaystyle \\frac{\\epsilon \\left(3 r_{2}^{2} \\left(d + 2 r_{2} \\cos{\\left(\\theta_{2} \\right)}\\right) + 4 r_{2} \\left(d^{2} + d r_{2} \\cos{\\left(\\theta_{2} \\right)} + r_{2}^{2}\\right) \\cos{\\left(\\theta_{2} \\right)} + 5 \\left(r_{2} \\cos{\\left(3 \\theta_{2} \\right)} + \\left(d + r_{2} \\cos{\\left(\\theta_{2} \\right)}\\right) \\left(4 \\sin^{2}{\\left(\\theta_{2} \\right)} - 3\\right)\\right) \\left(d^{2} + d r_{2} \\cos{\\left(\\theta_{2} \\right)} + r_{2}^{2}\\right)\\right) \\sin{\\left(\\theta_{2} \\right)}}{4 r_{2}^{2} \\left(d^{2} + d r_{2} \\cos{\\left(\\theta_{2} \\right)} + r_{2}^{2}\\right)^{\\frac{3}{2}}}$"
      ],
      "text/plain": [
       "epsilon*(3*r_2**2*(d + 2*r_2*cos(theta_2)) + 4*r_2*(d**2 + d*r_2*cos(theta_2) + r_2**2)*cos(theta_2) + 5*(r_2*cos(3*theta_2) + (d + r_2*cos(theta_2))*(4*sin(theta_2)**2 - 3))*(d**2 + d*r_2*cos(theta_2) + r_2**2))*sin(theta_2)/(4*r_2**2*(d**2 + d*r_2*cos(theta_2) + r_2**2)**(3/2))"
      ]
     },
     "metadata": {},
     "output_type": "display_data"
    }
   ],
   "source": [
    "subs_dict_1 = {cos(theta1): (r2 * cos(theta2) + d) / r1,\n",
    "               sin(theta1): (r2 / r1) * sin(theta2)}\n",
    "subs_dict_2 = {r1: sqrt(r2**2 + d**2 + r2*d*cos(theta2))}\n",
    "\n",
    "eq_rhs_close_neg = eq_rhs_close_neg.subs(subs_dict_1)\n",
    "eq_rhs_close_neg = eq_rhs_close_neg.subs(subs_dict_2)\n",
    "eq_rhs_close_neg = simplify(eq_rhs_close_neg)\n",
    "display(eq_rhs_close_neg)"
   ]
  },
  {
   "cell_type": "code",
   "execution_count": 506,
   "id": "7024adc8",
   "metadata": {},
   "outputs": [
    {
     "data": {
      "text/latex": [
       "$\\displaystyle \\frac{\\epsilon \\left(3 d^{2} x^{2} \\cdot \\left(2 d x \\cos{\\left(\\theta_{2} \\right)} + d\\right) + 4 d x \\left(d^{2} x^{2} + d^{2} x \\cos{\\left(\\theta_{2} \\right)} + d^{2}\\right) \\cos{\\left(\\theta_{2} \\right)} + 5 \\left(d x \\cos{\\left(3 \\theta_{2} \\right)} + \\left(d x \\cos{\\left(\\theta_{2} \\right)} + d\\right) \\left(4 \\sin^{2}{\\left(\\theta_{2} \\right)} - 3\\right)\\right) \\left(d^{2} x^{2} + d^{2} x \\cos{\\left(\\theta_{2} \\right)} + d^{2}\\right)\\right) \\sin{\\left(\\theta_{2} \\right)}}{4 d^{2} x^{2} \\left(d^{2} x^{2} + d^{2} x \\cos{\\left(\\theta_{2} \\right)} + d^{2}\\right)^{\\frac{3}{2}}}$"
      ],
      "text/plain": [
       "epsilon*(3*d**2*x**2*(2*d*x*cos(theta_2) + d) + 4*d*x*(d**2*x**2 + d**2*x*cos(theta_2) + d**2)*cos(theta_2) + 5*(d*x*cos(3*theta_2) + (d*x*cos(theta_2) + d)*(4*sin(theta_2)**2 - 3))*(d**2*x**2 + d**2*x*cos(theta_2) + d**2))*sin(theta_2)/(4*d**2*x**2*(d**2*x**2 + d**2*x*cos(theta_2) + d**2)**(3/2))"
      ]
     },
     "metadata": {},
     "output_type": "display_data"
    }
   ],
   "source": [
    "eq_rhs_close_neg = eq_rhs_close_neg.subs(r2, x * d)\n",
    "display(eq_rhs_close_neg)"
   ]
  },
  {
   "cell_type": "code",
   "execution_count": 507,
   "id": "4d53a083",
   "metadata": {},
   "outputs": [
    {
     "data": {
      "text/latex": [
       "$\\displaystyle \\frac{d \\left(\\frac{5 \\epsilon \\left(- \\sin{\\left(2 \\theta_{2} \\right)} + \\sin{\\left(4 \\theta_{2} \\right)}\\right)}{8 d^{2}} + \\frac{5 \\epsilon \\left(2 \\sin{\\left(2 \\theta_{2} \\right)} - \\sin{\\left(4 \\theta_{2} \\right)}\\right)}{16 d^{2}} - \\frac{7 \\epsilon \\sin{\\left(2 \\theta_{2} \\right)}}{16 d^{2}}\\right)}{r_{2}} + \\frac{d^{2} \\cdot \\left(\\frac{5 \\epsilon \\left(\\frac{3 \\sin{\\left(\\theta_{2} \\right)}}{4} - \\frac{\\sin{\\left(3 \\theta_{2} \\right)}}{4}\\right)}{d^{2}} - \\frac{15 \\epsilon \\sin{\\left(\\theta_{2} \\right)}}{4 d^{2}}\\right)}{r_{2}^{2}} + O\\left(1\\right)$"
      ],
      "text/plain": [
       "d*(5*epsilon*(-sin(2*theta_2) + sin(4*theta_2))/(8*d**2) + 5*epsilon*(2*sin(2*theta_2) - sin(4*theta_2))/(16*d**2) - 7*epsilon*sin(2*theta_2)/(16*d**2))/r_2 + d**2*(5*epsilon*(3*sin(theta_2)/4 - sin(3*theta_2)/4)/d**2 - 15*epsilon*sin(theta_2)/(4*d**2))/r_2**2 + O(1)"
      ]
     },
     "metadata": {},
     "output_type": "display_data"
    }
   ],
   "source": [
    "eq_rhs_close_neg_series = eq_rhs_close_neg.series(x, 0, 0)\n",
    "eq_rhs_close_neg_series = TR8(eq_rhs_close_neg_series).subs(x, r2/d)\n",
    "display(eq_rhs_close_neg_series)"
   ]
  },
  {
   "cell_type": "code",
   "execution_count": 508,
   "id": "9e4cc6d0",
   "metadata": {},
   "outputs": [
    {
     "data": {
      "text/latex": [
       "$\\displaystyle \\frac{\\epsilon r_{2}^{2} \\left(- 7 \\sin{\\left(2 \\theta_{2} \\right)} + 5 \\sin{\\left(4 \\theta_{2} \\right)}\\right) - 20 d \\epsilon r_{2} \\sin{\\left(3 \\theta_{2} \\right)} + O\\left(d r_{2}^{3}; \\left( d, \\  r_{2}\\right)\\rightarrow \\left( 0, \\  0\\right)\\right)}{16 d r_{2}^{3}}$"
      ],
      "text/plain": [
       "(epsilon*r_2**2*(-7*sin(2*theta_2) + 5*sin(4*theta_2)) - 20*d*epsilon*r_2*sin(3*theta_2) + O(d*r_2**3, d, r_2))/(16*d*r_2**3)"
      ]
     },
     "execution_count": 508,
     "metadata": {},
     "output_type": "execute_result"
    }
   ],
   "source": [
    "simplify(eq_rhs_close_neg_series)"
   ]
  },
  {
   "cell_type": "code",
   "execution_count": null,
   "id": "baadfc91",
   "metadata": {},
   "outputs": [],
   "source": []
  }
 ],
 "metadata": {
  "kernelspec": {
   "display_name": "Python 3 (ipykernel)",
   "language": "python",
   "name": "python3"
  },
  "language_info": {
   "codemirror_mode": {
    "name": "ipython",
    "version": 3
   },
   "file_extension": ".py",
   "mimetype": "text/x-python",
   "name": "python",
   "nbconvert_exporter": "python",
   "pygments_lexer": "ipython3",
   "version": "3.9.7"
  }
 },
 "nbformat": 4,
 "nbformat_minor": 5
}
