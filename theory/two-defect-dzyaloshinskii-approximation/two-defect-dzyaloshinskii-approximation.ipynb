{
 "cells": [
  {
   "cell_type": "code",
   "execution_count": 1,
   "id": "3c646fe9",
   "metadata": {},
   "outputs": [],
   "source": [
    "from sympy import *\n",
    "from sympy.vector import CoordSys3D, Del\n",
    "from sympy.simplify.epathtools import EPath\n",
    "\n",
    "# this is for all the trigonometric simplifications\n",
    "from sympy.simplify.fu import *"
   ]
  },
  {
   "cell_type": "code",
   "execution_count": 2,
   "id": "e7d87623",
   "metadata": {},
   "outputs": [],
   "source": [
    "R = CoordSys3D('R')\n",
    "delop = Del()\n",
    "x = R.x\n",
    "y = R.y\n",
    "\n",
    "eps, theta, r = symbols('epsilon theta r')\n",
    "nx = Function('n_x')(x, y)\n",
    "ny = Function('n_y')(x, y)"
   ]
  },
  {
   "cell_type": "code",
   "execution_count": 3,
   "id": "5dee171f",
   "metadata": {},
   "outputs": [
    {
     "data": {
      "text/latex": [
       "$\\displaystyle (\\operatorname{n_{x}}{\\left(\\mathbf{{x}_{R}},\\mathbf{{y}_{R}} \\right)})\\mathbf{\\hat{i}_{R}} + (\\operatorname{n_{y}}{\\left(\\mathbf{{x}_{R}},\\mathbf{{y}_{R}} \\right)})\\mathbf{\\hat{j}_{R}}$"
      ],
      "text/plain": [
       "(n_x(R.x, R.y))*R.i + (n_y(R.x, R.y))*R.j"
      ]
     },
     "execution_count": 3,
     "metadata": {},
     "output_type": "execute_result"
    }
   ],
   "source": [
    "n = nx * R.i + ny * R.j\n",
    "n"
   ]
  },
  {
   "cell_type": "code",
   "execution_count": 4,
   "id": "d67bc718",
   "metadata": {},
   "outputs": [],
   "source": [
    "A, B = symbols('A B')"
   ]
  },
  {
   "cell_type": "markdown",
   "id": "18b60c3a",
   "metadata": {},
   "source": [
    "### Calculate charge density"
   ]
  },
  {
   "cell_type": "markdown",
   "id": "74c00cf1",
   "metadata": {},
   "source": [
    "Splay is $\\frac12 K_1 (\\nabla \\cdot \\mathbf{n})^2$\n",
    "\n",
    "Bend is $\\frac12 K_3 |\\mathbf{n} \\times (\\nabla \\times \\mathbf{n})|^2$\n",
    "\n",
    "In Carter parlance, $\\epsilon = \\frac{K_1 - K_3}{K_1 + K_3}$ which differs by a sign from Cody parlance.\n",
    "\n",
    "Hence, taking $K = \\frac{K_1 + K_3}{2}$ we get that $K_1 = 2 K \\epsilon + K_3$ and $K_3 = -2 K \\epsilon + K_1$\n",
    "\n",
    "This simplifies to: $K_1 = K (1 + \\epsilon)$ and $K_3 = K (1 - \\epsilon)$"
   ]
  },
  {
   "cell_type": "code",
   "execution_count": 5,
   "id": "cbdcda0b",
   "metadata": {},
   "outputs": [
    {
     "data": {
      "text/latex": [
       "$\\displaystyle \\left(\\frac{\\partial}{\\partial \\mathbf{{x}_{R}}} \\operatorname{n_{x}}{\\left(\\mathbf{{x}_{R}},\\mathbf{{y}_{R}} \\right)} + \\frac{\\partial}{\\partial \\mathbf{{y}_{R}}} \\operatorname{n_{y}}{\\left(\\mathbf{{x}_{R}},\\mathbf{{y}_{R}} \\right)}\\right)^{2}$"
      ],
      "text/plain": [
       "(Derivative(n_x(R.x, R.y), R.x) + Derivative(n_y(R.x, R.y), R.y))**2"
      ]
     },
     "execution_count": 5,
     "metadata": {},
     "output_type": "execute_result"
    }
   ],
   "source": [
    "splay = simplify( delop.dot(n).doit()**2 )\n",
    "splay"
   ]
  },
  {
   "cell_type": "code",
   "execution_count": 6,
   "id": "7fcfde91",
   "metadata": {},
   "outputs": [
    {
     "data": {
      "text/latex": [
       "$\\displaystyle \\left(\\frac{\\partial}{\\partial \\mathbf{{y}_{R}}} \\operatorname{n_{x}}{\\left(\\mathbf{{x}_{R}},\\mathbf{{y}_{R}} \\right)} - \\frac{\\partial}{\\partial \\mathbf{{x}_{R}}} \\operatorname{n_{y}}{\\left(\\mathbf{{x}_{R}},\\mathbf{{y}_{R}} \\right)}\\right)^{2}$"
      ],
      "text/plain": [
       "(Derivative(n_x(R.x, R.y), R.y) - Derivative(n_y(R.x, R.y), R.x))**2"
      ]
     },
     "execution_count": 6,
     "metadata": {},
     "output_type": "execute_result"
    }
   ],
   "source": [
    "bend = simplify( n.cross( delop.cross(n).doit() ).magnitude()**2 )\n",
    "bend = bend.subs(nx**2 + ny**2, 1)\n",
    "bend"
   ]
  },
  {
   "cell_type": "markdown",
   "id": "1bf72eff",
   "metadata": {},
   "source": [
    "Hence, the nondimensional energy density for the director is:"
   ]
  },
  {
   "cell_type": "code",
   "execution_count": 7,
   "id": "554bb2cf",
   "metadata": {},
   "outputs": [
    {
     "data": {
      "text/latex": [
       "$\\displaystyle \\left(1 - \\epsilon\\right) \\left(\\frac{\\partial}{\\partial \\mathbf{{y}_{R}}} \\operatorname{n_{x}}{\\left(\\mathbf{{x}_{R}},\\mathbf{{y}_{R}} \\right)} - \\frac{\\partial}{\\partial \\mathbf{{x}_{R}}} \\operatorname{n_{y}}{\\left(\\mathbf{{x}_{R}},\\mathbf{{y}_{R}} \\right)}\\right)^{2} + \\left(\\epsilon + 1\\right) \\left(\\frac{\\partial}{\\partial \\mathbf{{x}_{R}}} \\operatorname{n_{x}}{\\left(\\mathbf{{x}_{R}},\\mathbf{{y}_{R}} \\right)} + \\frac{\\partial}{\\partial \\mathbf{{y}_{R}}} \\operatorname{n_{y}}{\\left(\\mathbf{{x}_{R}},\\mathbf{{y}_{R}} \\right)}\\right)^{2}$"
      ],
      "text/plain": [
       "(1 - epsilon)*(Derivative(n_x(R.x, R.y), R.y) - Derivative(n_y(R.x, R.y), R.x))**2 + (epsilon + 1)*(Derivative(n_x(R.x, R.y), R.x) + Derivative(n_y(R.x, R.y), R.y))**2"
      ]
     },
     "execution_count": 7,
     "metadata": {},
     "output_type": "execute_result"
    }
   ],
   "source": [
    "g = (1 + eps) * splay + (1 - eps) * bend\n",
    "g"
   ]
  },
  {
   "cell_type": "markdown",
   "id": "41caa2c8",
   "metadata": {},
   "source": [
    "### Calculate in terms of director angle"
   ]
  },
  {
   "cell_type": "code",
   "execution_count": 8,
   "id": "eef8af42",
   "metadata": {},
   "outputs": [
    {
     "data": {
      "text/latex": [
       "$\\displaystyle \\phi{\\left(\\mathbf{{x}_{R}},\\mathbf{{y}_{R}} \\right)}$"
      ],
      "text/plain": [
       "phi(R.x, R.y)"
      ]
     },
     "execution_count": 8,
     "metadata": {},
     "output_type": "execute_result"
    }
   ],
   "source": [
    "phi = Function('phi')(x, y)\n",
    "phi"
   ]
  },
  {
   "cell_type": "code",
   "execution_count": 9,
   "id": "3141116d",
   "metadata": {},
   "outputs": [
    {
     "data": {
      "text/latex": [
       "$\\displaystyle \\left(1 - \\epsilon\\right) \\left(\\sin{\\left(\\phi{\\left(\\mathbf{{x}_{R}},\\mathbf{{y}_{R}} \\right)} \\right)} \\frac{\\partial}{\\partial \\mathbf{{y}_{R}}} \\phi{\\left(\\mathbf{{x}_{R}},\\mathbf{{y}_{R}} \\right)} + \\cos{\\left(\\phi{\\left(\\mathbf{{x}_{R}},\\mathbf{{y}_{R}} \\right)} \\right)} \\frac{\\partial}{\\partial \\mathbf{{x}_{R}}} \\phi{\\left(\\mathbf{{x}_{R}},\\mathbf{{y}_{R}} \\right)}\\right)^{2} + \\left(\\epsilon + 1\\right) \\left(- \\sin{\\left(\\phi{\\left(\\mathbf{{x}_{R}},\\mathbf{{y}_{R}} \\right)} \\right)} \\frac{\\partial}{\\partial \\mathbf{{x}_{R}}} \\phi{\\left(\\mathbf{{x}_{R}},\\mathbf{{y}_{R}} \\right)} + \\cos{\\left(\\phi{\\left(\\mathbf{{x}_{R}},\\mathbf{{y}_{R}} \\right)} \\right)} \\frac{\\partial}{\\partial \\mathbf{{y}_{R}}} \\phi{\\left(\\mathbf{{x}_{R}},\\mathbf{{y}_{R}} \\right)}\\right)^{2}$"
      ],
      "text/plain": [
       "(1 - epsilon)*(sin(phi(R.x, R.y))*Derivative(phi(R.x, R.y), R.y) + cos(phi(R.x, R.y))*Derivative(phi(R.x, R.y), R.x))**2 + (epsilon + 1)*(-sin(phi(R.x, R.y))*Derivative(phi(R.x, R.y), R.x) + cos(phi(R.x, R.y))*Derivative(phi(R.x, R.y), R.y))**2"
      ]
     },
     "execution_count": 9,
     "metadata": {},
     "output_type": "execute_result"
    }
   ],
   "source": [
    "g = simplify( g.subs({nx: cos(phi), ny: sin(phi)}) )\n",
    "g"
   ]
  },
  {
   "cell_type": "markdown",
   "id": "30711e59",
   "metadata": {},
   "source": [
    "### Change to [polar coordinates](https://www.wikiwand.com/en/Polar_coordinate_system#Differential_calculus)"
   ]
  },
  {
   "cell_type": "code",
   "execution_count": 10,
   "id": "1a348014",
   "metadata": {},
   "outputs": [],
   "source": [
    "phi_p = Function('phi')(theta)"
   ]
  },
  {
   "cell_type": "code",
   "execution_count": 11,
   "id": "72bda8d2",
   "metadata": {},
   "outputs": [],
   "source": [
    "dphi_dx = cos(theta) * phi_p.diff(r) - (1/r) * sin(theta) * phi_p.diff(theta)\n",
    "dphi_dy = sin(theta) * phi_p.diff(r) + (1/r) * cos(theta) * phi_p.diff(theta)"
   ]
  },
  {
   "cell_type": "code",
   "execution_count": 12,
   "id": "3a0a14fa",
   "metadata": {},
   "outputs": [
    {
     "data": {
      "text/latex": [
       "$\\displaystyle \\frac{\\left(\\left(1 - \\epsilon\\right) \\sin^{2}{\\left(\\theta - \\phi{\\left(\\theta \\right)} \\right)} + \\left(\\epsilon + 1\\right) \\cos^{2}{\\left(\\theta - \\phi{\\left(\\theta \\right)} \\right)}\\right) \\left(\\frac{d}{d \\theta} \\phi{\\left(\\theta \\right)}\\right)^{2}}{r^{2}}$"
      ],
      "text/plain": [
       "((1 - epsilon)*sin(theta - phi(theta))**2 + (epsilon + 1)*cos(theta - phi(theta))**2)*Derivative(phi(theta), theta)**2/r**2"
      ]
     },
     "metadata": {},
     "output_type": "display_data"
    }
   ],
   "source": [
    "g_polar = g.subs({phi.diff(x) : dphi_dx, phi.diff(y) : dphi_dy, phi : phi_p})\n",
    "g_polar = simplify(g_polar)\n",
    "display(g_polar)"
   ]
  },
  {
   "cell_type": "markdown",
   "id": "f0e018c2",
   "metadata": {},
   "source": [
    "To make look like Carter's (8), we turn sines to cosines, lower power of sines"
   ]
  },
  {
   "cell_type": "code",
   "execution_count": 13,
   "id": "7e1eca83",
   "metadata": {},
   "outputs": [
    {
     "data": {
      "text/latex": [
       "$\\displaystyle \\frac{\\left(\\epsilon \\cos{\\left(2 \\theta - 2 \\phi{\\left(\\theta \\right)} \\right)} + 1\\right) \\left(\\frac{d}{d \\theta} \\phi{\\left(\\theta \\right)}\\right)^{2}}{r^{2}}$"
      ],
      "text/plain": [
       "(epsilon*cos(2*theta - 2*phi(theta)) + 1)*Derivative(phi(theta), theta)**2/r**2"
      ]
     },
     "metadata": {},
     "output_type": "display_data"
    }
   ],
   "source": [
    "g_polar = simplify(TR7(TR5(g_polar)))\n",
    "display(g_polar)"
   ]
  },
  {
   "cell_type": "markdown",
   "id": "d2c7c059",
   "metadata": {},
   "source": [
    "### Plug it into [Euler-Lagrange equation](https://www.wikiwand.com/en/Euler%E2%80%93Lagrange_equation#Single_function_of_several_variables_with_single_derivative)"
   ]
  },
  {
   "cell_type": "markdown",
   "id": "d711f8e7",
   "metadata": {},
   "source": [
    "To get Carter's (9) we plug into Euler-Lagrange in polar"
   ]
  },
  {
   "cell_type": "code",
   "execution_count": 14,
   "id": "338cbee5",
   "metadata": {},
   "outputs": [
    {
     "data": {
      "text/latex": [
       "$\\displaystyle \\epsilon \\left(\\left(\\frac{d}{d \\theta} \\phi{\\left(\\theta \\right)}\\right)^{2} - 2 \\frac{d}{d \\theta} \\phi{\\left(\\theta \\right)}\\right) \\sin{\\left(2 \\theta - 2 \\phi{\\left(\\theta \\right)} \\right)} + \\epsilon \\cos{\\left(2 \\theta - 2 \\phi{\\left(\\theta \\right)} \\right)} \\frac{d^{2}}{d \\theta^{2}} \\phi{\\left(\\theta \\right)} + \\frac{d^{2}}{d \\theta^{2}} \\phi{\\left(\\theta \\right)}$"
      ],
      "text/plain": [
       "epsilon*(Derivative(phi(theta), theta)**2 - 2*Derivative(phi(theta), theta))*sin(2*theta - 2*phi(theta)) + epsilon*cos(2*theta - 2*phi(theta))*Derivative(phi(theta), (theta, 2)) + Derivative(phi(theta), (theta, 2))"
      ]
     },
     "metadata": {},
     "output_type": "display_data"
    }
   ],
   "source": [
    "euler_lagrange = simplify(g_polar.diff(phi_p) - g_polar.diff(phi_p.diff(theta)).diff(theta))\n",
    "euler_lagrange = trigsimp(factor(euler_lagrange, eps))\n",
    "euler_lagrange = simplify(euler_lagrange * -Rational(1, 2) * r**2)\n",
    "euler_lagrange = factor(euler_lagrange, eps, phi_p.diff(theta, 2), sin(2*theta - 2*phi_p))\n",
    "display(euler_lagrange)"
   ]
  },
  {
   "cell_type": "markdown",
   "id": "6ead7383",
   "metadata": {},
   "source": [
    "### Assume ansatz"
   ]
  },
  {
   "cell_type": "code",
   "execution_count": 15,
   "id": "6fdf383d",
   "metadata": {},
   "outputs": [],
   "source": [
    "q, C = symbols('q C')\n",
    "ansatz = q * theta + eps * C * sin(2 * (1 - q) * theta)"
   ]
  },
  {
   "cell_type": "code",
   "execution_count": 16,
   "id": "71bfd944",
   "metadata": {},
   "outputs": [
    {
     "data": {
      "text/latex": [
       "$\\displaystyle 4 C \\epsilon q^{2} \\sin{\\left(2 q \\theta - 2 \\theta \\right)} - 8 C \\epsilon q \\sin{\\left(2 q \\theta - 2 \\theta \\right)} + 4 C \\epsilon \\sin{\\left(2 q \\theta - 2 \\theta \\right)} + \\epsilon q^{2} \\sin{\\left(2 C \\epsilon \\sin{\\left(2 q \\theta - 2 \\theta \\right)} - 2 q \\theta + 2 \\theta \\right)} - 2 \\epsilon q \\sin{\\left(2 C \\epsilon \\sin{\\left(2 q \\theta - 2 \\theta \\right)} - 2 q \\theta + 2 \\theta \\right)}$"
      ],
      "text/plain": [
       "4*C*epsilon*q**2*sin(2*q*theta - 2*theta) - 8*C*epsilon*q*sin(2*q*theta - 2*theta) + 4*C*epsilon*sin(2*q*theta - 2*theta) + epsilon*q**2*sin(2*C*epsilon*sin(2*q*theta - 2*theta) - 2*q*theta + 2*theta) - 2*epsilon*q*sin(2*C*epsilon*sin(2*q*theta - 2*theta) - 2*q*theta + 2*theta)"
      ]
     },
     "metadata": {},
     "output_type": "display_data"
    }
   ],
   "source": [
    "ansatz_euler_lagrange = simplify(euler_lagrange.subs(phi_p, ansatz))\n",
    "ansatz_euler_lagrange = expand(ansatz_euler_lagrange).subs({eps**2: 0, eps**3: 0})\n",
    "display(ansatz_euler_lagrange)"
   ]
  },
  {
   "cell_type": "markdown",
   "id": "7123442a",
   "metadata": {},
   "source": [
    "Need to, by eye, deal with $\\epsilon \\sin$ terms whose arguments contain $\\epsilon \\sin$"
   ]
  },
  {
   "cell_type": "markdown",
   "id": "b8857cc2",
   "metadata": {},
   "source": [
    "Angle addition formula: $\\sin(a + b) = \\sin(a)\\cos(b) + \\sin(b)\\cos(a)$"
   ]
  },
  {
   "cell_type": "code",
   "execution_count": 17,
   "id": "605af1bb",
   "metadata": {},
   "outputs": [
    {
     "data": {
      "text/latex": [
       "$\\displaystyle 4 C \\epsilon q^{2} \\sin{\\left(2 q \\theta - 2 \\theta \\right)} - 8 C \\epsilon q \\sin{\\left(2 q \\theta - 2 \\theta \\right)} + 4 C \\epsilon \\sin{\\left(2 q \\theta - 2 \\theta \\right)} + \\epsilon q^{2} \\left(\\sin{\\left(2 C \\epsilon \\sin{\\left(2 q \\theta - 2 \\theta \\right)} \\right)} \\cos{\\left(2 q \\theta - 2 \\theta \\right)} - \\sin{\\left(2 q \\theta - 2 \\theta \\right)} \\cos{\\left(2 C \\epsilon \\sin{\\left(2 q \\theta - 2 \\theta \\right)} \\right)}\\right) - 2 \\epsilon q \\left(\\sin{\\left(2 C \\epsilon \\sin{\\left(2 q \\theta - 2 \\theta \\right)} \\right)} \\cos{\\left(2 q \\theta - 2 \\theta \\right)} - \\sin{\\left(2 q \\theta - 2 \\theta \\right)} \\cos{\\left(2 C \\epsilon \\sin{\\left(2 q \\theta - 2 \\theta \\right)} \\right)}\\right)$"
      ],
      "text/plain": [
       "4*C*epsilon*q**2*sin(2*q*theta - 2*theta) - 8*C*epsilon*q*sin(2*q*theta - 2*theta) + 4*C*epsilon*sin(2*q*theta - 2*theta) + epsilon*q**2*(sin(2*C*epsilon*sin(2*q*theta - 2*theta))*cos(2*q*theta - 2*theta) - sin(2*q*theta - 2*theta)*cos(2*C*epsilon*sin(2*q*theta - 2*theta))) - 2*epsilon*q*(sin(2*C*epsilon*sin(2*q*theta - 2*theta))*cos(2*q*theta - 2*theta) - sin(2*q*theta - 2*theta)*cos(2*C*epsilon*sin(2*q*theta - 2*theta)))"
      ]
     },
     "metadata": {},
     "output_type": "display_data"
    }
   ],
   "source": [
    "sin_subs = {sin(2*C*eps*sin(2*q*theta - 2*theta)\n",
    "                - 2*q*theta \n",
    "                + 2*theta):\n",
    "                sin(2*C*eps*sin(2*q*theta - 2*theta))\n",
    "                * cos(2*theta - 2*q*theta)\n",
    "                +\n",
    "                sin(2*theta - 2*q*theta)\n",
    "                * cos(2*C*eps*sin(2*q*theta - 2*theta))}\n",
    "\n",
    "ansatz_euler_lagrange = ansatz_euler_lagrange.subs(sin_subs)\n",
    "display(ansatz_euler_lagrange)"
   ]
  },
  {
   "cell_type": "markdown",
   "id": "deab085a",
   "metadata": {},
   "source": [
    "Small angle approximation:"
   ]
  },
  {
   "cell_type": "code",
   "execution_count": 18,
   "id": "cc9ec780",
   "metadata": {},
   "outputs": [
    {
     "data": {
      "text/latex": [
       "$\\displaystyle 4 C \\epsilon q^{2} \\sin{\\left(2 q \\theta - 2 \\theta \\right)} - 8 C \\epsilon q \\sin{\\left(2 q \\theta - 2 \\theta \\right)} + 4 C \\epsilon \\sin{\\left(2 q \\theta - 2 \\theta \\right)} - \\epsilon q^{2} \\sin{\\left(2 q \\theta - 2 \\theta \\right)} + 2 \\epsilon q \\sin{\\left(2 q \\theta - 2 \\theta \\right)}$"
      ],
      "text/plain": [
       "4*C*epsilon*q**2*sin(2*q*theta - 2*theta) - 8*C*epsilon*q*sin(2*q*theta - 2*theta) + 4*C*epsilon*sin(2*q*theta - 2*theta) - epsilon*q**2*sin(2*q*theta - 2*theta) + 2*epsilon*q*sin(2*q*theta - 2*theta)"
      ]
     },
     "metadata": {},
     "output_type": "display_data"
    }
   ],
   "source": [
    "trig_subs = {sin(2*C*eps*sin(2*q*theta - 2*theta)):\n",
    "             2*C*eps*sin(2*q*theta - 2*theta),\n",
    "             cos(2*C*eps*sin(2*q*theta - 2*theta)):\n",
    "             1}\n",
    "                 \n",
    "ansatz_euler_lagrange = expand(ansatz_euler_lagrange.subs(trig_subs))\n",
    "ansatz_euler_lagrange = ansatz_euler_lagrange.subs(eps**2, 0)\n",
    "display(ansatz_euler_lagrange)"
   ]
  },
  {
   "cell_type": "code",
   "execution_count": 19,
   "id": "95e776e4",
   "metadata": {},
   "outputs": [
    {
     "data": {
      "text/latex": [
       "$\\displaystyle \\frac{q \\left(q - 2\\right)}{4 \\left(q^{2} - 2 q + 1\\right)}$"
      ],
      "text/plain": [
       "q*(q - 2)/(4*(q**2 - 2*q + 1))"
      ]
     },
     "metadata": {},
     "output_type": "display_data"
    }
   ],
   "source": [
    "sol = solve(ansatz_euler_lagrange, C)\n",
    "display(sol[0])"
   ]
  },
  {
   "cell_type": "code",
   "execution_count": 20,
   "id": "74487081",
   "metadata": {},
   "outputs": [
    {
     "data": {
      "text/latex": [
       "$\\displaystyle \\frac{\\epsilon q \\left(q - 2\\right) \\sin{\\left(\\theta \\left(2 - 2 q\\right) \\right)}}{4 \\left(q^{2} - 2 q + 1\\right)} + q \\theta$"
      ],
      "text/plain": [
       "epsilon*q*(q - 2)*sin(theta*(2 - 2*q))/(4*(q**2 - 2*q + 1)) + q*theta"
      ]
     },
     "metadata": {},
     "output_type": "display_data"
    }
   ],
   "source": [
    "single_defect_approximation = ansatz.subs(C, sol[0])\n",
    "display(single_defect_approximation)"
   ]
  },
  {
   "cell_type": "markdown",
   "id": "eaea23f6",
   "metadata": {},
   "source": [
    "### Above is the first-order approximation to a single defect under the Dzyaloshinskii solution"
   ]
  },
  {
   "cell_type": "markdown",
   "id": "fb3499fe",
   "metadata": {},
   "source": [
    "$q = 1/2$"
   ]
  },
  {
   "cell_type": "code",
   "execution_count": 21,
   "id": "975e45a6",
   "metadata": {},
   "outputs": [
    {
     "data": {
      "text/latex": [
       "$\\displaystyle - \\frac{3 \\epsilon \\sin{\\left(\\theta \\right)}}{4} + \\frac{\\theta}{2}$"
      ],
      "text/plain": [
       "-3*epsilon*sin(theta)/4 + theta/2"
      ]
     },
     "metadata": {},
     "output_type": "display_data"
    }
   ],
   "source": [
    "display(simplify(single_defect_approximation.subs(q, Rational(1, 2))))"
   ]
  },
  {
   "cell_type": "markdown",
   "id": "503d4050",
   "metadata": {},
   "source": [
    "$q = -1/2$"
   ]
  },
  {
   "cell_type": "code",
   "execution_count": 22,
   "id": "121f2f56",
   "metadata": {},
   "outputs": [
    {
     "data": {
      "text/latex": [
       "$\\displaystyle \\frac{5 \\epsilon \\sin{\\left(3 \\theta \\right)}}{36} - \\frac{\\theta}{2}$"
      ],
      "text/plain": [
       "5*epsilon*sin(3*theta)/36 - theta/2"
      ]
     },
     "metadata": {},
     "output_type": "display_data"
    }
   ],
   "source": [
    "display(simplify(single_defect_approximation.subs(q, -Rational(1, 2))))"
   ]
  },
  {
   "cell_type": "markdown",
   "id": "c4897a97",
   "metadata": {},
   "source": [
    "## Two-defect approximation"
   ]
  },
  {
   "cell_type": "markdown",
   "id": "9dc8efa4",
   "metadata": {},
   "source": [
    "### First, Euler Lagrange in cartesian coordinates"
   ]
  },
  {
   "cell_type": "code",
   "execution_count": 23,
   "id": "326e41bb",
   "metadata": {
    "scrolled": true
   },
   "outputs": [
    {
     "data": {
      "text/latex": [
       "$\\displaystyle \\epsilon \\left(- 2 \\frac{\\partial}{\\partial \\mathbf{{x}_{R}}} \\phi{\\left(\\mathbf{{x}_{R}},\\mathbf{{y}_{R}} \\right)} \\frac{\\partial}{\\partial \\mathbf{{y}_{R}}} \\phi{\\left(\\mathbf{{x}_{R}},\\mathbf{{y}_{R}} \\right)} - \\frac{\\partial^{2}}{\\partial \\mathbf{{x}_{R}}^{2}} \\phi{\\left(\\mathbf{{x}_{R}},\\mathbf{{y}_{R}} \\right)} + \\frac{\\partial^{2}}{\\partial \\mathbf{{y}_{R}}^{2}} \\phi{\\left(\\mathbf{{x}_{R}},\\mathbf{{y}_{R}} \\right)}\\right) \\cos{\\left(2 \\phi{\\left(\\mathbf{{x}_{R}},\\mathbf{{y}_{R}} \\right)} \\right)} + \\epsilon \\left(\\left(\\frac{\\partial}{\\partial \\mathbf{{x}_{R}}} \\phi{\\left(\\mathbf{{x}_{R}},\\mathbf{{y}_{R}} \\right)}\\right)^{2} - \\left(\\frac{\\partial}{\\partial \\mathbf{{y}_{R}}} \\phi{\\left(\\mathbf{{x}_{R}},\\mathbf{{y}_{R}} \\right)}\\right)^{2} - 2 \\frac{\\partial^{2}}{\\partial \\mathbf{{y}_{R}}\\partial \\mathbf{{x}_{R}}} \\phi{\\left(\\mathbf{{x}_{R}},\\mathbf{{y}_{R}} \\right)}\\right) \\sin{\\left(2 \\phi{\\left(\\mathbf{{x}_{R}},\\mathbf{{y}_{R}} \\right)} \\right)} + \\frac{\\partial^{2}}{\\partial \\mathbf{{x}_{R}}^{2}} \\phi{\\left(\\mathbf{{x}_{R}},\\mathbf{{y}_{R}} \\right)} + \\frac{\\partial^{2}}{\\partial \\mathbf{{y}_{R}}^{2}} \\phi{\\left(\\mathbf{{x}_{R}},\\mathbf{{y}_{R}} \\right)}$"
      ],
      "text/plain": [
       "epsilon*(-2*Derivative(phi(R.x, R.y), R.x)*Derivative(phi(R.x, R.y), R.y) - Derivative(phi(R.x, R.y), (R.x, 2)) + Derivative(phi(R.x, R.y), (R.y, 2)))*cos(2*phi(R.x, R.y)) + epsilon*(Derivative(phi(R.x, R.y), R.x)**2 - Derivative(phi(R.x, R.y), R.y)**2 - 2*Derivative(phi(R.x, R.y), R.x, R.y))*sin(2*phi(R.x, R.y)) + Derivative(phi(R.x, R.y), (R.x, 2)) + Derivative(phi(R.x, R.y), (R.y, 2))"
      ]
     },
     "metadata": {},
     "output_type": "display_data"
    }
   ],
   "source": [
    "euler_lagrange = -simplify(g.diff(phi) \n",
    "                           - (g.diff(phi.diff(x)).diff(x) \n",
    "                              + g.diff(phi.diff(y)).diff(y))) / 2\n",
    "\n",
    "euler_lagrange = factor(euler_lagrange, phi.diff(x, 2), phi.diff(y, 2))\n",
    "\n",
    "euler_lagrange = trigsimp(euler_lagrange)\n",
    "euler_lagrange = simplify(euler_lagrange)\n",
    "\n",
    "# sines to cosines, lower degree of cosines\n",
    "euler_lagrange = simplify(TR7(TR5(euler_lagrange)))\n",
    "\n",
    "# factor out trig functions\n",
    "euler_lagrange = factor(euler_lagrange, sin(2*phi), cos(2*phi), eps)\n",
    "\n",
    "display(euler_lagrange)"
   ]
  },
  {
   "cell_type": "markdown",
   "id": "25943797",
   "metadata": {},
   "source": [
    "c.f. above with Carter's (16)"
   ]
  },
  {
   "cell_type": "markdown",
   "id": "ee761b57",
   "metadata": {},
   "source": [
    "### Now we need to substitute the Ansatz"
   ]
  },
  {
   "cell_type": "code",
   "execution_count": 24,
   "id": "b2f6c8c3",
   "metadata": {},
   "outputs": [
    {
     "data": {
      "text/latex": [
       "$\\displaystyle \\epsilon \\phi_{c}{\\left(\\mathbf{{x}_{R}},\\mathbf{{y}_{R}} \\right)} + q_{1} \\theta_{1}{\\left(\\mathbf{{x}_{R}},\\mathbf{{y}_{R}} \\right)} + q_{2} \\theta_{2}{\\left(\\mathbf{{x}_{R}},\\mathbf{{y}_{R}} \\right)}$"
      ],
      "text/plain": [
       "epsilon*phi_c(R.x, R.y) + q_1*theta_1(R.x, R.y) + q_2*theta_2(R.x, R.y)"
      ]
     },
     "metadata": {},
     "output_type": "display_data"
    }
   ],
   "source": [
    "phi_c = Function('phi_c')(x, y)\n",
    "theta_1 = Function('theta_1')(x, y)\n",
    "theta_2 = Function('theta_2')(x, y)\n",
    "r_1 = Function('r_1')(x, y)\n",
    "r_2 = Function('r_2')(x, y)\n",
    "\n",
    "q1, q2 = symbols('q_1 q_2')\n",
    "\n",
    "ansatz = q1 * theta_1 + q2 * theta_2 + eps * phi_c\n",
    "display(ansatz)"
   ]
  },
  {
   "cell_type": "code",
   "execution_count": 25,
   "id": "91571bc8",
   "metadata": {},
   "outputs": [
    {
     "data": {
      "text/latex": [
       "$\\displaystyle - \\epsilon \\left(2 \\epsilon \\frac{\\partial^{2}}{\\partial \\mathbf{{y}_{R}}\\partial \\mathbf{{x}_{R}}} \\phi_{c}{\\left(\\mathbf{{x}_{R}},\\mathbf{{y}_{R}} \\right)} + 2 q_{1} \\frac{\\partial^{2}}{\\partial \\mathbf{{y}_{R}}\\partial \\mathbf{{x}_{R}}} \\theta_{1}{\\left(\\mathbf{{x}_{R}},\\mathbf{{y}_{R}} \\right)} + 2 q_{2} \\frac{\\partial^{2}}{\\partial \\mathbf{{y}_{R}}\\partial \\mathbf{{x}_{R}}} \\theta_{2}{\\left(\\mathbf{{x}_{R}},\\mathbf{{y}_{R}} \\right)} - \\left(\\epsilon \\frac{\\partial}{\\partial \\mathbf{{x}_{R}}} \\phi_{c}{\\left(\\mathbf{{x}_{R}},\\mathbf{{y}_{R}} \\right)} + q_{1} \\frac{\\partial}{\\partial \\mathbf{{x}_{R}}} \\theta_{1}{\\left(\\mathbf{{x}_{R}},\\mathbf{{y}_{R}} \\right)} + q_{2} \\frac{\\partial}{\\partial \\mathbf{{x}_{R}}} \\theta_{2}{\\left(\\mathbf{{x}_{R}},\\mathbf{{y}_{R}} \\right)}\\right)^{2} + \\left(\\epsilon \\frac{\\partial}{\\partial \\mathbf{{y}_{R}}} \\phi_{c}{\\left(\\mathbf{{x}_{R}},\\mathbf{{y}_{R}} \\right)} + q_{1} \\frac{\\partial}{\\partial \\mathbf{{y}_{R}}} \\theta_{1}{\\left(\\mathbf{{x}_{R}},\\mathbf{{y}_{R}} \\right)} + q_{2} \\frac{\\partial}{\\partial \\mathbf{{y}_{R}}} \\theta_{2}{\\left(\\mathbf{{x}_{R}},\\mathbf{{y}_{R}} \\right)}\\right)^{2}\\right) \\sin{\\left(2 \\epsilon \\phi_{c}{\\left(\\mathbf{{x}_{R}},\\mathbf{{y}_{R}} \\right)} + 2 q_{1} \\theta_{1}{\\left(\\mathbf{{x}_{R}},\\mathbf{{y}_{R}} \\right)} + 2 q_{2} \\theta_{2}{\\left(\\mathbf{{x}_{R}},\\mathbf{{y}_{R}} \\right)} \\right)} - \\epsilon \\left(\\epsilon \\frac{\\partial^{2}}{\\partial \\mathbf{{x}_{R}}^{2}} \\phi_{c}{\\left(\\mathbf{{x}_{R}},\\mathbf{{y}_{R}} \\right)} - \\epsilon \\frac{\\partial^{2}}{\\partial \\mathbf{{y}_{R}}^{2}} \\phi_{c}{\\left(\\mathbf{{x}_{R}},\\mathbf{{y}_{R}} \\right)} + q_{1} \\frac{\\partial^{2}}{\\partial \\mathbf{{x}_{R}}^{2}} \\theta_{1}{\\left(\\mathbf{{x}_{R}},\\mathbf{{y}_{R}} \\right)} - q_{1} \\frac{\\partial^{2}}{\\partial \\mathbf{{y}_{R}}^{2}} \\theta_{1}{\\left(\\mathbf{{x}_{R}},\\mathbf{{y}_{R}} \\right)} + q_{2} \\frac{\\partial^{2}}{\\partial \\mathbf{{x}_{R}}^{2}} \\theta_{2}{\\left(\\mathbf{{x}_{R}},\\mathbf{{y}_{R}} \\right)} - q_{2} \\frac{\\partial^{2}}{\\partial \\mathbf{{y}_{R}}^{2}} \\theta_{2}{\\left(\\mathbf{{x}_{R}},\\mathbf{{y}_{R}} \\right)} + 2 \\left(\\epsilon \\frac{\\partial}{\\partial \\mathbf{{x}_{R}}} \\phi_{c}{\\left(\\mathbf{{x}_{R}},\\mathbf{{y}_{R}} \\right)} + q_{1} \\frac{\\partial}{\\partial \\mathbf{{x}_{R}}} \\theta_{1}{\\left(\\mathbf{{x}_{R}},\\mathbf{{y}_{R}} \\right)} + q_{2} \\frac{\\partial}{\\partial \\mathbf{{x}_{R}}} \\theta_{2}{\\left(\\mathbf{{x}_{R}},\\mathbf{{y}_{R}} \\right)}\\right) \\left(\\epsilon \\frac{\\partial}{\\partial \\mathbf{{y}_{R}}} \\phi_{c}{\\left(\\mathbf{{x}_{R}},\\mathbf{{y}_{R}} \\right)} + q_{1} \\frac{\\partial}{\\partial \\mathbf{{y}_{R}}} \\theta_{1}{\\left(\\mathbf{{x}_{R}},\\mathbf{{y}_{R}} \\right)} + q_{2} \\frac{\\partial}{\\partial \\mathbf{{y}_{R}}} \\theta_{2}{\\left(\\mathbf{{x}_{R}},\\mathbf{{y}_{R}} \\right)}\\right)\\right) \\cos{\\left(2 \\epsilon \\phi_{c}{\\left(\\mathbf{{x}_{R}},\\mathbf{{y}_{R}} \\right)} + 2 q_{1} \\theta_{1}{\\left(\\mathbf{{x}_{R}},\\mathbf{{y}_{R}} \\right)} + 2 q_{2} \\theta_{2}{\\left(\\mathbf{{x}_{R}},\\mathbf{{y}_{R}} \\right)} \\right)} + \\epsilon \\frac{\\partial^{2}}{\\partial \\mathbf{{x}_{R}}^{2}} \\phi_{c}{\\left(\\mathbf{{x}_{R}},\\mathbf{{y}_{R}} \\right)} + \\epsilon \\frac{\\partial^{2}}{\\partial \\mathbf{{y}_{R}}^{2}} \\phi_{c}{\\left(\\mathbf{{x}_{R}},\\mathbf{{y}_{R}} \\right)} + q_{1} \\frac{\\partial^{2}}{\\partial \\mathbf{{x}_{R}}^{2}} \\theta_{1}{\\left(\\mathbf{{x}_{R}},\\mathbf{{y}_{R}} \\right)} + q_{1} \\frac{\\partial^{2}}{\\partial \\mathbf{{y}_{R}}^{2}} \\theta_{1}{\\left(\\mathbf{{x}_{R}},\\mathbf{{y}_{R}} \\right)} + q_{2} \\frac{\\partial^{2}}{\\partial \\mathbf{{x}_{R}}^{2}} \\theta_{2}{\\left(\\mathbf{{x}_{R}},\\mathbf{{y}_{R}} \\right)} + q_{2} \\frac{\\partial^{2}}{\\partial \\mathbf{{y}_{R}}^{2}} \\theta_{2}{\\left(\\mathbf{{x}_{R}},\\mathbf{{y}_{R}} \\right)}$"
      ],
      "text/plain": [
       "-epsilon*(2*epsilon*Derivative(phi_c(R.x, R.y), R.x, R.y) + 2*q_1*Derivative(theta_1(R.x, R.y), R.x, R.y) + 2*q_2*Derivative(theta_2(R.x, R.y), R.x, R.y) - (epsilon*Derivative(phi_c(R.x, R.y), R.x) + q_1*Derivative(theta_1(R.x, R.y), R.x) + q_2*Derivative(theta_2(R.x, R.y), R.x))**2 + (epsilon*Derivative(phi_c(R.x, R.y), R.y) + q_1*Derivative(theta_1(R.x, R.y), R.y) + q_2*Derivative(theta_2(R.x, R.y), R.y))**2)*sin(2*epsilon*phi_c(R.x, R.y) + 2*q_1*theta_1(R.x, R.y) + 2*q_2*theta_2(R.x, R.y)) - epsilon*(epsilon*Derivative(phi_c(R.x, R.y), (R.x, 2)) - epsilon*Derivative(phi_c(R.x, R.y), (R.y, 2)) + q_1*Derivative(theta_1(R.x, R.y), (R.x, 2)) - q_1*Derivative(theta_1(R.x, R.y), (R.y, 2)) + q_2*Derivative(theta_2(R.x, R.y), (R.x, 2)) - q_2*Derivative(theta_2(R.x, R.y), (R.y, 2)) + 2*(epsilon*Derivative(phi_c(R.x, R.y), R.x) + q_1*Derivative(theta_1(R.x, R.y), R.x) + q_2*Derivative(theta_2(R.x, R.y), R.x))*(epsilon*Derivative(phi_c(R.x, R.y), R.y) + q_1*Derivative(theta_1(R.x, R.y), R.y) + q_2*Derivative(theta_2(R.x, R.y), R.y)))*cos(2*epsilon*phi_c(R.x, R.y) + 2*q_1*theta_1(R.x, R.y) + 2*q_2*theta_2(R.x, R.y)) + epsilon*Derivative(phi_c(R.x, R.y), (R.x, 2)) + epsilon*Derivative(phi_c(R.x, R.y), (R.y, 2)) + q_1*Derivative(theta_1(R.x, R.y), (R.x, 2)) + q_1*Derivative(theta_1(R.x, R.y), (R.y, 2)) + q_2*Derivative(theta_2(R.x, R.y), (R.x, 2)) + q_2*Derivative(theta_2(R.x, R.y), (R.y, 2))"
      ]
     },
     "metadata": {},
     "output_type": "display_data"
    }
   ],
   "source": [
    "euler_lagrange_p = euler_lagrange.subs(phi, ansatz)\n",
    "euler_lagrange_p = simplify(euler_lagrange_p.doit())\n",
    "display(euler_lagrange_p)"
   ]
  },
  {
   "cell_type": "markdown",
   "id": "80a2bec1",
   "metadata": {},
   "source": [
    "Use [Polar Coordinates](https://www.wikiwand.com/en/Polar_coordinate_system#/Differential_calculus) again"
   ]
  },
  {
   "cell_type": "code",
   "execution_count": 26,
   "id": "6e131ed8",
   "metadata": {},
   "outputs": [
    {
     "data": {
      "text/latex": [
       "$\\displaystyle \\frac{\\epsilon \\left(\\left(\\frac{\\partial^{2}}{\\partial \\mathbf{{x}_{R}}^{2}} \\phi_{c}{\\left(\\mathbf{{x}_{R}},\\mathbf{{y}_{R}} \\right)} + \\frac{\\partial^{2}}{\\partial \\mathbf{{y}_{R}}^{2}} \\phi_{c}{\\left(\\mathbf{{x}_{R}},\\mathbf{{y}_{R}} \\right)}\\right) \\operatorname{r_{1}}^{2}{\\left(\\mathbf{{x}_{R}},\\mathbf{{y}_{R}} \\right)} \\operatorname{r_{2}}^{2}{\\left(\\mathbf{{x}_{R}},\\mathbf{{y}_{R}} \\right)} - \\left(\\epsilon \\left(\\frac{\\partial^{2}}{\\partial \\mathbf{{x}_{R}}^{2}} \\phi_{c}{\\left(\\mathbf{{x}_{R}},\\mathbf{{y}_{R}} \\right)} - \\frac{\\partial^{2}}{\\partial \\mathbf{{y}_{R}}^{2}} \\phi_{c}{\\left(\\mathbf{{x}_{R}},\\mathbf{{y}_{R}} \\right)}\\right) \\operatorname{r_{1}}^{2}{\\left(\\mathbf{{x}_{R}},\\mathbf{{y}_{R}} \\right)} \\operatorname{r_{2}}^{2}{\\left(\\mathbf{{x}_{R}},\\mathbf{{y}_{R}} \\right)} + 2 q_{1} \\operatorname{r_{2}}^{2}{\\left(\\mathbf{{x}_{R}},\\mathbf{{y}_{R}} \\right)} \\sin{\\left(2 \\theta_{1}{\\left(\\mathbf{{x}_{R}},\\mathbf{{y}_{R}} \\right)} \\right)} + 2 q_{2} \\operatorname{r_{1}}^{2}{\\left(\\mathbf{{x}_{R}},\\mathbf{{y}_{R}} \\right)} \\sin{\\left(2 \\theta_{2}{\\left(\\mathbf{{x}_{R}},\\mathbf{{y}_{R}} \\right)} \\right)} - 2 \\left(- \\epsilon \\operatorname{r_{1}}{\\left(\\mathbf{{x}_{R}},\\mathbf{{y}_{R}} \\right)} \\operatorname{r_{2}}{\\left(\\mathbf{{x}_{R}},\\mathbf{{y}_{R}} \\right)} \\frac{\\partial}{\\partial \\mathbf{{x}_{R}}} \\phi_{c}{\\left(\\mathbf{{x}_{R}},\\mathbf{{y}_{R}} \\right)} + q_{1} \\operatorname{r_{2}}{\\left(\\mathbf{{x}_{R}},\\mathbf{{y}_{R}} \\right)} \\sin{\\left(\\theta_{1}{\\left(\\mathbf{{x}_{R}},\\mathbf{{y}_{R}} \\right)} \\right)} + q_{2} \\operatorname{r_{1}}{\\left(\\mathbf{{x}_{R}},\\mathbf{{y}_{R}} \\right)} \\sin{\\left(\\theta_{2}{\\left(\\mathbf{{x}_{R}},\\mathbf{{y}_{R}} \\right)} \\right)}\\right) \\left(\\epsilon \\operatorname{r_{1}}{\\left(\\mathbf{{x}_{R}},\\mathbf{{y}_{R}} \\right)} \\operatorname{r_{2}}{\\left(\\mathbf{{x}_{R}},\\mathbf{{y}_{R}} \\right)} \\frac{\\partial}{\\partial \\mathbf{{y}_{R}}} \\phi_{c}{\\left(\\mathbf{{x}_{R}},\\mathbf{{y}_{R}} \\right)} + q_{1} \\operatorname{r_{2}}{\\left(\\mathbf{{x}_{R}},\\mathbf{{y}_{R}} \\right)} \\cos{\\left(\\theta_{1}{\\left(\\mathbf{{x}_{R}},\\mathbf{{y}_{R}} \\right)} \\right)} + q_{2} \\operatorname{r_{1}}{\\left(\\mathbf{{x}_{R}},\\mathbf{{y}_{R}} \\right)} \\cos{\\left(\\theta_{2}{\\left(\\mathbf{{x}_{R}},\\mathbf{{y}_{R}} \\right)} \\right)}\\right)\\right) \\cos{\\left(2 \\epsilon \\phi_{c}{\\left(\\mathbf{{x}_{R}},\\mathbf{{y}_{R}} \\right)} + 2 q_{1} \\theta_{1}{\\left(\\mathbf{{x}_{R}},\\mathbf{{y}_{R}} \\right)} + 2 q_{2} \\theta_{2}{\\left(\\mathbf{{x}_{R}},\\mathbf{{y}_{R}} \\right)} \\right)} - \\left(2 \\epsilon \\operatorname{r_{1}}^{2}{\\left(\\mathbf{{x}_{R}},\\mathbf{{y}_{R}} \\right)} \\operatorname{r_{2}}^{2}{\\left(\\mathbf{{x}_{R}},\\mathbf{{y}_{R}} \\right)} \\frac{\\partial^{2}}{\\partial \\mathbf{{y}_{R}}\\partial \\mathbf{{x}_{R}}} \\phi_{c}{\\left(\\mathbf{{x}_{R}},\\mathbf{{y}_{R}} \\right)} - 2 q_{1} \\operatorname{r_{2}}^{2}{\\left(\\mathbf{{x}_{R}},\\mathbf{{y}_{R}} \\right)} \\cos{\\left(2 \\theta_{1}{\\left(\\mathbf{{x}_{R}},\\mathbf{{y}_{R}} \\right)} \\right)} - 2 q_{2} \\operatorname{r_{1}}^{2}{\\left(\\mathbf{{x}_{R}},\\mathbf{{y}_{R}} \\right)} \\cos{\\left(2 \\theta_{2}{\\left(\\mathbf{{x}_{R}},\\mathbf{{y}_{R}} \\right)} \\right)} - \\left(- \\epsilon \\operatorname{r_{1}}{\\left(\\mathbf{{x}_{R}},\\mathbf{{y}_{R}} \\right)} \\operatorname{r_{2}}{\\left(\\mathbf{{x}_{R}},\\mathbf{{y}_{R}} \\right)} \\frac{\\partial}{\\partial \\mathbf{{x}_{R}}} \\phi_{c}{\\left(\\mathbf{{x}_{R}},\\mathbf{{y}_{R}} \\right)} + q_{1} \\operatorname{r_{2}}{\\left(\\mathbf{{x}_{R}},\\mathbf{{y}_{R}} \\right)} \\sin{\\left(\\theta_{1}{\\left(\\mathbf{{x}_{R}},\\mathbf{{y}_{R}} \\right)} \\right)} + q_{2} \\operatorname{r_{1}}{\\left(\\mathbf{{x}_{R}},\\mathbf{{y}_{R}} \\right)} \\sin{\\left(\\theta_{2}{\\left(\\mathbf{{x}_{R}},\\mathbf{{y}_{R}} \\right)} \\right)}\\right)^{2} + \\left(\\epsilon \\operatorname{r_{1}}{\\left(\\mathbf{{x}_{R}},\\mathbf{{y}_{R}} \\right)} \\operatorname{r_{2}}{\\left(\\mathbf{{x}_{R}},\\mathbf{{y}_{R}} \\right)} \\frac{\\partial}{\\partial \\mathbf{{y}_{R}}} \\phi_{c}{\\left(\\mathbf{{x}_{R}},\\mathbf{{y}_{R}} \\right)} + q_{1} \\operatorname{r_{2}}{\\left(\\mathbf{{x}_{R}},\\mathbf{{y}_{R}} \\right)} \\cos{\\left(\\theta_{1}{\\left(\\mathbf{{x}_{R}},\\mathbf{{y}_{R}} \\right)} \\right)} + q_{2} \\operatorname{r_{1}}{\\left(\\mathbf{{x}_{R}},\\mathbf{{y}_{R}} \\right)} \\cos{\\left(\\theta_{2}{\\left(\\mathbf{{x}_{R}},\\mathbf{{y}_{R}} \\right)} \\right)}\\right)^{2}\\right) \\sin{\\left(2 \\epsilon \\phi_{c}{\\left(\\mathbf{{x}_{R}},\\mathbf{{y}_{R}} \\right)} + 2 q_{1} \\theta_{1}{\\left(\\mathbf{{x}_{R}},\\mathbf{{y}_{R}} \\right)} + 2 q_{2} \\theta_{2}{\\left(\\mathbf{{x}_{R}},\\mathbf{{y}_{R}} \\right)} \\right)}\\right)}{\\operatorname{r_{1}}^{2}{\\left(\\mathbf{{x}_{R}},\\mathbf{{y}_{R}} \\right)} \\operatorname{r_{2}}^{2}{\\left(\\mathbf{{x}_{R}},\\mathbf{{y}_{R}} \\right)}}$"
      ],
      "text/plain": [
       "epsilon*((Derivative(phi_c(R.x, R.y), (R.x, 2)) + Derivative(phi_c(R.x, R.y), (R.y, 2)))*r_1(R.x, R.y)**2*r_2(R.x, R.y)**2 - (epsilon*(Derivative(phi_c(R.x, R.y), (R.x, 2)) - Derivative(phi_c(R.x, R.y), (R.y, 2)))*r_1(R.x, R.y)**2*r_2(R.x, R.y)**2 + 2*q_1*r_2(R.x, R.y)**2*sin(2*theta_1(R.x, R.y)) + 2*q_2*r_1(R.x, R.y)**2*sin(2*theta_2(R.x, R.y)) - 2*(-epsilon*r_1(R.x, R.y)*r_2(R.x, R.y)*Derivative(phi_c(R.x, R.y), R.x) + q_1*r_2(R.x, R.y)*sin(theta_1(R.x, R.y)) + q_2*r_1(R.x, R.y)*sin(theta_2(R.x, R.y)))*(epsilon*r_1(R.x, R.y)*r_2(R.x, R.y)*Derivative(phi_c(R.x, R.y), R.y) + q_1*r_2(R.x, R.y)*cos(theta_1(R.x, R.y)) + q_2*r_1(R.x, R.y)*cos(theta_2(R.x, R.y))))*cos(2*epsilon*phi_c(R.x, R.y) + 2*q_1*theta_1(R.x, R.y) + 2*q_2*theta_2(R.x, R.y)) - (2*epsilon*r_1(R.x, R.y)**2*r_2(R.x, R.y)**2*Derivative(phi_c(R.x, R.y), R.x, R.y) - 2*q_1*r_2(R.x, R.y)**2*cos(2*theta_1(R.x, R.y)) - 2*q_2*r_1(R.x, R.y)**2*cos(2*theta_2(R.x, R.y)) - (-epsilon*r_1(R.x, R.y)*r_2(R.x, R.y)*Derivative(phi_c(R.x, R.y), R.x) + q_1*r_2(R.x, R.y)*sin(theta_1(R.x, R.y)) + q_2*r_1(R.x, R.y)*sin(theta_2(R.x, R.y)))**2 + (epsilon*r_1(R.x, R.y)*r_2(R.x, R.y)*Derivative(phi_c(R.x, R.y), R.y) + q_1*r_2(R.x, R.y)*cos(theta_1(R.x, R.y)) + q_2*r_1(R.x, R.y)*cos(theta_2(R.x, R.y)))**2)*sin(2*epsilon*phi_c(R.x, R.y) + 2*q_1*theta_1(R.x, R.y) + 2*q_2*theta_2(R.x, R.y)))/(r_1(R.x, R.y)**2*r_2(R.x, R.y)**2)"
      ]
     },
     "metadata": {},
     "output_type": "display_data"
    }
   ],
   "source": [
    "euler_lagrange_p = euler_lagrange_p.subs({theta_1.diff(x): -1/r_1 * sin(theta_1),\n",
    "                                          theta_2.diff(x): -1/r_2 * sin(theta_2),\n",
    "                                          theta_1.diff(y): 1/r_1 * cos(theta_1),\n",
    "                                          theta_2.diff(y): 1/r_2 * cos(theta_2)})\n",
    "\n",
    "euler_lagrange_p = euler_lagrange_p.doit()\n",
    "\n",
    "euler_lagrange_p = euler_lagrange_p.subs({theta_1.diff(x): -1/r_1 * sin(theta_1),\n",
    "                                          theta_2.diff(x): -1/r_2 * sin(theta_2),\n",
    "                                          theta_1.diff(y): 1/r_1 * cos(theta_1),\n",
    "                                          theta_2.diff(y): 1/r_2 * cos(theta_2)})\n",
    "\n",
    "euler_lagrange_p = euler_lagrange_p.subs({r_1.diff(x): cos(theta_1),\n",
    "                                          r_2.diff(x): cos(theta_2),\n",
    "                                          r_1.diff(y): sin(theta_1),\n",
    "                                          r_2.diff(y): sin(theta_2)})\n",
    "\n",
    "euler_lagrange_p = simplify(euler_lagrange_p)\n",
    "\n",
    "display(euler_lagrange_p)"
   ]
  },
  {
   "cell_type": "code",
   "execution_count": 27,
   "id": "befac3ba",
   "metadata": {},
   "outputs": [
    {
     "data": {
      "text/latex": [
       "$\\displaystyle \\frac{\\epsilon \\left(- 2 q_{1} q_{2} \\operatorname{r_{1}}{\\left(\\mathbf{{x}_{R}},\\mathbf{{y}_{R}} \\right)} \\operatorname{r_{2}}{\\left(\\mathbf{{x}_{R}},\\mathbf{{y}_{R}} \\right)} \\sin{\\left(2 \\epsilon \\phi_{c}{\\left(\\mathbf{{x}_{R}},\\mathbf{{y}_{R}} \\right)} + 2 q_{1} \\theta_{1}{\\left(\\mathbf{{x}_{R}},\\mathbf{{y}_{R}} \\right)} + 2 q_{2} \\theta_{2}{\\left(\\mathbf{{x}_{R}},\\mathbf{{y}_{R}} \\right)} - \\theta_{1}{\\left(\\mathbf{{x}_{R}},\\mathbf{{y}_{R}} \\right)} - \\theta_{2}{\\left(\\mathbf{{x}_{R}},\\mathbf{{y}_{R}} \\right)} \\right)} + q_{1} \\cdot \\left(2 - q_{1}\\right) \\operatorname{r_{2}}^{2}{\\left(\\mathbf{{x}_{R}},\\mathbf{{y}_{R}} \\right)} \\sin{\\left(2 \\epsilon \\phi_{c}{\\left(\\mathbf{{x}_{R}},\\mathbf{{y}_{R}} \\right)} + 2 q_{1} \\theta_{1}{\\left(\\mathbf{{x}_{R}},\\mathbf{{y}_{R}} \\right)} + 2 q_{2} \\theta_{2}{\\left(\\mathbf{{x}_{R}},\\mathbf{{y}_{R}} \\right)} - 2 \\theta_{1}{\\left(\\mathbf{{x}_{R}},\\mathbf{{y}_{R}} \\right)} \\right)} + q_{2} \\cdot \\left(2 - q_{2}\\right) \\operatorname{r_{1}}^{2}{\\left(\\mathbf{{x}_{R}},\\mathbf{{y}_{R}} \\right)} \\sin{\\left(2 \\epsilon \\phi_{c}{\\left(\\mathbf{{x}_{R}},\\mathbf{{y}_{R}} \\right)} + 2 q_{1} \\theta_{1}{\\left(\\mathbf{{x}_{R}},\\mathbf{{y}_{R}} \\right)} + 2 q_{2} \\theta_{2}{\\left(\\mathbf{{x}_{R}},\\mathbf{{y}_{R}} \\right)} - 2 \\theta_{2}{\\left(\\mathbf{{x}_{R}},\\mathbf{{y}_{R}} \\right)} \\right)} + \\left(\\frac{\\partial^{2}}{\\partial \\mathbf{{x}_{R}}^{2}} \\phi_{c}{\\left(\\mathbf{{x}_{R}},\\mathbf{{y}_{R}} \\right)} + \\frac{\\partial^{2}}{\\partial \\mathbf{{y}_{R}}^{2}} \\phi_{c}{\\left(\\mathbf{{x}_{R}},\\mathbf{{y}_{R}} \\right)}\\right) \\operatorname{r_{1}}^{2}{\\left(\\mathbf{{x}_{R}},\\mathbf{{y}_{R}} \\right)} \\operatorname{r_{2}}^{2}{\\left(\\mathbf{{x}_{R}},\\mathbf{{y}_{R}} \\right)}\\right)}{\\operatorname{r_{1}}^{2}{\\left(\\mathbf{{x}_{R}},\\mathbf{{y}_{R}} \\right)} \\operatorname{r_{2}}^{2}{\\left(\\mathbf{{x}_{R}},\\mathbf{{y}_{R}} \\right)}}$"
      ],
      "text/plain": [
       "epsilon*(-2*q_1*q_2*r_1(R.x, R.y)*r_2(R.x, R.y)*sin(2*epsilon*phi_c(R.x, R.y) + 2*q_1*theta_1(R.x, R.y) + 2*q_2*theta_2(R.x, R.y) - theta_1(R.x, R.y) - theta_2(R.x, R.y)) + q_1*(2 - q_1)*r_2(R.x, R.y)**2*sin(2*epsilon*phi_c(R.x, R.y) + 2*q_1*theta_1(R.x, R.y) + 2*q_2*theta_2(R.x, R.y) - 2*theta_1(R.x, R.y)) + q_2*(2 - q_2)*r_1(R.x, R.y)**2*sin(2*epsilon*phi_c(R.x, R.y) + 2*q_1*theta_1(R.x, R.y) + 2*q_2*theta_2(R.x, R.y) - 2*theta_2(R.x, R.y)) + (Derivative(phi_c(R.x, R.y), (R.x, 2)) + Derivative(phi_c(R.x, R.y), (R.y, 2)))*r_1(R.x, R.y)**2*r_2(R.x, R.y)**2)/(r_1(R.x, R.y)**2*r_2(R.x, R.y)**2)"
      ]
     },
     "metadata": {},
     "output_type": "display_data"
    }
   ],
   "source": [
    "euler_lagrange_p = expand(euler_lagrange_p)\n",
    "euler_lagrange_p = euler_lagrange_p.subs({eps**2 : 0, eps**3 : 0})\n",
    "euler_lagrange_p = simplify(euler_lagrange_p)\n",
    "\n",
    "euler_lagrange_p = simplify(expand(euler_lagrange_p))\n",
    "display(euler_lagrange_p)"
   ]
  },
  {
   "cell_type": "markdown",
   "id": "e5fc67b6",
   "metadata": {},
   "source": [
    "Hard to manipulate arguments of trig functions in sympy, but c.f. Carter's (18)"
   ]
  },
  {
   "cell_type": "markdown",
   "id": "597b638d",
   "metadata": {},
   "source": [
    "## Great, now that we've got the governing equation let's solve"
   ]
  },
  {
   "cell_type": "code",
   "execution_count": 28,
   "id": "4dd805fe",
   "metadata": {},
   "outputs": [],
   "source": [
    "q1, q2, eps = symbols('q_1 q_2 epsilon')\n",
    "theta1, theta2, theta = symbols('theta_1 theta_2 theta')\n",
    "r1, r2, r, d = symbols('r_1 r_2 r d', positive=True)"
   ]
  },
  {
   "cell_type": "code",
   "execution_count": 29,
   "id": "8e8afe86",
   "metadata": {},
   "outputs": [
    {
     "data": {
      "text/latex": [
       "$\\displaystyle - \\frac{2 \\epsilon q_{1} q_{2} \\sin{\\left(\\theta_{1} \\cdot \\left(1 - 2 q_{1}\\right) + \\theta_{2} \\cdot \\left(1 - 2 q_{2}\\right) \\right)}}{r_{1} r_{2}} - \\frac{\\epsilon q_{1} \\cdot \\left(2 - q_{1}\\right) \\sin{\\left(2 q_{2} \\theta_{2} - \\theta_{1} \\cdot \\left(2 - 2 q_{1}\\right) \\right)}}{r_{1}^{2}} - \\frac{\\epsilon q_{2} \\cdot \\left(2 - q_{2}\\right) \\sin{\\left(2 q_{1} \\theta_{1} - \\theta_{2} \\cdot \\left(2 - 2 q_{2}\\right) \\right)}}{r_{2}^{2}}$"
      ],
      "text/plain": [
       "-2*epsilon*q_1*q_2*sin(theta_1*(1 - 2*q_1) + theta_2*(1 - 2*q_2))/(r_1*r_2) - epsilon*q_1*(2 - q_1)*sin(2*q_2*theta_2 - theta_1*(2 - 2*q_1))/r_1**2 - epsilon*q_2*(2 - q_2)*sin(2*q_1*theta_1 - theta_2*(2 - 2*q_2))/r_2**2"
      ]
     },
     "metadata": {},
     "output_type": "display_data"
    }
   ],
   "source": [
    "eq_rhs = ( (q1*(2 - q1)*eps / r1**2) * sin(2*(1 - q1)*theta1 - 2*q2*theta2)\n",
    "           + (q2*(2 - q2)*eps / r2**2) * sin(2*(1 - q2)*theta2 - 2*q1*theta1)\n",
    "           - (2*eps*q1*q2 / (r1*r2)) * sin((1 - 2*q1)*theta1 + (1 - 2*q2)*theta2) )\n",
    "display(eq_rhs)"
   ]
  },
  {
   "cell_type": "code",
   "execution_count": 30,
   "id": "dae10cdc",
   "metadata": {},
   "outputs": [
    {
     "data": {
      "text/latex": [
       "$\\displaystyle - \\frac{2 \\epsilon q_{1} q_{2} \\left(\\sin{\\left(\\theta_{1} \\cdot \\left(1 - 2 q_{1}\\right) \\right)} \\cos{\\left(\\theta_{2} \\cdot \\left(1 - 2 q_{2}\\right) \\right)} + \\sin{\\left(\\theta_{2} \\cdot \\left(1 - 2 q_{2}\\right) \\right)} \\cos{\\left(\\theta_{1} \\cdot \\left(1 - 2 q_{1}\\right) \\right)}\\right)}{r_{1} r_{2}} - \\frac{\\epsilon q_{1} \\cdot \\left(2 - q_{1}\\right) \\left(\\sin{\\left(2 q_{2} \\theta_{2} \\right)} \\cos{\\left(\\theta_{1} \\cdot \\left(2 - 2 q_{1}\\right) \\right)} - \\sin{\\left(\\theta_{1} \\cdot \\left(2 - 2 q_{1}\\right) \\right)} \\cos{\\left(2 q_{2} \\theta_{2} \\right)}\\right)}{r_{1}^{2}} - \\frac{\\epsilon q_{2} \\cdot \\left(2 - q_{2}\\right) \\left(\\sin{\\left(2 q_{1} \\theta_{1} \\right)} \\cos{\\left(\\theta_{2} \\cdot \\left(2 - 2 q_{2}\\right) \\right)} - \\sin{\\left(\\theta_{2} \\cdot \\left(2 - 2 q_{2}\\right) \\right)} \\cos{\\left(2 q_{1} \\theta_{1} \\right)}\\right)}{r_{2}^{2}}$"
      ],
      "text/plain": [
       "-2*epsilon*q_1*q_2*(sin(theta_1*(1 - 2*q_1))*cos(theta_2*(1 - 2*q_2)) + sin(theta_2*(1 - 2*q_2))*cos(theta_1*(1 - 2*q_1)))/(r_1*r_2) - epsilon*q_1*(2 - q_1)*(sin(2*q_2*theta_2)*cos(theta_1*(2 - 2*q_1)) - sin(theta_1*(2 - 2*q_1))*cos(2*q_2*theta_2))/r_1**2 - epsilon*q_2*(2 - q_2)*(sin(2*q_1*theta_1)*cos(theta_2*(2 - 2*q_2)) - sin(theta_2*(2 - 2*q_2))*cos(2*q_1*theta_1))/r_2**2"
      ]
     },
     "metadata": {},
     "output_type": "display_data"
    }
   ],
   "source": [
    "# angle addition formula so we can use approximations in different cases\n",
    "eq_rhs = TR10(eq_rhs)\n",
    "display(eq_rhs)"
   ]
  },
  {
   "cell_type": "markdown",
   "id": "d5f94903",
   "metadata": {},
   "source": [
    "# Far from both defects approximations"
   ]
  },
  {
   "cell_type": "code",
   "execution_count": 31,
   "id": "d6b8c853",
   "metadata": {},
   "outputs": [],
   "source": [
    "import matplotlib.pyplot as plt\n",
    "import matplotlib as mpl\n",
    "import numpy as np"
   ]
  },
  {
   "cell_type": "code",
   "execution_count": 32,
   "id": "54f8ecfa",
   "metadata": {},
   "outputs": [],
   "source": [
    "plt.style.use('science')\n",
    "mpl.rcParams['figure.dpi'] = 200"
   ]
  },
  {
   "cell_type": "code",
   "execution_count": 33,
   "id": "b7bb19e3",
   "metadata": {},
   "outputs": [
    {
     "data": {
      "image/png": "[encoded data removed]",
      "text/plain": [
       "<Figure size 700x525 with 1 Axes>"
      ]
     },
     "metadata": {},
     "output_type": "display_data"
    }
   ],
   "source": [
    "rp = np.array([3, 5])\n",
    "dp = np.array([2, 0])\n",
    "r1p = rp + dp/2\n",
    "r2p = rp - dp/2\n",
    "\n",
    "deltap = np.array([0.2, 0.2])\n",
    "\n",
    "plt.arrow(-dp[0]/2, -dp[1]/2, r1p[0], r1p[1], head_width=0.1)\n",
    "plt.text(r1p[0]/2 - dp[0]/2 - deltap[0], r1p[1]/2 - dp[1]/2 + deltap[1], r'$r_1$')\n",
    "\n",
    "plt.arrow(0, 0, rp[0], rp[1], head_width=0.1)\n",
    "plt.text(rp[0]/4 - deltap[0], rp[1]/4 + deltap[1], r'$r$')\n",
    "\n",
    "plt.arrow(dp[0]/2, dp[1]/2, r2p[0], r2p[1], head_width=0.1)\n",
    "plt.text(r2p[0]/2 + dp[0]/2 + deltap[0], r2p[1] / 2 + dp[1]/2 - deltap[0], r'$r_2$')\n",
    "\n",
    "plt.arrow(-dp[0]/2, -dp[1], dp[0], dp[1], head_width=0.1)\n",
    "plt.text(0, - 2*deltap[1], r'$d$')\n",
    "\n",
    "\n",
    "plt.xlim([-2, 5])\n",
    "plt.ylim([-1, 6])\n",
    "plt.show()"
   ]
  },
  {
   "cell_type": "markdown",
   "id": "08460ed3",
   "metadata": {},
   "source": [
    "$\\mathbf{r}_2 + \\frac{\\mathbf{d}}{2} = \\mathbf{r} \\implies \\mathbf{r}_2 = \\mathbf{r} - \\frac{\\mathbf{d}}{2}$\n",
    "\n",
    "$\\mathbf{r}_1 - \\frac{\\mathbf{d}}{2} = \\mathbf{r} \\implies \\mathbf{r}_1 = \\mathbf{r} + \\frac{\\mathbf{d}}{2}$"
   ]
  },
  {
   "cell_type": "markdown",
   "id": "a3edd52d",
   "metadata": {},
   "source": [
    "$(\\mathbf{r} \\pm \\frac{\\mathbf{d}}{2})^2 = r^2 + \\frac{d^2}{4} \\pm rd \\cos\\theta$\n",
    "\n",
    "$r_2 = \\sqrt{r^2 + \\frac{d^2}{4} - rd\\cos\\theta}$\n",
    "\n",
    "$r_1 = \\sqrt{r^2 + \\frac{d^2}{4} + rd\\cos\\theta}$"
   ]
  },
  {
   "cell_type": "markdown",
   "id": "c29c598a",
   "metadata": {},
   "source": [
    "$\\mathbf{r_2} \\cdot \\mathbf{d} = r_2 d \\cos\\theta_2 = rd \\cos\\theta - \\frac{d^2}{2} \\implies \\cos\\theta_2 = \\frac{r\\cos\\theta - \\frac{d}{2}}{\\sqrt{r^2 + \\frac{d^2}{4} - rd\\cos\\theta}}$\n",
    "\n",
    "$\\mathbf{r_1} \\cdot \\mathbf{d} = r_1 d \\cos\\theta_1 = rd\\cos\\theta + \\frac{d^2}{2} \\implies \\cos\\theta_1 = \\frac{r\\cos\\theta + \\frac{d}{2}}{\\sqrt{r^2 + \\frac{d^2}{4} + rd\\cos\\theta}}$"
   ]
  },
  {
   "cell_type": "markdown",
   "id": "3a036ac9",
   "metadata": {},
   "source": [
    "$|\\mathbf{r_2}\\times \\mathbf{d}| = r_2 d \\sin\\theta_2 = rd\\sin\\theta \\implies \\sin\\theta_2 = \\frac{r\\sin\\theta}{\\sqrt{r^2 + \\frac{d^2}{4} - rd\\cos\\theta}}$\n",
    "\n",
    "$|\\mathbf{r_1}\\times \\mathbf{d}| = r_1 d \\sin\\theta_1 = rd\\sin\\theta \\implies \\sin\\theta_1 = \\frac{r\\sin\\theta}{\\sqrt{r^2 + \\frac{d^2}{4} + rd\\cos\\theta}}$"
   ]
  },
  {
   "cell_type": "markdown",
   "id": "d11e9c95",
   "metadata": {},
   "source": [
    "### Write substitution dictionaries corresponding to the angle and radial substitutions"
   ]
  },
  {
   "cell_type": "code",
   "execution_count": 34,
   "id": "59b5af11",
   "metadata": {},
   "outputs": [],
   "source": [
    "theta_subs_dict = {sin(theta1): (r * sin(theta) / r1),\n",
    "                   sin(theta2): r * sin(theta) / r2,\n",
    "                   cos(theta1): (r * cos(theta) + d/2) / r1,\n",
    "                   cos(theta2): (r * cos(theta) - d/2) / r2}\n",
    "\n",
    "r_subs_dict = {r1: sqrt(r**2 + d**2 / 4 + r*d*cos(theta)),\n",
    "               r2: sqrt(r**2 + d**2 / 4 - r*d*cos(theta))}\n",
    "\n",
    "triple_angle_theta1 = {sin(3*theta1): 3*sin(theta1) - 4*sin(theta1)**3,\n",
    "                       cos(3*theta1): 4*cos(theta1)**3 - 3*cos(theta1)}\n",
    "\n",
    "triple_angle_theta2 = {sin(3*theta2): 3*sin(theta2) - 4*sin(theta2)**3,\n",
    "                       cos(3*theta2): 4*cos(theta2)**3 - 3*cos(theta2)}"
   ]
  },
  {
   "cell_type": "markdown",
   "id": "e4432d05",
   "metadata": {},
   "source": [
    "## Choose $q_1 = +1/2$ and $q_2 = -1/2$"
   ]
  },
  {
   "cell_type": "code",
   "execution_count": 35,
   "id": "75e5c2ce",
   "metadata": {},
   "outputs": [
    {
     "data": {
      "text/latex": [
       "$\\displaystyle \\frac{5 \\epsilon \\left(\\sin{\\left(\\theta_{1} \\right)} \\cos{\\left(3 \\theta_{2} \\right)} - \\sin{\\left(3 \\theta_{2} \\right)} \\cos{\\left(\\theta_{1} \\right)}\\right)}{4 r_{2}^{2}} + \\frac{\\epsilon \\sin{\\left(2 \\theta_{2} \\right)}}{2 r_{1} r_{2}} - \\frac{3 \\epsilon \\left(- \\sin{\\left(\\theta_{1} \\right)} \\cos{\\left(\\theta_{2} \\right)} - \\sin{\\left(\\theta_{2} \\right)} \\cos{\\left(\\theta_{1} \\right)}\\right)}{4 r_{1}^{2}}$"
      ],
      "text/plain": [
       "5*epsilon*(sin(theta_1)*cos(3*theta_2) - sin(3*theta_2)*cos(theta_1))/(4*r_2**2) + epsilon*sin(2*theta_2)/(2*r_1*r_2) - 3*epsilon*(-sin(theta_1)*cos(theta_2) - sin(theta_2)*cos(theta_1))/(4*r_1**2)"
      ]
     },
     "metadata": {},
     "output_type": "display_data"
    }
   ],
   "source": [
    "eq_rhs_pos = eq_rhs.subs({q1: Rational(1, 2), q2: -Rational(1, 2)})\n",
    "display(eq_rhs_pos)"
   ]
  },
  {
   "cell_type": "markdown",
   "id": "2803cc04",
   "metadata": {},
   "source": [
    "Use [Triple angle identities](https://brilliant.org/wiki/triple-angle-identities/)"
   ]
  },
  {
   "cell_type": "code",
   "execution_count": 36,
   "id": "28c34e3b",
   "metadata": {},
   "outputs": [
    {
     "data": {
      "text/latex": [
       "$\\displaystyle \\frac{5 \\epsilon \\sin{\\left(\\theta_{1} \\right)} \\cos^{3}{\\left(\\theta_{2} \\right)}}{r_{2}^{2}} - \\frac{15 \\epsilon \\sin{\\left(\\theta_{1} \\right)} \\cos{\\left(\\theta_{2} \\right)}}{4 r_{2}^{2}} + \\frac{5 \\epsilon \\sin^{3}{\\left(\\theta_{2} \\right)} \\cos{\\left(\\theta_{1} \\right)}}{r_{2}^{2}} - \\frac{15 \\epsilon \\sin{\\left(\\theta_{2} \\right)} \\cos{\\left(\\theta_{1} \\right)}}{4 r_{2}^{2}} + \\frac{\\epsilon \\sin{\\left(\\theta_{2} \\right)} \\cos{\\left(\\theta_{2} \\right)}}{r_{1} r_{2}} + \\frac{3 \\epsilon \\sin{\\left(\\theta_{1} \\right)} \\cos{\\left(\\theta_{2} \\right)}}{4 r_{1}^{2}} + \\frac{3 \\epsilon \\sin{\\left(\\theta_{2} \\right)} \\cos{\\left(\\theta_{1} \\right)}}{4 r_{1}^{2}}$"
      ],
      "text/plain": [
       "5*epsilon*sin(theta_1)*cos(theta_2)**3/r_2**2 - 15*epsilon*sin(theta_1)*cos(theta_2)/(4*r_2**2) + 5*epsilon*sin(theta_2)**3*cos(theta_1)/r_2**2 - 15*epsilon*sin(theta_2)*cos(theta_1)/(4*r_2**2) + epsilon*sin(theta_2)*cos(theta_2)/(r_1*r_2) + 3*epsilon*sin(theta_1)*cos(theta_2)/(4*r_1**2) + 3*epsilon*sin(theta_2)*cos(theta_1)/(4*r_1**2)"
      ]
     },
     "metadata": {},
     "output_type": "display_data"
    }
   ],
   "source": [
    "eq_rhs_pos = TR11(eq_rhs_pos) #double angle\n",
    "eq_rhs_pos = eq_rhs_pos.subs(triple_angle_theta2) # triple angle\n",
    "eq_rhs_pos = expand(eq_rhs_pos)\n",
    "display(eq_rhs_pos)"
   ]
  },
  {
   "cell_type": "markdown",
   "id": "a10fc98f",
   "metadata": {},
   "source": [
    "Make substitutions so everything is in terms of polar coordinates"
   ]
  },
  {
   "cell_type": "code",
   "execution_count": 37,
   "id": "df0e6ef1",
   "metadata": {
    "scrolled": true
   },
   "outputs": [
    {
     "data": {
      "text/latex": [
       "$\\displaystyle \\frac{16 d \\epsilon r \\left(- 3 d^{4} \\sin{\\left(\\theta \\right)} + 4 d^{2} r^{2} \\sin{\\left(3 \\theta \\right)} + 32 d r^{3} \\sin{\\left(2 \\theta \\right)} - 4 d r^{3} \\sin{\\left(4 \\theta \\right)} - 32 r^{4} \\sin{\\left(3 \\theta \\right)}\\right)}{\\left(d^{2} - 4 d r \\cos{\\left(\\theta \\right)} + 4 r^{2}\\right)^{\\frac{5}{2}} \\left(d^{2} + 4 d r \\cos{\\left(\\theta \\right)} + 4 r^{2}\\right)^{\\frac{3}{2}}}$"
      ],
      "text/plain": [
       "16*d*epsilon*r*(-3*d**4*sin(theta) + 4*d**2*r**2*sin(3*theta) + 32*d*r**3*sin(2*theta) - 4*d*r**3*sin(4*theta) - 32*r**4*sin(3*theta))/((d**2 - 4*d*r*cos(theta) + 4*r**2)**(5/2)*(d**2 + 4*d*r*cos(theta) + 4*r**2)**(3/2))"
      ]
     },
     "metadata": {},
     "output_type": "display_data"
    }
   ],
   "source": [
    "eq_rhs_pos = eq_rhs_pos.subs(theta_subs_dict)\n",
    "\n",
    "# r after theta because theta substitutions contain r1, r2\n",
    "eq_rhs_pos = eq_rhs_pos.subs(r_subs_dict)\n",
    "eq_rhs_pos = simplify(eq_rhs_pos)\n",
    "display(eq_rhs_pos)"
   ]
  },
  {
   "cell_type": "markdown",
   "id": "78fed196",
   "metadata": {},
   "source": [
    "### Assumption that we're making is that $r \\gg d \\implies d/r \\ll 1$\n",
    "\n",
    "### Take $x = d/r \\implies d = rx$"
   ]
  },
  {
   "cell_type": "code",
   "execution_count": 38,
   "id": "9a8f39fc",
   "metadata": {},
   "outputs": [
    {
     "data": {
      "text/latex": [
       "$\\displaystyle - \\frac{16 \\epsilon x \\left(3 x^{4} \\sin{\\left(\\theta \\right)} - 4 x^{2} \\sin{\\left(3 \\theta \\right)} - 32 x \\sin{\\left(2 \\theta \\right)} + 4 x \\sin{\\left(4 \\theta \\right)} + 32 \\sin{\\left(3 \\theta \\right)}\\right)}{r^{2} \\left(x^{2} - 4 x \\cos{\\left(\\theta \\right)} + 4\\right)^{\\frac{5}{2}} \\left(x^{2} + 4 x \\cos{\\left(\\theta \\right)} + 4\\right)^{\\frac{3}{2}}}$"
      ],
      "text/plain": [
       "-16*epsilon*x*(3*x**4*sin(theta) - 4*x**2*sin(3*theta) - 32*x*sin(2*theta) + 4*x*sin(4*theta) + 32*sin(3*theta))/(r**2*(x**2 - 4*x*cos(theta) + 4)**(5/2)*(x**2 + 4*x*cos(theta) + 4)**(3/2))"
      ]
     },
     "metadata": {},
     "output_type": "display_data"
    }
   ],
   "source": [
    "x = symbols('x')\n",
    "eq_rhs_pos = simplify(eq_rhs_pos.subs(d, x*r))\n",
    "display(eq_rhs_pos)"
   ]
  },
  {
   "cell_type": "code",
   "execution_count": 39,
   "id": "0ef939a0",
   "metadata": {},
   "outputs": [
    {
     "data": {
      "text/latex": [
       "$\\displaystyle - \\frac{2 \\epsilon x \\sin{\\left(3 \\theta \\right)}}{r^{2}} + O\\left(x^{2}\\right)$"
      ],
      "text/plain": [
       "-2*epsilon*x*sin(3*theta)/r**2 + O(x**2)"
      ]
     },
     "metadata": {},
     "output_type": "display_data"
    }
   ],
   "source": [
    "eq_rhs_series = eq_rhs_pos.series(x, 0, 2)\n",
    "display(eq_rhs_series)"
   ]
  },
  {
   "cell_type": "code",
   "execution_count": 40,
   "id": "b991f7d6",
   "metadata": {},
   "outputs": [
    {
     "data": {
      "text/latex": [
       "$\\displaystyle - \\frac{2 d \\epsilon \\sin{\\left(3 \\theta \\right)}}{r^{3}}$"
      ],
      "text/plain": [
       "-2*d*epsilon*sin(3*theta)/r**3"
      ]
     },
     "metadata": {},
     "output_type": "display_data"
    }
   ],
   "source": [
    "# products of trig functions to sums\n",
    "eq_rhs_series = simplify(TR8(eq_rhs_series.removeO().subs(x, d/r)))\n",
    "display(eq_rhs_series)"
   ]
  },
  {
   "cell_type": "markdown",
   "id": "a098333d",
   "metadata": {},
   "source": [
    "#### Guess the form of an answer"
   ]
  },
  {
   "cell_type": "code",
   "execution_count": 41,
   "id": "d9dc3d98",
   "metadata": {},
   "outputs": [],
   "source": [
    "sol = A * sin(3*theta) / r"
   ]
  },
  {
   "cell_type": "code",
   "execution_count": 42,
   "id": "09f2b4a0",
   "metadata": {},
   "outputs": [
    {
     "data": {
      "text/latex": [
       "$\\displaystyle - \\frac{8 A \\sin{\\left(3 \\theta \\right)}}{r^{3}}$"
      ],
      "text/plain": [
       "-8*A*sin(3*theta)/r**3"
      ]
     },
     "metadata": {},
     "output_type": "display_data"
    }
   ],
   "source": [
    "# apply Laplacian\n",
    "lap_sol = sol.diff(r, 2) + (1/r) * sol.diff(r) + (1/r**2) * sol.diff(theta, 2)\n",
    "display(lap_sol)"
   ]
  },
  {
   "cell_type": "markdown",
   "id": "91f2bded",
   "metadata": {},
   "source": [
    "#### Solve for $A$"
   ]
  },
  {
   "cell_type": "code",
   "execution_count": 43,
   "id": "159f1edc",
   "metadata": {},
   "outputs": [
    {
     "data": {
      "text/latex": [
       "$\\displaystyle \\frac{d \\epsilon}{4}$"
      ],
      "text/plain": [
       "d*epsilon/4"
      ]
     },
     "metadata": {},
     "output_type": "display_data"
    }
   ],
   "source": [
    "A_sol = solve( Eq(lap_sol, eq_rhs_series), A )[0]\n",
    "display(A_sol)"
   ]
  },
  {
   "cell_type": "markdown",
   "id": "39892acd",
   "metadata": {},
   "source": [
    "#### $\\phi_c$ far away from both defects for $q_1 = 1/2$, $q_2 = -1/2$"
   ]
  },
  {
   "cell_type": "code",
   "execution_count": 44,
   "id": "c94c3d1e",
   "metadata": {},
   "outputs": [
    {
     "data": {
      "text/latex": [
       "$\\displaystyle \\frac{d \\epsilon \\sin{\\left(3 \\theta \\right)}}{4 r}$"
      ],
      "text/plain": [
       "d*epsilon*sin(3*theta)/(4*r)"
      ]
     },
     "metadata": {},
     "output_type": "display_data"
    }
   ],
   "source": [
    "display(sol.subs(A, A_sol))"
   ]
  },
  {
   "cell_type": "markdown",
   "id": "f432c10b",
   "metadata": {},
   "source": [
    "## Let's try $q_1 = -1/2, q_2 = 1/2$"
   ]
  },
  {
   "cell_type": "code",
   "execution_count": 45,
   "id": "c7002459",
   "metadata": {},
   "outputs": [
    {
     "data": {
      "text/latex": [
       "$\\displaystyle \\frac{3 \\epsilon \\sin{\\left(\\theta_{1} \\right)} \\cos{\\left(\\theta_{2} \\right)}}{4 r_{2}^{2}} + \\frac{3 \\epsilon \\sin{\\left(\\theta_{2} \\right)} \\cos{\\left(\\theta_{1} \\right)}}{4 r_{2}^{2}} + \\frac{\\epsilon \\sin{\\left(\\theta_{1} \\right)} \\cos{\\left(\\theta_{1} \\right)}}{r_{1} r_{2}} + \\frac{5 \\epsilon \\sin^{3}{\\left(\\theta_{1} \\right)} \\cos{\\left(\\theta_{2} \\right)}}{r_{1}^{2}} - \\frac{15 \\epsilon \\sin{\\left(\\theta_{1} \\right)} \\cos{\\left(\\theta_{2} \\right)}}{4 r_{1}^{2}} + \\frac{5 \\epsilon \\sin{\\left(\\theta_{2} \\right)} \\cos^{3}{\\left(\\theta_{1} \\right)}}{r_{1}^{2}} - \\frac{15 \\epsilon \\sin{\\left(\\theta_{2} \\right)} \\cos{\\left(\\theta_{1} \\right)}}{4 r_{1}^{2}}$"
      ],
      "text/plain": [
       "3*epsilon*sin(theta_1)*cos(theta_2)/(4*r_2**2) + 3*epsilon*sin(theta_2)*cos(theta_1)/(4*r_2**2) + epsilon*sin(theta_1)*cos(theta_1)/(r_1*r_2) + 5*epsilon*sin(theta_1)**3*cos(theta_2)/r_1**2 - 15*epsilon*sin(theta_1)*cos(theta_2)/(4*r_1**2) + 5*epsilon*sin(theta_2)*cos(theta_1)**3/r_1**2 - 15*epsilon*sin(theta_2)*cos(theta_1)/(4*r_1**2)"
      ]
     },
     "metadata": {},
     "output_type": "display_data"
    }
   ],
   "source": [
    "eq_rhs_neg = eq_rhs.subs({q1: -Rational(1, 2), q2: Rational(1, 2)})\n",
    "eq_rhs_neg = TR11(eq_rhs_neg) # reduce double angle\n",
    "eq_rhs_neg = eq_rhs_neg.subs(triple_angle_theta1)\n",
    "eq_rhs_neg = expand(eq_rhs_neg)\n",
    "\n",
    "display(eq_rhs_neg)"
   ]
  },
  {
   "cell_type": "code",
   "execution_count": 46,
   "id": "bbd747b9",
   "metadata": {},
   "outputs": [
    {
     "data": {
      "text/latex": [
       "$\\displaystyle \\frac{16 d \\epsilon r \\left(3 d^{4} \\sin{\\left(\\theta \\right)} - 4 d^{2} r^{2} \\sin{\\left(3 \\theta \\right)} + 32 d r^{3} \\sin{\\left(2 \\theta \\right)} - 4 d r^{3} \\sin{\\left(4 \\theta \\right)} + 32 r^{4} \\sin{\\left(3 \\theta \\right)}\\right)}{\\left(d^{2} - 4 d r \\cos{\\left(\\theta \\right)} + 4 r^{2}\\right)^{\\frac{3}{2}} \\left(d^{2} + 4 d r \\cos{\\left(\\theta \\right)} + 4 r^{2}\\right)^{\\frac{5}{2}}}$"
      ],
      "text/plain": [
       "16*d*epsilon*r*(3*d**4*sin(theta) - 4*d**2*r**2*sin(3*theta) + 32*d*r**3*sin(2*theta) - 4*d*r**3*sin(4*theta) + 32*r**4*sin(3*theta))/((d**2 - 4*d*r*cos(theta) + 4*r**2)**(3/2)*(d**2 + 4*d*r*cos(theta) + 4*r**2)**(5/2))"
      ]
     },
     "metadata": {},
     "output_type": "display_data"
    }
   ],
   "source": [
    "eq_rhs_neg = eq_rhs_neg.subs(theta_subs_dict)\n",
    "eq_rhs_neg = eq_rhs_neg.subs(r_subs_dict)\n",
    "eq_rhs_neg = simplify(eq_rhs_neg)\n",
    "display(eq_rhs_neg)"
   ]
  },
  {
   "cell_type": "code",
   "execution_count": 47,
   "id": "0125209f",
   "metadata": {},
   "outputs": [
    {
     "data": {
      "text/latex": [
       "$\\displaystyle \\frac{2 d \\epsilon \\sin{\\left(3 \\theta \\right)}}{r^{3}}$"
      ],
      "text/plain": [
       "2*d*epsilon*sin(3*theta)/r**3"
      ]
     },
     "metadata": {},
     "output_type": "display_data"
    }
   ],
   "source": [
    "x = symbols('x')\n",
    "eq_rhs_neg = simplify(eq_rhs_neg.subs(d, x*r))\n",
    "eq_rhs_series = eq_rhs_neg.series(x, 0, 2).removeO().subs(x, d/r)\n",
    "\n",
    "display(eq_rhs_series)"
   ]
  },
  {
   "cell_type": "code",
   "execution_count": 48,
   "id": "172f8a6d",
   "metadata": {},
   "outputs": [
    {
     "data": {
      "text/latex": [
       "$\\displaystyle - \\frac{d \\epsilon}{4}$"
      ],
      "text/plain": [
       "-d*epsilon/4"
      ]
     },
     "metadata": {},
     "output_type": "display_data"
    }
   ],
   "source": [
    "A_sol = solve( Eq(lap_sol, eq_rhs_series), A )[0]\n",
    "display(A_sol)"
   ]
  },
  {
   "cell_type": "code",
   "execution_count": 49,
   "id": "fd7d9ada",
   "metadata": {},
   "outputs": [
    {
     "data": {
      "text/latex": [
       "$\\displaystyle - \\frac{d \\epsilon \\sin{\\left(3 \\theta \\right)}}{4 r}$"
      ],
      "text/plain": [
       "-d*epsilon*sin(3*theta)/(4*r)"
      ]
     },
     "metadata": {},
     "output_type": "display_data"
    }
   ],
   "source": [
    "display(sol.subs(A, A_sol))"
   ]
  },
  {
   "cell_type": "markdown",
   "id": "1ab57709",
   "metadata": {},
   "source": [
    "Just get a difference of a negative sign"
   ]
  },
  {
   "cell_type": "markdown",
   "id": "dda8ed70",
   "metadata": {},
   "source": [
    "## Let's try to make the substitutions that Carter made"
   ]
  },
  {
   "cell_type": "code",
   "execution_count": 50,
   "id": "8588a9f3",
   "metadata": {},
   "outputs": [
    {
     "data": {
      "text/latex": [
       "$\\displaystyle \\frac{- \\frac{d \\cos{\\left(\\theta \\right)}}{2} + r}{r^{2}}$"
      ],
      "text/plain": [
       "(-d*cos(theta)/2 + r)/r**2"
      ]
     },
     "metadata": {},
     "output_type": "display_data"
    },
    {
     "data": {
      "text/latex": [
       "$\\displaystyle \\frac{\\left(- d \\cos{\\left(\\theta \\right)} + 2 r\\right) \\sin{\\left(\\theta \\right)}}{2 r}$"
      ],
      "text/plain": [
       "(-d*cos(theta) + 2*r)*sin(theta)/(2*r)"
      ]
     },
     "metadata": {},
     "output_type": "display_data"
    },
    {
     "data": {
      "text/latex": [
       "$\\displaystyle \\frac{d \\sin^{2}{\\left(\\theta \\right)}}{2 r} + \\cos{\\left(\\theta \\right)}$"
      ],
      "text/plain": [
       "d*sin(theta)**2/(2*r) + cos(theta)"
      ]
     },
     "metadata": {},
     "output_type": "display_data"
    }
   ],
   "source": [
    "r1_inv_sub = simplify( (1/r1).subs(r_subs_dict).subs(d, x * r).series(x, 0, 2).subs(x, d/r).removeO() )\n",
    "sin_theta1_sub = simplify( sin(theta1).subs(theta_subs_dict).subs(r_subs_dict).subs(d, x*r).series(x, 0, 2).subs(x, d/r).removeO() )\n",
    "cos_theta1_sub = simplify( cos(theta1).subs(theta_subs_dict).subs(r_subs_dict).subs(d, x*r).series(x, 0, 2).subs(x, d/r).removeO() )\n",
    "\n",
    "display(r1_inv_sub)\n",
    "display(sin_theta1_sub)\n",
    "display(cos_theta1_sub)"
   ]
  },
  {
   "cell_type": "markdown",
   "id": "7a74f911",
   "metadata": {},
   "source": [
    "c.f. top of page 26 from Carter"
   ]
  },
  {
   "cell_type": "code",
   "execution_count": 51,
   "id": "8cbb548d",
   "metadata": {},
   "outputs": [
    {
     "data": {
      "text/latex": [
       "$\\displaystyle \\frac{\\frac{d \\cos{\\left(\\theta \\right)}}{2} + r}{r^{2}}$"
      ],
      "text/plain": [
       "(d*cos(theta)/2 + r)/r**2"
      ]
     },
     "metadata": {},
     "output_type": "display_data"
    },
    {
     "data": {
      "text/latex": [
       "$\\displaystyle \\frac{\\left(d \\cos{\\left(\\theta \\right)} + 2 r\\right) \\sin{\\left(\\theta \\right)}}{2 r}$"
      ],
      "text/plain": [
       "(d*cos(theta) + 2*r)*sin(theta)/(2*r)"
      ]
     },
     "metadata": {},
     "output_type": "display_data"
    },
    {
     "data": {
      "text/latex": [
       "$\\displaystyle - \\frac{d \\sin^{2}{\\left(\\theta \\right)}}{2 r} + \\cos{\\left(\\theta \\right)}$"
      ],
      "text/plain": [
       "-d*sin(theta)**2/(2*r) + cos(theta)"
      ]
     },
     "metadata": {},
     "output_type": "display_data"
    }
   ],
   "source": [
    "r2_inv_sub = simplify( (1/r2).subs(r_subs_dict).subs(d, x * r).series(x, 0, 2).subs(x, d/r).removeO() )\n",
    "sin_theta2_sub = simplify( sin(theta2).subs(theta_subs_dict).subs(r_subs_dict).subs(d, x*r).series(x, 0, 2).subs(x, d/r).removeO() )\n",
    "cos_theta2_sub = simplify( cos(theta2).subs(theta_subs_dict).subs(r_subs_dict).subs(d, x*r).series(x, 0, 2).subs(x, d/r).removeO() )\n",
    "\n",
    "display(r2_inv_sub)\n",
    "display(sin_theta2_sub)\n",
    "display(cos_theta2_sub)"
   ]
  },
  {
   "cell_type": "code",
   "execution_count": 52,
   "id": "fc923a36",
   "metadata": {},
   "outputs": [
    {
     "data": {
      "text/latex": [
       "$\\displaystyle \\frac{3 \\epsilon \\sin{\\left(\\theta_{1} \\right)} \\cos{\\left(\\theta_{2} \\right)}}{4 r_{2}^{2}} + \\frac{3 \\epsilon \\sin{\\left(\\theta_{2} \\right)} \\cos{\\left(\\theta_{1} \\right)}}{4 r_{2}^{2}} + \\frac{\\epsilon \\sin{\\left(\\theta_{1} \\right)} \\cos{\\left(\\theta_{1} \\right)}}{r_{1} r_{2}} + \\frac{5 \\epsilon \\sin^{3}{\\left(\\theta_{1} \\right)} \\cos{\\left(\\theta_{2} \\right)}}{r_{1}^{2}} - \\frac{15 \\epsilon \\sin{\\left(\\theta_{1} \\right)} \\cos{\\left(\\theta_{2} \\right)}}{4 r_{1}^{2}} + \\frac{5 \\epsilon \\sin{\\left(\\theta_{2} \\right)} \\cos^{3}{\\left(\\theta_{1} \\right)}}{r_{1}^{2}} - \\frac{15 \\epsilon \\sin{\\left(\\theta_{2} \\right)} \\cos{\\left(\\theta_{1} \\right)}}{4 r_{1}^{2}}$"
      ],
      "text/plain": [
       "3*epsilon*sin(theta_1)*cos(theta_2)/(4*r_2**2) + 3*epsilon*sin(theta_2)*cos(theta_1)/(4*r_2**2) + epsilon*sin(theta_1)*cos(theta_1)/(r_1*r_2) + 5*epsilon*sin(theta_1)**3*cos(theta_2)/r_1**2 - 15*epsilon*sin(theta_1)*cos(theta_2)/(4*r_1**2) + 5*epsilon*sin(theta_2)*cos(theta_1)**3/r_1**2 - 15*epsilon*sin(theta_2)*cos(theta_1)/(4*r_1**2)"
      ]
     },
     "metadata": {},
     "output_type": "display_data"
    }
   ],
   "source": [
    "eq_rhs_neg = eq_rhs.subs({q1: -Rational(1, 2), q2: Rational(1, 2)})\n",
    "eq_rhs_neg = TR11(eq_rhs_neg)\n",
    "eq_rhs_neg = eq_rhs_neg.subs({sin(3*theta1): 3*sin(theta1) - 4*sin(theta1)**3,\n",
    "                              cos(3*theta1): 4*cos(theta1)**3 - 3*cos(theta1)})\n",
    "eq_rhs_neg = expand(eq_rhs_neg)\n",
    "display(eq_rhs_neg)"
   ]
  },
  {
   "cell_type": "code",
   "execution_count": 53,
   "id": "a9fc3f04",
   "metadata": {},
   "outputs": [
    {
     "data": {
      "text/latex": [
       "$\\displaystyle \\frac{2 d \\epsilon \\sin{\\left(3 \\theta \\right)}}{r^{3}}$"
      ],
      "text/plain": [
       "2*d*epsilon*sin(3*theta)/r**3"
      ]
     },
     "metadata": {},
     "output_type": "display_data"
    }
   ],
   "source": [
    "carter_subs_dict = {r1: 1 / r1_inv_sub,\n",
    "                    r2: 1 / r2_inv_sub,\n",
    "                    sin(theta1): sin_theta1_sub,\n",
    "                    sin(theta2): sin_theta2_sub,\n",
    "                    cos(theta1): cos_theta1_sub,\n",
    "                    cos(theta2): cos_theta2_sub}\n",
    "\n",
    "eq_rhs_neg_series = simplify(eq_rhs_neg.subs(carter_subs_dict).subs(d, x*r))\n",
    "eq_rhs_neg_series = simplify(factor(eq_rhs_neg_series, x).subs({x**2: 0, x**3: 0, x**4: 0, x**5: 0, x**6: 0}).subs(x, d/r))\n",
    "display(eq_rhs_neg_series)"
   ]
  },
  {
   "cell_type": "markdown",
   "id": "ad45de6e",
   "metadata": {},
   "source": [
    "This is identical to what we got before"
   ]
  },
  {
   "cell_type": "markdown",
   "id": "3a30b574",
   "metadata": {},
   "source": [
    "As a final check, we may look at each of the terms he calculates (19)-(21)"
   ]
  },
  {
   "cell_type": "code",
   "execution_count": 54,
   "id": "60886599",
   "metadata": {},
   "outputs": [
    {
     "data": {
      "text/latex": [
       "$\\displaystyle x \\sin{\\left(\\theta \\right)} - x \\sin{\\left(3 \\theta \\right)} + \\sin{\\left(2 \\theta \\right)}$"
      ],
      "text/plain": [
       "x*sin(theta) - x*sin(3*theta) + sin(2*theta)"
      ]
     },
     "execution_count": 54,
     "metadata": {},
     "output_type": "execute_result"
    }
   ],
   "source": [
    "expr1 = TR10(sin(3*theta1 - theta2)).subs(triple_angle_theta1).subs(carter_subs_dict)\n",
    "expr1 = factor( expand(expr1.subs(d, x*r)), x )\n",
    "expr1 = expr1.subs({x**2: 0, x**3: 0, x**4: 0})\n",
    "simplify( TR8(TR6( expand(simplify(expr1)) )) )"
   ]
  },
  {
   "cell_type": "code",
   "execution_count": 55,
   "id": "a150a0ba",
   "metadata": {},
   "outputs": [
    {
     "data": {
      "text/latex": [
       "$\\displaystyle \\sin{\\left(2 \\theta \\right)}$"
      ],
      "text/plain": [
       "sin(2*theta)"
      ]
     },
     "metadata": {},
     "output_type": "display_data"
    }
   ],
   "source": [
    "expr2 = TR10(sin(theta1 + theta2)).subs(carter_subs_dict)\n",
    "expr2 = factor( expand(expr2.subs(d, x*r)), x )\n",
    "expr2 = TR8(expr2).subs(x**2, 0)\n",
    "display(expr2)"
   ]
  },
  {
   "cell_type": "code",
   "execution_count": 56,
   "id": "e6b72775",
   "metadata": {},
   "outputs": [
    {
     "data": {
      "text/latex": [
       "$\\displaystyle \\frac{x \\sin{\\left(\\theta \\right)}}{2} - \\frac{x \\sin{\\left(3 \\theta \\right)}}{2} + \\sin{\\left(2 \\theta \\right)}$"
      ],
      "text/plain": [
       "x*sin(theta)/2 - x*sin(3*theta)/2 + sin(2*theta)"
      ]
     },
     "metadata": {},
     "output_type": "display_data"
    }
   ],
   "source": [
    "expr3 = TR11(sin(2*theta1)).subs(carter_subs_dict)\n",
    "expr3 = factor( expand(expr3.subs(d, x*r)), x )\n",
    "expr3 = TR8(expr3).subs(x**2, 0)\n",
    "display(expr3)"
   ]
  },
  {
   "cell_type": "markdown",
   "id": "13bf899e",
   "metadata": {},
   "source": [
    "Sign error in Carter's (21), see the above expression"
   ]
  },
  {
   "cell_type": "code",
   "execution_count": 57,
   "id": "9f448ce7",
   "metadata": {},
   "outputs": [
    {
     "data": {
      "text/latex": [
       "$\\displaystyle \\frac{2 \\epsilon x \\sin{\\left(3 \\theta \\right)}}{r^{2}}$"
      ],
      "text/plain": [
       "2*epsilon*x*sin(3*theta)/r**2"
      ]
     },
     "metadata": {},
     "output_type": "display_data"
    }
   ],
   "source": [
    "new_rhs = (-Rational(5, 4) * eps / r1**2 * expr1\n",
    "           + Rational(3, 4) * eps / r2**2 * expr2\n",
    "           + Rational(1, 2) * eps / (r1 * r2) * expr3).subs(carter_subs_dict).subs(d, x * r)\n",
    "new_rhs = simplify( expand(new_rhs).subs({x**2: 0, x**3: 0}) )\n",
    "\n",
    "display(new_rhs)"
   ]
  },
  {
   "cell_type": "markdown",
   "id": "367fb385",
   "metadata": {},
   "source": [
    "If we plug in, we get the same as my expression"
   ]
  },
  {
   "cell_type": "markdown",
   "id": "d6675b31",
   "metadata": {},
   "source": [
    "Let's see if we get back Carter's expression if we enter the sign error"
   ]
  },
  {
   "cell_type": "code",
   "execution_count": 58,
   "id": "716a1ea4",
   "metadata": {},
   "outputs": [
    {
     "data": {
      "text/latex": [
       "$\\displaystyle - \\frac{d \\left(\\sin{\\left(\\theta \\right)} - \\sin{\\left(3 \\theta \\right)}\\right)}{2 r} + \\sin{\\left(2 \\theta \\right)}$"
      ],
      "text/plain": [
       "-d*(sin(theta) - sin(3*theta))/(2*r) + sin(2*theta)"
      ]
     },
     "metadata": {},
     "output_type": "display_data"
    }
   ],
   "source": [
    "expr3 = sin(2*theta) - Rational(1, 2) * d / r * (sin(theta) - sin(3*theta))\n",
    "display(expr3)"
   ]
  },
  {
   "cell_type": "code",
   "execution_count": 59,
   "id": "cd5a5179",
   "metadata": {},
   "outputs": [
    {
     "data": {
      "text/latex": [
       "$\\displaystyle \\frac{d \\epsilon \\left(- \\sin{\\left(\\theta \\right)} + 5 \\sin{\\left(3 \\theta \\right)}\\right)}{2 r^{3}}$"
      ],
      "text/plain": [
       "d*epsilon*(-sin(theta) + 5*sin(3*theta))/(2*r**3)"
      ]
     },
     "metadata": {},
     "output_type": "display_data"
    }
   ],
   "source": [
    "new_rhs = (-Rational(5, 4) * eps / r1**2 * expr1\n",
    "           + Rational(3, 4) * eps / r2**2 * expr2\n",
    "           + Rational(1, 2) * eps / (r1 * r2) * expr3).subs(carter_subs_dict).subs(d, x * r)\n",
    "new_rhs = simplify( expand(new_rhs).subs({x**2: 0, x**3: 0}) ).subs(x, d/r)\n",
    "\n",
    "display(new_rhs)"
   ]
  },
  {
   "cell_type": "markdown",
   "id": "a7e788d3",
   "metadata": {},
   "source": [
    "This is what Carter gets, so it is clear this is the source of the mistake"
   ]
  },
  {
   "cell_type": "markdown",
   "id": "d21f1e5b",
   "metadata": {},
   "source": [
    "## Now for close to one defect, or $r_1/d \\ll 1$"
   ]
  },
  {
   "cell_type": "markdown",
   "id": "be6205ec",
   "metadata": {},
   "source": [
    "$\\mathbf{r}_1 = \\mathbf{r}_2 + \\mathbf{d}$\n",
    "\n",
    "$\\mathbf{r}_2 = \\mathbf{r}_1 - \\mathbf{d}$\n",
    "\n",
    "$\\mathbf{r}_2 \\cdot \\mathbf{d} = r_2 d \\cos \\theta_2 = r_1 d \\cos\\theta_1 - d^2$\n",
    "\n",
    "$\\mathbf{r}_2 \\times \\mathbf{d} = r_2 d \\sin\\theta_2 = \\mathbf{r}_1 \\times \\mathbf{d} = r_1 d \\sin\\theta_1$\n",
    "\n",
    "$r_2 = \\sqrt{r_1^2 + d^2 - 2 r_1 d \\cos\\theta_1}$"
   ]
  },
  {
   "cell_type": "code",
   "execution_count": 60,
   "id": "2c2d9f24",
   "metadata": {},
   "outputs": [],
   "source": [
    "theta2_subs_dict = {cos(theta2): (r1 * cos(theta1) - d) / r2,\n",
    "                     sin(theta2): (r1 / r2) * sin(theta1)}\n",
    "r2_subs_dict = {r2: sqrt(r1**2 + d**2 - 2 * r1*d*cos(theta1))}"
   ]
  },
  {
   "cell_type": "markdown",
   "id": "345b8e3d",
   "metadata": {},
   "source": [
    "### $q_1 = 1/2$, $q_2 = -1/2$, Solving for $q_1$"
   ]
  },
  {
   "cell_type": "code",
   "execution_count": 61,
   "id": "2b883c34",
   "metadata": {},
   "outputs": [
    {
     "data": {
      "text/latex": [
       "$\\displaystyle \\frac{5 \\epsilon \\left(- \\left(- 4 \\sin^{3}{\\left(\\theta_{2} \\right)} + 3 \\sin{\\left(\\theta_{2} \\right)}\\right) \\cos{\\left(\\theta_{1} \\right)} + \\left(4 \\cos^{3}{\\left(\\theta_{2} \\right)} - 3 \\cos{\\left(\\theta_{2} \\right)}\\right) \\sin{\\left(\\theta_{1} \\right)}\\right)}{4 r_{2}^{2}} + \\frac{\\epsilon \\sin{\\left(\\theta_{2} \\right)} \\cos{\\left(\\theta_{2} \\right)}}{r_{1} r_{2}} - \\frac{3 \\epsilon \\left(- \\sin{\\left(\\theta_{1} \\right)} \\cos{\\left(\\theta_{2} \\right)} - \\sin{\\left(\\theta_{2} \\right)} \\cos{\\left(\\theta_{1} \\right)}\\right)}{4 r_{1}^{2}}$"
      ],
      "text/plain": [
       "5*epsilon*(-(-4*sin(theta_2)**3 + 3*sin(theta_2))*cos(theta_1) + (4*cos(theta_2)**3 - 3*cos(theta_2))*sin(theta_1))/(4*r_2**2) + epsilon*sin(theta_2)*cos(theta_2)/(r_1*r_2) - 3*epsilon*(-sin(theta_1)*cos(theta_2) - sin(theta_2)*cos(theta_1))/(4*r_1**2)"
      ]
     },
     "metadata": {},
     "output_type": "display_data"
    }
   ],
   "source": [
    "eq_rhs_close_pos = eq_rhs.subs({q1: Rational(1, 2), q2: -Rational(1, 2)})\n",
    "eq_rhs_close_pos = TR11(eq_rhs_close_pos)\n",
    "eq_rhs_close_pos = eq_rhs_close_pos.subs(triple_angle_theta2)\n",
    "\n",
    "display(eq_rhs_close_pos)"
   ]
  },
  {
   "cell_type": "code",
   "execution_count": 62,
   "id": "65005bc8",
   "metadata": {},
   "outputs": [
    {
     "data": {
      "text/latex": [
       "$\\displaystyle \\frac{\\epsilon \\left(- 32 d^{4} x^{4} \\cos^{2}{\\left(\\theta_{1} \\right)} + 8 d^{4} x^{4} + 24 d^{4} x^{3} \\cos^{3}{\\left(\\theta_{1} \\right)} + 36 d^{4} x^{3} \\cos{\\left(\\theta_{1} \\right)} - 36 d^{4} x^{2} \\cos^{2}{\\left(\\theta_{1} \\right)} - 15 d^{4} x^{2} + 18 d^{4} x \\cos{\\left(\\theta_{1} \\right)} - 3 d^{4}\\right) \\sin{\\left(\\theta_{1} \\right)}}{4 d x^{2} \\left(d^{2} x^{2} - 2 d^{2} x \\cos{\\left(\\theta_{1} \\right)} + d^{2}\\right)^{\\frac{5}{2}}}$"
      ],
      "text/plain": [
       "epsilon*(-32*d**4*x**4*cos(theta_1)**2 + 8*d**4*x**4 + 24*d**4*x**3*cos(theta_1)**3 + 36*d**4*x**3*cos(theta_1) - 36*d**4*x**2*cos(theta_1)**2 - 15*d**4*x**2 + 18*d**4*x*cos(theta_1) - 3*d**4)*sin(theta_1)/(4*d*x**2*(d**2*x**2 - 2*d**2*x*cos(theta_1) + d**2)**(5/2))"
      ]
     },
     "metadata": {},
     "output_type": "display_data"
    }
   ],
   "source": [
    "eq_rhs_close_pos = eq_rhs_close_pos.subs(theta2_subs_dict)\n",
    "eq_rhs_close_pos = eq_rhs_close_pos.subs(r2_subs_dict)\n",
    "eq_rhs_close_pos = simplify(eq_rhs_close_pos)\n",
    "eq_rhs_close_pos = eq_rhs_close_pos.subs(r1, x * d)\n",
    "\n",
    "display(eq_rhs_close_pos)"
   ]
  },
  {
   "cell_type": "code",
   "execution_count": 63,
   "id": "48550222",
   "metadata": {},
   "outputs": [
    {
     "data": {
      "text/latex": [
       "$\\displaystyle - \\frac{3 \\epsilon \\sin{\\left(\\theta_{1} \\right)}}{4 d^{2} x^{2}} + \\frac{3 \\epsilon \\sin{\\left(\\theta_{1} \\right)} \\cos{\\left(\\theta_{1} \\right)}}{4 d^{2} x} + O\\left(1\\right)$"
      ],
      "text/plain": [
       "-3*epsilon*sin(theta_1)/(4*d**2*x**2) + 3*epsilon*sin(theta_1)*cos(theta_1)/(4*d**2*x) + O(1)"
      ]
     },
     "metadata": {},
     "output_type": "display_data"
    },
    {
     "data": {
      "text/latex": [
       "$\\displaystyle - \\frac{3 \\epsilon \\sin{\\left(\\theta_{1} \\right)}}{4 r_{1}^{2}} + \\frac{3 \\epsilon \\sin{\\left(2 \\theta_{1} \\right)}}{8 d r_{1}}$"
      ],
      "text/plain": [
       "-3*epsilon*sin(theta_1)/(4*r_1**2) + 3*epsilon*sin(2*theta_1)/(8*d*r_1)"
      ]
     },
     "metadata": {},
     "output_type": "display_data"
    }
   ],
   "source": [
    "eq_rhs_close_pos_series = eq_rhs_close_pos.series(x, 0, 0)\n",
    "display(eq_rhs_close_pos_series)\n",
    "eq_rhs_close_pos_series = TR8(eq_rhs_close_pos_series).subs(x, r1/d).removeO()\n",
    "display(eq_rhs_close_pos_series)"
   ]
  },
  {
   "cell_type": "code",
   "execution_count": 64,
   "id": "a269325a",
   "metadata": {},
   "outputs": [
    {
     "data": {
      "text/latex": [
       "$\\displaystyle - \\frac{3 \\epsilon}{4 r_{1}^{2}}$"
      ],
      "text/plain": [
       "-3*epsilon/(4*r_1**2)"
      ]
     },
     "metadata": {},
     "output_type": "display_data"
    },
    {
     "data": {
      "text/latex": [
       "$\\displaystyle \\frac{3 \\epsilon}{8 d r_{1}}$"
      ],
      "text/plain": [
       "3*epsilon/(8*d*r_1)"
      ]
     },
     "metadata": {},
     "output_type": "display_data"
    }
   ],
   "source": [
    "mode_1_coeff = eq_rhs_close_pos_series.subs({sin(theta1): 1, sin(2*theta1): 0})\n",
    "mode_2_coeff = eq_rhs_close_pos_series.subs({sin(theta1): 0, sin(2*theta1): 1})\n",
    "\n",
    "display(mode_1_coeff)\n",
    "display(mode_2_coeff)"
   ]
  },
  {
   "cell_type": "markdown",
   "id": "df191f4a",
   "metadata": {},
   "source": [
    "Guess the form of a solution"
   ]
  },
  {
   "cell_type": "code",
   "execution_count": 65,
   "id": "a8e59723",
   "metadata": {},
   "outputs": [
    {
     "data": {
      "text/latex": [
       "$\\displaystyle \\frac{A \\sin{\\left(2 \\theta_{1} \\right)}}{r_{1}} - \\frac{4 A r_{1} \\sin{\\left(2 \\theta_{1} \\right)} + B \\sin{\\left(\\theta_{1} \\right)}}{r_{1}^{2}}$"
      ],
      "text/plain": [
       "A*sin(2*theta_1)/r_1 - (4*A*r_1*sin(2*theta_1) + B*sin(theta_1))/r_1**2"
      ]
     },
     "metadata": {},
     "output_type": "display_data"
    }
   ],
   "source": [
    "sol = A * r1 * sin(2*theta1) + B * sin(theta1)\n",
    "\n",
    "lap_sol = sol.diff(r1, 2) + (1/r1) * sol.diff(r1) + (1/r1**2) * sol.diff(theta1, 2)\n",
    "display(lap_sol)"
   ]
  },
  {
   "cell_type": "code",
   "execution_count": 66,
   "id": "ff59b83b",
   "metadata": {},
   "outputs": [
    {
     "data": {
      "text/latex": [
       "$\\displaystyle - \\frac{B}{r_{1}^{2}}$"
      ],
      "text/plain": [
       "-B/r_1**2"
      ]
     },
     "metadata": {},
     "output_type": "display_data"
    },
    {
     "data": {
      "text/latex": [
       "$\\displaystyle - \\frac{3 A}{r_{1}}$"
      ],
      "text/plain": [
       "-3*A/r_1"
      ]
     },
     "metadata": {},
     "output_type": "display_data"
    }
   ],
   "source": [
    "mode_1_guess = lap_sol.subs({sin(theta1): 1, sin(2*theta1): 0})\n",
    "mode_2_guess = lap_sol.subs({sin(theta1): 0, sin(2*theta1): 1})\n",
    "\n",
    "display(mode_1_guess)\n",
    "display(mode_2_guess)"
   ]
  },
  {
   "cell_type": "code",
   "execution_count": 67,
   "id": "42326745",
   "metadata": {},
   "outputs": [
    {
     "data": {
      "text/latex": [
       "$\\displaystyle - \\frac{\\epsilon}{8 d}$"
      ],
      "text/plain": [
       "-epsilon/(8*d)"
      ]
     },
     "metadata": {},
     "output_type": "display_data"
    },
    {
     "data": {
      "text/latex": [
       "$\\displaystyle \\frac{3 \\epsilon}{4}$"
      ],
      "text/plain": [
       "3*epsilon/4"
      ]
     },
     "metadata": {},
     "output_type": "display_data"
    }
   ],
   "source": [
    "A_sol = solve(Eq(mode_2_coeff, mode_2_guess), A)[0]\n",
    "B_sol = solve(Eq(mode_1_coeff, mode_1_guess), B)[0]\n",
    "\n",
    "display(A_sol)\n",
    "display(B_sol)"
   ]
  },
  {
   "cell_type": "code",
   "execution_count": 68,
   "id": "401d913e",
   "metadata": {},
   "outputs": [
    {
     "data": {
      "text/latex": [
       "$\\displaystyle \\frac{3 \\epsilon \\sin{\\left(\\theta_{1} \\right)}}{4} - \\frac{\\epsilon r_{1} \\sin{\\left(2 \\theta_{1} \\right)}}{8 d}$"
      ],
      "text/plain": [
       "3*epsilon*sin(theta_1)/4 - epsilon*r_1*sin(2*theta_1)/(8*d)"
      ]
     },
     "metadata": {},
     "output_type": "display_data"
    }
   ],
   "source": [
    "close_to_q1 = {A: A_sol, B: B_sol}\n",
    "display( sol.subs(close_to_q1) )"
   ]
  },
  {
   "cell_type": "markdown",
   "id": "67ca98ab",
   "metadata": {},
   "source": [
    "This is what Carter gets for (33) and (12) (with $q = 1/2$)"
   ]
  },
  {
   "cell_type": "markdown",
   "id": "9ba4fdde",
   "metadata": {},
   "source": [
    "### Solving for $q_2$"
   ]
  },
  {
   "cell_type": "markdown",
   "id": "ecc77343",
   "metadata": {},
   "source": [
    "$\\cos\\theta_1 = \\frac{r_2 \\cos\\theta_2 + d}{r_1}$\n",
    "\n",
    "$\\sin\\theta_1 = \\frac{r_2 \\sin\\theta_2}{r_1}$\n",
    "\n",
    "$r_1 = \\sqrt{r_2^2 + d^2 + 2 r_2 d \\cos\\theta_2}$"
   ]
  },
  {
   "cell_type": "code",
   "execution_count": 69,
   "id": "daf3f083",
   "metadata": {},
   "outputs": [],
   "source": [
    "theta1_subs_dict = {cos(theta1): (r2 * cos(theta2) + d) / r1,\n",
    "                    sin(theta1): (r2 / r1) * sin(theta2)}\n",
    "r1_subs_dict = {r1: sqrt(r2**2 + d**2 + 2 * r2*d*cos(theta2))}"
   ]
  },
  {
   "cell_type": "code",
   "execution_count": 70,
   "id": "798812fb",
   "metadata": {},
   "outputs": [
    {
     "data": {
      "text/latex": [
       "$\\displaystyle \\frac{5 \\epsilon \\left(- \\left(- 4 \\sin^{3}{\\left(\\theta_{2} \\right)} + 3 \\sin{\\left(\\theta_{2} \\right)}\\right) \\cos{\\left(\\theta_{1} \\right)} + \\left(4 \\cos^{3}{\\left(\\theta_{2} \\right)} - 3 \\cos{\\left(\\theta_{2} \\right)}\\right) \\sin{\\left(\\theta_{1} \\right)}\\right)}{4 r_{2}^{2}} + \\frac{\\epsilon \\sin{\\left(\\theta_{2} \\right)} \\cos{\\left(\\theta_{2} \\right)}}{r_{1} r_{2}} - \\frac{3 \\epsilon \\left(- \\sin{\\left(\\theta_{1} \\right)} \\cos{\\left(\\theta_{2} \\right)} - \\sin{\\left(\\theta_{2} \\right)} \\cos{\\left(\\theta_{1} \\right)}\\right)}{4 r_{1}^{2}}$"
      ],
      "text/plain": [
       "5*epsilon*(-(-4*sin(theta_2)**3 + 3*sin(theta_2))*cos(theta_1) + (4*cos(theta_2)**3 - 3*cos(theta_2))*sin(theta_1))/(4*r_2**2) + epsilon*sin(theta_2)*cos(theta_2)/(r_1*r_2) - 3*epsilon*(-sin(theta_1)*cos(theta_2) - sin(theta_2)*cos(theta_1))/(4*r_1**2)"
      ]
     },
     "metadata": {},
     "output_type": "display_data"
    }
   ],
   "source": [
    "eq_rhs_close_neg = eq_rhs.subs({q1: Rational(1, 2), q2: -Rational(1, 2)})\n",
    "eq_rhs_close_neg = TR11(eq_rhs_close_neg)\n",
    "eq_rhs_close_neg = eq_rhs_close_neg.subs(triple_angle_theta2)\n",
    "\n",
    "display(eq_rhs_close_neg)"
   ]
  },
  {
   "cell_type": "code",
   "execution_count": 71,
   "id": "e3d8b14f",
   "metadata": {},
   "outputs": [
    {
     "data": {
      "text/latex": [
       "$\\displaystyle \\frac{\\epsilon \\left(3 r_{2}^{2} \\left(d + 2 r_{2} \\cos{\\left(\\theta_{2} \\right)}\\right) + 4 r_{2} \\left(d^{2} + 2 d r_{2} \\cos{\\left(\\theta_{2} \\right)} + r_{2}^{2}\\right) \\cos{\\left(\\theta_{2} \\right)} + 5 \\left(r_{2} \\cos{\\left(3 \\theta_{2} \\right)} + \\left(d + r_{2} \\cos{\\left(\\theta_{2} \\right)}\\right) \\left(4 \\sin^{2}{\\left(\\theta_{2} \\right)} - 3\\right)\\right) \\left(d^{2} + 2 d r_{2} \\cos{\\left(\\theta_{2} \\right)} + r_{2}^{2}\\right)\\right) \\sin{\\left(\\theta_{2} \\right)}}{4 r_{2}^{2} \\left(d^{2} + 2 d r_{2} \\cos{\\left(\\theta_{2} \\right)} + r_{2}^{2}\\right)^{\\frac{3}{2}}}$"
      ],
      "text/plain": [
       "epsilon*(3*r_2**2*(d + 2*r_2*cos(theta_2)) + 4*r_2*(d**2 + 2*d*r_2*cos(theta_2) + r_2**2)*cos(theta_2) + 5*(r_2*cos(3*theta_2) + (d + r_2*cos(theta_2))*(4*sin(theta_2)**2 - 3))*(d**2 + 2*d*r_2*cos(theta_2) + r_2**2))*sin(theta_2)/(4*r_2**2*(d**2 + 2*d*r_2*cos(theta_2) + r_2**2)**(3/2))"
      ]
     },
     "metadata": {},
     "output_type": "display_data"
    }
   ],
   "source": [
    "eq_rhs_close_neg = eq_rhs_close_neg.subs(theta1_subs_dict)\n",
    "eq_rhs_close_neg = eq_rhs_close_neg.subs(r1_subs_dict)\n",
    "eq_rhs_close_neg = simplify(eq_rhs_close_neg)\n",
    "display(eq_rhs_close_neg)"
   ]
  },
  {
   "cell_type": "code",
   "execution_count": 72,
   "id": "7024adc8",
   "metadata": {},
   "outputs": [
    {
     "data": {
      "text/latex": [
       "$\\displaystyle \\frac{\\epsilon \\left(- 10 d \\sin{\\left(3 \\theta_{2} \\right)} + r_{2} \\left(- \\sin{\\left(2 \\theta_{2} \\right)} + 5 \\sin{\\left(4 \\theta_{2} \\right)}\\right)\\right)}{8 d r_{2}^{2}}$"
      ],
      "text/plain": [
       "epsilon*(-10*d*sin(3*theta_2) + r_2*(-sin(2*theta_2) + 5*sin(4*theta_2)))/(8*d*r_2**2)"
      ]
     },
     "metadata": {},
     "output_type": "display_data"
    }
   ],
   "source": [
    "eq_rhs_close_neg = eq_rhs_close_neg.subs(r2, x * d)\n",
    "eq_rhs_close_neg_series = eq_rhs_close_neg.series(x, 0, 0).removeO()\n",
    "eq_rhs_close_neg_series = simplify(TR8(eq_rhs_close_neg_series).subs(x, r2/d))\n",
    "display(eq_rhs_close_neg_series)"
   ]
  },
  {
   "cell_type": "code",
   "execution_count": 73,
   "id": "baadfc91",
   "metadata": {},
   "outputs": [
    {
     "data": {
      "text/latex": [
       "$\\displaystyle - \\frac{\\epsilon}{8 d r_{2}}$"
      ],
      "text/plain": [
       "-epsilon/(8*d*r_2)"
      ]
     },
     "metadata": {},
     "output_type": "display_data"
    },
    {
     "data": {
      "text/latex": [
       "$\\displaystyle - \\frac{5 \\epsilon}{4 r_{2}^{2}}$"
      ],
      "text/plain": [
       "-5*epsilon/(4*r_2**2)"
      ]
     },
     "metadata": {},
     "output_type": "display_data"
    },
    {
     "data": {
      "text/latex": [
       "$\\displaystyle \\frac{5 \\epsilon}{8 d r_{2}}$"
      ],
      "text/plain": [
       "5*epsilon/(8*d*r_2)"
      ]
     },
     "metadata": {},
     "output_type": "display_data"
    }
   ],
   "source": [
    "mode_2_coeff = eq_rhs_close_neg_series.subs({sin(2 * theta2): 1, \n",
    "                                             sin(3 * theta2): 0,\n",
    "                                             sin(4 * theta2): 0})\n",
    "mode_3_coeff = eq_rhs_close_neg_series.subs({sin(2 * theta2): 0, \n",
    "                                             sin(3 * theta2): 1,\n",
    "                                             sin(4 * theta2): 0})\n",
    "mode_4_coeff = eq_rhs_close_neg_series.subs({sin(2 * theta2): 0, \n",
    "                                             sin(3 * theta2): 0,\n",
    "                                             sin(4 * theta2): 1})\n",
    "\n",
    "display(mode_2_coeff)\n",
    "display(mode_3_coeff)\n",
    "display(mode_4_coeff)"
   ]
  },
  {
   "cell_type": "code",
   "execution_count": 74,
   "id": "fd029dd0",
   "metadata": {},
   "outputs": [
    {
     "data": {
      "text/latex": [
       "$\\displaystyle \\frac{A \\sin{\\left(2 \\theta_{2} \\right)} + C \\sin{\\left(4 \\theta_{2} \\right)}}{r_{2}} - \\frac{4 A r_{2} \\sin{\\left(2 \\theta_{2} \\right)} + 9 B \\sin{\\left(3 \\theta_{2} \\right)} + 16 C r_{2} \\sin{\\left(4 \\theta_{2} \\right)}}{r_{2}^{2}}$"
      ],
      "text/plain": [
       "(A*sin(2*theta_2) + C*sin(4*theta_2))/r_2 - (4*A*r_2*sin(2*theta_2) + 9*B*sin(3*theta_2) + 16*C*r_2*sin(4*theta_2))/r_2**2"
      ]
     },
     "metadata": {},
     "output_type": "display_data"
    }
   ],
   "source": [
    "sol = A * r2 * sin(2*theta2) + B * sin(3*theta2) + C * r2 * sin(4*theta2)\n",
    "\n",
    "lap_sol = sol.diff(r2, 2) + (1/r2) * sol.diff(r2) + (1/r2**2) * sol.diff(theta2, 2)\n",
    "display(lap_sol)"
   ]
  },
  {
   "cell_type": "code",
   "execution_count": 75,
   "id": "b2df7d10",
   "metadata": {},
   "outputs": [
    {
     "data": {
      "text/latex": [
       "$\\displaystyle - \\frac{3 A}{r_{2}}$"
      ],
      "text/plain": [
       "-3*A/r_2"
      ]
     },
     "metadata": {},
     "output_type": "display_data"
    },
    {
     "data": {
      "text/latex": [
       "$\\displaystyle - \\frac{9 B}{r_{2}^{2}}$"
      ],
      "text/plain": [
       "-9*B/r_2**2"
      ]
     },
     "metadata": {},
     "output_type": "display_data"
    },
    {
     "data": {
      "text/latex": [
       "$\\displaystyle - \\frac{15 C}{r_{2}}$"
      ],
      "text/plain": [
       "-15*C/r_2"
      ]
     },
     "metadata": {},
     "output_type": "display_data"
    }
   ],
   "source": [
    "mode_2_guess = lap_sol.subs({sin(2 * theta2): 1, \n",
    "                             sin(3 * theta2): 0,\n",
    "                             sin(4 * theta2): 0})\n",
    "mode_3_guess = lap_sol.subs({sin(2 * theta2): 0, \n",
    "                             sin(3 * theta2): 1,\n",
    "                             sin(4 * theta2): 0})\n",
    "mode_4_guess = lap_sol.subs({sin(2 * theta2): 0, \n",
    "                             sin(3 * theta2): 0,\n",
    "                             sin(4 * theta2): 1})\n",
    "\n",
    "display(mode_2_guess)\n",
    "display(mode_3_guess)\n",
    "display(mode_4_guess)"
   ]
  },
  {
   "cell_type": "code",
   "execution_count": 76,
   "id": "47d9e5f7",
   "metadata": {},
   "outputs": [
    {
     "data": {
      "text/latex": [
       "$\\displaystyle \\frac{\\epsilon}{24 d}$"
      ],
      "text/plain": [
       "epsilon/(24*d)"
      ]
     },
     "metadata": {},
     "output_type": "display_data"
    },
    {
     "data": {
      "text/latex": [
       "$\\displaystyle \\frac{5 \\epsilon}{36}$"
      ],
      "text/plain": [
       "5*epsilon/36"
      ]
     },
     "metadata": {},
     "output_type": "display_data"
    },
    {
     "data": {
      "text/latex": [
       "$\\displaystyle - \\frac{\\epsilon}{24 d}$"
      ],
      "text/plain": [
       "-epsilon/(24*d)"
      ]
     },
     "metadata": {},
     "output_type": "display_data"
    }
   ],
   "source": [
    "A_sol = solve(Eq(mode_2_coeff, mode_2_guess), A)[0]\n",
    "B_sol = solve(Eq(mode_3_coeff, mode_3_guess), B)[0]\n",
    "C_sol = solve(Eq(mode_4_coeff, mode_4_guess), C)[0]\n",
    "\n",
    "display(A_sol)\n",
    "display(B_sol)\n",
    "display(C_sol)"
   ]
  },
  {
   "cell_type": "code",
   "execution_count": 77,
   "id": "5606aa22",
   "metadata": {},
   "outputs": [
    {
     "data": {
      "text/latex": [
       "$\\displaystyle \\frac{5 \\epsilon \\sin{\\left(3 \\theta_{2} \\right)}}{36} + \\frac{\\epsilon r_{2} \\sin{\\left(2 \\theta_{2} \\right)}}{24 d} - \\frac{\\epsilon r_{2} \\sin{\\left(4 \\theta_{2} \\right)}}{24 d}$"
      ],
      "text/plain": [
       "5*epsilon*sin(3*theta_2)/36 + epsilon*r_2*sin(2*theta_2)/(24*d) - epsilon*r_2*sin(4*theta_2)/(24*d)"
      ]
     },
     "metadata": {},
     "output_type": "display_data"
    }
   ],
   "source": [
    "close_to_q2 = {A: A_sol, B: B_sol, C: C_sol}\n",
    "display( sol.subs(close_to_q2) )"
   ]
  },
  {
   "cell_type": "markdown",
   "id": "307be475",
   "metadata": {},
   "source": [
    "This is exactly Carter's solution for $q_1 = -1/2$, $q_2 = 1/2$ which is notably a different isomorph from ours"
   ]
  },
  {
   "cell_type": "markdown",
   "id": "d48dc03a",
   "metadata": {},
   "source": [
    "### $q_1 = -1/2$, $q_2 = 1/2$, Solving for $q_1$"
   ]
  },
  {
   "cell_type": "code",
   "execution_count": 78,
   "id": "2aa3fede",
   "metadata": {},
   "outputs": [
    {
     "data": {
      "text/latex": [
       "$\\displaystyle - \\frac{3 \\epsilon \\left(- \\sin{\\left(\\theta_{1} \\right)} \\cos{\\left(\\theta_{2} \\right)} - \\sin{\\left(\\theta_{2} \\right)} \\cos{\\left(\\theta_{1} \\right)}\\right)}{4 r_{2}^{2}} + \\frac{\\epsilon \\sin{\\left(\\theta_{1} \\right)} \\cos{\\left(\\theta_{1} \\right)}}{r_{1} r_{2}} + \\frac{5 \\epsilon \\left(- \\left(- 4 \\sin^{3}{\\left(\\theta_{1} \\right)} + 3 \\sin{\\left(\\theta_{1} \\right)}\\right) \\cos{\\left(\\theta_{2} \\right)} + \\left(4 \\cos^{3}{\\left(\\theta_{1} \\right)} - 3 \\cos{\\left(\\theta_{1} \\right)}\\right) \\sin{\\left(\\theta_{2} \\right)}\\right)}{4 r_{1}^{2}}$"
      ],
      "text/plain": [
       "-3*epsilon*(-sin(theta_1)*cos(theta_2) - sin(theta_2)*cos(theta_1))/(4*r_2**2) + epsilon*sin(theta_1)*cos(theta_1)/(r_1*r_2) + 5*epsilon*(-(-4*sin(theta_1)**3 + 3*sin(theta_1))*cos(theta_2) + (4*cos(theta_1)**3 - 3*cos(theta_1))*sin(theta_2))/(4*r_1**2)"
      ]
     },
     "metadata": {},
     "output_type": "display_data"
    }
   ],
   "source": [
    "eq_rhs_close_neg = eq_rhs.subs({q1: -Rational(1, 2), q2: Rational(1, 2)})\n",
    "eq_rhs_close_neg = TR11(eq_rhs_close_neg)\n",
    "eq_rhs_close_neg = eq_rhs_close_neg.subs(triple_angle_theta1)\n",
    "\n",
    "display(eq_rhs_close_neg)"
   ]
  },
  {
   "cell_type": "code",
   "execution_count": 79,
   "id": "f3e44311",
   "metadata": {},
   "outputs": [
    {
     "data": {
      "text/latex": [
       "$\\displaystyle \\frac{\\epsilon \\left(3 r_{1}^{2} \\left(- d + 2 r_{1} \\cos{\\left(\\theta_{1} \\right)}\\right) + 4 r_{1} \\left(d^{2} - 2 d r_{1} \\cos{\\left(\\theta_{1} \\right)} + r_{1}^{2}\\right) \\cos{\\left(\\theta_{1} \\right)} + 5 \\left(r_{1} \\cos{\\left(3 \\theta_{1} \\right)} - \\left(d - r_{1} \\cos{\\left(\\theta_{1} \\right)}\\right) \\left(4 \\sin^{2}{\\left(\\theta_{1} \\right)} - 3\\right)\\right) \\left(d^{2} - 2 d r_{1} \\cos{\\left(\\theta_{1} \\right)} + r_{1}^{2}\\right)\\right) \\sin{\\left(\\theta_{1} \\right)}}{4 r_{1}^{2} \\left(d^{2} - 2 d r_{1} \\cos{\\left(\\theta_{1} \\right)} + r_{1}^{2}\\right)^{\\frac{3}{2}}}$"
      ],
      "text/plain": [
       "epsilon*(3*r_1**2*(-d + 2*r_1*cos(theta_1)) + 4*r_1*(d**2 - 2*d*r_1*cos(theta_1) + r_1**2)*cos(theta_1) + 5*(r_1*cos(3*theta_1) - (d - r_1*cos(theta_1))*(4*sin(theta_1)**2 - 3))*(d**2 - 2*d*r_1*cos(theta_1) + r_1**2))*sin(theta_1)/(4*r_1**2*(d**2 - 2*d*r_1*cos(theta_1) + r_1**2)**(3/2))"
      ]
     },
     "metadata": {},
     "output_type": "display_data"
    }
   ],
   "source": [
    "eq_rhs_close_neg = eq_rhs_close_neg.subs(theta2_subs_dict)\n",
    "eq_rhs_close_neg = eq_rhs_close_neg.subs(r2_subs_dict)\n",
    "eq_rhs_close_neg = simplify(eq_rhs_close_neg)\n",
    "display(eq_rhs_close_neg)"
   ]
  },
  {
   "cell_type": "code",
   "execution_count": 80,
   "id": "b141675b",
   "metadata": {},
   "outputs": [
    {
     "data": {
      "text/latex": [
       "$\\displaystyle \\frac{\\epsilon \\left(10 d \\sin{\\left(3 \\theta_{1} \\right)} + r_{1} \\left(- \\sin{\\left(2 \\theta_{1} \\right)} + 5 \\sin{\\left(4 \\theta_{1} \\right)}\\right)\\right)}{8 d r_{1}^{2}}$"
      ],
      "text/plain": [
       "epsilon*(10*d*sin(3*theta_1) + r_1*(-sin(2*theta_1) + 5*sin(4*theta_1)))/(8*d*r_1**2)"
      ]
     },
     "metadata": {},
     "output_type": "display_data"
    }
   ],
   "source": [
    "eq_rhs_close_neg = eq_rhs_close_neg.subs(r1, x * d)\n",
    "eq_rhs_close_neg_series = eq_rhs_close_neg.series(x, 0, 0).removeO()\n",
    "eq_rhs_close_neg_series = simplify(TR8(eq_rhs_close_neg_series).subs(x, r1/d))\n",
    "display(eq_rhs_close_neg_series)"
   ]
  },
  {
   "cell_type": "code",
   "execution_count": 81,
   "id": "18cdbf77",
   "metadata": {},
   "outputs": [
    {
     "data": {
      "text/latex": [
       "$\\displaystyle - \\frac{\\epsilon}{8 d r_{1}}$"
      ],
      "text/plain": [
       "-epsilon/(8*d*r_1)"
      ]
     },
     "metadata": {},
     "output_type": "display_data"
    },
    {
     "data": {
      "text/latex": [
       "$\\displaystyle \\frac{5 \\epsilon}{4 r_{1}^{2}}$"
      ],
      "text/plain": [
       "5*epsilon/(4*r_1**2)"
      ]
     },
     "metadata": {},
     "output_type": "display_data"
    },
    {
     "data": {
      "text/latex": [
       "$\\displaystyle \\frac{5 \\epsilon}{8 d r_{1}}$"
      ],
      "text/plain": [
       "5*epsilon/(8*d*r_1)"
      ]
     },
     "metadata": {},
     "output_type": "display_data"
    }
   ],
   "source": [
    "mode_2_coeff = eq_rhs_close_neg_series.subs({sin(2 * theta1): 1, \n",
    "                                             sin(3 * theta1): 0,\n",
    "                                             sin(4 * theta1): 0})\n",
    "mode_3_coeff = eq_rhs_close_neg_series.subs({sin(2 * theta1): 0, \n",
    "                                             sin(3 * theta1): 1,\n",
    "                                             sin(4 * theta1): 0})\n",
    "mode_4_coeff = eq_rhs_close_neg_series.subs({sin(2 * theta1): 0, \n",
    "                                             sin(3 * theta1): 0,\n",
    "                                             sin(4 * theta1): 1})\n",
    "\n",
    "display(mode_2_coeff)\n",
    "display(mode_3_coeff)\n",
    "display(mode_4_coeff)"
   ]
  },
  {
   "cell_type": "code",
   "execution_count": 82,
   "id": "51d8251e",
   "metadata": {},
   "outputs": [
    {
     "data": {
      "text/latex": [
       "$\\displaystyle \\frac{A \\sin{\\left(2 \\theta_{1} \\right)} + C \\sin{\\left(4 \\theta_{1} \\right)}}{r_{1}} - \\frac{4 A r_{1} \\sin{\\left(2 \\theta_{1} \\right)} + 9 B \\sin{\\left(3 \\theta_{1} \\right)} + 16 C r_{1} \\sin{\\left(4 \\theta_{1} \\right)}}{r_{1}^{2}}$"
      ],
      "text/plain": [
       "(A*sin(2*theta_1) + C*sin(4*theta_1))/r_1 - (4*A*r_1*sin(2*theta_1) + 9*B*sin(3*theta_1) + 16*C*r_1*sin(4*theta_1))/r_1**2"
      ]
     },
     "metadata": {},
     "output_type": "display_data"
    }
   ],
   "source": [
    "sol = A * r1 * sin(2*theta1) + B * sin(3*theta1) + C * r1 * sin(4*theta1)\n",
    "\n",
    "lap_sol = sol.diff(r1, 2) + (1/r1) * sol.diff(r1) + (1/r1**2) * sol.diff(theta1, 2)\n",
    "display(lap_sol)"
   ]
  },
  {
   "cell_type": "code",
   "execution_count": 83,
   "id": "f46207ac",
   "metadata": {},
   "outputs": [
    {
     "data": {
      "text/latex": [
       "$\\displaystyle - \\frac{3 A}{r_{1}}$"
      ],
      "text/plain": [
       "-3*A/r_1"
      ]
     },
     "metadata": {},
     "output_type": "display_data"
    },
    {
     "data": {
      "text/latex": [
       "$\\displaystyle - \\frac{9 B}{r_{1}^{2}}$"
      ],
      "text/plain": [
       "-9*B/r_1**2"
      ]
     },
     "metadata": {},
     "output_type": "display_data"
    },
    {
     "data": {
      "text/latex": [
       "$\\displaystyle - \\frac{15 C}{r_{1}}$"
      ],
      "text/plain": [
       "-15*C/r_1"
      ]
     },
     "metadata": {},
     "output_type": "display_data"
    }
   ],
   "source": [
    "mode_2_guess = lap_sol.subs({sin(2 * theta1): 1, \n",
    "                             sin(3 * theta1): 0,\n",
    "                             sin(4 * theta1): 0})\n",
    "mode_3_guess = lap_sol.subs({sin(2 * theta1): 0, \n",
    "                             sin(3 * theta1): 1,\n",
    "                             sin(4 * theta1): 0})\n",
    "mode_4_guess = lap_sol.subs({sin(2 * theta1): 0, \n",
    "                             sin(3 * theta1): 0,\n",
    "                             sin(4 * theta1): 1})\n",
    "\n",
    "display(mode_2_guess)\n",
    "display(mode_3_guess)\n",
    "display(mode_4_guess)"
   ]
  },
  {
   "cell_type": "code",
   "execution_count": 84,
   "id": "07bbcf17",
   "metadata": {},
   "outputs": [
    {
     "data": {
      "text/latex": [
       "$\\displaystyle \\frac{\\epsilon}{24 d}$"
      ],
      "text/plain": [
       "epsilon/(24*d)"
      ]
     },
     "metadata": {},
     "output_type": "display_data"
    },
    {
     "data": {
      "text/latex": [
       "$\\displaystyle - \\frac{5 \\epsilon}{36}$"
      ],
      "text/plain": [
       "-5*epsilon/36"
      ]
     },
     "metadata": {},
     "output_type": "display_data"
    },
    {
     "data": {
      "text/latex": [
       "$\\displaystyle - \\frac{\\epsilon}{24 d}$"
      ],
      "text/plain": [
       "-epsilon/(24*d)"
      ]
     },
     "metadata": {},
     "output_type": "display_data"
    }
   ],
   "source": [
    "A_sol = solve(Eq(mode_2_coeff, mode_2_guess), A)[0]\n",
    "B_sol = solve(Eq(mode_3_coeff, mode_3_guess), B)[0]\n",
    "C_sol = solve(Eq(mode_4_coeff, mode_4_guess), C)[0]\n",
    "\n",
    "display(A_sol)\n",
    "display(B_sol)\n",
    "display(C_sol)"
   ]
  },
  {
   "cell_type": "code",
   "execution_count": 85,
   "id": "6035459b",
   "metadata": {},
   "outputs": [
    {
     "data": {
      "text/latex": [
       "$\\displaystyle - \\frac{5 \\epsilon \\sin{\\left(3 \\theta_{1} \\right)}}{36} + \\frac{\\epsilon r_{1} \\sin{\\left(2 \\theta_{1} \\right)}}{24 d} - \\frac{\\epsilon r_{1} \\sin{\\left(4 \\theta_{1} \\right)}}{24 d}$"
      ],
      "text/plain": [
       "-5*epsilon*sin(3*theta_1)/36 + epsilon*r_1*sin(2*theta_1)/(24*d) - epsilon*r_1*sin(4*theta_1)/(24*d)"
      ]
     },
     "metadata": {},
     "output_type": "display_data"
    }
   ],
   "source": [
    "close_to_q1 = {A: A_sol, B: B_sol, C: C_sol}\n",
    "display( sol.subs(close_to_q1) )"
   ]
  },
  {
   "cell_type": "markdown",
   "id": "98403dd2",
   "metadata": {},
   "source": [
    "Great, this is what Carter gets (although I guess there's a sign difference in the single-defect Dzyaloshinskii approximation portion, he does not mention that)"
   ]
  },
  {
   "cell_type": "markdown",
   "id": "3b116c4f",
   "metadata": {},
   "source": [
    "### Solving for $q_2$"
   ]
  },
  {
   "cell_type": "code",
   "execution_count": 86,
   "id": "626c2818",
   "metadata": {},
   "outputs": [
    {
     "data": {
      "text/latex": [
       "$\\displaystyle - \\frac{3 \\epsilon \\left(- \\sin{\\left(\\theta_{1} \\right)} \\cos{\\left(\\theta_{2} \\right)} - \\sin{\\left(\\theta_{2} \\right)} \\cos{\\left(\\theta_{1} \\right)}\\right)}{4 r_{2}^{2}} + \\frac{\\epsilon \\sin{\\left(\\theta_{1} \\right)} \\cos{\\left(\\theta_{1} \\right)}}{r_{1} r_{2}} + \\frac{5 \\epsilon \\left(- \\left(- 4 \\sin^{3}{\\left(\\theta_{1} \\right)} + 3 \\sin{\\left(\\theta_{1} \\right)}\\right) \\cos{\\left(\\theta_{2} \\right)} + \\left(4 \\cos^{3}{\\left(\\theta_{1} \\right)} - 3 \\cos{\\left(\\theta_{1} \\right)}\\right) \\sin{\\left(\\theta_{2} \\right)}\\right)}{4 r_{1}^{2}}$"
      ],
      "text/plain": [
       "-3*epsilon*(-sin(theta_1)*cos(theta_2) - sin(theta_2)*cos(theta_1))/(4*r_2**2) + epsilon*sin(theta_1)*cos(theta_1)/(r_1*r_2) + 5*epsilon*(-(-4*sin(theta_1)**3 + 3*sin(theta_1))*cos(theta_2) + (4*cos(theta_1)**3 - 3*cos(theta_1))*sin(theta_2))/(4*r_1**2)"
      ]
     },
     "metadata": {},
     "output_type": "display_data"
    }
   ],
   "source": [
    "eq_rhs_close_pos = eq_rhs.subs({q1: -Rational(1, 2), q2: Rational(1, 2)})\n",
    "eq_rhs_close_pos = TR7(TR11(eq_rhs_close_pos))\n",
    "eq_rhs_close_pos = eq_rhs_close_pos.subs(triple_angle_theta1)\n",
    "\n",
    "display(eq_rhs_close_pos)"
   ]
  },
  {
   "cell_type": "code",
   "execution_count": 87,
   "id": "eaa72ba5",
   "metadata": {},
   "outputs": [
    {
     "data": {
      "text/latex": [
       "$\\displaystyle \\frac{d \\epsilon \\left(3 d^{4} + 18 d^{3} r_{2} \\cos{\\left(\\theta_{2} \\right)} + 36 d^{2} r_{2}^{2} \\cos^{2}{\\left(\\theta_{2} \\right)} + 15 d^{2} r_{2}^{2} + 24 d r_{2}^{3} \\cos^{3}{\\left(\\theta_{2} \\right)} + 36 d r_{2}^{3} \\cos{\\left(\\theta_{2} \\right)} + 32 r_{2}^{4} \\cos^{2}{\\left(\\theta_{2} \\right)} - 8 r_{2}^{4}\\right) \\sin{\\left(\\theta_{2} \\right)}}{4 r_{2}^{2} \\left(d^{2} + 2 d r_{2} \\cos{\\left(\\theta_{2} \\right)} + r_{2}^{2}\\right)^{\\frac{5}{2}}}$"
      ],
      "text/plain": [
       "d*epsilon*(3*d**4 + 18*d**3*r_2*cos(theta_2) + 36*d**2*r_2**2*cos(theta_2)**2 + 15*d**2*r_2**2 + 24*d*r_2**3*cos(theta_2)**3 + 36*d*r_2**3*cos(theta_2) + 32*r_2**4*cos(theta_2)**2 - 8*r_2**4)*sin(theta_2)/(4*r_2**2*(d**2 + 2*d*r_2*cos(theta_2) + r_2**2)**(5/2))"
      ]
     },
     "metadata": {},
     "output_type": "display_data"
    }
   ],
   "source": [
    "eq_rhs_close_pos = eq_rhs_close_pos.subs(theta1_subs_dict)\n",
    "eq_rhs_close_pos = eq_rhs_close_pos.subs(r1_subs_dict)\n",
    "eq_rhs_close_pos = simplify(eq_rhs_close_pos)\n",
    "display(eq_rhs_close_pos)"
   ]
  },
  {
   "cell_type": "code",
   "execution_count": 88,
   "id": "f15a4fa8",
   "metadata": {},
   "outputs": [
    {
     "data": {
      "text/latex": [
       "$\\displaystyle \\frac{3 \\epsilon \\sin{\\left(\\theta_{2} \\right)}}{4 r_{2}^{2}} + \\frac{3 \\epsilon \\sin{\\left(2 \\theta_{2} \\right)}}{8 d r_{2}}$"
      ],
      "text/plain": [
       "3*epsilon*sin(theta_2)/(4*r_2**2) + 3*epsilon*sin(2*theta_2)/(8*d*r_2)"
      ]
     },
     "metadata": {},
     "output_type": "display_data"
    }
   ],
   "source": [
    "eq_rhs_close_pos = eq_rhs_close_pos.subs(r2, x * d)\n",
    "eq_rhs_close_pos_series = expand(eq_rhs_close_pos.series(x, 0, 0).removeO())\n",
    "eq_rhs_close_pos_series = TR8(expand(eq_rhs_close_pos_series)).subs(x, r2/d)\n",
    "display(eq_rhs_close_pos_series)"
   ]
  },
  {
   "cell_type": "code",
   "execution_count": 89,
   "id": "c9f3aeaf",
   "metadata": {},
   "outputs": [
    {
     "data": {
      "text/latex": [
       "$\\displaystyle \\frac{3 \\epsilon}{4 r_{2}^{2}}$"
      ],
      "text/plain": [
       "3*epsilon/(4*r_2**2)"
      ]
     },
     "metadata": {},
     "output_type": "display_data"
    },
    {
     "data": {
      "text/latex": [
       "$\\displaystyle \\frac{3 \\epsilon}{8 d r_{2}}$"
      ],
      "text/plain": [
       "3*epsilon/(8*d*r_2)"
      ]
     },
     "metadata": {},
     "output_type": "display_data"
    }
   ],
   "source": [
    "mode_1_coeff = eq_rhs_close_pos_series.subs({sin(theta2): 1, \n",
    "                                             sin(2 * theta2): 0})\n",
    "mode_2_coeff = eq_rhs_close_pos_series.subs({sin(theta2): 0, \n",
    "                                             sin(2 * theta2): 1})\n",
    "\n",
    "display(mode_1_coeff)\n",
    "display(mode_2_coeff)"
   ]
  },
  {
   "cell_type": "code",
   "execution_count": 90,
   "id": "18ca86f1",
   "metadata": {},
   "outputs": [
    {
     "data": {
      "text/latex": [
       "$\\displaystyle \\frac{A \\sin{\\left(2 \\theta_{2} \\right)}}{r_{2}} - \\frac{4 A r_{2} \\sin{\\left(2 \\theta_{2} \\right)} + B \\sin{\\left(\\theta_{2} \\right)}}{r_{2}^{2}}$"
      ],
      "text/plain": [
       "A*sin(2*theta_2)/r_2 - (4*A*r_2*sin(2*theta_2) + B*sin(theta_2))/r_2**2"
      ]
     },
     "metadata": {},
     "output_type": "display_data"
    }
   ],
   "source": [
    "sol = A * r2 * sin(2*theta2) + B * sin(theta2)\n",
    "\n",
    "lap_sol = sol.diff(r2, 2) + (1/r2) * sol.diff(r2) + (1/r2**2) * sol.diff(theta2, 2)\n",
    "display(lap_sol)"
   ]
  },
  {
   "cell_type": "code",
   "execution_count": 91,
   "id": "ed56c299",
   "metadata": {},
   "outputs": [
    {
     "data": {
      "text/latex": [
       "$\\displaystyle - \\frac{B}{r_{2}^{2}}$"
      ],
      "text/plain": [
       "-B/r_2**2"
      ]
     },
     "metadata": {},
     "output_type": "display_data"
    },
    {
     "data": {
      "text/latex": [
       "$\\displaystyle - \\frac{3 A}{r_{2}}$"
      ],
      "text/plain": [
       "-3*A/r_2"
      ]
     },
     "metadata": {},
     "output_type": "display_data"
    }
   ],
   "source": [
    "mode_1_guess = lap_sol.subs({sin(theta2): 1, \n",
    "                             sin(2 * theta2): 0})\n",
    "mode_2_guess = lap_sol.subs({sin(theta2): 0, \n",
    "                             sin(2 * theta2): 1})\n",
    "\n",
    "display(mode_1_guess)\n",
    "display(mode_2_guess)"
   ]
  },
  {
   "cell_type": "code",
   "execution_count": 92,
   "id": "244017f5",
   "metadata": {},
   "outputs": [
    {
     "data": {
      "text/latex": [
       "$\\displaystyle - \\frac{\\epsilon}{8 d}$"
      ],
      "text/plain": [
       "-epsilon/(8*d)"
      ]
     },
     "metadata": {},
     "output_type": "display_data"
    },
    {
     "data": {
      "text/latex": [
       "$\\displaystyle - \\frac{3 \\epsilon}{4}$"
      ],
      "text/plain": [
       "-3*epsilon/4"
      ]
     },
     "metadata": {},
     "output_type": "display_data"
    }
   ],
   "source": [
    "A_sol = solve(Eq(mode_2_coeff, mode_2_guess), A)[0]\n",
    "B_sol = solve(Eq(mode_1_coeff, mode_1_guess), B)[0]\n",
    "\n",
    "display(A_sol)\n",
    "display(B_sol)"
   ]
  },
  {
   "cell_type": "code",
   "execution_count": 93,
   "id": "d4ab6c2d",
   "metadata": {},
   "outputs": [
    {
     "data": {
      "text/latex": [
       "$\\displaystyle - \\frac{3 \\epsilon \\sin{\\left(\\theta_{2} \\right)}}{4} - \\frac{\\epsilon r_{2} \\sin{\\left(2 \\theta_{2} \\right)}}{8 d}$"
      ],
      "text/plain": [
       "-3*epsilon*sin(theta_2)/4 - epsilon*r_2*sin(2*theta_2)/(8*d)"
      ]
     },
     "metadata": {},
     "output_type": "display_data"
    }
   ],
   "source": [
    "close_to_q2 = {A: A_sol, B: B_sol}\n",
    "display( sol.subs(close_to_q2) )"
   ]
  },
  {
   "cell_type": "markdown",
   "id": "5b79e428",
   "metadata": {},
   "source": [
    "Looks like the two-defect anisotropic term is the same sign, but the single-defect anisotropic term is a different sign"
   ]
  }
 ],
 "metadata": {
  "kernelspec": {
   "display_name": "Python 3 (ipykernel)",
   "language": "python",
   "name": "python3"
  },
  "language_info": {
   "codemirror_mode": {
    "name": "ipython",
    "version": 3
   },
   "file_extension": ".py",
   "mimetype": "text/x-python",
   "name": "python",
   "nbconvert_exporter": "python",
   "pygments_lexer": "ipython3",
   "version": "3.9.7"
  }
 },
 "nbformat": 4,
 "nbformat_minor": 5
}
