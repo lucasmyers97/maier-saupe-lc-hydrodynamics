{
 "cells": [
  {
   "cell_type": "code",
   "execution_count": 67,
   "id": "3c646fe9",
   "metadata": {},
   "outputs": [],
   "source": [
    "from sympy import *\n",
    "from sympy.vector import CoordSys3D, Del\n",
    "from sympy.simplify.epathtools import EPath"
   ]
  },
  {
   "cell_type": "code",
   "execution_count": 2,
   "id": "e7d87623",
   "metadata": {},
   "outputs": [],
   "source": [
    "R = CoordSys3D('R')\n",
    "delop = Del()\n",
    "x = R.x\n",
    "y = R.y\n",
    "\n",
    "eps, theta, r = symbols('epsilon theta r')\n",
    "nx = Function('n_x')(x, y)\n",
    "ny = Function('n_y')(x, y)"
   ]
  },
  {
   "cell_type": "code",
   "execution_count": 3,
   "id": "5dee171f",
   "metadata": {},
   "outputs": [
    {
     "data": {
      "text/latex": [
       "$\\displaystyle (\\operatorname{n_{x}}{\\left(\\mathbf{{x}_{R}},\\mathbf{{y}_{R}} \\right)})\\mathbf{\\hat{i}_{R}} + (\\operatorname{n_{y}}{\\left(\\mathbf{{x}_{R}},\\mathbf{{y}_{R}} \\right)})\\mathbf{\\hat{j}_{R}}$"
      ],
      "text/plain": [
       "(n_x(R.x, R.y))*R.i + (n_y(R.x, R.y))*R.j"
      ]
     },
     "execution_count": 3,
     "metadata": {},
     "output_type": "execute_result"
    }
   ],
   "source": [
    "n = nx * R.i + ny * R.j\n",
    "n"
   ]
  },
  {
   "cell_type": "markdown",
   "id": "18b60c3a",
   "metadata": {},
   "source": [
    "### Calculate charge density"
   ]
  },
  {
   "cell_type": "code",
   "execution_count": 4,
   "id": "cbdcda0b",
   "metadata": {},
   "outputs": [
    {
     "data": {
      "text/latex": [
       "$\\displaystyle \\left(\\frac{\\partial}{\\partial \\mathbf{{x}_{R}}} \\operatorname{n_{x}}{\\left(\\mathbf{{x}_{R}},\\mathbf{{y}_{R}} \\right)} + \\frac{\\partial}{\\partial \\mathbf{{y}_{R}}} \\operatorname{n_{y}}{\\left(\\mathbf{{x}_{R}},\\mathbf{{y}_{R}} \\right)}\\right)^{2}$"
      ],
      "text/plain": [
       "(Derivative(n_x(R.x, R.y), R.x) + Derivative(n_y(R.x, R.y), R.y))**2"
      ]
     },
     "execution_count": 4,
     "metadata": {},
     "output_type": "execute_result"
    }
   ],
   "source": [
    "splay = simplify( delop.dot(n).doit()**2 )\n",
    "splay"
   ]
  },
  {
   "cell_type": "code",
   "execution_count": 5,
   "id": "7fcfde91",
   "metadata": {},
   "outputs": [
    {
     "data": {
      "text/latex": [
       "$\\displaystyle \\left(\\frac{\\partial}{\\partial \\mathbf{{y}_{R}}} \\operatorname{n_{x}}{\\left(\\mathbf{{x}_{R}},\\mathbf{{y}_{R}} \\right)} - \\frac{\\partial}{\\partial \\mathbf{{x}_{R}}} \\operatorname{n_{y}}{\\left(\\mathbf{{x}_{R}},\\mathbf{{y}_{R}} \\right)}\\right)^{2}$"
      ],
      "text/plain": [
       "(Derivative(n_x(R.x, R.y), R.y) - Derivative(n_y(R.x, R.y), R.x))**2"
      ]
     },
     "execution_count": 5,
     "metadata": {},
     "output_type": "execute_result"
    }
   ],
   "source": [
    "bend = simplify( n.cross( delop.cross(n).doit() ).magnitude()**2 )\n",
    "bend = bend.subs(nx**2 + ny**2, 1)\n",
    "bend"
   ]
  },
  {
   "cell_type": "code",
   "execution_count": 6,
   "id": "554bb2cf",
   "metadata": {},
   "outputs": [
    {
     "data": {
      "text/latex": [
       "$\\displaystyle \\left(1 - \\epsilon\\right) \\left(\\frac{\\partial}{\\partial \\mathbf{{y}_{R}}} \\operatorname{n_{x}}{\\left(\\mathbf{{x}_{R}},\\mathbf{{y}_{R}} \\right)} - \\frac{\\partial}{\\partial \\mathbf{{x}_{R}}} \\operatorname{n_{y}}{\\left(\\mathbf{{x}_{R}},\\mathbf{{y}_{R}} \\right)}\\right)^{2} + \\left(\\epsilon + 1\\right) \\left(\\frac{\\partial}{\\partial \\mathbf{{x}_{R}}} \\operatorname{n_{x}}{\\left(\\mathbf{{x}_{R}},\\mathbf{{y}_{R}} \\right)} + \\frac{\\partial}{\\partial \\mathbf{{y}_{R}}} \\operatorname{n_{y}}{\\left(\\mathbf{{x}_{R}},\\mathbf{{y}_{R}} \\right)}\\right)^{2}$"
      ],
      "text/plain": [
       "(1 - epsilon)*(Derivative(n_x(R.x, R.y), R.y) - Derivative(n_y(R.x, R.y), R.x))**2 + (epsilon + 1)*(Derivative(n_x(R.x, R.y), R.x) + Derivative(n_y(R.x, R.y), R.y))**2"
      ]
     },
     "execution_count": 6,
     "metadata": {},
     "output_type": "execute_result"
    }
   ],
   "source": [
    "g = (1 + eps) * splay + (1 - eps) * bend\n",
    "g"
   ]
  },
  {
   "cell_type": "markdown",
   "id": "41caa2c8",
   "metadata": {},
   "source": [
    "### Calculate in terms of director angle"
   ]
  },
  {
   "cell_type": "code",
   "execution_count": 7,
   "id": "eef8af42",
   "metadata": {},
   "outputs": [
    {
     "data": {
      "text/latex": [
       "$\\displaystyle \\phi{\\left(\\mathbf{{x}_{R}},\\mathbf{{y}_{R}} \\right)}$"
      ],
      "text/plain": [
       "phi(R.x, R.y)"
      ]
     },
     "execution_count": 7,
     "metadata": {},
     "output_type": "execute_result"
    }
   ],
   "source": [
    "phi = Function('phi')(x, y)\n",
    "phi"
   ]
  },
  {
   "cell_type": "code",
   "execution_count": 8,
   "id": "3141116d",
   "metadata": {},
   "outputs": [
    {
     "data": {
      "text/latex": [
       "$\\displaystyle \\left(1 - \\epsilon\\right) \\left(\\sin{\\left(\\phi{\\left(\\mathbf{{x}_{R}},\\mathbf{{y}_{R}} \\right)} \\right)} \\frac{\\partial}{\\partial \\mathbf{{y}_{R}}} \\phi{\\left(\\mathbf{{x}_{R}},\\mathbf{{y}_{R}} \\right)} + \\cos{\\left(\\phi{\\left(\\mathbf{{x}_{R}},\\mathbf{{y}_{R}} \\right)} \\right)} \\frac{\\partial}{\\partial \\mathbf{{x}_{R}}} \\phi{\\left(\\mathbf{{x}_{R}},\\mathbf{{y}_{R}} \\right)}\\right)^{2} + \\left(\\epsilon + 1\\right) \\left(- \\sin{\\left(\\phi{\\left(\\mathbf{{x}_{R}},\\mathbf{{y}_{R}} \\right)} \\right)} \\frac{\\partial}{\\partial \\mathbf{{x}_{R}}} \\phi{\\left(\\mathbf{{x}_{R}},\\mathbf{{y}_{R}} \\right)} + \\cos{\\left(\\phi{\\left(\\mathbf{{x}_{R}},\\mathbf{{y}_{R}} \\right)} \\right)} \\frac{\\partial}{\\partial \\mathbf{{y}_{R}}} \\phi{\\left(\\mathbf{{x}_{R}},\\mathbf{{y}_{R}} \\right)}\\right)^{2}$"
      ],
      "text/plain": [
       "(1 - epsilon)*(sin(phi(R.x, R.y))*Derivative(phi(R.x, R.y), R.y) + cos(phi(R.x, R.y))*Derivative(phi(R.x, R.y), R.x))**2 + (epsilon + 1)*(-sin(phi(R.x, R.y))*Derivative(phi(R.x, R.y), R.x) + cos(phi(R.x, R.y))*Derivative(phi(R.x, R.y), R.y))**2"
      ]
     },
     "execution_count": 8,
     "metadata": {},
     "output_type": "execute_result"
    }
   ],
   "source": [
    "g = simplify( g.subs({nx: cos(phi), ny: sin(phi)}) )\n",
    "g"
   ]
  },
  {
   "cell_type": "markdown",
   "id": "30711e59",
   "metadata": {},
   "source": [
    "### Change to [polar coordinates](https://www.wikiwand.com/en/Polar_coordinate_system#Differential_calculus)"
   ]
  },
  {
   "cell_type": "code",
   "execution_count": 9,
   "id": "1a348014",
   "metadata": {},
   "outputs": [],
   "source": [
    "phi_p = Function('phi')(theta)"
   ]
  },
  {
   "cell_type": "code",
   "execution_count": 10,
   "id": "72bda8d2",
   "metadata": {},
   "outputs": [],
   "source": [
    "dphi_dx = cos(theta) * phi_p.diff(r) - (1/r) * sin(theta) * phi_p.diff(theta)\n",
    "dphi_dy = sin(theta) * phi_p.diff(r) + (1/r) * cos(theta) * phi_p.diff(theta)"
   ]
  },
  {
   "cell_type": "code",
   "execution_count": 11,
   "id": "3a0a14fa",
   "metadata": {},
   "outputs": [
    {
     "data": {
      "text/latex": [
       "$\\displaystyle \\frac{\\left(\\left(1 - \\epsilon\\right) \\sin^{2}{\\left(\\theta - \\phi{\\left(\\theta \\right)} \\right)} + \\left(\\epsilon + 1\\right) \\cos^{2}{\\left(\\theta - \\phi{\\left(\\theta \\right)} \\right)}\\right) \\left(\\frac{d}{d \\theta} \\phi{\\left(\\theta \\right)}\\right)^{2}}{r^{2}}$"
      ],
      "text/plain": [
       "((1 - epsilon)*sin(theta - phi(theta))**2 + (epsilon + 1)*cos(theta - phi(theta))**2)*Derivative(phi(theta), theta)**2/r**2"
      ]
     },
     "metadata": {},
     "output_type": "display_data"
    }
   ],
   "source": [
    "g_polar = g.subs({phi.diff(x) : dphi_dx, phi.diff(y) : dphi_dy, phi : phi_p})\n",
    "g_polar = simplify(g_polar)\n",
    "display(g_polar)"
   ]
  },
  {
   "cell_type": "markdown",
   "id": "d2c7c059",
   "metadata": {},
   "source": [
    "### Plug it into [Euler-Lagrange equation](https://www.wikiwand.com/en/Euler%E2%80%93Lagrange_equation#Single_function_of_several_variables_with_single_derivative)"
   ]
  },
  {
   "cell_type": "code",
   "execution_count": 12,
   "id": "338cbee5",
   "metadata": {},
   "outputs": [
    {
     "data": {
      "text/latex": [
       "$\\displaystyle \\epsilon \\left(\\left(\\frac{d}{d \\theta} \\phi{\\left(\\theta \\right)}\\right)^{2} - 2 \\frac{d}{d \\theta} \\phi{\\left(\\theta \\right)}\\right) \\sin{\\left(2 \\theta - 2 \\phi{\\left(\\theta \\right)} \\right)} + \\epsilon \\cos{\\left(2 \\theta - 2 \\phi{\\left(\\theta \\right)} \\right)} \\frac{d^{2}}{d \\theta^{2}} \\phi{\\left(\\theta \\right)} + \\frac{d^{2}}{d \\theta^{2}} \\phi{\\left(\\theta \\right)}$"
      ],
      "text/plain": [
       "epsilon*(Derivative(phi(theta), theta)**2 - 2*Derivative(phi(theta), theta))*sin(2*theta - 2*phi(theta)) + epsilon*cos(2*theta - 2*phi(theta))*Derivative(phi(theta), (theta, 2)) + Derivative(phi(theta), (theta, 2))"
      ]
     },
     "metadata": {},
     "output_type": "display_data"
    }
   ],
   "source": [
    "euler_lagrange = simplify(g_polar.diff(phi_p) - g_polar.diff(phi_p.diff(theta)).diff(theta))\n",
    "euler_lagrange = trigsimp(factor(euler_lagrange, eps))\n",
    "euler_lagrange = simplify(euler_lagrange * -Rational(1, 2) * r**2)\n",
    "euler_lagrange = factor(euler_lagrange, eps, phi_p.diff(theta, 2), sin(2*theta - 2*phi_p))\n",
    "display(euler_lagrange)"
   ]
  },
  {
   "cell_type": "markdown",
   "id": "6ead7383",
   "metadata": {},
   "source": [
    "### Assume ansatz"
   ]
  },
  {
   "cell_type": "code",
   "execution_count": 13,
   "id": "5995da34",
   "metadata": {},
   "outputs": [],
   "source": [
    "from sympy.simplify.fu import *"
   ]
  },
  {
   "cell_type": "code",
   "execution_count": 14,
   "id": "6fdf383d",
   "metadata": {},
   "outputs": [],
   "source": [
    "q, C = symbols('q C')\n",
    "ansatz = q * theta + eps * C * sin(2 * (1 - q) * theta)"
   ]
  },
  {
   "cell_type": "code",
   "execution_count": 15,
   "id": "71bfd944",
   "metadata": {},
   "outputs": [
    {
     "data": {
      "text/latex": [
       "$\\displaystyle 4 C \\epsilon q^{2} \\sin{\\left(2 q \\theta - 2 \\theta \\right)} - 8 C \\epsilon q \\sin{\\left(2 q \\theta - 2 \\theta \\right)} + 4 C \\epsilon \\sin{\\left(2 q \\theta - 2 \\theta \\right)} + \\epsilon q^{2} \\sin{\\left(2 C \\epsilon \\sin{\\left(2 q \\theta - 2 \\theta \\right)} - 2 q \\theta + 2 \\theta \\right)} - 2 \\epsilon q \\sin{\\left(2 C \\epsilon \\sin{\\left(2 q \\theta - 2 \\theta \\right)} - 2 q \\theta + 2 \\theta \\right)}$"
      ],
      "text/plain": [
       "4*C*epsilon*q**2*sin(2*q*theta - 2*theta) - 8*C*epsilon*q*sin(2*q*theta - 2*theta) + 4*C*epsilon*sin(2*q*theta - 2*theta) + epsilon*q**2*sin(2*C*epsilon*sin(2*q*theta - 2*theta) - 2*q*theta + 2*theta) - 2*epsilon*q*sin(2*C*epsilon*sin(2*q*theta - 2*theta) - 2*q*theta + 2*theta)"
      ]
     },
     "metadata": {},
     "output_type": "display_data"
    }
   ],
   "source": [
    "ansatz_euler_lagrange = simplify(euler_lagrange.subs(phi_p, ansatz))\n",
    "ansatz_euler_lagrange = expand(ansatz_euler_lagrange).subs({eps**2: 0, eps**3: 0})\n",
    "display(ansatz_euler_lagrange)"
   ]
  },
  {
   "cell_type": "code",
   "execution_count": 16,
   "id": "605af1bb",
   "metadata": {},
   "outputs": [
    {
     "data": {
      "text/latex": [
       "$\\displaystyle 4 C \\epsilon q^{2} \\sin{\\left(2 q \\theta - 2 \\theta \\right)} - 8 C \\epsilon q \\sin{\\left(2 q \\theta - 2 \\theta \\right)} + 4 C \\epsilon \\sin{\\left(2 q \\theta - 2 \\theta \\right)} + \\epsilon q^{2} \\left(\\sin{\\left(2 C \\epsilon \\sin{\\left(2 q \\theta - 2 \\theta \\right)} \\right)} \\cos{\\left(2 q \\theta - 2 \\theta \\right)} - \\sin{\\left(2 q \\theta - 2 \\theta \\right)} \\cos{\\left(2 C \\epsilon \\sin{\\left(2 q \\theta - 2 \\theta \\right)} \\right)}\\right) - 2 \\epsilon q \\left(\\sin{\\left(2 C \\epsilon \\sin{\\left(2 q \\theta - 2 \\theta \\right)} \\right)} \\cos{\\left(2 q \\theta - 2 \\theta \\right)} - \\sin{\\left(2 q \\theta - 2 \\theta \\right)} \\cos{\\left(2 C \\epsilon \\sin{\\left(2 q \\theta - 2 \\theta \\right)} \\right)}\\right)$"
      ],
      "text/plain": [
       "4*C*epsilon*q**2*sin(2*q*theta - 2*theta) - 8*C*epsilon*q*sin(2*q*theta - 2*theta) + 4*C*epsilon*sin(2*q*theta - 2*theta) + epsilon*q**2*(sin(2*C*epsilon*sin(2*q*theta - 2*theta))*cos(2*q*theta - 2*theta) - sin(2*q*theta - 2*theta)*cos(2*C*epsilon*sin(2*q*theta - 2*theta))) - 2*epsilon*q*(sin(2*C*epsilon*sin(2*q*theta - 2*theta))*cos(2*q*theta - 2*theta) - sin(2*q*theta - 2*theta)*cos(2*C*epsilon*sin(2*q*theta - 2*theta)))"
      ]
     },
     "metadata": {},
     "output_type": "display_data"
    }
   ],
   "source": [
    "sin_subs = {sin(2*C*eps*sin(2*q*theta - 2*theta)\n",
    "                - 2*q*theta + 2*theta):\n",
    "                sin(2*C*eps*sin(2*q*theta - 2*theta))\n",
    "                * cos(2*theta - 2*q*theta)\n",
    "                +\n",
    "                sin(2*theta - 2*q*theta)\n",
    "                * cos(2*C*eps*sin(2*q*theta - 2*theta))}\n",
    "\n",
    "ansatz_euler_lagrange = ansatz_euler_lagrange.subs(sin_subs)\n",
    "display(ansatz_euler_lagrange)"
   ]
  },
  {
   "cell_type": "code",
   "execution_count": 17,
   "id": "cc9ec780",
   "metadata": {},
   "outputs": [
    {
     "data": {
      "text/latex": [
       "$\\displaystyle 4 C \\epsilon q^{2} \\sin{\\left(2 q \\theta - 2 \\theta \\right)} - 8 C \\epsilon q \\sin{\\left(2 q \\theta - 2 \\theta \\right)} + 4 C \\epsilon \\sin{\\left(2 q \\theta - 2 \\theta \\right)} - \\epsilon q^{2} \\sin{\\left(2 q \\theta - 2 \\theta \\right)} + 2 \\epsilon q \\sin{\\left(2 q \\theta - 2 \\theta \\right)}$"
      ],
      "text/plain": [
       "4*C*epsilon*q**2*sin(2*q*theta - 2*theta) - 8*C*epsilon*q*sin(2*q*theta - 2*theta) + 4*C*epsilon*sin(2*q*theta - 2*theta) - epsilon*q**2*sin(2*q*theta - 2*theta) + 2*epsilon*q*sin(2*q*theta - 2*theta)"
      ]
     },
     "metadata": {},
     "output_type": "display_data"
    }
   ],
   "source": [
    "trig_subs = {sin(2*C*eps*sin(2*q*theta - 2*theta)):\n",
    "             2*C*eps*sin(2*q*theta - 2*theta),\n",
    "             cos(2*C*eps*sin(2*q*theta - 2*theta)):\n",
    "             1}\n",
    "                 \n",
    "ansatz_euler_lagrange = expand(ansatz_euler_lagrange.subs(trig_subs))\n",
    "ansatz_euler_lagrange = ansatz_euler_lagrange.subs(eps**2, 0)\n",
    "display(ansatz_euler_lagrange)"
   ]
  },
  {
   "cell_type": "code",
   "execution_count": 18,
   "id": "95e776e4",
   "metadata": {},
   "outputs": [
    {
     "data": {
      "text/latex": [
       "$\\displaystyle \\frac{q \\left(q - 2\\right)}{4 \\left(q^{2} - 2 q + 1\\right)}$"
      ],
      "text/plain": [
       "q*(q - 2)/(4*(q**2 - 2*q + 1))"
      ]
     },
     "metadata": {},
     "output_type": "display_data"
    }
   ],
   "source": [
    "sol = solve(ansatz_euler_lagrange, C)\n",
    "display(sol[0])"
   ]
  },
  {
   "cell_type": "code",
   "execution_count": 19,
   "id": "74487081",
   "metadata": {},
   "outputs": [
    {
     "data": {
      "text/latex": [
       "$\\displaystyle \\frac{\\epsilon q \\left(q - 2\\right) \\sin{\\left(\\theta \\left(2 - 2 q\\right) \\right)}}{4 \\left(q^{2} - 2 q + 1\\right)} + q \\theta$"
      ],
      "text/plain": [
       "epsilon*q*(q - 2)*sin(theta*(2 - 2*q))/(4*(q**2 - 2*q + 1)) + q*theta"
      ]
     },
     "metadata": {},
     "output_type": "display_data"
    }
   ],
   "source": [
    "single_defect_approximation = ansatz.subs(C, sol[0])\n",
    "display(single_defect_approximation)"
   ]
  },
  {
   "cell_type": "markdown",
   "id": "eaea23f6",
   "metadata": {},
   "source": [
    "### Above is the first-order approximation to a single defect under the Dzyaloshinskii solution"
   ]
  },
  {
   "cell_type": "markdown",
   "id": "c4897a97",
   "metadata": {},
   "source": [
    "## Two-defect approximation"
   ]
  },
  {
   "cell_type": "markdown",
   "id": "9dc8efa4",
   "metadata": {},
   "source": [
    "### First, Euler Lagrange in cartesian coordinates"
   ]
  },
  {
   "cell_type": "code",
   "execution_count": 20,
   "id": "326e41bb",
   "metadata": {
    "scrolled": true
   },
   "outputs": [
    {
     "data": {
      "text/latex": [
       "$\\displaystyle \\epsilon \\left(- 2 \\frac{\\partial}{\\partial \\mathbf{{x}_{R}}} \\phi{\\left(\\mathbf{{x}_{R}},\\mathbf{{y}_{R}} \\right)} \\frac{\\partial}{\\partial \\mathbf{{y}_{R}}} \\phi{\\left(\\mathbf{{x}_{R}},\\mathbf{{y}_{R}} \\right)} - \\frac{\\partial^{2}}{\\partial \\mathbf{{x}_{R}}^{2}} \\phi{\\left(\\mathbf{{x}_{R}},\\mathbf{{y}_{R}} \\right)} + \\frac{\\partial^{2}}{\\partial \\mathbf{{y}_{R}}^{2}} \\phi{\\left(\\mathbf{{x}_{R}},\\mathbf{{y}_{R}} \\right)}\\right) \\cos{\\left(2 \\phi{\\left(\\mathbf{{x}_{R}},\\mathbf{{y}_{R}} \\right)} \\right)} + \\epsilon \\left(\\left(\\frac{\\partial}{\\partial \\mathbf{{x}_{R}}} \\phi{\\left(\\mathbf{{x}_{R}},\\mathbf{{y}_{R}} \\right)}\\right)^{2} - \\left(\\frac{\\partial}{\\partial \\mathbf{{y}_{R}}} \\phi{\\left(\\mathbf{{x}_{R}},\\mathbf{{y}_{R}} \\right)}\\right)^{2} - 2 \\frac{\\partial^{2}}{\\partial \\mathbf{{y}_{R}}\\partial \\mathbf{{x}_{R}}} \\phi{\\left(\\mathbf{{x}_{R}},\\mathbf{{y}_{R}} \\right)}\\right) \\sin{\\left(2 \\phi{\\left(\\mathbf{{x}_{R}},\\mathbf{{y}_{R}} \\right)} \\right)} + \\frac{\\partial^{2}}{\\partial \\mathbf{{x}_{R}}^{2}} \\phi{\\left(\\mathbf{{x}_{R}},\\mathbf{{y}_{R}} \\right)} + \\frac{\\partial^{2}}{\\partial \\mathbf{{y}_{R}}^{2}} \\phi{\\left(\\mathbf{{x}_{R}},\\mathbf{{y}_{R}} \\right)}$"
      ],
      "text/plain": [
       "epsilon*(-2*Derivative(phi(R.x, R.y), R.x)*Derivative(phi(R.x, R.y), R.y) - Derivative(phi(R.x, R.y), (R.x, 2)) + Derivative(phi(R.x, R.y), (R.y, 2)))*cos(2*phi(R.x, R.y)) + epsilon*(Derivative(phi(R.x, R.y), R.x)**2 - Derivative(phi(R.x, R.y), R.y)**2 - 2*Derivative(phi(R.x, R.y), R.x, R.y))*sin(2*phi(R.x, R.y)) + Derivative(phi(R.x, R.y), (R.x, 2)) + Derivative(phi(R.x, R.y), (R.y, 2))"
      ]
     },
     "metadata": {},
     "output_type": "display_data"
    }
   ],
   "source": [
    "euler_lagrange = -simplify(g.diff(phi) \n",
    "                           - (g.diff(phi.diff(x)).diff(x) \n",
    "                              + g.diff(phi.diff(y)).diff(y))) / 2\n",
    "euler_lagrange = factor(euler_lagrange, phi.diff(x, 2), phi.diff(y, 2))\n",
    "euler_lagrange = trigsimp(euler_lagrange)\n",
    "euler_lagrange = simplify(euler_lagrange)\n",
    "euler_lagrange = simplify(TR7(TR5(euler_lagrange)))\n",
    "euler_lagrange = factor(euler_lagrange, sin(2*phi), cos(2*phi), eps)\n",
    "display(euler_lagrange)"
   ]
  },
  {
   "cell_type": "markdown",
   "id": "ee761b57",
   "metadata": {},
   "source": [
    "### Now we need to substitute the Ansatz"
   ]
  },
  {
   "cell_type": "code",
   "execution_count": 151,
   "id": "b2f6c8c3",
   "metadata": {},
   "outputs": [
    {
     "data": {
      "text/latex": [
       "$\\displaystyle \\epsilon \\phi_{c}{\\left(\\mathbf{{x}_{R}},\\mathbf{{y}_{R}} \\right)} + q_{1} \\theta_{1}{\\left(\\mathbf{{x}_{R}},\\mathbf{{y}_{R}} \\right)} + q_{2} \\theta_{2}{\\left(\\mathbf{{x}_{R}},\\mathbf{{y}_{R}} \\right)}$"
      ],
      "text/plain": [
       "epsilon*phi_c(R.x, R.y) + q_1*theta_1(R.x, R.y) + q_2*theta_2(R.x, R.y)"
      ]
     },
     "metadata": {},
     "output_type": "display_data"
    }
   ],
   "source": [
    "phi_c = Function('phi_c')(x, y)\n",
    "theta_1 = Function('theta_1')(x, y)\n",
    "theta_2 = Function('theta_2')(x, y)\n",
    "r_1 = Function('r_1')(x, y)\n",
    "r_2 = Function('r_2')(x, y)\n",
    "\n",
    "q1, q2 = symbols('q_1 q_2')\n",
    "\n",
    "ansatz = q1 * theta_1 + q2 * theta_2 + eps * phi_c\n",
    "display(ansatz)"
   ]
  },
  {
   "cell_type": "code",
   "execution_count": 152,
   "id": "91571bc8",
   "metadata": {},
   "outputs": [
    {
     "data": {
      "text/latex": [
       "$\\displaystyle - \\epsilon \\left(2 \\epsilon \\frac{\\partial^{2}}{\\partial \\mathbf{{y}_{R}}\\partial \\mathbf{{x}_{R}}} \\phi_{c}{\\left(\\mathbf{{x}_{R}},\\mathbf{{y}_{R}} \\right)} + 2 q_{1} \\frac{\\partial^{2}}{\\partial \\mathbf{{y}_{R}}\\partial \\mathbf{{x}_{R}}} \\theta_{1}{\\left(\\mathbf{{x}_{R}},\\mathbf{{y}_{R}} \\right)} + 2 q_{2} \\frac{\\partial^{2}}{\\partial \\mathbf{{y}_{R}}\\partial \\mathbf{{x}_{R}}} \\theta_{2}{\\left(\\mathbf{{x}_{R}},\\mathbf{{y}_{R}} \\right)} - \\left(\\epsilon \\frac{\\partial}{\\partial \\mathbf{{x}_{R}}} \\phi_{c}{\\left(\\mathbf{{x}_{R}},\\mathbf{{y}_{R}} \\right)} + q_{1} \\frac{\\partial}{\\partial \\mathbf{{x}_{R}}} \\theta_{1}{\\left(\\mathbf{{x}_{R}},\\mathbf{{y}_{R}} \\right)} + q_{2} \\frac{\\partial}{\\partial \\mathbf{{x}_{R}}} \\theta_{2}{\\left(\\mathbf{{x}_{R}},\\mathbf{{y}_{R}} \\right)}\\right)^{2} + \\left(\\epsilon \\frac{\\partial}{\\partial \\mathbf{{y}_{R}}} \\phi_{c}{\\left(\\mathbf{{x}_{R}},\\mathbf{{y}_{R}} \\right)} + q_{1} \\frac{\\partial}{\\partial \\mathbf{{y}_{R}}} \\theta_{1}{\\left(\\mathbf{{x}_{R}},\\mathbf{{y}_{R}} \\right)} + q_{2} \\frac{\\partial}{\\partial \\mathbf{{y}_{R}}} \\theta_{2}{\\left(\\mathbf{{x}_{R}},\\mathbf{{y}_{R}} \\right)}\\right)^{2}\\right) \\sin{\\left(2 \\epsilon \\phi_{c}{\\left(\\mathbf{{x}_{R}},\\mathbf{{y}_{R}} \\right)} + 2 q_{1} \\theta_{1}{\\left(\\mathbf{{x}_{R}},\\mathbf{{y}_{R}} \\right)} + 2 q_{2} \\theta_{2}{\\left(\\mathbf{{x}_{R}},\\mathbf{{y}_{R}} \\right)} \\right)} - \\epsilon \\left(\\epsilon \\frac{\\partial^{2}}{\\partial \\mathbf{{x}_{R}}^{2}} \\phi_{c}{\\left(\\mathbf{{x}_{R}},\\mathbf{{y}_{R}} \\right)} - \\epsilon \\frac{\\partial^{2}}{\\partial \\mathbf{{y}_{R}}^{2}} \\phi_{c}{\\left(\\mathbf{{x}_{R}},\\mathbf{{y}_{R}} \\right)} + q_{1} \\frac{\\partial^{2}}{\\partial \\mathbf{{x}_{R}}^{2}} \\theta_{1}{\\left(\\mathbf{{x}_{R}},\\mathbf{{y}_{R}} \\right)} - q_{1} \\frac{\\partial^{2}}{\\partial \\mathbf{{y}_{R}}^{2}} \\theta_{1}{\\left(\\mathbf{{x}_{R}},\\mathbf{{y}_{R}} \\right)} + q_{2} \\frac{\\partial^{2}}{\\partial \\mathbf{{x}_{R}}^{2}} \\theta_{2}{\\left(\\mathbf{{x}_{R}},\\mathbf{{y}_{R}} \\right)} - q_{2} \\frac{\\partial^{2}}{\\partial \\mathbf{{y}_{R}}^{2}} \\theta_{2}{\\left(\\mathbf{{x}_{R}},\\mathbf{{y}_{R}} \\right)} + 2 \\left(\\epsilon \\frac{\\partial}{\\partial \\mathbf{{x}_{R}}} \\phi_{c}{\\left(\\mathbf{{x}_{R}},\\mathbf{{y}_{R}} \\right)} + q_{1} \\frac{\\partial}{\\partial \\mathbf{{x}_{R}}} \\theta_{1}{\\left(\\mathbf{{x}_{R}},\\mathbf{{y}_{R}} \\right)} + q_{2} \\frac{\\partial}{\\partial \\mathbf{{x}_{R}}} \\theta_{2}{\\left(\\mathbf{{x}_{R}},\\mathbf{{y}_{R}} \\right)}\\right) \\left(\\epsilon \\frac{\\partial}{\\partial \\mathbf{{y}_{R}}} \\phi_{c}{\\left(\\mathbf{{x}_{R}},\\mathbf{{y}_{R}} \\right)} + q_{1} \\frac{\\partial}{\\partial \\mathbf{{y}_{R}}} \\theta_{1}{\\left(\\mathbf{{x}_{R}},\\mathbf{{y}_{R}} \\right)} + q_{2} \\frac{\\partial}{\\partial \\mathbf{{y}_{R}}} \\theta_{2}{\\left(\\mathbf{{x}_{R}},\\mathbf{{y}_{R}} \\right)}\\right)\\right) \\cos{\\left(2 \\epsilon \\phi_{c}{\\left(\\mathbf{{x}_{R}},\\mathbf{{y}_{R}} \\right)} + 2 q_{1} \\theta_{1}{\\left(\\mathbf{{x}_{R}},\\mathbf{{y}_{R}} \\right)} + 2 q_{2} \\theta_{2}{\\left(\\mathbf{{x}_{R}},\\mathbf{{y}_{R}} \\right)} \\right)} + \\epsilon \\frac{\\partial^{2}}{\\partial \\mathbf{{x}_{R}}^{2}} \\phi_{c}{\\left(\\mathbf{{x}_{R}},\\mathbf{{y}_{R}} \\right)} + \\epsilon \\frac{\\partial^{2}}{\\partial \\mathbf{{y}_{R}}^{2}} \\phi_{c}{\\left(\\mathbf{{x}_{R}},\\mathbf{{y}_{R}} \\right)} + q_{1} \\frac{\\partial^{2}}{\\partial \\mathbf{{x}_{R}}^{2}} \\theta_{1}{\\left(\\mathbf{{x}_{R}},\\mathbf{{y}_{R}} \\right)} + q_{1} \\frac{\\partial^{2}}{\\partial \\mathbf{{y}_{R}}^{2}} \\theta_{1}{\\left(\\mathbf{{x}_{R}},\\mathbf{{y}_{R}} \\right)} + q_{2} \\frac{\\partial^{2}}{\\partial \\mathbf{{x}_{R}}^{2}} \\theta_{2}{\\left(\\mathbf{{x}_{R}},\\mathbf{{y}_{R}} \\right)} + q_{2} \\frac{\\partial^{2}}{\\partial \\mathbf{{y}_{R}}^{2}} \\theta_{2}{\\left(\\mathbf{{x}_{R}},\\mathbf{{y}_{R}} \\right)}$"
      ],
      "text/plain": [
       "-epsilon*(2*epsilon*Derivative(phi_c(R.x, R.y), R.x, R.y) + 2*q_1*Derivative(theta_1(R.x, R.y), R.x, R.y) + 2*q_2*Derivative(theta_2(R.x, R.y), R.x, R.y) - (epsilon*Derivative(phi_c(R.x, R.y), R.x) + q_1*Derivative(theta_1(R.x, R.y), R.x) + q_2*Derivative(theta_2(R.x, R.y), R.x))**2 + (epsilon*Derivative(phi_c(R.x, R.y), R.y) + q_1*Derivative(theta_1(R.x, R.y), R.y) + q_2*Derivative(theta_2(R.x, R.y), R.y))**2)*sin(2*epsilon*phi_c(R.x, R.y) + 2*q_1*theta_1(R.x, R.y) + 2*q_2*theta_2(R.x, R.y)) - epsilon*(epsilon*Derivative(phi_c(R.x, R.y), (R.x, 2)) - epsilon*Derivative(phi_c(R.x, R.y), (R.y, 2)) + q_1*Derivative(theta_1(R.x, R.y), (R.x, 2)) - q_1*Derivative(theta_1(R.x, R.y), (R.y, 2)) + q_2*Derivative(theta_2(R.x, R.y), (R.x, 2)) - q_2*Derivative(theta_2(R.x, R.y), (R.y, 2)) + 2*(epsilon*Derivative(phi_c(R.x, R.y), R.x) + q_1*Derivative(theta_1(R.x, R.y), R.x) + q_2*Derivative(theta_2(R.x, R.y), R.x))*(epsilon*Derivative(phi_c(R.x, R.y), R.y) + q_1*Derivative(theta_1(R.x, R.y), R.y) + q_2*Derivative(theta_2(R.x, R.y), R.y)))*cos(2*epsilon*phi_c(R.x, R.y) + 2*q_1*theta_1(R.x, R.y) + 2*q_2*theta_2(R.x, R.y)) + epsilon*Derivative(phi_c(R.x, R.y), (R.x, 2)) + epsilon*Derivative(phi_c(R.x, R.y), (R.y, 2)) + q_1*Derivative(theta_1(R.x, R.y), (R.x, 2)) + q_1*Derivative(theta_1(R.x, R.y), (R.y, 2)) + q_2*Derivative(theta_2(R.x, R.y), (R.x, 2)) + q_2*Derivative(theta_2(R.x, R.y), (R.y, 2))"
      ]
     },
     "metadata": {},
     "output_type": "display_data"
    }
   ],
   "source": [
    "euler_lagrange_p = euler_lagrange.subs(phi, ansatz)\n",
    "euler_lagrange_p = simplify(euler_lagrange_p)\n",
    "display(euler_lagrange_p)"
   ]
  },
  {
   "cell_type": "code",
   "execution_count": 153,
   "id": "6e131ed8",
   "metadata": {},
   "outputs": [],
   "source": [
    "euler_lagrange_p = euler_lagrange_p.subs({theta_1.diff(x): -1/r_1 * sin(theta_1),\n",
    "                                          theta_2.diff(x): -1/r_2 * sin(theta_2),\n",
    "                                          theta_1.diff(y): 1/r_1 * cos(theta_1),\n",
    "                                          theta_2.diff(y): 1/r_2 * cos(theta_2)})"
   ]
  },
  {
   "cell_type": "code",
   "execution_count": 154,
   "id": "f95e3572",
   "metadata": {},
   "outputs": [
    {
     "data": {
      "text/latex": [
       "$\\displaystyle - \\epsilon \\left(2 \\epsilon \\frac{\\partial^{2}}{\\partial \\mathbf{{y}_{R}}\\partial \\mathbf{{x}_{R}}} \\phi_{c}{\\left(\\mathbf{{x}_{R}},\\mathbf{{y}_{R}} \\right)} + 2 q_{1} \\frac{\\partial}{\\partial \\mathbf{{y}_{R}}} \\left(- \\frac{\\sin{\\left(\\theta_{1}{\\left(\\mathbf{{x}_{R}},\\mathbf{{y}_{R}} \\right)} \\right)}}{\\operatorname{r_{1}}{\\left(\\mathbf{{x}_{R}},\\mathbf{{y}_{R}} \\right)}}\\right) + 2 q_{2} \\frac{\\partial}{\\partial \\mathbf{{y}_{R}}} \\left(- \\frac{\\sin{\\left(\\theta_{2}{\\left(\\mathbf{{x}_{R}},\\mathbf{{y}_{R}} \\right)} \\right)}}{\\operatorname{r_{2}}{\\left(\\mathbf{{x}_{R}},\\mathbf{{y}_{R}} \\right)}}\\right) - \\left(\\epsilon \\frac{\\partial}{\\partial \\mathbf{{x}_{R}}} \\phi_{c}{\\left(\\mathbf{{x}_{R}},\\mathbf{{y}_{R}} \\right)} - \\frac{q_{1} \\sin{\\left(\\theta_{1}{\\left(\\mathbf{{x}_{R}},\\mathbf{{y}_{R}} \\right)} \\right)}}{\\operatorname{r_{1}}{\\left(\\mathbf{{x}_{R}},\\mathbf{{y}_{R}} \\right)}} - \\frac{q_{2} \\sin{\\left(\\theta_{2}{\\left(\\mathbf{{x}_{R}},\\mathbf{{y}_{R}} \\right)} \\right)}}{\\operatorname{r_{2}}{\\left(\\mathbf{{x}_{R}},\\mathbf{{y}_{R}} \\right)}}\\right)^{2} + \\left(\\epsilon \\frac{\\partial}{\\partial \\mathbf{{y}_{R}}} \\phi_{c}{\\left(\\mathbf{{x}_{R}},\\mathbf{{y}_{R}} \\right)} + \\frac{q_{1} \\cos{\\left(\\theta_{1}{\\left(\\mathbf{{x}_{R}},\\mathbf{{y}_{R}} \\right)} \\right)}}{\\operatorname{r_{1}}{\\left(\\mathbf{{x}_{R}},\\mathbf{{y}_{R}} \\right)}} + \\frac{q_{2} \\cos{\\left(\\theta_{2}{\\left(\\mathbf{{x}_{R}},\\mathbf{{y}_{R}} \\right)} \\right)}}{\\operatorname{r_{2}}{\\left(\\mathbf{{x}_{R}},\\mathbf{{y}_{R}} \\right)}}\\right)^{2}\\right) \\sin{\\left(2 \\epsilon \\phi_{c}{\\left(\\mathbf{{x}_{R}},\\mathbf{{y}_{R}} \\right)} + 2 q_{1} \\theta_{1}{\\left(\\mathbf{{x}_{R}},\\mathbf{{y}_{R}} \\right)} + 2 q_{2} \\theta_{2}{\\left(\\mathbf{{x}_{R}},\\mathbf{{y}_{R}} \\right)} \\right)} - \\epsilon \\left(\\epsilon \\frac{\\partial^{2}}{\\partial \\mathbf{{x}_{R}}^{2}} \\phi_{c}{\\left(\\mathbf{{x}_{R}},\\mathbf{{y}_{R}} \\right)} - \\epsilon \\frac{\\partial^{2}}{\\partial \\mathbf{{y}_{R}}^{2}} \\phi_{c}{\\left(\\mathbf{{x}_{R}},\\mathbf{{y}_{R}} \\right)} + q_{1} \\frac{\\partial}{\\partial \\mathbf{{x}_{R}}} \\left(- \\frac{\\sin{\\left(\\theta_{1}{\\left(\\mathbf{{x}_{R}},\\mathbf{{y}_{R}} \\right)} \\right)}}{\\operatorname{r_{1}}{\\left(\\mathbf{{x}_{R}},\\mathbf{{y}_{R}} \\right)}}\\right) - q_{1} \\frac{\\partial}{\\partial \\mathbf{{y}_{R}}} \\frac{\\cos{\\left(\\theta_{1}{\\left(\\mathbf{{x}_{R}},\\mathbf{{y}_{R}} \\right)} \\right)}}{\\operatorname{r_{1}}{\\left(\\mathbf{{x}_{R}},\\mathbf{{y}_{R}} \\right)}} + q_{2} \\frac{\\partial}{\\partial \\mathbf{{x}_{R}}} \\left(- \\frac{\\sin{\\left(\\theta_{2}{\\left(\\mathbf{{x}_{R}},\\mathbf{{y}_{R}} \\right)} \\right)}}{\\operatorname{r_{2}}{\\left(\\mathbf{{x}_{R}},\\mathbf{{y}_{R}} \\right)}}\\right) - q_{2} \\frac{\\partial}{\\partial \\mathbf{{y}_{R}}} \\frac{\\cos{\\left(\\theta_{2}{\\left(\\mathbf{{x}_{R}},\\mathbf{{y}_{R}} \\right)} \\right)}}{\\operatorname{r_{2}}{\\left(\\mathbf{{x}_{R}},\\mathbf{{y}_{R}} \\right)}} + 2 \\left(\\epsilon \\frac{\\partial}{\\partial \\mathbf{{x}_{R}}} \\phi_{c}{\\left(\\mathbf{{x}_{R}},\\mathbf{{y}_{R}} \\right)} - \\frac{q_{1} \\sin{\\left(\\theta_{1}{\\left(\\mathbf{{x}_{R}},\\mathbf{{y}_{R}} \\right)} \\right)}}{\\operatorname{r_{1}}{\\left(\\mathbf{{x}_{R}},\\mathbf{{y}_{R}} \\right)}} - \\frac{q_{2} \\sin{\\left(\\theta_{2}{\\left(\\mathbf{{x}_{R}},\\mathbf{{y}_{R}} \\right)} \\right)}}{\\operatorname{r_{2}}{\\left(\\mathbf{{x}_{R}},\\mathbf{{y}_{R}} \\right)}}\\right) \\left(\\epsilon \\frac{\\partial}{\\partial \\mathbf{{y}_{R}}} \\phi_{c}{\\left(\\mathbf{{x}_{R}},\\mathbf{{y}_{R}} \\right)} + \\frac{q_{1} \\cos{\\left(\\theta_{1}{\\left(\\mathbf{{x}_{R}},\\mathbf{{y}_{R}} \\right)} \\right)}}{\\operatorname{r_{1}}{\\left(\\mathbf{{x}_{R}},\\mathbf{{y}_{R}} \\right)}} + \\frac{q_{2} \\cos{\\left(\\theta_{2}{\\left(\\mathbf{{x}_{R}},\\mathbf{{y}_{R}} \\right)} \\right)}}{\\operatorname{r_{2}}{\\left(\\mathbf{{x}_{R}},\\mathbf{{y}_{R}} \\right)}}\\right)\\right) \\cos{\\left(2 \\epsilon \\phi_{c}{\\left(\\mathbf{{x}_{R}},\\mathbf{{y}_{R}} \\right)} + 2 q_{1} \\theta_{1}{\\left(\\mathbf{{x}_{R}},\\mathbf{{y}_{R}} \\right)} + 2 q_{2} \\theta_{2}{\\left(\\mathbf{{x}_{R}},\\mathbf{{y}_{R}} \\right)} \\right)} + \\epsilon \\frac{\\partial^{2}}{\\partial \\mathbf{{x}_{R}}^{2}} \\phi_{c}{\\left(\\mathbf{{x}_{R}},\\mathbf{{y}_{R}} \\right)} + \\epsilon \\frac{\\partial^{2}}{\\partial \\mathbf{{y}_{R}}^{2}} \\phi_{c}{\\left(\\mathbf{{x}_{R}},\\mathbf{{y}_{R}} \\right)} + q_{1} \\frac{\\partial}{\\partial \\mathbf{{x}_{R}}} \\left(- \\frac{\\sin{\\left(\\theta_{1}{\\left(\\mathbf{{x}_{R}},\\mathbf{{y}_{R}} \\right)} \\right)}}{\\operatorname{r_{1}}{\\left(\\mathbf{{x}_{R}},\\mathbf{{y}_{R}} \\right)}}\\right) + q_{1} \\frac{\\partial}{\\partial \\mathbf{{y}_{R}}} \\frac{\\cos{\\left(\\theta_{1}{\\left(\\mathbf{{x}_{R}},\\mathbf{{y}_{R}} \\right)} \\right)}}{\\operatorname{r_{1}}{\\left(\\mathbf{{x}_{R}},\\mathbf{{y}_{R}} \\right)}} + q_{2} \\frac{\\partial}{\\partial \\mathbf{{x}_{R}}} \\left(- \\frac{\\sin{\\left(\\theta_{2}{\\left(\\mathbf{{x}_{R}},\\mathbf{{y}_{R}} \\right)} \\right)}}{\\operatorname{r_{2}}{\\left(\\mathbf{{x}_{R}},\\mathbf{{y}_{R}} \\right)}}\\right) + q_{2} \\frac{\\partial}{\\partial \\mathbf{{y}_{R}}} \\frac{\\cos{\\left(\\theta_{2}{\\left(\\mathbf{{x}_{R}},\\mathbf{{y}_{R}} \\right)} \\right)}}{\\operatorname{r_{2}}{\\left(\\mathbf{{x}_{R}},\\mathbf{{y}_{R}} \\right)}}$"
      ],
      "text/plain": [
       "-epsilon*(2*epsilon*Derivative(phi_c(R.x, R.y), R.x, R.y) + 2*q_1*Derivative(-sin(theta_1(R.x, R.y))/r_1(R.x, R.y), R.y) + 2*q_2*Derivative(-sin(theta_2(R.x, R.y))/r_2(R.x, R.y), R.y) - (epsilon*Derivative(phi_c(R.x, R.y), R.x) - q_1*sin(theta_1(R.x, R.y))/r_1(R.x, R.y) - q_2*sin(theta_2(R.x, R.y))/r_2(R.x, R.y))**2 + (epsilon*Derivative(phi_c(R.x, R.y), R.y) + q_1*cos(theta_1(R.x, R.y))/r_1(R.x, R.y) + q_2*cos(theta_2(R.x, R.y))/r_2(R.x, R.y))**2)*sin(2*epsilon*phi_c(R.x, R.y) + 2*q_1*theta_1(R.x, R.y) + 2*q_2*theta_2(R.x, R.y)) - epsilon*(epsilon*Derivative(phi_c(R.x, R.y), (R.x, 2)) - epsilon*Derivative(phi_c(R.x, R.y), (R.y, 2)) + q_1*Derivative(-sin(theta_1(R.x, R.y))/r_1(R.x, R.y), R.x) - q_1*Derivative(cos(theta_1(R.x, R.y))/r_1(R.x, R.y), R.y) + q_2*Derivative(-sin(theta_2(R.x, R.y))/r_2(R.x, R.y), R.x) - q_2*Derivative(cos(theta_2(R.x, R.y))/r_2(R.x, R.y), R.y) + 2*(epsilon*Derivative(phi_c(R.x, R.y), R.x) - q_1*sin(theta_1(R.x, R.y))/r_1(R.x, R.y) - q_2*sin(theta_2(R.x, R.y))/r_2(R.x, R.y))*(epsilon*Derivative(phi_c(R.x, R.y), R.y) + q_1*cos(theta_1(R.x, R.y))/r_1(R.x, R.y) + q_2*cos(theta_2(R.x, R.y))/r_2(R.x, R.y)))*cos(2*epsilon*phi_c(R.x, R.y) + 2*q_1*theta_1(R.x, R.y) + 2*q_2*theta_2(R.x, R.y)) + epsilon*Derivative(phi_c(R.x, R.y), (R.x, 2)) + epsilon*Derivative(phi_c(R.x, R.y), (R.y, 2)) + q_1*Derivative(-sin(theta_1(R.x, R.y))/r_1(R.x, R.y), R.x) + q_1*Derivative(cos(theta_1(R.x, R.y))/r_1(R.x, R.y), R.y) + q_2*Derivative(-sin(theta_2(R.x, R.y))/r_2(R.x, R.y), R.x) + q_2*Derivative(cos(theta_2(R.x, R.y))/r_2(R.x, R.y), R.y)"
      ]
     },
     "metadata": {},
     "output_type": "display_data"
    }
   ],
   "source": [
    "display(euler_lagrange_p)"
   ]
  },
  {
   "cell_type": "code",
   "execution_count": 156,
   "id": "881bf19c",
   "metadata": {},
   "outputs": [
    {
     "data": {
      "text/latex": [
       "$\\displaystyle \\epsilon \\frac{\\partial^{2}}{\\partial \\mathbf{{x}_{R}}^{2}} \\phi_{c}{\\left(\\mathbf{{x}_{R}},\\mathbf{{y}_{R}} \\right)}$"
      ],
      "text/plain": [
       "epsilon*Derivative(phi_c(R.x, R.y), (R.x, 2))"
      ]
     },
     "metadata": {},
     "output_type": "display_data"
    },
    {
     "data": {
      "text/latex": [
       "$\\displaystyle \\epsilon \\frac{\\partial^{2}}{\\partial \\mathbf{{y}_{R}}^{2}} \\phi_{c}{\\left(\\mathbf{{x}_{R}},\\mathbf{{y}_{R}} \\right)}$"
      ],
      "text/plain": [
       "epsilon*Derivative(phi_c(R.x, R.y), (R.y, 2))"
      ]
     },
     "metadata": {},
     "output_type": "display_data"
    },
    {
     "data": {
      "text/latex": [
       "$\\displaystyle q_{1} \\left(\\frac{\\sin{\\left(\\theta_{1}{\\left(\\mathbf{{x}_{R}},\\mathbf{{y}_{R}} \\right)} \\right)} \\cos{\\left(\\theta_{1}{\\left(\\mathbf{{x}_{R}},\\mathbf{{y}_{R}} \\right)} \\right)}}{\\operatorname{r_{1}}^{2}{\\left(\\mathbf{{x}_{R}},\\mathbf{{y}_{R}} \\right)}} + \\frac{\\sin{\\left(\\theta_{1}{\\left(\\mathbf{{x}_{R}},\\mathbf{{y}_{R}} \\right)} \\right)} \\frac{\\partial}{\\partial \\mathbf{{x}_{R}}} \\operatorname{r_{1}}{\\left(\\mathbf{{x}_{R}},\\mathbf{{y}_{R}} \\right)}}{\\operatorname{r_{1}}^{2}{\\left(\\mathbf{{x}_{R}},\\mathbf{{y}_{R}} \\right)}}\\right)$"
      ],
      "text/plain": [
       "q_1*(sin(theta_1(R.x, R.y))*cos(theta_1(R.x, R.y))/r_1(R.x, R.y)**2 + sin(theta_1(R.x, R.y))*Derivative(r_1(R.x, R.y), R.x)/r_1(R.x, R.y)**2)"
      ]
     },
     "metadata": {},
     "output_type": "display_data"
    },
    {
     "data": {
      "text/latex": [
       "$\\displaystyle q_{1} \\left(- \\frac{\\sin{\\left(\\theta_{1}{\\left(\\mathbf{{x}_{R}},\\mathbf{{y}_{R}} \\right)} \\right)} \\cos{\\left(\\theta_{1}{\\left(\\mathbf{{x}_{R}},\\mathbf{{y}_{R}} \\right)} \\right)}}{\\operatorname{r_{1}}^{2}{\\left(\\mathbf{{x}_{R}},\\mathbf{{y}_{R}} \\right)}} - \\frac{\\cos{\\left(\\theta_{1}{\\left(\\mathbf{{x}_{R}},\\mathbf{{y}_{R}} \\right)} \\right)} \\frac{\\partial}{\\partial \\mathbf{{y}_{R}}} \\operatorname{r_{1}}{\\left(\\mathbf{{x}_{R}},\\mathbf{{y}_{R}} \\right)}}{\\operatorname{r_{1}}^{2}{\\left(\\mathbf{{x}_{R}},\\mathbf{{y}_{R}} \\right)}}\\right)$"
      ],
      "text/plain": [
       "q_1*(-sin(theta_1(R.x, R.y))*cos(theta_1(R.x, R.y))/r_1(R.x, R.y)**2 - cos(theta_1(R.x, R.y))*Derivative(r_1(R.x, R.y), R.y)/r_1(R.x, R.y)**2)"
      ]
     },
     "metadata": {},
     "output_type": "display_data"
    },
    {
     "data": {
      "text/latex": [
       "$\\displaystyle q_{2} \\left(\\frac{\\sin{\\left(\\theta_{2}{\\left(\\mathbf{{x}_{R}},\\mathbf{{y}_{R}} \\right)} \\right)} \\cos{\\left(\\theta_{2}{\\left(\\mathbf{{x}_{R}},\\mathbf{{y}_{R}} \\right)} \\right)}}{\\operatorname{r_{2}}^{2}{\\left(\\mathbf{{x}_{R}},\\mathbf{{y}_{R}} \\right)}} + \\frac{\\sin{\\left(\\theta_{2}{\\left(\\mathbf{{x}_{R}},\\mathbf{{y}_{R}} \\right)} \\right)} \\frac{\\partial}{\\partial \\mathbf{{x}_{R}}} \\operatorname{r_{2}}{\\left(\\mathbf{{x}_{R}},\\mathbf{{y}_{R}} \\right)}}{\\operatorname{r_{2}}^{2}{\\left(\\mathbf{{x}_{R}},\\mathbf{{y}_{R}} \\right)}}\\right)$"
      ],
      "text/plain": [
       "q_2*(sin(theta_2(R.x, R.y))*cos(theta_2(R.x, R.y))/r_2(R.x, R.y)**2 + sin(theta_2(R.x, R.y))*Derivative(r_2(R.x, R.y), R.x)/r_2(R.x, R.y)**2)"
      ]
     },
     "metadata": {},
     "output_type": "display_data"
    },
    {
     "data": {
      "text/latex": [
       "$\\displaystyle q_{2} \\left(- \\frac{\\sin{\\left(\\theta_{2}{\\left(\\mathbf{{x}_{R}},\\mathbf{{y}_{R}} \\right)} \\right)} \\cos{\\left(\\theta_{2}{\\left(\\mathbf{{x}_{R}},\\mathbf{{y}_{R}} \\right)} \\right)}}{\\operatorname{r_{2}}^{2}{\\left(\\mathbf{{x}_{R}},\\mathbf{{y}_{R}} \\right)}} - \\frac{\\cos{\\left(\\theta_{2}{\\left(\\mathbf{{x}_{R}},\\mathbf{{y}_{R}} \\right)} \\right)} \\frac{\\partial}{\\partial \\mathbf{{y}_{R}}} \\operatorname{r_{2}}{\\left(\\mathbf{{x}_{R}},\\mathbf{{y}_{R}} \\right)}}{\\operatorname{r_{2}}^{2}{\\left(\\mathbf{{x}_{R}},\\mathbf{{y}_{R}} \\right)}}\\right)$"
      ],
      "text/plain": [
       "q_2*(-sin(theta_2(R.x, R.y))*cos(theta_2(R.x, R.y))/r_2(R.x, R.y)**2 - cos(theta_2(R.x, R.y))*Derivative(r_2(R.x, R.y), R.y)/r_2(R.x, R.y)**2)"
      ]
     },
     "metadata": {},
     "output_type": "display_data"
    },
    {
     "data": {
      "text/latex": [
       "$\\displaystyle - \\epsilon \\left(2 \\epsilon \\frac{\\partial^{2}}{\\partial \\mathbf{{y}_{R}}\\partial \\mathbf{{x}_{R}}} \\phi_{c}{\\left(\\mathbf{{x}_{R}},\\mathbf{{y}_{R}} \\right)} + 2 q_{1} \\left(\\frac{\\sin{\\left(\\theta_{1}{\\left(\\mathbf{{x}_{R}},\\mathbf{{y}_{R}} \\right)} \\right)} \\frac{\\partial}{\\partial \\mathbf{{y}_{R}}} \\operatorname{r_{1}}{\\left(\\mathbf{{x}_{R}},\\mathbf{{y}_{R}} \\right)}}{\\operatorname{r_{1}}^{2}{\\left(\\mathbf{{x}_{R}},\\mathbf{{y}_{R}} \\right)}} - \\frac{\\cos^{2}{\\left(\\theta_{1}{\\left(\\mathbf{{x}_{R}},\\mathbf{{y}_{R}} \\right)} \\right)}}{\\operatorname{r_{1}}^{2}{\\left(\\mathbf{{x}_{R}},\\mathbf{{y}_{R}} \\right)}}\\right) + 2 q_{2} \\left(\\frac{\\sin{\\left(\\theta_{2}{\\left(\\mathbf{{x}_{R}},\\mathbf{{y}_{R}} \\right)} \\right)} \\frac{\\partial}{\\partial \\mathbf{{y}_{R}}} \\operatorname{r_{2}}{\\left(\\mathbf{{x}_{R}},\\mathbf{{y}_{R}} \\right)}}{\\operatorname{r_{2}}^{2}{\\left(\\mathbf{{x}_{R}},\\mathbf{{y}_{R}} \\right)}} - \\frac{\\cos^{2}{\\left(\\theta_{2}{\\left(\\mathbf{{x}_{R}},\\mathbf{{y}_{R}} \\right)} \\right)}}{\\operatorname{r_{2}}^{2}{\\left(\\mathbf{{x}_{R}},\\mathbf{{y}_{R}} \\right)}}\\right) - \\left(\\epsilon \\frac{\\partial}{\\partial \\mathbf{{x}_{R}}} \\phi_{c}{\\left(\\mathbf{{x}_{R}},\\mathbf{{y}_{R}} \\right)} - \\frac{q_{1} \\sin{\\left(\\theta_{1}{\\left(\\mathbf{{x}_{R}},\\mathbf{{y}_{R}} \\right)} \\right)}}{\\operatorname{r_{1}}{\\left(\\mathbf{{x}_{R}},\\mathbf{{y}_{R}} \\right)}} - \\frac{q_{2} \\sin{\\left(\\theta_{2}{\\left(\\mathbf{{x}_{R}},\\mathbf{{y}_{R}} \\right)} \\right)}}{\\operatorname{r_{2}}{\\left(\\mathbf{{x}_{R}},\\mathbf{{y}_{R}} \\right)}}\\right)^{2} + \\left(\\epsilon \\frac{\\partial}{\\partial \\mathbf{{y}_{R}}} \\phi_{c}{\\left(\\mathbf{{x}_{R}},\\mathbf{{y}_{R}} \\right)} + \\frac{q_{1} \\cos{\\left(\\theta_{1}{\\left(\\mathbf{{x}_{R}},\\mathbf{{y}_{R}} \\right)} \\right)}}{\\operatorname{r_{1}}{\\left(\\mathbf{{x}_{R}},\\mathbf{{y}_{R}} \\right)}} + \\frac{q_{2} \\cos{\\left(\\theta_{2}{\\left(\\mathbf{{x}_{R}},\\mathbf{{y}_{R}} \\right)} \\right)}}{\\operatorname{r_{2}}{\\left(\\mathbf{{x}_{R}},\\mathbf{{y}_{R}} \\right)}}\\right)^{2}\\right) \\sin{\\left(2 \\epsilon \\phi_{c}{\\left(\\mathbf{{x}_{R}},\\mathbf{{y}_{R}} \\right)} + 2 q_{1} \\theta_{1}{\\left(\\mathbf{{x}_{R}},\\mathbf{{y}_{R}} \\right)} + 2 q_{2} \\theta_{2}{\\left(\\mathbf{{x}_{R}},\\mathbf{{y}_{R}} \\right)} \\right)}$"
      ],
      "text/plain": [
       "-epsilon*(2*epsilon*Derivative(phi_c(R.x, R.y), R.x, R.y) + 2*q_1*(sin(theta_1(R.x, R.y))*Derivative(r_1(R.x, R.y), R.y)/r_1(R.x, R.y)**2 - cos(theta_1(R.x, R.y))**2/r_1(R.x, R.y)**2) + 2*q_2*(sin(theta_2(R.x, R.y))*Derivative(r_2(R.x, R.y), R.y)/r_2(R.x, R.y)**2 - cos(theta_2(R.x, R.y))**2/r_2(R.x, R.y)**2) - (epsilon*Derivative(phi_c(R.x, R.y), R.x) - q_1*sin(theta_1(R.x, R.y))/r_1(R.x, R.y) - q_2*sin(theta_2(R.x, R.y))/r_2(R.x, R.y))**2 + (epsilon*Derivative(phi_c(R.x, R.y), R.y) + q_1*cos(theta_1(R.x, R.y))/r_1(R.x, R.y) + q_2*cos(theta_2(R.x, R.y))/r_2(R.x, R.y))**2)*sin(2*epsilon*phi_c(R.x, R.y) + 2*q_1*theta_1(R.x, R.y) + 2*q_2*theta_2(R.x, R.y))"
      ]
     },
     "metadata": {},
     "output_type": "display_data"
    },
    {
     "data": {
      "text/latex": [
       "$\\displaystyle - \\epsilon \\left(\\epsilon \\frac{\\partial^{2}}{\\partial \\mathbf{{x}_{R}}^{2}} \\phi_{c}{\\left(\\mathbf{{x}_{R}},\\mathbf{{y}_{R}} \\right)} - \\epsilon \\frac{\\partial^{2}}{\\partial \\mathbf{{y}_{R}}^{2}} \\phi_{c}{\\left(\\mathbf{{x}_{R}},\\mathbf{{y}_{R}} \\right)} - q_{1} \\left(- \\frac{\\sin{\\left(\\theta_{1}{\\left(\\mathbf{{x}_{R}},\\mathbf{{y}_{R}} \\right)} \\right)} \\cos{\\left(\\theta_{1}{\\left(\\mathbf{{x}_{R}},\\mathbf{{y}_{R}} \\right)} \\right)}}{\\operatorname{r_{1}}^{2}{\\left(\\mathbf{{x}_{R}},\\mathbf{{y}_{R}} \\right)}} - \\frac{\\cos{\\left(\\theta_{1}{\\left(\\mathbf{{x}_{R}},\\mathbf{{y}_{R}} \\right)} \\right)} \\frac{\\partial}{\\partial \\mathbf{{y}_{R}}} \\operatorname{r_{1}}{\\left(\\mathbf{{x}_{R}},\\mathbf{{y}_{R}} \\right)}}{\\operatorname{r_{1}}^{2}{\\left(\\mathbf{{x}_{R}},\\mathbf{{y}_{R}} \\right)}}\\right) + q_{1} \\left(\\frac{\\sin{\\left(\\theta_{1}{\\left(\\mathbf{{x}_{R}},\\mathbf{{y}_{R}} \\right)} \\right)} \\cos{\\left(\\theta_{1}{\\left(\\mathbf{{x}_{R}},\\mathbf{{y}_{R}} \\right)} \\right)}}{\\operatorname{r_{1}}^{2}{\\left(\\mathbf{{x}_{R}},\\mathbf{{y}_{R}} \\right)}} + \\frac{\\sin{\\left(\\theta_{1}{\\left(\\mathbf{{x}_{R}},\\mathbf{{y}_{R}} \\right)} \\right)} \\frac{\\partial}{\\partial \\mathbf{{x}_{R}}} \\operatorname{r_{1}}{\\left(\\mathbf{{x}_{R}},\\mathbf{{y}_{R}} \\right)}}{\\operatorname{r_{1}}^{2}{\\left(\\mathbf{{x}_{R}},\\mathbf{{y}_{R}} \\right)}}\\right) - q_{2} \\left(- \\frac{\\sin{\\left(\\theta_{2}{\\left(\\mathbf{{x}_{R}},\\mathbf{{y}_{R}} \\right)} \\right)} \\cos{\\left(\\theta_{2}{\\left(\\mathbf{{x}_{R}},\\mathbf{{y}_{R}} \\right)} \\right)}}{\\operatorname{r_{2}}^{2}{\\left(\\mathbf{{x}_{R}},\\mathbf{{y}_{R}} \\right)}} - \\frac{\\cos{\\left(\\theta_{2}{\\left(\\mathbf{{x}_{R}},\\mathbf{{y}_{R}} \\right)} \\right)} \\frac{\\partial}{\\partial \\mathbf{{y}_{R}}} \\operatorname{r_{2}}{\\left(\\mathbf{{x}_{R}},\\mathbf{{y}_{R}} \\right)}}{\\operatorname{r_{2}}^{2}{\\left(\\mathbf{{x}_{R}},\\mathbf{{y}_{R}} \\right)}}\\right) + q_{2} \\left(\\frac{\\sin{\\left(\\theta_{2}{\\left(\\mathbf{{x}_{R}},\\mathbf{{y}_{R}} \\right)} \\right)} \\cos{\\left(\\theta_{2}{\\left(\\mathbf{{x}_{R}},\\mathbf{{y}_{R}} \\right)} \\right)}}{\\operatorname{r_{2}}^{2}{\\left(\\mathbf{{x}_{R}},\\mathbf{{y}_{R}} \\right)}} + \\frac{\\sin{\\left(\\theta_{2}{\\left(\\mathbf{{x}_{R}},\\mathbf{{y}_{R}} \\right)} \\right)} \\frac{\\partial}{\\partial \\mathbf{{x}_{R}}} \\operatorname{r_{2}}{\\left(\\mathbf{{x}_{R}},\\mathbf{{y}_{R}} \\right)}}{\\operatorname{r_{2}}^{2}{\\left(\\mathbf{{x}_{R}},\\mathbf{{y}_{R}} \\right)}}\\right) + 2 \\left(\\epsilon \\frac{\\partial}{\\partial \\mathbf{{x}_{R}}} \\phi_{c}{\\left(\\mathbf{{x}_{R}},\\mathbf{{y}_{R}} \\right)} - \\frac{q_{1} \\sin{\\left(\\theta_{1}{\\left(\\mathbf{{x}_{R}},\\mathbf{{y}_{R}} \\right)} \\right)}}{\\operatorname{r_{1}}{\\left(\\mathbf{{x}_{R}},\\mathbf{{y}_{R}} \\right)}} - \\frac{q_{2} \\sin{\\left(\\theta_{2}{\\left(\\mathbf{{x}_{R}},\\mathbf{{y}_{R}} \\right)} \\right)}}{\\operatorname{r_{2}}{\\left(\\mathbf{{x}_{R}},\\mathbf{{y}_{R}} \\right)}}\\right) \\left(\\epsilon \\frac{\\partial}{\\partial \\mathbf{{y}_{R}}} \\phi_{c}{\\left(\\mathbf{{x}_{R}},\\mathbf{{y}_{R}} \\right)} + \\frac{q_{1} \\cos{\\left(\\theta_{1}{\\left(\\mathbf{{x}_{R}},\\mathbf{{y}_{R}} \\right)} \\right)}}{\\operatorname{r_{1}}{\\left(\\mathbf{{x}_{R}},\\mathbf{{y}_{R}} \\right)}} + \\frac{q_{2} \\cos{\\left(\\theta_{2}{\\left(\\mathbf{{x}_{R}},\\mathbf{{y}_{R}} \\right)} \\right)}}{\\operatorname{r_{2}}{\\left(\\mathbf{{x}_{R}},\\mathbf{{y}_{R}} \\right)}}\\right)\\right) \\cos{\\left(2 \\epsilon \\phi_{c}{\\left(\\mathbf{{x}_{R}},\\mathbf{{y}_{R}} \\right)} + 2 q_{1} \\theta_{1}{\\left(\\mathbf{{x}_{R}},\\mathbf{{y}_{R}} \\right)} + 2 q_{2} \\theta_{2}{\\left(\\mathbf{{x}_{R}},\\mathbf{{y}_{R}} \\right)} \\right)}$"
      ],
      "text/plain": [
       "-epsilon*(epsilon*Derivative(phi_c(R.x, R.y), (R.x, 2)) - epsilon*Derivative(phi_c(R.x, R.y), (R.y, 2)) - q_1*(-sin(theta_1(R.x, R.y))*cos(theta_1(R.x, R.y))/r_1(R.x, R.y)**2 - cos(theta_1(R.x, R.y))*Derivative(r_1(R.x, R.y), R.y)/r_1(R.x, R.y)**2) + q_1*(sin(theta_1(R.x, R.y))*cos(theta_1(R.x, R.y))/r_1(R.x, R.y)**2 + sin(theta_1(R.x, R.y))*Derivative(r_1(R.x, R.y), R.x)/r_1(R.x, R.y)**2) - q_2*(-sin(theta_2(R.x, R.y))*cos(theta_2(R.x, R.y))/r_2(R.x, R.y)**2 - cos(theta_2(R.x, R.y))*Derivative(r_2(R.x, R.y), R.y)/r_2(R.x, R.y)**2) + q_2*(sin(theta_2(R.x, R.y))*cos(theta_2(R.x, R.y))/r_2(R.x, R.y)**2 + sin(theta_2(R.x, R.y))*Derivative(r_2(R.x, R.y), R.x)/r_2(R.x, R.y)**2) + 2*(epsilon*Derivative(phi_c(R.x, R.y), R.x) - q_1*sin(theta_1(R.x, R.y))/r_1(R.x, R.y) - q_2*sin(theta_2(R.x, R.y))/r_2(R.x, R.y))*(epsilon*Derivative(phi_c(R.x, R.y), R.y) + q_1*cos(theta_1(R.x, R.y))/r_1(R.x, R.y) + q_2*cos(theta_2(R.x, R.y))/r_2(R.x, R.y)))*cos(2*epsilon*phi_c(R.x, R.y) + 2*q_1*theta_1(R.x, R.y) + 2*q_2*theta_2(R.x, R.y))"
      ]
     },
     "metadata": {},
     "output_type": "display_data"
    }
   ],
   "source": [
    "euler_lagrange_p = euler_lagrange_p.doit()\n",
    "euler_lagrange_p = euler_lagrange_p.subs({theta_1.diff(x): -1/r_1 * sin(theta_1),\n",
    "                                          theta_2.diff(x): -1/r_2 * sin(theta_2),\n",
    "                                          theta_1.diff(y): 1/r_1 * cos(theta_1),\n",
    "                                          theta_2.diff(y): 1/r_2 * cos(theta_2)})\n",
    "for arg in euler_lagrange_p.args:\n",
    "    display(arg)"
   ]
  },
  {
   "cell_type": "code",
   "execution_count": 157,
   "id": "e8ac5c25",
   "metadata": {},
   "outputs": [
    {
     "data": {
      "text/latex": [
       "$\\displaystyle \\epsilon \\frac{\\partial^{2}}{\\partial \\mathbf{{x}_{R}}^{2}} \\phi_{c}{\\left(\\mathbf{{x}_{R}},\\mathbf{{y}_{R}} \\right)}$"
      ],
      "text/plain": [
       "epsilon*Derivative(phi_c(R.x, R.y), (R.x, 2))"
      ]
     },
     "metadata": {},
     "output_type": "display_data"
    },
    {
     "data": {
      "text/latex": [
       "$\\displaystyle \\epsilon \\frac{\\partial^{2}}{\\partial \\mathbf{{y}_{R}}^{2}} \\phi_{c}{\\left(\\mathbf{{x}_{R}},\\mathbf{{y}_{R}} \\right)}$"
      ],
      "text/plain": [
       "epsilon*Derivative(phi_c(R.x, R.y), (R.y, 2))"
      ]
     },
     "metadata": {},
     "output_type": "display_data"
    },
    {
     "data": {
      "text/latex": [
       "$\\displaystyle - \\epsilon \\left(2 \\epsilon \\frac{\\partial^{2}}{\\partial \\mathbf{{y}_{R}}\\partial \\mathbf{{x}_{R}}} \\phi_{c}{\\left(\\mathbf{{x}_{R}},\\mathbf{{y}_{R}} \\right)} + 2 q_{1} \\left(\\frac{\\sin^{2}{\\left(\\theta_{1}{\\left(\\mathbf{{x}_{R}},\\mathbf{{y}_{R}} \\right)} \\right)}}{\\operatorname{r_{1}}^{2}{\\left(\\mathbf{{x}_{R}},\\mathbf{{y}_{R}} \\right)}} - \\frac{\\cos^{2}{\\left(\\theta_{1}{\\left(\\mathbf{{x}_{R}},\\mathbf{{y}_{R}} \\right)} \\right)}}{\\operatorname{r_{1}}^{2}{\\left(\\mathbf{{x}_{R}},\\mathbf{{y}_{R}} \\right)}}\\right) + 2 q_{2} \\left(\\frac{\\sin^{2}{\\left(\\theta_{2}{\\left(\\mathbf{{x}_{R}},\\mathbf{{y}_{R}} \\right)} \\right)}}{\\operatorname{r_{2}}^{2}{\\left(\\mathbf{{x}_{R}},\\mathbf{{y}_{R}} \\right)}} - \\frac{\\cos^{2}{\\left(\\theta_{2}{\\left(\\mathbf{{x}_{R}},\\mathbf{{y}_{R}} \\right)} \\right)}}{\\operatorname{r_{2}}^{2}{\\left(\\mathbf{{x}_{R}},\\mathbf{{y}_{R}} \\right)}}\\right) - \\left(\\epsilon \\frac{\\partial}{\\partial \\mathbf{{x}_{R}}} \\phi_{c}{\\left(\\mathbf{{x}_{R}},\\mathbf{{y}_{R}} \\right)} - \\frac{q_{1} \\sin{\\left(\\theta_{1}{\\left(\\mathbf{{x}_{R}},\\mathbf{{y}_{R}} \\right)} \\right)}}{\\operatorname{r_{1}}{\\left(\\mathbf{{x}_{R}},\\mathbf{{y}_{R}} \\right)}} - \\frac{q_{2} \\sin{\\left(\\theta_{2}{\\left(\\mathbf{{x}_{R}},\\mathbf{{y}_{R}} \\right)} \\right)}}{\\operatorname{r_{2}}{\\left(\\mathbf{{x}_{R}},\\mathbf{{y}_{R}} \\right)}}\\right)^{2} + \\left(\\epsilon \\frac{\\partial}{\\partial \\mathbf{{y}_{R}}} \\phi_{c}{\\left(\\mathbf{{x}_{R}},\\mathbf{{y}_{R}} \\right)} + \\frac{q_{1} \\cos{\\left(\\theta_{1}{\\left(\\mathbf{{x}_{R}},\\mathbf{{y}_{R}} \\right)} \\right)}}{\\operatorname{r_{1}}{\\left(\\mathbf{{x}_{R}},\\mathbf{{y}_{R}} \\right)}} + \\frac{q_{2} \\cos{\\left(\\theta_{2}{\\left(\\mathbf{{x}_{R}},\\mathbf{{y}_{R}} \\right)} \\right)}}{\\operatorname{r_{2}}{\\left(\\mathbf{{x}_{R}},\\mathbf{{y}_{R}} \\right)}}\\right)^{2}\\right) \\sin{\\left(2 \\epsilon \\phi_{c}{\\left(\\mathbf{{x}_{R}},\\mathbf{{y}_{R}} \\right)} + 2 q_{1} \\theta_{1}{\\left(\\mathbf{{x}_{R}},\\mathbf{{y}_{R}} \\right)} + 2 q_{2} \\theta_{2}{\\left(\\mathbf{{x}_{R}},\\mathbf{{y}_{R}} \\right)} \\right)}$"
      ],
      "text/plain": [
       "-epsilon*(2*epsilon*Derivative(phi_c(R.x, R.y), R.x, R.y) + 2*q_1*(sin(theta_1(R.x, R.y))**2/r_1(R.x, R.y)**2 - cos(theta_1(R.x, R.y))**2/r_1(R.x, R.y)**2) + 2*q_2*(sin(theta_2(R.x, R.y))**2/r_2(R.x, R.y)**2 - cos(theta_2(R.x, R.y))**2/r_2(R.x, R.y)**2) - (epsilon*Derivative(phi_c(R.x, R.y), R.x) - q_1*sin(theta_1(R.x, R.y))/r_1(R.x, R.y) - q_2*sin(theta_2(R.x, R.y))/r_2(R.x, R.y))**2 + (epsilon*Derivative(phi_c(R.x, R.y), R.y) + q_1*cos(theta_1(R.x, R.y))/r_1(R.x, R.y) + q_2*cos(theta_2(R.x, R.y))/r_2(R.x, R.y))**2)*sin(2*epsilon*phi_c(R.x, R.y) + 2*q_1*theta_1(R.x, R.y) + 2*q_2*theta_2(R.x, R.y))"
      ]
     },
     "metadata": {},
     "output_type": "display_data"
    },
    {
     "data": {
      "text/latex": [
       "$\\displaystyle - \\epsilon \\left(\\epsilon \\frac{\\partial^{2}}{\\partial \\mathbf{{x}_{R}}^{2}} \\phi_{c}{\\left(\\mathbf{{x}_{R}},\\mathbf{{y}_{R}} \\right)} - \\epsilon \\frac{\\partial^{2}}{\\partial \\mathbf{{y}_{R}}^{2}} \\phi_{c}{\\left(\\mathbf{{x}_{R}},\\mathbf{{y}_{R}} \\right)} + \\frac{4 q_{1} \\sin{\\left(\\theta_{1}{\\left(\\mathbf{{x}_{R}},\\mathbf{{y}_{R}} \\right)} \\right)} \\cos{\\left(\\theta_{1}{\\left(\\mathbf{{x}_{R}},\\mathbf{{y}_{R}} \\right)} \\right)}}{\\operatorname{r_{1}}^{2}{\\left(\\mathbf{{x}_{R}},\\mathbf{{y}_{R}} \\right)}} + \\frac{4 q_{2} \\sin{\\left(\\theta_{2}{\\left(\\mathbf{{x}_{R}},\\mathbf{{y}_{R}} \\right)} \\right)} \\cos{\\left(\\theta_{2}{\\left(\\mathbf{{x}_{R}},\\mathbf{{y}_{R}} \\right)} \\right)}}{\\operatorname{r_{2}}^{2}{\\left(\\mathbf{{x}_{R}},\\mathbf{{y}_{R}} \\right)}} + 2 \\left(\\epsilon \\frac{\\partial}{\\partial \\mathbf{{x}_{R}}} \\phi_{c}{\\left(\\mathbf{{x}_{R}},\\mathbf{{y}_{R}} \\right)} - \\frac{q_{1} \\sin{\\left(\\theta_{1}{\\left(\\mathbf{{x}_{R}},\\mathbf{{y}_{R}} \\right)} \\right)}}{\\operatorname{r_{1}}{\\left(\\mathbf{{x}_{R}},\\mathbf{{y}_{R}} \\right)}} - \\frac{q_{2} \\sin{\\left(\\theta_{2}{\\left(\\mathbf{{x}_{R}},\\mathbf{{y}_{R}} \\right)} \\right)}}{\\operatorname{r_{2}}{\\left(\\mathbf{{x}_{R}},\\mathbf{{y}_{R}} \\right)}}\\right) \\left(\\epsilon \\frac{\\partial}{\\partial \\mathbf{{y}_{R}}} \\phi_{c}{\\left(\\mathbf{{x}_{R}},\\mathbf{{y}_{R}} \\right)} + \\frac{q_{1} \\cos{\\left(\\theta_{1}{\\left(\\mathbf{{x}_{R}},\\mathbf{{y}_{R}} \\right)} \\right)}}{\\operatorname{r_{1}}{\\left(\\mathbf{{x}_{R}},\\mathbf{{y}_{R}} \\right)}} + \\frac{q_{2} \\cos{\\left(\\theta_{2}{\\left(\\mathbf{{x}_{R}},\\mathbf{{y}_{R}} \\right)} \\right)}}{\\operatorname{r_{2}}{\\left(\\mathbf{{x}_{R}},\\mathbf{{y}_{R}} \\right)}}\\right)\\right) \\cos{\\left(2 \\epsilon \\phi_{c}{\\left(\\mathbf{{x}_{R}},\\mathbf{{y}_{R}} \\right)} + 2 q_{1} \\theta_{1}{\\left(\\mathbf{{x}_{R}},\\mathbf{{y}_{R}} \\right)} + 2 q_{2} \\theta_{2}{\\left(\\mathbf{{x}_{R}},\\mathbf{{y}_{R}} \\right)} \\right)}$"
      ],
      "text/plain": [
       "-epsilon*(epsilon*Derivative(phi_c(R.x, R.y), (R.x, 2)) - epsilon*Derivative(phi_c(R.x, R.y), (R.y, 2)) + 4*q_1*sin(theta_1(R.x, R.y))*cos(theta_1(R.x, R.y))/r_1(R.x, R.y)**2 + 4*q_2*sin(theta_2(R.x, R.y))*cos(theta_2(R.x, R.y))/r_2(R.x, R.y)**2 + 2*(epsilon*Derivative(phi_c(R.x, R.y), R.x) - q_1*sin(theta_1(R.x, R.y))/r_1(R.x, R.y) - q_2*sin(theta_2(R.x, R.y))/r_2(R.x, R.y))*(epsilon*Derivative(phi_c(R.x, R.y), R.y) + q_1*cos(theta_1(R.x, R.y))/r_1(R.x, R.y) + q_2*cos(theta_2(R.x, R.y))/r_2(R.x, R.y)))*cos(2*epsilon*phi_c(R.x, R.y) + 2*q_1*theta_1(R.x, R.y) + 2*q_2*theta_2(R.x, R.y))"
      ]
     },
     "metadata": {},
     "output_type": "display_data"
    }
   ],
   "source": [
    "euler_lagrange_p = euler_lagrange_p.subs({r_1.diff(x): cos(theta_1),\n",
    "                                          r_2.diff(x): cos(theta_2),\n",
    "                                          r_1.diff(y): sin(theta_1),\n",
    "                                          r_2.diff(y): sin(theta_2)})\n",
    "\n",
    "for arg in euler_lagrange_p.args:\n",
    "    display(arg)"
   ]
  },
  {
   "cell_type": "code",
   "execution_count": 161,
   "id": "befac3ba",
   "metadata": {},
   "outputs": [
    {
     "data": {
      "text/latex": [
       "$\\displaystyle \\frac{\\epsilon \\left(- 2 q_{1} q_{2} \\operatorname{r_{1}}{\\left(\\mathbf{{x}_{R}},\\mathbf{{y}_{R}} \\right)} \\operatorname{r_{2}}{\\left(\\mathbf{{x}_{R}},\\mathbf{{y}_{R}} \\right)} \\sin{\\left(2 \\epsilon \\phi_{c}{\\left(\\mathbf{{x}_{R}},\\mathbf{{y}_{R}} \\right)} + 2 q_{1} \\theta_{1}{\\left(\\mathbf{{x}_{R}},\\mathbf{{y}_{R}} \\right)} + 2 q_{2} \\theta_{2}{\\left(\\mathbf{{x}_{R}},\\mathbf{{y}_{R}} \\right)} - \\theta_{1}{\\left(\\mathbf{{x}_{R}},\\mathbf{{y}_{R}} \\right)} - \\theta_{2}{\\left(\\mathbf{{x}_{R}},\\mathbf{{y}_{R}} \\right)} \\right)} + q_{1} \\cdot \\left(2 - q_{1}\\right) \\operatorname{r_{2}}^{2}{\\left(\\mathbf{{x}_{R}},\\mathbf{{y}_{R}} \\right)} \\sin{\\left(2 \\epsilon \\phi_{c}{\\left(\\mathbf{{x}_{R}},\\mathbf{{y}_{R}} \\right)} + 2 q_{1} \\theta_{1}{\\left(\\mathbf{{x}_{R}},\\mathbf{{y}_{R}} \\right)} + 2 q_{2} \\theta_{2}{\\left(\\mathbf{{x}_{R}},\\mathbf{{y}_{R}} \\right)} - 2 \\theta_{1}{\\left(\\mathbf{{x}_{R}},\\mathbf{{y}_{R}} \\right)} \\right)} + q_{2} \\cdot \\left(2 - q_{2}\\right) \\operatorname{r_{1}}^{2}{\\left(\\mathbf{{x}_{R}},\\mathbf{{y}_{R}} \\right)} \\sin{\\left(2 \\epsilon \\phi_{c}{\\left(\\mathbf{{x}_{R}},\\mathbf{{y}_{R}} \\right)} + 2 q_{1} \\theta_{1}{\\left(\\mathbf{{x}_{R}},\\mathbf{{y}_{R}} \\right)} + 2 q_{2} \\theta_{2}{\\left(\\mathbf{{x}_{R}},\\mathbf{{y}_{R}} \\right)} - 2 \\theta_{2}{\\left(\\mathbf{{x}_{R}},\\mathbf{{y}_{R}} \\right)} \\right)} + \\left(\\frac{\\partial^{2}}{\\partial \\mathbf{{x}_{R}}^{2}} \\phi_{c}{\\left(\\mathbf{{x}_{R}},\\mathbf{{y}_{R}} \\right)} + \\frac{\\partial^{2}}{\\partial \\mathbf{{y}_{R}}^{2}} \\phi_{c}{\\left(\\mathbf{{x}_{R}},\\mathbf{{y}_{R}} \\right)}\\right) \\operatorname{r_{1}}^{2}{\\left(\\mathbf{{x}_{R}},\\mathbf{{y}_{R}} \\right)} \\operatorname{r_{2}}^{2}{\\left(\\mathbf{{x}_{R}},\\mathbf{{y}_{R}} \\right)}\\right)}{\\operatorname{r_{1}}^{2}{\\left(\\mathbf{{x}_{R}},\\mathbf{{y}_{R}} \\right)} \\operatorname{r_{2}}^{2}{\\left(\\mathbf{{x}_{R}},\\mathbf{{y}_{R}} \\right)}}$"
      ],
      "text/plain": [
       "epsilon*(-2*q_1*q_2*r_1(R.x, R.y)*r_2(R.x, R.y)*sin(2*epsilon*phi_c(R.x, R.y) + 2*q_1*theta_1(R.x, R.y) + 2*q_2*theta_2(R.x, R.y) - theta_1(R.x, R.y) - theta_2(R.x, R.y)) + q_1*(2 - q_1)*r_2(R.x, R.y)**2*sin(2*epsilon*phi_c(R.x, R.y) + 2*q_1*theta_1(R.x, R.y) + 2*q_2*theta_2(R.x, R.y) - 2*theta_1(R.x, R.y)) + q_2*(2 - q_2)*r_1(R.x, R.y)**2*sin(2*epsilon*phi_c(R.x, R.y) + 2*q_1*theta_1(R.x, R.y) + 2*q_2*theta_2(R.x, R.y) - 2*theta_2(R.x, R.y)) + (Derivative(phi_c(R.x, R.y), (R.x, 2)) + Derivative(phi_c(R.x, R.y), (R.y, 2)))*r_1(R.x, R.y)**2*r_2(R.x, R.y)**2)/(r_1(R.x, R.y)**2*r_2(R.x, R.y)**2)"
      ]
     },
     "metadata": {},
     "output_type": "display_data"
    }
   ],
   "source": [
    "euler_lagrange_p = expand(euler_lagrange_p)\n",
    "euler_lagrange_p = euler_lagrange_p.subs({eps**2 : 0, eps**3 : 0})\n",
    "euler_lagrange_p = simplify(euler_lagrange_p)\n",
    "\n",
    "display(euler_lagrange_p)"
   ]
  },
  {
   "cell_type": "code",
   "execution_count": null,
   "id": "463d1faa",
   "metadata": {},
   "outputs": [],
   "source": []
  }
 ],
 "metadata": {
  "kernelspec": {
   "display_name": "Python 3 (ipykernel)",
   "language": "python",
   "name": "python3"
  },
  "language_info": {
   "codemirror_mode": {
    "name": "ipython",
    "version": 3
   },
   "file_extension": ".py",
   "mimetype": "text/x-python",
   "name": "python",
   "nbconvert_exporter": "python",
   "pygments_lexer": "ipython3",
   "version": "3.9.7"
  }
 },
 "nbformat": 4,
 "nbformat_minor": 5
}
