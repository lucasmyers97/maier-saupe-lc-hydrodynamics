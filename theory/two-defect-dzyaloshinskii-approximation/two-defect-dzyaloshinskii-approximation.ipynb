{
 "cells": [
  {
   "cell_type": "code",
   "execution_count": 13,
   "id": "3c646fe9",
   "metadata": {},
   "outputs": [],
   "source": [
    "from sympy import *\n",
    "from sympy.vector import CoordSys3D, Del"
   ]
  },
  {
   "cell_type": "code",
   "execution_count": 30,
   "id": "e7d87623",
   "metadata": {},
   "outputs": [],
   "source": [
    "R = CoordSys3D('R')\n",
    "delop = Del()\n",
    "x = R.x\n",
    "y = R.y\n",
    "\n",
    "eps, theta = symbols('epsilon theta')\n",
    "nx = Function('n_x')(x, y)\n",
    "ny = Function('n_y')(x, y)"
   ]
  },
  {
   "cell_type": "code",
   "execution_count": 31,
   "id": "5dee171f",
   "metadata": {},
   "outputs": [
    {
     "data": {
      "text/latex": [
       "$\\displaystyle (\\operatorname{n_{x}}{\\left(\\mathbf{{x}_{R}},\\mathbf{{y}_{R}} \\right)})\\mathbf{\\hat{i}_{R}} + (\\operatorname{n_{y}}{\\left(\\mathbf{{x}_{R}},\\mathbf{{y}_{R}} \\right)})\\mathbf{\\hat{j}_{R}}$"
      ],
      "text/plain": [
       "(n_x(R.x, R.y))*R.i + (n_y(R.x, R.y))*R.j"
      ]
     },
     "execution_count": 31,
     "metadata": {},
     "output_type": "execute_result"
    }
   ],
   "source": [
    "n = nx * R.i + ny * R.j\n",
    "n"
   ]
  },
  {
   "cell_type": "markdown",
   "id": "18b60c3a",
   "metadata": {},
   "source": [
    "### Calculate charge density"
   ]
  },
  {
   "cell_type": "code",
   "execution_count": 42,
   "id": "cbdcda0b",
   "metadata": {},
   "outputs": [
    {
     "data": {
      "text/latex": [
       "$\\displaystyle \\left(\\frac{\\partial}{\\partial \\mathbf{{x}_{R}}} \\operatorname{n_{x}}{\\left(\\mathbf{{x}_{R}},\\mathbf{{y}_{R}} \\right)} + \\frac{\\partial}{\\partial \\mathbf{{y}_{R}}} \\operatorname{n_{y}}{\\left(\\mathbf{{x}_{R}},\\mathbf{{y}_{R}} \\right)}\\right)^{2}$"
      ],
      "text/plain": [
       "(Derivative(n_x(R.x, R.y), R.x) + Derivative(n_y(R.x, R.y), R.y))**2"
      ]
     },
     "execution_count": 42,
     "metadata": {},
     "output_type": "execute_result"
    }
   ],
   "source": [
    "splay = simplify( delop.dot(n).doit()**2 )\n",
    "splay"
   ]
  },
  {
   "cell_type": "code",
   "execution_count": 46,
   "id": "7fcfde91",
   "metadata": {},
   "outputs": [
    {
     "data": {
      "text/latex": [
       "$\\displaystyle \\left(\\frac{\\partial}{\\partial \\mathbf{{y}_{R}}} \\operatorname{n_{x}}{\\left(\\mathbf{{x}_{R}},\\mathbf{{y}_{R}} \\right)} - \\frac{\\partial}{\\partial \\mathbf{{x}_{R}}} \\operatorname{n_{y}}{\\left(\\mathbf{{x}_{R}},\\mathbf{{y}_{R}} \\right)}\\right)^{2}$"
      ],
      "text/plain": [
       "(Derivative(n_x(R.x, R.y), R.y) - Derivative(n_y(R.x, R.y), R.x))**2"
      ]
     },
     "execution_count": 46,
     "metadata": {},
     "output_type": "execute_result"
    }
   ],
   "source": [
    "bend = simplify( n.cross( delop.cross(n).doit() ).magnitude()**2 )\n",
    "bend = bend.subs(nx**2 + ny**2, 1)\n",
    "bend"
   ]
  },
  {
   "cell_type": "code",
   "execution_count": 47,
   "id": "554bb2cf",
   "metadata": {},
   "outputs": [
    {
     "data": {
      "text/latex": [
       "$\\displaystyle \\left(1 - \\epsilon\\right) \\left(\\frac{\\partial}{\\partial \\mathbf{{y}_{R}}} \\operatorname{n_{x}}{\\left(\\mathbf{{x}_{R}},\\mathbf{{y}_{R}} \\right)} - \\frac{\\partial}{\\partial \\mathbf{{x}_{R}}} \\operatorname{n_{y}}{\\left(\\mathbf{{x}_{R}},\\mathbf{{y}_{R}} \\right)}\\right)^{2} + \\left(\\epsilon + 1\\right) \\left(\\frac{\\partial}{\\partial \\mathbf{{x}_{R}}} \\operatorname{n_{x}}{\\left(\\mathbf{{x}_{R}},\\mathbf{{y}_{R}} \\right)} + \\frac{\\partial}{\\partial \\mathbf{{y}_{R}}} \\operatorname{n_{y}}{\\left(\\mathbf{{x}_{R}},\\mathbf{{y}_{R}} \\right)}\\right)^{2}$"
      ],
      "text/plain": [
       "(1 - epsilon)*(Derivative(n_x(R.x, R.y), R.y) - Derivative(n_y(R.x, R.y), R.x))**2 + (epsilon + 1)*(Derivative(n_x(R.x, R.y), R.x) + Derivative(n_y(R.x, R.y), R.y))**2"
      ]
     },
     "execution_count": 47,
     "metadata": {},
     "output_type": "execute_result"
    }
   ],
   "source": [
    "g = (1 + eps) * splay + (1 - eps) * bend\n",
    "g"
   ]
  },
  {
   "cell_type": "markdown",
   "id": "41caa2c8",
   "metadata": {},
   "source": [
    "### Calculate in terms of director angle"
   ]
  },
  {
   "cell_type": "code",
   "execution_count": 48,
   "id": "eef8af42",
   "metadata": {},
   "outputs": [
    {
     "data": {
      "text/latex": [
       "$\\displaystyle \\phi{\\left(\\mathbf{{x}_{R}},\\mathbf{{y}_{R}} \\right)}$"
      ],
      "text/plain": [
       "phi(R.x, R.y)"
      ]
     },
     "execution_count": 48,
     "metadata": {},
     "output_type": "execute_result"
    }
   ],
   "source": [
    "phi = Function('phi')(x, y)\n",
    "phi"
   ]
  },
  {
   "cell_type": "code",
   "execution_count": 57,
   "id": "3141116d",
   "metadata": {},
   "outputs": [
    {
     "data": {
      "text/latex": [
       "$\\displaystyle \\left(1 - \\epsilon\\right) \\left(\\sin{\\left(\\phi{\\left(\\mathbf{{x}_{R}},\\mathbf{{y}_{R}} \\right)} \\right)} \\frac{\\partial}{\\partial \\mathbf{{y}_{R}}} \\phi{\\left(\\mathbf{{x}_{R}},\\mathbf{{y}_{R}} \\right)} + \\cos{\\left(\\phi{\\left(\\mathbf{{x}_{R}},\\mathbf{{y}_{R}} \\right)} \\right)} \\frac{\\partial}{\\partial \\mathbf{{x}_{R}}} \\phi{\\left(\\mathbf{{x}_{R}},\\mathbf{{y}_{R}} \\right)}\\right)^{2} + \\left(\\epsilon + 1\\right) \\left(\\sin{\\left(\\phi{\\left(\\mathbf{{x}_{R}},\\mathbf{{y}_{R}} \\right)} \\right)} \\frac{\\partial}{\\partial \\mathbf{{x}_{R}}} \\phi{\\left(\\mathbf{{x}_{R}},\\mathbf{{y}_{R}} \\right)} - \\cos{\\left(\\phi{\\left(\\mathbf{{x}_{R}},\\mathbf{{y}_{R}} \\right)} \\right)} \\frac{\\partial}{\\partial \\mathbf{{y}_{R}}} \\phi{\\left(\\mathbf{{x}_{R}},\\mathbf{{y}_{R}} \\right)}\\right)^{2}$"
      ],
      "text/plain": [
       "(1 - epsilon)*(sin(phi(R.x, R.y))*Derivative(phi(R.x, R.y), R.y) + cos(phi(R.x, R.y))*Derivative(phi(R.x, R.y), R.x))**2 + (epsilon + 1)*(sin(phi(R.x, R.y))*Derivative(phi(R.x, R.y), R.x) - cos(phi(R.x, R.y))*Derivative(phi(R.x, R.y), R.y))**2"
      ]
     },
     "execution_count": 57,
     "metadata": {},
     "output_type": "execute_result"
    }
   ],
   "source": [
    "g = simplify( g.subs({nx: cos(phi), ny: sin(phi)}) )\n",
    "g"
   ]
  },
  {
   "cell_type": "markdown",
   "id": "d2c7c059",
   "metadata": {},
   "source": [
    "### Plug it into [Euler-Lagrange equation](https://www.wikiwand.com/en/Euler%E2%80%93Lagrange_equation#Single_function_of_several_variables_with_single_derivative)"
   ]
  },
  {
   "cell_type": "code",
   "execution_count": 66,
   "id": "a1a3ddc9",
   "metadata": {},
   "outputs": [
    {
     "data": {
      "text/latex": [
       "$\\displaystyle 2 \\epsilon \\left(- 2 \\sin^{2}{\\left(\\phi{\\left(\\mathbf{{x}_{R}},\\mathbf{{y}_{R}} \\right)} \\right)} \\frac{\\partial}{\\partial \\mathbf{{x}_{R}}} \\phi{\\left(\\mathbf{{x}_{R}},\\mathbf{{y}_{R}} \\right)} \\frac{\\partial}{\\partial \\mathbf{{y}_{R}}} \\phi{\\left(\\mathbf{{x}_{R}},\\mathbf{{y}_{R}} \\right)} - \\sin^{2}{\\left(\\phi{\\left(\\mathbf{{x}_{R}},\\mathbf{{y}_{R}} \\right)} \\right)} \\frac{\\partial^{2}}{\\partial \\mathbf{{x}_{R}}^{2}} \\phi{\\left(\\mathbf{{x}_{R}},\\mathbf{{y}_{R}} \\right)} + \\sin^{2}{\\left(\\phi{\\left(\\mathbf{{x}_{R}},\\mathbf{{y}_{R}} \\right)} \\right)} \\frac{\\partial^{2}}{\\partial \\mathbf{{y}_{R}}^{2}} \\phi{\\left(\\mathbf{{x}_{R}},\\mathbf{{y}_{R}} \\right)} - \\sin{\\left(2 \\phi{\\left(\\mathbf{{x}_{R}},\\mathbf{{y}_{R}} \\right)} \\right)} \\left(\\frac{\\partial}{\\partial \\mathbf{{x}_{R}}} \\phi{\\left(\\mathbf{{x}_{R}},\\mathbf{{y}_{R}} \\right)}\\right)^{2} + \\sin{\\left(2 \\phi{\\left(\\mathbf{{x}_{R}},\\mathbf{{y}_{R}} \\right)} \\right)} \\left(\\frac{\\partial}{\\partial \\mathbf{{y}_{R}}} \\phi{\\left(\\mathbf{{x}_{R}},\\mathbf{{y}_{R}} \\right)}\\right)^{2} + 2 \\sin{\\left(2 \\phi{\\left(\\mathbf{{x}_{R}},\\mathbf{{y}_{R}} \\right)} \\right)} \\frac{\\partial^{2}}{\\partial \\mathbf{{y}_{R}}\\partial \\mathbf{{x}_{R}}} \\phi{\\left(\\mathbf{{x}_{R}},\\mathbf{{y}_{R}} \\right)} + 2 \\cos^{2}{\\left(\\phi{\\left(\\mathbf{{x}_{R}},\\mathbf{{y}_{R}} \\right)} \\right)} \\frac{\\partial}{\\partial \\mathbf{{x}_{R}}} \\phi{\\left(\\mathbf{{x}_{R}},\\mathbf{{y}_{R}} \\right)} \\frac{\\partial}{\\partial \\mathbf{{y}_{R}}} \\phi{\\left(\\mathbf{{x}_{R}},\\mathbf{{y}_{R}} \\right)} + \\cos^{2}{\\left(\\phi{\\left(\\mathbf{{x}_{R}},\\mathbf{{y}_{R}} \\right)} \\right)} \\frac{\\partial^{2}}{\\partial \\mathbf{{x}_{R}}^{2}} \\phi{\\left(\\mathbf{{x}_{R}},\\mathbf{{y}_{R}} \\right)} - \\cos^{2}{\\left(\\phi{\\left(\\mathbf{{x}_{R}},\\mathbf{{y}_{R}} \\right)} \\right)} \\frac{\\partial^{2}}{\\partial \\mathbf{{y}_{R}}^{2}} \\phi{\\left(\\mathbf{{x}_{R}},\\mathbf{{y}_{R}} \\right)}\\right) - 2 \\sin^{2}{\\left(\\phi{\\left(\\mathbf{{x}_{R}},\\mathbf{{y}_{R}} \\right)} \\right)} \\frac{\\partial^{2}}{\\partial \\mathbf{{x}_{R}}^{2}} \\phi{\\left(\\mathbf{{x}_{R}},\\mathbf{{y}_{R}} \\right)} - 2 \\sin^{2}{\\left(\\phi{\\left(\\mathbf{{x}_{R}},\\mathbf{{y}_{R}} \\right)} \\right)} \\frac{\\partial^{2}}{\\partial \\mathbf{{y}_{R}}^{2}} \\phi{\\left(\\mathbf{{x}_{R}},\\mathbf{{y}_{R}} \\right)} - 2 \\cos^{2}{\\left(\\phi{\\left(\\mathbf{{x}_{R}},\\mathbf{{y}_{R}} \\right)} \\right)} \\frac{\\partial^{2}}{\\partial \\mathbf{{x}_{R}}^{2}} \\phi{\\left(\\mathbf{{x}_{R}},\\mathbf{{y}_{R}} \\right)} - 2 \\cos^{2}{\\left(\\phi{\\left(\\mathbf{{x}_{R}},\\mathbf{{y}_{R}} \\right)} \\right)} \\frac{\\partial^{2}}{\\partial \\mathbf{{y}_{R}}^{2}} \\phi{\\left(\\mathbf{{x}_{R}},\\mathbf{{y}_{R}} \\right)}$"
      ],
      "text/plain": [
       "2*epsilon*(-2*sin(phi(R.x, R.y))**2*Derivative(phi(R.x, R.y), R.x)*Derivative(phi(R.x, R.y), R.y) - sin(phi(R.x, R.y))**2*Derivative(phi(R.x, R.y), (R.x, 2)) + sin(phi(R.x, R.y))**2*Derivative(phi(R.x, R.y), (R.y, 2)) - sin(2*phi(R.x, R.y))*Derivative(phi(R.x, R.y), R.x)**2 + sin(2*phi(R.x, R.y))*Derivative(phi(R.x, R.y), R.y)**2 + 2*sin(2*phi(R.x, R.y))*Derivative(phi(R.x, R.y), R.x, R.y) + 2*cos(phi(R.x, R.y))**2*Derivative(phi(R.x, R.y), R.x)*Derivative(phi(R.x, R.y), R.y) + cos(phi(R.x, R.y))**2*Derivative(phi(R.x, R.y), (R.x, 2)) - cos(phi(R.x, R.y))**2*Derivative(phi(R.x, R.y), (R.y, 2))) - 2*sin(phi(R.x, R.y))**2*Derivative(phi(R.x, R.y), (R.x, 2)) - 2*sin(phi(R.x, R.y))**2*Derivative(phi(R.x, R.y), (R.y, 2)) - 2*cos(phi(R.x, R.y))**2*Derivative(phi(R.x, R.y), (R.x, 2)) - 2*cos(phi(R.x, R.y))**2*Derivative(phi(R.x, R.y), (R.y, 2))"
      ]
     },
     "metadata": {},
     "output_type": "display_data"
    }
   ],
   "source": [
    "euler_lagrange = simplify(g.diff(phi) - (g.diff(phi.diff(x)).diff(x) + g.diff(phi.diff(y)).diff(y)))\n",
    "euler_lagrange = trigsimp(factor(euler_lagrange, eps))\n",
    "display(euler_lagrange)"
   ]
  },
  {
   "cell_type": "code",
   "execution_count": null,
   "id": "15766168",
   "metadata": {},
   "outputs": [],
   "source": []
  }
 ],
 "metadata": {
  "kernelspec": {
   "display_name": "Python 3 (ipykernel)",
   "language": "python",
   "name": "python3"
  },
  "language_info": {
   "codemirror_mode": {
    "name": "ipython",
    "version": 3
   },
   "file_extension": ".py",
   "mimetype": "text/x-python",
   "name": "python",
   "nbconvert_exporter": "python",
   "pygments_lexer": "ipython3",
   "version": "3.9.7"
  }
 },
 "nbformat": 4,
 "nbformat_minor": 5
}
