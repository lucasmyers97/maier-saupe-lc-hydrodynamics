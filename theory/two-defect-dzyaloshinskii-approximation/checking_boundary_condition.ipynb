{
 "cells": [
  {
   "cell_type": "code",
   "execution_count": 1,
   "id": "d01a2aee",
   "metadata": {},
   "outputs": [],
   "source": [
    "from sympy import *"
   ]
  },
  {
   "cell_type": "code",
   "execution_count": 25,
   "id": "69af77bf",
   "metadata": {},
   "outputs": [],
   "source": [
    "q1, q2, phi = symbols('q_1 q_2 phi', real=True)\n",
    "d, r = symbols('d r', positive=True)\n",
    "x = symbols('x', positive=True)"
   ]
  },
  {
   "cell_type": "code",
   "execution_count": 4,
   "id": "3f1d39b0",
   "metadata": {},
   "outputs": [
    {
     "data": {
      "text/latex": [
       "$\\displaystyle q_{1} \\operatorname{atan}{\\left(\\frac{\\sin{\\left(\\phi \\right)}}{\\frac{d}{2 r} + \\cos{\\left(\\phi \\right)}} \\right)} + q_{2} \\operatorname{atan}{\\left(\\frac{\\sin{\\left(\\phi \\right)}}{- \\frac{d}{2 r} + \\cos{\\left(\\phi \\right)}} \\right)}$"
      ],
      "text/plain": [
       "q_1*atan(sin(phi)/(d/(2*r) + cos(phi))) + q_2*atan(sin(phi)/(-d/(2*r) + cos(phi)))"
      ]
     },
     "metadata": {},
     "output_type": "display_data"
    }
   ],
   "source": [
    "theta = q1 * atan(sin(phi) / (cos(phi) + d / (2 * r))) + q2 * atan(sin(phi) / (cos(phi) - d / (2 * r)))\n",
    "display(theta)"
   ]
  },
  {
   "cell_type": "code",
   "execution_count": 21,
   "id": "9e649f73",
   "metadata": {},
   "outputs": [
    {
     "data": {
      "text/latex": [
       "$\\displaystyle \\frac{d q_{1} \\sin{\\left(\\phi \\right)}}{2 r^{2} \\cdot \\left(1 + \\frac{\\sin^{2}{\\left(\\phi \\right)}}{\\left(\\frac{d}{2 r} + \\cos{\\left(\\phi \\right)}\\right)^{2}}\\right) \\left(\\frac{d}{2 r} + \\cos{\\left(\\phi \\right)}\\right)^{2}} - \\frac{d q_{2} \\sin{\\left(\\phi \\right)}}{2 r^{2} \\cdot \\left(1 + \\frac{\\sin^{2}{\\left(\\phi \\right)}}{\\left(- \\frac{d}{2 r} + \\cos{\\left(\\phi \\right)}\\right)^{2}}\\right) \\left(- \\frac{d}{2 r} + \\cos{\\left(\\phi \\right)}\\right)^{2}}$"
      ],
      "text/plain": [
       "d*q_1*sin(phi)/(2*r**2*(1 + sin(phi)**2/(d/(2*r) + cos(phi))**2)*(d/(2*r) + cos(phi))**2) - d*q_2*sin(phi)/(2*r**2*(1 + sin(phi)**2/(-d/(2*r) + cos(phi))**2)*(-d/(2*r) + cos(phi))**2)"
      ]
     },
     "metadata": {},
     "output_type": "display_data"
    }
   ],
   "source": [
    "dtheta_dr = theta.diff(r)\n",
    "display(dtheta_dr)"
   ]
  },
  {
   "cell_type": "code",
   "execution_count": 23,
   "id": "f4257394",
   "metadata": {},
   "outputs": [
    {
     "data": {
      "text/latex": [
       "$\\displaystyle \\frac{2 d q_{1} \\sin{\\left(\\phi \\right)}}{d^{2} + 4 d r \\cos{\\left(\\phi \\right)} + 4 r^{2}} - \\frac{2 d q_{2} \\sin{\\left(\\phi \\right)}}{d^{2} - 4 d r \\cos{\\left(\\phi \\right)} + 4 r^{2}}$"
      ],
      "text/plain": [
       "2*d*q_1*sin(phi)/(d**2 + 4*d*r*cos(phi) + 4*r**2) - 2*d*q_2*sin(phi)/(d**2 - 4*d*r*cos(phi) + 4*r**2)"
      ]
     },
     "metadata": {},
     "output_type": "display_data"
    }
   ],
   "source": [
    "dtheta_dr = simplify(dtheta_dr.args[0]) + simplify(dtheta_dr.args[1])\n",
    "display(dtheta_dr)"
   ]
  },
  {
   "cell_type": "code",
   "execution_count": 26,
   "id": "b842bbe2",
   "metadata": {},
   "outputs": [
    {
     "data": {
      "text/latex": [
       "$\\displaystyle \\frac{d \\left(\\frac{q_{1} \\sin{\\left(\\phi \\right)}}{2 r} - \\frac{q_{2} \\sin{\\left(\\phi \\right)}}{2 r}\\right)}{r} + \\frac{d^{2} \\left(- \\frac{q_{1} \\sin{\\left(\\phi \\right)} \\cos{\\left(\\phi \\right)}}{2 r} - \\frac{q_{2} \\sin{\\left(\\phi \\right)} \\cos{\\left(\\phi \\right)}}{2 r}\\right)}{r^{2}} + O\\left(\\frac{d^{3}}{r^{3}}; \\left( d, \\  r\\right)\\rightarrow \\left( 0, \\  0\\right)\\right)$"
      ],
      "text/plain": [
       "d*(q_1*sin(phi)/(2*r) - q_2*sin(phi)/(2*r))/r + d**2*(-q_1*sin(phi)*cos(phi)/(2*r) - q_2*sin(phi)*cos(phi)/(2*r))/r**2 + O(d**3/r**3, d, r)"
      ]
     },
     "metadata": {},
     "output_type": "display_data"
    }
   ],
   "source": [
    "dtheta_dr_series = dtheta_dr.subs(d, x * r).series(x, n=3).subs(x, d/r)\n",
    "display(dtheta_dr_series)"
   ]
  },
  {
   "cell_type": "code",
   "execution_count": 27,
   "id": "9403e865",
   "metadata": {},
   "outputs": [
    {
     "data": {
      "text/latex": [
       "$\\displaystyle \\frac{d q_{1} \\sin{\\left(\\phi \\right)} + O\\left(\\frac{d^{3}}{r}; \\left( d, \\  r\\right)\\rightarrow \\left( 0, \\  0\\right)\\right)}{r^{2}}$"
      ],
      "text/plain": [
       "(d*q_1*sin(phi) + O(d**3/r, d, r))/r**2"
      ]
     },
     "execution_count": 27,
     "metadata": {},
     "output_type": "execute_result"
    }
   ],
   "source": [
    "simplify( dtheta_dr_series.subs(q2, -q1) )"
   ]
  }
 ],
 "metadata": {
  "kernelspec": {
   "display_name": "Python 3 (ipykernel)",
   "language": "python",
   "name": "python3"
  },
  "language_info": {
   "codemirror_mode": {
    "name": "ipython",
    "version": 3
   },
   "file_extension": ".py",
   "mimetype": "text/x-python",
   "name": "python",
   "nbconvert_exporter": "python",
   "pygments_lexer": "ipython3",
   "version": "3.9.7"
  }
 },
 "nbformat": 4,
 "nbformat_minor": 5
}
