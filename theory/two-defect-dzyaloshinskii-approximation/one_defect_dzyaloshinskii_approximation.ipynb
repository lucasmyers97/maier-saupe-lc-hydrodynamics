{
 "cells": [
  {
   "cell_type": "code",
   "execution_count": 26,
   "id": "197830be",
   "metadata": {},
   "outputs": [],
   "source": [
    "from sympy import *"
   ]
  },
  {
   "cell_type": "code",
   "execution_count": 27,
   "id": "b769e293",
   "metadata": {},
   "outputs": [],
   "source": [
    "phi, eps, q = symbols('phi epsilon q', real=True)"
   ]
  },
  {
   "cell_type": "code",
   "execution_count": 28,
   "id": "81f7d964",
   "metadata": {},
   "outputs": [],
   "source": [
    "theta_iso = q * phi\n",
    "theta_c = Function('theta_c')(phi)\n",
    "\n",
    "theta = theta_iso + eps * theta_c"
   ]
  },
  {
   "cell_type": "code",
   "execution_count": 29,
   "id": "b646dd13",
   "metadata": {},
   "outputs": [],
   "source": [
    "def euler_lagrange_rhs(theta):\n",
    "    \n",
    "    return (theta.diff(phi, 2) * eps * cos(2 * (theta - phi))\n",
    "            + (2 * theta.diff(phi) - theta.diff(phi)**2) * eps * sin(2 * (theta - phi))\n",
    "           )"
   ]
  },
  {
   "cell_type": "code",
   "execution_count": 30,
   "id": "a72969bd",
   "metadata": {},
   "outputs": [
    {
     "data": {
      "text/latex": [
       "$\\displaystyle - \\epsilon \\left(- q^{2} + 2 q\\right) \\sin{\\left(2 \\phi q - 2 \\phi \\right)}$"
      ],
      "text/plain": [
       "-epsilon*(-q**2 + 2*q)*sin(2*phi*q - 2*phi)"
      ]
     },
     "metadata": {},
     "output_type": "display_data"
    }
   ],
   "source": [
    "perturbative_rhs = euler_lagrange(theta_iso)\n",
    "\n",
    "display(perturbative_rhs)"
   ]
  },
  {
   "cell_type": "code",
   "execution_count": 33,
   "id": "99600118",
   "metadata": {},
   "outputs": [
    {
     "data": {
      "text/latex": [
       "$\\displaystyle \\theta_{c}{\\left(\\phi \\right)} = C_{1} + C_{2} \\phi - \\frac{q^{2} \\sin{\\left(2 \\phi \\left(q - 1\\right) \\right)}}{4 \\left(q^{2} - 2 q + 1\\right)} + \\frac{q \\sin{\\left(2 \\phi \\left(q - 1\\right) \\right)}}{2 \\left(q^{2} - 2 q + 1\\right)}$"
      ],
      "text/plain": [
       "Eq(theta_c(phi), C1 + C2*phi - q**2*sin(2*phi*(q - 1))/(4*(q**2 - 2*q + 1)) + q*sin(2*phi*(q - 1))/(2*(q**2 - 2*q + 1)))"
      ]
     },
     "metadata": {},
     "output_type": "display_data"
    }
   ],
   "source": [
    "result = dsolve(theta_c.diff(phi, 2) - 1 / eps * perturbative_rhs)\n",
    "display(result)"
   ]
  },
  {
   "cell_type": "code",
   "execution_count": null,
   "id": "a84d7236",
   "metadata": {},
   "outputs": [],
   "source": []
  }
 ],
 "metadata": {
  "kernelspec": {
   "display_name": "Python 3 (ipykernel)",
   "language": "python",
   "name": "python3"
  },
  "language_info": {
   "codemirror_mode": {
    "name": "ipython",
    "version": 3
   },
   "file_extension": ".py",
   "mimetype": "text/x-python",
   "name": "python",
   "nbconvert_exporter": "python",
   "pygments_lexer": "ipython3",
   "version": "3.9.7"
  }
 },
 "nbformat": 4,
 "nbformat_minor": 5
}
