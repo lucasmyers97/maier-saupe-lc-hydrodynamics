{
 "cells": [
  {
   "cell_type": "code",
   "execution_count": 20,
   "id": "46cc2e40",
   "metadata": {},
   "outputs": [],
   "source": [
    "from sympy import *\n",
    "from sympy.simplify.fu import *"
   ]
  },
  {
   "cell_type": "code",
   "execution_count": 7,
   "id": "5bf0f158",
   "metadata": {},
   "outputs": [],
   "source": [
    "x, y = symbols('x y')\n",
    "phi = Function('phi')(x, y)\n",
    "\n",
    "eps = symbols('epsilon')"
   ]
  },
  {
   "cell_type": "code",
   "execution_count": 8,
   "id": "83558fb3",
   "metadata": {},
   "outputs": [],
   "source": [
    "rhs = eps * (sin(2*phi) * (phi.diff(x)**2 - phi.diff(y)**2 - 2*phi.diff(x, y))\n",
    "             + cos(2*phi) * (phi.diff(y, 2) - phi.diff(x, 2) - 2*phi.diff(x)*phi.diff(y)))"
   ]
  },
  {
   "cell_type": "code",
   "execution_count": 9,
   "id": "b8b90f7b",
   "metadata": {},
   "outputs": [
    {
     "data": {
      "text/latex": [
       "$\\displaystyle \\epsilon \\left(\\left(- 2 \\frac{\\partial}{\\partial x} \\phi{\\left(x,y \\right)} \\frac{\\partial}{\\partial y} \\phi{\\left(x,y \\right)} - \\frac{\\partial^{2}}{\\partial x^{2}} \\phi{\\left(x,y \\right)} + \\frac{\\partial^{2}}{\\partial y^{2}} \\phi{\\left(x,y \\right)}\\right) \\cos{\\left(2 \\phi{\\left(x,y \\right)} \\right)} + \\left(\\left(\\frac{\\partial}{\\partial x} \\phi{\\left(x,y \\right)}\\right)^{2} - \\left(\\frac{\\partial}{\\partial y} \\phi{\\left(x,y \\right)}\\right)^{2} - 2 \\frac{\\partial^{2}}{\\partial y\\partial x} \\phi{\\left(x,y \\right)}\\right) \\sin{\\left(2 \\phi{\\left(x,y \\right)} \\right)}\\right)$"
      ],
      "text/plain": [
       "epsilon*((-2*Derivative(phi(x, y), x)*Derivative(phi(x, y), y) - Derivative(phi(x, y), (x, 2)) + Derivative(phi(x, y), (y, 2)))*cos(2*phi(x, y)) + (Derivative(phi(x, y), x)**2 - Derivative(phi(x, y), y)**2 - 2*Derivative(phi(x, y), x, y))*sin(2*phi(x, y)))"
      ]
     },
     "execution_count": 9,
     "metadata": {},
     "output_type": "execute_result"
    }
   ],
   "source": [
    "rhs"
   ]
  },
  {
   "cell_type": "code",
   "execution_count": 14,
   "id": "30da8816",
   "metadata": {},
   "outputs": [],
   "source": [
    "phi_iso = Function('\\\\phi_\\\\text{iso}')(x, y)\n",
    "phi_c = Function('\\\\phi_\\\\text{c}')(x, y)"
   ]
  },
  {
   "cell_type": "code",
   "execution_count": 18,
   "id": "8efa6c40",
   "metadata": {},
   "outputs": [
    {
     "data": {
      "text/latex": [
       "$\\displaystyle \\epsilon \\sin{\\left(2 \\phi_\\text{c}{\\left(x,y \\right)} + 2 \\phi_\\text{iso}{\\left(x,y \\right)} \\right)} \\left(\\frac{\\partial}{\\partial x} \\phi_\\text{c}{\\left(x,y \\right)}\\right)^{2} + 2 \\epsilon \\sin{\\left(2 \\phi_\\text{c}{\\left(x,y \\right)} + 2 \\phi_\\text{iso}{\\left(x,y \\right)} \\right)} \\frac{\\partial}{\\partial x} \\phi_\\text{c}{\\left(x,y \\right)} \\frac{\\partial}{\\partial x} \\phi_\\text{iso}{\\left(x,y \\right)} - \\epsilon \\sin{\\left(2 \\phi_\\text{c}{\\left(x,y \\right)} + 2 \\phi_\\text{iso}{\\left(x,y \\right)} \\right)} \\left(\\frac{\\partial}{\\partial y} \\phi_\\text{c}{\\left(x,y \\right)}\\right)^{2} - 2 \\epsilon \\sin{\\left(2 \\phi_\\text{c}{\\left(x,y \\right)} + 2 \\phi_\\text{iso}{\\left(x,y \\right)} \\right)} \\frac{\\partial}{\\partial y} \\phi_\\text{c}{\\left(x,y \\right)} \\frac{\\partial}{\\partial y} \\phi_\\text{iso}{\\left(x,y \\right)} + \\epsilon \\sin{\\left(2 \\phi_\\text{c}{\\left(x,y \\right)} + 2 \\phi_\\text{iso}{\\left(x,y \\right)} \\right)} \\left(\\frac{\\partial}{\\partial x} \\phi_\\text{iso}{\\left(x,y \\right)}\\right)^{2} - \\epsilon \\sin{\\left(2 \\phi_\\text{c}{\\left(x,y \\right)} + 2 \\phi_\\text{iso}{\\left(x,y \\right)} \\right)} \\left(\\frac{\\partial}{\\partial y} \\phi_\\text{iso}{\\left(x,y \\right)}\\right)^{2} - 2 \\epsilon \\sin{\\left(2 \\phi_\\text{c}{\\left(x,y \\right)} + 2 \\phi_\\text{iso}{\\left(x,y \\right)} \\right)} \\frac{\\partial^{2}}{\\partial y\\partial x} \\phi_\\text{c}{\\left(x,y \\right)} - 2 \\epsilon \\sin{\\left(2 \\phi_\\text{c}{\\left(x,y \\right)} + 2 \\phi_\\text{iso}{\\left(x,y \\right)} \\right)} \\frac{\\partial^{2}}{\\partial y\\partial x} \\phi_\\text{iso}{\\left(x,y \\right)} - 2 \\epsilon \\cos{\\left(2 \\phi_\\text{c}{\\left(x,y \\right)} + 2 \\phi_\\text{iso}{\\left(x,y \\right)} \\right)} \\frac{\\partial}{\\partial x} \\phi_\\text{c}{\\left(x,y \\right)} \\frac{\\partial}{\\partial y} \\phi_\\text{c}{\\left(x,y \\right)} - 2 \\epsilon \\cos{\\left(2 \\phi_\\text{c}{\\left(x,y \\right)} + 2 \\phi_\\text{iso}{\\left(x,y \\right)} \\right)} \\frac{\\partial}{\\partial x} \\phi_\\text{c}{\\left(x,y \\right)} \\frac{\\partial}{\\partial y} \\phi_\\text{iso}{\\left(x,y \\right)} - \\epsilon \\cos{\\left(2 \\phi_\\text{c}{\\left(x,y \\right)} + 2 \\phi_\\text{iso}{\\left(x,y \\right)} \\right)} \\frac{\\partial^{2}}{\\partial x^{2}} \\phi_\\text{c}{\\left(x,y \\right)} - 2 \\epsilon \\cos{\\left(2 \\phi_\\text{c}{\\left(x,y \\right)} + 2 \\phi_\\text{iso}{\\left(x,y \\right)} \\right)} \\frac{\\partial}{\\partial y} \\phi_\\text{c}{\\left(x,y \\right)} \\frac{\\partial}{\\partial x} \\phi_\\text{iso}{\\left(x,y \\right)} + \\epsilon \\cos{\\left(2 \\phi_\\text{c}{\\left(x,y \\right)} + 2 \\phi_\\text{iso}{\\left(x,y \\right)} \\right)} \\frac{\\partial^{2}}{\\partial y^{2}} \\phi_\\text{c}{\\left(x,y \\right)} - 2 \\epsilon \\cos{\\left(2 \\phi_\\text{c}{\\left(x,y \\right)} + 2 \\phi_\\text{iso}{\\left(x,y \\right)} \\right)} \\frac{\\partial}{\\partial x} \\phi_\\text{iso}{\\left(x,y \\right)} \\frac{\\partial}{\\partial y} \\phi_\\text{iso}{\\left(x,y \\right)} - \\epsilon \\cos{\\left(2 \\phi_\\text{c}{\\left(x,y \\right)} + 2 \\phi_\\text{iso}{\\left(x,y \\right)} \\right)} \\frac{\\partial^{2}}{\\partial x^{2}} \\phi_\\text{iso}{\\left(x,y \\right)} + \\epsilon \\cos{\\left(2 \\phi_\\text{c}{\\left(x,y \\right)} + 2 \\phi_\\text{iso}{\\left(x,y \\right)} \\right)} \\frac{\\partial^{2}}{\\partial y^{2}} \\phi_\\text{iso}{\\left(x,y \\right)}$"
      ],
      "text/plain": [
       "epsilon*sin(2*\\phi_\\text{c}(x, y) + 2*\\phi_\\text{iso}(x, y))*Derivative(\\phi_\\text{c}(x, y), x)**2 + 2*epsilon*sin(2*\\phi_\\text{c}(x, y) + 2*\\phi_\\text{iso}(x, y))*Derivative(\\phi_\\text{c}(x, y), x)*Derivative(\\phi_\\text{iso}(x, y), x) - epsilon*sin(2*\\phi_\\text{c}(x, y) + 2*\\phi_\\text{iso}(x, y))*Derivative(\\phi_\\text{c}(x, y), y)**2 - 2*epsilon*sin(2*\\phi_\\text{c}(x, y) + 2*\\phi_\\text{iso}(x, y))*Derivative(\\phi_\\text{c}(x, y), y)*Derivative(\\phi_\\text{iso}(x, y), y) + epsilon*sin(2*\\phi_\\text{c}(x, y) + 2*\\phi_\\text{iso}(x, y))*Derivative(\\phi_\\text{iso}(x, y), x)**2 - epsilon*sin(2*\\phi_\\text{c}(x, y) + 2*\\phi_\\text{iso}(x, y))*Derivative(\\phi_\\text{iso}(x, y), y)**2 - 2*epsilon*sin(2*\\phi_\\text{c}(x, y) + 2*\\phi_\\text{iso}(x, y))*Derivative(\\phi_\\text{c}(x, y), x, y) - 2*epsilon*sin(2*\\phi_\\text{c}(x, y) + 2*\\phi_\\text{iso}(x, y))*Derivative(\\phi_\\text{iso}(x, y), x, y) - 2*epsilon*cos(2*\\phi_\\text{c}(x, y) + 2*\\phi_\\text{iso}(x, y))*Derivative(\\phi_\\text{c}(x, y), x)*Derivative(\\phi_\\text{c}(x, y), y) - 2*epsilon*cos(2*\\phi_\\text{c}(x, y) + 2*\\phi_\\text{iso}(x, y))*Derivative(\\phi_\\text{c}(x, y), x)*Derivative(\\phi_\\text{iso}(x, y), y) - epsilon*cos(2*\\phi_\\text{c}(x, y) + 2*\\phi_\\text{iso}(x, y))*Derivative(\\phi_\\text{c}(x, y), (x, 2)) - 2*epsilon*cos(2*\\phi_\\text{c}(x, y) + 2*\\phi_\\text{iso}(x, y))*Derivative(\\phi_\\text{c}(x, y), y)*Derivative(\\phi_\\text{iso}(x, y), x) + epsilon*cos(2*\\phi_\\text{c}(x, y) + 2*\\phi_\\text{iso}(x, y))*Derivative(\\phi_\\text{c}(x, y), (y, 2)) - 2*epsilon*cos(2*\\phi_\\text{c}(x, y) + 2*\\phi_\\text{iso}(x, y))*Derivative(\\phi_\\text{iso}(x, y), x)*Derivative(\\phi_\\text{iso}(x, y), y) - epsilon*cos(2*\\phi_\\text{c}(x, y) + 2*\\phi_\\text{iso}(x, y))*Derivative(\\phi_\\text{iso}(x, y), (x, 2)) + epsilon*cos(2*\\phi_\\text{c}(x, y) + 2*\\phi_\\text{iso}(x, y))*Derivative(\\phi_\\text{iso}(x, y), (y, 2))"
      ]
     },
     "metadata": {},
     "output_type": "display_data"
    }
   ],
   "source": [
    "rhs = expand(rhs.subs(phi, phi_iso + phi_c).doit())\n",
    "display(rhs)"
   ]
  },
  {
   "cell_type": "code",
   "execution_count": 23,
   "id": "829a76ea",
   "metadata": {},
   "outputs": [
    {
     "data": {
      "text/latex": [
       "$\\displaystyle - 2 \\epsilon \\left(- \\sin{\\left(2 \\phi_\\text{c}{\\left(x,y \\right)} \\right)} \\sin{\\left(2 \\phi_\\text{iso}{\\left(x,y \\right)} \\right)} + \\cos{\\left(2 \\phi_\\text{c}{\\left(x,y \\right)} \\right)} \\cos{\\left(2 \\phi_\\text{iso}{\\left(x,y \\right)} \\right)}\\right) \\frac{\\partial}{\\partial x} \\phi_\\text{c}{\\left(x,y \\right)} \\frac{\\partial}{\\partial y} \\phi_\\text{c}{\\left(x,y \\right)} - 2 \\epsilon \\left(- \\sin{\\left(2 \\phi_\\text{c}{\\left(x,y \\right)} \\right)} \\sin{\\left(2 \\phi_\\text{iso}{\\left(x,y \\right)} \\right)} + \\cos{\\left(2 \\phi_\\text{c}{\\left(x,y \\right)} \\right)} \\cos{\\left(2 \\phi_\\text{iso}{\\left(x,y \\right)} \\right)}\\right) \\frac{\\partial}{\\partial x} \\phi_\\text{c}{\\left(x,y \\right)} \\frac{\\partial}{\\partial y} \\phi_\\text{iso}{\\left(x,y \\right)} - \\epsilon \\left(- \\sin{\\left(2 \\phi_\\text{c}{\\left(x,y \\right)} \\right)} \\sin{\\left(2 \\phi_\\text{iso}{\\left(x,y \\right)} \\right)} + \\cos{\\left(2 \\phi_\\text{c}{\\left(x,y \\right)} \\right)} \\cos{\\left(2 \\phi_\\text{iso}{\\left(x,y \\right)} \\right)}\\right) \\frac{\\partial^{2}}{\\partial x^{2}} \\phi_\\text{c}{\\left(x,y \\right)} - 2 \\epsilon \\left(- \\sin{\\left(2 \\phi_\\text{c}{\\left(x,y \\right)} \\right)} \\sin{\\left(2 \\phi_\\text{iso}{\\left(x,y \\right)} \\right)} + \\cos{\\left(2 \\phi_\\text{c}{\\left(x,y \\right)} \\right)} \\cos{\\left(2 \\phi_\\text{iso}{\\left(x,y \\right)} \\right)}\\right) \\frac{\\partial}{\\partial y} \\phi_\\text{c}{\\left(x,y \\right)} \\frac{\\partial}{\\partial x} \\phi_\\text{iso}{\\left(x,y \\right)} + \\epsilon \\left(- \\sin{\\left(2 \\phi_\\text{c}{\\left(x,y \\right)} \\right)} \\sin{\\left(2 \\phi_\\text{iso}{\\left(x,y \\right)} \\right)} + \\cos{\\left(2 \\phi_\\text{c}{\\left(x,y \\right)} \\right)} \\cos{\\left(2 \\phi_\\text{iso}{\\left(x,y \\right)} \\right)}\\right) \\frac{\\partial^{2}}{\\partial y^{2}} \\phi_\\text{c}{\\left(x,y \\right)} - 2 \\epsilon \\left(- \\sin{\\left(2 \\phi_\\text{c}{\\left(x,y \\right)} \\right)} \\sin{\\left(2 \\phi_\\text{iso}{\\left(x,y \\right)} \\right)} + \\cos{\\left(2 \\phi_\\text{c}{\\left(x,y \\right)} \\right)} \\cos{\\left(2 \\phi_\\text{iso}{\\left(x,y \\right)} \\right)}\\right) \\frac{\\partial}{\\partial x} \\phi_\\text{iso}{\\left(x,y \\right)} \\frac{\\partial}{\\partial y} \\phi_\\text{iso}{\\left(x,y \\right)} - \\epsilon \\left(- \\sin{\\left(2 \\phi_\\text{c}{\\left(x,y \\right)} \\right)} \\sin{\\left(2 \\phi_\\text{iso}{\\left(x,y \\right)} \\right)} + \\cos{\\left(2 \\phi_\\text{c}{\\left(x,y \\right)} \\right)} \\cos{\\left(2 \\phi_\\text{iso}{\\left(x,y \\right)} \\right)}\\right) \\frac{\\partial^{2}}{\\partial x^{2}} \\phi_\\text{iso}{\\left(x,y \\right)} + \\epsilon \\left(- \\sin{\\left(2 \\phi_\\text{c}{\\left(x,y \\right)} \\right)} \\sin{\\left(2 \\phi_\\text{iso}{\\left(x,y \\right)} \\right)} + \\cos{\\left(2 \\phi_\\text{c}{\\left(x,y \\right)} \\right)} \\cos{\\left(2 \\phi_\\text{iso}{\\left(x,y \\right)} \\right)}\\right) \\frac{\\partial^{2}}{\\partial y^{2}} \\phi_\\text{iso}{\\left(x,y \\right)} + \\epsilon \\left(\\sin{\\left(2 \\phi_\\text{c}{\\left(x,y \\right)} \\right)} \\cos{\\left(2 \\phi_\\text{iso}{\\left(x,y \\right)} \\right)} + \\sin{\\left(2 \\phi_\\text{iso}{\\left(x,y \\right)} \\right)} \\cos{\\left(2 \\phi_\\text{c}{\\left(x,y \\right)} \\right)}\\right) \\left(\\frac{\\partial}{\\partial x} \\phi_\\text{c}{\\left(x,y \\right)}\\right)^{2} + 2 \\epsilon \\left(\\sin{\\left(2 \\phi_\\text{c}{\\left(x,y \\right)} \\right)} \\cos{\\left(2 \\phi_\\text{iso}{\\left(x,y \\right)} \\right)} + \\sin{\\left(2 \\phi_\\text{iso}{\\left(x,y \\right)} \\right)} \\cos{\\left(2 \\phi_\\text{c}{\\left(x,y \\right)} \\right)}\\right) \\frac{\\partial}{\\partial x} \\phi_\\text{c}{\\left(x,y \\right)} \\frac{\\partial}{\\partial x} \\phi_\\text{iso}{\\left(x,y \\right)} - \\epsilon \\left(\\sin{\\left(2 \\phi_\\text{c}{\\left(x,y \\right)} \\right)} \\cos{\\left(2 \\phi_\\text{iso}{\\left(x,y \\right)} \\right)} + \\sin{\\left(2 \\phi_\\text{iso}{\\left(x,y \\right)} \\right)} \\cos{\\left(2 \\phi_\\text{c}{\\left(x,y \\right)} \\right)}\\right) \\left(\\frac{\\partial}{\\partial y} \\phi_\\text{c}{\\left(x,y \\right)}\\right)^{2} - 2 \\epsilon \\left(\\sin{\\left(2 \\phi_\\text{c}{\\left(x,y \\right)} \\right)} \\cos{\\left(2 \\phi_\\text{iso}{\\left(x,y \\right)} \\right)} + \\sin{\\left(2 \\phi_\\text{iso}{\\left(x,y \\right)} \\right)} \\cos{\\left(2 \\phi_\\text{c}{\\left(x,y \\right)} \\right)}\\right) \\frac{\\partial}{\\partial y} \\phi_\\text{c}{\\left(x,y \\right)} \\frac{\\partial}{\\partial y} \\phi_\\text{iso}{\\left(x,y \\right)} + \\epsilon \\left(\\sin{\\left(2 \\phi_\\text{c}{\\left(x,y \\right)} \\right)} \\cos{\\left(2 \\phi_\\text{iso}{\\left(x,y \\right)} \\right)} + \\sin{\\left(2 \\phi_\\text{iso}{\\left(x,y \\right)} \\right)} \\cos{\\left(2 \\phi_\\text{c}{\\left(x,y \\right)} \\right)}\\right) \\left(\\frac{\\partial}{\\partial x} \\phi_\\text{iso}{\\left(x,y \\right)}\\right)^{2} - \\epsilon \\left(\\sin{\\left(2 \\phi_\\text{c}{\\left(x,y \\right)} \\right)} \\cos{\\left(2 \\phi_\\text{iso}{\\left(x,y \\right)} \\right)} + \\sin{\\left(2 \\phi_\\text{iso}{\\left(x,y \\right)} \\right)} \\cos{\\left(2 \\phi_\\text{c}{\\left(x,y \\right)} \\right)}\\right) \\left(\\frac{\\partial}{\\partial y} \\phi_\\text{iso}{\\left(x,y \\right)}\\right)^{2} - 2 \\epsilon \\left(\\sin{\\left(2 \\phi_\\text{c}{\\left(x,y \\right)} \\right)} \\cos{\\left(2 \\phi_\\text{iso}{\\left(x,y \\right)} \\right)} + \\sin{\\left(2 \\phi_\\text{iso}{\\left(x,y \\right)} \\right)} \\cos{\\left(2 \\phi_\\text{c}{\\left(x,y \\right)} \\right)}\\right) \\frac{\\partial^{2}}{\\partial y\\partial x} \\phi_\\text{c}{\\left(x,y \\right)} - 2 \\epsilon \\left(\\sin{\\left(2 \\phi_\\text{c}{\\left(x,y \\right)} \\right)} \\cos{\\left(2 \\phi_\\text{iso}{\\left(x,y \\right)} \\right)} + \\sin{\\left(2 \\phi_\\text{iso}{\\left(x,y \\right)} \\right)} \\cos{\\left(2 \\phi_\\text{c}{\\left(x,y \\right)} \\right)}\\right) \\frac{\\partial^{2}}{\\partial y\\partial x} \\phi_\\text{iso}{\\left(x,y \\right)}$"
      ],
      "text/plain": [
       "-2*epsilon*(-sin(2*\\phi_\\text{c}(x, y))*sin(2*\\phi_\\text{iso}(x, y)) + cos(2*\\phi_\\text{c}(x, y))*cos(2*\\phi_\\text{iso}(x, y)))*Derivative(\\phi_\\text{c}(x, y), x)*Derivative(\\phi_\\text{c}(x, y), y) - 2*epsilon*(-sin(2*\\phi_\\text{c}(x, y))*sin(2*\\phi_\\text{iso}(x, y)) + cos(2*\\phi_\\text{c}(x, y))*cos(2*\\phi_\\text{iso}(x, y)))*Derivative(\\phi_\\text{c}(x, y), x)*Derivative(\\phi_\\text{iso}(x, y), y) - epsilon*(-sin(2*\\phi_\\text{c}(x, y))*sin(2*\\phi_\\text{iso}(x, y)) + cos(2*\\phi_\\text{c}(x, y))*cos(2*\\phi_\\text{iso}(x, y)))*Derivative(\\phi_\\text{c}(x, y), (x, 2)) - 2*epsilon*(-sin(2*\\phi_\\text{c}(x, y))*sin(2*\\phi_\\text{iso}(x, y)) + cos(2*\\phi_\\text{c}(x, y))*cos(2*\\phi_\\text{iso}(x, y)))*Derivative(\\phi_\\text{c}(x, y), y)*Derivative(\\phi_\\text{iso}(x, y), x) + epsilon*(-sin(2*\\phi_\\text{c}(x, y))*sin(2*\\phi_\\text{iso}(x, y)) + cos(2*\\phi_\\text{c}(x, y))*cos(2*\\phi_\\text{iso}(x, y)))*Derivative(\\phi_\\text{c}(x, y), (y, 2)) - 2*epsilon*(-sin(2*\\phi_\\text{c}(x, y))*sin(2*\\phi_\\text{iso}(x, y)) + cos(2*\\phi_\\text{c}(x, y))*cos(2*\\phi_\\text{iso}(x, y)))*Derivative(\\phi_\\text{iso}(x, y), x)*Derivative(\\phi_\\text{iso}(x, y), y) - epsilon*(-sin(2*\\phi_\\text{c}(x, y))*sin(2*\\phi_\\text{iso}(x, y)) + cos(2*\\phi_\\text{c}(x, y))*cos(2*\\phi_\\text{iso}(x, y)))*Derivative(\\phi_\\text{iso}(x, y), (x, 2)) + epsilon*(-sin(2*\\phi_\\text{c}(x, y))*sin(2*\\phi_\\text{iso}(x, y)) + cos(2*\\phi_\\text{c}(x, y))*cos(2*\\phi_\\text{iso}(x, y)))*Derivative(\\phi_\\text{iso}(x, y), (y, 2)) + epsilon*(sin(2*\\phi_\\text{c}(x, y))*cos(2*\\phi_\\text{iso}(x, y)) + sin(2*\\phi_\\text{iso}(x, y))*cos(2*\\phi_\\text{c}(x, y)))*Derivative(\\phi_\\text{c}(x, y), x)**2 + 2*epsilon*(sin(2*\\phi_\\text{c}(x, y))*cos(2*\\phi_\\text{iso}(x, y)) + sin(2*\\phi_\\text{iso}(x, y))*cos(2*\\phi_\\text{c}(x, y)))*Derivative(\\phi_\\text{c}(x, y), x)*Derivative(\\phi_\\text{iso}(x, y), x) - epsilon*(sin(2*\\phi_\\text{c}(x, y))*cos(2*\\phi_\\text{iso}(x, y)) + sin(2*\\phi_\\text{iso}(x, y))*cos(2*\\phi_\\text{c}(x, y)))*Derivative(\\phi_\\text{c}(x, y), y)**2 - 2*epsilon*(sin(2*\\phi_\\text{c}(x, y))*cos(2*\\phi_\\text{iso}(x, y)) + sin(2*\\phi_\\text{iso}(x, y))*cos(2*\\phi_\\text{c}(x, y)))*Derivative(\\phi_\\text{c}(x, y), y)*Derivative(\\phi_\\text{iso}(x, y), y) + epsilon*(sin(2*\\phi_\\text{c}(x, y))*cos(2*\\phi_\\text{iso}(x, y)) + sin(2*\\phi_\\text{iso}(x, y))*cos(2*\\phi_\\text{c}(x, y)))*Derivative(\\phi_\\text{iso}(x, y), x)**2 - epsilon*(sin(2*\\phi_\\text{c}(x, y))*cos(2*\\phi_\\text{iso}(x, y)) + sin(2*\\phi_\\text{iso}(x, y))*cos(2*\\phi_\\text{c}(x, y)))*Derivative(\\phi_\\text{iso}(x, y), y)**2 - 2*epsilon*(sin(2*\\phi_\\text{c}(x, y))*cos(2*\\phi_\\text{iso}(x, y)) + sin(2*\\phi_\\text{iso}(x, y))*cos(2*\\phi_\\text{c}(x, y)))*Derivative(\\phi_\\text{c}(x, y), x, y) - 2*epsilon*(sin(2*\\phi_\\text{c}(x, y))*cos(2*\\phi_\\text{iso}(x, y)) + sin(2*\\phi_\\text{iso}(x, y))*cos(2*\\phi_\\text{c}(x, y)))*Derivative(\\phi_\\text{iso}(x, y), x, y)"
      ]
     },
     "execution_count": 23,
     "metadata": {},
     "output_type": "execute_result"
    }
   ],
   "source": [
    "TR10(rhs)"
   ]
  },
  {
   "cell_type": "code",
   "execution_count": null,
   "id": "9db2bdb1",
   "metadata": {},
   "outputs": [],
   "source": []
  }
 ],
 "metadata": {
  "kernelspec": {
   "display_name": "Python 3 (ipykernel)",
   "language": "python",
   "name": "python3"
  },
  "language_info": {
   "codemirror_mode": {
    "name": "ipython",
    "version": 3
   },
   "file_extension": ".py",
   "mimetype": "text/x-python",
   "name": "python",
   "nbconvert_exporter": "python",
   "pygments_lexer": "ipython3",
   "version": "3.9.7"
  }
 },
 "nbformat": 4,
 "nbformat_minor": 5
}
