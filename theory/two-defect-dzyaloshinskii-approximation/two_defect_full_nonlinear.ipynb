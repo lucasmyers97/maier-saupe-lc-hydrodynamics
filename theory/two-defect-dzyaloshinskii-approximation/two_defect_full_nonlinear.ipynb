{
 "cells": [
  {
   "cell_type": "code",
   "execution_count": null,
   "id": "6091d087",
   "metadata": {},
   "outputs": [],
   "source": []
  },
  {
   "cell_type": "code",
   "execution_count": 1,
   "id": "71342665",
   "metadata": {},
   "outputs": [],
   "source": [
    "from sympy import *\n",
    "from sympy.simplify.fu import *"
   ]
  },
  {
   "cell_type": "code",
   "execution_count": 2,
   "id": "fb19e4bc",
   "metadata": {},
   "outputs": [],
   "source": [
    "x, y = symbols('x y', real=True)\n",
    "phi = Function('phi', real=True)(x, y)\n",
    "\n",
    "eps = symbols('epsilon', real=True)"
   ]
  },
  {
   "cell_type": "code",
   "execution_count": 3,
   "id": "7c7640cd",
   "metadata": {},
   "outputs": [],
   "source": [
    "rhs = eps * (sin(2*phi) * (phi.diff(x)**2 - phi.diff(y)**2 - 2*phi.diff(x, y))\n",
    "             + cos(2*phi) * (phi.diff(y, 2) - phi.diff(x, 2) - 2*phi.diff(x)*phi.diff(y)))"
   ]
  },
  {
   "cell_type": "code",
   "execution_count": 4,
   "id": "f0daa2b0",
   "metadata": {},
   "outputs": [
    {
     "data": {
      "text/latex": [
       "$\\displaystyle \\epsilon \\left(\\left(- 2 \\frac{\\partial}{\\partial x} \\phi{\\left(x,y \\right)} \\frac{\\partial}{\\partial y} \\phi{\\left(x,y \\right)} - \\frac{\\partial^{2}}{\\partial x^{2}} \\phi{\\left(x,y \\right)} + \\frac{\\partial^{2}}{\\partial y^{2}} \\phi{\\left(x,y \\right)}\\right) \\cos{\\left(2 \\phi{\\left(x,y \\right)} \\right)} + \\left(\\left(\\frac{\\partial}{\\partial x} \\phi{\\left(x,y \\right)}\\right)^{2} - \\left(\\frac{\\partial}{\\partial y} \\phi{\\left(x,y \\right)}\\right)^{2} - 2 \\frac{\\partial^{2}}{\\partial y\\partial x} \\phi{\\left(x,y \\right)}\\right) \\sin{\\left(2 \\phi{\\left(x,y \\right)} \\right)}\\right)$"
      ],
      "text/plain": [
       "epsilon*((-2*Derivative(phi(x, y), x)*Derivative(phi(x, y), y) - Derivative(phi(x, y), (x, 2)) + Derivative(phi(x, y), (y, 2)))*cos(2*phi(x, y)) + (Derivative(phi(x, y), x)**2 - Derivative(phi(x, y), y)**2 - 2*Derivative(phi(x, y), x, y))*sin(2*phi(x, y)))"
      ]
     },
     "execution_count": 4,
     "metadata": {},
     "output_type": "execute_result"
    }
   ],
   "source": [
    "rhs"
   ]
  },
  {
   "cell_type": "code",
   "execution_count": 5,
   "id": "3032f2fe",
   "metadata": {},
   "outputs": [],
   "source": [
    "phi_iso = Function('\\\\phi_\\\\text{iso}')(x, y)\n",
    "phi_c = Function('\\\\phi_\\\\text{c}')(x, y)"
   ]
  },
  {
   "cell_type": "code",
   "execution_count": 6,
   "id": "48e94ee9",
   "metadata": {},
   "outputs": [
    {
     "data": {
      "text/latex": [
       "$\\displaystyle \\epsilon \\sin{\\left(2 \\phi_\\text{c}{\\left(x,y \\right)} + 2 \\phi_\\text{iso}{\\left(x,y \\right)} \\right)} \\left(\\frac{\\partial}{\\partial x} \\phi_\\text{c}{\\left(x,y \\right)}\\right)^{2} + 2 \\epsilon \\sin{\\left(2 \\phi_\\text{c}{\\left(x,y \\right)} + 2 \\phi_\\text{iso}{\\left(x,y \\right)} \\right)} \\frac{\\partial}{\\partial x} \\phi_\\text{c}{\\left(x,y \\right)} \\frac{\\partial}{\\partial x} \\phi_\\text{iso}{\\left(x,y \\right)} - \\epsilon \\sin{\\left(2 \\phi_\\text{c}{\\left(x,y \\right)} + 2 \\phi_\\text{iso}{\\left(x,y \\right)} \\right)} \\left(\\frac{\\partial}{\\partial y} \\phi_\\text{c}{\\left(x,y \\right)}\\right)^{2} - 2 \\epsilon \\sin{\\left(2 \\phi_\\text{c}{\\left(x,y \\right)} + 2 \\phi_\\text{iso}{\\left(x,y \\right)} \\right)} \\frac{\\partial}{\\partial y} \\phi_\\text{c}{\\left(x,y \\right)} \\frac{\\partial}{\\partial y} \\phi_\\text{iso}{\\left(x,y \\right)} + \\epsilon \\sin{\\left(2 \\phi_\\text{c}{\\left(x,y \\right)} + 2 \\phi_\\text{iso}{\\left(x,y \\right)} \\right)} \\left(\\frac{\\partial}{\\partial x} \\phi_\\text{iso}{\\left(x,y \\right)}\\right)^{2} - \\epsilon \\sin{\\left(2 \\phi_\\text{c}{\\left(x,y \\right)} + 2 \\phi_\\text{iso}{\\left(x,y \\right)} \\right)} \\left(\\frac{\\partial}{\\partial y} \\phi_\\text{iso}{\\left(x,y \\right)}\\right)^{2} - 2 \\epsilon \\sin{\\left(2 \\phi_\\text{c}{\\left(x,y \\right)} + 2 \\phi_\\text{iso}{\\left(x,y \\right)} \\right)} \\frac{\\partial^{2}}{\\partial y\\partial x} \\phi_\\text{c}{\\left(x,y \\right)} - 2 \\epsilon \\sin{\\left(2 \\phi_\\text{c}{\\left(x,y \\right)} + 2 \\phi_\\text{iso}{\\left(x,y \\right)} \\right)} \\frac{\\partial^{2}}{\\partial y\\partial x} \\phi_\\text{iso}{\\left(x,y \\right)} - 2 \\epsilon \\cos{\\left(2 \\phi_\\text{c}{\\left(x,y \\right)} + 2 \\phi_\\text{iso}{\\left(x,y \\right)} \\right)} \\frac{\\partial}{\\partial x} \\phi_\\text{c}{\\left(x,y \\right)} \\frac{\\partial}{\\partial y} \\phi_\\text{c}{\\left(x,y \\right)} - 2 \\epsilon \\cos{\\left(2 \\phi_\\text{c}{\\left(x,y \\right)} + 2 \\phi_\\text{iso}{\\left(x,y \\right)} \\right)} \\frac{\\partial}{\\partial x} \\phi_\\text{c}{\\left(x,y \\right)} \\frac{\\partial}{\\partial y} \\phi_\\text{iso}{\\left(x,y \\right)} - \\epsilon \\cos{\\left(2 \\phi_\\text{c}{\\left(x,y \\right)} + 2 \\phi_\\text{iso}{\\left(x,y \\right)} \\right)} \\frac{\\partial^{2}}{\\partial x^{2}} \\phi_\\text{c}{\\left(x,y \\right)} - 2 \\epsilon \\cos{\\left(2 \\phi_\\text{c}{\\left(x,y \\right)} + 2 \\phi_\\text{iso}{\\left(x,y \\right)} \\right)} \\frac{\\partial}{\\partial y} \\phi_\\text{c}{\\left(x,y \\right)} \\frac{\\partial}{\\partial x} \\phi_\\text{iso}{\\left(x,y \\right)} + \\epsilon \\cos{\\left(2 \\phi_\\text{c}{\\left(x,y \\right)} + 2 \\phi_\\text{iso}{\\left(x,y \\right)} \\right)} \\frac{\\partial^{2}}{\\partial y^{2}} \\phi_\\text{c}{\\left(x,y \\right)} - 2 \\epsilon \\cos{\\left(2 \\phi_\\text{c}{\\left(x,y \\right)} + 2 \\phi_\\text{iso}{\\left(x,y \\right)} \\right)} \\frac{\\partial}{\\partial x} \\phi_\\text{iso}{\\left(x,y \\right)} \\frac{\\partial}{\\partial y} \\phi_\\text{iso}{\\left(x,y \\right)} - \\epsilon \\cos{\\left(2 \\phi_\\text{c}{\\left(x,y \\right)} + 2 \\phi_\\text{iso}{\\left(x,y \\right)} \\right)} \\frac{\\partial^{2}}{\\partial x^{2}} \\phi_\\text{iso}{\\left(x,y \\right)} + \\epsilon \\cos{\\left(2 \\phi_\\text{c}{\\left(x,y \\right)} + 2 \\phi_\\text{iso}{\\left(x,y \\right)} \\right)} \\frac{\\partial^{2}}{\\partial y^{2}} \\phi_\\text{iso}{\\left(x,y \\right)}$"
      ],
      "text/plain": [
       "epsilon*sin(2*\\phi_\\text{c}(x, y) + 2*\\phi_\\text{iso}(x, y))*Derivative(\\phi_\\text{c}(x, y), x)**2 + 2*epsilon*sin(2*\\phi_\\text{c}(x, y) + 2*\\phi_\\text{iso}(x, y))*Derivative(\\phi_\\text{c}(x, y), x)*Derivative(\\phi_\\text{iso}(x, y), x) - epsilon*sin(2*\\phi_\\text{c}(x, y) + 2*\\phi_\\text{iso}(x, y))*Derivative(\\phi_\\text{c}(x, y), y)**2 - 2*epsilon*sin(2*\\phi_\\text{c}(x, y) + 2*\\phi_\\text{iso}(x, y))*Derivative(\\phi_\\text{c}(x, y), y)*Derivative(\\phi_\\text{iso}(x, y), y) + epsilon*sin(2*\\phi_\\text{c}(x, y) + 2*\\phi_\\text{iso}(x, y))*Derivative(\\phi_\\text{iso}(x, y), x)**2 - epsilon*sin(2*\\phi_\\text{c}(x, y) + 2*\\phi_\\text{iso}(x, y))*Derivative(\\phi_\\text{iso}(x, y), y)**2 - 2*epsilon*sin(2*\\phi_\\text{c}(x, y) + 2*\\phi_\\text{iso}(x, y))*Derivative(\\phi_\\text{c}(x, y), x, y) - 2*epsilon*sin(2*\\phi_\\text{c}(x, y) + 2*\\phi_\\text{iso}(x, y))*Derivative(\\phi_\\text{iso}(x, y), x, y) - 2*epsilon*cos(2*\\phi_\\text{c}(x, y) + 2*\\phi_\\text{iso}(x, y))*Derivative(\\phi_\\text{c}(x, y), x)*Derivative(\\phi_\\text{c}(x, y), y) - 2*epsilon*cos(2*\\phi_\\text{c}(x, y) + 2*\\phi_\\text{iso}(x, y))*Derivative(\\phi_\\text{c}(x, y), x)*Derivative(\\phi_\\text{iso}(x, y), y) - epsilon*cos(2*\\phi_\\text{c}(x, y) + 2*\\phi_\\text{iso}(x, y))*Derivative(\\phi_\\text{c}(x, y), (x, 2)) - 2*epsilon*cos(2*\\phi_\\text{c}(x, y) + 2*\\phi_\\text{iso}(x, y))*Derivative(\\phi_\\text{c}(x, y), y)*Derivative(\\phi_\\text{iso}(x, y), x) + epsilon*cos(2*\\phi_\\text{c}(x, y) + 2*\\phi_\\text{iso}(x, y))*Derivative(\\phi_\\text{c}(x, y), (y, 2)) - 2*epsilon*cos(2*\\phi_\\text{c}(x, y) + 2*\\phi_\\text{iso}(x, y))*Derivative(\\phi_\\text{iso}(x, y), x)*Derivative(\\phi_\\text{iso}(x, y), y) - epsilon*cos(2*\\phi_\\text{c}(x, y) + 2*\\phi_\\text{iso}(x, y))*Derivative(\\phi_\\text{iso}(x, y), (x, 2)) + epsilon*cos(2*\\phi_\\text{c}(x, y) + 2*\\phi_\\text{iso}(x, y))*Derivative(\\phi_\\text{iso}(x, y), (y, 2))"
      ]
     },
     "metadata": {},
     "output_type": "display_data"
    }
   ],
   "source": [
    "rhs = expand(rhs.subs(phi, phi_iso + phi_c).doit())\n",
    "display(rhs)"
   ]
  },
  {
   "cell_type": "code",
   "execution_count": 7,
   "id": "28708554",
   "metadata": {},
   "outputs": [
    {
     "data": {
      "text/latex": [
       "$\\displaystyle - 2 \\epsilon \\left(- \\sin{\\left(2 \\phi_\\text{c}{\\left(x,y \\right)} \\right)} \\sin{\\left(2 \\phi_\\text{iso}{\\left(x,y \\right)} \\right)} + \\cos{\\left(2 \\phi_\\text{c}{\\left(x,y \\right)} \\right)} \\cos{\\left(2 \\phi_\\text{iso}{\\left(x,y \\right)} \\right)}\\right) \\frac{\\partial}{\\partial x} \\phi_\\text{c}{\\left(x,y \\right)} \\frac{\\partial}{\\partial y} \\phi_\\text{c}{\\left(x,y \\right)} - 2 \\epsilon \\left(- \\sin{\\left(2 \\phi_\\text{c}{\\left(x,y \\right)} \\right)} \\sin{\\left(2 \\phi_\\text{iso}{\\left(x,y \\right)} \\right)} + \\cos{\\left(2 \\phi_\\text{c}{\\left(x,y \\right)} \\right)} \\cos{\\left(2 \\phi_\\text{iso}{\\left(x,y \\right)} \\right)}\\right) \\frac{\\partial}{\\partial x} \\phi_\\text{c}{\\left(x,y \\right)} \\frac{\\partial}{\\partial y} \\phi_\\text{iso}{\\left(x,y \\right)} - \\epsilon \\left(- \\sin{\\left(2 \\phi_\\text{c}{\\left(x,y \\right)} \\right)} \\sin{\\left(2 \\phi_\\text{iso}{\\left(x,y \\right)} \\right)} + \\cos{\\left(2 \\phi_\\text{c}{\\left(x,y \\right)} \\right)} \\cos{\\left(2 \\phi_\\text{iso}{\\left(x,y \\right)} \\right)}\\right) \\frac{\\partial^{2}}{\\partial x^{2}} \\phi_\\text{c}{\\left(x,y \\right)} - 2 \\epsilon \\left(- \\sin{\\left(2 \\phi_\\text{c}{\\left(x,y \\right)} \\right)} \\sin{\\left(2 \\phi_\\text{iso}{\\left(x,y \\right)} \\right)} + \\cos{\\left(2 \\phi_\\text{c}{\\left(x,y \\right)} \\right)} \\cos{\\left(2 \\phi_\\text{iso}{\\left(x,y \\right)} \\right)}\\right) \\frac{\\partial}{\\partial y} \\phi_\\text{c}{\\left(x,y \\right)} \\frac{\\partial}{\\partial x} \\phi_\\text{iso}{\\left(x,y \\right)} + \\epsilon \\left(- \\sin{\\left(2 \\phi_\\text{c}{\\left(x,y \\right)} \\right)} \\sin{\\left(2 \\phi_\\text{iso}{\\left(x,y \\right)} \\right)} + \\cos{\\left(2 \\phi_\\text{c}{\\left(x,y \\right)} \\right)} \\cos{\\left(2 \\phi_\\text{iso}{\\left(x,y \\right)} \\right)}\\right) \\frac{\\partial^{2}}{\\partial y^{2}} \\phi_\\text{c}{\\left(x,y \\right)} - 2 \\epsilon \\left(- \\sin{\\left(2 \\phi_\\text{c}{\\left(x,y \\right)} \\right)} \\sin{\\left(2 \\phi_\\text{iso}{\\left(x,y \\right)} \\right)} + \\cos{\\left(2 \\phi_\\text{c}{\\left(x,y \\right)} \\right)} \\cos{\\left(2 \\phi_\\text{iso}{\\left(x,y \\right)} \\right)}\\right) \\frac{\\partial}{\\partial x} \\phi_\\text{iso}{\\left(x,y \\right)} \\frac{\\partial}{\\partial y} \\phi_\\text{iso}{\\left(x,y \\right)} - \\epsilon \\left(- \\sin{\\left(2 \\phi_\\text{c}{\\left(x,y \\right)} \\right)} \\sin{\\left(2 \\phi_\\text{iso}{\\left(x,y \\right)} \\right)} + \\cos{\\left(2 \\phi_\\text{c}{\\left(x,y \\right)} \\right)} \\cos{\\left(2 \\phi_\\text{iso}{\\left(x,y \\right)} \\right)}\\right) \\frac{\\partial^{2}}{\\partial x^{2}} \\phi_\\text{iso}{\\left(x,y \\right)} + \\epsilon \\left(- \\sin{\\left(2 \\phi_\\text{c}{\\left(x,y \\right)} \\right)} \\sin{\\left(2 \\phi_\\text{iso}{\\left(x,y \\right)} \\right)} + \\cos{\\left(2 \\phi_\\text{c}{\\left(x,y \\right)} \\right)} \\cos{\\left(2 \\phi_\\text{iso}{\\left(x,y \\right)} \\right)}\\right) \\frac{\\partial^{2}}{\\partial y^{2}} \\phi_\\text{iso}{\\left(x,y \\right)} + \\epsilon \\left(\\sin{\\left(2 \\phi_\\text{c}{\\left(x,y \\right)} \\right)} \\cos{\\left(2 \\phi_\\text{iso}{\\left(x,y \\right)} \\right)} + \\sin{\\left(2 \\phi_\\text{iso}{\\left(x,y \\right)} \\right)} \\cos{\\left(2 \\phi_\\text{c}{\\left(x,y \\right)} \\right)}\\right) \\left(\\frac{\\partial}{\\partial x} \\phi_\\text{c}{\\left(x,y \\right)}\\right)^{2} + 2 \\epsilon \\left(\\sin{\\left(2 \\phi_\\text{c}{\\left(x,y \\right)} \\right)} \\cos{\\left(2 \\phi_\\text{iso}{\\left(x,y \\right)} \\right)} + \\sin{\\left(2 \\phi_\\text{iso}{\\left(x,y \\right)} \\right)} \\cos{\\left(2 \\phi_\\text{c}{\\left(x,y \\right)} \\right)}\\right) \\frac{\\partial}{\\partial x} \\phi_\\text{c}{\\left(x,y \\right)} \\frac{\\partial}{\\partial x} \\phi_\\text{iso}{\\left(x,y \\right)} - \\epsilon \\left(\\sin{\\left(2 \\phi_\\text{c}{\\left(x,y \\right)} \\right)} \\cos{\\left(2 \\phi_\\text{iso}{\\left(x,y \\right)} \\right)} + \\sin{\\left(2 \\phi_\\text{iso}{\\left(x,y \\right)} \\right)} \\cos{\\left(2 \\phi_\\text{c}{\\left(x,y \\right)} \\right)}\\right) \\left(\\frac{\\partial}{\\partial y} \\phi_\\text{c}{\\left(x,y \\right)}\\right)^{2} - 2 \\epsilon \\left(\\sin{\\left(2 \\phi_\\text{c}{\\left(x,y \\right)} \\right)} \\cos{\\left(2 \\phi_\\text{iso}{\\left(x,y \\right)} \\right)} + \\sin{\\left(2 \\phi_\\text{iso}{\\left(x,y \\right)} \\right)} \\cos{\\left(2 \\phi_\\text{c}{\\left(x,y \\right)} \\right)}\\right) \\frac{\\partial}{\\partial y} \\phi_\\text{c}{\\left(x,y \\right)} \\frac{\\partial}{\\partial y} \\phi_\\text{iso}{\\left(x,y \\right)} + \\epsilon \\left(\\sin{\\left(2 \\phi_\\text{c}{\\left(x,y \\right)} \\right)} \\cos{\\left(2 \\phi_\\text{iso}{\\left(x,y \\right)} \\right)} + \\sin{\\left(2 \\phi_\\text{iso}{\\left(x,y \\right)} \\right)} \\cos{\\left(2 \\phi_\\text{c}{\\left(x,y \\right)} \\right)}\\right) \\left(\\frac{\\partial}{\\partial x} \\phi_\\text{iso}{\\left(x,y \\right)}\\right)^{2} - \\epsilon \\left(\\sin{\\left(2 \\phi_\\text{c}{\\left(x,y \\right)} \\right)} \\cos{\\left(2 \\phi_\\text{iso}{\\left(x,y \\right)} \\right)} + \\sin{\\left(2 \\phi_\\text{iso}{\\left(x,y \\right)} \\right)} \\cos{\\left(2 \\phi_\\text{c}{\\left(x,y \\right)} \\right)}\\right) \\left(\\frac{\\partial}{\\partial y} \\phi_\\text{iso}{\\left(x,y \\right)}\\right)^{2} - 2 \\epsilon \\left(\\sin{\\left(2 \\phi_\\text{c}{\\left(x,y \\right)} \\right)} \\cos{\\left(2 \\phi_\\text{iso}{\\left(x,y \\right)} \\right)} + \\sin{\\left(2 \\phi_\\text{iso}{\\left(x,y \\right)} \\right)} \\cos{\\left(2 \\phi_\\text{c}{\\left(x,y \\right)} \\right)}\\right) \\frac{\\partial^{2}}{\\partial y\\partial x} \\phi_\\text{c}{\\left(x,y \\right)} - 2 \\epsilon \\left(\\sin{\\left(2 \\phi_\\text{c}{\\left(x,y \\right)} \\right)} \\cos{\\left(2 \\phi_\\text{iso}{\\left(x,y \\right)} \\right)} + \\sin{\\left(2 \\phi_\\text{iso}{\\left(x,y \\right)} \\right)} \\cos{\\left(2 \\phi_\\text{c}{\\left(x,y \\right)} \\right)}\\right) \\frac{\\partial^{2}}{\\partial y\\partial x} \\phi_\\text{iso}{\\left(x,y \\right)}$"
      ],
      "text/plain": [
       "-2*epsilon*(-sin(2*\\phi_\\text{c}(x, y))*sin(2*\\phi_\\text{iso}(x, y)) + cos(2*\\phi_\\text{c}(x, y))*cos(2*\\phi_\\text{iso}(x, y)))*Derivative(\\phi_\\text{c}(x, y), x)*Derivative(\\phi_\\text{c}(x, y), y) - 2*epsilon*(-sin(2*\\phi_\\text{c}(x, y))*sin(2*\\phi_\\text{iso}(x, y)) + cos(2*\\phi_\\text{c}(x, y))*cos(2*\\phi_\\text{iso}(x, y)))*Derivative(\\phi_\\text{c}(x, y), x)*Derivative(\\phi_\\text{iso}(x, y), y) - epsilon*(-sin(2*\\phi_\\text{c}(x, y))*sin(2*\\phi_\\text{iso}(x, y)) + cos(2*\\phi_\\text{c}(x, y))*cos(2*\\phi_\\text{iso}(x, y)))*Derivative(\\phi_\\text{c}(x, y), (x, 2)) - 2*epsilon*(-sin(2*\\phi_\\text{c}(x, y))*sin(2*\\phi_\\text{iso}(x, y)) + cos(2*\\phi_\\text{c}(x, y))*cos(2*\\phi_\\text{iso}(x, y)))*Derivative(\\phi_\\text{c}(x, y), y)*Derivative(\\phi_\\text{iso}(x, y), x) + epsilon*(-sin(2*\\phi_\\text{c}(x, y))*sin(2*\\phi_\\text{iso}(x, y)) + cos(2*\\phi_\\text{c}(x, y))*cos(2*\\phi_\\text{iso}(x, y)))*Derivative(\\phi_\\text{c}(x, y), (y, 2)) - 2*epsilon*(-sin(2*\\phi_\\text{c}(x, y))*sin(2*\\phi_\\text{iso}(x, y)) + cos(2*\\phi_\\text{c}(x, y))*cos(2*\\phi_\\text{iso}(x, y)))*Derivative(\\phi_\\text{iso}(x, y), x)*Derivative(\\phi_\\text{iso}(x, y), y) - epsilon*(-sin(2*\\phi_\\text{c}(x, y))*sin(2*\\phi_\\text{iso}(x, y)) + cos(2*\\phi_\\text{c}(x, y))*cos(2*\\phi_\\text{iso}(x, y)))*Derivative(\\phi_\\text{iso}(x, y), (x, 2)) + epsilon*(-sin(2*\\phi_\\text{c}(x, y))*sin(2*\\phi_\\text{iso}(x, y)) + cos(2*\\phi_\\text{c}(x, y))*cos(2*\\phi_\\text{iso}(x, y)))*Derivative(\\phi_\\text{iso}(x, y), (y, 2)) + epsilon*(sin(2*\\phi_\\text{c}(x, y))*cos(2*\\phi_\\text{iso}(x, y)) + sin(2*\\phi_\\text{iso}(x, y))*cos(2*\\phi_\\text{c}(x, y)))*Derivative(\\phi_\\text{c}(x, y), x)**2 + 2*epsilon*(sin(2*\\phi_\\text{c}(x, y))*cos(2*\\phi_\\text{iso}(x, y)) + sin(2*\\phi_\\text{iso}(x, y))*cos(2*\\phi_\\text{c}(x, y)))*Derivative(\\phi_\\text{c}(x, y), x)*Derivative(\\phi_\\text{iso}(x, y), x) - epsilon*(sin(2*\\phi_\\text{c}(x, y))*cos(2*\\phi_\\text{iso}(x, y)) + sin(2*\\phi_\\text{iso}(x, y))*cos(2*\\phi_\\text{c}(x, y)))*Derivative(\\phi_\\text{c}(x, y), y)**2 - 2*epsilon*(sin(2*\\phi_\\text{c}(x, y))*cos(2*\\phi_\\text{iso}(x, y)) + sin(2*\\phi_\\text{iso}(x, y))*cos(2*\\phi_\\text{c}(x, y)))*Derivative(\\phi_\\text{c}(x, y), y)*Derivative(\\phi_\\text{iso}(x, y), y) + epsilon*(sin(2*\\phi_\\text{c}(x, y))*cos(2*\\phi_\\text{iso}(x, y)) + sin(2*\\phi_\\text{iso}(x, y))*cos(2*\\phi_\\text{c}(x, y)))*Derivative(\\phi_\\text{iso}(x, y), x)**2 - epsilon*(sin(2*\\phi_\\text{c}(x, y))*cos(2*\\phi_\\text{iso}(x, y)) + sin(2*\\phi_\\text{iso}(x, y))*cos(2*\\phi_\\text{c}(x, y)))*Derivative(\\phi_\\text{iso}(x, y), y)**2 - 2*epsilon*(sin(2*\\phi_\\text{c}(x, y))*cos(2*\\phi_\\text{iso}(x, y)) + sin(2*\\phi_\\text{iso}(x, y))*cos(2*\\phi_\\text{c}(x, y)))*Derivative(\\phi_\\text{c}(x, y), x, y) - 2*epsilon*(sin(2*\\phi_\\text{c}(x, y))*cos(2*\\phi_\\text{iso}(x, y)) + sin(2*\\phi_\\text{iso}(x, y))*cos(2*\\phi_\\text{c}(x, y)))*Derivative(\\phi_\\text{iso}(x, y), x, y)"
      ]
     },
     "metadata": {},
     "output_type": "display_data"
    }
   ],
   "source": [
    "rhs = TR10(rhs)\n",
    "display(rhs)"
   ]
  },
  {
   "cell_type": "markdown",
   "id": "f970cf7c",
   "metadata": {},
   "source": [
    "Now note that $\\phi_\\text{iso}(x, y) = q_1 \\theta_1(x, y) + q_2 \\theta_2(x, y)$\n",
    "\n",
    "Then we have that $\\cos(2\\phi_\\text{iso}) = \\cos(2 q_1 \\theta_1)\\cos(2 q_2 \\theta_2) - \\sin(2 q_1 \\theta_1) \\sin(2 q_2 \\theta_2)$\n",
    "\n",
    "Additionally, $\\sin(2\\phi_\\text{iso}) = \\sin(2q_1 \\theta_1) \\cos(2 q_2 \\theta_2) + \\sin(2 q_2 \\theta_2) \\cos(2 q_1 \\theta_1)$\n",
    "\n",
    "Substituting in that $q_1 = \\pm 1/2$ and that $q_2 = \\mp 1/2$ we get:\n",
    "\n",
    "$\\cos(2\\phi_\\text{iso}) = \\cos(\\theta_1)\\cos(\\theta_2) - \\sin(\\theta_1) \\sin(\\theta_2)$\n",
    "\n",
    "$\\sin(2\\phi_\\text{iso}) = \\pm\\sin(\\theta_1) \\cos(\\theta_2) \\mp \\sin(\\theta_2) \\cos(\\theta_1)$"
   ]
  },
  {
   "cell_type": "markdown",
   "id": "23bcfca7",
   "metadata": {},
   "source": [
    "Note also that $\\cos(\\theta_{1, 2}) = \\frac{x \\mp d/2}{\\sqrt{x^2 + y^2 + d^2/4 \\mp x d}}$\n",
    "\n",
    "and $\\sin(\\theta_{1, 2}) = \\frac{y}{\\sqrt{x^2 + y^2 + d^2/4 \\mp x d}}$"
   ]
  },
  {
   "cell_type": "markdown",
   "id": "b8b5a821",
   "metadata": {},
   "source": [
    "Note finally that $\\frac{d \\theta_{1, 2}}{dx} = -\\frac{y}{x^2 + y^2}$\n",
    "\n",
    "Also that $\\frac{d \\theta_{1, 2}}{dy} = \\frac{x}{x^2 + y^2}$"
   ]
  },
  {
   "cell_type": "markdown",
   "id": "9921044e",
   "metadata": {},
   "source": [
    "### Assume $q_1 = 1/2$, $q_2 = -1/2$"
   ]
  },
  {
   "cell_type": "code",
   "execution_count": 8,
   "id": "f68d11a1",
   "metadata": {},
   "outputs": [],
   "source": [
    "theta1 = Function('theta_1', real=True)(x, y)\n",
    "theta2 = Function('theta_2', real=True)(x, y)\n",
    "\n",
    "d = symbols('d', positive=True)"
   ]
  },
  {
   "cell_type": "code",
   "execution_count": 9,
   "id": "22cd240a",
   "metadata": {},
   "outputs": [
    {
     "data": {
      "text/latex": [
       "$\\displaystyle \\frac{\\epsilon \\left(2 \\cdot \\left(4 d y \\sin{\\left(2 \\phi_\\text{c}{\\left(x,y \\right)} \\right)} + \\left(4 y^{2} + \\left(d - 2 x\\right) \\left(d + 2 x\\right)\\right) \\cos{\\left(2 \\phi_\\text{c}{\\left(x,y \\right)} \\right)}\\right) \\frac{\\partial}{\\partial x} \\phi_\\text{c}{\\left(x,y \\right)} \\frac{\\partial}{\\partial y} \\phi_\\text{c}{\\left(x,y \\right)} + \\left(4 d y \\sin{\\left(2 \\phi_\\text{c}{\\left(x,y \\right)} \\right)} + \\left(4 y^{2} + \\left(d - 2 x\\right) \\left(d + 2 x\\right)\\right) \\cos{\\left(2 \\phi_\\text{c}{\\left(x,y \\right)} \\right)}\\right) \\frac{\\partial^{2}}{\\partial x^{2}} \\phi_\\text{c}{\\left(x,y \\right)} - \\left(4 d y \\sin{\\left(2 \\phi_\\text{c}{\\left(x,y \\right)} \\right)} + \\left(4 y^{2} + \\left(d - 2 x\\right) \\left(d + 2 x\\right)\\right) \\cos{\\left(2 \\phi_\\text{c}{\\left(x,y \\right)} \\right)}\\right) \\frac{\\partial^{2}}{\\partial y^{2}} \\phi_\\text{c}{\\left(x,y \\right)} - \\left(- 4 d y \\cos{\\left(2 \\phi_\\text{c}{\\left(x,y \\right)} \\right)} + \\left(4 y^{2} + \\left(d - 2 x\\right) \\left(d + 2 x\\right)\\right) \\sin{\\left(2 \\phi_\\text{c}{\\left(x,y \\right)} \\right)}\\right) \\left(\\frac{\\partial}{\\partial x} \\phi_\\text{c}{\\left(x,y \\right)}\\right)^{2} + \\left(- 4 d y \\cos{\\left(2 \\phi_\\text{c}{\\left(x,y \\right)} \\right)} + \\left(4 y^{2} + \\left(d - 2 x\\right) \\left(d + 2 x\\right)\\right) \\sin{\\left(2 \\phi_\\text{c}{\\left(x,y \\right)} \\right)}\\right) \\left(\\frac{\\partial}{\\partial y} \\phi_\\text{c}{\\left(x,y \\right)}\\right)^{2} + 2 \\left(- 4 d y \\cos{\\left(2 \\phi_\\text{c}{\\left(x,y \\right)} \\right)} + \\left(4 y^{2} + \\left(d - 2 x\\right) \\left(d + 2 x\\right)\\right) \\sin{\\left(2 \\phi_\\text{c}{\\left(x,y \\right)} \\right)}\\right) \\frac{\\partial^{2}}{\\partial y\\partial x} \\phi_\\text{c}{\\left(x,y \\right)}\\right)}{\\sqrt{d^{2} - 4 d x + 4 x^{2} + 4 y^{2}} \\sqrt{d^{2} + 4 d x + 4 x^{2} + 4 y^{2}}}$"
      ],
      "text/plain": [
       "epsilon*(2*(4*d*y*sin(2*\\phi_\\text{c}(x, y)) + (4*y**2 + (d - 2*x)*(d + 2*x))*cos(2*\\phi_\\text{c}(x, y)))*Derivative(\\phi_\\text{c}(x, y), x)*Derivative(\\phi_\\text{c}(x, y), y) + (4*d*y*sin(2*\\phi_\\text{c}(x, y)) + (4*y**2 + (d - 2*x)*(d + 2*x))*cos(2*\\phi_\\text{c}(x, y)))*Derivative(\\phi_\\text{c}(x, y), (x, 2)) - (4*d*y*sin(2*\\phi_\\text{c}(x, y)) + (4*y**2 + (d - 2*x)*(d + 2*x))*cos(2*\\phi_\\text{c}(x, y)))*Derivative(\\phi_\\text{c}(x, y), (y, 2)) - (-4*d*y*cos(2*\\phi_\\text{c}(x, y)) + (4*y**2 + (d - 2*x)*(d + 2*x))*sin(2*\\phi_\\text{c}(x, y)))*Derivative(\\phi_\\text{c}(x, y), x)**2 + (-4*d*y*cos(2*\\phi_\\text{c}(x, y)) + (4*y**2 + (d - 2*x)*(d + 2*x))*sin(2*\\phi_\\text{c}(x, y)))*Derivative(\\phi_\\text{c}(x, y), y)**2 + 2*(-4*d*y*cos(2*\\phi_\\text{c}(x, y)) + (4*y**2 + (d - 2*x)*(d + 2*x))*sin(2*\\phi_\\text{c}(x, y)))*Derivative(\\phi_\\text{c}(x, y), x, y))/(sqrt(d**2 - 4*d*x + 4*x**2 + 4*y**2)*sqrt(d**2 + 4*d*x + 4*x**2 + 4*y**2))"
      ]
     },
     "metadata": {},
     "output_type": "display_data"
    }
   ],
   "source": [
    "trig_subs = {cos(2*phi_iso): cos(theta1)*cos(theta2) - sin(theta1)*sin(theta2),\n",
    "             sin(2*phi_iso): sin(theta1)*cos(theta2) - sin(theta2)*cos(theta1)}\n",
    "cartesian_subs = {cos(theta1): (x - d/2)/sqrt(x**2 + y**2 + d**2 / 4 - x*d),\n",
    "                  cos(theta2): (x + d/2)/sqrt(x**2 + y**2 + d**2 / 4 + x*d),\n",
    "                  sin(theta1): y/sqrt(x**2 + y**2 + d**2 / 4 - x*d),\n",
    "                  sin(theta2): y/sqrt(x**2 + y**2 + d**2 / 4 + x*d)}\n",
    "\n",
    "phi_iso_subs = {phi_iso: Rational(1, 2)*theta1 - Rational(1, 2)*theta2}\n",
    "diff_subs = {theta1.diff(x): -y/(x**2 + y**2),\n",
    "             theta2.diff(x): -y/(x**2 + y**2),\n",
    "             theta1.diff(y): x/(x**2 + y**2),\n",
    "             theta2.diff(y): x/(x**2 + y**2)}\n",
    "\n",
    "rhs = simplify(rhs\n",
    "               .subs(trig_subs)\n",
    "               .subs(cartesian_subs)\n",
    "               .subs(phi_iso_subs)\n",
    "               .doit()\n",
    "               .subs(diff_subs))\n",
    "display(rhs)"
   ]
  },
  {
   "cell_type": "markdown",
   "id": "ca880c20",
   "metadata": {},
   "source": [
    "### Try to simplify expression manually"
   ]
  },
  {
   "cell_type": "code",
   "execution_count": 10,
   "id": "18283534",
   "metadata": {},
   "outputs": [
    {
     "data": {
      "text/latex": [
       "$\\displaystyle \\frac{\\epsilon \\left(\\left(- d^{2} \\left(\\frac{\\partial}{\\partial x} \\phi_\\text{c}{\\left(x,y \\right)}\\right)^{2} + d^{2} \\left(\\frac{\\partial}{\\partial y} \\phi_\\text{c}{\\left(x,y \\right)}\\right)^{2} + 2 d^{2} \\frac{\\partial^{2}}{\\partial y\\partial x} \\phi_\\text{c}{\\left(x,y \\right)} + 8 d y \\frac{\\partial}{\\partial x} \\phi_\\text{c}{\\left(x,y \\right)} \\frac{\\partial}{\\partial y} \\phi_\\text{c}{\\left(x,y \\right)} + 4 d y \\frac{\\partial^{2}}{\\partial x^{2}} \\phi_\\text{c}{\\left(x,y \\right)} - 4 d y \\frac{\\partial^{2}}{\\partial y^{2}} \\phi_\\text{c}{\\left(x,y \\right)} + 4 x^{2} \\left(\\frac{\\partial}{\\partial x} \\phi_\\text{c}{\\left(x,y \\right)}\\right)^{2} - 4 x^{2} \\left(\\frac{\\partial}{\\partial y} \\phi_\\text{c}{\\left(x,y \\right)}\\right)^{2} - 8 x^{2} \\frac{\\partial^{2}}{\\partial y\\partial x} \\phi_\\text{c}{\\left(x,y \\right)} - 4 y^{2} \\left(\\frac{\\partial}{\\partial x} \\phi_\\text{c}{\\left(x,y \\right)}\\right)^{2} + 4 y^{2} \\left(\\frac{\\partial}{\\partial y} \\phi_\\text{c}{\\left(x,y \\right)}\\right)^{2} + 8 y^{2} \\frac{\\partial^{2}}{\\partial y\\partial x} \\phi_\\text{c}{\\left(x,y \\right)}\\right) \\sin{\\left(2 \\phi_\\text{c}{\\left(x,y \\right)} \\right)} + \\left(2 d^{2} \\frac{\\partial}{\\partial x} \\phi_\\text{c}{\\left(x,y \\right)} \\frac{\\partial}{\\partial y} \\phi_\\text{c}{\\left(x,y \\right)} + d^{2} \\frac{\\partial^{2}}{\\partial x^{2}} \\phi_\\text{c}{\\left(x,y \\right)} - d^{2} \\frac{\\partial^{2}}{\\partial y^{2}} \\phi_\\text{c}{\\left(x,y \\right)} + 4 d y \\left(\\frac{\\partial}{\\partial x} \\phi_\\text{c}{\\left(x,y \\right)}\\right)^{2} - 4 d y \\left(\\frac{\\partial}{\\partial y} \\phi_\\text{c}{\\left(x,y \\right)}\\right)^{2} - 8 d y \\frac{\\partial^{2}}{\\partial y\\partial x} \\phi_\\text{c}{\\left(x,y \\right)} - 8 x^{2} \\frac{\\partial}{\\partial x} \\phi_\\text{c}{\\left(x,y \\right)} \\frac{\\partial}{\\partial y} \\phi_\\text{c}{\\left(x,y \\right)} - 4 x^{2} \\frac{\\partial^{2}}{\\partial x^{2}} \\phi_\\text{c}{\\left(x,y \\right)} + 4 x^{2} \\frac{\\partial^{2}}{\\partial y^{2}} \\phi_\\text{c}{\\left(x,y \\right)} + 8 y^{2} \\frac{\\partial}{\\partial x} \\phi_\\text{c}{\\left(x,y \\right)} \\frac{\\partial}{\\partial y} \\phi_\\text{c}{\\left(x,y \\right)} + 4 y^{2} \\frac{\\partial^{2}}{\\partial x^{2}} \\phi_\\text{c}{\\left(x,y \\right)} - 4 y^{2} \\frac{\\partial^{2}}{\\partial y^{2}} \\phi_\\text{c}{\\left(x,y \\right)}\\right) \\cos{\\left(2 \\phi_\\text{c}{\\left(x,y \\right)} \\right)}\\right)}{\\sqrt{d^{2} - 4 d x + 4 x^{2} + 4 y^{2}} \\sqrt{d^{2} + 4 d x + 4 x^{2} + 4 y^{2}}}$"
      ],
      "text/plain": [
       "epsilon*((-d**2*Derivative(\\phi_\\text{c}(x, y), x)**2 + d**2*Derivative(\\phi_\\text{c}(x, y), y)**2 + 2*d**2*Derivative(\\phi_\\text{c}(x, y), x, y) + 8*d*y*Derivative(\\phi_\\text{c}(x, y), x)*Derivative(\\phi_\\text{c}(x, y), y) + 4*d*y*Derivative(\\phi_\\text{c}(x, y), (x, 2)) - 4*d*y*Derivative(\\phi_\\text{c}(x, y), (y, 2)) + 4*x**2*Derivative(\\phi_\\text{c}(x, y), x)**2 - 4*x**2*Derivative(\\phi_\\text{c}(x, y), y)**2 - 8*x**2*Derivative(\\phi_\\text{c}(x, y), x, y) - 4*y**2*Derivative(\\phi_\\text{c}(x, y), x)**2 + 4*y**2*Derivative(\\phi_\\text{c}(x, y), y)**2 + 8*y**2*Derivative(\\phi_\\text{c}(x, y), x, y))*sin(2*\\phi_\\text{c}(x, y)) + (2*d**2*Derivative(\\phi_\\text{c}(x, y), x)*Derivative(\\phi_\\text{c}(x, y), y) + d**2*Derivative(\\phi_\\text{c}(x, y), (x, 2)) - d**2*Derivative(\\phi_\\text{c}(x, y), (y, 2)) + 4*d*y*Derivative(\\phi_\\text{c}(x, y), x)**2 - 4*d*y*Derivative(\\phi_\\text{c}(x, y), y)**2 - 8*d*y*Derivative(\\phi_\\text{c}(x, y), x, y) - 8*x**2*Derivative(\\phi_\\text{c}(x, y), x)*Derivative(\\phi_\\text{c}(x, y), y) - 4*x**2*Derivative(\\phi_\\text{c}(x, y), (x, 2)) + 4*x**2*Derivative(\\phi_\\text{c}(x, y), (y, 2)) + 8*y**2*Derivative(\\phi_\\text{c}(x, y), x)*Derivative(\\phi_\\text{c}(x, y), y) + 4*y**2*Derivative(\\phi_\\text{c}(x, y), (x, 2)) - 4*y**2*Derivative(\\phi_\\text{c}(x, y), (y, 2)))*cos(2*\\phi_\\text{c}(x, y)))/(sqrt(d**2 - 4*d*x + 4*x**2 + 4*y**2)*sqrt(d**2 + 4*d*x + 4*x**2 + 4*y**2))"
      ]
     },
     "metadata": {},
     "output_type": "display_data"
    }
   ],
   "source": [
    "factored_rhs = factor(rhs, cos(2*phi_c), sin(2*phi_c))\n",
    "display(factored_rhs)"
   ]
  },
  {
   "cell_type": "code",
   "execution_count": 11,
   "id": "f98c74fe",
   "metadata": {},
   "outputs": [
    {
     "data": {
      "text/latex": [
       "$\\displaystyle \\left(- d^{2} \\left(\\frac{\\partial}{\\partial x} \\phi_\\text{c}{\\left(x,y \\right)}\\right)^{2} + d^{2} \\left(\\frac{\\partial}{\\partial y} \\phi_\\text{c}{\\left(x,y \\right)}\\right)^{2} + 2 d^{2} \\frac{\\partial^{2}}{\\partial y\\partial x} \\phi_\\text{c}{\\left(x,y \\right)} + 8 d y \\frac{\\partial}{\\partial x} \\phi_\\text{c}{\\left(x,y \\right)} \\frac{\\partial}{\\partial y} \\phi_\\text{c}{\\left(x,y \\right)} + 4 d y \\frac{\\partial^{2}}{\\partial x^{2}} \\phi_\\text{c}{\\left(x,y \\right)} - 4 d y \\frac{\\partial^{2}}{\\partial y^{2}} \\phi_\\text{c}{\\left(x,y \\right)} + 4 x^{2} \\left(\\frac{\\partial}{\\partial x} \\phi_\\text{c}{\\left(x,y \\right)}\\right)^{2} - 4 x^{2} \\left(\\frac{\\partial}{\\partial y} \\phi_\\text{c}{\\left(x,y \\right)}\\right)^{2} - 8 x^{2} \\frac{\\partial^{2}}{\\partial y\\partial x} \\phi_\\text{c}{\\left(x,y \\right)} - 4 y^{2} \\left(\\frac{\\partial}{\\partial x} \\phi_\\text{c}{\\left(x,y \\right)}\\right)^{2} + 4 y^{2} \\left(\\frac{\\partial}{\\partial y} \\phi_\\text{c}{\\left(x,y \\right)}\\right)^{2} + 8 y^{2} \\frac{\\partial^{2}}{\\partial y\\partial x} \\phi_\\text{c}{\\left(x,y \\right)}\\right) \\sin{\\left(2 \\phi_\\text{c}{\\left(x,y \\right)} \\right)}$"
      ],
      "text/plain": [
       "(-d**2*Derivative(\\phi_\\text{c}(x, y), x)**2 + d**2*Derivative(\\phi_\\text{c}(x, y), y)**2 + 2*d**2*Derivative(\\phi_\\text{c}(x, y), x, y) + 8*d*y*Derivative(\\phi_\\text{c}(x, y), x)*Derivative(\\phi_\\text{c}(x, y), y) + 4*d*y*Derivative(\\phi_\\text{c}(x, y), (x, 2)) - 4*d*y*Derivative(\\phi_\\text{c}(x, y), (y, 2)) + 4*x**2*Derivative(\\phi_\\text{c}(x, y), x)**2 - 4*x**2*Derivative(\\phi_\\text{c}(x, y), y)**2 - 8*x**2*Derivative(\\phi_\\text{c}(x, y), x, y) - 4*y**2*Derivative(\\phi_\\text{c}(x, y), x)**2 + 4*y**2*Derivative(\\phi_\\text{c}(x, y), y)**2 + 8*y**2*Derivative(\\phi_\\text{c}(x, y), x, y))*sin(2*\\phi_\\text{c}(x, y))"
      ]
     },
     "metadata": {},
     "output_type": "display_data"
    },
    {
     "data": {
      "text/latex": [
       "$\\displaystyle \\left(2 d^{2} \\frac{\\partial}{\\partial x} \\phi_\\text{c}{\\left(x,y \\right)} \\frac{\\partial}{\\partial y} \\phi_\\text{c}{\\left(x,y \\right)} + d^{2} \\frac{\\partial^{2}}{\\partial x^{2}} \\phi_\\text{c}{\\left(x,y \\right)} - d^{2} \\frac{\\partial^{2}}{\\partial y^{2}} \\phi_\\text{c}{\\left(x,y \\right)} + 4 d y \\left(\\frac{\\partial}{\\partial x} \\phi_\\text{c}{\\left(x,y \\right)}\\right)^{2} - 4 d y \\left(\\frac{\\partial}{\\partial y} \\phi_\\text{c}{\\left(x,y \\right)}\\right)^{2} - 8 d y \\frac{\\partial^{2}}{\\partial y\\partial x} \\phi_\\text{c}{\\left(x,y \\right)} - 8 x^{2} \\frac{\\partial}{\\partial x} \\phi_\\text{c}{\\left(x,y \\right)} \\frac{\\partial}{\\partial y} \\phi_\\text{c}{\\left(x,y \\right)} - 4 x^{2} \\frac{\\partial^{2}}{\\partial x^{2}} \\phi_\\text{c}{\\left(x,y \\right)} + 4 x^{2} \\frac{\\partial^{2}}{\\partial y^{2}} \\phi_\\text{c}{\\left(x,y \\right)} + 8 y^{2} \\frac{\\partial}{\\partial x} \\phi_\\text{c}{\\left(x,y \\right)} \\frac{\\partial}{\\partial y} \\phi_\\text{c}{\\left(x,y \\right)} + 4 y^{2} \\frac{\\partial^{2}}{\\partial x^{2}} \\phi_\\text{c}{\\left(x,y \\right)} - 4 y^{2} \\frac{\\partial^{2}}{\\partial y^{2}} \\phi_\\text{c}{\\left(x,y \\right)}\\right) \\cos{\\left(2 \\phi_\\text{c}{\\left(x,y \\right)} \\right)}$"
      ],
      "text/plain": [
       "(2*d**2*Derivative(\\phi_\\text{c}(x, y), x)*Derivative(\\phi_\\text{c}(x, y), y) + d**2*Derivative(\\phi_\\text{c}(x, y), (x, 2)) - d**2*Derivative(\\phi_\\text{c}(x, y), (y, 2)) + 4*d*y*Derivative(\\phi_\\text{c}(x, y), x)**2 - 4*d*y*Derivative(\\phi_\\text{c}(x, y), y)**2 - 8*d*y*Derivative(\\phi_\\text{c}(x, y), x, y) - 8*x**2*Derivative(\\phi_\\text{c}(x, y), x)*Derivative(\\phi_\\text{c}(x, y), y) - 4*x**2*Derivative(\\phi_\\text{c}(x, y), (x, 2)) + 4*x**2*Derivative(\\phi_\\text{c}(x, y), (y, 2)) + 8*y**2*Derivative(\\phi_\\text{c}(x, y), x)*Derivative(\\phi_\\text{c}(x, y), y) + 4*y**2*Derivative(\\phi_\\text{c}(x, y), (x, 2)) - 4*y**2*Derivative(\\phi_\\text{c}(x, y), (y, 2)))*cos(2*\\phi_\\text{c}(x, y))"
      ]
     },
     "metadata": {},
     "output_type": "display_data"
    }
   ],
   "source": [
    "sin_term = factored_rhs.args[3].args[0]\n",
    "cos_term = factored_rhs.args[3].args[1]\n",
    "\n",
    "display(sin_term)\n",
    "display(cos_term)"
   ]
  },
  {
   "cell_type": "code",
   "execution_count": 12,
   "id": "f2825d1d",
   "metadata": {},
   "outputs": [
    {
     "data": {
      "text/latex": [
       "$\\displaystyle - d^{2} \\left(\\frac{\\partial}{\\partial x} \\phi_\\text{c}{\\left(x,y \\right)}\\right)^{2} + d^{2} \\left(\\frac{\\partial}{\\partial y} \\phi_\\text{c}{\\left(x,y \\right)}\\right)^{2} + 2 d^{2} \\frac{\\partial^{2}}{\\partial y\\partial x} \\phi_\\text{c}{\\left(x,y \\right)} + 8 d y \\frac{\\partial}{\\partial x} \\phi_\\text{c}{\\left(x,y \\right)} \\frac{\\partial}{\\partial y} \\phi_\\text{c}{\\left(x,y \\right)} + 4 d y \\frac{\\partial^{2}}{\\partial x^{2}} \\phi_\\text{c}{\\left(x,y \\right)} - 4 d y \\frac{\\partial^{2}}{\\partial y^{2}} \\phi_\\text{c}{\\left(x,y \\right)} + 4 x^{2} \\left(\\frac{\\partial}{\\partial x} \\phi_\\text{c}{\\left(x,y \\right)}\\right)^{2} - 4 x^{2} \\left(\\frac{\\partial}{\\partial y} \\phi_\\text{c}{\\left(x,y \\right)}\\right)^{2} - 8 x^{2} \\frac{\\partial^{2}}{\\partial y\\partial x} \\phi_\\text{c}{\\left(x,y \\right)} - 4 y^{2} \\left(\\frac{\\partial}{\\partial x} \\phi_\\text{c}{\\left(x,y \\right)}\\right)^{2} + 4 y^{2} \\left(\\frac{\\partial}{\\partial y} \\phi_\\text{c}{\\left(x,y \\right)}\\right)^{2} + 8 y^{2} \\frac{\\partial^{2}}{\\partial y\\partial x} \\phi_\\text{c}{\\left(x,y \\right)}$"
      ],
      "text/plain": [
       "-d**2*Derivative(\\phi_\\text{c}(x, y), x)**2 + d**2*Derivative(\\phi_\\text{c}(x, y), y)**2 + 2*d**2*Derivative(\\phi_\\text{c}(x, y), x, y) + 8*d*y*Derivative(\\phi_\\text{c}(x, y), x)*Derivative(\\phi_\\text{c}(x, y), y) + 4*d*y*Derivative(\\phi_\\text{c}(x, y), (x, 2)) - 4*d*y*Derivative(\\phi_\\text{c}(x, y), (y, 2)) + 4*x**2*Derivative(\\phi_\\text{c}(x, y), x)**2 - 4*x**2*Derivative(\\phi_\\text{c}(x, y), y)**2 - 8*x**2*Derivative(\\phi_\\text{c}(x, y), x, y) - 4*y**2*Derivative(\\phi_\\text{c}(x, y), x)**2 + 4*y**2*Derivative(\\phi_\\text{c}(x, y), y)**2 + 8*y**2*Derivative(\\phi_\\text{c}(x, y), x, y)"
      ]
     },
     "metadata": {},
     "output_type": "display_data"
    },
    {
     "data": {
      "text/latex": [
       "$\\displaystyle 2 d^{2} \\frac{\\partial}{\\partial x} \\phi_\\text{c}{\\left(x,y \\right)} \\frac{\\partial}{\\partial y} \\phi_\\text{c}{\\left(x,y \\right)} + d^{2} \\frac{\\partial^{2}}{\\partial x^{2}} \\phi_\\text{c}{\\left(x,y \\right)} - d^{2} \\frac{\\partial^{2}}{\\partial y^{2}} \\phi_\\text{c}{\\left(x,y \\right)} + 4 d y \\left(\\frac{\\partial}{\\partial x} \\phi_\\text{c}{\\left(x,y \\right)}\\right)^{2} - 4 d y \\left(\\frac{\\partial}{\\partial y} \\phi_\\text{c}{\\left(x,y \\right)}\\right)^{2} - 8 d y \\frac{\\partial^{2}}{\\partial y\\partial x} \\phi_\\text{c}{\\left(x,y \\right)} - 8 x^{2} \\frac{\\partial}{\\partial x} \\phi_\\text{c}{\\left(x,y \\right)} \\frac{\\partial}{\\partial y} \\phi_\\text{c}{\\left(x,y \\right)} - 4 x^{2} \\frac{\\partial^{2}}{\\partial x^{2}} \\phi_\\text{c}{\\left(x,y \\right)} + 4 x^{2} \\frac{\\partial^{2}}{\\partial y^{2}} \\phi_\\text{c}{\\left(x,y \\right)} + 8 y^{2} \\frac{\\partial}{\\partial x} \\phi_\\text{c}{\\left(x,y \\right)} \\frac{\\partial}{\\partial y} \\phi_\\text{c}{\\left(x,y \\right)} + 4 y^{2} \\frac{\\partial^{2}}{\\partial x^{2}} \\phi_\\text{c}{\\left(x,y \\right)} - 4 y^{2} \\frac{\\partial^{2}}{\\partial y^{2}} \\phi_\\text{c}{\\left(x,y \\right)}$"
      ],
      "text/plain": [
       "2*d**2*Derivative(\\phi_\\text{c}(x, y), x)*Derivative(\\phi_\\text{c}(x, y), y) + d**2*Derivative(\\phi_\\text{c}(x, y), (x, 2)) - d**2*Derivative(\\phi_\\text{c}(x, y), (y, 2)) + 4*d*y*Derivative(\\phi_\\text{c}(x, y), x)**2 - 4*d*y*Derivative(\\phi_\\text{c}(x, y), y)**2 - 8*d*y*Derivative(\\phi_\\text{c}(x, y), x, y) - 8*x**2*Derivative(\\phi_\\text{c}(x, y), x)*Derivative(\\phi_\\text{c}(x, y), y) - 4*x**2*Derivative(\\phi_\\text{c}(x, y), (x, 2)) + 4*x**2*Derivative(\\phi_\\text{c}(x, y), (y, 2)) + 8*y**2*Derivative(\\phi_\\text{c}(x, y), x)*Derivative(\\phi_\\text{c}(x, y), y) + 4*y**2*Derivative(\\phi_\\text{c}(x, y), (x, 2)) - 4*y**2*Derivative(\\phi_\\text{c}(x, y), (y, 2))"
      ]
     },
     "metadata": {},
     "output_type": "display_data"
    }
   ],
   "source": [
    "sin_coeffs = sin_term.args[0]\n",
    "cos_coeffs = cos_term.args[0]\n",
    "\n",
    "display(sin_coeffs)\n",
    "display(cos_coeffs)"
   ]
  },
  {
   "cell_type": "markdown",
   "id": "99bfa46d",
   "metadata": {},
   "source": [
    "We might have to do this by eye. We can define $\\eta = \\sqrt{d^2 - 4dx + 4x^2 + 4y^2}\\sqrt{d^2 + 4dx + 4x^2 + 4y^2}$  $v = (4x^2 - d^2 -4y^2)/\\eta$ and $u = 4dy/\\eta$.\n",
    "\n",
    "Then the $\\sin$ coefficient becomes $v\\left(\\phi_x^2 - \\phi_y^2 - 2 \\phi_{xy}\\right) - u\\left(\\phi_{yy} - \\phi_{xx} - 2 \\phi_x\\phi_y\\right)$\n",
    "\n",
    "And the $\\cos$ coefficient becomes $v \\left(\\phi_{yy} - \\phi_{xx} - 2\\phi_x \\phi_y\\right) + u \\left(\\phi_x^2 - \\phi_y^2 - 2 \\phi_{xy}\\right)$\n",
    "\n",
    "With this, the entire equation would become:\n",
    "\n",
    "$\\nabla^2 \\phi + \\epsilon \\biggl(\n",
    "\\left[ \n",
    "v\\left(\\phi_x^2 - \\phi_y^2 - 2 \\phi_{xy}\\right) - u\\left(\\phi_{yy} - \\phi_{xx} - 2 \\phi_x\\phi_y\\right) \\right] \\sin2\\phi \n",
    "+ v \\left(\\phi_{yy} - \\phi_{xx} - 2\\phi_x \\phi_y\\right) + u \\left(\\phi_x^2 - \\phi_y^2 - 2 \\phi_{xy}\\right) \\cos2\\phi \\biggr) = 0$"
   ]
  },
  {
   "cell_type": "markdown",
   "id": "d69b60a1",
   "metadata": {},
   "source": [
    "### Let's check this explicitly"
   ]
  },
  {
   "cell_type": "code",
   "execution_count": 42,
   "id": "b30b1a71",
   "metadata": {},
   "outputs": [],
   "source": [
    "eta = sqrt(d**2 - 4*d*x + 4*x**2 + 4*y**2) * sqrt(d**2 + 4*d*x + 4*x**2 + 4*y**2)\n",
    "v = (4*x**2 - d**2 - 4*y**2) / eta\n",
    "u = 4*d*y / eta"
   ]
  },
  {
   "cell_type": "code",
   "execution_count": 43,
   "id": "e33cf5cb",
   "metadata": {},
   "outputs": [],
   "source": [
    "rhs_simple = eps * ((v * (phi_c.diff(x)**2 - phi_c.diff(y)**2 - 2*phi_c.diff(x, y))\n",
    "                    - u * (phi_c.diff(y, 2) - phi_c.diff(x, 2) - 2*phi_c.diff(x)*phi_c.diff(y))\n",
    "                    ) * sin(2*phi_c)\n",
    "                    +\n",
    "                    (v * (phi_c.diff(y, 2) - phi_c.diff(x, 2) - 2*phi_c.diff(x)*phi_c.diff(y))\n",
    "                    + u * (phi_c.diff(x)**2 - phi_c.diff(y)**2 - 2*phi_c.diff(x, y))\n",
    "                    ) * cos(2*phi_c))"
   ]
  },
  {
   "cell_type": "code",
   "execution_count": 44,
   "id": "3760d98d",
   "metadata": {},
   "outputs": [
    {
     "data": {
      "text/latex": [
       "$\\displaystyle 0$"
      ],
      "text/plain": [
       "0"
      ]
     },
     "metadata": {},
     "output_type": "display_data"
    }
   ],
   "source": [
    "rhs_diff = expand(expand(rhs) - expand(rhs_simple))\n",
    "rhs_diff = simplify(rhs_diff)\n",
    "display(rhs_diff)"
   ]
  },
  {
   "cell_type": "markdown",
   "id": "aabcafb6",
   "metadata": {},
   "source": [
    "### Simplify\n",
    "\n",
    "To correspond with Carter's (16), define:\n",
    "\n",
    "$A(\\phi) = \\phi_{yy} - \\phi_{xx} - 2\\phi_x\\phi_y$\n",
    "\n",
    "$B(\\phi) = \\phi_x^2 - \\phi_y^2 - 2\\phi_{xy}$\n",
    "\n",
    "So that his eq. (16) is given simply by:\n",
    "\n",
    "$\\nabla^2 \\phi + \\epsilon \\bigl[ A(\\phi) \\cos2\\phi + B(\\phi) \\sin2\\phi \\bigr]$\n",
    "\n",
    "And then the nonlinear equation for the non-singular correction is given by:\n",
    "\n",
    "$\\nabla^2 \\phi_\\text{c} \n",
    "+ \\epsilon \\bigl[\n",
    "\\bigl( v A(\\phi_\\text{c}) + u B(\\phi_\\text{c}) \\bigr) \\cos2\\phi_\\text{c}\n",
    "+ \\bigl( v B(\\phi_\\text{c}) - u A(\\phi_\\text{c}) \\bigr) \\sin2\\phi_\\text{c} \\bigr] = 0$"
   ]
  },
  {
   "cell_type": "markdown",
   "id": "3c098115",
   "metadata": {},
   "source": [
    "### Use Newton's Method\n",
    "\n",
    "For brevity, take the correction to be $\\phi$"
   ]
  },
  {
   "cell_type": "code",
   "execution_count": 55,
   "id": "57df78e4",
   "metadata": {},
   "outputs": [],
   "source": [
    "tau = symbols('tau')\n",
    "dphi = Function('\\\\delta\\ \\\\phi')(x, y)"
   ]
  },
  {
   "cell_type": "code",
   "execution_count": 56,
   "id": "02ad029e",
   "metadata": {},
   "outputs": [],
   "source": [
    "A = phi.diff(y, 2) - phi.diff(x, 2) - 2*phi.diff(x)*phi.diff(y)\n",
    "B = phi.diff(x)**2 - phi.diff(y)**2 - 2*phi.diff(x, y)"
   ]
  },
  {
   "cell_type": "code",
   "execution_count": 63,
   "id": "fdf3f9a3",
   "metadata": {},
   "outputs": [
    {
     "data": {
      "text/latex": [
       "$\\displaystyle - 2 \\frac{\\partial}{\\partial x} \\delta\\ \\phi{\\left(x,y \\right)} \\frac{\\partial}{\\partial y} \\phi{\\left(x,y \\right)} - \\frac{\\partial^{2}}{\\partial x^{2}} \\delta\\ \\phi{\\left(x,y \\right)} - 2 \\frac{\\partial}{\\partial y} \\delta\\ \\phi{\\left(x,y \\right)} \\frac{\\partial}{\\partial x} \\phi{\\left(x,y \\right)} + \\frac{\\partial^{2}}{\\partial y^{2}} \\delta\\ \\phi{\\left(x,y \\right)}$"
      ],
      "text/plain": [
       "-2*Derivative(\\delta\\ \\phi(x, y), x)*Derivative(phi(x, y), y) - Derivative(\\delta\\ \\phi(x, y), (x, 2)) - 2*Derivative(\\delta\\ \\phi(x, y), y)*Derivative(phi(x, y), x) + Derivative(\\delta\\ \\phi(x, y), (y, 2))"
      ]
     },
     "metadata": {},
     "output_type": "display_data"
    },
    {
     "data": {
      "text/latex": [
       "$\\displaystyle 2 \\frac{\\partial}{\\partial x} \\delta\\ \\phi{\\left(x,y \\right)} \\frac{\\partial}{\\partial x} \\phi{\\left(x,y \\right)} - 2 \\frac{\\partial}{\\partial y} \\delta\\ \\phi{\\left(x,y \\right)} \\frac{\\partial}{\\partial y} \\phi{\\left(x,y \\right)} - 2 \\frac{\\partial^{2}}{\\partial y\\partial x} \\delta\\ \\phi{\\left(x,y \\right)}$"
      ],
      "text/plain": [
       "2*Derivative(\\delta\\ \\phi(x, y), x)*Derivative(phi(x, y), x) - 2*Derivative(\\delta\\ \\phi(x, y), y)*Derivative(phi(x, y), y) - 2*Derivative(\\delta\\ \\phi(x, y), x, y)"
      ]
     },
     "metadata": {},
     "output_type": "display_data"
    }
   ],
   "source": [
    "dA = simplify( A.subs(phi, phi + tau*dphi).diff(tau).subs(tau, 0) )\n",
    "dB = simplify( B.subs(phi, phi + tau*dphi).diff(tau).subs(tau, 0) )\n",
    "\n",
    "display(dA)\n",
    "display(dB)"
   ]
  },
  {
   "cell_type": "code",
   "execution_count": 66,
   "id": "39983614",
   "metadata": {},
   "outputs": [
    {
     "data": {
      "text/latex": [
       "$\\displaystyle 2 \\delta\\ \\phi{\\left(x,y \\right)} \\cos{\\left(2 \\phi{\\left(x,y \\right)} \\right)}$"
      ],
      "text/plain": [
       "2*\\delta\\ \\phi(x, y)*cos(2*phi(x, y))"
      ]
     },
     "metadata": {},
     "output_type": "display_data"
    },
    {
     "data": {
      "text/latex": [
       "$\\displaystyle - 2 \\delta\\ \\phi{\\left(x,y \\right)} \\sin{\\left(2 \\phi{\\left(x,y \\right)} \\right)}$"
      ],
      "text/plain": [
       "-2*\\delta\\ \\phi(x, y)*sin(2*phi(x, y))"
      ]
     },
     "metadata": {},
     "output_type": "display_data"
    }
   ],
   "source": [
    "dsin = sin(2*phi).subs(phi, phi + tau*dphi).diff(tau).subs(tau, 0)\n",
    "dcos = cos(2*phi).subs(phi, phi + tau*dphi).diff(tau).subs(tau, 0)\n",
    "\n",
    "display(dsin)\n",
    "display(dcos)"
   ]
  }
 ],
 "metadata": {
  "kernelspec": {
   "display_name": "Python 3 (ipykernel)",
   "language": "python",
   "name": "python3"
  },
  "language_info": {
   "codemirror_mode": {
    "name": "ipython",
    "version": 3
   },
   "file_extension": ".py",
   "mimetype": "text/x-python",
   "name": "python",
   "nbconvert_exporter": "python",
   "pygments_lexer": "ipython3",
   "version": "3.9.7"
  }
 },
 "nbformat": 4,
 "nbformat_minor": 5
}
