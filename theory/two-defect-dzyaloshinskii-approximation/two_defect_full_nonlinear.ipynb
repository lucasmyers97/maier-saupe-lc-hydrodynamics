{
 "cells": [
  {
   "cell_type": "code",
   "execution_count": 20,
   "id": "ad2bfa92",
   "metadata": {},
   "outputs": [],
   "source": [
    "from sympy import *\n",
    "from sympy.simplify.fu import *"
   ]
  },
  {
   "cell_type": "code",
   "execution_count": 7,
   "id": "36b36d87",
   "metadata": {},
   "outputs": [],
   "source": [
    "x, y = symbols('x y')\n",
    "phi = Function('phi')(x, y)\n",
    "\n",
    "eps = symbols('epsilon')"
   ]
  },
  {
   "cell_type": "code",
   "execution_count": 8,
   "id": "29fea46a",
   "metadata": {},
   "outputs": [],
   "source": [
    "rhs = eps * (sin(2*phi) * (phi.diff(x)**2 - phi.diff(y)**2 - 2*phi.diff(x, y))\n",
    "             + cos(2*phi) * (phi.diff(y, 2) - phi.diff(x, 2) - 2*phi.diff(x)*phi.diff(y)))"
   ]
  },
  {
   "cell_type": "code",
   "execution_count": 9,
   "id": "75e295a9",
   "metadata": {},
   "outputs": [
    {
     "data": {
      "text/latex": [
       "$\\displaystyle \\epsilon \\left(\\left(- 2 \\frac{\\partial}{\\partial x} \\phi{\\left(x,y \\right)} \\frac{\\partial}{\\partial y} \\phi{\\left(x,y \\right)} - \\frac{\\partial^{2}}{\\partial x^{2}} \\phi{\\left(x,y \\right)} + \\frac{\\partial^{2}}{\\partial y^{2}} \\phi{\\left(x,y \\right)}\\right) \\cos{\\left(2 \\phi{\\left(x,y \\right)} \\right)} + \\left(\\left(\\frac{\\partial}{\\partial x} \\phi{\\left(x,y \\right)}\\right)^{2} - \\left(\\frac{\\partial}{\\partial y} \\phi{\\left(x,y \\right)}\\right)^{2} - 2 \\frac{\\partial^{2}}{\\partial y\\partial x} \\phi{\\left(x,y \\right)}\\right) \\sin{\\left(2 \\phi{\\left(x,y \\right)} \\right)}\\right)$"
      ],
      "text/plain": [
       "epsilon*((-2*Derivative(phi(x, y), x)*Derivative(phi(x, y), y) - Derivative(phi(x, y), (x, 2)) + Derivative(phi(x, y), (y, 2)))*cos(2*phi(x, y)) + (Derivative(phi(x, y), x)**2 - Derivative(phi(x, y), y)**2 - 2*Derivative(phi(x, y), x, y))*sin(2*phi(x, y)))"
      ]
     },
     "execution_count": 9,
     "metadata": {},
     "output_type": "execute_result"
    }
   ],
   "source": [
    "rhs"
   ]
  },
  {
   "cell_type": "code",
   "execution_count": 14,
   "id": "c72ccf1e",
   "metadata": {},
   "outputs": [],
   "source": [
    "phi_iso = Function('\\\\phi_\\\\text{iso}')(x, y)\n",
    "phi_c = Function('\\\\phi_\\\\text{c}')(x, y)"
   ]
  },
  {
   "cell_type": "code",
   "execution_count": 18,
   "id": "112e22ff",
   "metadata": {},
   "outputs": [
    {
     "data": {
      "text/latex": [
       "$\\displaystyle \\epsilon \\sin{\\left(2 \\phi_\\text{c}{\\left(x,y \\right)} + 2 \\phi_\\text{iso}{\\left(x,y \\right)} \\right)} \\left(\\frac{\\partial}{\\partial x} \\phi_\\text{c}{\\left(x,y \\right)}\\right)^{2} + 2 \\epsilon \\sin{\\left(2 \\phi_\\text{c}{\\left(x,y \\right)} + 2 \\phi_\\text{iso}{\\left(x,y \\right)} \\right)} \\frac{\\partial}{\\partial x} \\phi_\\text{c}{\\left(x,y \\right)} \\frac{\\partial}{\\partial x} \\phi_\\text{iso}{\\left(x,y \\right)} - \\epsilon \\sin{\\left(2 \\phi_\\text{c}{\\left(x,y \\right)} + 2 \\phi_\\text{iso}{\\left(x,y \\right)} \\right)} \\left(\\frac{\\partial}{\\partial y} \\phi_\\text{c}{\\left(x,y \\right)}\\right)^{2} - 2 \\epsilon \\sin{\\left(2 \\phi_\\text{c}{\\left(x,y \\right)} + 2 \\phi_\\text{iso}{\\left(x,y \\right)} \\right)} \\frac{\\partial}{\\partial y} \\phi_\\text{c}{\\left(x,y \\right)} \\frac{\\partial}{\\partial y} \\phi_\\text{iso}{\\left(x,y \\right)} + \\epsilon \\sin{\\left(2 \\phi_\\text{c}{\\left(x,y \\right)} + 2 \\phi_\\text{iso}{\\left(x,y \\right)} \\right)} \\left(\\frac{\\partial}{\\partial x} \\phi_\\text{iso}{\\left(x,y \\right)}\\right)^{2} - \\epsilon \\sin{\\left(2 \\phi_\\text{c}{\\left(x,y \\right)} + 2 \\phi_\\text{iso}{\\left(x,y \\right)} \\right)} \\left(\\frac{\\partial}{\\partial y} \\phi_\\text{iso}{\\left(x,y \\right)}\\right)^{2} - 2 \\epsilon \\sin{\\left(2 \\phi_\\text{c}{\\left(x,y \\right)} + 2 \\phi_\\text{iso}{\\left(x,y \\right)} \\right)} \\frac{\\partial^{2}}{\\partial y\\partial x} \\phi_\\text{c}{\\left(x,y \\right)} - 2 \\epsilon \\sin{\\left(2 \\phi_\\text{c}{\\left(x,y \\right)} + 2 \\phi_\\text{iso}{\\left(x,y \\right)} \\right)} \\frac{\\partial^{2}}{\\partial y\\partial x} \\phi_\\text{iso}{\\left(x,y \\right)} - 2 \\epsilon \\cos{\\left(2 \\phi_\\text{c}{\\left(x,y \\right)} + 2 \\phi_\\text{iso}{\\left(x,y \\right)} \\right)} \\frac{\\partial}{\\partial x} \\phi_\\text{c}{\\left(x,y \\right)} \\frac{\\partial}{\\partial y} \\phi_\\text{c}{\\left(x,y \\right)} - 2 \\epsilon \\cos{\\left(2 \\phi_\\text{c}{\\left(x,y \\right)} + 2 \\phi_\\text{iso}{\\left(x,y \\right)} \\right)} \\frac{\\partial}{\\partial x} \\phi_\\text{c}{\\left(x,y \\right)} \\frac{\\partial}{\\partial y} \\phi_\\text{iso}{\\left(x,y \\right)} - \\epsilon \\cos{\\left(2 \\phi_\\text{c}{\\left(x,y \\right)} + 2 \\phi_\\text{iso}{\\left(x,y \\right)} \\right)} \\frac{\\partial^{2}}{\\partial x^{2}} \\phi_\\text{c}{\\left(x,y \\right)} - 2 \\epsilon \\cos{\\left(2 \\phi_\\text{c}{\\left(x,y \\right)} + 2 \\phi_\\text{iso}{\\left(x,y \\right)} \\right)} \\frac{\\partial}{\\partial y} \\phi_\\text{c}{\\left(x,y \\right)} \\frac{\\partial}{\\partial x} \\phi_\\text{iso}{\\left(x,y \\right)} + \\epsilon \\cos{\\left(2 \\phi_\\text{c}{\\left(x,y \\right)} + 2 \\phi_\\text{iso}{\\left(x,y \\right)} \\right)} \\frac{\\partial^{2}}{\\partial y^{2}} \\phi_\\text{c}{\\left(x,y \\right)} - 2 \\epsilon \\cos{\\left(2 \\phi_\\text{c}{\\left(x,y \\right)} + 2 \\phi_\\text{iso}{\\left(x,y \\right)} \\right)} \\frac{\\partial}{\\partial x} \\phi_\\text{iso}{\\left(x,y \\right)} \\frac{\\partial}{\\partial y} \\phi_\\text{iso}{\\left(x,y \\right)} - \\epsilon \\cos{\\left(2 \\phi_\\text{c}{\\left(x,y \\right)} + 2 \\phi_\\text{iso}{\\left(x,y \\right)} \\right)} \\frac{\\partial^{2}}{\\partial x^{2}} \\phi_\\text{iso}{\\left(x,y \\right)} + \\epsilon \\cos{\\left(2 \\phi_\\text{c}{\\left(x,y \\right)} + 2 \\phi_\\text{iso}{\\left(x,y \\right)} \\right)} \\frac{\\partial^{2}}{\\partial y^{2}} \\phi_\\text{iso}{\\left(x,y \\right)}$"
      ],
      "text/plain": [
       "epsilon*sin(2*\\phi_\\text{c}(x, y) + 2*\\phi_\\text{iso}(x, y))*Derivative(\\phi_\\text{c}(x, y), x)**2 + 2*epsilon*sin(2*\\phi_\\text{c}(x, y) + 2*\\phi_\\text{iso}(x, y))*Derivative(\\phi_\\text{c}(x, y), x)*Derivative(\\phi_\\text{iso}(x, y), x) - epsilon*sin(2*\\phi_\\text{c}(x, y) + 2*\\phi_\\text{iso}(x, y))*Derivative(\\phi_\\text{c}(x, y), y)**2 - 2*epsilon*sin(2*\\phi_\\text{c}(x, y) + 2*\\phi_\\text{iso}(x, y))*Derivative(\\phi_\\text{c}(x, y), y)*Derivative(\\phi_\\text{iso}(x, y), y) + epsilon*sin(2*\\phi_\\text{c}(x, y) + 2*\\phi_\\text{iso}(x, y))*Derivative(\\phi_\\text{iso}(x, y), x)**2 - epsilon*sin(2*\\phi_\\text{c}(x, y) + 2*\\phi_\\text{iso}(x, y))*Derivative(\\phi_\\text{iso}(x, y), y)**2 - 2*epsilon*sin(2*\\phi_\\text{c}(x, y) + 2*\\phi_\\text{iso}(x, y))*Derivative(\\phi_\\text{c}(x, y), x, y) - 2*epsilon*sin(2*\\phi_\\text{c}(x, y) + 2*\\phi_\\text{iso}(x, y))*Derivative(\\phi_\\text{iso}(x, y), x, y) - 2*epsilon*cos(2*\\phi_\\text{c}(x, y) + 2*\\phi_\\text{iso}(x, y))*Derivative(\\phi_\\text{c}(x, y), x)*Derivative(\\phi_\\text{c}(x, y), y) - 2*epsilon*cos(2*\\phi_\\text{c}(x, y) + 2*\\phi_\\text{iso}(x, y))*Derivative(\\phi_\\text{c}(x, y), x)*Derivative(\\phi_\\text{iso}(x, y), y) - epsilon*cos(2*\\phi_\\text{c}(x, y) + 2*\\phi_\\text{iso}(x, y))*Derivative(\\phi_\\text{c}(x, y), (x, 2)) - 2*epsilon*cos(2*\\phi_\\text{c}(x, y) + 2*\\phi_\\text{iso}(x, y))*Derivative(\\phi_\\text{c}(x, y), y)*Derivative(\\phi_\\text{iso}(x, y), x) + epsilon*cos(2*\\phi_\\text{c}(x, y) + 2*\\phi_\\text{iso}(x, y))*Derivative(\\phi_\\text{c}(x, y), (y, 2)) - 2*epsilon*cos(2*\\phi_\\text{c}(x, y) + 2*\\phi_\\text{iso}(x, y))*Derivative(\\phi_\\text{iso}(x, y), x)*Derivative(\\phi_\\text{iso}(x, y), y) - epsilon*cos(2*\\phi_\\text{c}(x, y) + 2*\\phi_\\text{iso}(x, y))*Derivative(\\phi_\\text{iso}(x, y), (x, 2)) + epsilon*cos(2*\\phi_\\text{c}(x, y) + 2*\\phi_\\text{iso}(x, y))*Derivative(\\phi_\\text{iso}(x, y), (y, 2))"
      ]
     },
     "metadata": {},
     "output_type": "display_data"
    }
   ],
   "source": [
    "rhs = expand(rhs.subs(phi, phi_iso + phi_c).doit())\n",
    "display(rhs)"
   ]
  },
  {
   "cell_type": "code",
   "execution_count": 24,
   "id": "893d6ee3",
   "metadata": {},
   "outputs": [
    {
     "data": {
      "text/latex": [
       "$\\displaystyle - 2 \\epsilon \\left(- \\sin{\\left(2 \\phi_\\text{c}{\\left(x,y \\right)} \\right)} \\sin{\\left(2 \\phi_\\text{iso}{\\left(x,y \\right)} \\right)} + \\cos{\\left(2 \\phi_\\text{c}{\\left(x,y \\right)} \\right)} \\cos{\\left(2 \\phi_\\text{iso}{\\left(x,y \\right)} \\right)}\\right) \\frac{\\partial}{\\partial x} \\phi_\\text{c}{\\left(x,y \\right)} \\frac{\\partial}{\\partial y} \\phi_\\text{c}{\\left(x,y \\right)} - 2 \\epsilon \\left(- \\sin{\\left(2 \\phi_\\text{c}{\\left(x,y \\right)} \\right)} \\sin{\\left(2 \\phi_\\text{iso}{\\left(x,y \\right)} \\right)} + \\cos{\\left(2 \\phi_\\text{c}{\\left(x,y \\right)} \\right)} \\cos{\\left(2 \\phi_\\text{iso}{\\left(x,y \\right)} \\right)}\\right) \\frac{\\partial}{\\partial x} \\phi_\\text{c}{\\left(x,y \\right)} \\frac{\\partial}{\\partial y} \\phi_\\text{iso}{\\left(x,y \\right)} - \\epsilon \\left(- \\sin{\\left(2 \\phi_\\text{c}{\\left(x,y \\right)} \\right)} \\sin{\\left(2 \\phi_\\text{iso}{\\left(x,y \\right)} \\right)} + \\cos{\\left(2 \\phi_\\text{c}{\\left(x,y \\right)} \\right)} \\cos{\\left(2 \\phi_\\text{iso}{\\left(x,y \\right)} \\right)}\\right) \\frac{\\partial^{2}}{\\partial x^{2}} \\phi_\\text{c}{\\left(x,y \\right)} - 2 \\epsilon \\left(- \\sin{\\left(2 \\phi_\\text{c}{\\left(x,y \\right)} \\right)} \\sin{\\left(2 \\phi_\\text{iso}{\\left(x,y \\right)} \\right)} + \\cos{\\left(2 \\phi_\\text{c}{\\left(x,y \\right)} \\right)} \\cos{\\left(2 \\phi_\\text{iso}{\\left(x,y \\right)} \\right)}\\right) \\frac{\\partial}{\\partial y} \\phi_\\text{c}{\\left(x,y \\right)} \\frac{\\partial}{\\partial x} \\phi_\\text{iso}{\\left(x,y \\right)} + \\epsilon \\left(- \\sin{\\left(2 \\phi_\\text{c}{\\left(x,y \\right)} \\right)} \\sin{\\left(2 \\phi_\\text{iso}{\\left(x,y \\right)} \\right)} + \\cos{\\left(2 \\phi_\\text{c}{\\left(x,y \\right)} \\right)} \\cos{\\left(2 \\phi_\\text{iso}{\\left(x,y \\right)} \\right)}\\right) \\frac{\\partial^{2}}{\\partial y^{2}} \\phi_\\text{c}{\\left(x,y \\right)} - 2 \\epsilon \\left(- \\sin{\\left(2 \\phi_\\text{c}{\\left(x,y \\right)} \\right)} \\sin{\\left(2 \\phi_\\text{iso}{\\left(x,y \\right)} \\right)} + \\cos{\\left(2 \\phi_\\text{c}{\\left(x,y \\right)} \\right)} \\cos{\\left(2 \\phi_\\text{iso}{\\left(x,y \\right)} \\right)}\\right) \\frac{\\partial}{\\partial x} \\phi_\\text{iso}{\\left(x,y \\right)} \\frac{\\partial}{\\partial y} \\phi_\\text{iso}{\\left(x,y \\right)} - \\epsilon \\left(- \\sin{\\left(2 \\phi_\\text{c}{\\left(x,y \\right)} \\right)} \\sin{\\left(2 \\phi_\\text{iso}{\\left(x,y \\right)} \\right)} + \\cos{\\left(2 \\phi_\\text{c}{\\left(x,y \\right)} \\right)} \\cos{\\left(2 \\phi_\\text{iso}{\\left(x,y \\right)} \\right)}\\right) \\frac{\\partial^{2}}{\\partial x^{2}} \\phi_\\text{iso}{\\left(x,y \\right)} + \\epsilon \\left(- \\sin{\\left(2 \\phi_\\text{c}{\\left(x,y \\right)} \\right)} \\sin{\\left(2 \\phi_\\text{iso}{\\left(x,y \\right)} \\right)} + \\cos{\\left(2 \\phi_\\text{c}{\\left(x,y \\right)} \\right)} \\cos{\\left(2 \\phi_\\text{iso}{\\left(x,y \\right)} \\right)}\\right) \\frac{\\partial^{2}}{\\partial y^{2}} \\phi_\\text{iso}{\\left(x,y \\right)} + \\epsilon \\left(\\sin{\\left(2 \\phi_\\text{c}{\\left(x,y \\right)} \\right)} \\cos{\\left(2 \\phi_\\text{iso}{\\left(x,y \\right)} \\right)} + \\sin{\\left(2 \\phi_\\text{iso}{\\left(x,y \\right)} \\right)} \\cos{\\left(2 \\phi_\\text{c}{\\left(x,y \\right)} \\right)}\\right) \\left(\\frac{\\partial}{\\partial x} \\phi_\\text{c}{\\left(x,y \\right)}\\right)^{2} + 2 \\epsilon \\left(\\sin{\\left(2 \\phi_\\text{c}{\\left(x,y \\right)} \\right)} \\cos{\\left(2 \\phi_\\text{iso}{\\left(x,y \\right)} \\right)} + \\sin{\\left(2 \\phi_\\text{iso}{\\left(x,y \\right)} \\right)} \\cos{\\left(2 \\phi_\\text{c}{\\left(x,y \\right)} \\right)}\\right) \\frac{\\partial}{\\partial x} \\phi_\\text{c}{\\left(x,y \\right)} \\frac{\\partial}{\\partial x} \\phi_\\text{iso}{\\left(x,y \\right)} - \\epsilon \\left(\\sin{\\left(2 \\phi_\\text{c}{\\left(x,y \\right)} \\right)} \\cos{\\left(2 \\phi_\\text{iso}{\\left(x,y \\right)} \\right)} + \\sin{\\left(2 \\phi_\\text{iso}{\\left(x,y \\right)} \\right)} \\cos{\\left(2 \\phi_\\text{c}{\\left(x,y \\right)} \\right)}\\right) \\left(\\frac{\\partial}{\\partial y} \\phi_\\text{c}{\\left(x,y \\right)}\\right)^{2} - 2 \\epsilon \\left(\\sin{\\left(2 \\phi_\\text{c}{\\left(x,y \\right)} \\right)} \\cos{\\left(2 \\phi_\\text{iso}{\\left(x,y \\right)} \\right)} + \\sin{\\left(2 \\phi_\\text{iso}{\\left(x,y \\right)} \\right)} \\cos{\\left(2 \\phi_\\text{c}{\\left(x,y \\right)} \\right)}\\right) \\frac{\\partial}{\\partial y} \\phi_\\text{c}{\\left(x,y \\right)} \\frac{\\partial}{\\partial y} \\phi_\\text{iso}{\\left(x,y \\right)} + \\epsilon \\left(\\sin{\\left(2 \\phi_\\text{c}{\\left(x,y \\right)} \\right)} \\cos{\\left(2 \\phi_\\text{iso}{\\left(x,y \\right)} \\right)} + \\sin{\\left(2 \\phi_\\text{iso}{\\left(x,y \\right)} \\right)} \\cos{\\left(2 \\phi_\\text{c}{\\left(x,y \\right)} \\right)}\\right) \\left(\\frac{\\partial}{\\partial x} \\phi_\\text{iso}{\\left(x,y \\right)}\\right)^{2} - \\epsilon \\left(\\sin{\\left(2 \\phi_\\text{c}{\\left(x,y \\right)} \\right)} \\cos{\\left(2 \\phi_\\text{iso}{\\left(x,y \\right)} \\right)} + \\sin{\\left(2 \\phi_\\text{iso}{\\left(x,y \\right)} \\right)} \\cos{\\left(2 \\phi_\\text{c}{\\left(x,y \\right)} \\right)}\\right) \\left(\\frac{\\partial}{\\partial y} \\phi_\\text{iso}{\\left(x,y \\right)}\\right)^{2} - 2 \\epsilon \\left(\\sin{\\left(2 \\phi_\\text{c}{\\left(x,y \\right)} \\right)} \\cos{\\left(2 \\phi_\\text{iso}{\\left(x,y \\right)} \\right)} + \\sin{\\left(2 \\phi_\\text{iso}{\\left(x,y \\right)} \\right)} \\cos{\\left(2 \\phi_\\text{c}{\\left(x,y \\right)} \\right)}\\right) \\frac{\\partial^{2}}{\\partial y\\partial x} \\phi_\\text{c}{\\left(x,y \\right)} - 2 \\epsilon \\left(\\sin{\\left(2 \\phi_\\text{c}{\\left(x,y \\right)} \\right)} \\cos{\\left(2 \\phi_\\text{iso}{\\left(x,y \\right)} \\right)} + \\sin{\\left(2 \\phi_\\text{iso}{\\left(x,y \\right)} \\right)} \\cos{\\left(2 \\phi_\\text{c}{\\left(x,y \\right)} \\right)}\\right) \\frac{\\partial^{2}}{\\partial y\\partial x} \\phi_\\text{iso}{\\left(x,y \\right)}$"
      ],
      "text/plain": [
       "-2*epsilon*(-sin(2*\\phi_\\text{c}(x, y))*sin(2*\\phi_\\text{iso}(x, y)) + cos(2*\\phi_\\text{c}(x, y))*cos(2*\\phi_\\text{iso}(x, y)))*Derivative(\\phi_\\text{c}(x, y), x)*Derivative(\\phi_\\text{c}(x, y), y) - 2*epsilon*(-sin(2*\\phi_\\text{c}(x, y))*sin(2*\\phi_\\text{iso}(x, y)) + cos(2*\\phi_\\text{c}(x, y))*cos(2*\\phi_\\text{iso}(x, y)))*Derivative(\\phi_\\text{c}(x, y), x)*Derivative(\\phi_\\text{iso}(x, y), y) - epsilon*(-sin(2*\\phi_\\text{c}(x, y))*sin(2*\\phi_\\text{iso}(x, y)) + cos(2*\\phi_\\text{c}(x, y))*cos(2*\\phi_\\text{iso}(x, y)))*Derivative(\\phi_\\text{c}(x, y), (x, 2)) - 2*epsilon*(-sin(2*\\phi_\\text{c}(x, y))*sin(2*\\phi_\\text{iso}(x, y)) + cos(2*\\phi_\\text{c}(x, y))*cos(2*\\phi_\\text{iso}(x, y)))*Derivative(\\phi_\\text{c}(x, y), y)*Derivative(\\phi_\\text{iso}(x, y), x) + epsilon*(-sin(2*\\phi_\\text{c}(x, y))*sin(2*\\phi_\\text{iso}(x, y)) + cos(2*\\phi_\\text{c}(x, y))*cos(2*\\phi_\\text{iso}(x, y)))*Derivative(\\phi_\\text{c}(x, y), (y, 2)) - 2*epsilon*(-sin(2*\\phi_\\text{c}(x, y))*sin(2*\\phi_\\text{iso}(x, y)) + cos(2*\\phi_\\text{c}(x, y))*cos(2*\\phi_\\text{iso}(x, y)))*Derivative(\\phi_\\text{iso}(x, y), x)*Derivative(\\phi_\\text{iso}(x, y), y) - epsilon*(-sin(2*\\phi_\\text{c}(x, y))*sin(2*\\phi_\\text{iso}(x, y)) + cos(2*\\phi_\\text{c}(x, y))*cos(2*\\phi_\\text{iso}(x, y)))*Derivative(\\phi_\\text{iso}(x, y), (x, 2)) + epsilon*(-sin(2*\\phi_\\text{c}(x, y))*sin(2*\\phi_\\text{iso}(x, y)) + cos(2*\\phi_\\text{c}(x, y))*cos(2*\\phi_\\text{iso}(x, y)))*Derivative(\\phi_\\text{iso}(x, y), (y, 2)) + epsilon*(sin(2*\\phi_\\text{c}(x, y))*cos(2*\\phi_\\text{iso}(x, y)) + sin(2*\\phi_\\text{iso}(x, y))*cos(2*\\phi_\\text{c}(x, y)))*Derivative(\\phi_\\text{c}(x, y), x)**2 + 2*epsilon*(sin(2*\\phi_\\text{c}(x, y))*cos(2*\\phi_\\text{iso}(x, y)) + sin(2*\\phi_\\text{iso}(x, y))*cos(2*\\phi_\\text{c}(x, y)))*Derivative(\\phi_\\text{c}(x, y), x)*Derivative(\\phi_\\text{iso}(x, y), x) - epsilon*(sin(2*\\phi_\\text{c}(x, y))*cos(2*\\phi_\\text{iso}(x, y)) + sin(2*\\phi_\\text{iso}(x, y))*cos(2*\\phi_\\text{c}(x, y)))*Derivative(\\phi_\\text{c}(x, y), y)**2 - 2*epsilon*(sin(2*\\phi_\\text{c}(x, y))*cos(2*\\phi_\\text{iso}(x, y)) + sin(2*\\phi_\\text{iso}(x, y))*cos(2*\\phi_\\text{c}(x, y)))*Derivative(\\phi_\\text{c}(x, y), y)*Derivative(\\phi_\\text{iso}(x, y), y) + epsilon*(sin(2*\\phi_\\text{c}(x, y))*cos(2*\\phi_\\text{iso}(x, y)) + sin(2*\\phi_\\text{iso}(x, y))*cos(2*\\phi_\\text{c}(x, y)))*Derivative(\\phi_\\text{iso}(x, y), x)**2 - epsilon*(sin(2*\\phi_\\text{c}(x, y))*cos(2*\\phi_\\text{iso}(x, y)) + sin(2*\\phi_\\text{iso}(x, y))*cos(2*\\phi_\\text{c}(x, y)))*Derivative(\\phi_\\text{iso}(x, y), y)**2 - 2*epsilon*(sin(2*\\phi_\\text{c}(x, y))*cos(2*\\phi_\\text{iso}(x, y)) + sin(2*\\phi_\\text{iso}(x, y))*cos(2*\\phi_\\text{c}(x, y)))*Derivative(\\phi_\\text{c}(x, y), x, y) - 2*epsilon*(sin(2*\\phi_\\text{c}(x, y))*cos(2*\\phi_\\text{iso}(x, y)) + sin(2*\\phi_\\text{iso}(x, y))*cos(2*\\phi_\\text{c}(x, y)))*Derivative(\\phi_\\text{iso}(x, y), x, y)"
      ]
     },
     "metadata": {},
     "output_type": "display_data"
    }
   ],
   "source": [
    "rhs = TR10(rhs)\n",
    "display(rhs)"
   ]
  },
  {
   "cell_type": "markdown",
   "id": "9a93fd66",
   "metadata": {},
   "source": [
    "Now note that $\\phi_\\text{iso}(x, y) = q_1 \\theta_1(x, y) + q_2 \\theta_2(x, y)$\n",
    "\n",
    "Then we have that $\\cos(2\\phi_\\text{iso}) = \\cos(2 q_1 \\theta_1)\\cos(2 q_2 \\theta_2) - \\sin(2 q_1 \\theta_1) \\sin(2 q_2 \\theta_2)$\n",
    "\n",
    "Additionally, $\\sin(2\\phi_\\text{iso}) = \\sin(2q_1 \\theta_1) \\cos(2 q_2 \\theta_2) + \\sin(2 q_2 \\theta_2) \\cos(2 q_1 \\theta_1)$\n",
    "\n",
    "Substituting in that $q_1 = \\pm 1/2$ and that $q_2 = \\mp 1/2$ we get:\n",
    "\n",
    "$\\cos(2\\phi_\\text{iso}) = \\cos(\\theta_1)\\cos(\\theta_2) - \\sin(\\theta_1) \\sin(\\theta_2)$\n",
    "\n",
    "$\\sin(2\\phi_\\text{iso}) = \\pm\\sin(\\theta_1) \\cos(\\theta_2) \\mp \\sin(\\theta_2) \\cos(\\theta_1)$"
   ]
  },
  {
   "cell_type": "markdown",
   "id": "bc1540f9",
   "metadata": {},
   "source": [
    "Note also that $\\cos(\\theta_{1, 2}) = \\frac{x \\mp d/2}{\\sqrt{x^2 + y^2 + d^2/4 \\mp x d}}$\n",
    "\n",
    "and $\\sin(\\theta_{1, 2}) = \\frac{y}{\\sqrt{x^2 + y^2 + d^2/4 \\mp x d}}$"
   ]
  },
  {
   "cell_type": "markdown",
   "id": "c120fb5f",
   "metadata": {},
   "source": [
    "Note finally that $\\frac{d \\theta_{1, 2}}{dx} = -\\frac{y}{x^2 + y^2}$\n",
    "\n",
    "Also that $\\frac{d \\theta_{1, 2}}{dy} = \\frac{x}{x^2 + y^2}$"
   ]
  },
  {
   "cell_type": "markdown",
   "id": "18ce772b",
   "metadata": {},
   "source": [
    "### Assume $q_1 = 1/2$, $q_2 = -1/2$"
   ]
  },
  {
   "cell_type": "code",
   "execution_count": 28,
   "id": "cdf43b8b",
   "metadata": {},
   "outputs": [],
   "source": [
    "theta1 = Function('theta_1')(x, y)\n",
    "theta2 = Function('theta_2')(x, y)"
   ]
  },
  {
   "cell_type": "code",
   "execution_count": 29,
   "id": "2cb8fbc7",
   "metadata": {},
   "outputs": [
    {
     "data": {
      "text/latex": [
       "$\\displaystyle \\epsilon \\left(\\left(- \\sin{\\left(\\theta_{1}{\\left(x,y \\right)} \\right)} \\sin{\\left(\\theta_{2}{\\left(x,y \\right)} \\right)} + \\cos{\\left(\\theta_{1}{\\left(x,y \\right)} \\right)} \\cos{\\left(\\theta_{2}{\\left(x,y \\right)} \\right)}\\right) \\sin{\\left(2 \\phi_\\text{c}{\\left(x,y \\right)} \\right)} + \\left(\\sin{\\left(\\theta_{1}{\\left(x,y \\right)} \\right)} \\cos{\\left(\\theta_{2}{\\left(x,y \\right)} \\right)} - \\sin{\\left(\\theta_{2}{\\left(x,y \\right)} \\right)} \\cos{\\left(\\theta_{1}{\\left(x,y \\right)} \\right)}\\right) \\cos{\\left(2 \\phi_\\text{c}{\\left(x,y \\right)} \\right)}\\right) \\left(\\frac{\\partial}{\\partial x} \\phi_\\text{c}{\\left(x,y \\right)}\\right)^{2} + 2 \\epsilon \\left(\\left(- \\sin{\\left(\\theta_{1}{\\left(x,y \\right)} \\right)} \\sin{\\left(\\theta_{2}{\\left(x,y \\right)} \\right)} + \\cos{\\left(\\theta_{1}{\\left(x,y \\right)} \\right)} \\cos{\\left(\\theta_{2}{\\left(x,y \\right)} \\right)}\\right) \\sin{\\left(2 \\phi_\\text{c}{\\left(x,y \\right)} \\right)} + \\left(\\sin{\\left(\\theta_{1}{\\left(x,y \\right)} \\right)} \\cos{\\left(\\theta_{2}{\\left(x,y \\right)} \\right)} - \\sin{\\left(\\theta_{2}{\\left(x,y \\right)} \\right)} \\cos{\\left(\\theta_{1}{\\left(x,y \\right)} \\right)}\\right) \\cos{\\left(2 \\phi_\\text{c}{\\left(x,y \\right)} \\right)}\\right) \\frac{\\partial}{\\partial x} \\phi_\\text{c}{\\left(x,y \\right)} \\frac{\\partial}{\\partial x} \\phi_\\text{iso}{\\left(x,y \\right)} - \\epsilon \\left(\\left(- \\sin{\\left(\\theta_{1}{\\left(x,y \\right)} \\right)} \\sin{\\left(\\theta_{2}{\\left(x,y \\right)} \\right)} + \\cos{\\left(\\theta_{1}{\\left(x,y \\right)} \\right)} \\cos{\\left(\\theta_{2}{\\left(x,y \\right)} \\right)}\\right) \\sin{\\left(2 \\phi_\\text{c}{\\left(x,y \\right)} \\right)} + \\left(\\sin{\\left(\\theta_{1}{\\left(x,y \\right)} \\right)} \\cos{\\left(\\theta_{2}{\\left(x,y \\right)} \\right)} - \\sin{\\left(\\theta_{2}{\\left(x,y \\right)} \\right)} \\cos{\\left(\\theta_{1}{\\left(x,y \\right)} \\right)}\\right) \\cos{\\left(2 \\phi_\\text{c}{\\left(x,y \\right)} \\right)}\\right) \\left(\\frac{\\partial}{\\partial y} \\phi_\\text{c}{\\left(x,y \\right)}\\right)^{2} - 2 \\epsilon \\left(\\left(- \\sin{\\left(\\theta_{1}{\\left(x,y \\right)} \\right)} \\sin{\\left(\\theta_{2}{\\left(x,y \\right)} \\right)} + \\cos{\\left(\\theta_{1}{\\left(x,y \\right)} \\right)} \\cos{\\left(\\theta_{2}{\\left(x,y \\right)} \\right)}\\right) \\sin{\\left(2 \\phi_\\text{c}{\\left(x,y \\right)} \\right)} + \\left(\\sin{\\left(\\theta_{1}{\\left(x,y \\right)} \\right)} \\cos{\\left(\\theta_{2}{\\left(x,y \\right)} \\right)} - \\sin{\\left(\\theta_{2}{\\left(x,y \\right)} \\right)} \\cos{\\left(\\theta_{1}{\\left(x,y \\right)} \\right)}\\right) \\cos{\\left(2 \\phi_\\text{c}{\\left(x,y \\right)} \\right)}\\right) \\frac{\\partial}{\\partial y} \\phi_\\text{c}{\\left(x,y \\right)} \\frac{\\partial}{\\partial y} \\phi_\\text{iso}{\\left(x,y \\right)} + \\epsilon \\left(\\left(- \\sin{\\left(\\theta_{1}{\\left(x,y \\right)} \\right)} \\sin{\\left(\\theta_{2}{\\left(x,y \\right)} \\right)} + \\cos{\\left(\\theta_{1}{\\left(x,y \\right)} \\right)} \\cos{\\left(\\theta_{2}{\\left(x,y \\right)} \\right)}\\right) \\sin{\\left(2 \\phi_\\text{c}{\\left(x,y \\right)} \\right)} + \\left(\\sin{\\left(\\theta_{1}{\\left(x,y \\right)} \\right)} \\cos{\\left(\\theta_{2}{\\left(x,y \\right)} \\right)} - \\sin{\\left(\\theta_{2}{\\left(x,y \\right)} \\right)} \\cos{\\left(\\theta_{1}{\\left(x,y \\right)} \\right)}\\right) \\cos{\\left(2 \\phi_\\text{c}{\\left(x,y \\right)} \\right)}\\right) \\left(\\frac{\\partial}{\\partial x} \\phi_\\text{iso}{\\left(x,y \\right)}\\right)^{2} - \\epsilon \\left(\\left(- \\sin{\\left(\\theta_{1}{\\left(x,y \\right)} \\right)} \\sin{\\left(\\theta_{2}{\\left(x,y \\right)} \\right)} + \\cos{\\left(\\theta_{1}{\\left(x,y \\right)} \\right)} \\cos{\\left(\\theta_{2}{\\left(x,y \\right)} \\right)}\\right) \\sin{\\left(2 \\phi_\\text{c}{\\left(x,y \\right)} \\right)} + \\left(\\sin{\\left(\\theta_{1}{\\left(x,y \\right)} \\right)} \\cos{\\left(\\theta_{2}{\\left(x,y \\right)} \\right)} - \\sin{\\left(\\theta_{2}{\\left(x,y \\right)} \\right)} \\cos{\\left(\\theta_{1}{\\left(x,y \\right)} \\right)}\\right) \\cos{\\left(2 \\phi_\\text{c}{\\left(x,y \\right)} \\right)}\\right) \\left(\\frac{\\partial}{\\partial y} \\phi_\\text{iso}{\\left(x,y \\right)}\\right)^{2} - 2 \\epsilon \\left(\\left(- \\sin{\\left(\\theta_{1}{\\left(x,y \\right)} \\right)} \\sin{\\left(\\theta_{2}{\\left(x,y \\right)} \\right)} + \\cos{\\left(\\theta_{1}{\\left(x,y \\right)} \\right)} \\cos{\\left(\\theta_{2}{\\left(x,y \\right)} \\right)}\\right) \\sin{\\left(2 \\phi_\\text{c}{\\left(x,y \\right)} \\right)} + \\left(\\sin{\\left(\\theta_{1}{\\left(x,y \\right)} \\right)} \\cos{\\left(\\theta_{2}{\\left(x,y \\right)} \\right)} - \\sin{\\left(\\theta_{2}{\\left(x,y \\right)} \\right)} \\cos{\\left(\\theta_{1}{\\left(x,y \\right)} \\right)}\\right) \\cos{\\left(2 \\phi_\\text{c}{\\left(x,y \\right)} \\right)}\\right) \\frac{\\partial^{2}}{\\partial y\\partial x} \\phi_\\text{c}{\\left(x,y \\right)} - 2 \\epsilon \\left(\\left(- \\sin{\\left(\\theta_{1}{\\left(x,y \\right)} \\right)} \\sin{\\left(\\theta_{2}{\\left(x,y \\right)} \\right)} + \\cos{\\left(\\theta_{1}{\\left(x,y \\right)} \\right)} \\cos{\\left(\\theta_{2}{\\left(x,y \\right)} \\right)}\\right) \\sin{\\left(2 \\phi_\\text{c}{\\left(x,y \\right)} \\right)} + \\left(\\sin{\\left(\\theta_{1}{\\left(x,y \\right)} \\right)} \\cos{\\left(\\theta_{2}{\\left(x,y \\right)} \\right)} - \\sin{\\left(\\theta_{2}{\\left(x,y \\right)} \\right)} \\cos{\\left(\\theta_{1}{\\left(x,y \\right)} \\right)}\\right) \\cos{\\left(2 \\phi_\\text{c}{\\left(x,y \\right)} \\right)}\\right) \\frac{\\partial^{2}}{\\partial y\\partial x} \\phi_\\text{iso}{\\left(x,y \\right)} - 2 \\epsilon \\left(\\left(- \\sin{\\left(\\theta_{1}{\\left(x,y \\right)} \\right)} \\sin{\\left(\\theta_{2}{\\left(x,y \\right)} \\right)} + \\cos{\\left(\\theta_{1}{\\left(x,y \\right)} \\right)} \\cos{\\left(\\theta_{2}{\\left(x,y \\right)} \\right)}\\right) \\cos{\\left(2 \\phi_\\text{c}{\\left(x,y \\right)} \\right)} - \\left(\\sin{\\left(\\theta_{1}{\\left(x,y \\right)} \\right)} \\cos{\\left(\\theta_{2}{\\left(x,y \\right)} \\right)} - \\sin{\\left(\\theta_{2}{\\left(x,y \\right)} \\right)} \\cos{\\left(\\theta_{1}{\\left(x,y \\right)} \\right)}\\right) \\sin{\\left(2 \\phi_\\text{c}{\\left(x,y \\right)} \\right)}\\right) \\frac{\\partial}{\\partial x} \\phi_\\text{c}{\\left(x,y \\right)} \\frac{\\partial}{\\partial y} \\phi_\\text{c}{\\left(x,y \\right)} - 2 \\epsilon \\left(\\left(- \\sin{\\left(\\theta_{1}{\\left(x,y \\right)} \\right)} \\sin{\\left(\\theta_{2}{\\left(x,y \\right)} \\right)} + \\cos{\\left(\\theta_{1}{\\left(x,y \\right)} \\right)} \\cos{\\left(\\theta_{2}{\\left(x,y \\right)} \\right)}\\right) \\cos{\\left(2 \\phi_\\text{c}{\\left(x,y \\right)} \\right)} - \\left(\\sin{\\left(\\theta_{1}{\\left(x,y \\right)} \\right)} \\cos{\\left(\\theta_{2}{\\left(x,y \\right)} \\right)} - \\sin{\\left(\\theta_{2}{\\left(x,y \\right)} \\right)} \\cos{\\left(\\theta_{1}{\\left(x,y \\right)} \\right)}\\right) \\sin{\\left(2 \\phi_\\text{c}{\\left(x,y \\right)} \\right)}\\right) \\frac{\\partial}{\\partial x} \\phi_\\text{c}{\\left(x,y \\right)} \\frac{\\partial}{\\partial y} \\phi_\\text{iso}{\\left(x,y \\right)} - \\epsilon \\left(\\left(- \\sin{\\left(\\theta_{1}{\\left(x,y \\right)} \\right)} \\sin{\\left(\\theta_{2}{\\left(x,y \\right)} \\right)} + \\cos{\\left(\\theta_{1}{\\left(x,y \\right)} \\right)} \\cos{\\left(\\theta_{2}{\\left(x,y \\right)} \\right)}\\right) \\cos{\\left(2 \\phi_\\text{c}{\\left(x,y \\right)} \\right)} - \\left(\\sin{\\left(\\theta_{1}{\\left(x,y \\right)} \\right)} \\cos{\\left(\\theta_{2}{\\left(x,y \\right)} \\right)} - \\sin{\\left(\\theta_{2}{\\left(x,y \\right)} \\right)} \\cos{\\left(\\theta_{1}{\\left(x,y \\right)} \\right)}\\right) \\sin{\\left(2 \\phi_\\text{c}{\\left(x,y \\right)} \\right)}\\right) \\frac{\\partial^{2}}{\\partial x^{2}} \\phi_\\text{c}{\\left(x,y \\right)} - 2 \\epsilon \\left(\\left(- \\sin{\\left(\\theta_{1}{\\left(x,y \\right)} \\right)} \\sin{\\left(\\theta_{2}{\\left(x,y \\right)} \\right)} + \\cos{\\left(\\theta_{1}{\\left(x,y \\right)} \\right)} \\cos{\\left(\\theta_{2}{\\left(x,y \\right)} \\right)}\\right) \\cos{\\left(2 \\phi_\\text{c}{\\left(x,y \\right)} \\right)} - \\left(\\sin{\\left(\\theta_{1}{\\left(x,y \\right)} \\right)} \\cos{\\left(\\theta_{2}{\\left(x,y \\right)} \\right)} - \\sin{\\left(\\theta_{2}{\\left(x,y \\right)} \\right)} \\cos{\\left(\\theta_{1}{\\left(x,y \\right)} \\right)}\\right) \\sin{\\left(2 \\phi_\\text{c}{\\left(x,y \\right)} \\right)}\\right) \\frac{\\partial}{\\partial y} \\phi_\\text{c}{\\left(x,y \\right)} \\frac{\\partial}{\\partial x} \\phi_\\text{iso}{\\left(x,y \\right)} + \\epsilon \\left(\\left(- \\sin{\\left(\\theta_{1}{\\left(x,y \\right)} \\right)} \\sin{\\left(\\theta_{2}{\\left(x,y \\right)} \\right)} + \\cos{\\left(\\theta_{1}{\\left(x,y \\right)} \\right)} \\cos{\\left(\\theta_{2}{\\left(x,y \\right)} \\right)}\\right) \\cos{\\left(2 \\phi_\\text{c}{\\left(x,y \\right)} \\right)} - \\left(\\sin{\\left(\\theta_{1}{\\left(x,y \\right)} \\right)} \\cos{\\left(\\theta_{2}{\\left(x,y \\right)} \\right)} - \\sin{\\left(\\theta_{2}{\\left(x,y \\right)} \\right)} \\cos{\\left(\\theta_{1}{\\left(x,y \\right)} \\right)}\\right) \\sin{\\left(2 \\phi_\\text{c}{\\left(x,y \\right)} \\right)}\\right) \\frac{\\partial^{2}}{\\partial y^{2}} \\phi_\\text{c}{\\left(x,y \\right)} - 2 \\epsilon \\left(\\left(- \\sin{\\left(\\theta_{1}{\\left(x,y \\right)} \\right)} \\sin{\\left(\\theta_{2}{\\left(x,y \\right)} \\right)} + \\cos{\\left(\\theta_{1}{\\left(x,y \\right)} \\right)} \\cos{\\left(\\theta_{2}{\\left(x,y \\right)} \\right)}\\right) \\cos{\\left(2 \\phi_\\text{c}{\\left(x,y \\right)} \\right)} - \\left(\\sin{\\left(\\theta_{1}{\\left(x,y \\right)} \\right)} \\cos{\\left(\\theta_{2}{\\left(x,y \\right)} \\right)} - \\sin{\\left(\\theta_{2}{\\left(x,y \\right)} \\right)} \\cos{\\left(\\theta_{1}{\\left(x,y \\right)} \\right)}\\right) \\sin{\\left(2 \\phi_\\text{c}{\\left(x,y \\right)} \\right)}\\right) \\frac{\\partial}{\\partial x} \\phi_\\text{iso}{\\left(x,y \\right)} \\frac{\\partial}{\\partial y} \\phi_\\text{iso}{\\left(x,y \\right)} - \\epsilon \\left(\\left(- \\sin{\\left(\\theta_{1}{\\left(x,y \\right)} \\right)} \\sin{\\left(\\theta_{2}{\\left(x,y \\right)} \\right)} + \\cos{\\left(\\theta_{1}{\\left(x,y \\right)} \\right)} \\cos{\\left(\\theta_{2}{\\left(x,y \\right)} \\right)}\\right) \\cos{\\left(2 \\phi_\\text{c}{\\left(x,y \\right)} \\right)} - \\left(\\sin{\\left(\\theta_{1}{\\left(x,y \\right)} \\right)} \\cos{\\left(\\theta_{2}{\\left(x,y \\right)} \\right)} - \\sin{\\left(\\theta_{2}{\\left(x,y \\right)} \\right)} \\cos{\\left(\\theta_{1}{\\left(x,y \\right)} \\right)}\\right) \\sin{\\left(2 \\phi_\\text{c}{\\left(x,y \\right)} \\right)}\\right) \\frac{\\partial^{2}}{\\partial x^{2}} \\phi_\\text{iso}{\\left(x,y \\right)} + \\epsilon \\left(\\left(- \\sin{\\left(\\theta_{1}{\\left(x,y \\right)} \\right)} \\sin{\\left(\\theta_{2}{\\left(x,y \\right)} \\right)} + \\cos{\\left(\\theta_{1}{\\left(x,y \\right)} \\right)} \\cos{\\left(\\theta_{2}{\\left(x,y \\right)} \\right)}\\right) \\cos{\\left(2 \\phi_\\text{c}{\\left(x,y \\right)} \\right)} - \\left(\\sin{\\left(\\theta_{1}{\\left(x,y \\right)} \\right)} \\cos{\\left(\\theta_{2}{\\left(x,y \\right)} \\right)} - \\sin{\\left(\\theta_{2}{\\left(x,y \\right)} \\right)} \\cos{\\left(\\theta_{1}{\\left(x,y \\right)} \\right)}\\right) \\sin{\\left(2 \\phi_\\text{c}{\\left(x,y \\right)} \\right)}\\right) \\frac{\\partial^{2}}{\\partial y^{2}} \\phi_\\text{iso}{\\left(x,y \\right)}$"
      ],
      "text/plain": [
       "epsilon*((-sin(theta_1(x, y))*sin(theta_2(x, y)) + cos(theta_1(x, y))*cos(theta_2(x, y)))*sin(2*\\phi_\\text{c}(x, y)) + (sin(theta_1(x, y))*cos(theta_2(x, y)) - sin(theta_2(x, y))*cos(theta_1(x, y)))*cos(2*\\phi_\\text{c}(x, y)))*Derivative(\\phi_\\text{c}(x, y), x)**2 + 2*epsilon*((-sin(theta_1(x, y))*sin(theta_2(x, y)) + cos(theta_1(x, y))*cos(theta_2(x, y)))*sin(2*\\phi_\\text{c}(x, y)) + (sin(theta_1(x, y))*cos(theta_2(x, y)) - sin(theta_2(x, y))*cos(theta_1(x, y)))*cos(2*\\phi_\\text{c}(x, y)))*Derivative(\\phi_\\text{c}(x, y), x)*Derivative(\\phi_\\text{iso}(x, y), x) - epsilon*((-sin(theta_1(x, y))*sin(theta_2(x, y)) + cos(theta_1(x, y))*cos(theta_2(x, y)))*sin(2*\\phi_\\text{c}(x, y)) + (sin(theta_1(x, y))*cos(theta_2(x, y)) - sin(theta_2(x, y))*cos(theta_1(x, y)))*cos(2*\\phi_\\text{c}(x, y)))*Derivative(\\phi_\\text{c}(x, y), y)**2 - 2*epsilon*((-sin(theta_1(x, y))*sin(theta_2(x, y)) + cos(theta_1(x, y))*cos(theta_2(x, y)))*sin(2*\\phi_\\text{c}(x, y)) + (sin(theta_1(x, y))*cos(theta_2(x, y)) - sin(theta_2(x, y))*cos(theta_1(x, y)))*cos(2*\\phi_\\text{c}(x, y)))*Derivative(\\phi_\\text{c}(x, y), y)*Derivative(\\phi_\\text{iso}(x, y), y) + epsilon*((-sin(theta_1(x, y))*sin(theta_2(x, y)) + cos(theta_1(x, y))*cos(theta_2(x, y)))*sin(2*\\phi_\\text{c}(x, y)) + (sin(theta_1(x, y))*cos(theta_2(x, y)) - sin(theta_2(x, y))*cos(theta_1(x, y)))*cos(2*\\phi_\\text{c}(x, y)))*Derivative(\\phi_\\text{iso}(x, y), x)**2 - epsilon*((-sin(theta_1(x, y))*sin(theta_2(x, y)) + cos(theta_1(x, y))*cos(theta_2(x, y)))*sin(2*\\phi_\\text{c}(x, y)) + (sin(theta_1(x, y))*cos(theta_2(x, y)) - sin(theta_2(x, y))*cos(theta_1(x, y)))*cos(2*\\phi_\\text{c}(x, y)))*Derivative(\\phi_\\text{iso}(x, y), y)**2 - 2*epsilon*((-sin(theta_1(x, y))*sin(theta_2(x, y)) + cos(theta_1(x, y))*cos(theta_2(x, y)))*sin(2*\\phi_\\text{c}(x, y)) + (sin(theta_1(x, y))*cos(theta_2(x, y)) - sin(theta_2(x, y))*cos(theta_1(x, y)))*cos(2*\\phi_\\text{c}(x, y)))*Derivative(\\phi_\\text{c}(x, y), x, y) - 2*epsilon*((-sin(theta_1(x, y))*sin(theta_2(x, y)) + cos(theta_1(x, y))*cos(theta_2(x, y)))*sin(2*\\phi_\\text{c}(x, y)) + (sin(theta_1(x, y))*cos(theta_2(x, y)) - sin(theta_2(x, y))*cos(theta_1(x, y)))*cos(2*\\phi_\\text{c}(x, y)))*Derivative(\\phi_\\text{iso}(x, y), x, y) - 2*epsilon*((-sin(theta_1(x, y))*sin(theta_2(x, y)) + cos(theta_1(x, y))*cos(theta_2(x, y)))*cos(2*\\phi_\\text{c}(x, y)) - (sin(theta_1(x, y))*cos(theta_2(x, y)) - sin(theta_2(x, y))*cos(theta_1(x, y)))*sin(2*\\phi_\\text{c}(x, y)))*Derivative(\\phi_\\text{c}(x, y), x)*Derivative(\\phi_\\text{c}(x, y), y) - 2*epsilon*((-sin(theta_1(x, y))*sin(theta_2(x, y)) + cos(theta_1(x, y))*cos(theta_2(x, y)))*cos(2*\\phi_\\text{c}(x, y)) - (sin(theta_1(x, y))*cos(theta_2(x, y)) - sin(theta_2(x, y))*cos(theta_1(x, y)))*sin(2*\\phi_\\text{c}(x, y)))*Derivative(\\phi_\\text{c}(x, y), x)*Derivative(\\phi_\\text{iso}(x, y), y) - epsilon*((-sin(theta_1(x, y))*sin(theta_2(x, y)) + cos(theta_1(x, y))*cos(theta_2(x, y)))*cos(2*\\phi_\\text{c}(x, y)) - (sin(theta_1(x, y))*cos(theta_2(x, y)) - sin(theta_2(x, y))*cos(theta_1(x, y)))*sin(2*\\phi_\\text{c}(x, y)))*Derivative(\\phi_\\text{c}(x, y), (x, 2)) - 2*epsilon*((-sin(theta_1(x, y))*sin(theta_2(x, y)) + cos(theta_1(x, y))*cos(theta_2(x, y)))*cos(2*\\phi_\\text{c}(x, y)) - (sin(theta_1(x, y))*cos(theta_2(x, y)) - sin(theta_2(x, y))*cos(theta_1(x, y)))*sin(2*\\phi_\\text{c}(x, y)))*Derivative(\\phi_\\text{c}(x, y), y)*Derivative(\\phi_\\text{iso}(x, y), x) + epsilon*((-sin(theta_1(x, y))*sin(theta_2(x, y)) + cos(theta_1(x, y))*cos(theta_2(x, y)))*cos(2*\\phi_\\text{c}(x, y)) - (sin(theta_1(x, y))*cos(theta_2(x, y)) - sin(theta_2(x, y))*cos(theta_1(x, y)))*sin(2*\\phi_\\text{c}(x, y)))*Derivative(\\phi_\\text{c}(x, y), (y, 2)) - 2*epsilon*((-sin(theta_1(x, y))*sin(theta_2(x, y)) + cos(theta_1(x, y))*cos(theta_2(x, y)))*cos(2*\\phi_\\text{c}(x, y)) - (sin(theta_1(x, y))*cos(theta_2(x, y)) - sin(theta_2(x, y))*cos(theta_1(x, y)))*sin(2*\\phi_\\text{c}(x, y)))*Derivative(\\phi_\\text{iso}(x, y), x)*Derivative(\\phi_\\text{iso}(x, y), y) - epsilon*((-sin(theta_1(x, y))*sin(theta_2(x, y)) + cos(theta_1(x, y))*cos(theta_2(x, y)))*cos(2*\\phi_\\text{c}(x, y)) - (sin(theta_1(x, y))*cos(theta_2(x, y)) - sin(theta_2(x, y))*cos(theta_1(x, y)))*sin(2*\\phi_\\text{c}(x, y)))*Derivative(\\phi_\\text{iso}(x, y), (x, 2)) + epsilon*((-sin(theta_1(x, y))*sin(theta_2(x, y)) + cos(theta_1(x, y))*cos(theta_2(x, y)))*cos(2*\\phi_\\text{c}(x, y)) - (sin(theta_1(x, y))*cos(theta_2(x, y)) - sin(theta_2(x, y))*cos(theta_1(x, y)))*sin(2*\\phi_\\text{c}(x, y)))*Derivative(\\phi_\\text{iso}(x, y), (y, 2))"
      ]
     },
     "metadata": {},
     "output_type": "display_data"
    }
   ],
   "source": [
    "trig_subs = {cos(2*phi_iso): cos(theta1)*cos(theta2) - sin(theta1)*sin(theta2),\n",
    "             sin(2*phi_iso): sin(theta1)*cos(theta2) - sin(theta2)*cos(theta1)}\n",
    "display(rhs.subs(trig_subs))"
   ]
  },
  {
   "cell_type": "code",
   "execution_count": null,
   "id": "8b89e13b",
   "metadata": {},
   "outputs": [],
   "source": []
  }
 ],
 "metadata": {
  "kernelspec": {
   "display_name": "Python 3 (ipykernel)",
   "language": "python",
   "name": "python3"
  },
  "language_info": {
   "codemirror_mode": {
    "name": "ipython",
    "version": 3
   },
   "file_extension": ".py",
   "mimetype": "text/x-python",
   "name": "python",
   "nbconvert_exporter": "python",
   "pygments_lexer": "ipython3",
   "version": "3.9.7"
  }
 },
 "nbformat": 4,
 "nbformat_minor": 5
}
