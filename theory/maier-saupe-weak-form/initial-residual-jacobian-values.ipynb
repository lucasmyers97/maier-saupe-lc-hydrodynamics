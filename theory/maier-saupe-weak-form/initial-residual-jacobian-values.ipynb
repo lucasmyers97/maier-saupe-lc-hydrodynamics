{
 "cells": [
  {
   "cell_type": "code",
   "execution_count": 1,
   "id": "e9e5a0c5",
   "metadata": {},
   "outputs": [],
   "source": [
    "from sympy import *"
   ]
  },
  {
   "cell_type": "code",
   "execution_count": 39,
   "id": "562ee1bb",
   "metadata": {},
   "outputs": [],
   "source": [
    "theta, phi = symbols('theta phi')\n",
    "x = cos(phi)*sin(theta)\n",
    "y = sin(phi)*sin(theta)\n",
    "z = cos(theta)\n",
    "\n",
    "xi = [x, y, z]\n",
    "i = [0, 0, 0, 1, 1]\n",
    "j = [0, 1, 2, 1, 2]"
   ]
  },
  {
   "cell_type": "code",
   "execution_count": 40,
   "id": "86f8a11f",
   "metadata": {},
   "outputs": [],
   "source": [
    "def int_S2(expr):\n",
    "    return integrate(\n",
    "            integrate(expr*sin(theta), (theta, 0, pi)),\n",
    "            (phi, 0, 2*pi))"
   ]
  },
  {
   "cell_type": "code",
   "execution_count": 41,
   "id": "ec596aca",
   "metadata": {},
   "outputs": [],
   "source": [
    "def Jac(m, n):\n",
    "    if n == 0 or n == 3:\n",
    "        return ( 1 / (4*pi) * int_S2(xi[i[m]]*xi[j[m]] * (xi[i[n]]**2 - xi[2]**2))\n",
    "                 - 1 / (16*pi**2) * int_S2(xi[i[m]]*xi[j[m]]) * int_S2(xi[i[n]] - xi[2]) )\n",
    "    else:\n",
    "        return ( 1 / (2*pi) * int_S2(xi[i[m]]*xi[j[m]] * xi[i[n]]*xi[j[n]])\n",
    "                 - 1 / (8*pi**2) * int_S2(xi[i[m]]*xi[j[m]]) * int_S2(xi[i[n]]*xi[j[n]]) )"
   ]
  },
  {
   "cell_type": "code",
   "execution_count": 42,
   "id": "74d89fc9",
   "metadata": {},
   "outputs": [
    {
     "name": "stdout",
     "output_type": "stream",
     "text": [
      "0 0\n",
      "0 1\n",
      "0 2\n",
      "0 3\n",
      "0 4\n",
      "1 0\n",
      "1 1\n",
      "1 2\n",
      "1 3\n",
      "1 4\n",
      "2 0\n",
      "2 1\n",
      "2 2\n",
      "2 3\n",
      "2 4\n",
      "3 0\n",
      "3 1\n",
      "3 2\n",
      "3 3\n",
      "3 4\n",
      "4 0\n",
      "4 1\n",
      "4 2\n",
      "4 3\n",
      "4 4\n"
     ]
    }
   ],
   "source": [
    "vec_dim = 5\n",
    "\n",
    "J = zeros(vec_dim)\n",
    "for k in range(vec_dim):\n",
    "    for l in range(vec_dim):\n",
    "        J[k, l] = Jac(k, l)\n",
    "        print(k, l)"
   ]
  },
  {
   "cell_type": "code",
   "execution_count": 43,
   "id": "56129ed3",
   "metadata": {},
   "outputs": [
    {
     "data": {
      "text/latex": [
       "$\\displaystyle \\left[\\begin{matrix}\\frac{2}{15} & 0 & 0 & 0 & 0\\\\0 & \\frac{2}{15} & 0 & 0 & 0\\\\0 & 0 & \\frac{2}{15} & 0 & 0\\\\0 & 0 & 0 & \\frac{2}{15} & 0\\\\0 & 0 & 0 & 0 & \\frac{2}{15}\\end{matrix}\\right]$"
      ],
      "text/plain": [
       "Matrix([\n",
       "[2/15,    0,    0,    0,    0],\n",
       "[   0, 2/15,    0,    0,    0],\n",
       "[   0,    0, 2/15,    0,    0],\n",
       "[   0,    0,    0, 2/15,    0],\n",
       "[   0,    0,    0,    0, 2/15]])"
      ]
     },
     "execution_count": 43,
     "metadata": {},
     "output_type": "execute_result"
    }
   ],
   "source": [
    "J = simplify(J)\n",
    "J"
   ]
  }
 ],
 "metadata": {
  "kernelspec": {
   "display_name": "Python 3",
   "language": "python",
   "name": "python3"
  },
  "language_info": {
   "codemirror_mode": {
    "name": "ipython",
    "version": 3
   },
   "file_extension": ".py",
   "mimetype": "text/x-python",
   "name": "python",
   "nbconvert_exporter": "python",
   "pygments_lexer": "ipython3",
   "version": "3.7.7"
  }
 },
 "nbformat": 4,
 "nbformat_minor": 5
}
