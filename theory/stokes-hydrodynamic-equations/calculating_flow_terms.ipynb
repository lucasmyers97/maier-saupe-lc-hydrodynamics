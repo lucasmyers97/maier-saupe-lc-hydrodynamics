{
 "cells": [
  {
   "cell_type": "code",
   "execution_count": 1,
   "id": "7ee68dc0",
   "metadata": {},
   "outputs": [],
   "source": [
    "from sympy import *"
   ]
  },
  {
   "cell_type": "code",
   "execution_count": 2,
   "id": "ab4b5522",
   "metadata": {},
   "outputs": [],
   "source": [
    "Q1, Q2, Q3, Q4, Q5 = symbols('Q_1 Q_2 Q_3 Q_4 Q_5')\n",
    "W2, W3, W5 = symbols('W_2 W_3 W_5')"
   ]
  },
  {
   "cell_type": "code",
   "execution_count": 3,
   "id": "c8fe0788",
   "metadata": {},
   "outputs": [
    {
     "data": {
      "text/latex": [
       "$\\displaystyle \\left[\\begin{matrix}Q_{1} & Q_{2} & Q_{3}\\\\Q_{2} & Q_{4} & Q_{5}\\\\Q_{3} & Q_{5} & - Q_{1} - Q_{4}\\end{matrix}\\right]$"
      ],
      "text/plain": [
       "Matrix([\n",
       "[Q_1, Q_2,        Q_3],\n",
       "[Q_2, Q_4,        Q_5],\n",
       "[Q_3, Q_5, -Q_1 - Q_4]])"
      ]
     },
     "execution_count": 3,
     "metadata": {},
     "output_type": "execute_result"
    }
   ],
   "source": [
    "Q = Matrix([[Q1, Q2, Q3],\n",
    "            [Q2, Q4, Q5],\n",
    "            [Q3, Q5, -(Q1 + Q4)]])\n",
    "Q"
   ]
  },
  {
   "cell_type": "code",
   "execution_count": 4,
   "id": "384deb27",
   "metadata": {},
   "outputs": [
    {
     "data": {
      "text/latex": [
       "$\\displaystyle \\left[\\begin{matrix}0 & W_{2} & W_{3}\\\\- W_{2} & 0 & W_{5}\\\\- W_{3} & - W_{5} & 0\\end{matrix}\\right]$"
      ],
      "text/plain": [
       "Matrix([\n",
       "[   0,  W_2, W_3],\n",
       "[-W_2,    0, W_5],\n",
       "[-W_3, -W_5,   0]])"
      ]
     },
     "execution_count": 4,
     "metadata": {},
     "output_type": "execute_result"
    }
   ],
   "source": [
    "W = Matrix([[0, W2, W3],\n",
    "            [-W2, 0, W5],\n",
    "            [-W3, -W5, 0]])\n",
    "W"
   ]
  },
  {
   "cell_type": "code",
   "execution_count": 6,
   "id": "cef04378",
   "metadata": {},
   "outputs": [
    {
     "data": {
      "text/latex": [
       "$\\displaystyle \\left[\\begin{matrix}- 2 Q_{2} W_{2} - 2 Q_{3} W_{3} & Q_{1} W_{2} - Q_{3} W_{5} - Q_{4} W_{2} - Q_{5} W_{3} & Q_{1} W_{3} + Q_{2} W_{5} - Q_{5} W_{2} + W_{3} \\left(Q_{1} + Q_{4}\\right)\\\\Q_{1} W_{2} - Q_{3} W_{5} - Q_{4} W_{2} - Q_{5} W_{3} & 2 Q_{2} W_{2} - 2 Q_{5} W_{5} & Q_{2} W_{3} + Q_{3} W_{2} + Q_{4} W_{5} + W_{5} \\left(Q_{1} + Q_{4}\\right)\\\\Q_{1} W_{3} + Q_{2} W_{5} - Q_{5} W_{2} + W_{3} \\left(Q_{1} + Q_{4}\\right) & Q_{2} W_{3} + Q_{3} W_{2} + Q_{4} W_{5} + W_{5} \\left(Q_{1} + Q_{4}\\right) & 2 Q_{3} W_{3} + 2 Q_{5} W_{5}\\end{matrix}\\right]$"
      ],
      "text/plain": [
       "Matrix([\n",
       "[                       -2*Q_2*W_2 - 2*Q_3*W_3,         Q_1*W_2 - Q_3*W_5 - Q_4*W_2 - Q_5*W_3, Q_1*W_3 + Q_2*W_5 - Q_5*W_2 + W_3*(Q_1 + Q_4)],\n",
       "[        Q_1*W_2 - Q_3*W_5 - Q_4*W_2 - Q_5*W_3,                         2*Q_2*W_2 - 2*Q_5*W_5, Q_2*W_3 + Q_3*W_2 + Q_4*W_5 + W_5*(Q_1 + Q_4)],\n",
       "[Q_1*W_3 + Q_2*W_5 - Q_5*W_2 + W_3*(Q_1 + Q_4), Q_2*W_3 + Q_3*W_2 + Q_4*W_5 + W_5*(Q_1 + Q_4),                         2*Q_3*W_3 + 2*Q_5*W_5]])"
      ]
     },
     "execution_count": 6,
     "metadata": {},
     "output_type": "execute_result"
    }
   ],
   "source": [
    "eta = simplify(Q*W - W*Q)\n",
    "eta"
   ]
  },
  {
   "cell_type": "code",
   "execution_count": 8,
   "id": "1377d00e",
   "metadata": {},
   "outputs": [
    {
     "data": {
      "text/latex": [
       "$\\displaystyle \\left[\\begin{matrix}- 2 Q_{2} W_{2} - 2 Q_{3} W_{3}\\\\Q_{1} W_{2} - Q_{3} W_{5} - Q_{4} W_{2} - Q_{5} W_{3}\\\\Q_{1} W_{3} + Q_{2} W_{5} - Q_{5} W_{2} + W_{3} \\left(Q_{1} + Q_{4}\\right)\\\\2 Q_{2} W_{2} - 2 Q_{5} W_{5}\\\\Q_{2} W_{3} + Q_{3} W_{2} + Q_{4} W_{5} + W_{5} \\left(Q_{1} + Q_{4}\\right)\\end{matrix}\\right]$"
      ],
      "text/plain": [
       "Matrix([\n",
       "[                       -2*Q_2*W_2 - 2*Q_3*W_3],\n",
       "[        Q_1*W_2 - Q_3*W_5 - Q_4*W_2 - Q_5*W_3],\n",
       "[Q_1*W_3 + Q_2*W_5 - Q_5*W_2 + W_3*(Q_1 + Q_4)],\n",
       "[                        2*Q_2*W_2 - 2*Q_5*W_5],\n",
       "[Q_2*W_3 + Q_3*W_2 + Q_4*W_5 + W_5*(Q_1 + Q_4)]])"
      ]
     },
     "execution_count": 8,
     "metadata": {},
     "output_type": "execute_result"
    }
   ],
   "source": [
    "eta_vec = Matrix([[eta[0, 0], eta[0, 1], eta[0, 2], eta[1, 1], eta[1, 2]]]).transpose()\n",
    "eta_vec"
   ]
  },
  {
   "cell_type": "code",
   "execution_count": 9,
   "id": "10c1df36",
   "metadata": {},
   "outputs": [],
   "source": [
    "Q_vec = Matrix([[Q1, Q2, Q3, Q4, Q5]]).transpose()"
   ]
  },
  {
   "cell_type": "code",
   "execution_count": 11,
   "id": "10c24ff9",
   "metadata": {},
   "outputs": [
    {
     "data": {
      "text/latex": [
       "$\\displaystyle \\left[\\begin{matrix}0 & - 2 W_{2} & - 2 W_{3} & 0 & 0\\\\W_{2} & 0 & - W_{5} & - W_{2} & - W_{3}\\\\2 W_{3} & W_{5} & 0 & W_{3} & - W_{2}\\\\0 & 2 W_{2} & 0 & 0 & - 2 W_{5}\\\\W_{5} & W_{3} & W_{2} & 2 W_{5} & 0\\end{matrix}\\right]$"
      ],
      "text/plain": [
       "Matrix([\n",
       "[    0, -2*W_2, -2*W_3,     0,      0],\n",
       "[  W_2,      0,   -W_5,  -W_2,   -W_3],\n",
       "[2*W_3,    W_5,      0,   W_3,   -W_2],\n",
       "[    0,  2*W_2,      0,     0, -2*W_5],\n",
       "[  W_5,    W_3,    W_2, 2*W_5,      0]])"
      ]
     },
     "execution_count": 11,
     "metadata": {},
     "output_type": "execute_result"
    }
   ],
   "source": [
    "eta_Jac = zeros(5)\n",
    "for i in range(5):\n",
    "    for j in range(5):\n",
    "        eta_Jac[i, j] = eta_vec[i].diff(Q_vec[j])\n",
    "        \n",
    "eta_Jac"
   ]
  },
  {
   "cell_type": "code",
   "execution_count": 12,
   "id": "c61d2839",
   "metadata": {},
   "outputs": [
    {
     "name": "stdout",
     "output_type": "stream",
     "text": [
      "\\left[\\begin{matrix}0 & - 2 W_{2} & - 2 W_{3} & 0 & 0\\\\W_{2} & 0 & - W_{5} & - W_{2} & - W_{3}\\\\2 W_{3} & W_{5} & 0 & W_{3} & - W_{2}\\\\0 & 2 W_{2} & 0 & 0 & - 2 W_{5}\\\\W_{5} & W_{3} & W_{2} & 2 W_{5} & 0\\end{matrix}\\right]\n"
     ]
    }
   ],
   "source": [
    "print(latex(eta_Jac))"
   ]
  },
  {
   "cell_type": "code",
   "execution_count": null,
   "id": "8882be60",
   "metadata": {},
   "outputs": [],
   "source": []
  },
  {
   "cell_type": "markdown",
   "id": "6ecc77a6",
   "metadata": {},
   "source": []
  },
  {
   "cell_type": "code",
   "execution_count": 13,
   "id": "3aa6398e",
   "metadata": {},
   "outputs": [],
   "source": [
    "Q1, Q2, Q3, Q4, Q5 = symbols('Q_0 Q_1 Q_2 Q_3 Q_4')\n",
    "W2, W3, W5 = symbols('W_0 W_1 W_2')"
   ]
  },
  {
   "cell_type": "code",
   "execution_count": 14,
   "id": "b3fa1891",
   "metadata": {},
   "outputs": [],
   "source": [
    "Q = Matrix([[Q1, Q2, Q3],\n",
    "            [Q2, Q4, Q5],\n",
    "            [Q3, Q5, -(Q1 + Q4)]])\n",
    "W = Matrix([[0, W2, W3],\n",
    "            [-W2, 0, W5],\n",
    "            [-W3, -W5, 0]])\n",
    "eta = simplify(Q*W - W*Q)\n",
    "eta_vec = Matrix([[eta[0, 0], eta[0, 1], eta[0, 2], eta[1, 1], eta[1, 2]]]).transpose()\n",
    "Q_vec = Matrix([[Q1, Q2, Q3, Q4, Q5]]).transpose()\n",
    "eta_Jac = zeros(5)\n",
    "for i in range(5):\n",
    "    for j in range(5):\n",
    "        eta_Jac[i, j] = eta_vec[i].diff(Q_vec[j])"
   ]
  },
  {
   "cell_type": "code",
   "execution_count": 15,
   "id": "e73c7176",
   "metadata": {},
   "outputs": [
    {
     "data": {
      "text/latex": [
       "$\\displaystyle \\left[\\begin{matrix}- 2 Q_{1} W_{0} - 2 Q_{2} W_{1}\\\\Q_{0} W_{0} - Q_{2} W_{2} - Q_{3} W_{0} - Q_{4} W_{1}\\\\Q_{0} W_{1} + Q_{1} W_{2} - Q_{4} W_{0} + W_{1} \\left(Q_{0} + Q_{3}\\right)\\\\2 Q_{1} W_{0} - 2 Q_{4} W_{2}\\\\Q_{1} W_{1} + Q_{2} W_{0} + Q_{3} W_{2} + W_{2} \\left(Q_{0} + Q_{3}\\right)\\end{matrix}\\right]$"
      ],
      "text/plain": [
       "Matrix([\n",
       "[                       -2*Q_1*W_0 - 2*Q_2*W_1],\n",
       "[        Q_0*W_0 - Q_2*W_2 - Q_3*W_0 - Q_4*W_1],\n",
       "[Q_0*W_1 + Q_1*W_2 - Q_4*W_0 + W_1*(Q_0 + Q_3)],\n",
       "[                        2*Q_1*W_0 - 2*Q_4*W_2],\n",
       "[Q_1*W_1 + Q_2*W_0 + Q_3*W_2 + W_2*(Q_0 + Q_3)]])"
      ]
     },
     "execution_count": 15,
     "metadata": {},
     "output_type": "execute_result"
    }
   ],
   "source": [
    "eta_vec"
   ]
  },
  {
   "cell_type": "code",
   "execution_count": 16,
   "id": "f622f854",
   "metadata": {},
   "outputs": [
    {
     "data": {
      "text/latex": [
       "$\\displaystyle \\left[\\begin{matrix}0 & - 2 W_{0} & - 2 W_{1} & 0 & 0\\\\W_{0} & 0 & - W_{2} & - W_{0} & - W_{1}\\\\2 W_{1} & W_{2} & 0 & W_{1} & - W_{0}\\\\0 & 2 W_{0} & 0 & 0 & - 2 W_{2}\\\\W_{2} & W_{1} & W_{0} & 2 W_{2} & 0\\end{matrix}\\right]$"
      ],
      "text/plain": [
       "Matrix([\n",
       "[    0, -2*W_0, -2*W_1,     0,      0],\n",
       "[  W_0,      0,   -W_2,  -W_0,   -W_1],\n",
       "[2*W_1,    W_2,      0,   W_1,   -W_0],\n",
       "[    0,  2*W_0,      0,     0, -2*W_2],\n",
       "[  W_2,    W_1,    W_0, 2*W_2,      0]])"
      ]
     },
     "execution_count": 16,
     "metadata": {},
     "output_type": "execute_result"
    }
   ],
   "source": [
    "eta_Jac"
   ]
  }
 ],
 "metadata": {
  "kernelspec": {
   "display_name": "Python 3 (ipykernel)",
   "language": "python",
   "name": "python3"
  },
  "language_info": {
   "codemirror_mode": {
    "name": "ipython",
    "version": 3
   },
   "file_extension": ".py",
   "mimetype": "text/x-python",
   "name": "python",
   "nbconvert_exporter": "python",
   "pygments_lexer": "ipython3",
   "version": "3.9.7"
  }
 },
 "nbformat": 4,
 "nbformat_minor": 5
}
