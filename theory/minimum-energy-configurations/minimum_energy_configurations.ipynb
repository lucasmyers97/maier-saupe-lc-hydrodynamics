{
 "cells": [
  {
   "cell_type": "code",
   "execution_count": 1,
   "id": "e40683ab",
   "metadata": {},
   "outputs": [],
   "source": [
    "import sys"
   ]
  },
  {
   "cell_type": "code",
   "execution_count": 2,
   "id": "1e5220ea",
   "metadata": {},
   "outputs": [],
   "source": [
    "sys.path.append('/home/lucas/Documents/research/maier-saupe-lc-hydrodynamics/app/analysis/utilities')"
   ]
  },
  {
   "cell_type": "code",
   "execution_count": 6,
   "id": "10430f9f",
   "metadata": {},
   "outputs": [],
   "source": [
    "import tensor_calculus as tc\n",
    "import sympy as sy"
   ]
  },
  {
   "cell_type": "markdown",
   "id": "0219d5c0",
   "metadata": {},
   "source": [
    "## Make all relevant symbols/functions"
   ]
  },
  {
   "cell_type": "code",
   "execution_count": 11,
   "id": "47d32fca",
   "metadata": {},
   "outputs": [],
   "source": [
    "vec_dim = 5\n",
    "\n",
    "x, y, z = sy.symbols('x y z')\n",
    "coords = (x, y)\n",
    "# coords = (x, y, z) # uncomment for 3D\n",
    "xi = tc.TensorCalculusArray([x, y, z])\n",
    "\n",
    "Z, theta = sy.symbols(r'Z theta')   \n",
    "A, B, C = sy.symbols(r'A B C')\n",
    "alpha = sy.symbols(r'alpha')\n",
    "\n",
    "Q_vec = tc.make_function_vector(vec_dim, 'Q_{}', coords)\n",
    "Q0_vec = tc.make_function_vector(vec_dim, 'Q_{{0{} }}', coords)\n",
    "Lambda_vec = tc.make_function_vector(vec_dim, r'\\Lambda_{}', coords)\n",
    "Lambda0_vec = tc.make_function_vector(vec_dim, r'\\Lambda_{{0{} }}', coords)\n",
    "delta_Q_vec = tc.make_function_vector(vec_dim, r'\\delta\\ Q_{}', coords)\n",
    "\n",
    "phi_i = sy.Function(r'\\phi_i')(*coords)\n",
    "phi_j = sy.Function(r'\\phi_j')(*coords)"
   ]
  },
  {
   "cell_type": "markdown",
   "id": "2e4ad686",
   "metadata": {},
   "source": [
    "## Make basis and use that to make symbols tensors"
   ]
  },
  {
   "cell_type": "code",
   "execution_count": 12,
   "id": "8a2a50d5",
   "metadata": {},
   "outputs": [],
   "source": [
    "basis = []\n",
    "\n",
    "basis.append(tc.TensorCalculusArray([[1, 0, 0],\n",
    "                                     [0, 0, 0],\n",
    "                                     [0, 0, -1]]))\n",
    "basis.append(tc.TensorCalculusArray([[0, 1, 0],\n",
    "                                     [1, 0, 0],\n",
    "                                     [0, 0, 0]]))\n",
    "basis.append(tc.TensorCalculusArray([[0, 0, 1],\n",
    "                                     [0, 0, 0],\n",
    "                                     [1, 0, 0]]))\n",
    "basis.append(tc.TensorCalculusArray([[0, 0, 0],\n",
    "                                     [0, 1, 0],\n",
    "                                     [0, 0, -1]]))\n",
    "basis.append(tc.TensorCalculusArray([[0, 0, 0],\n",
    "                                     [0, 0, 1],\n",
    "                                     [0, 1, 0]]))"
   ]
  },
  {
   "cell_type": "code",
   "execution_count": 13,
   "id": "9d8ebf77",
   "metadata": {},
   "outputs": [],
   "source": [
    "Q = tc.make_tensor_from_vector(Q_vec, basis)\n",
    "Q0 = tc.make_tensor_from_vector(Q0_vec, basis)\n",
    "Lambda = tc.make_tensor_from_vector(Lambda_vec, basis)\n",
    "Lambda0 = tc.make_tensor_from_vector(Lambda0_vec, basis)\n",
    "delta_Q = tc.make_tensor_from_vector(delta_Q_vec, basis)\n",
    "Phi_i = tc.make_basis_functions(phi_i, basis)\n",
    "Phi_j = tc.make_basis_functions(phi_j, basis)\n",
    "\n",
    "dLambda_label = r'\\frac{{\\partial\\ \\Lambda_{} }}{{\\partial\\ Q_{} }}'\n",
    "dLambda_mat = tc.make_function_matrix(vec_dim, dLambda_label, coords)\n",
    "dLambda = tc.make_jacobian_matrix_list(dLambda_mat, Phi_j)"
   ]
  },
  {
   "cell_type": "markdown",
   "id": "5ba64def",
   "metadata": {},
   "source": [
    "## Calculate residual"
   ]
  },
  {
   "cell_type": "code",
   "execution_count": 15,
   "id": "fa50971c",
   "metadata": {},
   "outputs": [],
   "source": [
    "vec_dim = len(Phi_i)\n",
    "R_mean_field = sy.zeros(vec_dim, 1)\n",
    "R_entropy = sy.zeros(vec_dim, 1)\n",
    "E1 = sy.zeros(vec_dim, 1)\n",
    "\n",
    "for i in range(vec_dim):\n",
    "    R_mean_field[i, 0] = alpha * Phi_i[i].ip(Q)\n",
    "    R_entropy[i, 0] = -Phi_i[i].ip(Lambda)\n",
    "    E1[i, 0] = -tc.grad(Phi_i[i], xi).ip(tc.grad(Q, xi))\n",
    "\n",
    "R_mean_field = sy.simplify(R_mean_field)\n",
    "R_entropy = sy.simplify(R_entropy)\n",
    "E1 = sy.simplify(E1)"
   ]
  },
  {
   "cell_type": "code",
   "execution_count": 16,
   "id": "a38d972a",
   "metadata": {},
   "outputs": [
    {
     "data": {
      "text/latex": [
       "$\\displaystyle \\left[\\begin{matrix}\\alpha \\left(2 Q_{0}{\\left(x,y \\right)} + Q_{3}{\\left(x,y \\right)}\\right) \\phi_{i}{\\left(x,y \\right)}\\\\2 \\alpha Q_{1}{\\left(x,y \\right)} \\phi_{i}{\\left(x,y \\right)}\\\\2 \\alpha Q_{2}{\\left(x,y \\right)} \\phi_{i}{\\left(x,y \\right)}\\\\\\alpha \\left(Q_{0}{\\left(x,y \\right)} + 2 Q_{3}{\\left(x,y \\right)}\\right) \\phi_{i}{\\left(x,y \\right)}\\\\2 \\alpha Q_{4}{\\left(x,y \\right)} \\phi_{i}{\\left(x,y \\right)}\\end{matrix}\\right]$"
      ],
      "text/plain": [
       "Matrix([\n",
       "[alpha*(2*Q_0(x, y) + Q_3(x, y))*\\phi_i(x, y)],\n",
       "[              2*alpha*Q_1(x, y)*\\phi_i(x, y)],\n",
       "[              2*alpha*Q_2(x, y)*\\phi_i(x, y)],\n",
       "[alpha*(Q_0(x, y) + 2*Q_3(x, y))*\\phi_i(x, y)],\n",
       "[              2*alpha*Q_4(x, y)*\\phi_i(x, y)]])"
      ]
     },
     "metadata": {},
     "output_type": "display_data"
    },
    {
     "data": {
      "text/latex": [
       "$\\displaystyle \\left[\\begin{matrix}\\left(- 2 \\Lambda_{0}{\\left(x,y \\right)} - \\Lambda_{3}{\\left(x,y \\right)}\\right) \\phi_{i}{\\left(x,y \\right)}\\\\- 2 \\Lambda_{1}{\\left(x,y \\right)} \\phi_{i}{\\left(x,y \\right)}\\\\- 2 \\Lambda_{2}{\\left(x,y \\right)} \\phi_{i}{\\left(x,y \\right)}\\\\\\left(- \\Lambda_{0}{\\left(x,y \\right)} - 2 \\Lambda_{3}{\\left(x,y \\right)}\\right) \\phi_{i}{\\left(x,y \\right)}\\\\- 2 \\Lambda_{4}{\\left(x,y \\right)} \\phi_{i}{\\left(x,y \\right)}\\end{matrix}\\right]$"
      ],
      "text/plain": [
       "Matrix([\n",
       "[(-2*\\Lambda_0(x, y) - \\Lambda_3(x, y))*\\phi_i(x, y)],\n",
       "[                    -2*\\Lambda_1(x, y)*\\phi_i(x, y)],\n",
       "[                    -2*\\Lambda_2(x, y)*\\phi_i(x, y)],\n",
       "[(-\\Lambda_0(x, y) - 2*\\Lambda_3(x, y))*\\phi_i(x, y)],\n",
       "[                    -2*\\Lambda_4(x, y)*\\phi_i(x, y)]])"
      ]
     },
     "metadata": {},
     "output_type": "display_data"
    },
    {
     "data": {
      "text/latex": [
       "$\\displaystyle \\left[\\begin{matrix}- 2 \\frac{\\partial}{\\partial x} Q_{0}{\\left(x,y \\right)} \\frac{\\partial}{\\partial x} \\phi_{i}{\\left(x,y \\right)} - 2 \\frac{\\partial}{\\partial y} Q_{0}{\\left(x,y \\right)} \\frac{\\partial}{\\partial y} \\phi_{i}{\\left(x,y \\right)} - \\frac{\\partial}{\\partial x} Q_{3}{\\left(x,y \\right)} \\frac{\\partial}{\\partial x} \\phi_{i}{\\left(x,y \\right)} - \\frac{\\partial}{\\partial y} Q_{3}{\\left(x,y \\right)} \\frac{\\partial}{\\partial y} \\phi_{i}{\\left(x,y \\right)}\\\\- 2 \\frac{\\partial}{\\partial x} Q_{1}{\\left(x,y \\right)} \\frac{\\partial}{\\partial x} \\phi_{i}{\\left(x,y \\right)} - 2 \\frac{\\partial}{\\partial y} Q_{1}{\\left(x,y \\right)} \\frac{\\partial}{\\partial y} \\phi_{i}{\\left(x,y \\right)}\\\\- 2 \\frac{\\partial}{\\partial x} Q_{2}{\\left(x,y \\right)} \\frac{\\partial}{\\partial x} \\phi_{i}{\\left(x,y \\right)} - 2 \\frac{\\partial}{\\partial y} Q_{2}{\\left(x,y \\right)} \\frac{\\partial}{\\partial y} \\phi_{i}{\\left(x,y \\right)}\\\\- \\frac{\\partial}{\\partial x} Q_{0}{\\left(x,y \\right)} \\frac{\\partial}{\\partial x} \\phi_{i}{\\left(x,y \\right)} - \\frac{\\partial}{\\partial y} Q_{0}{\\left(x,y \\right)} \\frac{\\partial}{\\partial y} \\phi_{i}{\\left(x,y \\right)} - 2 \\frac{\\partial}{\\partial x} Q_{3}{\\left(x,y \\right)} \\frac{\\partial}{\\partial x} \\phi_{i}{\\left(x,y \\right)} - 2 \\frac{\\partial}{\\partial y} Q_{3}{\\left(x,y \\right)} \\frac{\\partial}{\\partial y} \\phi_{i}{\\left(x,y \\right)}\\\\- 2 \\frac{\\partial}{\\partial x} Q_{4}{\\left(x,y \\right)} \\frac{\\partial}{\\partial x} \\phi_{i}{\\left(x,y \\right)} - 2 \\frac{\\partial}{\\partial y} Q_{4}{\\left(x,y \\right)} \\frac{\\partial}{\\partial y} \\phi_{i}{\\left(x,y \\right)}\\end{matrix}\\right]$"
      ],
      "text/plain": [
       "Matrix([\n",
       "[-2*Derivative(Q_0(x, y), x)*Derivative(\\phi_i(x, y), x) - 2*Derivative(Q_0(x, y), y)*Derivative(\\phi_i(x, y), y) - Derivative(Q_3(x, y), x)*Derivative(\\phi_i(x, y), x) - Derivative(Q_3(x, y), y)*Derivative(\\phi_i(x, y), y)],\n",
       "[                                                                                                              -2*Derivative(Q_1(x, y), x)*Derivative(\\phi_i(x, y), x) - 2*Derivative(Q_1(x, y), y)*Derivative(\\phi_i(x, y), y)],\n",
       "[                                                                                                              -2*Derivative(Q_2(x, y), x)*Derivative(\\phi_i(x, y), x) - 2*Derivative(Q_2(x, y), y)*Derivative(\\phi_i(x, y), y)],\n",
       "[-Derivative(Q_0(x, y), x)*Derivative(\\phi_i(x, y), x) - Derivative(Q_0(x, y), y)*Derivative(\\phi_i(x, y), y) - 2*Derivative(Q_3(x, y), x)*Derivative(\\phi_i(x, y), x) - 2*Derivative(Q_3(x, y), y)*Derivative(\\phi_i(x, y), y)],\n",
       "[                                                                                                              -2*Derivative(Q_4(x, y), x)*Derivative(\\phi_i(x, y), x) - 2*Derivative(Q_4(x, y), y)*Derivative(\\phi_i(x, y), y)]])"
      ]
     },
     "metadata": {},
     "output_type": "display_data"
    }
   ],
   "source": [
    "display(R_mean_field)\n",
    "display(R_entropy)\n",
    "display(E1)"
   ]
  },
  {
   "cell_type": "markdown",
   "id": "44c9445d",
   "metadata": {},
   "source": [
    "## Calculate Jacobian"
   ]
  },
  {
   "cell_type": "code",
   "execution_count": 17,
   "id": "8710645b",
   "metadata": {},
   "outputs": [],
   "source": [
    "vec_dim = len(Phi_i)\n",
    "dR_mean_field = sy.zeros(vec_dim, vec_dim)\n",
    "dR_entropy = sy.zeros(vec_dim, vec_dim)\n",
    "dE1 = sy.zeros(vec_dim, vec_dim)\n",
    "\n",
    "for i in range(vec_dim):\n",
    "    for j in range(vec_dim):\n",
    "        dR_mean_field[i, j] = alpha * Phi_i[i].ip(Phi_j[j])\n",
    "        dR_entropy[i, j] = -Phi_i[i].ip(dLambda[j])\n",
    "        dE1[i, j] = -tc.grad(Phi_i[i], xi).ip(tc.grad(Phi_j[j], xi))\n",
    "\n",
    "dR_mean_field = sy.simplify(dR_mean_field) \n",
    "dR_entropy = sy.simplify(dR_entropy) \n",
    "dE1 = sy.simplify(dE1)"
   ]
  },
  {
   "cell_type": "code",
   "execution_count": 18,
   "id": "18a94536",
   "metadata": {},
   "outputs": [
    {
     "data": {
      "text/latex": [
       "$\\displaystyle \\left[\\begin{matrix}2 \\alpha \\phi_{i}{\\left(x,y \\right)} \\phi_{j}{\\left(x,y \\right)} & 0 & 0 & \\alpha \\phi_{i}{\\left(x,y \\right)} \\phi_{j}{\\left(x,y \\right)} & 0\\\\0 & 2 \\alpha \\phi_{i}{\\left(x,y \\right)} \\phi_{j}{\\left(x,y \\right)} & 0 & 0 & 0\\\\0 & 0 & 2 \\alpha \\phi_{i}{\\left(x,y \\right)} \\phi_{j}{\\left(x,y \\right)} & 0 & 0\\\\\\alpha \\phi_{i}{\\left(x,y \\right)} \\phi_{j}{\\left(x,y \\right)} & 0 & 0 & 2 \\alpha \\phi_{i}{\\left(x,y \\right)} \\phi_{j}{\\left(x,y \\right)} & 0\\\\0 & 0 & 0 & 0 & 2 \\alpha \\phi_{i}{\\left(x,y \\right)} \\phi_{j}{\\left(x,y \\right)}\\end{matrix}\\right]$"
      ],
      "text/plain": [
       "Matrix([\n",
       "[2*alpha*\\phi_i(x, y)*\\phi_j(x, y),                                 0,                                 0,   alpha*\\phi_i(x, y)*\\phi_j(x, y),                                 0],\n",
       "[                                0, 2*alpha*\\phi_i(x, y)*\\phi_j(x, y),                                 0,                                 0,                                 0],\n",
       "[                                0,                                 0, 2*alpha*\\phi_i(x, y)*\\phi_j(x, y),                                 0,                                 0],\n",
       "[  alpha*\\phi_i(x, y)*\\phi_j(x, y),                                 0,                                 0, 2*alpha*\\phi_i(x, y)*\\phi_j(x, y),                                 0],\n",
       "[                                0,                                 0,                                 0,                                 0, 2*alpha*\\phi_i(x, y)*\\phi_j(x, y)]])"
      ]
     },
     "metadata": {},
     "output_type": "display_data"
    },
    {
     "data": {
      "text/latex": [
       "$\\displaystyle \\left[\\begin{matrix}\\left(- 2 \\frac{\\partial\\ \\Lambda_0 }{\\partial\\ Q_0 }{\\left(x,y \\right)} - \\frac{\\partial\\ \\Lambda_3 }{\\partial\\ Q_0 }{\\left(x,y \\right)}\\right) \\phi_{i}{\\left(x,y \\right)} \\phi_{j}{\\left(x,y \\right)} & \\left(- 2 \\frac{\\partial\\ \\Lambda_0 }{\\partial\\ Q_1 }{\\left(x,y \\right)} - \\frac{\\partial\\ \\Lambda_3 }{\\partial\\ Q_1 }{\\left(x,y \\right)}\\right) \\phi_{i}{\\left(x,y \\right)} \\phi_{j}{\\left(x,y \\right)} & \\left(- 2 \\frac{\\partial\\ \\Lambda_0 }{\\partial\\ Q_2 }{\\left(x,y \\right)} - \\frac{\\partial\\ \\Lambda_3 }{\\partial\\ Q_2 }{\\left(x,y \\right)}\\right) \\phi_{i}{\\left(x,y \\right)} \\phi_{j}{\\left(x,y \\right)} & \\left(- 2 \\frac{\\partial\\ \\Lambda_0 }{\\partial\\ Q_3 }{\\left(x,y \\right)} - \\frac{\\partial\\ \\Lambda_3 }{\\partial\\ Q_3 }{\\left(x,y \\right)}\\right) \\phi_{i}{\\left(x,y \\right)} \\phi_{j}{\\left(x,y \\right)} & \\left(- 2 \\frac{\\partial\\ \\Lambda_0 }{\\partial\\ Q_4 }{\\left(x,y \\right)} - \\frac{\\partial\\ \\Lambda_3 }{\\partial\\ Q_4 }{\\left(x,y \\right)}\\right) \\phi_{i}{\\left(x,y \\right)} \\phi_{j}{\\left(x,y \\right)}\\\\- 2 \\frac{\\partial\\ \\Lambda_1 }{\\partial\\ Q_0 }{\\left(x,y \\right)} \\phi_{i}{\\left(x,y \\right)} \\phi_{j}{\\left(x,y \\right)} & - 2 \\frac{\\partial\\ \\Lambda_1 }{\\partial\\ Q_1 }{\\left(x,y \\right)} \\phi_{i}{\\left(x,y \\right)} \\phi_{j}{\\left(x,y \\right)} & - 2 \\frac{\\partial\\ \\Lambda_1 }{\\partial\\ Q_2 }{\\left(x,y \\right)} \\phi_{i}{\\left(x,y \\right)} \\phi_{j}{\\left(x,y \\right)} & - 2 \\frac{\\partial\\ \\Lambda_1 }{\\partial\\ Q_3 }{\\left(x,y \\right)} \\phi_{i}{\\left(x,y \\right)} \\phi_{j}{\\left(x,y \\right)} & - 2 \\frac{\\partial\\ \\Lambda_1 }{\\partial\\ Q_4 }{\\left(x,y \\right)} \\phi_{i}{\\left(x,y \\right)} \\phi_{j}{\\left(x,y \\right)}\\\\- 2 \\frac{\\partial\\ \\Lambda_2 }{\\partial\\ Q_0 }{\\left(x,y \\right)} \\phi_{i}{\\left(x,y \\right)} \\phi_{j}{\\left(x,y \\right)} & - 2 \\frac{\\partial\\ \\Lambda_2 }{\\partial\\ Q_1 }{\\left(x,y \\right)} \\phi_{i}{\\left(x,y \\right)} \\phi_{j}{\\left(x,y \\right)} & - 2 \\frac{\\partial\\ \\Lambda_2 }{\\partial\\ Q_2 }{\\left(x,y \\right)} \\phi_{i}{\\left(x,y \\right)} \\phi_{j}{\\left(x,y \\right)} & - 2 \\frac{\\partial\\ \\Lambda_2 }{\\partial\\ Q_3 }{\\left(x,y \\right)} \\phi_{i}{\\left(x,y \\right)} \\phi_{j}{\\left(x,y \\right)} & - 2 \\frac{\\partial\\ \\Lambda_2 }{\\partial\\ Q_4 }{\\left(x,y \\right)} \\phi_{i}{\\left(x,y \\right)} \\phi_{j}{\\left(x,y \\right)}\\\\\\left(- \\frac{\\partial\\ \\Lambda_0 }{\\partial\\ Q_0 }{\\left(x,y \\right)} - 2 \\frac{\\partial\\ \\Lambda_3 }{\\partial\\ Q_0 }{\\left(x,y \\right)}\\right) \\phi_{i}{\\left(x,y \\right)} \\phi_{j}{\\left(x,y \\right)} & \\left(- \\frac{\\partial\\ \\Lambda_0 }{\\partial\\ Q_1 }{\\left(x,y \\right)} - 2 \\frac{\\partial\\ \\Lambda_3 }{\\partial\\ Q_1 }{\\left(x,y \\right)}\\right) \\phi_{i}{\\left(x,y \\right)} \\phi_{j}{\\left(x,y \\right)} & \\left(- \\frac{\\partial\\ \\Lambda_0 }{\\partial\\ Q_2 }{\\left(x,y \\right)} - 2 \\frac{\\partial\\ \\Lambda_3 }{\\partial\\ Q_2 }{\\left(x,y \\right)}\\right) \\phi_{i}{\\left(x,y \\right)} \\phi_{j}{\\left(x,y \\right)} & \\left(- \\frac{\\partial\\ \\Lambda_0 }{\\partial\\ Q_3 }{\\left(x,y \\right)} - 2 \\frac{\\partial\\ \\Lambda_3 }{\\partial\\ Q_3 }{\\left(x,y \\right)}\\right) \\phi_{i}{\\left(x,y \\right)} \\phi_{j}{\\left(x,y \\right)} & \\left(- \\frac{\\partial\\ \\Lambda_0 }{\\partial\\ Q_4 }{\\left(x,y \\right)} - 2 \\frac{\\partial\\ \\Lambda_3 }{\\partial\\ Q_4 }{\\left(x,y \\right)}\\right) \\phi_{i}{\\left(x,y \\right)} \\phi_{j}{\\left(x,y \\right)}\\\\- 2 \\frac{\\partial\\ \\Lambda_4 }{\\partial\\ Q_0 }{\\left(x,y \\right)} \\phi_{i}{\\left(x,y \\right)} \\phi_{j}{\\left(x,y \\right)} & - 2 \\frac{\\partial\\ \\Lambda_4 }{\\partial\\ Q_1 }{\\left(x,y \\right)} \\phi_{i}{\\left(x,y \\right)} \\phi_{j}{\\left(x,y \\right)} & - 2 \\frac{\\partial\\ \\Lambda_4 }{\\partial\\ Q_2 }{\\left(x,y \\right)} \\phi_{i}{\\left(x,y \\right)} \\phi_{j}{\\left(x,y \\right)} & - 2 \\frac{\\partial\\ \\Lambda_4 }{\\partial\\ Q_3 }{\\left(x,y \\right)} \\phi_{i}{\\left(x,y \\right)} \\phi_{j}{\\left(x,y \\right)} & - 2 \\frac{\\partial\\ \\Lambda_4 }{\\partial\\ Q_4 }{\\left(x,y \\right)} \\phi_{i}{\\left(x,y \\right)} \\phi_{j}{\\left(x,y \\right)}\\end{matrix}\\right]$"
      ],
      "text/plain": [
       "Matrix([\n",
       "[(-2*\\frac{\\partial\\ \\Lambda_0 }{\\partial\\ Q_0 }(x, y) - \\frac{\\partial\\ \\Lambda_3 }{\\partial\\ Q_0 }(x, y))*\\phi_i(x, y)*\\phi_j(x, y), (-2*\\frac{\\partial\\ \\Lambda_0 }{\\partial\\ Q_1 }(x, y) - \\frac{\\partial\\ \\Lambda_3 }{\\partial\\ Q_1 }(x, y))*\\phi_i(x, y)*\\phi_j(x, y), (-2*\\frac{\\partial\\ \\Lambda_0 }{\\partial\\ Q_2 }(x, y) - \\frac{\\partial\\ \\Lambda_3 }{\\partial\\ Q_2 }(x, y))*\\phi_i(x, y)*\\phi_j(x, y), (-2*\\frac{\\partial\\ \\Lambda_0 }{\\partial\\ Q_3 }(x, y) - \\frac{\\partial\\ \\Lambda_3 }{\\partial\\ Q_3 }(x, y))*\\phi_i(x, y)*\\phi_j(x, y), (-2*\\frac{\\partial\\ \\Lambda_0 }{\\partial\\ Q_4 }(x, y) - \\frac{\\partial\\ \\Lambda_3 }{\\partial\\ Q_4 }(x, y))*\\phi_i(x, y)*\\phi_j(x, y)],\n",
       "[                                                      -2*\\frac{\\partial\\ \\Lambda_1 }{\\partial\\ Q_0 }(x, y)*\\phi_i(x, y)*\\phi_j(x, y),                                                       -2*\\frac{\\partial\\ \\Lambda_1 }{\\partial\\ Q_1 }(x, y)*\\phi_i(x, y)*\\phi_j(x, y),                                                       -2*\\frac{\\partial\\ \\Lambda_1 }{\\partial\\ Q_2 }(x, y)*\\phi_i(x, y)*\\phi_j(x, y),                                                       -2*\\frac{\\partial\\ \\Lambda_1 }{\\partial\\ Q_3 }(x, y)*\\phi_i(x, y)*\\phi_j(x, y),                                                       -2*\\frac{\\partial\\ \\Lambda_1 }{\\partial\\ Q_4 }(x, y)*\\phi_i(x, y)*\\phi_j(x, y)],\n",
       "[                                                      -2*\\frac{\\partial\\ \\Lambda_2 }{\\partial\\ Q_0 }(x, y)*\\phi_i(x, y)*\\phi_j(x, y),                                                       -2*\\frac{\\partial\\ \\Lambda_2 }{\\partial\\ Q_1 }(x, y)*\\phi_i(x, y)*\\phi_j(x, y),                                                       -2*\\frac{\\partial\\ \\Lambda_2 }{\\partial\\ Q_2 }(x, y)*\\phi_i(x, y)*\\phi_j(x, y),                                                       -2*\\frac{\\partial\\ \\Lambda_2 }{\\partial\\ Q_3 }(x, y)*\\phi_i(x, y)*\\phi_j(x, y),                                                       -2*\\frac{\\partial\\ \\Lambda_2 }{\\partial\\ Q_4 }(x, y)*\\phi_i(x, y)*\\phi_j(x, y)],\n",
       "[(-\\frac{\\partial\\ \\Lambda_0 }{\\partial\\ Q_0 }(x, y) - 2*\\frac{\\partial\\ \\Lambda_3 }{\\partial\\ Q_0 }(x, y))*\\phi_i(x, y)*\\phi_j(x, y), (-\\frac{\\partial\\ \\Lambda_0 }{\\partial\\ Q_1 }(x, y) - 2*\\frac{\\partial\\ \\Lambda_3 }{\\partial\\ Q_1 }(x, y))*\\phi_i(x, y)*\\phi_j(x, y), (-\\frac{\\partial\\ \\Lambda_0 }{\\partial\\ Q_2 }(x, y) - 2*\\frac{\\partial\\ \\Lambda_3 }{\\partial\\ Q_2 }(x, y))*\\phi_i(x, y)*\\phi_j(x, y), (-\\frac{\\partial\\ \\Lambda_0 }{\\partial\\ Q_3 }(x, y) - 2*\\frac{\\partial\\ \\Lambda_3 }{\\partial\\ Q_3 }(x, y))*\\phi_i(x, y)*\\phi_j(x, y), (-\\frac{\\partial\\ \\Lambda_0 }{\\partial\\ Q_4 }(x, y) - 2*\\frac{\\partial\\ \\Lambda_3 }{\\partial\\ Q_4 }(x, y))*\\phi_i(x, y)*\\phi_j(x, y)],\n",
       "[                                                      -2*\\frac{\\partial\\ \\Lambda_4 }{\\partial\\ Q_0 }(x, y)*\\phi_i(x, y)*\\phi_j(x, y),                                                       -2*\\frac{\\partial\\ \\Lambda_4 }{\\partial\\ Q_1 }(x, y)*\\phi_i(x, y)*\\phi_j(x, y),                                                       -2*\\frac{\\partial\\ \\Lambda_4 }{\\partial\\ Q_2 }(x, y)*\\phi_i(x, y)*\\phi_j(x, y),                                                       -2*\\frac{\\partial\\ \\Lambda_4 }{\\partial\\ Q_3 }(x, y)*\\phi_i(x, y)*\\phi_j(x, y),                                                       -2*\\frac{\\partial\\ \\Lambda_4 }{\\partial\\ Q_4 }(x, y)*\\phi_i(x, y)*\\phi_j(x, y)]])"
      ]
     },
     "metadata": {},
     "output_type": "display_data"
    },
    {
     "data": {
      "text/latex": [
       "$\\displaystyle \\left[\\begin{matrix}- 2 \\frac{\\partial}{\\partial x} \\phi_{i}{\\left(x,y \\right)} \\frac{\\partial}{\\partial x} \\phi_{j}{\\left(x,y \\right)} - 2 \\frac{\\partial}{\\partial y} \\phi_{i}{\\left(x,y \\right)} \\frac{\\partial}{\\partial y} \\phi_{j}{\\left(x,y \\right)} & 0 & 0 & - \\frac{\\partial}{\\partial x} \\phi_{i}{\\left(x,y \\right)} \\frac{\\partial}{\\partial x} \\phi_{j}{\\left(x,y \\right)} - \\frac{\\partial}{\\partial y} \\phi_{i}{\\left(x,y \\right)} \\frac{\\partial}{\\partial y} \\phi_{j}{\\left(x,y \\right)} & 0\\\\0 & - 2 \\frac{\\partial}{\\partial x} \\phi_{i}{\\left(x,y \\right)} \\frac{\\partial}{\\partial x} \\phi_{j}{\\left(x,y \\right)} - 2 \\frac{\\partial}{\\partial y} \\phi_{i}{\\left(x,y \\right)} \\frac{\\partial}{\\partial y} \\phi_{j}{\\left(x,y \\right)} & 0 & 0 & 0\\\\0 & 0 & - 2 \\frac{\\partial}{\\partial x} \\phi_{i}{\\left(x,y \\right)} \\frac{\\partial}{\\partial x} \\phi_{j}{\\left(x,y \\right)} - 2 \\frac{\\partial}{\\partial y} \\phi_{i}{\\left(x,y \\right)} \\frac{\\partial}{\\partial y} \\phi_{j}{\\left(x,y \\right)} & 0 & 0\\\\- \\frac{\\partial}{\\partial x} \\phi_{i}{\\left(x,y \\right)} \\frac{\\partial}{\\partial x} \\phi_{j}{\\left(x,y \\right)} - \\frac{\\partial}{\\partial y} \\phi_{i}{\\left(x,y \\right)} \\frac{\\partial}{\\partial y} \\phi_{j}{\\left(x,y \\right)} & 0 & 0 & - 2 \\frac{\\partial}{\\partial x} \\phi_{i}{\\left(x,y \\right)} \\frac{\\partial}{\\partial x} \\phi_{j}{\\left(x,y \\right)} - 2 \\frac{\\partial}{\\partial y} \\phi_{i}{\\left(x,y \\right)} \\frac{\\partial}{\\partial y} \\phi_{j}{\\left(x,y \\right)} & 0\\\\0 & 0 & 0 & 0 & - 2 \\frac{\\partial}{\\partial x} \\phi_{i}{\\left(x,y \\right)} \\frac{\\partial}{\\partial x} \\phi_{j}{\\left(x,y \\right)} - 2 \\frac{\\partial}{\\partial y} \\phi_{i}{\\left(x,y \\right)} \\frac{\\partial}{\\partial y} \\phi_{j}{\\left(x,y \\right)}\\end{matrix}\\right]$"
      ],
      "text/plain": [
       "Matrix([\n",
       "[-2*Derivative(\\phi_i(x, y), x)*Derivative(\\phi_j(x, y), x) - 2*Derivative(\\phi_i(x, y), y)*Derivative(\\phi_j(x, y), y),                                                                                                                      0,                                                                                                                      0,     -Derivative(\\phi_i(x, y), x)*Derivative(\\phi_j(x, y), x) - Derivative(\\phi_i(x, y), y)*Derivative(\\phi_j(x, y), y),                                                                                                                      0],\n",
       "[                                                                                                                     0, -2*Derivative(\\phi_i(x, y), x)*Derivative(\\phi_j(x, y), x) - 2*Derivative(\\phi_i(x, y), y)*Derivative(\\phi_j(x, y), y),                                                                                                                      0,                                                                                                                      0,                                                                                                                      0],\n",
       "[                                                                                                                     0,                                                                                                                      0, -2*Derivative(\\phi_i(x, y), x)*Derivative(\\phi_j(x, y), x) - 2*Derivative(\\phi_i(x, y), y)*Derivative(\\phi_j(x, y), y),                                                                                                                      0,                                                                                                                      0],\n",
       "[    -Derivative(\\phi_i(x, y), x)*Derivative(\\phi_j(x, y), x) - Derivative(\\phi_i(x, y), y)*Derivative(\\phi_j(x, y), y),                                                                                                                      0,                                                                                                                      0, -2*Derivative(\\phi_i(x, y), x)*Derivative(\\phi_j(x, y), x) - 2*Derivative(\\phi_i(x, y), y)*Derivative(\\phi_j(x, y), y),                                                                                                                      0],\n",
       "[                                                                                                                     0,                                                                                                                      0,                                                                                                                      0,                                                                                                                      0, -2*Derivative(\\phi_i(x, y), x)*Derivative(\\phi_j(x, y), x) - 2*Derivative(\\phi_i(x, y), y)*Derivative(\\phi_j(x, y), y)]])"
      ]
     },
     "metadata": {},
     "output_type": "display_data"
    }
   ],
   "source": [
    "display(dR_mean_field)\n",
    "display(dR_entropy)\n",
    "display(dE1)"
   ]
  },
  {
   "cell_type": "markdown",
   "id": "0114a5d6",
   "metadata": {},
   "source": [
    "## Automatic code generation"
   ]
  },
  {
   "cell_type": "code",
   "execution_count": 23,
   "id": "2533a1ab",
   "metadata": {},
   "outputs": [
    {
     "data": {
      "text/plain": [
       "[Q_0(x, y), Q_1(x, y), Q_2(x, y), Q_3(x, y), Q_4(x, y)]"
      ]
     },
     "metadata": {},
     "output_type": "display_data"
    },
    {
     "data": {
      "text/plain": [
       "[Q_{00 }(x, y), Q_{01 }(x, y), Q_{02 }(x, y), Q_{03 }(x, y), Q_{04 }(x, y)]"
      ]
     },
     "metadata": {},
     "output_type": "display_data"
    },
    {
     "data": {
      "text/plain": [
       "[\\delta\\ Q_0(x, y),\n",
       " \\delta\\ Q_1(x, y),\n",
       " \\delta\\ Q_2(x, y),\n",
       " \\delta\\ Q_3(x, y),\n",
       " \\delta\\ Q_4(x, y)]"
      ]
     },
     "metadata": {},
     "output_type": "display_data"
    },
    {
     "data": {
      "text/plain": [
       "[\\phi_i(x, y), \\phi_j(x, y)]"
      ]
     },
     "metadata": {},
     "output_type": "display_data"
    },
    {
     "data": {
      "text/plain": [
       "[\\Lambda_0(x, y),\n",
       " \\Lambda_1(x, y),\n",
       " \\Lambda_2(x, y),\n",
       " \\Lambda_3(x, y),\n",
       " \\Lambda_4(x, y)]"
      ]
     },
     "metadata": {},
     "output_type": "display_data"
    },
    {
     "data": {
      "text/plain": [
       "[\\Lambda_{00 }(x, y),\n",
       " \\Lambda_{01 }(x, y),\n",
       " \\Lambda_{02 }(x, y),\n",
       " \\Lambda_{03 }(x, y),\n",
       " \\Lambda_{04 }(x, y)]"
      ]
     },
     "metadata": {},
     "output_type": "display_data"
    },
    {
     "data": {
      "text/plain": [
       "[alpha, Z, theta]"
      ]
     },
     "metadata": {},
     "output_type": "display_data"
    }
   ],
   "source": [
    "Q_list = list(Q_vec)\n",
    "Q0_list = list(Q0_vec)\n",
    "delta_Q_list = list(delta_Q_vec)\n",
    "phi_list = list([phi_i, phi_j])\n",
    "Lambda_list = list(Lambda_vec)\n",
    "Lambda0_list = list(Lambda0_vec)\n",
    "symbol_list = [alpha, Z, theta]\n",
    "symbol_list_code = [\"alpha\", \"Z\", \"theta\"]\n",
    "\n",
    "display(Q_list)\n",
    "display(Q0_list)\n",
    "display(delta_Q_list)\n",
    "display(phi_list)\n",
    "display(Lambda_list)\n",
    "display(Lambda0_list)\n",
    "display(symbol_list)"
   ]
  },
  {
   "cell_type": "code",
   "execution_count": 27,
   "id": "84d5aba8",
   "metadata": {},
   "outputs": [
    {
     "data": {
      "text/plain": [
       "[[Derivative(Q_0(x, y), x), Derivative(Q_0(x, y), y), 0],\n",
       " [Derivative(Q_1(x, y), x), Derivative(Q_1(x, y), y), 0],\n",
       " [Derivative(Q_2(x, y), x), Derivative(Q_2(x, y), y), 0],\n",
       " [Derivative(Q_3(x, y), x), Derivative(Q_3(x, y), y), 0],\n",
       " [Derivative(Q_4(x, y), x), Derivative(Q_4(x, y), y), 0]]"
      ]
     },
     "metadata": {},
     "output_type": "display_data"
    },
    {
     "data": {
      "text/plain": [
       "[[Derivative(Q_{00 }(x, y), x), Derivative(Q_{00 }(x, y), y), 0],\n",
       " [Derivative(Q_{01 }(x, y), x), Derivative(Q_{01 }(x, y), y), 0],\n",
       " [Derivative(Q_{02 }(x, y), x), Derivative(Q_{02 }(x, y), y), 0],\n",
       " [Derivative(Q_{03 }(x, y), x), Derivative(Q_{03 }(x, y), y), 0],\n",
       " [Derivative(Q_{04 }(x, y), x), Derivative(Q_{04 }(x, y), y), 0]]"
      ]
     },
     "metadata": {},
     "output_type": "display_data"
    },
    {
     "data": {
      "text/plain": [
       "[[[Derivative(Q_0(x, y), (x, 2)), Derivative(Q_0(x, y), x, y), 0],\n",
       "  [Derivative(Q_0(x, y), x, y), Derivative(Q_0(x, y), (y, 2)), 0],\n",
       "  [0, 0, 0]],\n",
       " [[Derivative(Q_1(x, y), (x, 2)), Derivative(Q_1(x, y), x, y), 0],\n",
       "  [Derivative(Q_1(x, y), x, y), Derivative(Q_1(x, y), (y, 2)), 0],\n",
       "  [0, 0, 0]],\n",
       " [[Derivative(Q_2(x, y), (x, 2)), Derivative(Q_2(x, y), x, y), 0],\n",
       "  [Derivative(Q_2(x, y), x, y), Derivative(Q_2(x, y), (y, 2)), 0],\n",
       "  [0, 0, 0]],\n",
       " [[Derivative(Q_3(x, y), (x, 2)), Derivative(Q_3(x, y), x, y), 0],\n",
       "  [Derivative(Q_3(x, y), x, y), Derivative(Q_3(x, y), (y, 2)), 0],\n",
       "  [0, 0, 0]],\n",
       " [[Derivative(Q_4(x, y), (x, 2)), Derivative(Q_4(x, y), x, y), 0],\n",
       "  [Derivative(Q_4(x, y), x, y), Derivative(Q_4(x, y), (y, 2)), 0],\n",
       "  [0, 0, 0]]]"
      ]
     },
     "metadata": {},
     "output_type": "display_data"
    },
    {
     "data": {
      "text/plain": [
       "[[Derivative(\\phi_i(x, y), x), Derivative(\\phi_i(x, y), y), 0],\n",
       " [Derivative(\\phi_j(x, y), x), Derivative(\\phi_j(x, y), y), 0]]"
      ]
     },
     "metadata": {},
     "output_type": "display_data"
    },
    {
     "data": {
      "text/plain": [
       "[[\\frac{\\partial\\ \\Lambda_0 }{\\partial\\ Q_0 }(x, y),\n",
       "  \\frac{\\partial\\ \\Lambda_0 }{\\partial\\ Q_1 }(x, y),\n",
       "  \\frac{\\partial\\ \\Lambda_0 }{\\partial\\ Q_2 }(x, y),\n",
       "  \\frac{\\partial\\ \\Lambda_0 }{\\partial\\ Q_3 }(x, y),\n",
       "  \\frac{\\partial\\ \\Lambda_0 }{\\partial\\ Q_4 }(x, y)],\n",
       " [\\frac{\\partial\\ \\Lambda_1 }{\\partial\\ Q_0 }(x, y),\n",
       "  \\frac{\\partial\\ \\Lambda_1 }{\\partial\\ Q_1 }(x, y),\n",
       "  \\frac{\\partial\\ \\Lambda_1 }{\\partial\\ Q_2 }(x, y),\n",
       "  \\frac{\\partial\\ \\Lambda_1 }{\\partial\\ Q_3 }(x, y),\n",
       "  \\frac{\\partial\\ \\Lambda_1 }{\\partial\\ Q_4 }(x, y)],\n",
       " [\\frac{\\partial\\ \\Lambda_2 }{\\partial\\ Q_0 }(x, y),\n",
       "  \\frac{\\partial\\ \\Lambda_2 }{\\partial\\ Q_1 }(x, y),\n",
       "  \\frac{\\partial\\ \\Lambda_2 }{\\partial\\ Q_2 }(x, y),\n",
       "  \\frac{\\partial\\ \\Lambda_2 }{\\partial\\ Q_3 }(x, y),\n",
       "  \\frac{\\partial\\ \\Lambda_2 }{\\partial\\ Q_4 }(x, y)],\n",
       " [\\frac{\\partial\\ \\Lambda_3 }{\\partial\\ Q_0 }(x, y),\n",
       "  \\frac{\\partial\\ \\Lambda_3 }{\\partial\\ Q_1 }(x, y),\n",
       "  \\frac{\\partial\\ \\Lambda_3 }{\\partial\\ Q_2 }(x, y),\n",
       "  \\frac{\\partial\\ \\Lambda_3 }{\\partial\\ Q_3 }(x, y),\n",
       "  \\frac{\\partial\\ \\Lambda_3 }{\\partial\\ Q_4 }(x, y)],\n",
       " [\\frac{\\partial\\ \\Lambda_4 }{\\partial\\ Q_0 }(x, y),\n",
       "  \\frac{\\partial\\ \\Lambda_4 }{\\partial\\ Q_1 }(x, y),\n",
       "  \\frac{\\partial\\ \\Lambda_4 }{\\partial\\ Q_2 }(x, y),\n",
       "  \\frac{\\partial\\ \\Lambda_4 }{\\partial\\ Q_3 }(x, y),\n",
       "  \\frac{\\partial\\ \\Lambda_4 }{\\partial\\ Q_4 }(x, y)]]"
      ]
     },
     "metadata": {},
     "output_type": "display_data"
    }
   ],
   "source": [
    "mat_dim = 3\n",
    "\n",
    "dQ_vec = tc.TensorCalculusArray.zeros(vec_dim, mat_dim)\n",
    "dQ0_vec = tc.TensorCalculusArray.zeros(vec_dim, mat_dim)\n",
    "ddQ_vec = tc.TensorCalculusArray.zeros(vec_dim, mat_dim, mat_dim)\n",
    "dphi_vec = sy.zeros(2, mat_dim)\n",
    "\n",
    "for i in range(vec_dim):\n",
    "    for j in range(mat_dim):\n",
    "        dQ_vec[i, j] = Q_list[i].diff(xi[j])\n",
    "        \n",
    "for i in range(vec_dim):\n",
    "    for j in range(mat_dim):\n",
    "        dQ0_vec[i, j] = Q0_list[i].diff(xi[j])\n",
    "        \n",
    "for i in range(vec_dim):\n",
    "    for j in range(mat_dim):\n",
    "        for k in range(mat_dim):\n",
    "            ddQ_vec[i, j, k] = Q_list[i].diff(xi[j]).diff(xi[k])\n",
    "        \n",
    "for i in range(2):\n",
    "    for j in range(mat_dim):\n",
    "        dphi_vec[i, j] = phi_list[i].diff(xi[j])\n",
    "        \n",
    "        \n",
    "dQ_vec_list = dQ_vec.tolist()\n",
    "dQ0_vec_list = dQ0_vec.tolist()\n",
    "ddQ_vec_list = ddQ_vec.tolist()\n",
    "dphi_vec_list = dphi_vec.tolist()\n",
    "dLambda_mat_list = dLambda_mat.tolist()\n",
    "\n",
    "\n",
    "display(dQ_vec_list)\n",
    "display(dQ0_vec_list)\n",
    "display(ddQ_vec_list)\n",
    "display(dphi_vec_list)\n",
    "display(dLambda_mat_list)"
   ]
  },
  {
   "cell_type": "code",
   "execution_count": 36,
   "id": "e71de7ae",
   "metadata": {},
   "outputs": [],
   "source": [
    "from sympy.printing.cxx import CXX11CodePrinter\n",
    "import re"
   ]
  },
  {
   "cell_type": "code",
   "execution_count": 37,
   "id": "5b353890",
   "metadata": {},
   "outputs": [],
   "source": [
    "class MyPrinter(CXX11CodePrinter):\n",
    "    \"\"\"\n",
    "    This printer prints expressions as C++ code, and appropriately formats\n",
    "    symbols that are specific to the nematic Q-tensor finite element simulation\n",
    "    \"\"\"\n",
    "    \n",
    "    def _print_Function(self, function):\n",
    "        \n",
    "        if function in Q_list:\n",
    "            idx = Q_list.index(function)\n",
    "            return self._print('Q_vec[q][{}]'.format(idx))\n",
    "        if function in Q0_list:\n",
    "            idx = Q0_list.index(function)\n",
    "            return self._print('Q0_vec[q][{}]'.format(idx))\n",
    "        if function in phi_list:\n",
    "            idx = phi_list.index(function)\n",
    "            if idx == 0:\n",
    "                return self._print('fe_values.shape_value(i, q)')\n",
    "            elif idx == 1:\n",
    "                return self._print('fe_values.shape_value(j, q)')\n",
    "            else:\n",
    "                raise ValueError(\"Index out of bounds for phi\")\n",
    "        if function in Lambda_list:\n",
    "            idx = Lambda_list.index(function)\n",
    "            return self._print('Lambda_vec[{}]'.format(idx))\n",
    "        if function in Lambda0_list:\n",
    "            idx = Lambda0_list.index(function)\n",
    "            return self._print('Lambda0_vec[{}]'.format(idx))\n",
    "        for i, sublist in enumerate(dLambda_mat_list):\n",
    "            if function in sublist:\n",
    "                j = sublist.index(function)\n",
    "                return self._print('dLambda_dQ[{}][{}]'.format(i, j))\n",
    "        \n",
    "        return super()._print_Function(function)\n",
    "        \n",
    "    def _print_Derivative(self, derivative):\n",
    "        \n",
    "        for i, sublist in enumerate(dQ_vec_list):\n",
    "            if derivative in sublist:\n",
    "                j = sublist.index(derivative)\n",
    "                return self._print('dQ[q][{}][{}]'.format(i, j))\n",
    "        for i, sublist in enumerate(dQ0_vec_list):\n",
    "            if derivative in sublist:\n",
    "                j = sublist.index(derivative)\n",
    "                return self._print('dQ0[q][{}][{}]'.format(i, j))\n",
    "        for i, sublist in enumerate(ddQ_vec_list):\n",
    "            for j, subsublist in enumerate(sublist):\n",
    "                if derivative in subsublist:\n",
    "                    k = subsublist.index(derivative)\n",
    "                    return self._print('ddQ[q][{}][{}][{}]'.format(i, j, k))\n",
    "        for i, sublist in enumerate(dphi_vec_list):\n",
    "            if derivative in sublist:\n",
    "                j = sublist.index(derivative)\n",
    "                if i == 0:\n",
    "                    return self._print('fe_values.shape_grad(i, q)[{}]'.format(j))\n",
    "                elif i == 1:\n",
    "                    return self._print('fe_values.shape_grad(j, q)[{}]'.format(j))\n",
    "                else:\n",
    "                    raise ValueError(\"Index out of bounds for dphi\")\n",
    "            \n",
    "        return super()._print_Derivative(derivative)\n",
    "    \n",
    "    def _print_Symbol(self, symbol):\n",
    "        \n",
    "        if symbol in symbol_list:\n",
    "            i = symbol_list.index(symbol)\n",
    "            return self._print(symbol_list_code[i])\n",
    "        return super()._print_Symbol(symbol)\n",
    "    \n",
    "    def _print_Pow(self, Pow):\n",
    "        \n",
    "        if Pow.args[1] == 2:\n",
    "            return \"({}) * ({})\".format(self.doprint(Pow.args[0]), self.doprint(Pow.args[0]))\n",
    "        return super()._print_Pow(Pow)\n",
    "        "
   ]
  },
  {
   "cell_type": "code",
   "execution_count": 38,
   "id": "d07c887b",
   "metadata": {},
   "outputs": [],
   "source": [
    "def format_term(term):\n",
    "    \n",
    "    my_printer = MyPrinter()\n",
    "    term_str = my_printer.doprint(term)\n",
    "    \n",
    "    # Take care of value functions\n",
    "    term_str = term_str.replace(\"*fe_values.shape_value\", \"\\n * fe_values.shape_value\")\n",
    "    term_str = term_str.replace('(alpha*dt + 1)', '(alpha * dt + 1)\\n ')\n",
    "    \n",
    "    # Take care of grad functions\n",
    "    # Not at beginning, plus or minus, check for space, anything before fe_values.shape_grad\n",
    "    grad_pattern = r'(?<!^)([+-])\\s*(.*?)\\*fe_values\\.shape_grad'\n",
    "    # Just add a newline before, regularize space\n",
    "    grad_replace = r'\\n \\1 \\2 * fe_values.shape_grad'\n",
    "    term_str = re.sub(grad_pattern, grad_replace, term_str)\n",
    "    \n",
    "    return term_str\n",
    "    \n",
    "def print_term(term, n_spaces):\n",
    "    \n",
    "    # if term is 0, just omit in code\n",
    "    if term == 0:\n",
    "        return \"\"\n",
    "    \n",
    "    # print code and internally format spacing\n",
    "    term_str = format_term(term)\n",
    "    space_str = \" \" * n_spaces\n",
    "    \n",
    "    # indent properly\n",
    "    term_str = '(' + term_str                            # leading parenthesis\n",
    "    term_str = term_str.replace('\\n', '\\n ' + space_str) # each newline add `space_str` spaces\n",
    "    term_str = space_str + ' ' + term_str                # add `space_str` + 1 spaces to beginning\n",
    "    term_str += ')'                                      # ending parenthesis\n",
    "    \n",
    "    return term_str"
   ]
  },
  {
   "cell_type": "code",
   "execution_count": 39,
   "id": "a560dc18",
   "metadata": {},
   "outputs": [
    {
     "name": "stdout",
     "output_type": "stream",
     "text": [
      "if (component_i == 0)\n",
      "    cell_rhs(i) +=\n",
      "        (\n",
      "         (alpha*(2*Q_vec[q][0] + Q_vec[q][3])\n",
      "          * fe_values.shape_value(i, q))\n",
      "         +\n",
      "         (-(2*Lambda_vec[0] + Lambda_vec[3])\n",
      "          * fe_values.shape_value(i, q))\n",
      "         +\n",
      "         (-2*dQ[q][0][0]*fe_values.shape_grad(i, q)[0] \n",
      "          - 2*dQ[q][0][1] * fe_values.shape_grad(i, q)[1] \n",
      "          - dQ[q][3][0] * fe_values.shape_grad(i, q)[0] \n",
      "          - dQ[q][3][1] * fe_values.shape_grad(i, q)[1])\n",
      "        )\n",
      "        * fe_values.JxW(q);\n",
      "else if (component_i == 1)\n",
      "    cell_rhs(i) +=\n",
      "        (\n",
      "         (2*alpha*Q_vec[q][1]\n",
      "          * fe_values.shape_value(i, q))\n",
      "         +\n",
      "         (-2*Lambda_vec[1]\n",
      "          * fe_values.shape_value(i, q))\n",
      "         +\n",
      "         (-2*dQ[q][1][0]*fe_values.shape_grad(i, q)[0] \n",
      "          - 2*dQ[q][1][1] * fe_values.shape_grad(i, q)[1])\n",
      "        )\n",
      "        * fe_values.JxW(q);\n",
      "else if (component_i == 2)\n",
      "    cell_rhs(i) +=\n",
      "        (\n",
      "         (2*alpha*Q_vec[q][2]\n",
      "          * fe_values.shape_value(i, q))\n",
      "         +\n",
      "         (-2*Lambda_vec[2]\n",
      "          * fe_values.shape_value(i, q))\n",
      "         +\n",
      "         (-2*dQ[q][2][0]*fe_values.shape_grad(i, q)[0] \n",
      "          - 2*dQ[q][2][1] * fe_values.shape_grad(i, q)[1])\n",
      "        )\n",
      "        * fe_values.JxW(q);\n",
      "else if (component_i == 3)\n",
      "    cell_rhs(i) +=\n",
      "        (\n",
      "         (alpha*(Q_vec[q][0] + 2*Q_vec[q][3])\n",
      "          * fe_values.shape_value(i, q))\n",
      "         +\n",
      "         (-(Lambda_vec[0] + 2*Lambda_vec[3])\n",
      "          * fe_values.shape_value(i, q))\n",
      "         +\n",
      "         (-dQ[q][0][0]*fe_values.shape_grad(i, q)[0] \n",
      "          - dQ[q][0][1] * fe_values.shape_grad(i, q)[1] \n",
      "          - 2*dQ[q][3][0] * fe_values.shape_grad(i, q)[0] \n",
      "          - 2*dQ[q][3][1] * fe_values.shape_grad(i, q)[1])\n",
      "        )\n",
      "        * fe_values.JxW(q);\n",
      "else if (component_i == 4)\n",
      "    cell_rhs(i) +=\n",
      "        (\n",
      "         (2*alpha*Q_vec[q][4]\n",
      "          * fe_values.shape_value(i, q))\n",
      "         +\n",
      "         (-2*Lambda_vec[4]\n",
      "          * fe_values.shape_value(i, q))\n",
      "         +\n",
      "         (-2*dQ[q][4][0]*fe_values.shape_grad(i, q)[0] \n",
      "          - 2*dQ[q][4][1] * fe_values.shape_grad(i, q)[1])\n",
      "        )\n",
      "        * fe_values.JxW(q);\n"
     ]
    }
   ],
   "source": [
    "assign_string = \"    cell_rhs(i) +=\\n\"\n",
    "alen = 8\n",
    "space_str = ' '*alen\n",
    "\n",
    "term_list = [R_mean_field, R_entropy, E1]\n",
    "for i in range(vec_dim):\n",
    "    if i == 0:\n",
    "        print(\"if (component_i == {})\".format(i))\n",
    "    else:\n",
    "        print(\"else if (component_i == {})\".format(i))\n",
    "        \n",
    "    print(assign_string, end=\"\")\n",
    "    print(space_str + \"(\\n\", end=\"\")\n",
    "    \n",
    "    first_term = True\n",
    "    for term in term_list:\n",
    "        # print a '+' unless we're on the first term\n",
    "        if (not first_term):\n",
    "            print(space_str, '+')\n",
    "        \n",
    "        first_term = False\n",
    "        print( print_term(sy.simplify(term[i]), alen) )\n",
    "\n",
    "    print(space_str, ')', sep='')\n",
    "    print(space_str, '* fe_values.JxW(q);', sep='')"
   ]
  },
  {
   "cell_type": "code",
   "execution_count": 41,
   "id": "266c914c",
   "metadata": {},
   "outputs": [
    {
     "name": "stdout",
     "output_type": "stream",
     "text": [
      "if (component_i == 0 && component_j == 0)\n",
      "    cell_matrix(i, j) +=\n",
      "            (\n",
      "             (-2*alpha\n",
      "              * fe_values.shape_value(i, q)\n",
      "              * fe_values.shape_value(j, q))\n",
      "             +\n",
      "             (-(-2*dLambda_dQ[0][0] - dLambda_dQ[3][0])\n",
      "              * fe_values.shape_value(i, q)\n",
      "              * fe_values.shape_value(j, q))\n",
      "             +\n",
      "             (2*fe_values.shape_grad(i, q)[0]*fe_values.shape_grad(j, q)[0] \n",
      "              + 2 * fe_values.shape_grad(i, q)[1]*fe_values.shape_grad(j, q)[1])\n",
      "            )\n",
      "            * fe_values.JxW(q);\n",
      "else if (component_i == 0 && component_j == 1)\n",
      "    cell_matrix(i, j) +=\n",
      "            (\n",
      "             (-(-2*dLambda_dQ[0][1] - dLambda_dQ[3][1])\n",
      "              * fe_values.shape_value(i, q)\n",
      "              * fe_values.shape_value(j, q))\n",
      "            )\n",
      "            * fe_values.JxW(q);\n",
      "else if (component_i == 0 && component_j == 2)\n",
      "    cell_matrix(i, j) +=\n",
      "            (\n",
      "             (-(-2*dLambda_dQ[0][2] - dLambda_dQ[3][2])\n",
      "              * fe_values.shape_value(i, q)\n",
      "              * fe_values.shape_value(j, q))\n",
      "            )\n",
      "            * fe_values.JxW(q);\n",
      "else if (component_i == 0 && component_j == 3)\n",
      "    cell_matrix(i, j) +=\n",
      "            (\n",
      "             (-alpha\n",
      "              * fe_values.shape_value(i, q)\n",
      "              * fe_values.shape_value(j, q))\n",
      "             +\n",
      "             (-(-2*dLambda_dQ[0][3] - dLambda_dQ[3][3])\n",
      "              * fe_values.shape_value(i, q)\n",
      "              * fe_values.shape_value(j, q))\n",
      "             +\n",
      "             (fe_values.shape_grad(i, q)[0]*fe_values.shape_grad(j, q)[0] \n",
      "              + fe_values.shape_grad(i, q)[1] * fe_values.shape_grad(j, q)[1])\n",
      "            )\n",
      "            * fe_values.JxW(q);\n",
      "else if (component_i == 0 && component_j == 4)\n",
      "    cell_matrix(i, j) +=\n",
      "            (\n",
      "             (-(-2*dLambda_dQ[0][4] - dLambda_dQ[3][4])\n",
      "              * fe_values.shape_value(i, q)\n",
      "              * fe_values.shape_value(j, q))\n",
      "            )\n",
      "            * fe_values.JxW(q);\n",
      "else if (component_i == 1 && component_j == 0)\n",
      "    cell_matrix(i, j) +=\n",
      "            (\n",
      "             (2*dLambda_dQ[1][0]\n",
      "              * fe_values.shape_value(i, q)\n",
      "              * fe_values.shape_value(j, q))\n",
      "            )\n",
      "            * fe_values.JxW(q);\n",
      "else if (component_i == 1 && component_j == 1)\n",
      "    cell_matrix(i, j) +=\n",
      "            (\n",
      "             (-2*alpha\n",
      "              * fe_values.shape_value(i, q)\n",
      "              * fe_values.shape_value(j, q))\n",
      "             +\n",
      "             (2*dLambda_dQ[1][1]\n",
      "              * fe_values.shape_value(i, q)\n",
      "              * fe_values.shape_value(j, q))\n",
      "             +\n",
      "             (2*fe_values.shape_grad(i, q)[0]*fe_values.shape_grad(j, q)[0] \n",
      "              + 2 * fe_values.shape_grad(i, q)[1]*fe_values.shape_grad(j, q)[1])\n",
      "            )\n",
      "            * fe_values.JxW(q);\n",
      "else if (component_i == 1 && component_j == 2)\n",
      "    cell_matrix(i, j) +=\n",
      "            (\n",
      "             (2*dLambda_dQ[1][2]\n",
      "              * fe_values.shape_value(i, q)\n",
      "              * fe_values.shape_value(j, q))\n",
      "            )\n",
      "            * fe_values.JxW(q);\n",
      "else if (component_i == 1 && component_j == 3)\n",
      "    cell_matrix(i, j) +=\n",
      "            (\n",
      "             (2*dLambda_dQ[1][3]\n",
      "              * fe_values.shape_value(i, q)\n",
      "              * fe_values.shape_value(j, q))\n",
      "            )\n",
      "            * fe_values.JxW(q);\n",
      "else if (component_i == 1 && component_j == 4)\n",
      "    cell_matrix(i, j) +=\n",
      "            (\n",
      "             (2*dLambda_dQ[1][4]\n",
      "              * fe_values.shape_value(i, q)\n",
      "              * fe_values.shape_value(j, q))\n",
      "            )\n",
      "            * fe_values.JxW(q);\n",
      "else if (component_i == 2 && component_j == 0)\n",
      "    cell_matrix(i, j) +=\n",
      "            (\n",
      "             (2*dLambda_dQ[2][0]\n",
      "              * fe_values.shape_value(i, q)\n",
      "              * fe_values.shape_value(j, q))\n",
      "            )\n",
      "            * fe_values.JxW(q);\n",
      "else if (component_i == 2 && component_j == 1)\n",
      "    cell_matrix(i, j) +=\n",
      "            (\n",
      "             (2*dLambda_dQ[2][1]\n",
      "              * fe_values.shape_value(i, q)\n",
      "              * fe_values.shape_value(j, q))\n",
      "            )\n",
      "            * fe_values.JxW(q);\n",
      "else if (component_i == 2 && component_j == 2)\n",
      "    cell_matrix(i, j) +=\n",
      "            (\n",
      "             (-2*alpha\n",
      "              * fe_values.shape_value(i, q)\n",
      "              * fe_values.shape_value(j, q))\n",
      "             +\n",
      "             (2*dLambda_dQ[2][2]\n",
      "              * fe_values.shape_value(i, q)\n",
      "              * fe_values.shape_value(j, q))\n",
      "             +\n",
      "             (2*fe_values.shape_grad(i, q)[0]*fe_values.shape_grad(j, q)[0] \n",
      "              + 2 * fe_values.shape_grad(i, q)[1]*fe_values.shape_grad(j, q)[1])\n",
      "            )\n",
      "            * fe_values.JxW(q);\n",
      "else if (component_i == 2 && component_j == 3)\n",
      "    cell_matrix(i, j) +=\n",
      "            (\n",
      "             (2*dLambda_dQ[2][3]\n",
      "              * fe_values.shape_value(i, q)\n",
      "              * fe_values.shape_value(j, q))\n",
      "            )\n",
      "            * fe_values.JxW(q);\n",
      "else if (component_i == 2 && component_j == 4)\n",
      "    cell_matrix(i, j) +=\n",
      "            (\n",
      "             (2*dLambda_dQ[2][4]\n",
      "              * fe_values.shape_value(i, q)\n",
      "              * fe_values.shape_value(j, q))\n",
      "            )\n",
      "            * fe_values.JxW(q);\n",
      "else if (component_i == 3 && component_j == 0)\n",
      "    cell_matrix(i, j) +=\n",
      "            (\n",
      "             (-alpha\n",
      "              * fe_values.shape_value(i, q)\n",
      "              * fe_values.shape_value(j, q))\n",
      "             +\n",
      "             (-(-dLambda_dQ[0][0] - 2*dLambda_dQ[3][0])\n",
      "              * fe_values.shape_value(i, q)\n",
      "              * fe_values.shape_value(j, q))\n",
      "             +\n",
      "             (fe_values.shape_grad(i, q)[0]*fe_values.shape_grad(j, q)[0] \n",
      "              + fe_values.shape_grad(i, q)[1] * fe_values.shape_grad(j, q)[1])\n",
      "            )\n",
      "            * fe_values.JxW(q);\n",
      "else if (component_i == 3 && component_j == 1)\n",
      "    cell_matrix(i, j) +=\n",
      "            (\n",
      "             (-(-dLambda_dQ[0][1] - 2*dLambda_dQ[3][1])\n",
      "              * fe_values.shape_value(i, q)\n",
      "              * fe_values.shape_value(j, q))\n",
      "            )\n",
      "            * fe_values.JxW(q);\n",
      "else if (component_i == 3 && component_j == 2)\n",
      "    cell_matrix(i, j) +=\n",
      "            (\n",
      "             (-(-dLambda_dQ[0][2] - 2*dLambda_dQ[3][2])\n",
      "              * fe_values.shape_value(i, q)\n",
      "              * fe_values.shape_value(j, q))\n",
      "            )\n",
      "            * fe_values.JxW(q);\n",
      "else if (component_i == 3 && component_j == 3)\n",
      "    cell_matrix(i, j) +=\n",
      "            (\n",
      "             (-2*alpha\n",
      "              * fe_values.shape_value(i, q)\n",
      "              * fe_values.shape_value(j, q))\n",
      "             +\n",
      "             (-(-dLambda_dQ[0][3] - 2*dLambda_dQ[3][3])\n",
      "              * fe_values.shape_value(i, q)\n",
      "              * fe_values.shape_value(j, q))\n",
      "             +\n",
      "             (2*fe_values.shape_grad(i, q)[0]*fe_values.shape_grad(j, q)[0] \n",
      "              + 2 * fe_values.shape_grad(i, q)[1]*fe_values.shape_grad(j, q)[1])\n",
      "            )\n",
      "            * fe_values.JxW(q);\n",
      "else if (component_i == 3 && component_j == 4)\n",
      "    cell_matrix(i, j) +=\n",
      "            (\n",
      "             (-(-dLambda_dQ[0][4] - 2*dLambda_dQ[3][4])\n",
      "              * fe_values.shape_value(i, q)\n",
      "              * fe_values.shape_value(j, q))\n",
      "            )\n",
      "            * fe_values.JxW(q);\n",
      "else if (component_i == 4 && component_j == 0)\n",
      "    cell_matrix(i, j) +=\n",
      "            (\n",
      "             (2*dLambda_dQ[4][0]\n",
      "              * fe_values.shape_value(i, q)\n",
      "              * fe_values.shape_value(j, q))\n",
      "            )\n",
      "            * fe_values.JxW(q);\n",
      "else if (component_i == 4 && component_j == 1)\n",
      "    cell_matrix(i, j) +=\n",
      "            (\n",
      "             (2*dLambda_dQ[4][1]\n",
      "              * fe_values.shape_value(i, q)\n",
      "              * fe_values.shape_value(j, q))\n",
      "            )\n",
      "            * fe_values.JxW(q);\n",
      "else if (component_i == 4 && component_j == 2)\n",
      "    cell_matrix(i, j) +=\n",
      "            (\n",
      "             (2*dLambda_dQ[4][2]\n",
      "              * fe_values.shape_value(i, q)\n",
      "              * fe_values.shape_value(j, q))\n",
      "            )\n",
      "            * fe_values.JxW(q);\n",
      "else if (component_i == 4 && component_j == 3)\n",
      "    cell_matrix(i, j) +=\n",
      "            (\n",
      "             (2*dLambda_dQ[4][3]\n",
      "              * fe_values.shape_value(i, q)\n",
      "              * fe_values.shape_value(j, q))\n",
      "            )\n",
      "            * fe_values.JxW(q);\n",
      "else if (component_i == 4 && component_j == 4)\n",
      "    cell_matrix(i, j) +=\n",
      "            (\n",
      "             (-2*alpha\n",
      "              * fe_values.shape_value(i, q)\n",
      "              * fe_values.shape_value(j, q))\n",
      "             +\n",
      "             (2*dLambda_dQ[4][4]\n",
      "              * fe_values.shape_value(i, q)\n",
      "              * fe_values.shape_value(j, q))\n",
      "             +\n",
      "             (2*fe_values.shape_grad(i, q)[0]*fe_values.shape_grad(j, q)[0] \n",
      "              + 2 * fe_values.shape_grad(i, q)[1]*fe_values.shape_grad(j, q)[1])\n",
      "            )\n",
      "            * fe_values.JxW(q);\n"
     ]
    }
   ],
   "source": [
    "assign_string = \"    cell_matrix(i, j) +=\\n\"\n",
    "alen = 12\n",
    "space_str = ' ' * alen\n",
    "\n",
    "term_list = [-dR_mean_field, -dR_entropy, -dE1]\n",
    "for i in range(vec_dim):\n",
    "    for j in range(vec_dim):\n",
    "        if (i == 0) and (j == 0):\n",
    "            print(\"if (component_i == {} && component_j == {})\".format(i, j))\n",
    "        else:\n",
    "            print(\"else if (component_i == {} && component_j == {})\".format(i, j))\n",
    "\n",
    "        print(assign_string, end=\"\")\n",
    "        print(space_str + \"(\\n\", end=\"\")\n",
    "        \n",
    "        nonzero_term_list = []\n",
    "        for term in term_list:\n",
    "            if not (term[i, j] == 0):\n",
    "                nonzero_term_list.append(term)\n",
    "        \n",
    "        first_term = True\n",
    "        for k, term in enumerate(nonzero_term_list):\n",
    "            print( print_term(term[i, j], alen) )\n",
    "            first_term = False\n",
    "            if not k == (len(nonzero_term_list) - 1):\n",
    "                print(space_str, '+')\n",
    "\n",
    "        print(space_str + \")\")\n",
    "        print(space_str, '* fe_values.JxW(q);', sep='')"
   ]
  },
  {
   "cell_type": "code",
   "execution_count": null,
   "id": "d76060d9",
   "metadata": {},
   "outputs": [],
   "source": []
  }
 ],
 "metadata": {
  "kernelspec": {
   "display_name": "Python 3 (ipykernel)",
   "language": "python",
   "name": "python3"
  },
  "language_info": {
   "codemirror_mode": {
    "name": "ipython",
    "version": 3
   },
   "file_extension": ".py",
   "mimetype": "text/x-python",
   "name": "python",
   "nbconvert_exporter": "python",
   "pygments_lexer": "ipython3",
   "version": "3.9.7"
  }
 },
 "nbformat": 4,
 "nbformat_minor": 5
}
