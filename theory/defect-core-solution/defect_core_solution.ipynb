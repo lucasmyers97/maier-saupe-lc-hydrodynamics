{
 "cells": [
  {
   "cell_type": "code",
   "execution_count": 1,
   "id": "b270d595",
   "metadata": {},
   "outputs": [],
   "source": [
    "from sympy import *"
   ]
  },
  {
   "cell_type": "code",
   "execution_count": 26,
   "id": "ef978bc5",
   "metadata": {},
   "outputs": [
    {
     "data": {
      "text/latex": [
       "$\\displaystyle \\operatorname{q_{1}}{\\left(r \\right)}$"
      ],
      "text/plain": [
       "q_1(r)"
      ]
     },
     "metadata": {},
     "output_type": "display_data"
    },
    {
     "data": {
      "text/latex": [
       "$\\displaystyle \\operatorname{q_{2}}{\\left(r \\right)}$"
      ],
      "text/plain": [
       "q_2(r)"
      ]
     },
     "metadata": {},
     "output_type": "display_data"
    }
   ],
   "source": [
    "r = symbols('r', nonnegative=True)\n",
    "phi = symbols('phi')\n",
    "\n",
    "A, B, C = symbols('A B C')\n",
    "\n",
    "theta = Rational(1, 2) * phi\n",
    "q1 = Function('q_1')(r)\n",
    "q2 = Function('q_2')(r)\n",
    "\n",
    "display(q1, q2)"
   ]
  },
  {
   "cell_type": "code",
   "execution_count": 29,
   "id": "d5a69b78",
   "metadata": {},
   "outputs": [],
   "source": [
    "class MyMArray(MutableDenseNDimArray):\n",
    "    \n",
    "    def __mul__(self, other):\n",
    "        try:\n",
    "            return super().__mul__(other)\n",
    "        except ValueError:\n",
    "            if not isinstance(other, MyMArray):\n",
    "                raise ValueError(\"Need MyMArray for contraction\")\n",
    "            \n",
    "            rank_self = self.rank()\n",
    "            prod = tensorproduct(self, other)\n",
    "            contraction = tensorcontraction(prod, (rank_self - 1, rank_self))\n",
    "            \n",
    "            if type(contraction) == Array:\n",
    "                return MyMArray(contraction)\n",
    "            else:\n",
    "                return contraction\n",
    "    \n",
    "    def __matmul__(self, other):\n",
    "        try:\n",
    "            return super().__mul__(other)\n",
    "        except ValueError:\n",
    "            if not isinstance(other, MyMArray):\n",
    "                raise ValueError(\"Need MyMArray for tensor product\")\n",
    "\n",
    "            return MyMArray( tensorproduct(self, other) )\n",
    "    \n",
    "    def __pow__(self, other):\n",
    "        try:\n",
    "            return super().__mul__(other)\n",
    "        except ValueError:\n",
    "            if not isinstance(other, MyMArray):\n",
    "                raise ValueError(\"Need MyMArray for double contraction\")\n",
    "\n",
    "            rank_self = self.rank()\n",
    "            prod = tensorproduct(self, other)\n",
    "            contract = tensorcontraction(prod, (rank_self - 1, rank_self))\n",
    "            contraction = tensorcontraction(contract, (rank_self - 2, rank_self - 1))\n",
    "            \n",
    "            if type(contraction) == Array:\n",
    "                return MyMArray(contraction)\n",
    "            else:\n",
    "                return contraction\n",
    "        \n",
    "    def ip(self, other):\n",
    "        if not isinstance(other, MyMArray):\n",
    "            raise ValueError(\"Need MyMArray for inner product\")\n",
    "        \n",
    "        rank_self = self.rank()\n",
    "        prod = tensorproduct(self, other)\n",
    "        while rank_self > 0:\n",
    "            prod = tensorcontraction(prod, (0, rank_self))\n",
    "            rank_self -= 1\n",
    "            \n",
    "        return prod\n",
    "    \n",
    "def lap(M):\n",
    "    return M.diff(r, 2) + (1/r) * M.diff(r) + (1/r**2) * M.diff(phi, 2)"
   ]
  },
  {
   "cell_type": "code",
   "execution_count": 31,
   "id": "97787bf5",
   "metadata": {},
   "outputs": [],
   "source": [
    "n = MyMArray([cos(theta), sin(theta), 0])\n",
    "m = MyMArray([sin(theta), -cos(theta), 0])\n",
    "l = MyMArray([0, 0, 1])"
   ]
  },
  {
   "cell_type": "code",
   "execution_count": 33,
   "id": "e265e0e7",
   "metadata": {},
   "outputs": [
    {
     "data": {
      "text/latex": [
       "$\\displaystyle \\left[\\begin{matrix}\\operatorname{q_{1}}{\\left(r \\right)} \\cos^{2}{\\left(\\frac{\\phi}{2} \\right)} + \\operatorname{q_{2}}{\\left(r \\right)} \\sin^{2}{\\left(\\frac{\\phi}{2} \\right)} & \\operatorname{q_{1}}{\\left(r \\right)} \\sin{\\left(\\frac{\\phi}{2} \\right)} \\cos{\\left(\\frac{\\phi}{2} \\right)} - \\operatorname{q_{2}}{\\left(r \\right)} \\sin{\\left(\\frac{\\phi}{2} \\right)} \\cos{\\left(\\frac{\\phi}{2} \\right)} & 0\\\\\\operatorname{q_{1}}{\\left(r \\right)} \\sin{\\left(\\frac{\\phi}{2} \\right)} \\cos{\\left(\\frac{\\phi}{2} \\right)} - \\operatorname{q_{2}}{\\left(r \\right)} \\sin{\\left(\\frac{\\phi}{2} \\right)} \\cos{\\left(\\frac{\\phi}{2} \\right)} & \\operatorname{q_{1}}{\\left(r \\right)} \\sin^{2}{\\left(\\frac{\\phi}{2} \\right)} + \\operatorname{q_{2}}{\\left(r \\right)} \\cos^{2}{\\left(\\frac{\\phi}{2} \\right)} & 0\\\\0 & 0 & - \\operatorname{q_{1}}{\\left(r \\right)} - \\operatorname{q_{2}}{\\left(r \\right)}\\end{matrix}\\right]$"
      ],
      "text/plain": [
       "[[q_1(r)*cos(phi/2)**2 + q_2(r)*sin(phi/2)**2, q_1(r)*sin(phi/2)*cos(phi/2) - q_2(r)*sin(phi/2)*cos(phi/2), 0], [q_1(r)*sin(phi/2)*cos(phi/2) - q_2(r)*sin(phi/2)*cos(phi/2), q_1(r)*sin(phi/2)**2 + q_2(r)*cos(phi/2)**2, 0], [0, 0, -q_1(r) - q_2(r)]]"
      ]
     },
     "metadata": {},
     "output_type": "display_data"
    }
   ],
   "source": [
    "Q_mat = (q1 * n@n + q2 * m@m - (q1 + q2) * l@l)\n",
    "display(Q_mat)"
   ]
  },
  {
   "cell_type": "code",
   "execution_count": 34,
   "id": "c73bf8bb",
   "metadata": {},
   "outputs": [
    {
     "data": {
      "text/latex": [
       "$\\displaystyle \\left[\\begin{matrix}\\frac{- r^{2} \\sin^{2}{\\left(\\frac{\\phi}{2} \\right)} \\frac{d^{2}}{d r^{2}} \\operatorname{q_{1}}{\\left(r \\right)} + r^{2} \\sin^{2}{\\left(\\frac{\\phi}{2} \\right)} \\frac{d^{2}}{d r^{2}} \\operatorname{q_{2}}{\\left(r \\right)} + r^{2} \\frac{d^{2}}{d r^{2}} \\operatorname{q_{1}}{\\left(r \\right)} - r \\sin^{2}{\\left(\\frac{\\phi}{2} \\right)} \\frac{d}{d r} \\operatorname{q_{1}}{\\left(r \\right)} + r \\sin^{2}{\\left(\\frac{\\phi}{2} \\right)} \\frac{d}{d r} \\operatorname{q_{2}}{\\left(r \\right)} + r \\frac{d}{d r} \\operatorname{q_{1}}{\\left(r \\right)} + \\operatorname{q_{1}}{\\left(r \\right)} \\sin^{2}{\\left(\\frac{\\phi}{2} \\right)} - \\frac{\\operatorname{q_{1}}{\\left(r \\right)}}{2} - \\operatorname{q_{2}}{\\left(r \\right)} \\sin^{2}{\\left(\\frac{\\phi}{2} \\right)} + \\frac{\\operatorname{q_{2}}{\\left(r \\right)}}{2}}{r^{2}} & \\frac{\\left(r^{2} \\left(\\frac{d^{2}}{d r^{2}} \\operatorname{q_{1}}{\\left(r \\right)} - \\frac{d^{2}}{d r^{2}} \\operatorname{q_{2}}{\\left(r \\right)}\\right) + r \\left(\\frac{d}{d r} \\operatorname{q_{1}}{\\left(r \\right)} - \\frac{d}{d r} \\operatorname{q_{2}}{\\left(r \\right)}\\right) - \\operatorname{q_{1}}{\\left(r \\right)} + \\operatorname{q_{2}}{\\left(r \\right)}\\right) \\sin{\\left(\\phi \\right)}}{2 r^{2}} & 0\\\\\\frac{\\left(r^{2} \\left(\\frac{d^{2}}{d r^{2}} \\operatorname{q_{1}}{\\left(r \\right)} - \\frac{d^{2}}{d r^{2}} \\operatorname{q_{2}}{\\left(r \\right)}\\right) + r \\left(\\frac{d}{d r} \\operatorname{q_{1}}{\\left(r \\right)} - \\frac{d}{d r} \\operatorname{q_{2}}{\\left(r \\right)}\\right) - \\operatorname{q_{1}}{\\left(r \\right)} + \\operatorname{q_{2}}{\\left(r \\right)}\\right) \\sin{\\left(\\phi \\right)}}{2 r^{2}} & \\frac{r^{2} \\sin^{2}{\\left(\\frac{\\phi}{2} \\right)} \\frac{d^{2}}{d r^{2}} \\operatorname{q_{1}}{\\left(r \\right)} - r^{2} \\sin^{2}{\\left(\\frac{\\phi}{2} \\right)} \\frac{d^{2}}{d r^{2}} \\operatorname{q_{2}}{\\left(r \\right)} + r^{2} \\frac{d^{2}}{d r^{2}} \\operatorname{q_{2}}{\\left(r \\right)} + r \\sin^{2}{\\left(\\frac{\\phi}{2} \\right)} \\frac{d}{d r} \\operatorname{q_{1}}{\\left(r \\right)} - r \\sin^{2}{\\left(\\frac{\\phi}{2} \\right)} \\frac{d}{d r} \\operatorname{q_{2}}{\\left(r \\right)} + r \\frac{d}{d r} \\operatorname{q_{2}}{\\left(r \\right)} - \\operatorname{q_{1}}{\\left(r \\right)} \\sin^{2}{\\left(\\frac{\\phi}{2} \\right)} + \\frac{\\operatorname{q_{1}}{\\left(r \\right)}}{2} + \\operatorname{q_{2}}{\\left(r \\right)} \\sin^{2}{\\left(\\frac{\\phi}{2} \\right)} - \\frac{\\operatorname{q_{2}}{\\left(r \\right)}}{2}}{r^{2}} & 0\\\\0 & 0 & \\frac{r \\left(- \\frac{d^{2}}{d r^{2}} \\operatorname{q_{1}}{\\left(r \\right)} - \\frac{d^{2}}{d r^{2}} \\operatorname{q_{2}}{\\left(r \\right)}\\right) - \\frac{d}{d r} \\operatorname{q_{1}}{\\left(r \\right)} - \\frac{d}{d r} \\operatorname{q_{2}}{\\left(r \\right)}}{r}\\end{matrix}\\right]$"
      ],
      "text/plain": [
       "[[(-r**2*sin(phi/2)**2*Derivative(q_1(r), (r, 2)) + r**2*sin(phi/2)**2*Derivative(q_2(r), (r, 2)) + r**2*Derivative(q_1(r), (r, 2)) - r*sin(phi/2)**2*Derivative(q_1(r), r) + r*sin(phi/2)**2*Derivative(q_2(r), r) + r*Derivative(q_1(r), r) + q_1(r)*sin(phi/2)**2 - q_1(r)/2 - q_2(r)*sin(phi/2)**2 + q_2(r)/2)/r**2, (r**2*(Derivative(q_1(r), (r, 2)) - Derivative(q_2(r), (r, 2))) + r*(Derivative(q_1(r), r) - Derivative(q_2(r), r)) - q_1(r) + q_2(r))*sin(phi)/(2*r**2), 0], [(r**2*(Derivative(q_1(r), (r, 2)) - Derivative(q_2(r), (r, 2))) + r*(Derivative(q_1(r), r) - Derivative(q_2(r), r)) - q_1(r) + q_2(r))*sin(phi)/(2*r**2), (r**2*sin(phi/2)**2*Derivative(q_1(r), (r, 2)) - r**2*sin(phi/2)**2*Derivative(q_2(r), (r, 2)) + r**2*Derivative(q_2(r), (r, 2)) + r*sin(phi/2)**2*Derivative(q_1(r), r) - r*sin(phi/2)**2*Derivative(q_2(r), r) + r*Derivative(q_2(r), r) - q_1(r)*sin(phi/2)**2 + q_1(r)/2 + q_2(r)*sin(phi/2)**2 - q_2(r)/2)/r**2, 0], [0, 0, (r*(-Derivative(q_1(r), (r, 2)) - Derivative(q_2(r), (r, 2))) - Derivative(q_1(r), r) - Derivative(q_2(r), r))/r]]"
      ]
     },
     "metadata": {},
     "output_type": "display_data"
    }
   ],
   "source": [
    "lap_Q_mat = simplify(lap(Q_mat))\n",
    "display(lap_Q_mat)"
   ]
  },
  {
   "cell_type": "code",
   "execution_count": 36,
   "id": "51994599",
   "metadata": {},
   "outputs": [
    {
     "data": {
      "text/latex": [
       "$\\displaystyle \\left[\\begin{matrix}- A \\left(\\operatorname{q_{1}}{\\left(r \\right)} \\cos^{2}{\\left(\\frac{\\phi}{2} \\right)} + \\operatorname{q_{2}}{\\left(r \\right)} \\sin^{2}{\\left(\\frac{\\phi}{2} \\right)}\\right) - B \\left(\\operatorname{q_{1}}{\\left(r \\right)} \\cos^{2}{\\left(\\frac{\\phi}{2} \\right)} + \\operatorname{q_{2}}{\\left(r \\right)} \\sin^{2}{\\left(\\frac{\\phi}{2} \\right)}\\right)^{2} - B \\left(\\operatorname{q_{1}}{\\left(r \\right)} \\sin{\\left(\\frac{\\phi}{2} \\right)} \\cos{\\left(\\frac{\\phi}{2} \\right)} - \\operatorname{q_{2}}{\\left(r \\right)} \\sin{\\left(\\frac{\\phi}{2} \\right)} \\cos{\\left(\\frac{\\phi}{2} \\right)}\\right)^{2} - C \\left(\\operatorname{q_{1}}{\\left(r \\right)} \\cos^{2}{\\left(\\frac{\\phi}{2} \\right)} + \\operatorname{q_{2}}{\\left(r \\right)} \\sin^{2}{\\left(\\frac{\\phi}{2} \\right)}\\right) \\left(\\left(\\operatorname{q_{1}}{\\left(r \\right)} \\sin^{2}{\\left(\\frac{\\phi}{2} \\right)} + \\operatorname{q_{2}}{\\left(r \\right)} \\cos^{2}{\\left(\\frac{\\phi}{2} \\right)}\\right)^{2} + \\left(\\operatorname{q_{1}}{\\left(r \\right)} \\cos^{2}{\\left(\\frac{\\phi}{2} \\right)} + \\operatorname{q_{2}}{\\left(r \\right)} \\sin^{2}{\\left(\\frac{\\phi}{2} \\right)}\\right)^{2} + 2 \\left(\\operatorname{q_{1}}{\\left(r \\right)} \\sin{\\left(\\frac{\\phi}{2} \\right)} \\cos{\\left(\\frac{\\phi}{2} \\right)} - \\operatorname{q_{2}}{\\left(r \\right)} \\sin{\\left(\\frac{\\phi}{2} \\right)} \\cos{\\left(\\frac{\\phi}{2} \\right)}\\right)^{2} + \\left(- \\operatorname{q_{1}}{\\left(r \\right)} - \\operatorname{q_{2}}{\\left(r \\right)}\\right)^{2}\\right) + \\sin^{2}{\\left(\\frac{\\phi}{2} \\right)} \\frac{d^{2}}{d r^{2}} \\operatorname{q_{2}}{\\left(r \\right)} + \\cos^{2}{\\left(\\frac{\\phi}{2} \\right)} \\frac{d^{2}}{d r^{2}} \\operatorname{q_{1}}{\\left(r \\right)} + \\frac{\\sin^{2}{\\left(\\frac{\\phi}{2} \\right)} \\frac{d}{d r} \\operatorname{q_{2}}{\\left(r \\right)} + \\cos^{2}{\\left(\\frac{\\phi}{2} \\right)} \\frac{d}{d r} \\operatorname{q_{1}}{\\left(r \\right)}}{r} + \\frac{\\operatorname{q_{1}}{\\left(r \\right)} \\sin^{2}{\\left(\\frac{\\phi}{2} \\right)} - \\operatorname{q_{1}}{\\left(r \\right)} \\cos^{2}{\\left(\\frac{\\phi}{2} \\right)} - \\operatorname{q_{2}}{\\left(r \\right)} \\sin^{2}{\\left(\\frac{\\phi}{2} \\right)} + \\operatorname{q_{2}}{\\left(r \\right)} \\cos^{2}{\\left(\\frac{\\phi}{2} \\right)}}{2 r^{2}} & - A \\left(\\operatorname{q_{1}}{\\left(r \\right)} \\sin{\\left(\\frac{\\phi}{2} \\right)} \\cos{\\left(\\frac{\\phi}{2} \\right)} - \\operatorname{q_{2}}{\\left(r \\right)} \\sin{\\left(\\frac{\\phi}{2} \\right)} \\cos{\\left(\\frac{\\phi}{2} \\right)}\\right) - B \\left(\\operatorname{q_{1}}{\\left(r \\right)} \\sin^{2}{\\left(\\frac{\\phi}{2} \\right)} + \\operatorname{q_{2}}{\\left(r \\right)} \\cos^{2}{\\left(\\frac{\\phi}{2} \\right)}\\right) \\left(\\operatorname{q_{1}}{\\left(r \\right)} \\sin{\\left(\\frac{\\phi}{2} \\right)} \\cos{\\left(\\frac{\\phi}{2} \\right)} - \\operatorname{q_{2}}{\\left(r \\right)} \\sin{\\left(\\frac{\\phi}{2} \\right)} \\cos{\\left(\\frac{\\phi}{2} \\right)}\\right) - B \\left(\\operatorname{q_{1}}{\\left(r \\right)} \\cos^{2}{\\left(\\frac{\\phi}{2} \\right)} + \\operatorname{q_{2}}{\\left(r \\right)} \\sin^{2}{\\left(\\frac{\\phi}{2} \\right)}\\right) \\left(\\operatorname{q_{1}}{\\left(r \\right)} \\sin{\\left(\\frac{\\phi}{2} \\right)} \\cos{\\left(\\frac{\\phi}{2} \\right)} - \\operatorname{q_{2}}{\\left(r \\right)} \\sin{\\left(\\frac{\\phi}{2} \\right)} \\cos{\\left(\\frac{\\phi}{2} \\right)}\\right) - C \\left(\\operatorname{q_{1}}{\\left(r \\right)} \\sin{\\left(\\frac{\\phi}{2} \\right)} \\cos{\\left(\\frac{\\phi}{2} \\right)} - \\operatorname{q_{2}}{\\left(r \\right)} \\sin{\\left(\\frac{\\phi}{2} \\right)} \\cos{\\left(\\frac{\\phi}{2} \\right)}\\right) \\left(\\left(\\operatorname{q_{1}}{\\left(r \\right)} \\sin^{2}{\\left(\\frac{\\phi}{2} \\right)} + \\operatorname{q_{2}}{\\left(r \\right)} \\cos^{2}{\\left(\\frac{\\phi}{2} \\right)}\\right)^{2} + \\left(\\operatorname{q_{1}}{\\left(r \\right)} \\cos^{2}{\\left(\\frac{\\phi}{2} \\right)} + \\operatorname{q_{2}}{\\left(r \\right)} \\sin^{2}{\\left(\\frac{\\phi}{2} \\right)}\\right)^{2} + 2 \\left(\\operatorname{q_{1}}{\\left(r \\right)} \\sin{\\left(\\frac{\\phi}{2} \\right)} \\cos{\\left(\\frac{\\phi}{2} \\right)} - \\operatorname{q_{2}}{\\left(r \\right)} \\sin{\\left(\\frac{\\phi}{2} \\right)} \\cos{\\left(\\frac{\\phi}{2} \\right)}\\right)^{2} + \\left(- \\operatorname{q_{1}}{\\left(r \\right)} - \\operatorname{q_{2}}{\\left(r \\right)}\\right)^{2}\\right) + \\left(\\frac{d^{2}}{d r^{2}} \\operatorname{q_{1}}{\\left(r \\right)} - \\frac{d^{2}}{d r^{2}} \\operatorname{q_{2}}{\\left(r \\right)}\\right) \\sin{\\left(\\frac{\\phi}{2} \\right)} \\cos{\\left(\\frac{\\phi}{2} \\right)} + \\frac{\\sin{\\left(\\frac{\\phi}{2} \\right)} \\cos{\\left(\\frac{\\phi}{2} \\right)} \\frac{d}{d r} \\operatorname{q_{1}}{\\left(r \\right)} - \\sin{\\left(\\frac{\\phi}{2} \\right)} \\cos{\\left(\\frac{\\phi}{2} \\right)} \\frac{d}{d r} \\operatorname{q_{2}}{\\left(r \\right)}}{r} + \\frac{\\left(- \\operatorname{q_{1}}{\\left(r \\right)} + \\operatorname{q_{2}}{\\left(r \\right)}\\right) \\sin{\\left(\\frac{\\phi}{2} \\right)} \\cos{\\left(\\frac{\\phi}{2} \\right)}}{r^{2}} & 0\\\\- A \\left(\\operatorname{q_{1}}{\\left(r \\right)} \\sin{\\left(\\frac{\\phi}{2} \\right)} \\cos{\\left(\\frac{\\phi}{2} \\right)} - \\operatorname{q_{2}}{\\left(r \\right)} \\sin{\\left(\\frac{\\phi}{2} \\right)} \\cos{\\left(\\frac{\\phi}{2} \\right)}\\right) - B \\left(\\operatorname{q_{1}}{\\left(r \\right)} \\sin^{2}{\\left(\\frac{\\phi}{2} \\right)} + \\operatorname{q_{2}}{\\left(r \\right)} \\cos^{2}{\\left(\\frac{\\phi}{2} \\right)}\\right) \\left(\\operatorname{q_{1}}{\\left(r \\right)} \\sin{\\left(\\frac{\\phi}{2} \\right)} \\cos{\\left(\\frac{\\phi}{2} \\right)} - \\operatorname{q_{2}}{\\left(r \\right)} \\sin{\\left(\\frac{\\phi}{2} \\right)} \\cos{\\left(\\frac{\\phi}{2} \\right)}\\right) - B \\left(\\operatorname{q_{1}}{\\left(r \\right)} \\cos^{2}{\\left(\\frac{\\phi}{2} \\right)} + \\operatorname{q_{2}}{\\left(r \\right)} \\sin^{2}{\\left(\\frac{\\phi}{2} \\right)}\\right) \\left(\\operatorname{q_{1}}{\\left(r \\right)} \\sin{\\left(\\frac{\\phi}{2} \\right)} \\cos{\\left(\\frac{\\phi}{2} \\right)} - \\operatorname{q_{2}}{\\left(r \\right)} \\sin{\\left(\\frac{\\phi}{2} \\right)} \\cos{\\left(\\frac{\\phi}{2} \\right)}\\right) - C \\left(\\operatorname{q_{1}}{\\left(r \\right)} \\sin{\\left(\\frac{\\phi}{2} \\right)} \\cos{\\left(\\frac{\\phi}{2} \\right)} - \\operatorname{q_{2}}{\\left(r \\right)} \\sin{\\left(\\frac{\\phi}{2} \\right)} \\cos{\\left(\\frac{\\phi}{2} \\right)}\\right) \\left(\\left(\\operatorname{q_{1}}{\\left(r \\right)} \\sin^{2}{\\left(\\frac{\\phi}{2} \\right)} + \\operatorname{q_{2}}{\\left(r \\right)} \\cos^{2}{\\left(\\frac{\\phi}{2} \\right)}\\right)^{2} + \\left(\\operatorname{q_{1}}{\\left(r \\right)} \\cos^{2}{\\left(\\frac{\\phi}{2} \\right)} + \\operatorname{q_{2}}{\\left(r \\right)} \\sin^{2}{\\left(\\frac{\\phi}{2} \\right)}\\right)^{2} + 2 \\left(\\operatorname{q_{1}}{\\left(r \\right)} \\sin{\\left(\\frac{\\phi}{2} \\right)} \\cos{\\left(\\frac{\\phi}{2} \\right)} - \\operatorname{q_{2}}{\\left(r \\right)} \\sin{\\left(\\frac{\\phi}{2} \\right)} \\cos{\\left(\\frac{\\phi}{2} \\right)}\\right)^{2} + \\left(- \\operatorname{q_{1}}{\\left(r \\right)} - \\operatorname{q_{2}}{\\left(r \\right)}\\right)^{2}\\right) + \\left(\\frac{d^{2}}{d r^{2}} \\operatorname{q_{1}}{\\left(r \\right)} - \\frac{d^{2}}{d r^{2}} \\operatorname{q_{2}}{\\left(r \\right)}\\right) \\sin{\\left(\\frac{\\phi}{2} \\right)} \\cos{\\left(\\frac{\\phi}{2} \\right)} + \\frac{\\sin{\\left(\\frac{\\phi}{2} \\right)} \\cos{\\left(\\frac{\\phi}{2} \\right)} \\frac{d}{d r} \\operatorname{q_{1}}{\\left(r \\right)} - \\sin{\\left(\\frac{\\phi}{2} \\right)} \\cos{\\left(\\frac{\\phi}{2} \\right)} \\frac{d}{d r} \\operatorname{q_{2}}{\\left(r \\right)}}{r} + \\frac{\\left(- \\operatorname{q_{1}}{\\left(r \\right)} + \\operatorname{q_{2}}{\\left(r \\right)}\\right) \\sin{\\left(\\frac{\\phi}{2} \\right)} \\cos{\\left(\\frac{\\phi}{2} \\right)}}{r^{2}} & - A \\left(\\operatorname{q_{1}}{\\left(r \\right)} \\sin^{2}{\\left(\\frac{\\phi}{2} \\right)} + \\operatorname{q_{2}}{\\left(r \\right)} \\cos^{2}{\\left(\\frac{\\phi}{2} \\right)}\\right) - B \\left(\\operatorname{q_{1}}{\\left(r \\right)} \\sin^{2}{\\left(\\frac{\\phi}{2} \\right)} + \\operatorname{q_{2}}{\\left(r \\right)} \\cos^{2}{\\left(\\frac{\\phi}{2} \\right)}\\right)^{2} - B \\left(\\operatorname{q_{1}}{\\left(r \\right)} \\sin{\\left(\\frac{\\phi}{2} \\right)} \\cos{\\left(\\frac{\\phi}{2} \\right)} - \\operatorname{q_{2}}{\\left(r \\right)} \\sin{\\left(\\frac{\\phi}{2} \\right)} \\cos{\\left(\\frac{\\phi}{2} \\right)}\\right)^{2} - C \\left(\\operatorname{q_{1}}{\\left(r \\right)} \\sin^{2}{\\left(\\frac{\\phi}{2} \\right)} + \\operatorname{q_{2}}{\\left(r \\right)} \\cos^{2}{\\left(\\frac{\\phi}{2} \\right)}\\right) \\left(\\left(\\operatorname{q_{1}}{\\left(r \\right)} \\sin^{2}{\\left(\\frac{\\phi}{2} \\right)} + \\operatorname{q_{2}}{\\left(r \\right)} \\cos^{2}{\\left(\\frac{\\phi}{2} \\right)}\\right)^{2} + \\left(\\operatorname{q_{1}}{\\left(r \\right)} \\cos^{2}{\\left(\\frac{\\phi}{2} \\right)} + \\operatorname{q_{2}}{\\left(r \\right)} \\sin^{2}{\\left(\\frac{\\phi}{2} \\right)}\\right)^{2} + 2 \\left(\\operatorname{q_{1}}{\\left(r \\right)} \\sin{\\left(\\frac{\\phi}{2} \\right)} \\cos{\\left(\\frac{\\phi}{2} \\right)} - \\operatorname{q_{2}}{\\left(r \\right)} \\sin{\\left(\\frac{\\phi}{2} \\right)} \\cos{\\left(\\frac{\\phi}{2} \\right)}\\right)^{2} + \\left(- \\operatorname{q_{1}}{\\left(r \\right)} - \\operatorname{q_{2}}{\\left(r \\right)}\\right)^{2}\\right) + \\sin^{2}{\\left(\\frac{\\phi}{2} \\right)} \\frac{d^{2}}{d r^{2}} \\operatorname{q_{1}}{\\left(r \\right)} + \\cos^{2}{\\left(\\frac{\\phi}{2} \\right)} \\frac{d^{2}}{d r^{2}} \\operatorname{q_{2}}{\\left(r \\right)} + \\frac{\\sin^{2}{\\left(\\frac{\\phi}{2} \\right)} \\frac{d}{d r} \\operatorname{q_{1}}{\\left(r \\right)} + \\cos^{2}{\\left(\\frac{\\phi}{2} \\right)} \\frac{d}{d r} \\operatorname{q_{2}}{\\left(r \\right)}}{r} + \\frac{- \\operatorname{q_{1}}{\\left(r \\right)} \\sin^{2}{\\left(\\frac{\\phi}{2} \\right)} + \\operatorname{q_{1}}{\\left(r \\right)} \\cos^{2}{\\left(\\frac{\\phi}{2} \\right)} + \\operatorname{q_{2}}{\\left(r \\right)} \\sin^{2}{\\left(\\frac{\\phi}{2} \\right)} - \\operatorname{q_{2}}{\\left(r \\right)} \\cos^{2}{\\left(\\frac{\\phi}{2} \\right)}}{2 r^{2}} & 0\\\\0 & 0 & - A \\left(- \\operatorname{q_{1}}{\\left(r \\right)} - \\operatorname{q_{2}}{\\left(r \\right)}\\right) - B \\left(- \\operatorname{q_{1}}{\\left(r \\right)} - \\operatorname{q_{2}}{\\left(r \\right)}\\right)^{2} - C \\left(- \\operatorname{q_{1}}{\\left(r \\right)} - \\operatorname{q_{2}}{\\left(r \\right)}\\right) \\left(\\left(\\operatorname{q_{1}}{\\left(r \\right)} \\sin^{2}{\\left(\\frac{\\phi}{2} \\right)} + \\operatorname{q_{2}}{\\left(r \\right)} \\cos^{2}{\\left(\\frac{\\phi}{2} \\right)}\\right)^{2} + \\left(\\operatorname{q_{1}}{\\left(r \\right)} \\cos^{2}{\\left(\\frac{\\phi}{2} \\right)} + \\operatorname{q_{2}}{\\left(r \\right)} \\sin^{2}{\\left(\\frac{\\phi}{2} \\right)}\\right)^{2} + 2 \\left(\\operatorname{q_{1}}{\\left(r \\right)} \\sin{\\left(\\frac{\\phi}{2} \\right)} \\cos{\\left(\\frac{\\phi}{2} \\right)} - \\operatorname{q_{2}}{\\left(r \\right)} \\sin{\\left(\\frac{\\phi}{2} \\right)} \\cos{\\left(\\frac{\\phi}{2} \\right)}\\right)^{2} + \\left(- \\operatorname{q_{1}}{\\left(r \\right)} - \\operatorname{q_{2}}{\\left(r \\right)}\\right)^{2}\\right) - \\left(\\frac{d^{2}}{d r^{2}} \\operatorname{q_{1}}{\\left(r \\right)} + \\frac{d^{2}}{d r^{2}} \\operatorname{q_{2}}{\\left(r \\right)}\\right) + \\frac{- \\frac{d}{d r} \\operatorname{q_{1}}{\\left(r \\right)} - \\frac{d}{d r} \\operatorname{q_{2}}{\\left(r \\right)}}{r}\\end{matrix}\\right]$"
      ],
      "text/plain": [
       "[[-A*(q_1(r)*cos(phi/2)**2 + q_2(r)*sin(phi/2)**2) - B*(q_1(r)*cos(phi/2)**2 + q_2(r)*sin(phi/2)**2)**2 - B*(q_1(r)*sin(phi/2)*cos(phi/2) - q_2(r)*sin(phi/2)*cos(phi/2))**2 - C*(q_1(r)*cos(phi/2)**2 + q_2(r)*sin(phi/2)**2)*((q_1(r)*sin(phi/2)**2 + q_2(r)*cos(phi/2)**2)**2 + (q_1(r)*cos(phi/2)**2 + q_2(r)*sin(phi/2)**2)**2 + 2*(q_1(r)*sin(phi/2)*cos(phi/2) - q_2(r)*sin(phi/2)*cos(phi/2))**2 + (-q_1(r) - q_2(r))**2) + sin(phi/2)**2*Derivative(q_2(r), (r, 2)) + cos(phi/2)**2*Derivative(q_1(r), (r, 2)) + (sin(phi/2)**2*Derivative(q_2(r), r) + cos(phi/2)**2*Derivative(q_1(r), r))/r + (q_1(r)*sin(phi/2)**2 - q_1(r)*cos(phi/2)**2 - q_2(r)*sin(phi/2)**2 + q_2(r)*cos(phi/2)**2)/(2*r**2), -A*(q_1(r)*sin(phi/2)*cos(phi/2) - q_2(r)*sin(phi/2)*cos(phi/2)) - B*(q_1(r)*sin(phi/2)**2 + q_2(r)*cos(phi/2)**2)*(q_1(r)*sin(phi/2)*cos(phi/2) - q_2(r)*sin(phi/2)*cos(phi/2)) - B*(q_1(r)*cos(phi/2)**2 + q_2(r)*sin(phi/2)**2)*(q_1(r)*sin(phi/2)*cos(phi/2) - q_2(r)*sin(phi/2)*cos(phi/2)) - C*(q_1(r)*sin(phi/2)*cos(phi/2) - q_2(r)*sin(phi/2)*cos(phi/2))*((q_1(r)*sin(phi/2)**2 + q_2(r)*cos(phi/2)**2)**2 + (q_1(r)*cos(phi/2)**2 + q_2(r)*sin(phi/2)**2)**2 + 2*(q_1(r)*sin(phi/2)*cos(phi/2) - q_2(r)*sin(phi/2)*cos(phi/2))**2 + (-q_1(r) - q_2(r))**2) + (Derivative(q_1(r), (r, 2)) - Derivative(q_2(r), (r, 2)))*sin(phi/2)*cos(phi/2) + (sin(phi/2)*cos(phi/2)*Derivative(q_1(r), r) - sin(phi/2)*cos(phi/2)*Derivative(q_2(r), r))/r + (-q_1(r) + q_2(r))*sin(phi/2)*cos(phi/2)/r**2, 0], [-A*(q_1(r)*sin(phi/2)*cos(phi/2) - q_2(r)*sin(phi/2)*cos(phi/2)) - B*(q_1(r)*sin(phi/2)**2 + q_2(r)*cos(phi/2)**2)*(q_1(r)*sin(phi/2)*cos(phi/2) - q_2(r)*sin(phi/2)*cos(phi/2)) - B*(q_1(r)*cos(phi/2)**2 + q_2(r)*sin(phi/2)**2)*(q_1(r)*sin(phi/2)*cos(phi/2) - q_2(r)*sin(phi/2)*cos(phi/2)) - C*(q_1(r)*sin(phi/2)*cos(phi/2) - q_2(r)*sin(phi/2)*cos(phi/2))*((q_1(r)*sin(phi/2)**2 + q_2(r)*cos(phi/2)**2)**2 + (q_1(r)*cos(phi/2)**2 + q_2(r)*sin(phi/2)**2)**2 + 2*(q_1(r)*sin(phi/2)*cos(phi/2) - q_2(r)*sin(phi/2)*cos(phi/2))**2 + (-q_1(r) - q_2(r))**2) + (Derivative(q_1(r), (r, 2)) - Derivative(q_2(r), (r, 2)))*sin(phi/2)*cos(phi/2) + (sin(phi/2)*cos(phi/2)*Derivative(q_1(r), r) - sin(phi/2)*cos(phi/2)*Derivative(q_2(r), r))/r + (-q_1(r) + q_2(r))*sin(phi/2)*cos(phi/2)/r**2, -A*(q_1(r)*sin(phi/2)**2 + q_2(r)*cos(phi/2)**2) - B*(q_1(r)*sin(phi/2)**2 + q_2(r)*cos(phi/2)**2)**2 - B*(q_1(r)*sin(phi/2)*cos(phi/2) - q_2(r)*sin(phi/2)*cos(phi/2))**2 - C*(q_1(r)*sin(phi/2)**2 + q_2(r)*cos(phi/2)**2)*((q_1(r)*sin(phi/2)**2 + q_2(r)*cos(phi/2)**2)**2 + (q_1(r)*cos(phi/2)**2 + q_2(r)*sin(phi/2)**2)**2 + 2*(q_1(r)*sin(phi/2)*cos(phi/2) - q_2(r)*sin(phi/2)*cos(phi/2))**2 + (-q_1(r) - q_2(r))**2) + sin(phi/2)**2*Derivative(q_1(r), (r, 2)) + cos(phi/2)**2*Derivative(q_2(r), (r, 2)) + (sin(phi/2)**2*Derivative(q_1(r), r) + cos(phi/2)**2*Derivative(q_2(r), r))/r + (-q_1(r)*sin(phi/2)**2 + q_1(r)*cos(phi/2)**2 + q_2(r)*sin(phi/2)**2 - q_2(r)*cos(phi/2)**2)/(2*r**2), 0], [0, 0, -A*(-q_1(r) - q_2(r)) - B*(-q_1(r) - q_2(r))**2 - C*(-q_1(r) - q_2(r))*((q_1(r)*sin(phi/2)**2 + q_2(r)*cos(phi/2)**2)**2 + (q_1(r)*cos(phi/2)**2 + q_2(r)*sin(phi/2)**2)**2 + 2*(q_1(r)*sin(phi/2)*cos(phi/2) - q_2(r)*sin(phi/2)*cos(phi/2))**2 + (-q_1(r) - q_2(r))**2) - (Derivative(q_1(r), (r, 2)) + Derivative(q_2(r), (r, 2))) + (-Derivative(q_1(r), r) - Derivative(q_2(r), r))/r]]"
      ]
     },
     "metadata": {},
     "output_type": "display_data"
    }
   ],
   "source": [
    "dQ_dt = -A * Q_mat - B * Q_mat * Q_mat - C * (Q_mat**Q_mat) * Q_mat + lap(Q_mat)\n",
    "# dQ_dt = simplify(dQ_dt)\n",
    "\n",
    "display(dQ_dt)"
   ]
  },
  {
   "cell_type": "code",
   "execution_count": 49,
   "id": "e8ec7029",
   "metadata": {},
   "outputs": [
    {
     "data": {
      "text/latex": [
       "$\\displaystyle - A \\operatorname{q_{1}}{\\left(r \\right)} - B \\operatorname{q_{1}}^{2}{\\left(r \\right)} - C \\left(\\left(- \\operatorname{q_{1}}{\\left(r \\right)} - \\operatorname{q_{2}}{\\left(r \\right)}\\right)^{2} + \\operatorname{q_{1}}^{2}{\\left(r \\right)} + \\operatorname{q_{2}}^{2}{\\left(r \\right)}\\right) \\operatorname{q_{1}}{\\left(r \\right)} + \\frac{d^{2}}{d r^{2}} \\operatorname{q_{1}}{\\left(r \\right)} + \\frac{\\frac{d}{d r} \\operatorname{q_{1}}{\\left(r \\right)}}{r} + \\frac{- \\operatorname{q_{1}}{\\left(r \\right)} + \\operatorname{q_{2}}{\\left(r \\right)}}{2 r^{2}}$"
      ],
      "text/plain": [
       "-A*q_1(r) - B*q_1(r)**2 - C*((-q_1(r) - q_2(r))**2 + q_1(r)**2 + q_2(r)**2)*q_1(r) + Derivative(q_1(r), (r, 2)) + Derivative(q_1(r), r)/r + (-q_1(r) + q_2(r))/(2*r**2)"
      ]
     },
     "execution_count": 49,
     "metadata": {},
     "output_type": "execute_result"
    }
   ],
   "source": [
    "dQ_dt[0, 0].subs(phi, 0)"
   ]
  },
  {
   "cell_type": "code",
   "execution_count": 47,
   "id": "cb4d38f2",
   "metadata": {},
   "outputs": [
    {
     "data": {
      "text/latex": [
       "$\\displaystyle - A \\operatorname{q_{2}}{\\left(r \\right)} - B \\operatorname{q_{2}}^{2}{\\left(r \\right)} - C \\left(\\left(- \\operatorname{q_{1}}{\\left(r \\right)} - \\operatorname{q_{2}}{\\left(r \\right)}\\right)^{2} + \\operatorname{q_{1}}^{2}{\\left(r \\right)} + \\operatorname{q_{2}}^{2}{\\left(r \\right)}\\right) \\operatorname{q_{2}}{\\left(r \\right)} + \\frac{d^{2}}{d r^{2}} \\operatorname{q_{2}}{\\left(r \\right)} + \\frac{\\frac{d}{d r} \\operatorname{q_{2}}{\\left(r \\right)}}{r} + \\frac{\\operatorname{q_{1}}{\\left(r \\right)} - \\operatorname{q_{2}}{\\left(r \\right)}}{2 r^{2}}$"
      ],
      "text/plain": [
       "-A*q_2(r) - B*q_2(r)**2 - C*((-q_1(r) - q_2(r))**2 + q_1(r)**2 + q_2(r)**2)*q_2(r) + Derivative(q_2(r), (r, 2)) + Derivative(q_2(r), r)/r + (q_1(r) - q_2(r))/(2*r**2)"
      ]
     },
     "execution_count": 47,
     "metadata": {},
     "output_type": "execute_result"
    }
   ],
   "source": [
    "dQ_dt[0, 0].subs(phi, pi)"
   ]
  },
  {
   "cell_type": "markdown",
   "id": "36a3191e",
   "metadata": {},
   "source": [
    "## Solving for S_bulk"
   ]
  },
  {
   "cell_type": "code",
   "execution_count": 54,
   "id": "32733cac",
   "metadata": {},
   "outputs": [
    {
     "data": {
      "text/latex": [
       "$\\displaystyle \\left[\\begin{matrix}S \\left(\\cos^{2}{\\left(\\frac{\\phi}{2} \\right)} - \\frac{1}{3}\\right) & S \\sin{\\left(\\frac{\\phi}{2} \\right)} \\cos{\\left(\\frac{\\phi}{2} \\right)} & 0\\\\S \\sin{\\left(\\frac{\\phi}{2} \\right)} \\cos{\\left(\\frac{\\phi}{2} \\right)} & S \\left(\\sin^{2}{\\left(\\frac{\\phi}{2} \\right)} - \\frac{1}{3}\\right) & 0\\\\0 & 0 & - \\frac{S}{3}\\end{matrix}\\right]$"
      ],
      "text/plain": [
       "[[S*(cos(phi/2)**2 - 1/3), S*sin(phi/2)*cos(phi/2), 0], [S*sin(phi/2)*cos(phi/2), S*(sin(phi/2)**2 - 1/3), 0], [0, 0, -S/3]]"
      ]
     },
     "metadata": {},
     "output_type": "display_data"
    }
   ],
   "source": [
    "d_ij = MyMArray(eye(3))\n",
    "\n",
    "S = symbols('S')\n",
    "Q_uni = S * (n@n - Rational(1, 3) * d_ij)\n",
    "\n",
    "display(Q_uni)"
   ]
  },
  {
   "cell_type": "code",
   "execution_count": 56,
   "id": "6538c45b",
   "metadata": {},
   "outputs": [
    {
     "data": {
      "text/latex": [
       "$\\displaystyle \\frac{S^{2} \\cdot \\left(108 A + 24 B S + 36 C S^{2}\\right)}{324}$"
      ],
      "text/plain": [
       "S**2*(108*A + 24*B*S + 36*C*S**2)/324"
      ]
     },
     "metadata": {},
     "output_type": "display_data"
    }
   ],
   "source": [
    "f_LdG = (Rational(1, 2) * A * Q_uni**Q_uni\n",
    "         + Rational(1, 3) * B * Q_uni ** (Q_uni * Q_uni)\n",
    "         + Rational(1, 4) * C * (Q_uni ** Q_uni)**2)\n",
    "f_LdG = simplify(f_LdG)\n",
    "display(f_LdG)"
   ]
  },
  {
   "cell_type": "code",
   "execution_count": 57,
   "id": "ebb6dee0",
   "metadata": {},
   "outputs": [
    {
     "data": {
      "text/latex": [
       "$\\displaystyle \\frac{2 S \\left(3 A + B S + 2 C S^{2}\\right)}{9}$"
      ],
      "text/plain": [
       "2*S*(3*A + B*S + 2*C*S**2)/9"
      ]
     },
     "metadata": {},
     "output_type": "display_data"
    }
   ],
   "source": [
    "df_dS = simplify( f_LdG.diff(S) )\n",
    "display(df_dS)"
   ]
  },
  {
   "cell_type": "code",
   "execution_count": 60,
   "id": "3fdd8044",
   "metadata": {},
   "outputs": [
    {
     "data": {
      "text/latex": [
       "$\\displaystyle \\frac{- B - \\sqrt{- 24 A C + B^{2}}}{4 C}$"
      ],
      "text/plain": [
       "(-B - sqrt(-24*A*C + B**2))/(4*C)"
      ]
     },
     "metadata": {},
     "output_type": "display_data"
    },
    {
     "data": {
      "text/latex": [
       "$\\displaystyle \\frac{- B + \\sqrt{- 24 A C + B^{2}}}{4 C}$"
      ],
      "text/plain": [
       "(-B + sqrt(-24*A*C + B**2))/(4*C)"
      ]
     },
     "metadata": {},
     "output_type": "display_data"
    }
   ],
   "source": [
    "sol = solve(df_dS / S, S)\n",
    "display(sol[0], sol[1])"
   ]
  },
  {
   "cell_type": "code",
   "execution_count": 63,
   "id": "7a7ab77c",
   "metadata": {},
   "outputs": [],
   "source": [
    "import math"
   ]
  },
  {
   "cell_type": "code",
   "execution_count": 68,
   "id": "6b1cac9f",
   "metadata": {},
   "outputs": [],
   "source": [
    "def calc_S_bulk(A, B, C):\n",
    "    return -B + math.sqrt(-24 * A * C + B**2) / C"
   ]
  },
  {
   "cell_type": "markdown",
   "id": "bcf45679",
   "metadata": {},
   "source": [
    "## Solving bvp numerically"
   ]
  },
  {
   "cell_type": "markdown",
   "id": "51e3784d",
   "metadata": {},
   "source": [
    "* First, need to rewrite as vector differential equation\n",
    "* Will be 4D to make it first order\n",
    "* Call $y = \\left[q_1, q_2, q_1', q_2'\\right]^T$\n",
    "* Call $f = \\begin{bmatrix}\n",
    "                q_1' \\\\ \n",
    "                q_2' \\\\\n",
    "                -\\frac{1}{r} q_1' \n",
    "                + \\frac{1}{2 r^2} (q_1 - q_2)\n",
    "                + A q_1 + B q_1^2 + C \\left( (q_1 + q_2)^2 + q_1^2 + q_2^2 \\right)q_1 \\\\\n",
    "                - \\frac{1}{r} q_2'\n",
    "                + \\frac{1}{2 r^2} (q_2 - q_1)\n",
    "                + A q_2 + B q_2^2 + C \\left( (q_1 + q_2)^2 + q_1^2 + q_2^2 \\right)q_2\n",
    "             \\end{bmatrix}$\n",
    "* Then $\\frac{dy}{dr} = f$"
   ]
  },
  {
   "cell_type": "markdown",
   "id": "e095f56a",
   "metadata": {},
   "source": [
    "* More explicitly:\n",
    "* $f = \\begin{bmatrix}\n",
    "            y_2 \\\\\n",
    "            y_3 \\\\\n",
    "            -\\frac{1}{x} y_3 \n",
    "            + \\frac{1}{2x^2} (y_0 - y_1)\n",
    "            + A y_0 + B y_0^2 + 2C (y_0^2 + y_1^2 + y_0 y_1) y_0 \\\\\n",
    "            -\\frac{1}{x} y_4 \n",
    "            + \\frac{1}{2x^2} (y_1 - y_0)\n",
    "            + A y_1 + B y_1^2 + 2C (y_0^2 + y_1^2 + y_0 y_1) y_1\n",
    "       \\end{bmatrix}$"
   ]
  },
  {
   "cell_type": "markdown",
   "id": "6548f80e",
   "metadata": {},
   "source": [
    "* Note: we want to solve this as an initial value problem, where we start at some far-away distance $x_0$ with values $q_1(x_0) = q_2(x_0) = S_\\text{bulk}$, and $q_1'(x_0) = q_2'(x_0) = 0$.\n",
    "* Thus we take $x \\to x_0 - x$. Making this substitution we get:\n",
    "* $f = \\begin{bmatrix}\n",
    "            y_2 \\\\\n",
    "            y_3 \\\\\n",
    "            -\\frac{1}{x - x_0} y_3 \n",
    "            + \\frac{1}{2(x - x_0)^2} (y_0 - y_1)\n",
    "            + A y_0 + B y_0^2 + 2C (y_0^2 + y_1^2 + y_0 y_1) y_0 \\\\\n",
    "            -\\frac{1}{x - x_0} y_4 \n",
    "            + \\frac{1}{2(x - x_0)^2} (y_1 - y_0)\n",
    "            + A y_1 + B y_1^2 + 2C (y_0^2 + y_1^2 + y_0 y_1) y_1\n",
    "       \\end{bmatrix}$"
   ]
  },
  {
   "cell_type": "code",
   "execution_count": 80,
   "id": "92a35983",
   "metadata": {},
   "outputs": [],
   "source": [
    "def fun(x, y, A, B, C, x0):\n",
    "    \n",
    "    dy = np.zeros(y.shape)\n",
    "    \n",
    "    dy[0] = y[2]\n",
    "    dy[1] = y[3]\n",
    "    dy[2] = (-1/(x - x0) * y[2] \n",
    "                + 1 / (2 * (x - x0)**2) * (y[0] - y[1])\n",
    "                + A * y[0] \n",
    "                + B * y[0]**2 \n",
    "                + 2 * C * (y[0]**2 + y[1]**2 + y[0] * y[1]) * y[0])\n",
    "    dy[3] = (-1/(x - x0) * y[3] \n",
    "                + 1 / (2 * (x - x0)**2) * (y[1] - y[0])\n",
    "                + A * y[1] \n",
    "                + B * y[1]**2 \n",
    "                + 2 * C * (y[0]**2 + y[1]**2 + y[0] * y[1]) * y[1])\n",
    "    \n",
    "    return dy"
   ]
  },
  {
   "cell_type": "code",
   "execution_count": 81,
   "id": "cd61939e",
   "metadata": {},
   "outputs": [],
   "source": [
    "from scipy.integrate import ode\n",
    "import numpy as np"
   ]
  },
  {
   "cell_type": "code",
   "execution_count": 84,
   "id": "9a746511",
   "metadata": {},
   "outputs": [],
   "source": [
    "A = -0.064\n",
    "B = -1.57\n",
    "C = 1.29\n",
    "\n",
    "S_bulk = calc_S_bulk(A, B, C)\n",
    "\n",
    "y0 = np.array([S_bulk, -0.5 * S_bulk, 0, 0])\n",
    "x0 = 0\n",
    "\n",
    "xf = 10\n",
    "dx = 0.1"
   ]
  },
  {
   "cell_type": "code",
   "execution_count": 85,
   "id": "fd3336b5",
   "metadata": {},
   "outputs": [
    {
     "name": "stdout",
     "output_type": "stream",
     "text": [
      "0.1 [ 3.45260402 -1.78992757  5.18596972 -3.92874114]\n",
      "0.2 [  4.35555175  -2.47685204  14.01087812 -10.69834232]\n",
      "0.30000000000000004 [  6.80828678  -4.36191149  41.56375953 -32.09530701]\n",
      "0.4 [  19.04418752  -13.87529147  357.92759826 -279.03856095]\n",
      "0.5 [ 4.79369822e+11 -3.74334668e+11  2.37622890e+23 -1.85557124e+23]\n"
     ]
    }
   ],
   "source": [
    "r = ode(fun)\n",
    "r.set_initial_value(y0, x0).set_f_params(A, B, C, xf)\n",
    "\n",
    "while r.successful() and r.t < xf:\n",
    "    print(r.t + dx, r.integrate(r.t + dx))"
   ]
  },
  {
   "cell_type": "code",
   "execution_count": null,
   "id": "be54bb3a",
   "metadata": {},
   "outputs": [],
   "source": []
  }
 ],
 "metadata": {
  "kernelspec": {
   "display_name": "Python 3 (ipykernel)",
   "language": "python",
   "name": "python3"
  },
  "language_info": {
   "codemirror_mode": {
    "name": "ipython",
    "version": 3
   },
   "file_extension": ".py",
   "mimetype": "text/x-python",
   "name": "python",
   "nbconvert_exporter": "python",
   "pygments_lexer": "ipython3",
   "version": "3.9.7"
  }
 },
 "nbformat": 4,
 "nbformat_minor": 5
}
