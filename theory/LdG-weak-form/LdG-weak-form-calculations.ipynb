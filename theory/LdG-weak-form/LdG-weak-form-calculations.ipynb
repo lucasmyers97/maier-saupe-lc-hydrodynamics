{
 "cells": [
  {
   "cell_type": "code",
   "execution_count": 1,
   "id": "9c83b8b1",
   "metadata": {},
   "outputs": [],
   "source": [
    "from sympy import *"
   ]
  },
  {
   "cell_type": "code",
   "execution_count": 20,
   "id": "24d5b268",
   "metadata": {},
   "outputs": [],
   "source": [
    "mat_dim = 3\n",
    "vec_dim = 5\n",
    "\n",
    "mat_lims = range(mat_dim)\n",
    "vec_lims = range(vec_dim)"
   ]
  },
  {
   "cell_type": "code",
   "execution_count": 2,
   "id": "df7a9079",
   "metadata": {},
   "outputs": [],
   "source": [
    "Q1, Q2, Q3, Q4, Q5 = symbols('Q_1 Q_2 Q_3 Q_4 Q_5')"
   ]
  },
  {
   "cell_type": "code",
   "execution_count": 6,
   "id": "bb6712f1",
   "metadata": {},
   "outputs": [],
   "source": [
    "Q_mat = Matrix([[Q1, Q2, Q3],\n",
    "                [Q2, Q4, Q5],\n",
    "                [Q3, Q5, -(Q1 + Q4)]])\n",
    "\n",
    "Q_vec = Matrix([Q1, Q2, Q3, Q4, Q5])"
   ]
  },
  {
   "cell_type": "code",
   "execution_count": 10,
   "id": "a53a4a14",
   "metadata": {},
   "outputs": [],
   "source": [
    "i = Matrix([0, 0, 0, 1, 1])\n",
    "j = Matrix([0, 1, 2, 1, 2])"
   ]
  },
  {
   "cell_type": "code",
   "execution_count": 89,
   "id": "1f2acbf7",
   "metadata": {},
   "outputs": [],
   "source": [
    "M = [[ [0] * mat_dim for _ in range(vec_dim)] for _ in range(mat_dim)]"
   ]
  },
  {
   "cell_type": "code",
   "execution_count": 90,
   "id": "07d20ebd",
   "metadata": {},
   "outputs": [],
   "source": [
    "for k in mat_lims:\n",
    "    for l in mat_lims:\n",
    "        for rho in vec_lims:\n",
    "            M[k][rho][l] = Q_mat[k, l].diff(Q_vec[rho])"
   ]
  },
  {
   "cell_type": "code",
   "execution_count": 91,
   "id": "e9b826f9",
   "metadata": {
    "scrolled": true
   },
   "outputs": [
    {
     "data": {
      "text/plain": [
       "[[[1, 0, 0], [0, 1, 0], [0, 0, 1], [0, 0, 0], [0, 0, 0]],\n",
       " [[0, 0, 0], [1, 0, 0], [0, 0, 0], [0, 1, 0], [0, 0, 1]],\n",
       " [[0, 0, -1], [0, 0, 0], [1, 0, 0], [0, 0, -1], [0, 1, 0]]]"
      ]
     },
     "execution_count": 91,
     "metadata": {},
     "output_type": "execute_result"
    }
   ],
   "source": [
    "M"
   ]
  },
  {
   "cell_type": "code",
   "execution_count": 92,
   "id": "e87fa6a2",
   "metadata": {},
   "outputs": [],
   "source": [
    "M = [[ [0] * vec_dim for _ in range(mat_dim)] for _ in range(mat_dim)]"
   ]
  },
  {
   "cell_type": "code",
   "execution_count": 107,
   "id": "70ff9ae8",
   "metadata": {},
   "outputs": [],
   "source": [
    "for k in mat_lims:\n",
    "    for l in mat_lims:\n",
    "        for rho in vec_lims:\n",
    "            M[k][l][rho] = Q_mat[k, l].diff(Q_vec[rho])"
   ]
  },
  {
   "cell_type": "code",
   "execution_count": 109,
   "id": "926d04a3",
   "metadata": {},
   "outputs": [
    {
     "data": {
      "text/latex": [
       "$\\displaystyle \\left[\\begin{matrix}Q_{1} & Q_{2} & Q_{3} & 0 & 0\\\\Q_{2} & Q_{4} & Q_{5} & 0 & 0\\\\Q_{3} & Q_{5} & - Q_{1} - Q_{4} & 0 & 0\\\\0 & Q_{2} & 0 & Q_{4} & Q_{5}\\\\0 & Q_{3} & 0 & Q_{5} & - Q_{1} - Q_{4}\\end{matrix}\\right]$"
      ],
      "text/plain": [
       "Matrix([\n",
       "[Q_1, Q_2,        Q_3,   0,          0],\n",
       "[Q_2, Q_4,        Q_5,   0,          0],\n",
       "[Q_3, Q_5, -Q_1 - Q_4,   0,          0],\n",
       "[  0, Q_2,          0, Q_4,        Q_5],\n",
       "[  0, Q_3,          0, Q_5, -Q_1 - Q_4]])"
      ]
     },
     "execution_count": 109,
     "metadata": {},
     "output_type": "execute_result"
    }
   ],
   "source": [
    "new_mat1 = zeros(vec_dim, vec_dim)\n",
    "for rho in vec_lims:\n",
    "    for sigma in vec_lims:\n",
    "        new_mat1[rho, sigma] = sum(M[i[rho]][m][sigma] * Q_mat[m, j[rho]] for m in mat_lims)\n",
    "            \n",
    "new_mat1"
   ]
  },
  {
   "cell_type": "code",
   "execution_count": 111,
   "id": "32ba9d60",
   "metadata": {},
   "outputs": [
    {
     "data": {
      "text/latex": [
       "$\\displaystyle \\left[\\begin{matrix}Q_{1} & Q_{2} & Q_{3} & 0 & 0\\\\0 & Q_{1} & 0 & Q_{2} & Q_{3}\\\\- Q_{3} & 0 & Q_{1} & - Q_{3} & Q_{2}\\\\0 & Q_{2} & 0 & Q_{4} & Q_{5}\\\\- Q_{5} & 0 & Q_{2} & - Q_{5} & Q_{4}\\end{matrix}\\right]$"
      ],
      "text/plain": [
       "Matrix([\n",
       "[ Q_1, Q_2, Q_3,    0,   0],\n",
       "[   0, Q_1,   0,  Q_2, Q_3],\n",
       "[-Q_3,   0, Q_1, -Q_3, Q_2],\n",
       "[   0, Q_2,   0,  Q_4, Q_5],\n",
       "[-Q_5,   0, Q_2, -Q_5, Q_4]])"
      ]
     },
     "execution_count": 111,
     "metadata": {},
     "output_type": "execute_result"
    }
   ],
   "source": [
    "new_mat2 = zeros(vec_dim, vec_dim)\n",
    "for rho in vec_lims:\n",
    "    for sigma in vec_lims:\n",
    "        new_mat2[rho, sigma] = sum(Q_mat[i[rho], m] * M[m][j[rho]][sigma] for m in mat_lims)\n",
    "            \n",
    "new_mat2"
   ]
  },
  {
   "cell_type": "code",
   "execution_count": 115,
   "id": "d7a1b813",
   "metadata": {},
   "outputs": [
    {
     "data": {
      "text/latex": [
       "$\\displaystyle \\left[\\begin{matrix}Q_{1} \\left(2 Q_{1} + Q_{4}\\right) & 2 Q_{1} Q_{2} & 2 Q_{1} Q_{3} & Q_{1} \\left(Q_{1} + 2 Q_{4}\\right) & 2 Q_{1} Q_{5}\\\\Q_{2} \\left(2 Q_{1} + Q_{4}\\right) & 2 Q_{2}^{2} & 2 Q_{2} Q_{3} & Q_{2} \\left(Q_{1} + 2 Q_{4}\\right) & 2 Q_{2} Q_{5}\\\\Q_{3} \\left(2 Q_{1} + Q_{4}\\right) & 2 Q_{2} Q_{3} & 2 Q_{3}^{2} & Q_{3} \\left(Q_{1} + 2 Q_{4}\\right) & 2 Q_{3} Q_{5}\\\\Q_{4} \\left(2 Q_{1} + Q_{4}\\right) & 2 Q_{2} Q_{4} & 2 Q_{3} Q_{4} & Q_{4} \\left(Q_{1} + 2 Q_{4}\\right) & 2 Q_{4} Q_{5}\\\\Q_{5} \\left(2 Q_{1} + Q_{4}\\right) & 2 Q_{2} Q_{5} & 2 Q_{3} Q_{5} & Q_{5} \\left(Q_{1} + 2 Q_{4}\\right) & 2 Q_{5}^{2}\\end{matrix}\\right]$"
      ],
      "text/plain": [
       "Matrix([\n",
       "[Q_1*(2*Q_1 + Q_4), 2*Q_1*Q_2, 2*Q_1*Q_3, Q_1*(Q_1 + 2*Q_4), 2*Q_1*Q_5],\n",
       "[Q_2*(2*Q_1 + Q_4),  2*Q_2**2, 2*Q_2*Q_3, Q_2*(Q_1 + 2*Q_4), 2*Q_2*Q_5],\n",
       "[Q_3*(2*Q_1 + Q_4), 2*Q_2*Q_3,  2*Q_3**2, Q_3*(Q_1 + 2*Q_4), 2*Q_3*Q_5],\n",
       "[Q_4*(2*Q_1 + Q_4), 2*Q_2*Q_4, 2*Q_3*Q_4, Q_4*(Q_1 + 2*Q_4), 2*Q_4*Q_5],\n",
       "[Q_5*(2*Q_1 + Q_4), 2*Q_2*Q_5, 2*Q_3*Q_5, Q_5*(Q_1 + 2*Q_4),  2*Q_5**2]])"
      ]
     },
     "execution_count": 115,
     "metadata": {},
     "output_type": "execute_result"
    }
   ],
   "source": [
    "new_mat3 = zeros(vec_dim, vec_dim)\n",
    "for rho in vec_lims:\n",
    "    for sigma in vec_lims:\n",
    "        new_mat3[rho, sigma] = sum(Q_vec[rho]*Q_mat[k, l]*M[k][l][sigma]\n",
    "                                   for k in mat_lims\n",
    "                                   for l in mat_lims)\n",
    "            \n",
    "new_mat3 = simplify(new_mat3)\n",
    "new_mat3"
   ]
  },
  {
   "cell_type": "code",
   "execution_count": 127,
   "id": "7c4f2990",
   "metadata": {},
   "outputs": [
    {
     "data": {
      "text/latex": [
       "$\\displaystyle \\left[\\begin{matrix}2 Q_{1} & 2 Q_{2} & 2 Q_{3} & 0 & 0\\\\Q_{2} & Q_{1} + Q_{4} & Q_{5} & Q_{2} & Q_{3}\\\\0 & Q_{5} & - Q_{4} & - Q_{3} & Q_{2}\\\\0 & 2 Q_{2} & 0 & 2 Q_{4} & 2 Q_{5}\\\\- Q_{5} & Q_{3} & Q_{2} & 0 & - Q_{1}\\end{matrix}\\right]$"
      ],
      "text/plain": [
       "Matrix([\n",
       "[2*Q_1,     2*Q_2, 2*Q_3,     0,     0],\n",
       "[  Q_2, Q_1 + Q_4,   Q_5,   Q_2,   Q_3],\n",
       "[    0,       Q_5,  -Q_4,  -Q_3,   Q_2],\n",
       "[    0,     2*Q_2,     0, 2*Q_4, 2*Q_5],\n",
       "[ -Q_5,       Q_3,   Q_2,     0,  -Q_1]])"
      ]
     },
     "execution_count": 127,
     "metadata": {},
     "output_type": "execute_result"
    }
   ],
   "source": [
    "B = simplify(new_mat1 + new_mat2)\n",
    "B"
   ]
  },
  {
   "cell_type": "code",
   "execution_count": 128,
   "id": "eee99c11",
   "metadata": {},
   "outputs": [
    {
     "name": "stdout",
     "output_type": "stream",
     "text": [
      "\\left[\\begin{matrix}2 Q_{1} & 2 Q_{2} & 2 Q_{3} & 0 & 0\\\\Q_{2} & Q_{1} + Q_{4} & Q_{5} & Q_{2} & Q_{3}\\\\0 & Q_{5} & - Q_{4} & - Q_{3} & Q_{2}\\\\0 & 2 Q_{2} & 0 & 2 Q_{4} & 2 Q_{5}\\\\- Q_{5} & Q_{3} & Q_{2} & 0 & - Q_{1}\\end{matrix}\\right]\n"
     ]
    }
   ],
   "source": [
    "print(latex(B))"
   ]
  },
  {
   "cell_type": "code",
   "execution_count": 122,
   "id": "3e5bcfeb",
   "metadata": {},
   "outputs": [],
   "source": [
    "big_sum = simplify(sum(Q_mat[k, l]*Q_mat[l, k]\n",
    "                       for k in mat_lims\n",
    "                       for l in mat_lims))"
   ]
  },
  {
   "cell_type": "code",
   "execution_count": 129,
   "id": "83f7d3bb",
   "metadata": {},
   "outputs": [
    {
     "data": {
      "text/latex": [
       "$\\displaystyle \\left[\\begin{matrix}Q_{1} \\left(2 Q_{1} + Q_{4}\\right) & 2 Q_{1} Q_{2} & 2 Q_{1} Q_{3} & Q_{1} \\left(Q_{1} + 2 Q_{4}\\right) & 2 Q_{1} Q_{5}\\\\Q_{2} \\left(2 Q_{1} + Q_{4}\\right) & 2 Q_{2}^{2} & 2 Q_{2} Q_{3} & Q_{2} \\left(Q_{1} + 2 Q_{4}\\right) & 2 Q_{2} Q_{5}\\\\Q_{3} \\left(2 Q_{1} + Q_{4}\\right) & 2 Q_{2} Q_{3} & 2 Q_{3}^{2} & Q_{3} \\left(Q_{1} + 2 Q_{4}\\right) & 2 Q_{3} Q_{5}\\\\Q_{4} \\left(2 Q_{1} + Q_{4}\\right) & 2 Q_{2} Q_{4} & 2 Q_{3} Q_{4} & Q_{4} \\left(Q_{1} + 2 Q_{4}\\right) & 2 Q_{4} Q_{5}\\\\Q_{5} \\left(2 Q_{1} + Q_{4}\\right) & 2 Q_{2} Q_{5} & 2 Q_{3} Q_{5} & Q_{5} \\left(Q_{1} + 2 Q_{4}\\right) & 2 Q_{5}^{2}\\end{matrix}\\right]$"
      ],
      "text/plain": [
       "Matrix([\n",
       "[Q_1*(2*Q_1 + Q_4), 2*Q_1*Q_2, 2*Q_1*Q_3, Q_1*(Q_1 + 2*Q_4), 2*Q_1*Q_5],\n",
       "[Q_2*(2*Q_1 + Q_4),  2*Q_2**2, 2*Q_2*Q_3, Q_2*(Q_1 + 2*Q_4), 2*Q_2*Q_5],\n",
       "[Q_3*(2*Q_1 + Q_4), 2*Q_2*Q_3,  2*Q_3**2, Q_3*(Q_1 + 2*Q_4), 2*Q_3*Q_5],\n",
       "[Q_4*(2*Q_1 + Q_4), 2*Q_2*Q_4, 2*Q_3*Q_4, Q_4*(Q_1 + 2*Q_4), 2*Q_4*Q_5],\n",
       "[Q_5*(2*Q_1 + Q_4), 2*Q_2*Q_5, 2*Q_3*Q_5, Q_5*(Q_1 + 2*Q_4),  2*Q_5**2]])"
      ]
     },
     "execution_count": 129,
     "metadata": {},
     "output_type": "execute_result"
    }
   ],
   "source": [
    "C = simplify(new_mat3)\n",
    "C"
   ]
  },
  {
   "cell_type": "code",
   "execution_count": 130,
   "id": "e931d224",
   "metadata": {},
   "outputs": [
    {
     "name": "stdout",
     "output_type": "stream",
     "text": [
      "\\left[\\begin{matrix}Q_{1} \\left(2 Q_{1} + Q_{4}\\right) & 2 Q_{1} Q_{2} & 2 Q_{1} Q_{3} & Q_{1} \\left(Q_{1} + 2 Q_{4}\\right) & 2 Q_{1} Q_{5}\\\\Q_{2} \\left(2 Q_{1} + Q_{4}\\right) & 2 Q_{2}^{2} & 2 Q_{2} Q_{3} & Q_{2} \\left(Q_{1} + 2 Q_{4}\\right) & 2 Q_{2} Q_{5}\\\\Q_{3} \\left(2 Q_{1} + Q_{4}\\right) & 2 Q_{2} Q_{3} & 2 Q_{3}^{2} & Q_{3} \\left(Q_{1} + 2 Q_{4}\\right) & 2 Q_{3} Q_{5}\\\\Q_{4} \\left(2 Q_{1} + Q_{4}\\right) & 2 Q_{2} Q_{4} & 2 Q_{3} Q_{4} & Q_{4} \\left(Q_{1} + 2 Q_{4}\\right) & 2 Q_{4} Q_{5}\\\\Q_{5} \\left(2 Q_{1} + Q_{4}\\right) & 2 Q_{2} Q_{5} & 2 Q_{3} Q_{5} & Q_{5} \\left(Q_{1} + 2 Q_{4}\\right) & 2 Q_{5}^{2}\\end{matrix}\\right]\n"
     ]
    }
   ],
   "source": [
    "print(latex(C))"
   ]
  },
  {
   "cell_type": "code",
   "execution_count": null,
   "id": "5c4ee76a",
   "metadata": {},
   "outputs": [],
   "source": []
  }
 ],
 "metadata": {
  "kernelspec": {
   "display_name": "Python 3",
   "language": "python",
   "name": "python3"
  },
  "language_info": {
   "codemirror_mode": {
    "name": "ipython",
    "version": 3
   },
   "file_extension": ".py",
   "mimetype": "text/x-python",
   "name": "python",
   "nbconvert_exporter": "python",
   "pygments_lexer": "ipython3",
   "version": "3.7.7"
  }
 },
 "nbformat": 4,
 "nbformat_minor": 5
}
