{
 "cells": [
  {
   "cell_type": "code",
   "execution_count": 1,
   "id": "af8503c7",
   "metadata": {},
   "outputs": [],
   "source": [
    "from sympy import *"
   ]
  },
  {
   "cell_type": "code",
   "execution_count": 18,
   "id": "7e055aa0",
   "metadata": {},
   "outputs": [
    {
     "data": {
      "text/latex": [
       "$\\displaystyle \\left[\\begin{matrix}\\frac{2 S}{3} & S \\epsilon \\sin{\\left(x \\right)} & 0\\\\S \\epsilon \\sin{\\left(x \\right)} & - \\frac{S}{3} & 0\\\\0 & 0 & - \\frac{S}{3}\\end{matrix}\\right]$"
      ],
      "text/plain": [
       "Matrix([\n",
       "[           2*S/3, S*epsilon*sin(x),    0],\n",
       "[S*epsilon*sin(x),             -S/3,    0],\n",
       "[               0,                0, -S/3]])"
      ]
     },
     "metadata": {},
     "output_type": "display_data"
    }
   ],
   "source": [
    "x, y, z = symbols('x y z', real=True)\n",
    "xi = Matrix([x, y, z])\n",
    "eps = symbols('epsilon', positive=True)\n",
    "S = symbols('S', real=True)\n",
    "\n",
    "n = Matrix([1, eps * sin(x), 0])\n",
    "Q_mat = zeros(3)\n",
    "delta = eye(3)\n",
    "for i in range(3):\n",
    "    for j in range(3):\n",
    "        Q_mat[i, j] = S * (n[i] * n[j] - Rational(1, 3) * delta[i, j])\n",
    "    \n",
    "Q_mat = Q_mat.replace(eps**2, 0)\n",
    "display(Q_mat)"
   ]
  },
  {
   "cell_type": "markdown",
   "id": "d32ac587",
   "metadata": {},
   "source": [
    "## Calculate $L_3$ terms which are different with our mistake"
   ]
  },
  {
   "cell_type": "code",
   "execution_count": 19,
   "id": "3d47ed62",
   "metadata": {},
   "outputs": [
    {
     "data": {
      "text/latex": [
       "$\\displaystyle \\left[\\begin{matrix}2 S^{2} \\epsilon^{2} \\cos^{2}{\\left(x \\right)} & 0 & 0\\\\0 & 0 & 0\\\\0 & 0 & 0\\end{matrix}\\right]$"
      ],
      "text/plain": [
       "Matrix([\n",
       "[2*S**2*epsilon**2*cos(x)**2, 0, 0],\n",
       "[                          0, 0, 0],\n",
       "[                          0, 0, 0]])"
      ]
     },
     "metadata": {},
     "output_type": "display_data"
    },
    {
     "data": {
      "text/latex": [
       "$\\displaystyle \\left[\\begin{matrix}S^{2} \\epsilon^{2} \\cos^{2}{\\left(x \\right)} & 0 & 0\\\\0 & 0 & 0\\\\0 & 0 & 0\\end{matrix}\\right]$"
      ],
      "text/plain": [
       "Matrix([\n",
       "[S**2*epsilon**2*cos(x)**2, 0, 0],\n",
       "[                        0, 0, 0],\n",
       "[                        0, 0, 0]])"
      ]
     },
     "metadata": {},
     "output_type": "display_data"
    }
   ],
   "source": [
    "term_1 = zeros(3)\n",
    "term_2 = zeros(3)\n",
    "\n",
    "for alpha in range(3):\n",
    "    for beta in range(3):\n",
    "        term_1[alpha, beta] = sum(Q_mat[i, j].diff(xi[alpha]) * Q_mat[i, j].diff(xi[beta])\n",
    "                                  for i in range(3)\n",
    "                                  for j in range(3)\n",
    "                                 )\n",
    "        term_2[alpha, beta] = sum(Q_mat[i, j].diff(xi[alpha]) * Q_mat[i, beta].diff(xi[j])\n",
    "                                  for i in range(3)\n",
    "                                  for j in range(3)\n",
    "                                 )\n",
    "        \n",
    "term_1 = simplify(term_1)\n",
    "term_2 = simplify(term_2)\n",
    "\n",
    "display(term_1)\n",
    "display(term_2)"
   ]
  },
  {
   "cell_type": "markdown",
   "id": "5fb220dd",
   "metadata": {},
   "source": [
    "## Calculate degree of freedom components"
   ]
  },
  {
   "cell_type": "code",
   "execution_count": 21,
   "id": "6d8b2833",
   "metadata": {},
   "outputs": [
    {
     "data": {
      "text/latex": [
       "$\\displaystyle \\left[\\begin{matrix}Q_{0}{\\left(x,y \\right)} & Q_{1}{\\left(x,y \\right)} & Q_{2}{\\left(x,y \\right)}\\\\Q_{1}{\\left(x,y \\right)} & Q_{3}{\\left(x,y \\right)} & Q_{4}{\\left(x,y \\right)}\\\\Q_{2}{\\left(x,y \\right)} & Q_{4}{\\left(x,y \\right)} & - Q_{0}{\\left(x,y \\right)} - Q_{3}{\\left(x,y \\right)}\\end{matrix}\\right]$"
      ],
      "text/plain": [
       "Matrix([\n",
       "[Q_0(x, y), Q_1(x, y),              Q_2(x, y)],\n",
       "[Q_1(x, y), Q_3(x, y),              Q_4(x, y)],\n",
       "[Q_2(x, y), Q_4(x, y), -Q_0(x, y) - Q_3(x, y)]])"
      ]
     },
     "metadata": {},
     "output_type": "display_data"
    }
   ],
   "source": [
    "Q_vec = Matrix([Function('Q_{}'.format(i))(x, y) for i in range(5)])\n",
    "Q_mat_arb = Matrix([[Q_vec[0], Q_vec[1], Q_vec[2]],\n",
    "                    [Q_vec[1], Q_vec[3], Q_vec[4]],\n",
    "                    [Q_vec[2], Q_vec[4], -(Q_vec[0] + Q_vec[3])]])\n",
    "\n",
    "display(Q_mat_arb)"
   ]
  },
  {
   "cell_type": "code",
   "execution_count": 22,
   "id": "bfd0afb2",
   "metadata": {},
   "outputs": [
    {
     "data": {
      "text/latex": [
       "$\\displaystyle \\left[\\begin{matrix}2 \\left(\\frac{\\partial}{\\partial x} Q_{0}{\\left(x,y \\right)}\\right)^{2} + 2 \\frac{\\partial}{\\partial x} Q_{0}{\\left(x,y \\right)} \\frac{\\partial}{\\partial x} Q_{3}{\\left(x,y \\right)} + 2 \\left(\\frac{\\partial}{\\partial x} Q_{1}{\\left(x,y \\right)}\\right)^{2} + 2 \\left(\\frac{\\partial}{\\partial x} Q_{2}{\\left(x,y \\right)}\\right)^{2} + 2 \\left(\\frac{\\partial}{\\partial x} Q_{3}{\\left(x,y \\right)}\\right)^{2} + 2 \\left(\\frac{\\partial}{\\partial x} Q_{4}{\\left(x,y \\right)}\\right)^{2} & \\left(\\frac{\\partial}{\\partial x} Q_{0}{\\left(x,y \\right)} + \\frac{\\partial}{\\partial x} Q_{3}{\\left(x,y \\right)}\\right) \\left(\\frac{\\partial}{\\partial y} Q_{0}{\\left(x,y \\right)} + \\frac{\\partial}{\\partial y} Q_{3}{\\left(x,y \\right)}\\right) + \\frac{\\partial}{\\partial x} Q_{0}{\\left(x,y \\right)} \\frac{\\partial}{\\partial y} Q_{0}{\\left(x,y \\right)} + 2 \\frac{\\partial}{\\partial x} Q_{1}{\\left(x,y \\right)} \\frac{\\partial}{\\partial y} Q_{1}{\\left(x,y \\right)} + 2 \\frac{\\partial}{\\partial x} Q_{2}{\\left(x,y \\right)} \\frac{\\partial}{\\partial y} Q_{2}{\\left(x,y \\right)} + \\frac{\\partial}{\\partial x} Q_{3}{\\left(x,y \\right)} \\frac{\\partial}{\\partial y} Q_{3}{\\left(x,y \\right)} + 2 \\frac{\\partial}{\\partial x} Q_{4}{\\left(x,y \\right)} \\frac{\\partial}{\\partial y} Q_{4}{\\left(x,y \\right)} & 0\\\\\\left(\\frac{\\partial}{\\partial x} Q_{0}{\\left(x,y \\right)} + \\frac{\\partial}{\\partial x} Q_{3}{\\left(x,y \\right)}\\right) \\left(\\frac{\\partial}{\\partial y} Q_{0}{\\left(x,y \\right)} + \\frac{\\partial}{\\partial y} Q_{3}{\\left(x,y \\right)}\\right) + \\frac{\\partial}{\\partial x} Q_{0}{\\left(x,y \\right)} \\frac{\\partial}{\\partial y} Q_{0}{\\left(x,y \\right)} + 2 \\frac{\\partial}{\\partial x} Q_{1}{\\left(x,y \\right)} \\frac{\\partial}{\\partial y} Q_{1}{\\left(x,y \\right)} + 2 \\frac{\\partial}{\\partial x} Q_{2}{\\left(x,y \\right)} \\frac{\\partial}{\\partial y} Q_{2}{\\left(x,y \\right)} + \\frac{\\partial}{\\partial x} Q_{3}{\\left(x,y \\right)} \\frac{\\partial}{\\partial y} Q_{3}{\\left(x,y \\right)} + 2 \\frac{\\partial}{\\partial x} Q_{4}{\\left(x,y \\right)} \\frac{\\partial}{\\partial y} Q_{4}{\\left(x,y \\right)} & 2 \\left(\\frac{\\partial}{\\partial y} Q_{0}{\\left(x,y \\right)}\\right)^{2} + 2 \\frac{\\partial}{\\partial y} Q_{0}{\\left(x,y \\right)} \\frac{\\partial}{\\partial y} Q_{3}{\\left(x,y \\right)} + 2 \\left(\\frac{\\partial}{\\partial y} Q_{1}{\\left(x,y \\right)}\\right)^{2} + 2 \\left(\\frac{\\partial}{\\partial y} Q_{2}{\\left(x,y \\right)}\\right)^{2} + 2 \\left(\\frac{\\partial}{\\partial y} Q_{3}{\\left(x,y \\right)}\\right)^{2} + 2 \\left(\\frac{\\partial}{\\partial y} Q_{4}{\\left(x,y \\right)}\\right)^{2} & 0\\\\0 & 0 & 0\\end{matrix}\\right]$"
      ],
      "text/plain": [
       "Matrix([\n",
       "[                                                                                                                                                                  2*Derivative(Q_0(x, y), x)**2 + 2*Derivative(Q_0(x, y), x)*Derivative(Q_3(x, y), x) + 2*Derivative(Q_1(x, y), x)**2 + 2*Derivative(Q_2(x, y), x)**2 + 2*Derivative(Q_3(x, y), x)**2 + 2*Derivative(Q_4(x, y), x)**2, (Derivative(Q_0(x, y), x) + Derivative(Q_3(x, y), x))*(Derivative(Q_0(x, y), y) + Derivative(Q_3(x, y), y)) + Derivative(Q_0(x, y), x)*Derivative(Q_0(x, y), y) + 2*Derivative(Q_1(x, y), x)*Derivative(Q_1(x, y), y) + 2*Derivative(Q_2(x, y), x)*Derivative(Q_2(x, y), y) + Derivative(Q_3(x, y), x)*Derivative(Q_3(x, y), y) + 2*Derivative(Q_4(x, y), x)*Derivative(Q_4(x, y), y), 0],\n",
       "[(Derivative(Q_0(x, y), x) + Derivative(Q_3(x, y), x))*(Derivative(Q_0(x, y), y) + Derivative(Q_3(x, y), y)) + Derivative(Q_0(x, y), x)*Derivative(Q_0(x, y), y) + 2*Derivative(Q_1(x, y), x)*Derivative(Q_1(x, y), y) + 2*Derivative(Q_2(x, y), x)*Derivative(Q_2(x, y), y) + Derivative(Q_3(x, y), x)*Derivative(Q_3(x, y), y) + 2*Derivative(Q_4(x, y), x)*Derivative(Q_4(x, y), y),                                                                                                                                                                   2*Derivative(Q_0(x, y), y)**2 + 2*Derivative(Q_0(x, y), y)*Derivative(Q_3(x, y), y) + 2*Derivative(Q_1(x, y), y)**2 + 2*Derivative(Q_2(x, y), y)**2 + 2*Derivative(Q_3(x, y), y)**2 + 2*Derivative(Q_4(x, y), y)**2, 0],\n",
       "[                                                                                                                                                                                                                                                                                                                                                                                    0,                                                                                                                                                                                                                                                                                                                                                                                     0, 0]])"
      ]
     },
     "metadata": {},
     "output_type": "display_data"
    },
    {
     "data": {
      "text/latex": [
       "$\\displaystyle \\left[\\begin{matrix}\\left(\\frac{\\partial}{\\partial x} Q_{0}{\\left(x,y \\right)}\\right)^{2} + \\frac{\\partial}{\\partial y} Q_{0}{\\left(x,y \\right)} \\frac{\\partial}{\\partial x} Q_{1}{\\left(x,y \\right)} + \\left(\\frac{\\partial}{\\partial x} Q_{1}{\\left(x,y \\right)}\\right)^{2} + \\frac{\\partial}{\\partial y} Q_{1}{\\left(x,y \\right)} \\frac{\\partial}{\\partial x} Q_{3}{\\left(x,y \\right)} + \\left(\\frac{\\partial}{\\partial x} Q_{2}{\\left(x,y \\right)}\\right)^{2} + \\frac{\\partial}{\\partial y} Q_{2}{\\left(x,y \\right)} \\frac{\\partial}{\\partial x} Q_{4}{\\left(x,y \\right)} & \\frac{\\partial}{\\partial x} Q_{0}{\\left(x,y \\right)} \\frac{\\partial}{\\partial x} Q_{1}{\\left(x,y \\right)} + \\frac{\\partial}{\\partial x} Q_{1}{\\left(x,y \\right)} \\frac{\\partial}{\\partial y} Q_{1}{\\left(x,y \\right)} + \\frac{\\partial}{\\partial x} Q_{1}{\\left(x,y \\right)} \\frac{\\partial}{\\partial x} Q_{3}{\\left(x,y \\right)} + \\frac{\\partial}{\\partial x} Q_{2}{\\left(x,y \\right)} \\frac{\\partial}{\\partial x} Q_{4}{\\left(x,y \\right)} + \\frac{\\partial}{\\partial x} Q_{3}{\\left(x,y \\right)} \\frac{\\partial}{\\partial y} Q_{3}{\\left(x,y \\right)} + \\frac{\\partial}{\\partial x} Q_{4}{\\left(x,y \\right)} \\frac{\\partial}{\\partial y} Q_{4}{\\left(x,y \\right)} & - \\frac{\\partial}{\\partial y} Q_{0}{\\left(x,y \\right)} \\frac{\\partial}{\\partial x} Q_{4}{\\left(x,y \\right)} + \\frac{\\partial}{\\partial x} Q_{1}{\\left(x,y \\right)} \\frac{\\partial}{\\partial y} Q_{2}{\\left(x,y \\right)} + \\frac{\\partial}{\\partial x} Q_{1}{\\left(x,y \\right)} \\frac{\\partial}{\\partial x} Q_{4}{\\left(x,y \\right)} - \\frac{\\partial}{\\partial x} Q_{2}{\\left(x,y \\right)} \\frac{\\partial}{\\partial x} Q_{3}{\\left(x,y \\right)} + \\frac{\\partial}{\\partial x} Q_{3}{\\left(x,y \\right)} \\frac{\\partial}{\\partial y} Q_{4}{\\left(x,y \\right)} - \\frac{\\partial}{\\partial y} Q_{3}{\\left(x,y \\right)} \\frac{\\partial}{\\partial x} Q_{4}{\\left(x,y \\right)}\\\\\\frac{\\partial}{\\partial x} Q_{0}{\\left(x,y \\right)} \\frac{\\partial}{\\partial y} Q_{0}{\\left(x,y \\right)} + \\frac{\\partial}{\\partial y} Q_{0}{\\left(x,y \\right)} \\frac{\\partial}{\\partial y} Q_{1}{\\left(x,y \\right)} + \\frac{\\partial}{\\partial x} Q_{1}{\\left(x,y \\right)} \\frac{\\partial}{\\partial y} Q_{1}{\\left(x,y \\right)} + \\frac{\\partial}{\\partial y} Q_{1}{\\left(x,y \\right)} \\frac{\\partial}{\\partial y} Q_{3}{\\left(x,y \\right)} + \\frac{\\partial}{\\partial x} Q_{2}{\\left(x,y \\right)} \\frac{\\partial}{\\partial y} Q_{2}{\\left(x,y \\right)} + \\frac{\\partial}{\\partial y} Q_{2}{\\left(x,y \\right)} \\frac{\\partial}{\\partial y} Q_{4}{\\left(x,y \\right)} & \\frac{\\partial}{\\partial y} Q_{0}{\\left(x,y \\right)} \\frac{\\partial}{\\partial x} Q_{1}{\\left(x,y \\right)} + \\left(\\frac{\\partial}{\\partial y} Q_{1}{\\left(x,y \\right)}\\right)^{2} + \\frac{\\partial}{\\partial y} Q_{1}{\\left(x,y \\right)} \\frac{\\partial}{\\partial x} Q_{3}{\\left(x,y \\right)} + \\frac{\\partial}{\\partial y} Q_{2}{\\left(x,y \\right)} \\frac{\\partial}{\\partial x} Q_{4}{\\left(x,y \\right)} + \\left(\\frac{\\partial}{\\partial y} Q_{3}{\\left(x,y \\right)}\\right)^{2} + \\left(\\frac{\\partial}{\\partial y} Q_{4}{\\left(x,y \\right)}\\right)^{2} & - \\frac{\\partial}{\\partial x} Q_{0}{\\left(x,y \\right)} \\frac{\\partial}{\\partial y} Q_{2}{\\left(x,y \\right)} + \\frac{\\partial}{\\partial y} Q_{0}{\\left(x,y \\right)} \\frac{\\partial}{\\partial x} Q_{2}{\\left(x,y \\right)} - \\frac{\\partial}{\\partial y} Q_{0}{\\left(x,y \\right)} \\frac{\\partial}{\\partial y} Q_{4}{\\left(x,y \\right)} + \\frac{\\partial}{\\partial y} Q_{1}{\\left(x,y \\right)} \\frac{\\partial}{\\partial y} Q_{2}{\\left(x,y \\right)} + \\frac{\\partial}{\\partial y} Q_{1}{\\left(x,y \\right)} \\frac{\\partial}{\\partial x} Q_{4}{\\left(x,y \\right)} - \\frac{\\partial}{\\partial y} Q_{2}{\\left(x,y \\right)} \\frac{\\partial}{\\partial x} Q_{3}{\\left(x,y \\right)}\\\\0 & 0 & 0\\end{matrix}\\right]$"
      ],
      "text/plain": [
       "Matrix([\n",
       "[                                                                  Derivative(Q_0(x, y), x)**2 + Derivative(Q_0(x, y), y)*Derivative(Q_1(x, y), x) + Derivative(Q_1(x, y), x)**2 + Derivative(Q_1(x, y), y)*Derivative(Q_3(x, y), x) + Derivative(Q_2(x, y), x)**2 + Derivative(Q_2(x, y), y)*Derivative(Q_4(x, y), x), Derivative(Q_0(x, y), x)*Derivative(Q_1(x, y), x) + Derivative(Q_1(x, y), x)*Derivative(Q_1(x, y), y) + Derivative(Q_1(x, y), x)*Derivative(Q_3(x, y), x) + Derivative(Q_2(x, y), x)*Derivative(Q_4(x, y), x) + Derivative(Q_3(x, y), x)*Derivative(Q_3(x, y), y) + Derivative(Q_4(x, y), x)*Derivative(Q_4(x, y), y), -Derivative(Q_0(x, y), y)*Derivative(Q_4(x, y), x) + Derivative(Q_1(x, y), x)*Derivative(Q_2(x, y), y) + Derivative(Q_1(x, y), x)*Derivative(Q_4(x, y), x) - Derivative(Q_2(x, y), x)*Derivative(Q_3(x, y), x) + Derivative(Q_3(x, y), x)*Derivative(Q_4(x, y), y) - Derivative(Q_3(x, y), y)*Derivative(Q_4(x, y), x)],\n",
       "[Derivative(Q_0(x, y), x)*Derivative(Q_0(x, y), y) + Derivative(Q_0(x, y), y)*Derivative(Q_1(x, y), y) + Derivative(Q_1(x, y), x)*Derivative(Q_1(x, y), y) + Derivative(Q_1(x, y), y)*Derivative(Q_3(x, y), y) + Derivative(Q_2(x, y), x)*Derivative(Q_2(x, y), y) + Derivative(Q_2(x, y), y)*Derivative(Q_4(x, y), y),                                                                   Derivative(Q_0(x, y), y)*Derivative(Q_1(x, y), x) + Derivative(Q_1(x, y), y)**2 + Derivative(Q_1(x, y), y)*Derivative(Q_3(x, y), x) + Derivative(Q_2(x, y), y)*Derivative(Q_4(x, y), x) + Derivative(Q_3(x, y), y)**2 + Derivative(Q_4(x, y), y)**2, -Derivative(Q_0(x, y), x)*Derivative(Q_2(x, y), y) + Derivative(Q_0(x, y), y)*Derivative(Q_2(x, y), x) - Derivative(Q_0(x, y), y)*Derivative(Q_4(x, y), y) + Derivative(Q_1(x, y), y)*Derivative(Q_2(x, y), y) + Derivative(Q_1(x, y), y)*Derivative(Q_4(x, y), x) - Derivative(Q_2(x, y), y)*Derivative(Q_3(x, y), x)],\n",
       "[                                                                                                                                                                                                                                                                                                                    0,                                                                                                                                                                                                                                                                                                                     0,                                                                                                                                                                                                                                                                                                                      0]])"
      ]
     },
     "metadata": {},
     "output_type": "display_data"
    }
   ],
   "source": [
    "term_1_arb = zeros(3)\n",
    "term_2_arb = zeros(3)\n",
    "\n",
    "for alpha in range(3):\n",
    "    for beta in range(3):\n",
    "        term_1_arb[alpha, beta] = sum(Q_mat_arb[i, j].diff(xi[alpha]) * Q_mat_arb[i, j].diff(xi[beta])\n",
    "                                      for i in range(3)\n",
    "                                      for j in range(3)\n",
    "                                     )\n",
    "        term_2_arb[alpha, beta] = sum(Q_mat_arb[i, j].diff(xi[alpha]) * Q_mat_arb[i, beta].diff(xi[j])\n",
    "                                      for i in range(3)\n",
    "                                      for j in range(3)\n",
    "                                     )\n",
    "        \n",
    "term_1_arb = simplify(term_1_arb)\n",
    "term_2_arb = simplify(term_2_arb)\n",
    "\n",
    "display(term_1_arb)\n",
    "display(term_2_arb)"
   ]
  },
  {
   "cell_type": "code",
   "execution_count": null,
   "id": "0550ec0c",
   "metadata": {},
   "outputs": [],
   "source": []
  }
 ],
 "metadata": {
  "kernelspec": {
   "display_name": "Python 3 (ipykernel)",
   "language": "python",
   "name": "python3"
  },
  "language_info": {
   "codemirror_mode": {
    "name": "ipython",
    "version": 3
   },
   "file_extension": ".py",
   "mimetype": "text/x-python",
   "name": "python",
   "nbconvert_exporter": "python",
   "pygments_lexer": "ipython3",
   "version": "3.9.7"
  }
 },
 "nbformat": 4,
 "nbformat_minor": 5
}
